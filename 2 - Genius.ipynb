{
 "cells": [
  {
   "cell_type": "markdown",
   "metadata": {},
   "source": [
    "Again, make sure that the imported packages here are actually relevant to this section."
   ]
  },
  {
   "cell_type": "code",
   "execution_count": 1,
   "metadata": {},
   "outputs": [],
   "source": [
    "import requests\n",
    "import urllib.request, urllib.parse\n",
    "import json\n",
    "from pprint import pprint\n",
    "from bs4 import BeautifulSoup\n",
    "import re\n",
    "from tqdm import tqdm\n",
    "import numpy as np\n",
    "import pandas as pd\n",
    "from time import time"
   ]
  },
  {
   "cell_type": "markdown",
   "metadata": {},
   "source": [
    "url formats for genius API requests:\n",
    "\n",
    "Song: https://api.genius.com/songs/[song_api_id]  \n",
    "Artist: https://api.genius.com/artists/[artist_api_id]  \n",
    "Search: https://api.genius.com/search?q=[search_term]"
   ]
  },
  {
   "cell_type": "code",
   "execution_count": 2,
   "metadata": {},
   "outputs": [],
   "source": [
    "client_access_token = 'GNQKuuEfZCQ2zcB7axX9IXBr3Q_DQsm08Grhqz9UXx7vKz4yJYYMvLHHVYCALm0x'"
   ]
  },
  {
   "cell_type": "code",
   "execution_count": null,
   "metadata": {},
   "outputs": [],
   "source": []
  },
  {
   "cell_type": "code",
   "execution_count": null,
   "metadata": {},
   "outputs": [],
   "source": []
  },
  {
   "cell_type": "code",
   "execution_count": 5,
   "metadata": {},
   "outputs": [],
   "source": [
    "# do i need this?\n",
    "\n",
    "params = {'access_token':'GNQKuuEfZCQ2zcB7axX9IXBr3Q_DQsm08Grhqz9UXx7vKz4yJYYMvLHHVYCALm0x',\n",
    "         'client_id':'Csa2S0VYHtT1lwuGTMaEmIt-2aa8gKh3386Hy7Ld-GGjhVTRam4wcgUfHJEpFmfb'}"
   ]
  },
  {
   "cell_type": "code",
   "execution_count": null,
   "metadata": {},
   "outputs": [],
   "source": []
  },
  {
   "cell_type": "code",
   "execution_count": null,
   "metadata": {},
   "outputs": [],
   "source": []
  },
  {
   "cell_type": "code",
   "execution_count": null,
   "metadata": {},
   "outputs": [],
   "source": []
  },
  {
   "cell_type": "code",
   "execution_count": 6,
   "metadata": {},
   "outputs": [],
   "source": [
    "full_song_dict_east = json.load(open('full_song_dict_east_HUGE.json'))\n",
    "rappers_east = list(full_song_dict_east.keys())\n",
    "\n",
    "full_song_dict_west = json.load(open('full_song_dict_west_HUGE.json'))\n",
    "rappers_west = list(full_song_dict_west.keys())"
   ]
  },
  {
   "cell_type": "code",
   "execution_count": null,
   "metadata": {},
   "outputs": [],
   "source": []
  },
  {
   "cell_type": "code",
   "execution_count": 1,
   "metadata": {},
   "outputs": [],
   "source": [
    "##### WEST #####"
   ]
  },
  {
   "cell_type": "code",
   "execution_count": null,
   "metadata": {},
   "outputs": [],
   "source": [
    "# have to explain why there's the counter --- why is it that sometimes the scrape doesn't work first time?"
   ]
  },
  {
   "cell_type": "code",
   "execution_count": 7,
   "metadata": {},
   "outputs": [
    {
     "name": "stderr",
     "output_type": "stream",
     "text": [
      "  0%|          | 0/41 [00:00<?, ?it/s]\n",
      "  0%|          | 0/20 [00:00<?, ?it/s]\u001b[A\n",
      "  5%|▌         | 1/20 [00:01<00:31,  1.67s/it]\u001b[A\n",
      " 10%|█         | 2/20 [00:02<00:24,  1.35s/it]\u001b[A\n",
      " 15%|█▌        | 3/20 [00:05<00:30,  1.82s/it]\u001b[A"
     ]
    },
    {
     "name": "stdout",
     "output_type": "stream",
     "text": [
      "attribute error:\n",
      "'NoneType' object has no attribute 'text'\n"
     ]
    },
    {
     "name": "stderr",
     "output_type": "stream",
     "text": [
      "\n",
      " 20%|██        | 4/20 [00:06<00:27,  1.69s/it]\u001b[A"
     ]
    },
    {
     "name": "stdout",
     "output_type": "stream",
     "text": [
      "attribute error:\n",
      "'NoneType' object has no attribute 'text'\n"
     ]
    },
    {
     "name": "stderr",
     "output_type": "stream",
     "text": [
      "\n",
      " 25%|██▌       | 5/20 [00:07<00:20,  1.37s/it]\u001b[A\n",
      " 30%|███       | 6/20 [00:10<00:26,  1.92s/it]\u001b[A\n",
      " 35%|███▌      | 7/20 [00:12<00:24,  1.89s/it]\u001b[A\n",
      " 40%|████      | 8/20 [00:14<00:25,  2.12s/it]\u001b[A\n",
      " 45%|████▌     | 9/20 [00:17<00:23,  2.17s/it]\u001b[A\n",
      " 50%|█████     | 10/20 [00:19<00:22,  2.28s/it]\u001b[A\n",
      " 55%|█████▌    | 11/20 [00:21<00:20,  2.27s/it]\u001b[A\n",
      " 60%|██████    | 12/20 [00:24<00:18,  2.35s/it]\u001b[A\n",
      " 65%|██████▌   | 13/20 [00:29<00:22,  3.19s/it]\u001b[A\n",
      " 70%|███████   | 14/20 [00:31<00:17,  2.84s/it]\u001b[A\n",
      " 75%|███████▌  | 15/20 [00:34<00:13,  2.72s/it]\u001b[A\n",
      " 80%|████████  | 16/20 [00:37<00:11,  2.87s/it]\u001b[A\n",
      " 85%|████████▌ | 17/20 [00:38<00:06,  2.22s/it]\u001b[A\n",
      " 90%|█████████ | 18/20 [00:39<00:04,  2.12s/it]\u001b[A\n",
      " 95%|█████████▌| 19/20 [00:43<00:02,  2.68s/it]\u001b[A\n",
      "100%|██████████| 20/20 [00:44<00:00,  2.23s/it]\u001b[A\n",
      "\n",
      "  0%|          | 0/20 [00:00<?, ?it/s]\u001b[A\n",
      "  5%|▌         | 1/20 [00:03<01:01,  3.23s/it]\u001b[A\n",
      " 10%|█         | 2/20 [00:05<00:53,  2.99s/it]\u001b[A\n",
      " 15%|█▌        | 3/20 [00:06<00:39,  2.30s/it]\u001b[A\n",
      " 20%|██        | 4/20 [00:08<00:35,  2.21s/it]\u001b[A\n",
      " 25%|██▌       | 5/20 [00:11<00:37,  2.51s/it]\u001b[A\n",
      " 30%|███       | 6/20 [00:13<00:33,  2.36s/it]\u001b[A\n",
      " 35%|███▌      | 7/20 [00:16<00:33,  2.56s/it]\u001b[A\n",
      " 40%|████      | 8/20 [00:17<00:26,  2.20s/it]\u001b[A\n",
      " 45%|████▌     | 9/20 [00:20<00:25,  2.28s/it]\u001b[A\n",
      " 50%|█████     | 10/20 [00:25<00:30,  3.08s/it]\u001b[A\n",
      " 55%|█████▌    | 11/20 [00:26<00:21,  2.36s/it]\u001b[A\n",
      " 60%|██████    | 12/20 [00:28<00:18,  2.34s/it]\u001b[A\n",
      " 65%|██████▌   | 13/20 [00:30<00:16,  2.37s/it]\u001b[A\n",
      " 70%|███████   | 14/20 [00:33<00:14,  2.47s/it]\u001b[A\n",
      " 75%|███████▌  | 15/20 [00:35<00:11,  2.35s/it]\u001b[A\n",
      " 80%|████████  | 16/20 [00:37<00:09,  2.35s/it]\u001b[A\n",
      " 85%|████████▌ | 17/20 [00:39<00:06,  2.09s/it]\u001b[A"
     ]
    },
    {
     "name": "stdout",
     "output_type": "stream",
     "text": [
      "attribute error:\n",
      "'NoneType' object has no attribute 'text'\n"
     ]
    },
    {
     "name": "stderr",
     "output_type": "stream",
     "text": [
      "\n",
      " 90%|█████████ | 18/20 [00:42<00:04,  2.35s/it]\u001b[A"
     ]
    },
    {
     "name": "stdout",
     "output_type": "stream",
     "text": [
      "attribute error:\n",
      "'NoneType' object has no attribute 'text'\n"
     ]
    },
    {
     "name": "stderr",
     "output_type": "stream",
     "text": [
      "\n",
      " 95%|█████████▌| 19/20 [00:44<00:02,  2.15s/it]\u001b[A\n",
      "100%|██████████| 20/20 [00:44<00:00,  2.24s/it]\u001b[A\n",
      "\n",
      "  0%|          | 0/15 [00:00<?, ?it/s]\u001b[A\n",
      "  7%|▋         | 1/15 [00:00<00:12,  1.10it/s]\u001b[A\n",
      " 13%|█▎        | 2/15 [00:01<00:11,  1.18it/s]\u001b[A\n",
      " 20%|██        | 3/15 [00:05<00:19,  1.62s/it]\u001b[A\n",
      " 27%|██▋       | 4/15 [00:05<00:14,  1.34s/it]\u001b[A\n",
      " 33%|███▎      | 5/15 [00:07<00:15,  1.51s/it]\u001b[A\n",
      " 40%|████      | 6/15 [00:09<00:14,  1.63s/it]\u001b[A\n",
      " 47%|████▋     | 7/15 [00:11<00:13,  1.71s/it]\u001b[A\n",
      " 53%|█████▎    | 8/15 [00:14<00:14,  2.09s/it]\u001b[A\n",
      " 60%|██████    | 9/15 [00:18<00:16,  2.81s/it]\u001b[A\n",
      " 67%|██████▋   | 10/15 [00:20<00:12,  2.56s/it]\u001b[A\n",
      " 73%|███████▎  | 11/15 [00:25<00:12,  3.20s/it]\u001b[A\n",
      " 80%|████████  | 12/15 [00:26<00:07,  2.64s/it]\u001b[A"
     ]
    },
    {
     "name": "stdout",
     "output_type": "stream",
     "text": [
      "attribute error:\n",
      "'NoneType' object has no attribute 'text'\n"
     ]
    },
    {
     "name": "stderr",
     "output_type": "stream",
     "text": [
      "\n",
      " 87%|████████▋ | 13/15 [00:28<00:04,  2.40s/it]\u001b[A\n",
      " 93%|█████████▎| 14/15 [00:29<00:01,  1.90s/it]\u001b[A\n",
      "100%|██████████| 15/15 [00:33<00:00,  2.23s/it]\u001b[A\n",
      "\n",
      "  0%|          | 0/16 [00:00<?, ?it/s]\u001b[A\n",
      "  6%|▋         | 1/16 [00:02<00:39,  2.60s/it]\u001b[A"
     ]
    },
    {
     "name": "stdout",
     "output_type": "stream",
     "text": [
      "attribute error:\n",
      "'NoneType' object has no attribute 'text'\n"
     ]
    },
    {
     "name": "stderr",
     "output_type": "stream",
     "text": [
      "\n",
      " 12%|█▎        | 2/16 [00:05<00:36,  2.64s/it]\u001b[A\n",
      " 19%|█▉        | 3/16 [00:08<00:35,  2.77s/it]\u001b[A\n",
      " 25%|██▌       | 4/16 [00:10<00:30,  2.58s/it]\u001b[A\n",
      " 31%|███▏      | 5/16 [00:13<00:28,  2.60s/it]\u001b[A\n",
      " 38%|███▊      | 6/16 [00:14<00:22,  2.29s/it]\u001b[A\n",
      " 44%|████▍     | 7/16 [00:15<00:16,  1.81s/it]\u001b[A\n",
      " 50%|█████     | 8/16 [00:17<00:14,  1.86s/it]\u001b[A\n",
      " 56%|█████▋    | 9/16 [00:19<00:14,  2.00s/it]\u001b[A"
     ]
    },
    {
     "name": "stdout",
     "output_type": "stream",
     "text": [
      "attribute error:\n",
      "'NoneType' object has no attribute 'text'\n"
     ]
    },
    {
     "name": "stderr",
     "output_type": "stream",
     "text": [
      "\n",
      " 62%|██████▎   | 10/16 [00:21<00:11,  1.86s/it]\u001b[A\n",
      " 69%|██████▉   | 11/16 [00:25<00:12,  2.54s/it]\u001b[A\n",
      " 75%|███████▌  | 12/16 [00:27<00:09,  2.35s/it]\u001b[A\n",
      " 81%|████████▏ | 13/16 [00:29<00:06,  2.18s/it]\u001b[A\n",
      " 88%|████████▊ | 14/16 [00:31<00:04,  2.21s/it]\u001b[A\n",
      " 94%|█████████▍| 15/16 [00:33<00:02,  2.04s/it]\u001b[A\n",
      "100%|██████████| 16/16 [00:35<00:00,  2.24s/it]\u001b[A\n",
      "\n",
      "  0%|          | 0/13 [00:00<?, ?it/s]\u001b[A\n",
      "  8%|▊         | 1/13 [00:01<00:19,  1.60s/it]\u001b[A\n",
      " 15%|█▌        | 2/13 [00:03<00:19,  1.74s/it]\u001b[A\n",
      " 23%|██▎       | 3/13 [00:05<00:18,  1.80s/it]\u001b[A\n",
      " 31%|███       | 4/13 [00:10<00:24,  2.70s/it]\u001b[A\n",
      " 38%|███▊      | 5/13 [00:12<00:20,  2.60s/it]\u001b[A\n",
      " 46%|████▌     | 6/13 [00:16<00:20,  2.95s/it]\u001b[A\n",
      " 54%|█████▍    | 7/13 [00:18<00:16,  2.77s/it]\u001b[A\n",
      " 62%|██████▏   | 8/13 [00:22<00:14,  2.89s/it]\u001b[A\n",
      " 69%|██████▉   | 9/13 [00:23<00:09,  2.49s/it]\u001b[A"
     ]
    },
    {
     "name": "stdout",
     "output_type": "stream",
     "text": [
      "attribute error:\n",
      "'NoneType' object has no attribute 'text'\n"
     ]
    },
    {
     "name": "stderr",
     "output_type": "stream",
     "text": [
      "\n",
      " 77%|███████▋  | 10/13 [00:26<00:07,  2.55s/it]\u001b[A\n",
      " 85%|████████▍ | 11/13 [00:29<00:05,  2.85s/it]\u001b[A\n",
      " 92%|█████████▏| 12/13 [00:33<00:03,  3.20s/it]\u001b[A\n",
      "100%|██████████| 13/13 [00:36<00:00,  2.79s/it]\u001b[A\n",
      "  2%|▏         | 1/41 [03:15<2:10:00, 195.00s/it]\n",
      "  0%|          | 0/18 [00:00<?, ?it/s]\u001b[A\n",
      "  6%|▌         | 1/18 [00:03<01:01,  3.60s/it]\u001b[A\n",
      " 11%|█         | 2/18 [00:06<00:54,  3.40s/it]\u001b[A"
     ]
    },
    {
     "name": "stdout",
     "output_type": "stream",
     "text": [
      "attribute error:\n",
      "'NoneType' object has no attribute 'text'\n"
     ]
    },
    {
     "name": "stderr",
     "output_type": "stream",
     "text": [
      "\n",
      " 17%|█▋        | 3/18 [00:09<00:49,  3.28s/it]\u001b[A"
     ]
    },
    {
     "name": "stdout",
     "output_type": "stream",
     "text": [
      "attribute error:\n",
      "'NoneType' object has no attribute 'text'\n"
     ]
    },
    {
     "name": "stderr",
     "output_type": "stream",
     "text": [
      "\n",
      " 22%|██▏       | 4/18 [00:12<00:44,  3.21s/it]\u001b[A"
     ]
    },
    {
     "name": "stdout",
     "output_type": "stream",
     "text": [
      "attribute error:\n",
      "'NoneType' object has no attribute 'text'\n"
     ]
    },
    {
     "name": "stderr",
     "output_type": "stream",
     "text": [
      "\n",
      " 28%|██▊       | 5/18 [00:15<00:40,  3.10s/it]\u001b[A"
     ]
    },
    {
     "name": "stdout",
     "output_type": "stream",
     "text": [
      "attribute error:\n",
      "'NoneType' object has no attribute 'text'\n"
     ]
    },
    {
     "name": "stderr",
     "output_type": "stream",
     "text": [
      "\n",
      " 33%|███▎      | 6/18 [00:16<00:31,  2.61s/it]\u001b[A\n",
      " 39%|███▉      | 7/18 [00:23<00:41,  3.79s/it]\u001b[A"
     ]
    },
    {
     "name": "stdout",
     "output_type": "stream",
     "text": [
      "attribute error:\n",
      "'NoneType' object has no attribute 'text'\n"
     ]
    },
    {
     "name": "stderr",
     "output_type": "stream",
     "text": [
      "\n",
      " 44%|████▍     | 8/18 [00:26<00:36,  3.60s/it]\u001b[A"
     ]
    },
    {
     "name": "stdout",
     "output_type": "stream",
     "text": [
      "attribute error:\n",
      "'NoneType' object has no attribute 'text'\n"
     ]
    },
    {
     "name": "stderr",
     "output_type": "stream",
     "text": [
      "\n",
      " 50%|█████     | 9/18 [00:29<00:30,  3.42s/it]\u001b[A"
     ]
    },
    {
     "name": "stdout",
     "output_type": "stream",
     "text": [
      "attribute error:\n",
      "'NoneType' object has no attribute 'text'\n"
     ]
    },
    {
     "name": "stderr",
     "output_type": "stream",
     "text": [
      "\n",
      " 56%|█████▌    | 10/18 [00:31<00:23,  2.88s/it]\u001b[A\n",
      " 61%|██████    | 11/18 [00:32<00:17,  2.45s/it]\u001b[A\n",
      " 67%|██████▋   | 12/18 [00:34<00:13,  2.24s/it]\u001b[A\n",
      " 72%|███████▏  | 13/18 [00:36<00:10,  2.12s/it]\u001b[A\n",
      " 78%|███████▊  | 14/18 [00:39<00:09,  2.37s/it]\u001b[A"
     ]
    },
    {
     "name": "stdout",
     "output_type": "stream",
     "text": [
      "attribute error:\n",
      "'NoneType' object has no attribute 'text'\n"
     ]
    },
    {
     "name": "stderr",
     "output_type": "stream",
     "text": [
      "\n",
      " 83%|████████▎ | 15/18 [00:42<00:08,  2.73s/it]\u001b[A"
     ]
    },
    {
     "name": "stdout",
     "output_type": "stream",
     "text": [
      "attribute error:\n",
      "'NoneType' object has no attribute 'text'\n"
     ]
    },
    {
     "name": "stderr",
     "output_type": "stream",
     "text": [
      "\n",
      " 89%|████████▉ | 16/18 [00:44<00:05,  2.52s/it]\u001b[A\n",
      " 94%|█████████▍| 17/18 [00:47<00:02,  2.49s/it]\u001b[A"
     ]
    },
    {
     "name": "stdout",
     "output_type": "stream",
     "text": [
      "attribute error:\n",
      "'NoneType' object has no attribute 'text'\n"
     ]
    },
    {
     "name": "stderr",
     "output_type": "stream",
     "text": [
      "\n",
      "100%|██████████| 18/18 [00:50<00:00,  2.78s/it]\u001b[A\n",
      "\n",
      "  0%|          | 0/13 [00:00<?, ?it/s]\u001b[A"
     ]
    },
    {
     "name": "stdout",
     "output_type": "stream",
     "text": [
      "attribute error:\n",
      "'NoneType' object has no attribute 'text'\n"
     ]
    },
    {
     "name": "stderr",
     "output_type": "stream",
     "text": [
      "\n",
      "  8%|▊         | 1/13 [00:00<00:09,  1.29it/s]\u001b[A\n",
      " 15%|█▌        | 2/13 [00:03<00:16,  1.51s/it]\u001b[A\n",
      " 23%|██▎       | 3/13 [00:04<00:13,  1.32s/it]\u001b[A\n",
      " 31%|███       | 4/13 [00:06<00:11,  1.29s/it]\u001b[A\n",
      " 38%|███▊      | 5/13 [00:08<00:14,  1.77s/it]\u001b[A"
     ]
    },
    {
     "name": "stdout",
     "output_type": "stream",
     "text": [
      "attribute error:\n",
      "'NoneType' object has no attribute 'text'\n"
     ]
    },
    {
     "name": "stderr",
     "output_type": "stream",
     "text": [
      "\n",
      " 46%|████▌     | 6/13 [00:11<00:14,  2.00s/it]\u001b[A\n",
      " 54%|█████▍    | 7/13 [00:14<00:13,  2.32s/it]\u001b[A"
     ]
    },
    {
     "name": "stdout",
     "output_type": "stream",
     "text": [
      "attribute error:\n",
      "'NoneType' object has no attribute 'text'\n"
     ]
    },
    {
     "name": "stderr",
     "output_type": "stream",
     "text": [
      "\n",
      " 62%|██████▏   | 8/13 [00:17<00:12,  2.42s/it]\u001b[A"
     ]
    },
    {
     "name": "stdout",
     "output_type": "stream",
     "text": [
      "attribute error:\n",
      "'NoneType' object has no attribute 'text'\n"
     ]
    },
    {
     "name": "stderr",
     "output_type": "stream",
     "text": [
      "\n",
      " 69%|██████▉   | 9/13 [00:19<00:09,  2.47s/it]\u001b[A\n",
      " 77%|███████▋  | 10/13 [00:22<00:07,  2.62s/it]\u001b[A"
     ]
    },
    {
     "name": "stdout",
     "output_type": "stream",
     "text": [
      "attribute error:\n",
      "'NoneType' object has no attribute 'text'\n"
     ]
    },
    {
     "name": "stderr",
     "output_type": "stream",
     "text": [
      "\n",
      " 85%|████████▍ | 11/13 [00:23<00:04,  2.06s/it]\u001b[A\n",
      " 92%|█████████▏| 12/13 [00:24<00:01,  1.65s/it]\u001b[A\n",
      "100%|██████████| 13/13 [00:24<00:00,  1.90s/it]\u001b[A\n",
      "\n",
      "  0%|          | 0/15 [00:00<?, ?it/s]\u001b[A\n",
      "  7%|▋         | 1/15 [00:02<00:39,  2.82s/it]\u001b[A"
     ]
    },
    {
     "name": "stdout",
     "output_type": "stream",
     "text": [
      "attribute error:\n",
      "'NoneType' object has no attribute 'text'\n"
     ]
    },
    {
     "name": "stderr",
     "output_type": "stream",
     "text": [
      "\n",
      " 13%|█▎        | 2/15 [00:04<00:30,  2.35s/it]\u001b[A\n",
      " 20%|██        | 3/15 [00:06<00:28,  2.35s/it]\u001b[A\n",
      " 27%|██▋       | 4/15 [00:07<00:20,  1.87s/it]\u001b[A\n",
      " 33%|███▎      | 5/15 [00:07<00:15,  1.51s/it]\u001b[A\n",
      " 40%|████      | 6/15 [00:08<00:11,  1.25s/it]\u001b[A\n",
      " 47%|████▋     | 7/15 [00:11<00:14,  1.79s/it]\u001b[A"
     ]
    },
    {
     "name": "stdout",
     "output_type": "stream",
     "text": [
      "attribute error:\n",
      "'NoneType' object has no attribute 'text'\n"
     ]
    },
    {
     "name": "stderr",
     "output_type": "stream",
     "text": [
      "\n",
      " 53%|█████▎    | 8/15 [00:14<00:15,  2.17s/it]\u001b[A"
     ]
    },
    {
     "name": "stdout",
     "output_type": "stream",
     "text": [
      "attribute error:\n",
      "'NoneType' object has no attribute 'text'\n"
     ]
    },
    {
     "name": "stderr",
     "output_type": "stream",
     "text": [
      "\n",
      " 60%|██████    | 9/15 [00:15<00:10,  1.71s/it]\u001b[A\n",
      " 67%|██████▋   | 10/15 [00:17<00:09,  1.94s/it]\u001b[A\n",
      " 73%|███████▎  | 11/15 [00:18<00:06,  1.57s/it]\u001b[A\n",
      " 80%|████████  | 12/15 [00:19<00:03,  1.28s/it]\u001b[A\n",
      " 87%|████████▋ | 13/15 [00:20<00:02,  1.44s/it]\u001b[A\n",
      " 93%|█████████▎| 14/15 [00:22<00:01,  1.54s/it]\u001b[A\n",
      "100%|██████████| 15/15 [00:23<00:00,  1.55s/it]\u001b[A\n",
      "  5%|▍         | 2/41 [04:53<1:47:50, 165.92s/it]\n",
      "  0%|          | 0/16 [00:00<?, ?it/s]\u001b[A\n",
      "  6%|▋         | 1/16 [00:03<00:46,  3.10s/it]\u001b[A\n",
      " 12%|█▎        | 2/16 [00:03<00:33,  2.39s/it]\u001b[A\n",
      " 19%|█▉        | 3/16 [00:04<00:25,  1.95s/it]\u001b[A\n",
      " 25%|██▌       | 4/16 [00:08<00:28,  2.35s/it]\u001b[A"
     ]
    },
    {
     "name": "stdout",
     "output_type": "stream",
     "text": [
      "attribute error:\n",
      "'NoneType' object has no attribute 'text'\n"
     ]
    },
    {
     "name": "stderr",
     "output_type": "stream",
     "text": [
      "\n",
      " 31%|███▏      | 5/16 [00:08<00:20,  1.85s/it]\u001b[A\n",
      " 38%|███▊      | 6/16 [00:09<00:14,  1.49s/it]\u001b[A\n",
      " 44%|████▍     | 7/16 [00:12<00:16,  1.86s/it]\u001b[A"
     ]
    },
    {
     "name": "stdout",
     "output_type": "stream",
     "text": [
      "attribute error:\n",
      "'NoneType' object has no attribute 'text'\n"
     ]
    },
    {
     "name": "stderr",
     "output_type": "stream",
     "text": [
      "\n",
      " 50%|█████     | 8/16 [00:14<00:15,  1.99s/it]\u001b[A\n",
      " 56%|█████▋    | 9/16 [00:15<00:11,  1.63s/it]\u001b[A\n",
      " 62%|██████▎   | 10/16 [00:15<00:07,  1.33s/it]\u001b[A\n",
      " 69%|██████▉   | 11/16 [00:16<00:05,  1.15s/it]\u001b[A\n",
      " 75%|███████▌  | 12/16 [00:17<00:04,  1.04s/it]\u001b[A\n",
      " 81%|████████▏ | 13/16 [00:18<00:02,  1.02it/s]\u001b[A\n",
      " 88%|████████▊ | 14/16 [00:20<00:02,  1.24s/it]\u001b[A\n",
      " 94%|█████████▍| 15/16 [00:22<00:01,  1.48s/it]\u001b[A\n",
      "100%|██████████| 16/16 [00:22<00:00,  1.43s/it]\u001b[A\n",
      "\n",
      "  0%|          | 0/17 [00:00<?, ?it/s]\u001b[A\n",
      "  6%|▌         | 1/17 [00:02<00:43,  2.73s/it]\u001b[A\n",
      " 12%|█▏        | 2/17 [00:03<00:32,  2.16s/it]\u001b[A\n",
      " 18%|█▊        | 3/17 [00:04<00:24,  1.72s/it]\u001b[A\n",
      " 24%|██▎       | 4/17 [00:06<00:25,  1.97s/it]\u001b[A\n",
      " 29%|██▉       | 5/17 [00:07<00:18,  1.57s/it]\u001b[A\n",
      " 35%|███▌      | 6/17 [00:08<00:14,  1.31s/it]\u001b[A\n",
      " 41%|████      | 7/17 [00:08<00:11,  1.10s/it]\u001b[A\n",
      " 47%|████▋     | 8/17 [00:10<00:12,  1.35s/it]\u001b[A\n",
      " 53%|█████▎    | 9/17 [00:12<00:11,  1.38s/it]\u001b[A\n",
      " 59%|█████▉    | 10/17 [00:13<00:09,  1.40s/it]\u001b[A\n",
      " 65%|██████▍   | 11/17 [00:16<00:10,  1.74s/it]\u001b[A\n",
      " 71%|███████   | 12/17 [00:19<00:10,  2.12s/it]\u001b[A"
     ]
    },
    {
     "name": "stdout",
     "output_type": "stream",
     "text": [
      "attribute error:\n",
      "'NoneType' object has no attribute 'text'\n"
     ]
    },
    {
     "name": "stderr",
     "output_type": "stream",
     "text": [
      "\n",
      " 76%|███████▋  | 13/17 [00:22<00:09,  2.43s/it]\u001b[A\n",
      " 82%|████████▏ | 14/17 [00:24<00:07,  2.47s/it]\u001b[A\n",
      " 88%|████████▊ | 15/17 [00:25<00:04,  2.03s/it]\u001b[A\n",
      " 94%|█████████▍| 16/17 [00:28<00:02,  2.20s/it]\u001b[A\n",
      "100%|██████████| 17/17 [00:29<00:00,  1.72s/it]\u001b[A\n",
      "\n",
      "  0%|          | 0/16 [00:00<?, ?it/s]\u001b[A\n",
      "  6%|▋         | 1/16 [00:02<00:31,  2.09s/it]\u001b[A\n",
      " 12%|█▎        | 2/16 [00:03<00:27,  1.98s/it]\u001b[A\n",
      " 19%|█▉        | 3/16 [00:04<00:21,  1.64s/it]\u001b[A\n",
      " 25%|██▌       | 4/16 [00:07<00:23,  1.92s/it]\u001b[A"
     ]
    },
    {
     "name": "stdout",
     "output_type": "stream",
     "text": [
      "attribute error:\n",
      "'NoneType' object has no attribute 'text'\n"
     ]
    },
    {
     "name": "stderr",
     "output_type": "stream",
     "text": [
      "\n",
      " 31%|███▏      | 5/16 [00:09<00:23,  2.11s/it]\u001b[A\n",
      " 38%|███▊      | 6/16 [00:10<00:17,  1.75s/it]\u001b[A\n",
      " 44%|████▍     | 7/16 [00:11<00:13,  1.46s/it]\u001b[A\n",
      " 50%|█████     | 8/16 [00:12<00:10,  1.28s/it]\u001b[A\n",
      " 56%|█████▋    | 9/16 [00:14<00:09,  1.40s/it]\u001b[A\n",
      " 62%|██████▎   | 10/16 [00:14<00:07,  1.23s/it]\u001b[A\n",
      " 69%|██████▉   | 11/16 [00:17<00:08,  1.74s/it]\u001b[A\n",
      " 75%|███████▌  | 12/16 [00:20<00:08,  2.12s/it]\u001b[A\n",
      " 81%|████████▏ | 13/16 [00:24<00:07,  2.47s/it]\u001b[A\n",
      " 88%|████████▊ | 14/16 [00:24<00:03,  1.96s/it]\u001b[A\n",
      " 94%|█████████▍| 15/16 [00:25<00:01,  1.61s/it]\u001b[A\n",
      "100%|██████████| 16/16 [00:27<00:00,  1.71s/it]\u001b[A\n",
      "  7%|▋         | 3/41 [06:12<1:28:38, 139.96s/it]\n",
      "  0%|          | 0/13 [00:00<?, ?it/s]\u001b[A"
     ]
    },
    {
     "name": "stdout",
     "output_type": "stream",
     "text": [
      "attribute error:\n",
      "'NoneType' object has no attribute 'text'\n"
     ]
    },
    {
     "name": "stderr",
     "output_type": "stream",
     "text": [
      "\n",
      "  8%|▊         | 1/13 [00:04<00:50,  4.22s/it]\u001b[A"
     ]
    },
    {
     "name": "stdout",
     "output_type": "stream",
     "text": [
      "attribute error:\n",
      "'NoneType' object has no attribute 'text'\n"
     ]
    },
    {
     "name": "stderr",
     "output_type": "stream",
     "text": [
      "\n",
      " 15%|█▌        | 2/13 [00:07<00:42,  3.83s/it]\u001b[A\n",
      " 23%|██▎       | 3/13 [00:10<00:38,  3.83s/it]\u001b[A"
     ]
    },
    {
     "name": "stdout",
     "output_type": "stream",
     "text": [
      "attribute error:\n",
      "'NoneType' object has no attribute 'text'\n"
     ]
    },
    {
     "name": "stderr",
     "output_type": "stream",
     "text": [
      "\n",
      " 31%|███       | 4/13 [00:14<00:34,  3.79s/it]\u001b[A\n",
      " 38%|███▊      | 5/13 [00:18<00:29,  3.69s/it]\u001b[A\n",
      " 46%|████▌     | 6/13 [00:19<00:21,  3.02s/it]\u001b[A\n",
      " 54%|█████▍    | 7/13 [00:23<00:18,  3.14s/it]\u001b[A\n",
      " 62%|██████▏   | 8/13 [00:26<00:15,  3.14s/it]\u001b[A"
     ]
    },
    {
     "name": "stdout",
     "output_type": "stream",
     "text": [
      "attribute error:\n",
      "'NoneType' object has no attribute 'text'\n"
     ]
    },
    {
     "name": "stderr",
     "output_type": "stream",
     "text": [
      "\n",
      " 69%|██████▉   | 9/13 [00:30<00:13,  3.47s/it]\u001b[A\n",
      " 77%|███████▋  | 10/13 [00:34<00:10,  3.61s/it]\u001b[A\n",
      " 85%|████████▍ | 11/13 [00:40<00:08,  4.31s/it]\u001b[A\n",
      " 92%|█████████▏| 12/13 [00:43<00:04,  4.06s/it]\u001b[A\n",
      "100%|██████████| 13/13 [00:47<00:00,  3.63s/it]\u001b[A\n",
      "\n",
      "  0%|          | 0/14 [00:00<?, ?it/s]\u001b[A"
     ]
    },
    {
     "name": "stdout",
     "output_type": "stream",
     "text": [
      "attribute error:\n",
      "'NoneType' object has no attribute 'text'\n"
     ]
    },
    {
     "name": "stderr",
     "output_type": "stream",
     "text": [
      "\n",
      "  7%|▋         | 1/14 [00:03<00:42,  3.26s/it]\u001b[A"
     ]
    },
    {
     "name": "stdout",
     "output_type": "stream",
     "text": [
      "attribute error:\n",
      "'NoneType' object has no attribute 'text'\n"
     ]
    },
    {
     "name": "stderr",
     "output_type": "stream",
     "text": [
      "\n",
      " 14%|█▍        | 2/14 [00:07<00:42,  3.57s/it]\u001b[A\n",
      " 21%|██▏       | 3/14 [00:10<00:37,  3.42s/it]\u001b[A\n",
      " 29%|██▊       | 4/14 [00:14<00:36,  3.62s/it]\u001b[A\n",
      " 36%|███▌      | 5/14 [00:17<00:29,  3.31s/it]\u001b[A\n",
      " 43%|████▎     | 6/14 [00:19<00:24,  3.02s/it]\u001b[A\n",
      " 50%|█████     | 7/14 [00:21<00:19,  2.77s/it]\u001b[A\n",
      " 57%|█████▋    | 8/14 [00:25<00:18,  3.07s/it]\u001b[A\n",
      " 64%|██████▍   | 9/14 [00:28<00:14,  2.97s/it]\u001b[A\n",
      " 71%|███████▏  | 10/14 [00:30<00:10,  2.66s/it]\u001b[A\n",
      " 79%|███████▊  | 11/14 [00:32<00:07,  2.48s/it]\u001b[A\n",
      " 86%|████████▌ | 12/14 [00:36<00:05,  2.95s/it]\u001b[A\n",
      " 93%|█████████▎| 13/14 [00:40<00:03,  3.39s/it]\u001b[A\n",
      "100%|██████████| 14/14 [00:43<00:00,  3.09s/it]\u001b[A\n",
      "\n",
      "  0%|          | 0/14 [00:00<?, ?it/s]\u001b[A\n",
      "  7%|▋         | 1/14 [00:01<00:25,  1.97s/it]\u001b[A\n",
      " 14%|█▍        | 2/14 [00:06<00:31,  2.64s/it]\u001b[A\n",
      " 21%|██▏       | 3/14 [00:09<00:31,  2.85s/it]\u001b[A"
     ]
    },
    {
     "name": "stdout",
     "output_type": "stream",
     "text": [
      "attribute error:\n",
      "'NoneType' object has no attribute 'text'\n"
     ]
    },
    {
     "name": "stderr",
     "output_type": "stream",
     "text": [
      "\n",
      " 29%|██▊       | 4/14 [00:13<00:32,  3.22s/it]\u001b[A\n",
      " 36%|███▌      | 5/14 [00:17<00:29,  3.33s/it]\u001b[A\n",
      " 43%|████▎     | 6/14 [00:22<00:31,  3.88s/it]\u001b[A\n",
      " 50%|█████     | 7/14 [00:24<00:23,  3.34s/it]\u001b[A\n",
      " 57%|█████▋    | 8/14 [00:26<00:17,  2.95s/it]\u001b[A\n",
      " 64%|██████▍   | 9/14 [00:31<00:18,  3.64s/it]\u001b[A\n",
      " 71%|███████▏  | 10/14 [00:33<00:12,  3.09s/it]\u001b[A\n",
      " 79%|███████▊  | 11/14 [00:35<00:08,  2.74s/it]\u001b[A\n",
      " 86%|████████▌ | 12/14 [00:41<00:07,  3.87s/it]\u001b[A\n",
      " 93%|█████████▎| 13/14 [00:44<00:03,  3.50s/it]\u001b[A\n",
      "100%|██████████| 14/14 [00:48<00:00,  3.49s/it]\u001b[A\n",
      " 10%|▉         | 4/41 [08:31<1:26:11, 139.77s/it]\n",
      "  0%|          | 0/11 [00:00<?, ?it/s]\u001b[A\n",
      "  9%|▉         | 1/11 [00:00<00:07,  1.36it/s]\u001b[A\n",
      " 18%|█▊        | 2/11 [00:05<00:18,  2.08s/it]\u001b[A\n",
      " 27%|██▋       | 3/11 [00:08<00:18,  2.32s/it]\u001b[A\n",
      " 36%|███▋      | 4/11 [00:09<00:13,  1.88s/it]\u001b[A\n",
      " 45%|████▌     | 5/11 [00:11<00:10,  1.80s/it]\u001b[A\n",
      " 55%|█████▍    | 6/11 [00:12<00:08,  1.73s/it]\u001b[A\n",
      " 64%|██████▎   | 7/11 [00:15<00:08,  2.08s/it]\u001b[A"
     ]
    },
    {
     "name": "stdout",
     "output_type": "stream",
     "text": [
      "attribute error:\n",
      "'NoneType' object has no attribute 'text'\n"
     ]
    },
    {
     "name": "stderr",
     "output_type": "stream",
     "text": [
      "\n",
      " 73%|███████▎  | 8/11 [00:19<00:08,  2.68s/it]\u001b[A"
     ]
    },
    {
     "name": "stdout",
     "output_type": "stream",
     "text": [
      "attribute error:\n",
      "'NoneType' object has no attribute 'text'\n"
     ]
    },
    {
     "name": "stderr",
     "output_type": "stream",
     "text": [
      "\n",
      " 82%|████████▏ | 9/11 [00:21<00:04,  2.45s/it]\u001b[A\n",
      " 91%|█████████ | 10/11 [00:23<00:02,  2.26s/it]\u001b[A\n",
      "100%|██████████| 11/11 [00:24<00:00,  2.22s/it]\u001b[A\n",
      "\n",
      "  0%|          | 0/13 [00:00<?, ?it/s]\u001b[A\n",
      "  8%|▊         | 1/13 [00:02<00:28,  2.39s/it]\u001b[A\n",
      " 15%|█▌        | 2/13 [00:06<00:32,  2.94s/it]\u001b[A"
     ]
    },
    {
     "name": "stdout",
     "output_type": "stream",
     "text": [
      "attribute error:\n",
      "'NoneType' object has no attribute 'text'\n"
     ]
    },
    {
     "name": "stderr",
     "output_type": "stream",
     "text": [
      "\n",
      " 23%|██▎       | 3/13 [00:10<00:32,  3.22s/it]\u001b[A\n",
      " 31%|███       | 4/13 [00:12<00:25,  2.83s/it]\u001b[A\n",
      " 38%|███▊      | 5/13 [00:15<00:23,  3.00s/it]\u001b[A\n",
      " 46%|████▌     | 6/13 [00:16<00:16,  2.38s/it]\u001b[A\n",
      " 54%|█████▍    | 7/13 [00:19<00:15,  2.59s/it]\u001b[A\n",
      " 62%|██████▏   | 8/13 [00:20<00:10,  2.06s/it]\u001b[A\n",
      " 69%|██████▉   | 9/13 [00:22<00:07,  1.95s/it]\u001b[A\n",
      " 77%|███████▋  | 10/13 [00:24<00:06,  2.10s/it]\u001b[A\n",
      " 85%|████████▍ | 11/13 [00:28<00:05,  2.67s/it]\u001b[A"
     ]
    },
    {
     "name": "stdout",
     "output_type": "stream",
     "text": [
      "attribute error:\n",
      "'NoneType' object has no attribute 'text'\n"
     ]
    },
    {
     "name": "stderr",
     "output_type": "stream",
     "text": [
      "\n",
      " 92%|█████████▏| 12/13 [00:32<00:03,  3.04s/it]\u001b[A"
     ]
    },
    {
     "name": "stdout",
     "output_type": "stream",
     "text": [
      "attribute error:\n",
      "'NoneType' object has no attribute 'text'\n"
     ]
    },
    {
     "name": "stderr",
     "output_type": "stream",
     "text": [
      "\n",
      "100%|██████████| 13/13 [00:34<00:00,  2.64s/it]\u001b[A\n",
      "\n",
      "  0%|          | 0/20 [00:00<?, ?it/s]\u001b[A\n",
      "  5%|▌         | 1/20 [00:00<00:15,  1.22it/s]\u001b[A\n",
      " 10%|█         | 2/20 [00:01<00:14,  1.25it/s]\u001b[A\n",
      " 15%|█▌        | 3/20 [00:05<00:29,  1.74s/it]\u001b[A"
     ]
    },
    {
     "name": "stdout",
     "output_type": "stream",
     "text": [
      "attribute error:\n",
      "'NoneType' object has no attribute 'text'\n"
     ]
    },
    {
     "name": "stderr",
     "output_type": "stream",
     "text": [
      "\n",
      " 20%|██        | 4/20 [00:07<00:27,  1.69s/it]\u001b[A\n",
      " 25%|██▌       | 5/20 [00:10<00:34,  2.33s/it]\u001b[A"
     ]
    },
    {
     "name": "stdout",
     "output_type": "stream",
     "text": [
      "attribute error:\n",
      "'NoneType' object has no attribute 'text'\n"
     ]
    },
    {
     "name": "stderr",
     "output_type": "stream",
     "text": [
      "\n",
      " 30%|███       | 6/20 [00:11<00:26,  1.91s/it]\u001b[A\n",
      " 35%|███▌      | 7/20 [00:15<00:33,  2.55s/it]\u001b[A"
     ]
    },
    {
     "name": "stdout",
     "output_type": "stream",
     "text": [
      "attribute error:\n",
      "'NoneType' object has no attribute 'text'\n"
     ]
    },
    {
     "name": "stderr",
     "output_type": "stream",
     "text": [
      "\n",
      " 40%|████      | 8/20 [00:19<00:34,  2.84s/it]\u001b[A"
     ]
    },
    {
     "name": "stdout",
     "output_type": "stream",
     "text": [
      "attribute error:\n",
      "'NoneType' object has no attribute 'text'\n"
     ]
    },
    {
     "name": "stderr",
     "output_type": "stream",
     "text": [
      "\n",
      " 45%|████▌     | 9/20 [00:23<00:35,  3.19s/it]\u001b[A"
     ]
    },
    {
     "name": "stdout",
     "output_type": "stream",
     "text": [
      "attribute error:\n",
      "'NoneType' object has no attribute 'text'\n"
     ]
    },
    {
     "name": "stderr",
     "output_type": "stream",
     "text": [
      "\n",
      " 50%|█████     | 10/20 [00:26<00:31,  3.16s/it]\u001b[A"
     ]
    },
    {
     "name": "stdout",
     "output_type": "stream",
     "text": [
      "attribute error:\n",
      "'NoneType' object has no attribute 'text'\n"
     ]
    },
    {
     "name": "stderr",
     "output_type": "stream",
     "text": [
      "\n",
      " 55%|█████▌    | 11/20 [00:30<00:29,  3.28s/it]\u001b[A"
     ]
    },
    {
     "name": "stdout",
     "output_type": "stream",
     "text": [
      "attribute error:\n",
      "'NoneType' object has no attribute 'text'\n"
     ]
    },
    {
     "name": "stderr",
     "output_type": "stream",
     "text": [
      "\n",
      " 60%|██████    | 12/20 [00:30<00:20,  2.55s/it]\u001b[A\n",
      " 65%|██████▌   | 13/20 [00:34<00:20,  2.98s/it]\u001b[A"
     ]
    },
    {
     "name": "stdout",
     "output_type": "stream",
     "text": [
      "attribute error:\n",
      "'NoneType' object has no attribute 'text'\n"
     ]
    },
    {
     "name": "stderr",
     "output_type": "stream",
     "text": [
      "\n",
      " 70%|███████   | 14/20 [00:38<00:18,  3.10s/it]\u001b[A\n",
      " 75%|███████▌  | 15/20 [00:41<00:16,  3.23s/it]\u001b[A"
     ]
    },
    {
     "name": "stdout",
     "output_type": "stream",
     "text": [
      "attribute error:\n",
      "'NoneType' object has no attribute 'text'\n"
     ]
    },
    {
     "name": "stderr",
     "output_type": "stream",
     "text": [
      "\n",
      " 80%|████████  | 16/20 [00:43<00:11,  2.77s/it]\u001b[A\n",
      " 85%|████████▌ | 17/20 [00:46<00:08,  2.75s/it]\u001b[A\n",
      " 90%|█████████ | 18/20 [00:49<00:06,  3.01s/it]\u001b[A"
     ]
    },
    {
     "name": "stdout",
     "output_type": "stream",
     "text": [
      "attribute error:\n",
      "'NoneType' object has no attribute 'text'\n"
     ]
    },
    {
     "name": "stderr",
     "output_type": "stream",
     "text": [
      "\n",
      " 95%|█████████▌| 19/20 [00:54<00:03,  3.37s/it]\u001b[A"
     ]
    },
    {
     "name": "stdout",
     "output_type": "stream",
     "text": [
      "attribute error:\n",
      "'NoneType' object has no attribute 'text'\n"
     ]
    },
    {
     "name": "stderr",
     "output_type": "stream",
     "text": [
      "\n",
      "100%|██████████| 20/20 [00:56<00:00,  2.85s/it]\u001b[A\n",
      "\n",
      "  0%|          | 0/11 [00:00<?, ?it/s]\u001b[A\n",
      "  9%|▉         | 1/11 [00:03<00:35,  3.55s/it]\u001b[A"
     ]
    },
    {
     "name": "stdout",
     "output_type": "stream",
     "text": [
      "attribute error:\n",
      "'NoneType' object has no attribute 'text'\n"
     ]
    },
    {
     "name": "stderr",
     "output_type": "stream",
     "text": [
      "\n",
      " 18%|█▊        | 2/11 [00:05<00:27,  3.05s/it]\u001b[A\n",
      " 27%|██▋       | 3/11 [00:06<00:18,  2.37s/it]\u001b[A\n",
      " 36%|███▋      | 4/11 [00:09<00:18,  2.63s/it]\u001b[A\n",
      " 45%|████▌     | 5/11 [00:11<00:15,  2.52s/it]\u001b[A\n",
      " 55%|█████▍    | 6/11 [00:12<00:10,  2.03s/it]\u001b[A\n",
      " 64%|██████▎   | 7/11 [00:15<00:09,  2.43s/it]\u001b[A"
     ]
    },
    {
     "name": "stdout",
     "output_type": "stream",
     "text": [
      "attribute error:\n",
      "'NoneType' object has no attribute 'text'\n"
     ]
    },
    {
     "name": "stderr",
     "output_type": "stream",
     "text": [
      "\n",
      " 73%|███████▎  | 8/11 [00:19<00:08,  2.86s/it]\u001b[A\n",
      " 82%|████████▏ | 9/11 [00:20<00:04,  2.29s/it]\u001b[A\n",
      " 91%|█████████ | 10/11 [00:22<00:02,  2.19s/it]\u001b[A\n",
      "100%|██████████| 11/11 [00:23<00:00,  2.15s/it]\u001b[A\n",
      "\n",
      "  0%|          | 0/14 [00:00<?, ?it/s]\u001b[A\n",
      "  7%|▋         | 1/14 [00:01<00:15,  1.17s/it]\u001b[A\n",
      " 14%|█▍        | 2/14 [00:03<00:19,  1.64s/it]\u001b[A\n",
      " 21%|██▏       | 3/14 [00:04<00:15,  1.42s/it]\u001b[A\n",
      " 29%|██▊       | 4/14 [00:07<00:18,  1.87s/it]\u001b[A\n",
      " 36%|███▌      | 5/14 [00:10<00:18,  2.11s/it]\u001b[A\n",
      " 43%|████▎     | 6/14 [00:14<00:21,  2.75s/it]\u001b[A"
     ]
    },
    {
     "name": "stdout",
     "output_type": "stream",
     "text": [
      "attribute error:\n",
      "'NoneType' object has no attribute 'text'\n"
     ]
    },
    {
     "name": "stderr",
     "output_type": "stream",
     "text": [
      "\n",
      " 50%|█████     | 7/14 [00:16<00:18,  2.59s/it]\u001b[A\n",
      " 57%|█████▋    | 8/14 [00:19<00:15,  2.62s/it]\u001b[A\n",
      " 64%|██████▍   | 9/14 [00:22<00:13,  2.72s/it]\u001b[A\n",
      " 71%|███████▏  | 10/14 [00:23<00:08,  2.19s/it]\u001b[A\n",
      " 79%|███████▊  | 11/14 [00:24<00:05,  1.79s/it]\u001b[A\n",
      " 86%|████████▌ | 12/14 [00:25<00:02,  1.50s/it]\u001b[A\n",
      " 93%|█████████▎| 13/14 [00:29<00:02,  2.26s/it]\u001b[A\n",
      "100%|██████████| 14/14 [00:31<00:00,  2.23s/it]\u001b[A\n",
      " 12%|█▏        | 5/41 [11:22<1:29:24, 149.01s/it]\n",
      "  0%|          | 0/20 [00:00<?, ?it/s]\u001b[A\n",
      "  5%|▌         | 1/20 [00:01<00:37,  1.96s/it]\u001b[A\n",
      " 10%|█         | 2/20 [00:04<00:38,  2.13s/it]\u001b[A\n",
      " 15%|█▌        | 3/20 [00:05<00:30,  1.80s/it]\u001b[A\n",
      " 20%|██        | 4/20 [00:08<00:33,  2.12s/it]\u001b[A"
     ]
    },
    {
     "name": "stdout",
     "output_type": "stream",
     "text": [
      "attribute error:\n",
      "'NoneType' object has no attribute 'text'\n"
     ]
    },
    {
     "name": "stderr",
     "output_type": "stream",
     "text": [
      "\n",
      " 25%|██▌       | 5/20 [00:12<00:42,  2.80s/it]\u001b[A\n",
      " 30%|███       | 6/20 [00:13<00:30,  2.21s/it]\u001b[A\n",
      " 35%|███▌      | 7/20 [00:15<00:28,  2.18s/it]\u001b[A\n",
      " 40%|████      | 8/20 [00:18<00:30,  2.51s/it]\u001b[A\n",
      " 45%|████▌     | 9/20 [00:22<00:29,  2.66s/it]\u001b[A\n",
      " 50%|█████     | 10/20 [00:24<00:26,  2.68s/it]\u001b[A\n",
      " 55%|█████▌    | 11/20 [00:30<00:33,  3.67s/it]\u001b[A\n",
      " 60%|██████    | 12/20 [00:32<00:25,  3.18s/it]\u001b[A\n",
      " 65%|██████▌   | 13/20 [00:34<00:18,  2.71s/it]\u001b[A\n",
      " 70%|███████   | 14/20 [00:36<00:14,  2.46s/it]\u001b[A\n",
      " 75%|███████▌  | 15/20 [00:39<00:13,  2.62s/it]\u001b[A\n",
      " 80%|████████  | 16/20 [00:42<00:11,  2.79s/it]\u001b[A"
     ]
    },
    {
     "name": "stdout",
     "output_type": "stream",
     "text": [
      "attribute error:\n",
      "'NoneType' object has no attribute 'text'\n"
     ]
    },
    {
     "name": "stderr",
     "output_type": "stream",
     "text": [
      "\n",
      " 85%|████████▌ | 17/20 [00:43<00:06,  2.20s/it]\u001b[A\n",
      " 90%|█████████ | 18/20 [00:44<00:03,  1.78s/it]\u001b[A\n",
      " 95%|█████████▌| 19/20 [00:47<00:02,  2.40s/it]\u001b[A\n",
      "100%|██████████| 20/20 [00:50<00:00,  2.50s/it]\u001b[A\n",
      "\n",
      "  0%|          | 0/20 [00:00<?, ?it/s]\u001b[A\n",
      "  5%|▌         | 1/20 [00:03<01:13,  3.88s/it]\u001b[A"
     ]
    },
    {
     "name": "stdout",
     "output_type": "stream",
     "text": [
      "attribute error:\n",
      "'NoneType' object has no attribute 'text'\n"
     ]
    },
    {
     "name": "stderr",
     "output_type": "stream",
     "text": [
      "\n",
      " 10%|█         | 2/20 [00:04<00:53,  2.99s/it]\u001b[A\n",
      " 15%|█▌        | 3/20 [00:08<00:52,  3.10s/it]\u001b[A\n",
      " 20%|██        | 4/20 [00:11<00:49,  3.11s/it]\u001b[A\n",
      " 25%|██▌       | 5/20 [00:11<00:34,  2.32s/it]\u001b[A\n",
      " 30%|███       | 6/20 [00:14<00:36,  2.59s/it]\u001b[A\n",
      " 35%|███▌      | 7/20 [00:15<00:25,  1.94s/it]\u001b[A\n",
      " 40%|████      | 8/20 [00:15<00:17,  1.49s/it]\u001b[A\n",
      " 45%|████▌     | 9/20 [00:16<00:13,  1.22s/it]\u001b[A\n",
      " 50%|█████     | 10/20 [00:20<00:20,  2.01s/it]\u001b[A\n",
      " 55%|█████▌    | 11/20 [00:21<00:15,  1.69s/it]\u001b[A\n",
      " 60%|██████    | 12/20 [00:22<00:13,  1.64s/it]\u001b[A\n",
      " 65%|██████▌   | 13/20 [00:24<00:10,  1.55s/it]\u001b[A\n",
      " 70%|███████   | 14/20 [00:24<00:07,  1.30s/it]\u001b[A\n",
      " 75%|███████▌  | 15/20 [00:26<00:07,  1.56s/it]\u001b[A"
     ]
    },
    {
     "name": "stdout",
     "output_type": "stream",
     "text": [
      "attribute error:\n",
      "'NoneType' object has no attribute 'text'\n"
     ]
    },
    {
     "name": "stderr",
     "output_type": "stream",
     "text": [
      "\n",
      " 80%|████████  | 16/20 [00:28<00:06,  1.60s/it]\u001b[A\n",
      " 85%|████████▌ | 17/20 [00:29<00:03,  1.27s/it]\u001b[A\n",
      " 90%|█████████ | 18/20 [00:31<00:03,  1.52s/it]\u001b[A"
     ]
    },
    {
     "name": "stdout",
     "output_type": "stream",
     "text": [
      "attribute error:\n",
      "'NoneType' object has no attribute 'text'\n"
     ]
    },
    {
     "name": "stderr",
     "output_type": "stream",
     "text": [
      "\n",
      " 95%|█████████▌| 19/20 [00:31<00:01,  1.23s/it]\u001b[A\n",
      "100%|██████████| 20/20 [00:34<00:00,  1.71s/it]\u001b[A\n",
      "\n",
      "  0%|          | 0/16 [00:00<?, ?it/s]\u001b[A\n",
      "  6%|▋         | 1/16 [00:03<00:49,  3.32s/it]\u001b[A\n",
      " 12%|█▎        | 2/16 [00:08<00:53,  3.82s/it]\u001b[A"
     ]
    },
    {
     "name": "stdout",
     "output_type": "stream",
     "text": [
      "attribute error:\n",
      "'NoneType' object has no attribute 'text'\n"
     ]
    },
    {
     "name": "stderr",
     "output_type": "stream",
     "text": [
      "\n",
      " 19%|█▉        | 3/16 [00:10<00:43,  3.37s/it]\u001b[A\n",
      " 25%|██▌       | 4/16 [00:12<00:36,  3.03s/it]\u001b[A\n",
      " 31%|███▏      | 5/16 [00:21<00:52,  4.74s/it]\u001b[A\n",
      " 38%|███▊      | 6/16 [00:22<00:36,  3.61s/it]\u001b[A\n",
      " 44%|████▍     | 7/16 [00:26<00:33,  3.71s/it]\u001b[A\n",
      " 50%|█████     | 8/16 [00:27<00:22,  2.82s/it]\u001b[A\n",
      " 56%|█████▋    | 9/16 [00:30<00:20,  2.99s/it]\u001b[A\n",
      " 62%|██████▎   | 10/16 [00:33<00:17,  2.90s/it]\u001b[A\n",
      " 69%|██████▉   | 11/16 [00:34<00:11,  2.29s/it]\u001b[A\n",
      " 75%|███████▌  | 12/16 [00:36<00:08,  2.16s/it]\u001b[A\n",
      " 81%|████████▏ | 13/16 [00:37<00:06,  2.09s/it]\u001b[A\n",
      " 88%|████████▊ | 14/16 [00:40<00:04,  2.11s/it]\u001b[A\n",
      " 94%|█████████▍| 15/16 [00:43<00:02,  2.63s/it]\u001b[A"
     ]
    },
    {
     "name": "stdout",
     "output_type": "stream",
     "text": [
      "attribute error:\n",
      "'NoneType' object has no attribute 'text'\n"
     ]
    },
    {
     "name": "stderr",
     "output_type": "stream",
     "text": [
      "\n",
      "100%|██████████| 16/16 [00:54<00:00,  3.40s/it]\u001b[A\n",
      " 15%|█▍        | 6/41 [13:41<1:25:07, 145.92s/it]\n",
      "  0%|          | 0/14 [00:00<?, ?it/s]\u001b[A\n",
      "  7%|▋         | 1/14 [00:04<00:55,  4.28s/it]\u001b[A\n",
      " 14%|█▍        | 2/14 [00:07<00:46,  3.88s/it]\u001b[A\n",
      " 21%|██▏       | 3/14 [00:09<00:36,  3.31s/it]\u001b[A\n",
      " 29%|██▊       | 4/14 [00:11<00:31,  3.15s/it]\u001b[A\n",
      " 36%|███▌      | 5/14 [00:15<00:29,  3.25s/it]\u001b[A"
     ]
    },
    {
     "name": "stdout",
     "output_type": "stream",
     "text": [
      "attribute error:\n",
      "'NoneType' object has no attribute 'text'\n"
     ]
    },
    {
     "name": "stderr",
     "output_type": "stream",
     "text": [
      "\n",
      " 43%|████▎     | 6/14 [00:20<00:30,  3.75s/it]\u001b[A\n",
      " 50%|█████     | 7/14 [00:22<00:22,  3.26s/it]\u001b[A\n",
      " 57%|█████▋    | 8/14 [00:23<00:15,  2.55s/it]\u001b[A\n",
      " 64%|██████▍   | 9/14 [00:26<00:13,  2.63s/it]\u001b[A\n",
      " 71%|███████▏  | 10/14 [00:30<00:12,  3.09s/it]\u001b[A\n",
      " 79%|███████▊  | 11/14 [00:34<00:10,  3.52s/it]\u001b[A\n",
      " 86%|████████▌ | 12/14 [00:37<00:06,  3.20s/it]\u001b[A\n",
      " 93%|█████████▎| 13/14 [00:40<00:03,  3.08s/it]\u001b[A"
     ]
    },
    {
     "name": "stdout",
     "output_type": "stream",
     "text": [
      "attribute error:\n",
      "'NoneType' object has no attribute 'text'\n"
     ]
    },
    {
     "name": "stderr",
     "output_type": "stream",
     "text": [
      "\n",
      "100%|██████████| 14/14 [00:42<00:00,  3.02s/it]\u001b[A\n",
      "\n",
      "  0%|          | 0/10 [00:00<?, ?it/s]\u001b[A\n",
      " 10%|█         | 1/10 [00:00<00:02,  3.69it/s]\u001b[A\n",
      " 20%|██        | 2/10 [00:00<00:02,  3.54it/s]\u001b[A\n",
      " 30%|███       | 3/10 [00:02<00:04,  1.50it/s]\u001b[A"
     ]
    },
    {
     "name": "stdout",
     "output_type": "stream",
     "text": [
      "attribute error:\n",
      "'NoneType' object has no attribute 'text'\n"
     ]
    },
    {
     "name": "stderr",
     "output_type": "stream",
     "text": [
      "\n",
      " 40%|████      | 4/10 [00:03<00:04,  1.20it/s]\u001b[A"
     ]
    },
    {
     "name": "stdout",
     "output_type": "stream",
     "text": [
      "attribute error:\n",
      "'NoneType' object has no attribute 'text'\n"
     ]
    },
    {
     "name": "stderr",
     "output_type": "stream",
     "text": [
      "\n",
      " 50%|█████     | 5/10 [00:08<00:10,  2.01s/it]\u001b[A\n",
      " 60%|██████    | 6/10 [00:09<00:06,  1.72s/it]\u001b[A\n",
      " 70%|███████   | 7/10 [00:10<00:04,  1.47s/it]\u001b[A\n",
      " 80%|████████  | 8/10 [00:12<00:03,  1.66s/it]\u001b[A\n",
      " 90%|█████████ | 9/10 [00:15<00:02,  2.05s/it]\u001b[A"
     ]
    },
    {
     "name": "stdout",
     "output_type": "stream",
     "text": [
      "attribute error:\n",
      "'NoneType' object has no attribute 'text'\n"
     ]
    },
    {
     "name": "stderr",
     "output_type": "stream",
     "text": [
      "\n",
      "100%|██████████| 10/10 [00:15<00:00,  1.55s/it]\u001b[A\n",
      "\n",
      "  0%|          | 0/10 [00:00<?, ?it/s]\u001b[A\n",
      " 10%|█         | 1/10 [00:00<00:02,  3.44it/s]\u001b[A\n",
      " 20%|██        | 2/10 [00:02<00:07,  1.09it/s]\u001b[A\n",
      " 30%|███       | 3/10 [00:04<00:08,  1.18s/it]\u001b[A\n",
      " 40%|████      | 4/10 [00:05<00:07,  1.21s/it]\u001b[A"
     ]
    },
    {
     "name": "stdout",
     "output_type": "stream",
     "text": [
      "attribute error:\n",
      "'NoneType' object has no attribute 'text'\n"
     ]
    },
    {
     "name": "stderr",
     "output_type": "stream",
     "text": [
      "\n",
      " 50%|█████     | 5/10 [00:06<00:04,  1.07it/s]\u001b[A\n",
      " 60%|██████    | 6/10 [00:09<00:06,  1.59s/it]\u001b[A"
     ]
    },
    {
     "name": "stdout",
     "output_type": "stream",
     "text": [
      "attribute error:\n",
      "'NoneType' object has no attribute 'text'\n"
     ]
    },
    {
     "name": "stderr",
     "output_type": "stream",
     "text": [
      "\n",
      " 70%|███████   | 7/10 [00:09<00:03,  1.24s/it]\u001b[A\n",
      " 80%|████████  | 8/10 [00:09<00:01,  1.04it/s]\u001b[A\n",
      " 90%|█████████ | 9/10 [00:13<00:01,  1.63s/it]\u001b[A"
     ]
    },
    {
     "name": "stdout",
     "output_type": "stream",
     "text": [
      "attribute error:\n",
      "'NoneType' object has no attribute 'text'\n"
     ]
    },
    {
     "name": "stderr",
     "output_type": "stream",
     "text": [
      "\n",
      "100%|██████████| 10/10 [00:13<00:00,  1.34s/it]\u001b[A\n",
      "\n",
      "  0%|          | 0/8 [00:00<?, ?it/s]\u001b[A\n",
      " 12%|█▎        | 1/8 [00:01<00:13,  1.92s/it]\u001b[A\n",
      " 25%|██▌       | 2/8 [00:07<00:18,  3.03s/it]\u001b[A\n",
      " 38%|███▊      | 3/8 [00:09<00:13,  2.61s/it]\u001b[A"
     ]
    },
    {
     "name": "stdout",
     "output_type": "stream",
     "text": [
      "attribute error:\n",
      "'NoneType' object has no attribute 'text'\n"
     ]
    },
    {
     "name": "stderr",
     "output_type": "stream",
     "text": [
      "\n",
      " 50%|█████     | 4/8 [00:10<00:09,  2.36s/it]\u001b[A\n",
      " 62%|██████▎   | 5/8 [00:14<00:08,  2.72s/it]\u001b[A\n",
      " 75%|███████▌  | 6/8 [00:18<00:06,  3.22s/it]\u001b[A\n",
      " 88%|████████▊ | 7/8 [00:23<00:03,  3.61s/it]\u001b[A\n",
      "100%|██████████| 8/8 [00:25<00:00,  3.19s/it]\u001b[A\n",
      "\n",
      "  0%|          | 0/12 [00:00<?, ?it/s]\u001b[A\n",
      "  8%|▊         | 1/12 [00:02<00:26,  2.39s/it]\u001b[A\n",
      " 17%|█▋        | 2/12 [00:07<00:32,  3.21s/it]\u001b[A\n",
      " 25%|██▌       | 3/12 [00:09<00:25,  2.86s/it]\u001b[A\n",
      " 33%|███▎      | 4/12 [00:12<00:23,  2.90s/it]\u001b[A\n",
      " 42%|████▏     | 5/12 [00:16<00:23,  3.32s/it]\u001b[A\n",
      " 50%|█████     | 6/12 [00:20<00:20,  3.43s/it]\u001b[A\n",
      " 58%|█████▊    | 7/12 [00:24<00:17,  3.47s/it]\u001b[A\n",
      " 67%|██████▋   | 8/12 [00:26<00:12,  3.11s/it]\u001b[A\n",
      " 75%|███████▌  | 9/12 [00:28<00:08,  2.87s/it]\u001b[A\n",
      " 83%|████████▎ | 10/12 [00:31<00:05,  2.94s/it]\u001b[A"
     ]
    },
    {
     "name": "stdout",
     "output_type": "stream",
     "text": [
      "attribute error:\n",
      "'NoneType' object has no attribute 'text'\n"
     ]
    },
    {
     "name": "stderr",
     "output_type": "stream",
     "text": [
      "\n",
      " 92%|█████████▏| 11/12 [00:35<00:03,  3.27s/it]\u001b[A\n",
      "100%|██████████| 12/12 [00:38<00:00,  3.25s/it]\u001b[A\n",
      " 17%|█▋        | 7/41 [15:56<1:20:57, 142.86s/it]\n",
      "  0%|          | 0/13 [00:00<?, ?it/s]\u001b[A"
     ]
    },
    {
     "name": "stdout",
     "output_type": "stream",
     "text": [
      "attribute error:\n",
      "'NoneType' object has no attribute 'text'\n"
     ]
    },
    {
     "name": "stderr",
     "output_type": "stream",
     "text": [
      "\n",
      "  8%|▊         | 1/13 [00:02<00:34,  2.85s/it]\u001b[A\n",
      " 15%|█▌        | 2/13 [00:06<00:33,  3.08s/it]\u001b[A\n",
      " 23%|██▎       | 3/13 [00:08<00:27,  2.73s/it]\u001b[A\n",
      " 31%|███       | 4/13 [00:11<00:25,  2.84s/it]\u001b[A\n",
      " 38%|███▊      | 5/13 [00:13<00:21,  2.71s/it]\u001b[A\n",
      " 46%|████▌     | 6/13 [00:16<00:19,  2.80s/it]\u001b[A\n",
      " 54%|█████▍    | 7/13 [00:18<00:15,  2.52s/it]\u001b[A\n",
      " 62%|██████▏   | 8/13 [00:20<00:11,  2.29s/it]\u001b[A\n",
      " 69%|██████▉   | 9/13 [00:22<00:08,  2.16s/it]\u001b[A\n",
      " 77%|███████▋  | 10/13 [00:26<00:08,  2.76s/it]\u001b[A\n",
      " 85%|████████▍ | 11/13 [00:26<00:04,  2.03s/it]\u001b[A\n",
      " 92%|█████████▏| 12/13 [00:28<00:01,  1.97s/it]\u001b[A\n",
      "100%|██████████| 13/13 [00:30<00:00,  2.37s/it]\u001b[A\n",
      "\n",
      "  0%|          | 0/17 [00:00<?, ?it/s]\u001b[A\n",
      "  6%|▌         | 1/17 [00:04<01:14,  4.64s/it]\u001b[A\n",
      " 12%|█▏        | 2/17 [00:05<00:52,  3.48s/it]\u001b[A\n",
      " 18%|█▊        | 3/17 [00:10<00:53,  3.85s/it]\u001b[A\n",
      " 24%|██▎       | 4/17 [00:11<00:41,  3.18s/it]\u001b[A\n",
      " 29%|██▉       | 5/17 [00:13<00:34,  2.87s/it]\u001b[A\n",
      " 35%|███▌      | 6/17 [00:15<00:26,  2.43s/it]\u001b[A\n",
      " 41%|████      | 7/17 [00:16<00:21,  2.18s/it]\u001b[A\n",
      " 47%|████▋     | 8/17 [00:20<00:23,  2.65s/it]\u001b[A\n",
      " 53%|█████▎    | 9/17 [00:23<00:22,  2.80s/it]\u001b[A\n",
      " 59%|█████▉    | 10/17 [00:25<00:18,  2.62s/it]\u001b[A\n",
      " 65%|██████▍   | 11/17 [00:29<00:16,  2.76s/it]\u001b[A\n",
      " 71%|███████   | 12/17 [00:31<00:13,  2.68s/it]\u001b[A\n",
      " 76%|███████▋  | 13/17 [00:35<00:12,  3.01s/it]\u001b[A\n",
      " 82%|████████▏ | 14/17 [00:37<00:07,  2.63s/it]\u001b[A\n",
      " 88%|████████▊ | 15/17 [00:41<00:06,  3.14s/it]\u001b[A\n",
      " 94%|█████████▍| 16/17 [00:43<00:02,  2.91s/it]\u001b[A\n",
      "100%|██████████| 17/17 [00:47<00:00,  2.81s/it]\u001b[A\n",
      "\n",
      "  0%|          | 0/14 [00:00<?, ?it/s]\u001b[A"
     ]
    },
    {
     "name": "stdout",
     "output_type": "stream",
     "text": [
      "attribute error:\n",
      "'NoneType' object has no attribute 'text'\n"
     ]
    },
    {
     "name": "stderr",
     "output_type": "stream",
     "text": [
      "\n",
      "  7%|▋         | 1/14 [00:01<00:20,  1.61s/it]\u001b[A\n",
      " 14%|█▍        | 2/14 [00:03<00:18,  1.56s/it]\u001b[A\n",
      " 21%|██▏       | 3/14 [00:07<00:25,  2.28s/it]\u001b[A\n",
      " 29%|██▊       | 4/14 [00:11<00:28,  2.89s/it]\u001b[A\n",
      " 36%|███▌      | 5/14 [00:15<00:28,  3.16s/it]\u001b[A\n",
      " 43%|████▎     | 6/14 [00:16<00:21,  2.71s/it]\u001b[A\n",
      " 50%|█████     | 7/14 [00:24<00:29,  4.22s/it]\u001b[A\n",
      " 57%|█████▋    | 8/14 [00:28<00:25,  4.21s/it]\u001b[A\n",
      " 64%|██████▍   | 9/14 [00:30<00:17,  3.43s/it]\u001b[A\n",
      " 71%|███████▏  | 10/14 [00:34<00:15,  3.79s/it]\u001b[A\n",
      " 79%|███████▊  | 11/14 [00:36<00:09,  3.22s/it]\u001b[A\n",
      " 86%|████████▌ | 12/14 [00:40<00:06,  3.28s/it]\u001b[A\n",
      " 93%|█████████▎| 13/14 [00:43<00:03,  3.34s/it]\u001b[A\n",
      "100%|██████████| 14/14 [00:48<00:00,  3.46s/it]\u001b[A\n",
      " 20%|█▉        | 8/41 [18:03<1:15:57, 138.11s/it]\n",
      "  0%|          | 0/18 [00:00<?, ?it/s]\u001b[A\n",
      "  6%|▌         | 1/18 [00:03<01:07,  3.98s/it]\u001b[A\n",
      " 11%|█         | 2/18 [00:04<00:48,  3.03s/it]\u001b[A\n",
      " 17%|█▋        | 3/18 [00:06<00:38,  2.59s/it]\u001b[A\n",
      " 22%|██▏       | 4/18 [00:07<00:28,  2.01s/it]\u001b[A\n",
      " 28%|██▊       | 5/18 [00:07<00:21,  1.62s/it]\u001b[A\n",
      " 33%|███▎      | 6/18 [00:10<00:25,  2.10s/it]\u001b[A\n",
      " 39%|███▉      | 7/18 [00:11<00:18,  1.68s/it]\u001b[A\n",
      " 44%|████▍     | 8/18 [00:14<00:21,  2.15s/it]\u001b[A\n",
      " 50%|█████     | 9/18 [00:15<00:15,  1.72s/it]\u001b[A\n",
      " 56%|█████▌    | 10/18 [00:17<00:13,  1.69s/it]\u001b[A"
     ]
    },
    {
     "name": "stdout",
     "output_type": "stream",
     "text": [
      "attribute error:\n",
      "'NoneType' object has no attribute 'text'\n"
     ]
    },
    {
     "name": "stderr",
     "output_type": "stream",
     "text": [
      "\n",
      " 61%|██████    | 11/18 [00:20<00:15,  2.18s/it]\u001b[A\n",
      " 67%|██████▋   | 12/18 [00:21<00:10,  1.75s/it]\u001b[A\n",
      " 72%|███████▏  | 13/18 [00:22<00:08,  1.71s/it]\u001b[A\n",
      " 78%|███████▊  | 14/18 [00:26<00:08,  2.13s/it]\u001b[A"
     ]
    },
    {
     "name": "stdout",
     "output_type": "stream",
     "text": [
      "attribute error:\n",
      "'NoneType' object has no attribute 'text'\n"
     ]
    },
    {
     "name": "stderr",
     "output_type": "stream",
     "text": [
      "\n",
      " 83%|████████▎ | 15/18 [00:28<00:06,  2.30s/it]\u001b[A"
     ]
    },
    {
     "name": "stdout",
     "output_type": "stream",
     "text": [
      "attribute error:\n",
      "'NoneType' object has no attribute 'text'\n"
     ]
    },
    {
     "name": "stderr",
     "output_type": "stream",
     "text": [
      "\n",
      " 89%|████████▉ | 16/18 [00:29<00:03,  1.86s/it]\u001b[A\n",
      " 94%|█████████▍| 17/18 [00:36<00:03,  3.41s/it]\u001b[A"
     ]
    },
    {
     "name": "stdout",
     "output_type": "stream",
     "text": [
      "attribute error:\n",
      "'NoneType' object has no attribute 'text'\n"
     ]
    },
    {
     "name": "stderr",
     "output_type": "stream",
     "text": [
      "\n",
      "100%|██████████| 18/18 [00:37<00:00,  2.07s/it]\u001b[A\n",
      "\n",
      "  0%|          | 0/18 [00:00<?, ?it/s]\u001b[A\n",
      "  6%|▌         | 1/18 [00:00<00:15,  1.08it/s]\u001b[A\n",
      " 11%|█         | 2/18 [00:02<00:19,  1.22s/it]\u001b[A\n",
      " 17%|█▋        | 3/18 [00:03<00:14,  1.07it/s]\u001b[A\n",
      " 22%|██▏       | 4/18 [00:05<00:18,  1.32s/it]\u001b[A\n",
      " 28%|██▊       | 5/18 [00:05<00:13,  1.01s/it]\u001b[A\n",
      " 33%|███▎      | 6/18 [00:05<00:09,  1.23it/s]\u001b[A\n",
      " 39%|███▉      | 7/18 [00:06<00:07,  1.55it/s]\u001b[A\n",
      " 44%|████▍     | 8/18 [00:06<00:05,  1.90it/s]\u001b[A\n",
      " 50%|█████     | 9/18 [00:06<00:04,  2.13it/s]\u001b[A\n",
      " 56%|█████▌    | 10/18 [00:07<00:04,  1.89it/s]\u001b[A\n",
      " 61%|██████    | 11/18 [00:08<00:04,  1.40it/s]\u001b[A"
     ]
    },
    {
     "name": "stdout",
     "output_type": "stream",
     "text": [
      "attribute error:\n",
      "'NoneType' object has no attribute 'text'\n"
     ]
    },
    {
     "name": "stderr",
     "output_type": "stream",
     "text": [
      "\n",
      " 67%|██████▋   | 12/18 [00:10<00:06,  1.00s/it]\u001b[A"
     ]
    },
    {
     "name": "stdout",
     "output_type": "stream",
     "text": [
      "attribute error:\n",
      "'NoneType' object has no attribute 'text'\n"
     ]
    },
    {
     "name": "stderr",
     "output_type": "stream",
     "text": [
      "\n",
      " 72%|███████▏  | 13/18 [00:12<00:06,  1.30s/it]\u001b[A\n",
      " 78%|███████▊  | 14/18 [00:17<00:09,  2.50s/it]\u001b[A"
     ]
    },
    {
     "name": "stdout",
     "output_type": "stream",
     "text": [
      "attribute error:\n",
      "'NoneType' object has no attribute 'text'\n"
     ]
    },
    {
     "name": "stderr",
     "output_type": "stream",
     "text": [
      "\n",
      " 83%|████████▎ | 15/18 [00:18<00:05,  1.94s/it]\u001b[A\n",
      " 89%|████████▉ | 16/18 [00:20<00:03,  1.94s/it]\u001b[A\n",
      " 94%|█████████▍| 17/18 [00:23<00:02,  2.37s/it]\u001b[A"
     ]
    },
    {
     "name": "stdout",
     "output_type": "stream",
     "text": [
      "attribute error:\n",
      "'NoneType' object has no attribute 'text'\n"
     ]
    },
    {
     "name": "stderr",
     "output_type": "stream",
     "text": [
      "\n",
      "100%|██████████| 18/18 [00:25<00:00,  1.39s/it]\u001b[A\n",
      "\n",
      "  0%|          | 0/12 [00:00<?, ?it/s]\u001b[A"
     ]
    },
    {
     "name": "stdout",
     "output_type": "stream",
     "text": [
      "attribute error:\n",
      "'NoneType' object has no attribute 'text'\n"
     ]
    },
    {
     "name": "stderr",
     "output_type": "stream",
     "text": [
      "\n",
      "  8%|▊         | 1/12 [00:00<00:08,  1.27it/s]\u001b[A\n",
      " 17%|█▋        | 2/12 [00:01<00:08,  1.21it/s]\u001b[A\n",
      " 25%|██▌       | 3/12 [00:02<00:08,  1.06it/s]\u001b[A\n",
      " 33%|███▎      | 4/12 [00:06<00:14,  1.83s/it]\u001b[A\n",
      " 42%|████▏     | 5/12 [00:07<00:10,  1.53s/it]\u001b[A\n",
      " 50%|█████     | 6/12 [00:09<00:10,  1.74s/it]\u001b[A\n",
      " 58%|█████▊    | 7/12 [00:13<00:10,  2.17s/it]\u001b[A"
     ]
    },
    {
     "name": "stdout",
     "output_type": "stream",
     "text": [
      "attribute error:\n",
      "'NoneType' object has no attribute 'text'\n"
     ]
    },
    {
     "name": "stderr",
     "output_type": "stream",
     "text": [
      "\n",
      " 67%|██████▋   | 8/12 [00:14<00:07,  1.99s/it]\u001b[A\n",
      " 75%|███████▌  | 9/12 [00:17<00:06,  2.25s/it]\u001b[A\n",
      " 83%|████████▎ | 10/12 [00:18<00:03,  1.79s/it]\u001b[A\n",
      " 92%|█████████▏| 11/12 [00:18<00:01,  1.47s/it]\u001b[A\n",
      "100%|██████████| 12/12 [00:19<00:00,  1.66s/it]\u001b[A\n",
      "\n",
      "  0%|          | 0/16 [00:00<?, ?it/s]\u001b[A\n",
      "  6%|▋         | 1/16 [00:04<01:01,  4.08s/it]\u001b[A"
     ]
    },
    {
     "name": "stdout",
     "output_type": "stream",
     "text": [
      "attribute error:\n",
      "'NoneType' object has no attribute 'text'\n"
     ]
    },
    {
     "name": "stderr",
     "output_type": "stream",
     "text": [
      "\n",
      " 12%|█▎        | 2/16 [00:07<00:55,  3.98s/it]\u001b[A"
     ]
    },
    {
     "name": "stdout",
     "output_type": "stream",
     "text": [
      "attribute error:\n",
      "'NoneType' object has no attribute 'text'\n"
     ]
    },
    {
     "name": "stderr",
     "output_type": "stream",
     "text": [
      "\n",
      " 19%|█▉        | 3/16 [00:11<00:49,  3.78s/it]\u001b[A\n",
      " 25%|██▌       | 4/16 [00:14<00:42,  3.53s/it]\u001b[A\n",
      " 31%|███▏      | 5/16 [00:17<00:38,  3.46s/it]\u001b[A"
     ]
    },
    {
     "name": "stdout",
     "output_type": "stream",
     "text": [
      "attribute error:\n",
      "'NoneType' object has no attribute 'text'\n"
     ]
    },
    {
     "name": "stderr",
     "output_type": "stream",
     "text": [
      "\n",
      " 38%|███▊      | 6/16 [00:21<00:36,  3.68s/it]\u001b[A\n",
      " 44%|████▍     | 7/16 [00:22<00:26,  2.91s/it]\u001b[A\n",
      " 50%|█████     | 8/16 [00:25<00:23,  2.98s/it]\u001b[A"
     ]
    },
    {
     "name": "stdout",
     "output_type": "stream",
     "text": [
      "attribute error:\n",
      "'NoneType' object has no attribute 'text'\n"
     ]
    },
    {
     "name": "stderr",
     "output_type": "stream",
     "text": [
      "\n",
      " 56%|█████▋    | 9/16 [00:26<00:16,  2.31s/it]\u001b[A\n",
      " 62%|██████▎   | 10/16 [00:27<00:11,  1.84s/it]\u001b[A\n",
      " 69%|██████▉   | 11/16 [00:29<00:09,  1.85s/it]\u001b[A\n",
      " 75%|███████▌  | 12/16 [00:30<00:07,  1.77s/it]\u001b[A\n",
      " 81%|████████▏ | 13/16 [00:35<00:07,  2.63s/it]\u001b[A\n",
      " 88%|████████▊ | 14/16 [00:38<00:05,  2.76s/it]\u001b[A"
     ]
    },
    {
     "name": "stdout",
     "output_type": "stream",
     "text": [
      "attribute error:\n",
      "'NoneType' object has no attribute 'text'\n"
     ]
    },
    {
     "name": "stderr",
     "output_type": "stream",
     "text": [
      "\n",
      " 94%|█████████▍| 15/16 [00:40<00:02,  2.51s/it]\u001b[A\n",
      "100%|██████████| 16/16 [00:41<00:00,  2.57s/it]\u001b[A\n",
      "\n",
      "  0%|          | 0/7 [00:00<?, ?it/s]\u001b[A\n",
      " 14%|█▍        | 1/7 [00:02<00:14,  2.35s/it]\u001b[A\n",
      " 29%|██▊       | 2/7 [00:05<00:12,  2.45s/it]\u001b[A\n",
      " 43%|████▎     | 3/7 [00:07<00:10,  2.57s/it]\u001b[A\n",
      " 57%|█████▋    | 4/7 [00:10<00:08,  2.67s/it]\u001b[A\n",
      " 71%|███████▏  | 5/7 [00:12<00:04,  2.29s/it]\u001b[A\n",
      " 86%|████████▌ | 6/7 [00:15<00:02,  2.62s/it]\u001b[A"
     ]
    },
    {
     "name": "stdout",
     "output_type": "stream",
     "text": [
      "attribute error:\n",
      "'NoneType' object has no attribute 'text'\n"
     ]
    },
    {
     "name": "stderr",
     "output_type": "stream",
     "text": [
      "\n",
      "100%|██████████| 7/7 [00:17<00:00,  2.53s/it]\u001b[A\n",
      "\n",
      "  0%|          | 0/15 [00:00<?, ?it/s]\u001b[A\n",
      "  7%|▋         | 1/15 [00:01<00:27,  2.00s/it]\u001b[A\n",
      " 13%|█▎        | 2/15 [00:06<00:35,  2.72s/it]\u001b[A\n",
      " 20%|██        | 3/15 [00:09<00:33,  2.82s/it]\u001b[A"
     ]
    },
    {
     "name": "stdout",
     "output_type": "stream",
     "text": [
      "attribute error:\n",
      "'NoneType' object has no attribute 'text'\n"
     ]
    },
    {
     "name": "stderr",
     "output_type": "stream",
     "text": [
      "\n",
      " 27%|██▋       | 4/15 [00:10<00:25,  2.36s/it]\u001b[A\n",
      " 33%|███▎      | 5/15 [00:13<00:24,  2.48s/it]\u001b[A\n",
      " 40%|████      | 6/15 [00:13<00:16,  1.82s/it]\u001b[A\n",
      " 47%|████▋     | 7/15 [00:16<00:17,  2.18s/it]\u001b[A"
     ]
    },
    {
     "name": "stdout",
     "output_type": "stream",
     "text": [
      "attribute error:\n",
      "'NoneType' object has no attribute 'text'\n"
     ]
    },
    {
     "name": "stderr",
     "output_type": "stream",
     "text": [
      "\n",
      " 53%|█████▎    | 8/15 [00:19<00:17,  2.46s/it]\u001b[A\n",
      " 60%|██████    | 9/15 [00:22<00:15,  2.58s/it]\u001b[A"
     ]
    },
    {
     "name": "stdout",
     "output_type": "stream",
     "text": [
      "attribute error:\n",
      "'NoneType' object has no attribute 'text'\n"
     ]
    },
    {
     "name": "stderr",
     "output_type": "stream",
     "text": [
      "\n",
      " 67%|██████▋   | 10/15 [00:24<00:11,  2.38s/it]\u001b[A"
     ]
    },
    {
     "name": "stdout",
     "output_type": "stream",
     "text": [
      "attribute error:\n",
      "'NoneType' object has no attribute 'text'\n"
     ]
    },
    {
     "name": "stderr",
     "output_type": "stream",
     "text": [
      "\n",
      " 73%|███████▎  | 11/15 [00:25<00:07,  1.86s/it]\u001b[A\n",
      " 80%|████████  | 12/15 [00:25<00:04,  1.40s/it]\u001b[A\n",
      " 87%|████████▋ | 13/15 [00:26<00:02,  1.26s/it]\u001b[A\n",
      " 93%|█████████▎| 14/15 [00:26<00:00,  1.03it/s]\u001b[A\n",
      "100%|██████████| 15/15 [00:27<00:00,  1.81s/it]\u001b[A\n",
      " 22%|██▏       | 9/41 [20:52<1:18:30, 147.21s/it]\n",
      "  0%|          | 0/16 [00:00<?, ?it/s]\u001b[A\n",
      "  6%|▋         | 1/16 [00:03<00:45,  3.01s/it]\u001b[A"
     ]
    },
    {
     "name": "stdout",
     "output_type": "stream",
     "text": [
      "attribute error:\n",
      "'NoneType' object has no attribute 'text'\n"
     ]
    },
    {
     "name": "stderr",
     "output_type": "stream",
     "text": [
      "\n",
      " 12%|█▎        | 2/16 [00:06<00:42,  3.05s/it]\u001b[A"
     ]
    },
    {
     "name": "stdout",
     "output_type": "stream",
     "text": [
      "attribute error:\n",
      "'NoneType' object has no attribute 'text'\n"
     ]
    },
    {
     "name": "stderr",
     "output_type": "stream",
     "text": [
      "\n",
      " 19%|█▉        | 3/16 [00:06<00:30,  2.36s/it]\u001b[A\n",
      " 25%|██▌       | 4/16 [00:08<00:25,  2.16s/it]\u001b[A\n",
      " 31%|███▏      | 5/16 [00:09<00:19,  1.73s/it]\u001b[A\n",
      " 38%|███▊      | 6/16 [00:12<00:21,  2.19s/it]\u001b[A"
     ]
    },
    {
     "name": "stdout",
     "output_type": "stream",
     "text": [
      "attribute error:\n",
      "'NoneType' object has no attribute 'text'\n"
     ]
    },
    {
     "name": "stderr",
     "output_type": "stream",
     "text": [
      "\n",
      " 44%|████▍     | 7/16 [00:15<00:22,  2.49s/it]\u001b[A"
     ]
    },
    {
     "name": "stdout",
     "output_type": "stream",
     "text": [
      "attribute error:\n",
      "'NoneType' object has no attribute 'text'\n"
     ]
    },
    {
     "name": "stderr",
     "output_type": "stream",
     "text": [
      "\n",
      " 50%|█████     | 8/16 [00:19<00:21,  2.72s/it]\u001b[A"
     ]
    },
    {
     "name": "stdout",
     "output_type": "stream",
     "text": [
      "attribute error:\n",
      "'NoneType' object has no attribute 'text'\n"
     ]
    },
    {
     "name": "stderr",
     "output_type": "stream",
     "text": [
      "\n",
      " 56%|█████▋    | 9/16 [00:19<00:14,  2.11s/it]\u001b[A\n",
      " 62%|██████▎   | 10/16 [00:21<00:11,  1.97s/it]\u001b[A\n",
      " 69%|██████▉   | 11/16 [00:23<00:10,  2.15s/it]\u001b[A\n",
      " 75%|███████▌  | 12/16 [00:27<00:09,  2.44s/it]\u001b[A"
     ]
    },
    {
     "name": "stdout",
     "output_type": "stream",
     "text": [
      "attribute error:\n",
      "'NoneType' object has no attribute 'text'\n"
     ]
    },
    {
     "name": "stderr",
     "output_type": "stream",
     "text": [
      "\n",
      " 81%|████████▏ | 13/16 [00:30<00:07,  2.63s/it]\u001b[A"
     ]
    },
    {
     "name": "stdout",
     "output_type": "stream",
     "text": [
      "attribute error:\n",
      "'NoneType' object has no attribute 'text'\n"
     ]
    },
    {
     "name": "stderr",
     "output_type": "stream",
     "text": [
      "\n",
      " 88%|████████▊ | 14/16 [00:30<00:04,  2.06s/it]\u001b[A\n",
      " 94%|█████████▍| 15/16 [00:32<00:01,  1.96s/it]\u001b[A\n",
      "100%|██████████| 16/16 [00:34<00:00,  2.18s/it]\u001b[A\n",
      "\n",
      "  0%|          | 0/15 [00:00<?, ?it/s]\u001b[A\n",
      "  7%|▋         | 1/15 [00:03<00:45,  3.26s/it]\u001b[A"
     ]
    },
    {
     "name": "stdout",
     "output_type": "stream",
     "text": [
      "attribute error:\n",
      "'NoneType' object has no attribute 'text'\n"
     ]
    },
    {
     "name": "stderr",
     "output_type": "stream",
     "text": [
      "\n",
      " 13%|█▎        | 2/15 [00:06<00:41,  3.16s/it]\u001b[A\n",
      " 20%|██        | 3/15 [00:07<00:30,  2.51s/it]\u001b[A\n",
      " 27%|██▋       | 4/15 [00:07<00:21,  1.97s/it]\u001b[A\n",
      " 33%|███▎      | 5/15 [00:10<00:22,  2.26s/it]\u001b[A"
     ]
    },
    {
     "name": "stdout",
     "output_type": "stream",
     "text": [
      "attribute error:\n",
      "'NoneType' object has no attribute 'text'\n"
     ]
    },
    {
     "name": "stderr",
     "output_type": "stream",
     "text": [
      "\n",
      " 40%|████      | 6/15 [00:11<00:16,  1.80s/it]\u001b[A\n",
      " 47%|████▋     | 7/15 [00:14<00:17,  2.15s/it]\u001b[A\n",
      " 53%|█████▎    | 8/15 [00:15<00:12,  1.73s/it]\u001b[A\n",
      " 60%|██████    | 9/15 [00:18<00:13,  2.32s/it]\u001b[A\n",
      " 67%|██████▋   | 10/15 [00:20<00:10,  2.04s/it]\u001b[A\n",
      " 73%|███████▎  | 11/15 [00:21<00:07,  1.86s/it]\u001b[A\n",
      " 80%|████████  | 12/15 [00:22<00:04,  1.54s/it]\u001b[A\n",
      " 87%|████████▋ | 13/15 [00:25<00:03,  1.95s/it]\u001b[A\n",
      " 93%|█████████▎| 14/15 [00:26<00:01,  1.58s/it]\u001b[A\n",
      "100%|██████████| 15/15 [00:26<00:00,  1.79s/it]\u001b[A\n",
      " 24%|██▍       | 10/41 [21:54<1:02:49, 121.61s/it]\n",
      "  0%|          | 0/15 [00:00<?, ?it/s]\u001b[A\n",
      "  7%|▋         | 1/15 [00:03<00:44,  3.17s/it]\u001b[A"
     ]
    },
    {
     "name": "stdout",
     "output_type": "stream",
     "text": [
      "attribute error:\n",
      "'NoneType' object has no attribute 'text'\n"
     ]
    },
    {
     "name": "stderr",
     "output_type": "stream",
     "text": [
      "\n",
      " 13%|█▎        | 2/15 [00:05<00:36,  2.80s/it]\u001b[A\n",
      " 20%|██        | 3/15 [00:07<00:31,  2.64s/it]\u001b[A\n",
      " 27%|██▋       | 4/15 [00:10<00:29,  2.66s/it]\u001b[A\n",
      " 33%|███▎      | 5/15 [00:11<00:24,  2.43s/it]\u001b[A\n",
      " 40%|████      | 6/15 [00:15<00:23,  2.63s/it]\u001b[A"
     ]
    },
    {
     "name": "stdout",
     "output_type": "stream",
     "text": [
      "attribute error:\n",
      "'NoneType' object has no attribute 'text'\n"
     ]
    },
    {
     "name": "stderr",
     "output_type": "stream",
     "text": [
      "\n",
      " 47%|████▋     | 7/15 [00:15<00:16,  2.03s/it]\u001b[A\n",
      " 53%|█████▎    | 8/15 [00:18<00:16,  2.40s/it]\u001b[A\n",
      " 60%|██████    | 9/15 [00:21<00:14,  2.48s/it]\u001b[A\n",
      " 67%|██████▋   | 10/15 [00:24<00:13,  2.74s/it]\u001b[A\n",
      " 73%|███████▎  | 11/15 [00:27<00:10,  2.74s/it]\u001b[A\n",
      " 80%|████████  | 12/15 [00:30<00:08,  2.69s/it]\u001b[A\n",
      " 87%|████████▋ | 13/15 [00:31<00:04,  2.10s/it]\u001b[A\n",
      " 93%|█████████▎| 14/15 [00:31<00:01,  1.72s/it]\u001b[A\n",
      "100%|██████████| 15/15 [00:34<00:00,  2.31s/it]\u001b[A\n",
      "\n",
      "  0%|          | 0/15 [00:00<?, ?it/s]\u001b[A"
     ]
    },
    {
     "name": "stdout",
     "output_type": "stream",
     "text": [
      "attribute error:\n",
      "'NoneType' object has no attribute 'text'\n"
     ]
    },
    {
     "name": "stderr",
     "output_type": "stream",
     "text": [
      "\n",
      "  7%|▋         | 1/15 [00:01<00:20,  1.43s/it]\u001b[A\n",
      " 13%|█▎        | 2/15 [00:04<00:25,  1.93s/it]\u001b[A"
     ]
    },
    {
     "name": "stdout",
     "output_type": "stream",
     "text": [
      "attribute error:\n",
      "'NoneType' object has no attribute 'text'\n"
     ]
    },
    {
     "name": "stderr",
     "output_type": "stream",
     "text": [
      "\n",
      " 20%|██        | 3/15 [00:07<00:28,  2.34s/it]\u001b[A\n",
      " 27%|██▋       | 4/15 [00:10<00:26,  2.36s/it]\u001b[A\n",
      " 33%|███▎      | 5/15 [00:12<00:24,  2.40s/it]\u001b[A\n",
      " 40%|████      | 6/15 [00:13<00:16,  1.88s/it]\u001b[A\n",
      " 47%|████▋     | 7/15 [00:14<00:12,  1.61s/it]\u001b[A\n",
      " 53%|█████▎    | 8/15 [00:17<00:13,  1.96s/it]\u001b[A\n",
      " 60%|██████    | 9/15 [00:20<00:14,  2.33s/it]\u001b[A"
     ]
    },
    {
     "name": "stdout",
     "output_type": "stream",
     "text": [
      "attribute error:\n",
      "'NoneType' object has no attribute 'text'\n"
     ]
    },
    {
     "name": "stderr",
     "output_type": "stream",
     "text": [
      "\n",
      " 67%|██████▋   | 10/15 [00:21<00:09,  1.86s/it]\u001b[A\n",
      " 73%|███████▎  | 11/15 [00:21<00:05,  1.49s/it]\u001b[A\n",
      " 80%|████████  | 12/15 [00:23<00:04,  1.62s/it]\u001b[A\n",
      " 87%|████████▋ | 13/15 [00:25<00:03,  1.79s/it]\u001b[A\n",
      " 93%|█████████▎| 14/15 [00:30<00:02,  2.56s/it]\u001b[A\n",
      "100%|██████████| 15/15 [00:30<00:00,  2.06s/it]\u001b[A\n",
      "\n",
      "  0%|          | 0/15 [00:00<?, ?it/s]\u001b[A\n",
      "  7%|▋         | 1/15 [00:01<00:23,  1.64s/it]\u001b[A\n",
      " 13%|█▎        | 2/15 [00:02<00:18,  1.39s/it]\u001b[A\n",
      " 20%|██        | 3/15 [00:03<00:14,  1.18s/it]\u001b[A\n",
      " 27%|██▋       | 4/15 [00:03<00:11,  1.05s/it]\u001b[A\n",
      " 33%|███▎      | 5/15 [00:06<00:16,  1.60s/it]\u001b[A\n",
      " 40%|████      | 6/15 [00:07<00:12,  1.36s/it]\u001b[A\n",
      " 47%|████▋     | 7/15 [00:10<00:13,  1.72s/it]\u001b[A\n",
      " 53%|█████▎    | 8/15 [00:11<00:11,  1.63s/it]\u001b[A\n",
      " 60%|██████    | 9/15 [00:13<00:09,  1.61s/it]\u001b[A\n",
      " 67%|██████▋   | 10/15 [00:16<00:10,  2.08s/it]\u001b[A\n",
      " 73%|███████▎  | 11/15 [00:19<00:09,  2.47s/it]\u001b[A\n",
      " 80%|████████  | 12/15 [00:22<00:08,  2.71s/it]\u001b[A\n",
      " 87%|████████▋ | 13/15 [00:26<00:06,  3.06s/it]\u001b[A\n",
      " 93%|█████████▎| 14/15 [00:29<00:02,  2.93s/it]\u001b[A\n",
      "100%|██████████| 15/15 [00:32<00:00,  2.17s/it]\u001b[A\n",
      " 27%|██▋       | 11/41 [23:32<57:16, 114.54s/it]  \n",
      "  0%|          | 0/12 [00:00<?, ?it/s]\u001b[A"
     ]
    },
    {
     "name": "stdout",
     "output_type": "stream",
     "text": [
      "attribute error:\n",
      "'NoneType' object has no attribute 'text'\n"
     ]
    },
    {
     "name": "stderr",
     "output_type": "stream",
     "text": [
      "\n",
      "  8%|▊         | 1/12 [00:07<01:17,  7.03s/it]\u001b[A"
     ]
    },
    {
     "name": "stdout",
     "output_type": "stream",
     "text": [
      "attribute error:\n",
      "'NoneType' object has no attribute 'text'\n"
     ]
    },
    {
     "name": "stderr",
     "output_type": "stream",
     "text": [
      "\n",
      " 17%|█▋        | 2/12 [00:10<00:58,  5.90s/it]\u001b[A"
     ]
    },
    {
     "name": "stdout",
     "output_type": "stream",
     "text": [
      "attribute error:\n",
      "'NoneType' object has no attribute 'text'\n"
     ]
    },
    {
     "name": "stderr",
     "output_type": "stream",
     "text": [
      "\n",
      " 25%|██▌       | 3/12 [00:13<00:45,  5.08s/it]\u001b[A"
     ]
    },
    {
     "name": "stdout",
     "output_type": "stream",
     "text": [
      "attribute error:\n",
      "'NoneType' object has no attribute 'text'\n"
     ]
    },
    {
     "name": "stderr",
     "output_type": "stream",
     "text": [
      "\n",
      " 33%|███▎      | 4/12 [00:16<00:36,  4.56s/it]\u001b[A"
     ]
    },
    {
     "name": "stdout",
     "output_type": "stream",
     "text": [
      "attribute error:\n",
      "'NoneType' object has no attribute 'text'\n"
     ]
    },
    {
     "name": "stderr",
     "output_type": "stream",
     "text": [
      "\n",
      " 42%|████▏     | 5/12 [00:19<00:28,  4.13s/it]\u001b[A"
     ]
    },
    {
     "name": "stdout",
     "output_type": "stream",
     "text": [
      "attribute error:\n",
      "'NoneType' object has no attribute 'text'\n"
     ]
    },
    {
     "name": "stderr",
     "output_type": "stream",
     "text": [
      "\n",
      " 50%|█████     | 6/12 [00:23<00:23,  3.84s/it]\u001b[A"
     ]
    },
    {
     "name": "stdout",
     "output_type": "stream",
     "text": [
      "attribute error:\n",
      "'NoneType' object has no attribute 'text'\n"
     ]
    },
    {
     "name": "stderr",
     "output_type": "stream",
     "text": [
      "\n",
      " 58%|█████▊    | 7/12 [00:26<00:18,  3.64s/it]\u001b[A"
     ]
    },
    {
     "name": "stdout",
     "output_type": "stream",
     "text": [
      "attribute error:\n",
      "'NoneType' object has no attribute 'text'\n"
     ]
    },
    {
     "name": "stderr",
     "output_type": "stream",
     "text": [
      "\n",
      " 67%|██████▋   | 8/12 [00:29<00:14,  3.51s/it]\u001b[A"
     ]
    },
    {
     "name": "stdout",
     "output_type": "stream",
     "text": [
      "attribute error:\n",
      "'NoneType' object has no attribute 'text'\n"
     ]
    },
    {
     "name": "stderr",
     "output_type": "stream",
     "text": [
      "\n",
      " 75%|███████▌  | 9/12 [00:32<00:10,  3.37s/it]\u001b[A"
     ]
    },
    {
     "name": "stdout",
     "output_type": "stream",
     "text": [
      "attribute error:\n",
      "'NoneType' object has no attribute 'text'\n"
     ]
    },
    {
     "name": "stderr",
     "output_type": "stream",
     "text": [
      "\n",
      " 83%|████████▎ | 10/12 [00:35<00:06,  3.34s/it]\u001b[A\n",
      " 92%|█████████▏| 11/12 [00:39<00:03,  3.33s/it]\u001b[A\n",
      "100%|██████████| 12/12 [00:42<00:00,  3.52s/it]\u001b[A\n",
      "\n",
      "  0%|          | 0/16 [00:00<?, ?it/s]\u001b[A"
     ]
    },
    {
     "name": "stdout",
     "output_type": "stream",
     "text": [
      "attribute error:\n",
      "'NoneType' object has no attribute 'text'\n"
     ]
    },
    {
     "name": "stderr",
     "output_type": "stream",
     "text": [
      "\n",
      "  6%|▋         | 1/16 [00:01<00:28,  1.88s/it]\u001b[A\n",
      " 12%|█▎        | 2/16 [00:03<00:26,  1.87s/it]\u001b[A\n",
      " 19%|█▉        | 3/16 [00:05<00:23,  1.80s/it]\u001b[A\n",
      " 25%|██▌       | 4/16 [00:08<00:27,  2.29s/it]\u001b[A"
     ]
    },
    {
     "name": "stdout",
     "output_type": "stream",
     "text": [
      "attribute error:\n",
      "'NoneType' object has no attribute 'text'\n"
     ]
    },
    {
     "name": "stderr",
     "output_type": "stream",
     "text": [
      "\n",
      " 31%|███▏      | 5/16 [00:10<00:23,  2.16s/it]\u001b[A\n",
      " 38%|███▊      | 6/16 [00:13<00:22,  2.25s/it]\u001b[A"
     ]
    },
    {
     "name": "stdout",
     "output_type": "stream",
     "text": [
      "attribute error:\n",
      "'NoneType' object has no attribute 'text'\n"
     ]
    },
    {
     "name": "stderr",
     "output_type": "stream",
     "text": [
      "\n",
      " 44%|████▍     | 7/16 [00:14<00:18,  2.07s/it]\u001b[A\n",
      " 50%|█████     | 8/16 [00:19<00:23,  2.91s/it]\u001b[A"
     ]
    },
    {
     "name": "stdout",
     "output_type": "stream",
     "text": [
      "attribute error:\n",
      "'NoneType' object has no attribute 'text'\n"
     ]
    },
    {
     "name": "stderr",
     "output_type": "stream",
     "text": [
      "\n",
      " 56%|█████▋    | 9/16 [00:23<00:21,  3.06s/it]\u001b[A\n",
      " 62%|██████▎   | 10/16 [00:26<00:18,  3.12s/it]\u001b[A"
     ]
    },
    {
     "name": "stdout",
     "output_type": "stream",
     "text": [
      "attribute error:\n",
      "'NoneType' object has no attribute 'text'\n"
     ]
    },
    {
     "name": "stderr",
     "output_type": "stream",
     "text": [
      "\n",
      " 69%|██████▉   | 11/16 [00:27<00:13,  2.61s/it]\u001b[A\n",
      " 75%|███████▌  | 12/16 [00:30<00:10,  2.74s/it]\u001b[A"
     ]
    },
    {
     "name": "stdout",
     "output_type": "stream",
     "text": [
      "attribute error:\n",
      "'NoneType' object has no attribute 'text'\n"
     ]
    },
    {
     "name": "stderr",
     "output_type": "stream",
     "text": [
      "\n",
      " 81%|████████▏ | 13/16 [00:34<00:08,  2.96s/it]\u001b[A"
     ]
    },
    {
     "name": "stdout",
     "output_type": "stream",
     "text": [
      "attribute error:\n",
      "'NoneType' object has no attribute 'text'\n"
     ]
    },
    {
     "name": "stderr",
     "output_type": "stream",
     "text": [
      "\n",
      " 88%|████████▊ | 14/16 [00:36<00:05,  2.61s/it]\u001b[A\n",
      " 94%|█████████▍| 15/16 [00:39<00:02,  2.81s/it]\u001b[A"
     ]
    },
    {
     "name": "stdout",
     "output_type": "stream",
     "text": [
      "attribute error:\n",
      "'NoneType' object has no attribute 'text'\n"
     ]
    },
    {
     "name": "stderr",
     "output_type": "stream",
     "text": [
      "\n",
      "100%|██████████| 16/16 [00:41<00:00,  2.56s/it]\u001b[A\n",
      "\n",
      "  0%|          | 0/13 [00:00<?, ?it/s]\u001b[A\n",
      "  8%|▊         | 1/13 [00:02<00:31,  2.65s/it]\u001b[A"
     ]
    },
    {
     "name": "stdout",
     "output_type": "stream",
     "text": [
      "attribute error:\n",
      "'NoneType' object has no attribute 'text'\n"
     ]
    },
    {
     "name": "stderr",
     "output_type": "stream",
     "text": [
      "\n",
      " 15%|█▌        | 2/13 [00:05<00:30,  2.82s/it]\u001b[A"
     ]
    },
    {
     "name": "stdout",
     "output_type": "stream",
     "text": [
      "attribute error:\n",
      "'NoneType' object has no attribute 'text'\n"
     ]
    },
    {
     "name": "stderr",
     "output_type": "stream",
     "text": [
      "\n",
      " 23%|██▎       | 3/13 [00:06<00:22,  2.29s/it]\u001b[A\n",
      " 31%|███       | 4/13 [00:08<00:19,  2.21s/it]\u001b[A\n",
      " 38%|███▊      | 5/13 [00:12<00:19,  2.48s/it]\u001b[A"
     ]
    },
    {
     "name": "stdout",
     "output_type": "stream",
     "text": [
      "attribute error:\n",
      "'NoneType' object has no attribute 'text'\n"
     ]
    },
    {
     "name": "stderr",
     "output_type": "stream",
     "text": [
      "\n",
      " 46%|████▌     | 6/13 [00:15<00:18,  2.67s/it]\u001b[A"
     ]
    },
    {
     "name": "stdout",
     "output_type": "stream",
     "text": [
      "attribute error:\n",
      "'NoneType' object has no attribute 'text'\n"
     ]
    },
    {
     "name": "stderr",
     "output_type": "stream",
     "text": [
      "\n",
      " 54%|█████▍    | 7/13 [00:18<00:16,  2.83s/it]\u001b[A"
     ]
    },
    {
     "name": "stdout",
     "output_type": "stream",
     "text": [
      "attribute error:\n",
      "'NoneType' object has no attribute 'text'\n"
     ]
    },
    {
     "name": "stderr",
     "output_type": "stream",
     "text": [
      "\n",
      " 62%|██████▏   | 8/13 [00:21<00:14,  2.95s/it]\u001b[A"
     ]
    },
    {
     "name": "stdout",
     "output_type": "stream",
     "text": [
      "attribute error:\n",
      "'NoneType' object has no attribute 'text'\n"
     ]
    },
    {
     "name": "stderr",
     "output_type": "stream",
     "text": [
      "\n",
      " 69%|██████▉   | 9/13 [00:23<00:10,  2.58s/it]\u001b[A\n",
      " 77%|███████▋  | 10/13 [00:24<00:06,  2.21s/it]\u001b[A\n",
      " 85%|████████▍ | 11/13 [00:27<00:04,  2.40s/it]\u001b[A"
     ]
    },
    {
     "name": "stdout",
     "output_type": "stream",
     "text": [
      "attribute error:\n",
      "'NoneType' object has no attribute 'text'\n"
     ]
    },
    {
     "name": "stderr",
     "output_type": "stream",
     "text": [
      "\n",
      " 92%|█████████▏| 12/13 [00:28<00:02,  2.10s/it]\u001b[A\n",
      "100%|██████████| 13/13 [00:30<00:00,  2.37s/it]\u001b[A\n",
      "\n",
      "  0%|          | 0/13 [00:00<?, ?it/s]\u001b[A\n",
      "  8%|▊         | 1/13 [00:01<00:18,  1.51s/it]\u001b[A\n",
      " 15%|█▌        | 2/13 [00:04<00:22,  2.04s/it]\u001b[A\n",
      " 23%|██▎       | 3/13 [00:07<00:22,  2.21s/it]\u001b[A\n",
      " 31%|███       | 4/13 [00:09<00:20,  2.30s/it]\u001b[A"
     ]
    },
    {
     "name": "stdout",
     "output_type": "stream",
     "text": [
      "attribute error:\n",
      "'NoneType' object has no attribute 'text'\n"
     ]
    },
    {
     "name": "stderr",
     "output_type": "stream",
     "text": [
      "\n",
      " 38%|███▊      | 5/13 [00:11<00:16,  2.06s/it]\u001b[A\n",
      " 46%|████▌     | 6/13 [00:13<00:14,  2.04s/it]\u001b[A\n",
      " 54%|█████▍    | 7/13 [00:15<00:12,  2.06s/it]\u001b[A\n",
      " 62%|██████▏   | 8/13 [00:17<00:10,  2.02s/it]\u001b[A\n",
      " 69%|██████▉   | 9/13 [00:20<00:09,  2.26s/it]\u001b[A\n",
      " 77%|███████▋  | 10/13 [00:23<00:07,  2.58s/it]\u001b[A\n",
      " 85%|████████▍ | 11/13 [00:25<00:04,  2.50s/it]\u001b[A\n",
      " 92%|█████████▏| 12/13 [00:28<00:02,  2.65s/it]\u001b[A"
     ]
    },
    {
     "name": "stdout",
     "output_type": "stream",
     "text": [
      "attribute error:\n",
      "'NoneType' object has no attribute 'text'\n"
     ]
    },
    {
     "name": "stderr",
     "output_type": "stream",
     "text": [
      "\n",
      "100%|██████████| 13/13 [00:31<00:00,  2.44s/it]\u001b[A\n",
      "\n",
      "  0%|          | 0/11 [00:00<?, ?it/s]\u001b[A"
     ]
    },
    {
     "name": "stdout",
     "output_type": "stream",
     "text": [
      "attribute error:\n",
      "'NoneType' object has no attribute 'text'\n"
     ]
    },
    {
     "name": "stderr",
     "output_type": "stream",
     "text": [
      "\n",
      "  9%|▉         | 1/11 [00:03<00:35,  3.51s/it]\u001b[A"
     ]
    },
    {
     "name": "stdout",
     "output_type": "stream",
     "text": [
      "attribute error:\n",
      "'NoneType' object has no attribute 'text'\n"
     ]
    },
    {
     "name": "stderr",
     "output_type": "stream",
     "text": [
      "\n",
      " 18%|█▊        | 2/11 [00:05<00:28,  3.20s/it]\u001b[A"
     ]
    },
    {
     "name": "stdout",
     "output_type": "stream",
     "text": [
      "attribute error:\n",
      "'NoneType' object has no attribute 'text'\n"
     ]
    },
    {
     "name": "stderr",
     "output_type": "stream",
     "text": [
      "\n",
      " 27%|██▋       | 3/11 [00:09<00:26,  3.32s/it]\u001b[A\n",
      " 36%|███▋      | 4/11 [00:11<00:19,  2.81s/it]\u001b[A\n",
      " 45%|████▌     | 5/11 [00:13<00:15,  2.65s/it]\u001b[A\n",
      " 55%|█████▍    | 6/11 [00:16<00:13,  2.66s/it]\u001b[A\n",
      " 64%|██████▎   | 7/11 [00:19<00:11,  2.86s/it]\u001b[A\n",
      " 73%|███████▎  | 8/11 [00:23<00:09,  3.09s/it]\u001b[A\n",
      " 82%|████████▏ | 9/11 [00:24<00:05,  2.68s/it]\u001b[A\n",
      " 91%|█████████ | 10/11 [00:26<00:02,  2.40s/it]\u001b[A\n",
      "100%|██████████| 11/11 [00:28<00:00,  2.60s/it]\u001b[A\n",
      " 29%|██▉       | 12/41 [26:26<1:04:02, 132.49s/it]\n",
      "  0%|          | 0/12 [00:00<?, ?it/s]\u001b[A\n",
      "  8%|▊         | 1/12 [00:00<00:08,  1.26it/s]\u001b[A\n",
      " 17%|█▋        | 2/12 [00:03<00:14,  1.45s/it]\u001b[A"
     ]
    },
    {
     "name": "stdout",
     "output_type": "stream",
     "text": [
      "attribute error:\n",
      "'NoneType' object has no attribute 'text'\n"
     ]
    },
    {
     "name": "stderr",
     "output_type": "stream",
     "text": [
      "\n",
      " 25%|██▌       | 3/12 [00:07<00:18,  2.01s/it]\u001b[A"
     ]
    },
    {
     "name": "stdout",
     "output_type": "stream",
     "text": [
      "attribute error:\n",
      "'NoneType' object has no attribute 'text'\n"
     ]
    },
    {
     "name": "stderr",
     "output_type": "stream",
     "text": [
      "\n",
      " 33%|███▎      | 4/12 [00:08<00:15,  1.97s/it]\u001b[A\n",
      " 42%|████▏     | 5/12 [00:12<00:17,  2.43s/it]\u001b[A\n",
      " 50%|█████     | 6/12 [00:14<00:13,  2.27s/it]\u001b[A\n",
      " 58%|█████▊    | 7/12 [00:15<00:10,  2.06s/it]\u001b[A\n",
      " 67%|██████▋   | 8/12 [00:16<00:06,  1.63s/it]\u001b[A\n",
      " 75%|███████▌  | 9/12 [00:17<00:04,  1.57s/it]\u001b[A"
     ]
    },
    {
     "name": "stdout",
     "output_type": "stream",
     "text": [
      "attribute error:\n",
      "'NoneType' object has no attribute 'text'\n"
     ]
    },
    {
     "name": "stderr",
     "output_type": "stream",
     "text": [
      "\n",
      " 83%|████████▎ | 10/12 [00:21<00:04,  2.07s/it]\u001b[A"
     ]
    },
    {
     "name": "stdout",
     "output_type": "stream",
     "text": [
      "attribute error:\n",
      "'NoneType' object has no attribute 'text'\n"
     ]
    },
    {
     "name": "stderr",
     "output_type": "stream",
     "text": [
      "\n",
      " 92%|█████████▏| 11/12 [00:21<00:01,  1.64s/it]\u001b[A\n",
      "100%|██████████| 12/12 [00:22<00:00,  1.88s/it]\u001b[A\n",
      "\n",
      "  0%|          | 0/11 [00:00<?, ?it/s]\u001b[A\n",
      "  9%|▉         | 1/11 [00:03<00:31,  3.12s/it]\u001b[A"
     ]
    },
    {
     "name": "stdout",
     "output_type": "stream",
     "text": [
      "attribute error:\n",
      "'NoneType' object has no attribute 'text'\n"
     ]
    },
    {
     "name": "stderr",
     "output_type": "stream",
     "text": [
      "\n",
      " 18%|█▊        | 2/11 [00:05<00:24,  2.76s/it]\u001b[A\n",
      " 27%|██▋       | 3/11 [00:05<00:17,  2.14s/it]\u001b[A\n",
      " 36%|███▋      | 4/11 [00:08<00:15,  2.26s/it]\u001b[A\n",
      " 45%|████▌     | 5/11 [00:12<00:16,  2.79s/it]\u001b[A"
     ]
    },
    {
     "name": "stdout",
     "output_type": "stream",
     "text": [
      "attribute error:\n",
      "'NoneType' object has no attribute 'text'\n"
     ]
    },
    {
     "name": "stderr",
     "output_type": "stream",
     "text": [
      "\n",
      " 55%|█████▍    | 6/11 [00:15<00:14,  2.95s/it]\u001b[A"
     ]
    },
    {
     "name": "stdout",
     "output_type": "stream",
     "text": [
      "attribute error:\n",
      "'NoneType' object has no attribute 'text'\n"
     ]
    },
    {
     "name": "stderr",
     "output_type": "stream",
     "text": [
      "\n",
      " 64%|██████▎   | 7/11 [00:16<00:09,  2.30s/it]\u001b[A\n",
      " 73%|███████▎  | 8/11 [00:17<00:05,  1.85s/it]\u001b[A\n",
      " 82%|████████▏ | 9/11 [00:19<00:04,  2.11s/it]\u001b[A"
     ]
    },
    {
     "name": "stdout",
     "output_type": "stream",
     "text": [
      "attribute error:\n",
      "'NoneType' object has no attribute 'text'\n"
     ]
    },
    {
     "name": "stderr",
     "output_type": "stream",
     "text": [
      "\n",
      " 91%|█████████ | 10/11 [00:23<00:02,  2.43s/it]\u001b[A"
     ]
    },
    {
     "name": "stdout",
     "output_type": "stream",
     "text": [
      "attribute error:\n",
      "'NoneType' object has no attribute 'text'\n"
     ]
    },
    {
     "name": "stderr",
     "output_type": "stream",
     "text": [
      "\n",
      "100%|██████████| 11/11 [00:23<00:00,  2.18s/it]\u001b[A\n",
      "\n",
      "  0%|          | 0/11 [00:00<?, ?it/s]\u001b[A\n",
      "  9%|▉         | 1/11 [00:03<00:33,  3.34s/it]\u001b[A"
     ]
    },
    {
     "name": "stdout",
     "output_type": "stream",
     "text": [
      "attribute error:\n",
      "'NoneType' object has no attribute 'text'\n"
     ]
    },
    {
     "name": "stderr",
     "output_type": "stream",
     "text": [
      "\n",
      " 18%|█▊        | 2/11 [00:06<00:30,  3.37s/it]\u001b[A"
     ]
    },
    {
     "name": "stdout",
     "output_type": "stream",
     "text": [
      "attribute error:\n",
      "'NoneType' object has no attribute 'text'\n"
     ]
    },
    {
     "name": "stderr",
     "output_type": "stream",
     "text": [
      "\n",
      " 27%|██▋       | 3/11 [00:09<00:26,  3.30s/it]\u001b[A"
     ]
    },
    {
     "name": "stdout",
     "output_type": "stream",
     "text": [
      "attribute error:\n",
      "'NoneType' object has no attribute 'text'\n"
     ]
    },
    {
     "name": "stderr",
     "output_type": "stream",
     "text": [
      "\n",
      " 36%|███▋      | 4/11 [00:13<00:22,  3.27s/it]\u001b[A"
     ]
    },
    {
     "name": "stdout",
     "output_type": "stream",
     "text": [
      "attribute error:\n",
      "'NoneType' object has no attribute 'text'\n"
     ]
    },
    {
     "name": "stderr",
     "output_type": "stream",
     "text": [
      "\n",
      " 45%|████▌     | 5/11 [00:16<00:19,  3.28s/it]\u001b[A\n",
      " 55%|█████▍    | 6/11 [00:19<00:16,  3.21s/it]\u001b[A"
     ]
    },
    {
     "name": "stdout",
     "output_type": "stream",
     "text": [
      "attribute error:\n",
      "'NoneType' object has no attribute 'text'\n"
     ]
    },
    {
     "name": "stderr",
     "output_type": "stream",
     "text": [
      "\n",
      " 64%|██████▎   | 7/11 [00:22<00:12,  3.17s/it]\u001b[A"
     ]
    },
    {
     "name": "stdout",
     "output_type": "stream",
     "text": [
      "attribute error:\n",
      "'NoneType' object has no attribute 'text'\n"
     ]
    },
    {
     "name": "stderr",
     "output_type": "stream",
     "text": [
      "\n",
      " 73%|███████▎  | 8/11 [00:26<00:10,  3.35s/it]\u001b[A\n",
      " 82%|████████▏ | 9/11 [00:29<00:06,  3.18s/it]\u001b[A\n",
      " 91%|█████████ | 10/11 [00:32<00:03,  3.18s/it]\u001b[A"
     ]
    },
    {
     "name": "stdout",
     "output_type": "stream",
     "text": [
      "attribute error:\n",
      "'NoneType' object has no attribute 'text'\n"
     ]
    },
    {
     "name": "stderr",
     "output_type": "stream",
     "text": [
      "\n",
      "100%|██████████| 11/11 [00:34<00:00,  3.11s/it]\u001b[A\n",
      " 32%|███▏      | 13/41 [27:47<54:35, 116.98s/it]  \n",
      "  0%|          | 0/18 [00:00<?, ?it/s]\u001b[A\n",
      "  6%|▌         | 1/18 [00:00<00:15,  1.06it/s]\u001b[A\n",
      " 11%|█         | 2/18 [00:04<00:27,  1.73s/it]\u001b[A\n",
      " 17%|█▋        | 3/18 [00:05<00:23,  1.56s/it]\u001b[A\n",
      " 22%|██▏       | 4/18 [00:06<00:19,  1.36s/it]\u001b[A\n",
      " 28%|██▊       | 5/18 [00:11<00:29,  2.29s/it]\u001b[A\n",
      " 33%|███▎      | 6/18 [00:14<00:32,  2.72s/it]\u001b[A\n",
      " 39%|███▉      | 7/18 [00:19<00:35,  3.21s/it]\u001b[A\n",
      " 44%|████▍     | 8/18 [00:20<00:28,  2.80s/it]\u001b[A\n",
      " 50%|█████     | 9/18 [00:21<00:20,  2.26s/it]\u001b[A\n",
      " 56%|█████▌    | 10/18 [00:23<00:16,  2.11s/it]\u001b[A\n",
      " 61%|██████    | 11/18 [00:27<00:18,  2.67s/it]\u001b[A\n",
      " 67%|██████▋   | 12/18 [00:28<00:12,  2.10s/it]\u001b[A\n",
      " 72%|███████▏  | 13/18 [00:31<00:12,  2.43s/it]\u001b[A\n",
      " 78%|███████▊  | 14/18 [00:33<00:09,  2.26s/it]\u001b[A\n",
      " 83%|████████▎ | 15/18 [00:35<00:06,  2.07s/it]\u001b[A\n",
      " 89%|████████▉ | 16/18 [00:35<00:03,  1.65s/it]\u001b[A\n",
      " 94%|█████████▍| 17/18 [00:37<00:01,  1.53s/it]\u001b[A\n",
      "100%|██████████| 18/18 [00:38<00:00,  2.14s/it]\u001b[A\n",
      "\n",
      "  0%|          | 0/13 [00:00<?, ?it/s]\u001b[A\n",
      "  8%|▊         | 1/13 [00:00<00:11,  1.04it/s]\u001b[A\n",
      " 15%|█▌        | 2/13 [00:02<00:12,  1.10s/it]\u001b[A\n",
      " 23%|██▎       | 3/13 [00:07<00:22,  2.25s/it]\u001b[A\n",
      " 31%|███       | 4/13 [00:08<00:16,  1.80s/it]\u001b[A\n",
      " 38%|███▊      | 5/13 [00:13<00:22,  2.86s/it]\u001b[A\n",
      " 46%|████▌     | 6/13 [00:16<00:20,  2.95s/it]\u001b[A"
     ]
    },
    {
     "name": "stdout",
     "output_type": "stream",
     "text": [
      "attribute error:\n",
      "'NoneType' object has no attribute 'text'\n"
     ]
    },
    {
     "name": "stderr",
     "output_type": "stream",
     "text": [
      "\n",
      " 54%|█████▍    | 7/13 [00:17<00:14,  2.34s/it]\u001b[A\n",
      " 62%|██████▏   | 8/13 [00:21<00:14,  2.89s/it]\u001b[A\n",
      " 69%|██████▉   | 9/13 [00:26<00:13,  3.43s/it]\u001b[A\n",
      " 77%|███████▋  | 10/13 [00:31<00:12,  4.00s/it]\u001b[A\n",
      " 85%|████████▍ | 11/13 [00:37<00:09,  4.63s/it]\u001b[A"
     ]
    },
    {
     "name": "stdout",
     "output_type": "stream",
     "text": [
      "attribute error:\n",
      "'NoneType' object has no attribute 'text'\n"
     ]
    },
    {
     "name": "stderr",
     "output_type": "stream",
     "text": [
      "\n",
      " 92%|█████████▏| 12/13 [00:38<00:03,  3.46s/it]\u001b[A\n",
      "100%|██████████| 13/13 [00:40<00:00,  3.11s/it]\u001b[A\n",
      " 34%|███▍      | 14/41 [29:06<47:30, 105.57s/it]\n",
      "  0%|          | 0/11 [00:00<?, ?it/s]\u001b[A\n",
      "  9%|▉         | 1/11 [00:00<00:07,  1.26it/s]\u001b[A\n",
      " 18%|█▊        | 2/11 [00:02<00:09,  1.05s/it]\u001b[A\n",
      " 27%|██▋       | 3/11 [00:04<00:09,  1.21s/it]\u001b[A\n",
      " 36%|███▋      | 4/11 [00:07<00:12,  1.81s/it]\u001b[A"
     ]
    },
    {
     "name": "stdout",
     "output_type": "stream",
     "text": [
      "attribute error:\n",
      "'NoneType' object has no attribute 'text'\n"
     ]
    },
    {
     "name": "stderr",
     "output_type": "stream",
     "text": [
      "\n",
      " 45%|████▌     | 5/11 [00:10<00:13,  2.22s/it]\u001b[A"
     ]
    },
    {
     "name": "stdout",
     "output_type": "stream",
     "text": [
      "attribute error:\n",
      "'NoneType' object has no attribute 'text'\n"
     ]
    },
    {
     "name": "stderr",
     "output_type": "stream",
     "text": [
      "\n",
      " 55%|█████▍    | 6/11 [00:11<00:09,  1.98s/it]\u001b[A\n",
      " 64%|██████▎   | 7/11 [00:12<00:06,  1.61s/it]\u001b[A\n",
      " 73%|███████▎  | 8/11 [00:15<00:06,  2.07s/it]\u001b[A"
     ]
    },
    {
     "name": "stdout",
     "output_type": "stream",
     "text": [
      "attribute error:\n",
      "'NoneType' object has no attribute 'text'\n"
     ]
    },
    {
     "name": "stderr",
     "output_type": "stream",
     "text": [
      "\n",
      " 82%|████████▏ | 9/11 [00:17<00:03,  1.89s/it]\u001b[A\n",
      " 91%|█████████ | 10/11 [00:19<00:02,  2.16s/it]\u001b[A\n",
      "100%|██████████| 11/11 [00:23<00:00,  2.11s/it]\u001b[A\n",
      "\n",
      "  0%|          | 0/14 [00:00<?, ?it/s]\u001b[A"
     ]
    },
    {
     "name": "stdout",
     "output_type": "stream",
     "text": [
      "attribute error:\n",
      "'NoneType' object has no attribute 'text'\n"
     ]
    },
    {
     "name": "stderr",
     "output_type": "stream",
     "text": [
      "\n",
      "  7%|▋         | 1/14 [00:02<00:30,  2.31s/it]\u001b[A\n",
      " 14%|█▍        | 2/14 [00:04<00:26,  2.20s/it]\u001b[A\n",
      " 21%|██▏       | 3/14 [00:04<00:17,  1.62s/it]\u001b[A\n",
      " 29%|██▊       | 4/14 [00:07<00:18,  1.88s/it]\u001b[A\n",
      " 36%|███▌      | 5/14 [00:10<00:20,  2.26s/it]\u001b[A"
     ]
    },
    {
     "name": "stdout",
     "output_type": "stream",
     "text": [
      "attribute error:\n",
      "'NoneType' object has no attribute 'text'\n"
     ]
    },
    {
     "name": "stderr",
     "output_type": "stream",
     "text": [
      "\n",
      " 43%|████▎     | 6/14 [00:10<00:13,  1.67s/it]\u001b[A\n",
      " 50%|█████     | 7/14 [00:10<00:08,  1.24s/it]\u001b[A\n",
      " 57%|█████▋    | 8/14 [00:13<00:11,  1.85s/it]\u001b[A"
     ]
    },
    {
     "name": "stdout",
     "output_type": "stream",
     "text": [
      "attribute error:\n",
      "'NoneType' object has no attribute 'text'\n"
     ]
    },
    {
     "name": "stderr",
     "output_type": "stream",
     "text": [
      "\n",
      " 64%|██████▍   | 9/14 [00:14<00:06,  1.37s/it]\u001b[A\n",
      " 71%|███████▏  | 10/14 [00:15<00:05,  1.41s/it]\u001b[A"
     ]
    },
    {
     "name": "stdout",
     "output_type": "stream",
     "text": [
      "attribute error:\n",
      "'NoneType' object has no attribute 'text'\n"
     ]
    },
    {
     "name": "stderr",
     "output_type": "stream",
     "text": [
      "\n",
      " 79%|███████▊  | 11/14 [00:18<00:05,  1.91s/it]\u001b[A"
     ]
    },
    {
     "name": "stdout",
     "output_type": "stream",
     "text": [
      "attribute error:\n",
      "'NoneType' object has no attribute 'text'\n"
     ]
    },
    {
     "name": "stderr",
     "output_type": "stream",
     "text": [
      "\n",
      " 86%|████████▌ | 12/14 [00:20<00:03,  1.79s/it]\u001b[A"
     ]
    },
    {
     "name": "stdout",
     "output_type": "stream",
     "text": [
      "attribute error:\n",
      "'NoneType' object has no attribute 'text'\n"
     ]
    },
    {
     "name": "stderr",
     "output_type": "stream",
     "text": [
      "\n",
      " 93%|█████████▎| 13/14 [00:23<00:02,  2.12s/it]\u001b[A\n",
      "100%|██████████| 14/14 [00:24<00:00,  1.75s/it]\u001b[A\n",
      "\n",
      "  0%|          | 0/15 [00:00<?, ?it/s]\u001b[A\n",
      "  7%|▋         | 1/15 [00:00<00:09,  1.45it/s]\u001b[A\n",
      " 13%|█▎        | 2/15 [00:02<00:12,  1.05it/s]\u001b[A\n",
      " 20%|██        | 3/15 [00:06<00:21,  1.83s/it]\u001b[A\n",
      " 27%|██▋       | 4/15 [00:08<00:21,  1.94s/it]\u001b[A\n",
      " 33%|███▎      | 5/15 [00:09<00:15,  1.57s/it]\u001b[A\n",
      " 40%|████      | 6/15 [00:11<00:16,  1.86s/it]\u001b[A"
     ]
    },
    {
     "name": "stdout",
     "output_type": "stream",
     "text": [
      "attribute error:\n",
      "'NoneType' object has no attribute 'text'\n"
     ]
    },
    {
     "name": "stderr",
     "output_type": "stream",
     "text": [
      "\n",
      " 47%|████▋     | 7/15 [00:12<00:12,  1.52s/it]\u001b[A\n",
      " 53%|█████▎    | 8/15 [00:15<00:14,  2.01s/it]\u001b[A"
     ]
    },
    {
     "name": "stdout",
     "output_type": "stream",
     "text": [
      "attribute error:\n",
      "'NoneType' object has no attribute 'text'\n"
     ]
    },
    {
     "name": "stderr",
     "output_type": "stream",
     "text": [
      "\n",
      " 60%|██████    | 9/15 [00:18<00:14,  2.40s/it]\u001b[A\n",
      " 67%|██████▋   | 10/15 [00:21<00:13,  2.65s/it]\u001b[A"
     ]
    },
    {
     "name": "stdout",
     "output_type": "stream",
     "text": [
      "attribute error:\n",
      "'NoneType' object has no attribute 'text'\n"
     ]
    },
    {
     "name": "stderr",
     "output_type": "stream",
     "text": [
      "\n",
      " 73%|███████▎  | 11/15 [00:25<00:11,  2.78s/it]\u001b[A\n",
      " 80%|████████  | 12/15 [00:26<00:07,  2.40s/it]\u001b[A"
     ]
    },
    {
     "name": "stdout",
     "output_type": "stream",
     "text": [
      "attribute error:\n",
      "'NoneType' object has no attribute 'text'\n"
     ]
    },
    {
     "name": "stderr",
     "output_type": "stream",
     "text": [
      "\n",
      " 87%|████████▋ | 13/15 [00:27<00:03,  1.91s/it]\u001b[A\n",
      " 93%|█████████▎| 14/15 [00:28<00:01,  1.55s/it]\u001b[A\n",
      "100%|██████████| 15/15 [00:28<00:00,  1.92s/it]\u001b[A\n",
      "\n",
      "  0%|          | 0/15 [00:00<?, ?it/s]\u001b[A\n",
      "  7%|▋         | 1/15 [00:02<00:40,  2.87s/it]\u001b[A"
     ]
    },
    {
     "name": "stdout",
     "output_type": "stream",
     "text": [
      "attribute error:\n",
      "'NoneType' object has no attribute 'text'\n"
     ]
    },
    {
     "name": "stderr",
     "output_type": "stream",
     "text": [
      "\n",
      " 13%|█▎        | 2/15 [00:03<00:28,  2.21s/it]\u001b[A\n",
      " 20%|██        | 3/15 [00:08<00:35,  2.98s/it]\u001b[A\n",
      " 27%|██▋       | 4/15 [00:11<00:32,  2.91s/it]\u001b[A"
     ]
    },
    {
     "name": "stdout",
     "output_type": "stream",
     "text": [
      "attribute error:\n",
      "'NoneType' object has no attribute 'text'\n"
     ]
    },
    {
     "name": "stderr",
     "output_type": "stream",
     "text": [
      "\n",
      " 33%|███▎      | 5/15 [00:14<00:29,  2.92s/it]\u001b[A\n",
      " 40%|████      | 6/15 [00:16<00:25,  2.78s/it]\u001b[A\n",
      " 47%|████▋     | 7/15 [00:19<00:23,  2.97s/it]\u001b[A\n",
      " 53%|█████▎    | 8/15 [00:21<00:17,  2.51s/it]\u001b[A\n",
      " 60%|██████    | 9/15 [00:24<00:16,  2.70s/it]\u001b[A"
     ]
    },
    {
     "name": "stdout",
     "output_type": "stream",
     "text": [
      "attribute error:\n",
      "'NoneType' object has no attribute 'text'\n"
     ]
    },
    {
     "name": "stderr",
     "output_type": "stream",
     "text": [
      "\n",
      " 67%|██████▋   | 10/15 [00:25<00:11,  2.32s/it]\u001b[A\n",
      " 73%|███████▎  | 11/15 [00:29<00:10,  2.69s/it]\u001b[A"
     ]
    },
    {
     "name": "stdout",
     "output_type": "stream",
     "text": [
      "attribute error:\n",
      "'NoneType' object has no attribute 'text'\n"
     ]
    },
    {
     "name": "stderr",
     "output_type": "stream",
     "text": [
      "\n",
      " 80%|████████  | 12/15 [00:32<00:08,  2.75s/it]\u001b[A\n",
      " 87%|████████▋ | 13/15 [00:34<00:05,  2.70s/it]\u001b[A\n",
      " 93%|█████████▎| 14/15 [00:37<00:02,  2.53s/it]\u001b[A\n",
      "100%|██████████| 15/15 [00:40<00:00,  2.72s/it]\u001b[A\n",
      " 37%|███▋      | 15/41 [31:03<47:16, 109.10s/it]\n",
      "  0%|          | 0/16 [00:00<?, ?it/s]\u001b[A\n",
      "  6%|▋         | 1/16 [00:05<01:17,  5.14s/it]\u001b[A"
     ]
    },
    {
     "name": "stdout",
     "output_type": "stream",
     "text": [
      "attribute error:\n",
      "'NoneType' object has no attribute 'text'\n"
     ]
    },
    {
     "name": "stderr",
     "output_type": "stream",
     "text": [
      "\n",
      " 12%|█▎        | 2/16 [00:08<01:03,  4.55s/it]\u001b[A"
     ]
    },
    {
     "name": "stdout",
     "output_type": "stream",
     "text": [
      "attribute error:\n",
      "'NoneType' object has no attribute 'text'\n"
     ]
    },
    {
     "name": "stderr",
     "output_type": "stream",
     "text": [
      "\n",
      " 19%|█▉        | 3/16 [00:11<00:54,  4.18s/it]\u001b[A"
     ]
    },
    {
     "name": "stdout",
     "output_type": "stream",
     "text": [
      "attribute error:\n",
      "'NoneType' object has no attribute 'text'\n"
     ]
    },
    {
     "name": "stderr",
     "output_type": "stream",
     "text": [
      "\n",
      " 25%|██▌       | 4/16 [00:14<00:46,  3.87s/it]\u001b[A"
     ]
    },
    {
     "name": "stdout",
     "output_type": "stream",
     "text": [
      "attribute error:\n",
      "'NoneType' object has no attribute 'text'\n"
     ]
    },
    {
     "name": "stderr",
     "output_type": "stream",
     "text": [
      "\n",
      " 31%|███▏      | 5/16 [00:17<00:38,  3.53s/it]\u001b[A"
     ]
    },
    {
     "name": "stdout",
     "output_type": "stream",
     "text": [
      "attribute error:\n",
      "'NoneType' object has no attribute 'text'\n"
     ]
    },
    {
     "name": "stderr",
     "output_type": "stream",
     "text": [
      "\n",
      " 38%|███▊      | 6/16 [00:22<00:38,  3.89s/it]\u001b[A\n",
      " 44%|████▍     | 7/16 [00:24<00:29,  3.27s/it]\u001b[A\n",
      " 50%|█████     | 8/16 [00:28<00:28,  3.55s/it]\u001b[A\n",
      " 56%|█████▋    | 9/16 [00:30<00:22,  3.16s/it]\u001b[A\n",
      " 62%|██████▎   | 10/16 [00:34<00:20,  3.44s/it]\u001b[A\n",
      " 69%|██████▉   | 11/16 [00:37<00:16,  3.34s/it]\u001b[A"
     ]
    },
    {
     "name": "stdout",
     "output_type": "stream",
     "text": [
      "attribute error:\n",
      "'NoneType' object has no attribute 'text'\n"
     ]
    },
    {
     "name": "stderr",
     "output_type": "stream",
     "text": [
      "\n",
      " 75%|███████▌  | 12/16 [00:41<00:13,  3.35s/it]\u001b[A\n",
      " 81%|████████▏ | 13/16 [00:43<00:09,  3.08s/it]\u001b[A\n",
      " 88%|████████▊ | 14/16 [00:46<00:06,  3.09s/it]\u001b[A"
     ]
    },
    {
     "name": "stdout",
     "output_type": "stream",
     "text": [
      "attribute error:\n",
      "'NoneType' object has no attribute 'text'\n"
     ]
    },
    {
     "name": "stderr",
     "output_type": "stream",
     "text": [
      "\n",
      " 94%|█████████▍| 15/16 [00:49<00:03,  3.11s/it]\u001b[A"
     ]
    },
    {
     "name": "stdout",
     "output_type": "stream",
     "text": [
      "attribute error:\n",
      "'NoneType' object has no attribute 'text'\n"
     ]
    },
    {
     "name": "stderr",
     "output_type": "stream",
     "text": [
      "\n",
      "100%|██████████| 16/16 [00:52<00:00,  3.31s/it]\u001b[A\n",
      " 39%|███▉      | 16/41 [31:56<38:26, 92.26s/it] \n",
      "  0%|          | 0/13 [00:00<?, ?it/s]\u001b[A"
     ]
    },
    {
     "name": "stdout",
     "output_type": "stream",
     "text": [
      "attribute error:\n",
      "'NoneType' object has no attribute 'text'\n"
     ]
    },
    {
     "name": "stderr",
     "output_type": "stream",
     "text": [
      "\n",
      "  8%|▊         | 1/13 [00:01<00:17,  1.42s/it]\u001b[A\n",
      " 15%|█▌        | 2/13 [00:04<00:22,  2.05s/it]\u001b[A"
     ]
    },
    {
     "name": "stdout",
     "output_type": "stream",
     "text": [
      "attribute error:\n",
      "'NoneType' object has no attribute 'text'\n"
     ]
    },
    {
     "name": "stderr",
     "output_type": "stream",
     "text": [
      "\n",
      " 23%|██▎       | 3/13 [00:08<00:23,  2.38s/it]\u001b[A"
     ]
    },
    {
     "name": "stdout",
     "output_type": "stream",
     "text": [
      "attribute error:\n",
      "'NoneType' object has no attribute 'text'\n"
     ]
    },
    {
     "name": "stderr",
     "output_type": "stream",
     "text": [
      "\n",
      " 31%|███       | 4/13 [00:12<00:26,  2.89s/it]\u001b[A\n",
      " 38%|███▊      | 5/13 [00:15<00:23,  2.96s/it]\u001b[A"
     ]
    },
    {
     "name": "stdout",
     "output_type": "stream",
     "text": [
      "attribute error:\n",
      "'NoneType' object has no attribute 'text'\n"
     ]
    },
    {
     "name": "stderr",
     "output_type": "stream",
     "text": [
      " 38%|███▊      | 5/13 [26:10<41:53, 314.13s/it]\n",
      " 41%|████▏     | 17/41 [58:07<3:34:18, 535.77s/it]\n",
      "  0%|          | 0/16 [00:00<?, ?it/s]\u001b[A\n",
      "  6%|▋         | 1/16 [00:03<00:45,  3.06s/it]\u001b[A"
     ]
    },
    {
     "name": "stdout",
     "output_type": "stream",
     "text": [
      "attribute error:\n",
      "'NoneType' object has no attribute 'text'\n"
     ]
    },
    {
     "name": "stderr",
     "output_type": "stream",
     "text": [
      "\n",
      " 12%|█▎        | 2/16 [00:06<00:42,  3.06s/it]\u001b[A"
     ]
    },
    {
     "name": "stdout",
     "output_type": "stream",
     "text": [
      "attribute error:\n",
      "'NoneType' object has no attribute 'text'\n"
     ]
    },
    {
     "name": "stderr",
     "output_type": "stream",
     "text": [
      "\n",
      " 19%|█▉        | 3/16 [00:09<00:41,  3.17s/it]\u001b[A"
     ]
    },
    {
     "name": "stdout",
     "output_type": "stream",
     "text": [
      "attribute error:\n",
      "'NoneType' object has no attribute 'text'\n"
     ]
    },
    {
     "name": "stderr",
     "output_type": "stream",
     "text": [
      "\n",
      " 25%|██▌       | 4/16 [00:12<00:36,  3.03s/it]\u001b[A"
     ]
    },
    {
     "name": "stdout",
     "output_type": "stream",
     "text": [
      "attribute error:\n",
      "'NoneType' object has no attribute 'text'\n"
     ]
    },
    {
     "name": "stderr",
     "output_type": "stream",
     "text": [
      "\n",
      " 31%|███▏      | 5/16 [00:15<00:33,  3.06s/it]\u001b[A"
     ]
    },
    {
     "name": "stdout",
     "output_type": "stream",
     "text": [
      "attribute error:\n",
      "'NoneType' object has no attribute 'text'\n"
     ]
    },
    {
     "name": "stderr",
     "output_type": "stream",
     "text": [
      "\n",
      " 38%|███▊      | 6/16 [00:18<00:31,  3.12s/it]\u001b[A"
     ]
    },
    {
     "name": "stdout",
     "output_type": "stream",
     "text": [
      "attribute error:\n",
      "'NoneType' object has no attribute 'text'\n"
     ]
    },
    {
     "name": "stderr",
     "output_type": "stream",
     "text": [
      "\n",
      " 44%|████▍     | 7/16 [00:21<00:28,  3.14s/it]\u001b[A"
     ]
    },
    {
     "name": "stdout",
     "output_type": "stream",
     "text": [
      "attribute error:\n",
      "'NoneType' object has no attribute 'text'\n"
     ]
    },
    {
     "name": "stderr",
     "output_type": "stream",
     "text": [
      "\n",
      " 50%|█████     | 8/16 [00:24<00:24,  3.10s/it]\u001b[A"
     ]
    },
    {
     "name": "stdout",
     "output_type": "stream",
     "text": [
      "attribute error:\n",
      "'NoneType' object has no attribute 'text'\n"
     ]
    },
    {
     "name": "stderr",
     "output_type": "stream",
     "text": [
      "\n",
      " 56%|█████▋    | 9/16 [00:27<00:21,  3.10s/it]\u001b[A"
     ]
    },
    {
     "name": "stdout",
     "output_type": "stream",
     "text": [
      "attribute error:\n",
      "'NoneType' object has no attribute 'text'\n"
     ]
    },
    {
     "name": "stderr",
     "output_type": "stream",
     "text": [
      "\n",
      " 62%|██████▎   | 10/16 [00:30<00:18,  3.09s/it]\u001b[A"
     ]
    },
    {
     "name": "stdout",
     "output_type": "stream",
     "text": [
      "attribute error:\n",
      "'NoneType' object has no attribute 'text'\n"
     ]
    },
    {
     "name": "stderr",
     "output_type": "stream",
     "text": [
      "\n",
      " 69%|██████▉   | 11/16 [00:34<00:15,  3.12s/it]\u001b[A"
     ]
    },
    {
     "name": "stdout",
     "output_type": "stream",
     "text": [
      "attribute error:\n",
      "'NoneType' object has no attribute 'text'\n"
     ]
    },
    {
     "name": "stderr",
     "output_type": "stream",
     "text": [
      "\n",
      " 75%|███████▌  | 12/16 [00:37<00:12,  3.07s/it]\u001b[A"
     ]
    },
    {
     "name": "stdout",
     "output_type": "stream",
     "text": [
      "attribute error:\n",
      "'NoneType' object has no attribute 'text'\n"
     ]
    },
    {
     "name": "stderr",
     "output_type": "stream",
     "text": [
      "\n",
      " 81%|████████▏ | 13/16 [00:40<00:09,  3.15s/it]\u001b[A"
     ]
    },
    {
     "name": "stdout",
     "output_type": "stream",
     "text": [
      "attribute error:\n",
      "'NoneType' object has no attribute 'text'\n"
     ]
    },
    {
     "name": "stderr",
     "output_type": "stream",
     "text": [
      "\n",
      " 88%|████████▊ | 14/16 [00:43<00:06,  3.09s/it]\u001b[A"
     ]
    },
    {
     "name": "stdout",
     "output_type": "stream",
     "text": [
      "attribute error:\n",
      "'NoneType' object has no attribute 'text'\n"
     ]
    },
    {
     "name": "stderr",
     "output_type": "stream",
     "text": [
      "\n",
      " 94%|█████████▍| 15/16 [00:45<00:02,  2.89s/it]\u001b[A\n",
      "100%|██████████| 16/16 [00:48<00:00,  3.03s/it]\u001b[A\n",
      "\n",
      "  0%|          | 0/17 [00:00<?, ?it/s]\u001b[A\n",
      "  6%|▌         | 1/17 [00:03<00:50,  3.14s/it]\u001b[A"
     ]
    },
    {
     "name": "stdout",
     "output_type": "stream",
     "text": [
      "attribute error:\n",
      "'NoneType' object has no attribute 'text'\n"
     ]
    },
    {
     "name": "stderr",
     "output_type": "stream",
     "text": [
      "\n",
      " 12%|█▏        | 2/17 [00:05<00:45,  3.05s/it]\u001b[A"
     ]
    },
    {
     "name": "stdout",
     "output_type": "stream",
     "text": [
      "attribute error:\n",
      "'NoneType' object has no attribute 'text'\n"
     ]
    },
    {
     "name": "stderr",
     "output_type": "stream",
     "text": [
      "\n",
      " 18%|█▊        | 3/17 [00:08<00:42,  3.04s/it]\u001b[A"
     ]
    },
    {
     "name": "stdout",
     "output_type": "stream",
     "text": [
      "attribute error:\n",
      "'NoneType' object has no attribute 'text'\n"
     ]
    },
    {
     "name": "stderr",
     "output_type": "stream",
     "text": [
      "\n",
      " 24%|██▎       | 4/17 [00:12<00:39,  3.03s/it]\u001b[A"
     ]
    },
    {
     "name": "stdout",
     "output_type": "stream",
     "text": [
      "attribute error:\n",
      "'NoneType' object has no attribute 'text'\n"
     ]
    },
    {
     "name": "stderr",
     "output_type": "stream",
     "text": [
      "\n",
      " 29%|██▉       | 5/17 [00:15<00:36,  3.03s/it]\u001b[A"
     ]
    },
    {
     "name": "stdout",
     "output_type": "stream",
     "text": [
      "attribute error:\n",
      "'NoneType' object has no attribute 'text'\n"
     ]
    },
    {
     "name": "stderr",
     "output_type": "stream",
     "text": [
      "\n",
      " 35%|███▌      | 6/17 [00:17<00:32,  2.94s/it]\u001b[A"
     ]
    },
    {
     "name": "stdout",
     "output_type": "stream",
     "text": [
      "attribute error:\n",
      "'NoneType' object has no attribute 'text'\n"
     ]
    },
    {
     "name": "stderr",
     "output_type": "stream",
     "text": [
      "\n",
      " 41%|████      | 7/17 [00:21<00:30,  3.06s/it]\u001b[A"
     ]
    },
    {
     "name": "stdout",
     "output_type": "stream",
     "text": [
      "attribute error:\n",
      "'NoneType' object has no attribute 'text'\n"
     ]
    },
    {
     "name": "stderr",
     "output_type": "stream",
     "text": [
      "\n",
      " 47%|████▋     | 8/17 [00:24<00:27,  3.04s/it]\u001b[A"
     ]
    },
    {
     "name": "stdout",
     "output_type": "stream",
     "text": [
      "attribute error:\n",
      "'NoneType' object has no attribute 'text'\n"
     ]
    },
    {
     "name": "stderr",
     "output_type": "stream",
     "text": [
      "\n",
      " 53%|█████▎    | 9/17 [00:27<00:24,  3.02s/it]\u001b[A"
     ]
    },
    {
     "name": "stdout",
     "output_type": "stream",
     "text": [
      "attribute error:\n",
      "'NoneType' object has no attribute 'text'\n"
     ]
    },
    {
     "name": "stderr",
     "output_type": "stream",
     "text": [
      "\n",
      " 59%|█████▉    | 10/17 [00:30<00:21,  3.08s/it]\u001b[A"
     ]
    },
    {
     "name": "stdout",
     "output_type": "stream",
     "text": [
      "attribute error:\n",
      "'NoneType' object has no attribute 'text'\n"
     ]
    },
    {
     "name": "stderr",
     "output_type": "stream",
     "text": [
      "\n",
      " 65%|██████▍   | 11/17 [00:33<00:18,  3.09s/it]\u001b[A"
     ]
    },
    {
     "name": "stdout",
     "output_type": "stream",
     "text": [
      "attribute error:\n",
      "'NoneType' object has no attribute 'text'\n"
     ]
    },
    {
     "name": "stderr",
     "output_type": "stream",
     "text": [
      "\n",
      " 71%|███████   | 12/17 [00:36<00:15,  3.10s/it]\u001b[A"
     ]
    },
    {
     "name": "stdout",
     "output_type": "stream",
     "text": [
      "attribute error:\n",
      "'NoneType' object has no attribute 'text'\n"
     ]
    },
    {
     "name": "stderr",
     "output_type": "stream",
     "text": [
      "\n",
      " 76%|███████▋  | 13/17 [00:39<00:11,  2.94s/it]\u001b[A"
     ]
    },
    {
     "name": "stdout",
     "output_type": "stream",
     "text": [
      "attribute error:\n",
      "'NoneType' object has no attribute 'text'\n"
     ]
    },
    {
     "name": "stderr",
     "output_type": "stream",
     "text": [
      "\n",
      " 82%|████████▏ | 14/17 [00:42<00:08,  2.99s/it]\u001b[A"
     ]
    },
    {
     "name": "stdout",
     "output_type": "stream",
     "text": [
      "attribute error:\n",
      "'NoneType' object has no attribute 'text'\n"
     ]
    },
    {
     "name": "stderr",
     "output_type": "stream",
     "text": [
      "\n",
      " 88%|████████▊ | 15/17 [00:45<00:06,  3.04s/it]\u001b[A"
     ]
    },
    {
     "name": "stdout",
     "output_type": "stream",
     "text": [
      "attribute error:\n",
      "'NoneType' object has no attribute 'text'\n"
     ]
    },
    {
     "name": "stderr",
     "output_type": "stream",
     "text": [
      "\n",
      " 94%|█████████▍| 16/17 [00:48<00:03,  3.05s/it]\u001b[A"
     ]
    },
    {
     "name": "stdout",
     "output_type": "stream",
     "text": [
      "attribute error:\n",
      "'NoneType' object has no attribute 'text'\n"
     ]
    },
    {
     "name": "stderr",
     "output_type": "stream",
     "text": [
      "\n",
      "100%|██████████| 17/17 [00:51<00:00,  3.03s/it]\u001b[A\n",
      "\n",
      "  0%|          | 0/19 [00:00<?, ?it/s]\u001b[A"
     ]
    },
    {
     "name": "stdout",
     "output_type": "stream",
     "text": [
      "attribute error:\n",
      "'NoneType' object has no attribute 'text'\n"
     ]
    },
    {
     "name": "stderr",
     "output_type": "stream",
     "text": [
      "\n",
      "  5%|▌         | 1/19 [05:15<1:34:45, 315.85s/it]\n",
      " 44%|████▍     | 18/41 [1:05:03<3:11:35, 499.80s/it]\n",
      "  0%|          | 0/18 [00:00<?, ?it/s]\u001b[A\n",
      "  6%|▌         | 1/18 [00:03<00:51,  3.04s/it]\u001b[A"
     ]
    },
    {
     "name": "stdout",
     "output_type": "stream",
     "text": [
      "attribute error:\n",
      "'NoneType' object has no attribute 'text'\n"
     ]
    },
    {
     "name": "stderr",
     "output_type": "stream",
     "text": [
      "\n",
      " 11%|█         | 2/18 [00:05<00:48,  3.00s/it]\u001b[A\n",
      " 17%|█▋        | 3/18 [00:10<00:51,  3.41s/it]\u001b[A\n",
      " 22%|██▏       | 4/18 [00:14<00:52,  3.77s/it]\u001b[A\n",
      " 28%|██▊       | 5/18 [00:17<00:46,  3.55s/it]\u001b[A"
     ]
    },
    {
     "name": "stdout",
     "output_type": "stream",
     "text": [
      "attribute error:\n",
      "'NoneType' object has no attribute 'text'\n"
     ]
    },
    {
     "name": "stderr",
     "output_type": "stream",
     "text": [
      "\n",
      " 33%|███▎      | 6/18 [00:20<00:40,  3.35s/it]\u001b[A"
     ]
    },
    {
     "name": "stdout",
     "output_type": "stream",
     "text": [
      "attribute error:\n",
      "'NoneType' object has no attribute 'text'\n"
     ]
    },
    {
     "name": "stderr",
     "output_type": "stream",
     "text": [
      "\n",
      " 39%|███▉      | 7/18 [00:22<00:32,  2.97s/it]\u001b[A\n",
      " 44%|████▍     | 8/18 [00:25<00:29,  2.96s/it]\u001b[A"
     ]
    },
    {
     "name": "stdout",
     "output_type": "stream",
     "text": [
      "attribute error:\n",
      "'NoneType' object has no attribute 'text'\n"
     ]
    },
    {
     "name": "stderr",
     "output_type": "stream",
     "text": [
      "\n",
      " 50%|█████     | 9/18 [00:28<00:26,  2.96s/it]\u001b[A"
     ]
    },
    {
     "name": "stdout",
     "output_type": "stream",
     "text": [
      "attribute error:\n",
      "'NoneType' object has no attribute 'text'\n"
     ]
    },
    {
     "name": "stderr",
     "output_type": "stream",
     "text": [
      "\n",
      " 56%|█████▌    | 10/18 [00:33<00:27,  3.43s/it]\u001b[A\n",
      " 61%|██████    | 11/18 [00:37<00:25,  3.65s/it]\u001b[A\n",
      " 67%|██████▋   | 12/18 [00:40<00:21,  3.52s/it]\u001b[A\n",
      " 72%|███████▏  | 13/18 [00:42<00:15,  3.11s/it]\u001b[A\n",
      " 78%|███████▊  | 14/18 [00:46<00:12,  3.20s/it]\u001b[A\n",
      " 83%|████████▎ | 15/18 [00:48<00:08,  2.92s/it]\u001b[A\n",
      " 89%|████████▉ | 16/18 [00:52<00:06,  3.17s/it]\u001b[A\n",
      " 94%|█████████▍| 17/18 [00:54<00:03,  3.01s/it]\u001b[A\n",
      "100%|██████████| 18/18 [00:59<00:00,  3.28s/it]\u001b[A\n",
      "\n",
      "  0%|          | 0/13 [00:00<?, ?it/s]\u001b[A\n",
      "  8%|▊         | 1/13 [00:04<00:51,  4.28s/it]\u001b[A\n",
      " 15%|█▌        | 2/13 [00:06<00:40,  3.71s/it]\u001b[A\n",
      " 23%|██▎       | 3/13 [00:08<00:31,  3.10s/it]\u001b[A\n",
      " 31%|███       | 4/13 [00:12<00:30,  3.38s/it]\u001b[A\n",
      " 38%|███▊      | 5/13 [00:13<00:21,  2.67s/it]\u001b[A\n",
      " 46%|████▌     | 6/13 [00:15<00:18,  2.60s/it]\u001b[A"
     ]
    },
    {
     "name": "stdout",
     "output_type": "stream",
     "text": [
      "attribute error:\n",
      "'NoneType' object has no attribute 'text'\n"
     ]
    },
    {
     "name": "stderr",
     "output_type": "stream",
     "text": [
      "\n",
      " 54%|█████▍    | 7/13 [00:19<00:17,  2.84s/it]\u001b[A\n",
      " 62%|██████▏   | 8/13 [00:21<00:12,  2.53s/it]\u001b[A\n",
      " 69%|██████▉   | 9/13 [00:23<00:10,  2.52s/it]\u001b[A\n",
      " 77%|███████▋  | 10/13 [00:26<00:08,  2.74s/it]\u001b[A"
     ]
    },
    {
     "name": "stdout",
     "output_type": "stream",
     "text": [
      "attribute error:\n",
      "'NoneType' object has no attribute 'text'\n"
     ]
    },
    {
     "name": "stderr",
     "output_type": "stream",
     "text": [
      "\n",
      " 85%|████████▍ | 11/13 [00:29<00:05,  2.63s/it]\u001b[A\n",
      " 92%|█████████▏| 12/13 [00:32<00:02,  2.81s/it]\u001b[A\n",
      "100%|██████████| 13/13 [00:35<00:00,  2.75s/it]\u001b[A\n",
      " 46%|████▋     | 19/41 [1:06:37<2:18:43, 378.33s/it]\n",
      "  0%|          | 0/16 [00:00<?, ?it/s]\u001b[A\n",
      "  6%|▋         | 1/16 [00:03<00:49,  3.28s/it]\u001b[A"
     ]
    },
    {
     "name": "stdout",
     "output_type": "stream",
     "text": [
      "attribute error:\n",
      "'NoneType' object has no attribute 'text'\n"
     ]
    },
    {
     "name": "stderr",
     "output_type": "stream",
     "text": [
      "  6%|▋         | 1/16 [22:15<5:33:54, 1335.60s/it]\n",
      " 49%|████▉     | 20/41 [1:28:53<3:52:55, 665.52s/it]\n",
      "  0%|          | 0/15 [00:00<?, ?it/s]\u001b[A\n",
      "  7%|▋         | 1/15 [00:03<00:43,  3.08s/it]\u001b[A"
     ]
    },
    {
     "name": "stdout",
     "output_type": "stream",
     "text": [
      "attribute error:\n",
      "'NoneType' object has no attribute 'text'\n"
     ]
    },
    {
     "name": "stderr",
     "output_type": "stream",
     "text": [
      "\n",
      " 13%|█▎        | 2/15 [00:06<00:39,  3.04s/it]\u001b[A"
     ]
    },
    {
     "name": "stdout",
     "output_type": "stream",
     "text": [
      "attribute error:\n",
      "'NoneType' object has no attribute 'text'\n"
     ]
    },
    {
     "name": "stderr",
     "output_type": "stream",
     "text": [
      "\n",
      " 20%|██        | 3/15 [00:09<00:39,  3.30s/it]\u001b[A\n",
      " 27%|██▋       | 4/15 [00:13<00:36,  3.35s/it]\u001b[A\n",
      " 33%|███▎      | 5/15 [00:17<00:34,  3.48s/it]\u001b[A"
     ]
    },
    {
     "name": "stdout",
     "output_type": "stream",
     "text": [
      "attribute error:\n",
      "'NoneType' object has no attribute 'text'\n"
     ]
    },
    {
     "name": "stderr",
     "output_type": "stream",
     "text": [
      "\n",
      " 40%|████      | 6/15 [00:20<00:30,  3.38s/it]\u001b[A"
     ]
    },
    {
     "name": "stdout",
     "output_type": "stream",
     "text": [
      "attribute error:\n",
      "'NoneType' object has no attribute 'text'\n"
     ]
    },
    {
     "name": "stderr",
     "output_type": "stream",
     "text": [
      "\n",
      " 47%|████▋     | 7/15 [00:22<00:23,  2.97s/it]\u001b[A\n",
      " 53%|█████▎    | 8/15 [00:25<00:20,  2.98s/it]\u001b[A\n",
      " 60%|██████    | 9/15 [00:27<00:15,  2.62s/it]\u001b[A\n",
      " 67%|██████▋   | 10/15 [00:30<00:14,  2.81s/it]\u001b[A"
     ]
    },
    {
     "name": "stdout",
     "output_type": "stream",
     "text": [
      "attribute error:\n",
      "'NoneType' object has no attribute 'text'\n"
     ]
    },
    {
     "name": "stderr",
     "output_type": "stream",
     "text": [
      "\n",
      " 73%|███████▎  | 11/15 [00:34<00:12,  3.09s/it]\u001b[A\n",
      " 80%|████████  | 12/15 [00:37<00:09,  3.06s/it]\u001b[A"
     ]
    },
    {
     "name": "stdout",
     "output_type": "stream",
     "text": [
      "attribute error:\n",
      "'NoneType' object has no attribute 'text'\n"
     ]
    },
    {
     "name": "stderr",
     "output_type": "stream",
     "text": [
      "\n",
      " 87%|████████▋ | 13/15 [00:40<00:06,  3.08s/it]\u001b[A"
     ]
    },
    {
     "name": "stdout",
     "output_type": "stream",
     "text": [
      "attribute error:\n",
      "'NoneType' object has no attribute 'text'\n"
     ]
    },
    {
     "name": "stderr",
     "output_type": "stream",
     "text": [
      "\n",
      " 93%|█████████▎| 14/15 [00:43<00:03,  3.10s/it]\u001b[A"
     ]
    },
    {
     "name": "stdout",
     "output_type": "stream",
     "text": [
      "attribute error:\n",
      "'NoneType' object has no attribute 'text'\n"
     ]
    },
    {
     "name": "stderr",
     "output_type": "stream",
     "text": [
      "\n",
      "100%|██████████| 15/15 [00:46<00:00,  3.10s/it]\u001b[A\n",
      "\n",
      "  0%|          | 0/12 [00:00<?, ?it/s]\u001b[A"
     ]
    },
    {
     "name": "stdout",
     "output_type": "stream",
     "text": [
      "attribute error:\n",
      "'NoneType' object has no attribute 'text'\n"
     ]
    },
    {
     "name": "stderr",
     "output_type": "stream",
     "text": [
      "\n",
      "  8%|▊         | 1/12 [00:02<00:30,  2.75s/it]\u001b[A"
     ]
    },
    {
     "name": "stdout",
     "output_type": "stream",
     "text": [
      "attribute error:\n",
      "'NoneType' object has no attribute 'text'\n"
     ]
    },
    {
     "name": "stderr",
     "output_type": "stream",
     "text": [
      "\n",
      " 17%|█▋        | 2/12 [00:05<00:27,  2.70s/it]\u001b[A"
     ]
    },
    {
     "name": "stdout",
     "output_type": "stream",
     "text": [
      "attribute error:\n",
      "'NoneType' object has no attribute 'text'\n"
     ]
    },
    {
     "name": "stderr",
     "output_type": "stream",
     "text": [
      "\n",
      " 25%|██▌       | 3/12 [00:08<00:25,  2.78s/it]\u001b[A"
     ]
    },
    {
     "name": "stdout",
     "output_type": "stream",
     "text": [
      "attribute error:\n",
      "'NoneType' object has no attribute 'text'\n"
     ]
    },
    {
     "name": "stderr",
     "output_type": "stream",
     "text": [
      "\n",
      " 33%|███▎      | 4/12 [00:11<00:22,  2.83s/it]\u001b[A"
     ]
    },
    {
     "name": "stdout",
     "output_type": "stream",
     "text": [
      "attribute error:\n",
      "'NoneType' object has no attribute 'text'\n"
     ]
    },
    {
     "name": "stderr",
     "output_type": "stream",
     "text": [
      "\n",
      " 42%|████▏     | 5/12 [00:14<00:20,  2.88s/it]\u001b[A"
     ]
    },
    {
     "name": "stdout",
     "output_type": "stream",
     "text": [
      "attribute error:\n",
      "'NoneType' object has no attribute 'text'\n"
     ]
    },
    {
     "name": "stderr",
     "output_type": "stream",
     "text": [
      "\n",
      " 50%|█████     | 6/12 [00:18<00:18,  3.15s/it]\u001b[A\n",
      " 58%|█████▊    | 7/12 [00:20<00:15,  3.10s/it]\u001b[A"
     ]
    },
    {
     "name": "stdout",
     "output_type": "stream",
     "text": [
      "attribute error:\n",
      "'NoneType' object has no attribute 'text'\n"
     ]
    },
    {
     "name": "stderr",
     "output_type": "stream",
     "text": [
      "\n",
      " 67%|██████▋   | 8/12 [00:24<00:12,  3.09s/it]\u001b[A"
     ]
    },
    {
     "name": "stdout",
     "output_type": "stream",
     "text": [
      "attribute error:\n",
      "'NoneType' object has no attribute 'text'\n"
     ]
    },
    {
     "name": "stderr",
     "output_type": "stream",
     "text": [
      "\n",
      " 75%|███████▌  | 9/12 [00:26<00:08,  2.99s/it]\u001b[A"
     ]
    },
    {
     "name": "stdout",
     "output_type": "stream",
     "text": [
      "attribute error:\n",
      "'NoneType' object has no attribute 'text'\n"
     ]
    },
    {
     "name": "stderr",
     "output_type": "stream",
     "text": [
      "\n",
      " 83%|████████▎ | 10/12 [00:30<00:06,  3.10s/it]\u001b[A"
     ]
    },
    {
     "name": "stdout",
     "output_type": "stream",
     "text": [
      "attribute error:\n",
      "'NoneType' object has no attribute 'text'\n"
     ]
    },
    {
     "name": "stderr",
     "output_type": "stream",
     "text": [
      "\n",
      " 92%|█████████▏| 11/12 [00:33<00:03,  3.07s/it]\u001b[A"
     ]
    },
    {
     "name": "stdout",
     "output_type": "stream",
     "text": [
      "attribute error:\n",
      "'NoneType' object has no attribute 'text'\n"
     ]
    },
    {
     "name": "stderr",
     "output_type": "stream",
     "text": [
      "\n",
      "100%|██████████| 12/12 [00:36<00:00,  3.01s/it]\u001b[A\n",
      "\n",
      "  0%|          | 0/19 [00:00<?, ?it/s]\u001b[A"
     ]
    },
    {
     "name": "stdout",
     "output_type": "stream",
     "text": [
      "attribute error:\n",
      "'NoneType' object has no attribute 'text'\n"
     ]
    },
    {
     "name": "stderr",
     "output_type": "stream",
     "text": [
      "\n",
      "  5%|▌         | 1/19 [00:03<00:55,  3.08s/it]\u001b[A"
     ]
    },
    {
     "name": "stdout",
     "output_type": "stream",
     "text": [
      "attribute error:\n",
      "'NoneType' object has no attribute 'text'\n"
     ]
    },
    {
     "name": "stderr",
     "output_type": "stream",
     "text": [
      "\n",
      " 11%|█         | 2/19 [00:05<00:47,  2.77s/it]\u001b[A\n",
      " 16%|█▌        | 3/19 [00:07<00:41,  2.61s/it]\u001b[A\n",
      " 21%|██        | 4/19 [00:11<00:46,  3.11s/it]\u001b[A\n",
      " 26%|██▋       | 5/19 [00:14<00:43,  3.08s/it]\u001b[A"
     ]
    },
    {
     "name": "stdout",
     "output_type": "stream",
     "text": [
      "attribute error:\n",
      "'NoneType' object has no attribute 'text'\n"
     ]
    },
    {
     "name": "stderr",
     "output_type": "stream",
     "text": [
      "\n",
      " 32%|███▏      | 6/19 [00:19<00:45,  3.51s/it]\u001b[A\n",
      " 37%|███▋      | 7/19 [00:26<00:55,  4.60s/it]\u001b[A"
     ]
    },
    {
     "name": "stdout",
     "output_type": "stream",
     "text": [
      "attribute error:\n",
      "'NoneType' object has no attribute 'text'\n"
     ]
    },
    {
     "name": "stderr",
     "output_type": "stream",
     "text": [
      "\n",
      " 42%|████▏     | 8/19 [00:28<00:43,  3.98s/it]\u001b[A"
     ]
    },
    {
     "name": "stdout",
     "output_type": "stream",
     "text": [
      "attribute error:\n",
      "'NoneType' object has no attribute 'text'\n"
     ]
    },
    {
     "name": "stderr",
     "output_type": "stream",
     "text": [
      "\n",
      " 47%|████▋     | 9/19 [00:31<00:37,  3.70s/it]\u001b[A\n",
      " 53%|█████▎    | 10/19 [00:35<00:33,  3.75s/it]\u001b[A\n",
      " 58%|█████▊    | 11/19 [00:38<00:28,  3.60s/it]\u001b[A"
     ]
    },
    {
     "name": "stdout",
     "output_type": "stream",
     "text": [
      "attribute error:\n",
      "'NoneType' object has no attribute 'text'\n"
     ]
    },
    {
     "name": "stderr",
     "output_type": "stream",
     "text": [
      "\n",
      " 63%|██████▎   | 12/19 [00:42<00:24,  3.53s/it]\u001b[A"
     ]
    },
    {
     "name": "stdout",
     "output_type": "stream",
     "text": [
      "attribute error:\n",
      "'NoneType' object has no attribute 'text'\n"
     ]
    },
    {
     "name": "stderr",
     "output_type": "stream",
     "text": [
      "\n",
      " 68%|██████▊   | 13/19 [00:44<00:17,  2.97s/it]\u001b[A\n",
      " 74%|███████▎  | 14/19 [00:46<00:13,  2.79s/it]\u001b[A"
     ]
    },
    {
     "name": "stdout",
     "output_type": "stream",
     "text": [
      "attribute error:\n",
      "'NoneType' object has no attribute 'text'\n"
     ]
    },
    {
     "name": "stderr",
     "output_type": "stream",
     "text": [
      "\n",
      " 79%|███████▉  | 15/19 [00:49<00:11,  2.97s/it]\u001b[A\n",
      " 84%|████████▍ | 16/19 [00:53<00:09,  3.10s/it]\u001b[A\n",
      " 89%|████████▉ | 17/19 [00:55<00:05,  2.87s/it]\u001b[A\n",
      " 95%|█████████▍| 18/19 [00:58<00:02,  2.88s/it]\u001b[A"
     ]
    },
    {
     "name": "stdout",
     "output_type": "stream",
     "text": [
      "attribute error:\n",
      "'NoneType' object has no attribute 'text'\n"
     ]
    },
    {
     "name": "stderr",
     "output_type": "stream",
     "text": [
      "\n",
      "100%|██████████| 19/19 [01:00<00:00,  3.17s/it]\u001b[A\n",
      " 51%|█████     | 21/41 [1:31:16<2:49:34, 508.71s/it]\n",
      "  0%|          | 0/17 [00:00<?, ?it/s]\u001b[A\n",
      "  6%|▌         | 1/17 [00:01<00:31,  1.99s/it]\u001b[A\n",
      " 12%|█▏        | 2/17 [00:04<00:34,  2.29s/it]\u001b[A"
     ]
    },
    {
     "name": "stdout",
     "output_type": "stream",
     "text": [
      "attribute error:\n",
      "'NoneType' object has no attribute 'text'\n"
     ]
    },
    {
     "name": "stderr",
     "output_type": "stream",
     "text": [
      "\n",
      " 18%|█▊        | 3/17 [00:08<00:37,  2.69s/it]\u001b[A\n",
      " 24%|██▎       | 4/17 [00:13<00:44,  3.40s/it]\u001b[A\n",
      " 29%|██▉       | 5/17 [00:17<00:42,  3.55s/it]\u001b[A\n",
      " 35%|███▌      | 6/17 [00:20<00:37,  3.43s/it]\u001b[A\n",
      " 41%|████      | 7/17 [00:24<00:34,  3.47s/it]\u001b[A\n",
      " 47%|████▋     | 8/17 [00:25<00:26,  2.94s/it]\u001b[A\n",
      " 53%|█████▎    | 9/17 [00:26<00:18,  2.31s/it]\u001b[A\n",
      " 59%|█████▉    | 10/17 [00:30<00:18,  2.58s/it]\u001b[A\n",
      " 65%|██████▍   | 11/17 [00:33<00:16,  2.81s/it]\u001b[A"
     ]
    },
    {
     "name": "stdout",
     "output_type": "stream",
     "text": [
      "attribute error:\n",
      "'NoneType' object has no attribute 'text'\n"
     ]
    },
    {
     "name": "stderr",
     "output_type": "stream",
     "text": [
      "\n",
      " 71%|███████   | 12/17 [00:36<00:14,  2.99s/it]\u001b[A\n",
      " 76%|███████▋  | 13/17 [00:39<00:12,  3.02s/it]\u001b[A\n",
      " 82%|████████▏ | 14/17 [00:41<00:07,  2.64s/it]\u001b[A\n",
      " 88%|████████▊ | 15/17 [00:44<00:05,  2.83s/it]\u001b[A\n",
      " 94%|█████████▍| 16/17 [00:47<00:02,  2.66s/it]\u001b[A\n",
      "100%|██████████| 17/17 [00:48<00:00,  2.87s/it]\u001b[A\n",
      "\n",
      "  0%|          | 0/16 [00:00<?, ?it/s]\u001b[A\n",
      "  6%|▋         | 1/16 [00:01<00:29,  1.94s/it]\u001b[A\n",
      " 12%|█▎        | 2/16 [00:05<00:31,  2.28s/it]\u001b[A\n",
      " 19%|█▉        | 3/16 [00:07<00:30,  2.31s/it]\u001b[A\n",
      " 25%|██▌       | 4/16 [00:10<00:31,  2.66s/it]\u001b[A\n",
      " 31%|███▏      | 5/16 [00:15<00:34,  3.15s/it]\u001b[A\n",
      " 38%|███▊      | 6/16 [00:17<00:28,  2.88s/it]\u001b[A\n",
      " 44%|████▍     | 7/16 [00:18<00:21,  2.35s/it]\u001b[A\n",
      " 50%|█████     | 8/16 [00:19<00:15,  1.94s/it]\u001b[A\n",
      " 56%|█████▋    | 9/16 [00:20<00:11,  1.58s/it]\u001b[A\n",
      " 62%|██████▎   | 10/16 [00:24<00:15,  2.51s/it]\u001b[A\n",
      " 69%|██████▉   | 11/16 [00:30<00:16,  3.28s/it]\u001b[A\n",
      " 75%|███████▌  | 12/16 [00:36<00:16,  4.23s/it]\u001b[A\n",
      " 81%|████████▏ | 13/16 [00:39<00:11,  3.79s/it]\u001b[A\n",
      " 88%|████████▊ | 14/16 [00:41<00:06,  3.35s/it]\u001b[A"
     ]
    },
    {
     "name": "stdout",
     "output_type": "stream",
     "text": [
      "attribute error:\n",
      "'NoneType' object has no attribute 'text'\n"
     ]
    },
    {
     "name": "stderr",
     "output_type": "stream",
     "text": [
      "\n",
      " 94%|█████████▍| 15/16 [00:45<00:03,  3.46s/it]\u001b[A\n",
      "100%|██████████| 16/16 [00:49<00:00,  3.06s/it]\u001b[A\n",
      " 54%|█████▎    | 22/41 [1:32:54<2:02:03, 385.44s/it]\n",
      "  0%|          | 0/20 [00:00<?, ?it/s]\u001b[A\n",
      "  5%|▌         | 1/20 [00:01<00:33,  1.77s/it]\u001b[A\n",
      " 10%|█         | 2/20 [00:03<00:29,  1.62s/it]\u001b[A"
     ]
    },
    {
     "name": "stdout",
     "output_type": "stream",
     "text": [
      "attribute error:\n",
      "'NoneType' object has no attribute 'text'\n"
     ]
    },
    {
     "name": "stderr",
     "output_type": "stream",
     "text": [
      "\n",
      " 15%|█▌        | 3/20 [00:03<00:22,  1.33s/it]\u001b[A\n",
      " 20%|██        | 4/20 [00:05<00:21,  1.36s/it]\u001b[A\n",
      " 25%|██▌       | 5/20 [00:07<00:24,  1.66s/it]\u001b[A\n",
      " 30%|███       | 6/20 [00:11<00:33,  2.43s/it]\u001b[A\n",
      " 35%|███▌      | 7/20 [00:13<00:29,  2.28s/it]\u001b[A\n",
      " 40%|████      | 8/20 [00:15<00:26,  2.18s/it]\u001b[A\n",
      " 45%|████▌     | 9/20 [00:16<00:19,  1.74s/it]\u001b[A\n",
      " 50%|█████     | 10/20 [00:17<00:14,  1.43s/it]\u001b[A\n",
      " 55%|█████▌    | 11/20 [00:20<00:17,  1.97s/it]\u001b[A\n",
      " 60%|██████    | 12/20 [00:20<00:12,  1.58s/it]\u001b[A\n",
      " 65%|██████▌   | 13/20 [00:23<00:13,  2.00s/it]\u001b[A\n",
      " 70%|███████   | 14/20 [00:25<00:12,  2.00s/it]\u001b[A\n",
      " 75%|███████▌  | 15/20 [00:26<00:08,  1.62s/it]\u001b[A\n",
      " 80%|████████  | 16/20 [00:27<00:05,  1.35s/it]\u001b[A\n",
      " 85%|████████▌ | 17/20 [00:29<00:05,  1.69s/it]\u001b[A\n",
      " 90%|█████████ | 18/20 [00:32<00:04,  2.00s/it]\u001b[A\n",
      " 95%|█████████▌| 19/20 [00:35<00:02,  2.24s/it]\u001b[A\n",
      "100%|██████████| 20/20 [00:36<00:00,  1.81s/it]\u001b[A\n",
      " 56%|█████▌    | 23/41 [1:33:30<1:24:12, 280.69s/it]\n",
      "  0%|          | 0/19 [00:00<?, ?it/s]\u001b[A\n",
      "  5%|▌         | 1/19 [00:01<00:31,  1.73s/it]\u001b[A\n",
      " 11%|█         | 2/19 [00:04<00:34,  2.04s/it]\u001b[A"
     ]
    },
    {
     "name": "stdout",
     "output_type": "stream",
     "text": [
      "attribute error:\n",
      "'NoneType' object has no attribute 'text'\n"
     ]
    },
    {
     "name": "stderr",
     "output_type": "stream",
     "text": [
      "\n",
      " 16%|█▌        | 3/19 [00:05<00:30,  1.88s/it]\u001b[A\n",
      " 21%|██        | 4/19 [00:09<00:34,  2.28s/it]\u001b[A"
     ]
    },
    {
     "name": "stdout",
     "output_type": "stream",
     "text": [
      "attribute error:\n",
      "'NoneType' object has no attribute 'text'\n"
     ]
    },
    {
     "name": "stderr",
     "output_type": "stream",
     "text": [
      "\n",
      " 26%|██▋       | 5/19 [00:12<00:35,  2.52s/it]\u001b[A"
     ]
    },
    {
     "name": "stdout",
     "output_type": "stream",
     "text": [
      "attribute error:\n",
      "'NoneType' object has no attribute 'text'\n"
     ]
    },
    {
     "name": "stderr",
     "output_type": "stream",
     "text": [
      "\n",
      " 32%|███▏      | 6/19 [00:15<00:35,  2.72s/it]\u001b[A\n",
      " 37%|███▋      | 7/19 [00:16<00:25,  2.15s/it]\u001b[A\n",
      " 42%|████▏     | 8/19 [00:19<00:27,  2.51s/it]\u001b[A"
     ]
    },
    {
     "name": "stdout",
     "output_type": "stream",
     "text": [
      "attribute error:\n",
      "'NoneType' object has no attribute 'text'\n"
     ]
    },
    {
     "name": "stderr",
     "output_type": "stream",
     "text": [
      "\n",
      " 47%|████▋     | 9/19 [00:23<00:27,  2.77s/it]\u001b[A"
     ]
    },
    {
     "name": "stdout",
     "output_type": "stream",
     "text": [
      "attribute error:\n",
      "'NoneType' object has no attribute 'text'\n"
     ]
    },
    {
     "name": "stderr",
     "output_type": "stream",
     "text": [
      "\n",
      " 53%|█████▎    | 10/19 [00:26<00:26,  2.94s/it]\u001b[A"
     ]
    },
    {
     "name": "stdout",
     "output_type": "stream",
     "text": [
      "attribute error:\n",
      "'NoneType' object has no attribute 'text'\n"
     ]
    },
    {
     "name": "stderr",
     "output_type": "stream",
     "text": [
      "\n",
      " 58%|█████▊    | 11/19 [00:29<00:24,  3.06s/it]\u001b[A"
     ]
    },
    {
     "name": "stdout",
     "output_type": "stream",
     "text": [
      "attribute error:\n",
      "'NoneType' object has no attribute 'text'\n"
     ]
    },
    {
     "name": "stderr",
     "output_type": "stream",
     "text": [
      "\n",
      " 63%|██████▎   | 12/19 [00:32<00:21,  3.13s/it]\u001b[A\n",
      " 68%|██████▊   | 13/19 [00:36<00:18,  3.12s/it]\u001b[A\n",
      " 74%|███████▎  | 14/19 [00:39<00:15,  3.15s/it]\u001b[A"
     ]
    },
    {
     "name": "stdout",
     "output_type": "stream",
     "text": [
      "attribute error:\n",
      "'NoneType' object has no attribute 'text'\n"
     ]
    },
    {
     "name": "stderr",
     "output_type": "stream",
     "text": [
      "\n",
      " 79%|███████▉  | 15/19 [00:42<00:12,  3.08s/it]\u001b[A"
     ]
    },
    {
     "name": "stdout",
     "output_type": "stream",
     "text": [
      "attribute error:\n",
      "'NoneType' object has no attribute 'text'\n"
     ]
    },
    {
     "name": "stderr",
     "output_type": "stream",
     "text": [
      "\n",
      " 84%|████████▍ | 16/19 [00:44<00:08,  2.81s/it]\u001b[A\n",
      " 89%|████████▉ | 17/19 [00:47<00:05,  2.82s/it]\u001b[A"
     ]
    },
    {
     "name": "stdout",
     "output_type": "stream",
     "text": [
      "attribute error:\n",
      "'NoneType' object has no attribute 'text'\n"
     ]
    },
    {
     "name": "stderr",
     "output_type": "stream",
     "text": [
      "\n",
      " 95%|█████████▍| 18/19 [00:50<00:02,  2.98s/it]\u001b[A"
     ]
    },
    {
     "name": "stdout",
     "output_type": "stream",
     "text": [
      "attribute error:\n",
      "'NoneType' object has no attribute 'text'\n"
     ]
    },
    {
     "name": "stderr",
     "output_type": "stream",
     "text": [
      "\n",
      "100%|██████████| 19/19 [00:53<00:00,  2.83s/it]\u001b[A\n",
      "\n",
      "  0%|          | 0/14 [00:00<?, ?it/s]\u001b[A"
     ]
    },
    {
     "name": "stdout",
     "output_type": "stream",
     "text": [
      "attribute error:\n",
      "'NoneType' object has no attribute 'text'\n"
     ]
    },
    {
     "name": "stderr",
     "output_type": "stream",
     "text": [
      "\n",
      "  7%|▋         | 1/14 [00:01<00:22,  1.75s/it]\u001b[A\n",
      " 14%|█▍        | 2/14 [00:05<00:27,  2.32s/it]\u001b[A\n",
      " 21%|██▏       | 3/14 [00:08<00:28,  2.61s/it]\u001b[A\n",
      " 29%|██▊       | 4/14 [00:11<00:28,  2.82s/it]\u001b[A\n",
      " 36%|███▌      | 5/14 [00:13<00:21,  2.43s/it]\u001b[A\n",
      " 43%|████▎     | 6/14 [00:15<00:17,  2.23s/it]\u001b[A\n",
      " 50%|█████     | 7/14 [00:18<00:18,  2.64s/it]\u001b[A"
     ]
    },
    {
     "name": "stdout",
     "output_type": "stream",
     "text": [
      "attribute error:\n",
      "'NoneType' object has no attribute 'text'\n"
     ]
    },
    {
     "name": "stderr",
     "output_type": "stream",
     "text": [
      "\n",
      " 57%|█████▋    | 8/14 [00:22<00:17,  2.98s/it]\u001b[A\n",
      " 64%|██████▍   | 9/14 [00:26<00:16,  3.27s/it]\u001b[A\n",
      " 71%|███████▏  | 10/14 [00:28<00:11,  2.87s/it]\u001b[A\n",
      " 79%|███████▊  | 11/14 [00:35<00:12,  4.13s/it]\u001b[A\n",
      " 86%|████████▌ | 12/14 [00:40<00:08,  4.22s/it]\u001b[A\n",
      " 93%|█████████▎| 13/14 [00:43<00:03,  3.87s/it]\u001b[A"
     ]
    },
    {
     "name": "stdout",
     "output_type": "stream",
     "text": [
      "attribute error:\n",
      "'NoneType' object has no attribute 'text'\n"
     ]
    },
    {
     "name": "stderr",
     "output_type": "stream",
     "text": [
      "\n",
      "100%|██████████| 14/14 [00:44<00:00,  3.21s/it]\u001b[A\n",
      "\n",
      "  0%|          | 0/13 [00:00<?, ?it/s]\u001b[A\n",
      "  8%|▊         | 1/13 [00:05<01:08,  5.71s/it]\u001b[A\n",
      " 15%|█▌        | 2/13 [00:08<00:53,  4.86s/it]\u001b[A\n",
      " 23%|██▎       | 3/13 [00:14<00:52,  5.21s/it]\u001b[A\n",
      " 31%|███       | 4/13 [00:19<00:44,  4.99s/it]\u001b[A\n",
      " 38%|███▊      | 5/13 [00:22<00:35,  4.43s/it]\u001b[A"
     ]
    },
    {
     "name": "stdout",
     "output_type": "stream",
     "text": [
      "attribute error:\n",
      "'NoneType' object has no attribute 'text'\n"
     ]
    },
    {
     "name": "stderr",
     "output_type": "stream",
     "text": [
      "\n",
      " 46%|████▌     | 6/13 [00:24<00:26,  3.79s/it]\u001b[A\n",
      " 54%|█████▍    | 7/13 [00:27<00:20,  3.47s/it]\u001b[A\n",
      " 62%|██████▏   | 8/13 [00:34<00:23,  4.61s/it]\u001b[A\n",
      " 69%|██████▉   | 9/13 [00:38<00:18,  4.51s/it]\u001b[A\n",
      " 77%|███████▋  | 10/13 [00:41<00:11,  3.93s/it]\u001b[A\n",
      " 85%|████████▍ | 11/13 [00:44<00:07,  3.63s/it]\u001b[A"
     ]
    },
    {
     "name": "stdout",
     "output_type": "stream",
     "text": [
      "attribute error:\n",
      "'NoneType' object has no attribute 'text'\n"
     ]
    },
    {
     "name": "stderr",
     "output_type": "stream",
     "text": [
      "\n",
      " 92%|█████████▏| 12/13 [00:46<00:03,  3.17s/it]\u001b[A\n",
      "100%|██████████| 13/13 [00:48<00:00,  3.75s/it]\u001b[A\n",
      "\n",
      "  0%|          | 0/10 [00:00<?, ?it/s]\u001b[A\n",
      " 10%|█         | 1/10 [00:01<00:15,  1.71s/it]\u001b[A\n",
      " 20%|██        | 2/10 [00:05<00:19,  2.47s/it]\u001b[A\n",
      " 30%|███       | 3/10 [00:09<00:20,  2.87s/it]\u001b[A\n",
      " 40%|████      | 4/10 [00:12<00:17,  2.97s/it]\u001b[A\n",
      " 50%|█████     | 5/10 [00:14<00:13,  2.62s/it]\u001b[A\n",
      " 60%|██████    | 6/10 [00:17<00:10,  2.58s/it]\u001b[A\n",
      " 70%|███████   | 7/10 [00:20<00:08,  2.85s/it]\u001b[A\n",
      " 80%|████████  | 8/10 [00:23<00:05,  2.95s/it]\u001b[A\n",
      " 90%|█████████ | 9/10 [00:26<00:02,  2.93s/it]\u001b[A\n",
      "100%|██████████| 10/10 [00:29<00:00,  2.94s/it]\u001b[A\n",
      "\n",
      "  0%|          | 0/13 [00:00<?, ?it/s]\u001b[A\n",
      "  8%|▊         | 1/13 [00:03<00:46,  3.89s/it]\u001b[A\n",
      " 15%|█▌        | 2/13 [00:07<00:43,  3.92s/it]\u001b[A\n",
      " 23%|██▎       | 3/13 [00:10<00:35,  3.54s/it]\u001b[A"
     ]
    },
    {
     "name": "stdout",
     "output_type": "stream",
     "text": [
      "attribute error:\n",
      "'NoneType' object has no attribute 'text'\n"
     ]
    },
    {
     "name": "stderr",
     "output_type": "stream",
     "text": [
      "\n",
      " 31%|███       | 4/13 [00:12<00:26,  2.97s/it]\u001b[A\n",
      " 38%|███▊      | 5/13 [00:15<00:24,  3.03s/it]\u001b[A"
     ]
    },
    {
     "name": "stdout",
     "output_type": "stream",
     "text": [
      "attribute error:\n",
      "'NoneType' object has no attribute 'text'\n"
     ]
    },
    {
     "name": "stderr",
     "output_type": "stream",
     "text": [
      "\n",
      " 46%|████▌     | 6/13 [00:19<00:24,  3.48s/it]\u001b[A\n",
      " 54%|█████▍    | 7/13 [00:23<00:20,  3.44s/it]\u001b[A\n",
      " 62%|██████▏   | 8/13 [00:25<00:14,  2.97s/it]\u001b[A\n",
      " 69%|██████▉   | 9/13 [00:28<00:12,  3.13s/it]\u001b[A\n",
      " 77%|███████▋  | 10/13 [00:32<00:09,  3.23s/it]\u001b[A\n",
      " 85%|████████▍ | 11/13 [00:33<00:05,  2.72s/it]\u001b[A\n",
      " 92%|█████████▏| 12/13 [00:34<00:02,  2.31s/it]\u001b[A\n",
      "100%|██████████| 13/13 [00:36<00:00,  2.84s/it]\u001b[A\n",
      " 59%|█████▊    | 24/41 [1:37:04<1:13:50, 260.60s/it]\n",
      "  0%|          | 0/11 [00:00<?, ?it/s]\u001b[A\n",
      "  9%|▉         | 1/11 [00:02<00:29,  3.00s/it]\u001b[A\n",
      " 18%|█▊        | 2/11 [00:05<00:24,  2.74s/it]\u001b[A\n",
      " 27%|██▋       | 3/11 [00:08<00:23,  2.89s/it]\u001b[A\n",
      " 36%|███▋      | 4/11 [00:12<00:22,  3.26s/it]\u001b[A\n",
      " 45%|████▌     | 5/11 [00:14<00:16,  2.82s/it]\u001b[A\n",
      " 55%|█████▍    | 6/11 [00:16<00:12,  2.50s/it]\u001b[A\n",
      " 64%|██████▎   | 7/11 [00:17<00:09,  2.26s/it]\u001b[A\n",
      " 73%|███████▎  | 8/11 [00:19<00:06,  2.14s/it]\u001b[A\n",
      " 82%|████████▏ | 9/11 [00:22<00:04,  2.43s/it]\u001b[A\n",
      " 91%|█████████ | 10/11 [00:25<00:02,  2.38s/it]\u001b[A"
     ]
    },
    {
     "name": "stdout",
     "output_type": "stream",
     "text": [
      "attribute error:\n",
      "'NoneType' object has no attribute 'text'\n"
     ]
    },
    {
     "name": "stderr",
     "output_type": "stream",
     "text": [
      "\n",
      "100%|██████████| 11/11 [00:26<00:00,  2.39s/it]\u001b[A\n",
      " 61%|██████    | 25/41 [1:37:30<50:45, 190.32s/it]  \n",
      "  0%|          | 0/13 [00:00<?, ?it/s]\u001b[A\n",
      "  8%|▊         | 1/13 [00:02<00:35,  2.99s/it]\u001b[A"
     ]
    },
    {
     "name": "stdout",
     "output_type": "stream",
     "text": [
      "attribute error:\n",
      "'NoneType' object has no attribute 'text'\n"
     ]
    },
    {
     "name": "stderr",
     "output_type": "stream",
     "text": [
      "\n",
      " 15%|█▌        | 2/13 [00:03<00:25,  2.30s/it]\u001b[A\n",
      " 23%|██▎       | 3/13 [00:06<00:25,  2.54s/it]\u001b[A"
     ]
    },
    {
     "name": "stdout",
     "output_type": "stream",
     "text": [
      "attribute error:\n",
      "'NoneType' object has no attribute 'text'\n"
     ]
    },
    {
     "name": "stderr",
     "output_type": "stream",
     "text": [
      "\n",
      " 31%|███       | 4/13 [00:09<00:22,  2.54s/it]\u001b[A\n",
      " 38%|███▊      | 5/13 [00:12<00:21,  2.72s/it]\u001b[A"
     ]
    },
    {
     "name": "stdout",
     "output_type": "stream",
     "text": [
      "attribute error:\n",
      "'NoneType' object has no attribute 'text'\n"
     ]
    },
    {
     "name": "stderr",
     "output_type": "stream",
     "text": [
      "\n",
      " 46%|████▌     | 6/13 [00:15<00:19,  2.82s/it]\u001b[A"
     ]
    },
    {
     "name": "stdout",
     "output_type": "stream",
     "text": [
      "attribute error:\n",
      "'NoneType' object has no attribute 'text'\n"
     ]
    },
    {
     "name": "stderr",
     "output_type": "stream",
     "text": [
      "\n",
      " 54%|█████▍    | 7/13 [00:18<00:17,  2.87s/it]\u001b[A"
     ]
    },
    {
     "name": "stdout",
     "output_type": "stream",
     "text": [
      "attribute error:\n",
      "'NoneType' object has no attribute 'text'\n"
     ]
    },
    {
     "name": "stderr",
     "output_type": "stream",
     "text": [
      "\n",
      " 62%|██████▏   | 8/13 [00:19<00:11,  2.40s/it]\u001b[A"
     ]
    },
    {
     "name": "stdout",
     "output_type": "stream",
     "text": [
      "attribute error:\n",
      "'NoneType' object has no attribute 'text'\n"
     ]
    },
    {
     "name": "stderr",
     "output_type": "stream",
     "text": [
      "\n",
      " 69%|██████▉   | 9/13 [00:20<00:07,  1.91s/it]\u001b[A\n",
      " 77%|███████▋  | 10/13 [00:23<00:06,  2.26s/it]\u001b[A"
     ]
    },
    {
     "name": "stdout",
     "output_type": "stream",
     "text": [
      "attribute error:\n",
      "'NoneType' object has no attribute 'text'\n"
     ]
    },
    {
     "name": "stderr",
     "output_type": "stream",
     "text": [
      "\n",
      " 85%|████████▍ | 11/13 [00:26<00:04,  2.46s/it]\u001b[A"
     ]
    },
    {
     "name": "stdout",
     "output_type": "stream",
     "text": [
      "attribute error:\n",
      "'NoneType' object has no attribute 'text'\n"
     ]
    },
    {
     "name": "stderr",
     "output_type": "stream",
     "text": [
      "\n",
      " 92%|█████████▏| 12/13 [00:29<00:02,  2.65s/it]\u001b[A"
     ]
    },
    {
     "name": "stdout",
     "output_type": "stream",
     "text": [
      "attribute error:\n",
      "'NoneType' object has no attribute 'text'\n"
     ]
    },
    {
     "name": "stderr",
     "output_type": "stream",
     "text": [
      "\n",
      "100%|██████████| 13/13 [00:32<00:00,  2.48s/it]\u001b[A\n",
      "\n",
      "  0%|          | 0/16 [00:00<?, ?it/s]\u001b[A"
     ]
    },
    {
     "name": "stdout",
     "output_type": "stream",
     "text": [
      "attribute error:\n",
      "'NoneType' object has no attribute 'text'\n"
     ]
    },
    {
     "name": "stderr",
     "output_type": "stream",
     "text": [
      "\n",
      "  6%|▋         | 1/16 [00:00<00:10,  1.40it/s]\u001b[A\n",
      " 12%|█▎        | 2/16 [00:03<00:20,  1.44s/it]\u001b[A\n",
      " 19%|█▉        | 3/16 [00:07<00:28,  2.19s/it]\u001b[A\n",
      " 25%|██▌       | 4/16 [00:10<00:28,  2.33s/it]\u001b[A\n",
      " 31%|███▏      | 5/16 [00:13<00:27,  2.46s/it]\u001b[A"
     ]
    },
    {
     "name": "stdout",
     "output_type": "stream",
     "text": [
      "attribute error:\n",
      "'NoneType' object has no attribute 'text'\n"
     ]
    },
    {
     "name": "stderr",
     "output_type": "stream",
     "text": [
      "\n",
      " 38%|███▊      | 6/16 [00:16<00:26,  2.63s/it]\u001b[A"
     ]
    },
    {
     "name": "stdout",
     "output_type": "stream",
     "text": [
      "attribute error:\n",
      "'NoneType' object has no attribute 'text'\n"
     ]
    },
    {
     "name": "stderr",
     "output_type": "stream",
     "text": [
      "\n",
      " 44%|████▍     | 7/16 [00:18<00:21,  2.38s/it]\u001b[A\n",
      " 50%|█████     | 8/16 [00:20<00:20,  2.54s/it]\u001b[A"
     ]
    },
    {
     "name": "stdout",
     "output_type": "stream",
     "text": [
      "attribute error:\n",
      "'NoneType' object has no attribute 'text'\n"
     ]
    },
    {
     "name": "stderr",
     "output_type": "stream",
     "text": [
      "\n",
      " 56%|█████▋    | 9/16 [00:22<00:15,  2.16s/it]\u001b[A\n",
      " 62%|██████▎   | 10/16 [00:25<00:14,  2.42s/it]\u001b[A"
     ]
    },
    {
     "name": "stdout",
     "output_type": "stream",
     "text": [
      "attribute error:\n",
      "'NoneType' object has no attribute 'text'\n"
     ]
    },
    {
     "name": "stderr",
     "output_type": "stream",
     "text": [
      "\n",
      " 69%|██████▉   | 11/16 [00:28<00:12,  2.53s/it]\u001b[A\n",
      " 75%|███████▌  | 12/16 [00:30<00:09,  2.48s/it]\u001b[A\n",
      " 81%|████████▏ | 13/16 [00:31<00:05,  1.95s/it]\u001b[A\n",
      " 88%|████████▊ | 14/16 [00:33<00:03,  1.95s/it]\u001b[A\n",
      " 94%|█████████▍| 15/16 [00:33<00:01,  1.58s/it]\u001b[A\n",
      "100%|██████████| 16/16 [00:34<00:00,  2.16s/it]\u001b[A\n",
      "\n",
      "  0%|          | 0/14 [00:00<?, ?it/s]\u001b[A\n",
      "  7%|▋         | 1/14 [00:02<00:35,  2.76s/it]\u001b[A\n",
      " 14%|█▍        | 2/14 [00:06<00:35,  2.95s/it]\u001b[A\n",
      " 21%|██▏       | 3/14 [00:07<00:27,  2.49s/it]\u001b[A\n",
      " 29%|██▊       | 4/14 [00:10<00:27,  2.74s/it]\u001b[A\n",
      " 36%|███▌      | 5/14 [00:11<00:19,  2.13s/it]\u001b[A\n",
      " 43%|████▎     | 6/14 [00:14<00:17,  2.25s/it]\u001b[A\n",
      " 50%|█████     | 7/14 [00:17<00:18,  2.58s/it]\u001b[A\n",
      " 57%|█████▋    | 8/14 [00:20<00:16,  2.83s/it]\u001b[A"
     ]
    },
    {
     "name": "stdout",
     "output_type": "stream",
     "text": [
      "attribute error:\n",
      "'NoneType' object has no attribute 'text'\n"
     ]
    },
    {
     "name": "stderr",
     "output_type": "stream",
     "text": [
      "\n",
      " 64%|██████▍   | 9/14 [00:23<00:13,  2.62s/it]\u001b[A\n",
      " 71%|███████▏  | 10/14 [00:23<00:08,  2.05s/it]\u001b[A\n",
      " 79%|███████▊  | 11/14 [00:25<00:05,  1.94s/it]\u001b[A\n",
      " 86%|████████▌ | 12/14 [00:27<00:03,  1.93s/it]\u001b[A\n",
      " 93%|█████████▎| 13/14 [00:29<00:01,  1.92s/it]\u001b[A\n",
      "100%|██████████| 14/14 [00:31<00:00,  2.24s/it]\u001b[A\n",
      " 63%|██████▎   | 26/41 [1:39:08<40:40, 162.67s/it]\n",
      "  0%|          | 0/18 [00:00<?, ?it/s]\u001b[A\n",
      "  6%|▌         | 1/18 [00:00<00:12,  1.38it/s]\u001b[A\n",
      " 11%|█         | 2/18 [00:02<00:15,  1.07it/s]\u001b[A\n",
      " 17%|█▋        | 3/18 [00:03<00:16,  1.10s/it]\u001b[A\n",
      " 22%|██▏       | 4/18 [00:07<00:25,  1.80s/it]\u001b[A\n",
      " 28%|██▊       | 5/18 [00:08<00:22,  1.69s/it]\u001b[A\n",
      " 33%|███▎      | 6/18 [00:10<00:20,  1.67s/it]\u001b[A\n",
      " 39%|███▉      | 7/18 [00:10<00:15,  1.39s/it]\u001b[A\n",
      " 44%|████▍     | 8/18 [00:11<00:11,  1.18s/it]\u001b[A\n",
      " 50%|█████     | 9/18 [00:12<00:11,  1.24s/it]\u001b[A"
     ]
    },
    {
     "name": "stdout",
     "output_type": "stream",
     "text": [
      "attribute error:\n",
      "'NoneType' object has no attribute 'text'\n"
     ]
    },
    {
     "name": "stderr",
     "output_type": "stream",
     "text": [
      "\n",
      " 56%|█████▌    | 10/18 [00:13<00:08,  1.07s/it]\u001b[A\n",
      " 61%|██████    | 11/18 [00:15<00:08,  1.21s/it]\u001b[A\n",
      " 67%|██████▋   | 12/18 [00:15<00:06,  1.07s/it]\u001b[A\n",
      " 72%|███████▏  | 13/18 [00:17<00:05,  1.18s/it]\u001b[A\n",
      " 78%|███████▊  | 14/18 [00:18<00:04,  1.07s/it]\u001b[A\n",
      " 83%|████████▎ | 15/18 [00:18<00:02,  1.04it/s]\u001b[A\n",
      " 89%|████████▉ | 16/18 [00:21<00:03,  1.54s/it]\u001b[A\n",
      " 94%|█████████▍| 17/18 [00:25<00:02,  2.15s/it]\u001b[A\n",
      "100%|██████████| 18/18 [00:26<00:00,  1.45s/it]\u001b[A\n",
      "\n",
      "  0%|          | 0/13 [00:00<?, ?it/s]\u001b[A\n",
      "  8%|▊         | 1/13 [00:07<01:26,  7.20s/it]\u001b[A\n",
      " 15%|█▌        | 2/13 [00:08<01:00,  5.53s/it]\u001b[A\n",
      " 23%|██▎       | 3/13 [00:09<00:40,  4.09s/it]\u001b[A\n",
      " 31%|███       | 4/13 [00:13<00:35,  3.93s/it]\u001b[A\n",
      " 38%|███▊      | 5/13 [00:15<00:26,  3.34s/it]\u001b[A\n",
      " 46%|████▌     | 6/13 [00:15<00:18,  2.61s/it]\u001b[A\n",
      " 54%|█████▍    | 7/13 [00:16<00:12,  2.09s/it]\u001b[A\n",
      " 62%|██████▏   | 8/13 [00:17<00:08,  1.66s/it]\u001b[A\n",
      " 69%|██████▉   | 9/13 [00:19<00:07,  1.87s/it]\u001b[A\n",
      " 77%|███████▋  | 10/13 [00:21<00:05,  1.76s/it]\u001b[A\n",
      " 85%|████████▍ | 11/13 [00:23<00:03,  1.98s/it]\u001b[A\n",
      " 92%|█████████▏| 12/13 [00:24<00:01,  1.59s/it]\u001b[A\n",
      "100%|██████████| 13/13 [00:25<00:00,  1.99s/it]\u001b[A\n",
      " 66%|██████▌   | 27/41 [1:40:00<30:12, 129.45s/it]\n",
      "  0%|          | 0/17 [00:00<?, ?it/s]\u001b[A\n",
      "  6%|▌         | 1/17 [00:01<00:22,  1.43s/it]\u001b[A\n",
      " 12%|█▏        | 2/17 [00:02<00:18,  1.22s/it]\u001b[A\n",
      " 18%|█▊        | 3/17 [00:05<00:23,  1.71s/it]\u001b[A\n",
      " 24%|██▎       | 4/17 [00:06<00:21,  1.63s/it]\u001b[A\n",
      " 29%|██▉       | 5/17 [00:07<00:16,  1.36s/it]\u001b[A\n",
      " 35%|███▌      | 6/17 [00:08<00:15,  1.40s/it]\u001b[A\n",
      " 41%|████      | 7/17 [00:11<00:18,  1.84s/it]\u001b[A\n",
      " 47%|████▋     | 8/17 [00:14<00:19,  2.15s/it]\u001b[A\n",
      " 53%|█████▎    | 9/17 [00:15<00:13,  1.73s/it]\u001b[A\n",
      " 59%|█████▉    | 10/17 [00:17<00:12,  1.76s/it]\u001b[A\n",
      " 65%|██████▍   | 11/17 [00:17<00:08,  1.45s/it]\u001b[A\n",
      " 71%|███████   | 12/17 [00:18<00:05,  1.20s/it]\u001b[A\n",
      " 76%|███████▋  | 13/17 [00:22<00:08,  2.03s/it]\u001b[A"
     ]
    },
    {
     "name": "stdout",
     "output_type": "stream",
     "text": [
      "attribute error:\n",
      "'NoneType' object has no attribute 'text'\n"
     ]
    },
    {
     "name": "stderr",
     "output_type": "stream",
     "text": [
      "\n",
      " 82%|████████▏ | 14/17 [00:24<00:06,  2.04s/it]\u001b[A\n",
      " 88%|████████▊ | 15/17 [00:25<00:03,  1.64s/it]\u001b[A\n",
      " 94%|█████████▍| 16/17 [00:25<00:01,  1.36s/it]\u001b[A\n",
      "100%|██████████| 17/17 [00:29<00:00,  1.71s/it]\u001b[A\n",
      "\n",
      "  0%|          | 0/13 [00:00<?, ?it/s]\u001b[A"
     ]
    },
    {
     "name": "stdout",
     "output_type": "stream",
     "text": [
      "attribute error:\n",
      "'NoneType' object has no attribute 'text'\n"
     ]
    },
    {
     "name": "stderr",
     "output_type": "stream",
     "text": [
      "\n",
      "  8%|▊         | 1/13 [00:02<00:27,  2.33s/it]\u001b[A\n",
      " 15%|█▌        | 2/13 [00:04<00:23,  2.14s/it]\u001b[A\n",
      " 23%|██▎       | 3/13 [00:05<00:19,  1.92s/it]\u001b[A\n",
      " 31%|███       | 4/13 [00:06<00:15,  1.75s/it]\u001b[A\n",
      " 38%|███▊      | 5/13 [00:13<00:25,  3.18s/it]\u001b[A\n",
      " 46%|████▌     | 6/13 [00:15<00:20,  2.99s/it]\u001b[A\n",
      " 54%|█████▍    | 7/13 [00:18<00:17,  2.93s/it]\u001b[A\n",
      " 62%|██████▏   | 8/13 [00:21<00:13,  2.76s/it]\u001b[A\n",
      " 69%|██████▉   | 9/13 [00:22<00:09,  2.35s/it]\u001b[A"
     ]
    },
    {
     "name": "stdout",
     "output_type": "stream",
     "text": [
      "attribute error:\n",
      "'NoneType' object has no attribute 'text'\n"
     ]
    },
    {
     "name": "stderr",
     "output_type": "stream",
     "text": [
      "\n",
      " 77%|███████▋  | 10/13 [00:23<00:05,  1.87s/it]\u001b[A\n",
      " 85%|████████▍ | 11/13 [00:23<00:03,  1.53s/it]\u001b[A\n",
      " 92%|█████████▏| 12/13 [00:26<00:01,  1.99s/it]\u001b[A"
     ]
    },
    {
     "name": "stdout",
     "output_type": "stream",
     "text": [
      "attribute error:\n",
      "'NoneType' object has no attribute 'text'\n"
     ]
    },
    {
     "name": "stderr",
     "output_type": "stream",
     "text": [
      "\n",
      "100%|██████████| 13/13 [00:29<00:00,  2.25s/it]\u001b[A\n",
      "\n",
      "  0%|          | 0/12 [00:00<?, ?it/s]\u001b[A\n",
      "  8%|▊         | 1/12 [00:03<00:36,  3.28s/it]\u001b[A\n",
      " 17%|█▋        | 2/12 [00:05<00:28,  2.85s/it]\u001b[A\n",
      " 25%|██▌       | 3/12 [00:05<00:20,  2.23s/it]\u001b[A\n",
      " 33%|███▎      | 4/12 [00:08<00:18,  2.30s/it]\u001b[A\n",
      " 42%|████▏     | 5/12 [00:09<00:14,  2.04s/it]\u001b[A\n",
      " 50%|█████     | 6/12 [00:10<00:09,  1.50s/it]\u001b[A\n",
      " 58%|█████▊    | 7/12 [00:13<00:09,  1.96s/it]\u001b[A\n",
      " 67%|██████▋   | 8/12 [00:14<00:06,  1.66s/it]\u001b[A"
     ]
    },
    {
     "name": "stdout",
     "output_type": "stream",
     "text": [
      "attribute error:\n",
      "'NoneType' object has no attribute 'text'\n"
     ]
    },
    {
     "name": "stderr",
     "output_type": "stream",
     "text": [
      "\n",
      " 75%|███████▌  | 9/12 [00:15<00:04,  1.66s/it]\u001b[A\n",
      " 83%|████████▎ | 10/12 [00:16<00:02,  1.46s/it]\u001b[A\n",
      " 92%|█████████▏| 11/12 [00:17<00:01,  1.24s/it]\u001b[A\n",
      "100%|██████████| 12/12 [00:19<00:00,  1.59s/it]\u001b[A\n",
      "\n",
      "  0%|          | 0/9 [00:00<?, ?it/s]\u001b[A\n",
      " 11%|█         | 1/9 [00:03<00:29,  3.66s/it]\u001b[A\n",
      " 22%|██▏       | 2/9 [00:07<00:25,  3.57s/it]\u001b[A\n",
      " 33%|███▎      | 3/9 [00:07<00:15,  2.64s/it]\u001b[A\n",
      " 44%|████▍     | 4/9 [00:08<00:10,  2.06s/it]\u001b[A\n",
      " 56%|█████▌    | 5/9 [00:10<00:08,  2.01s/it]\u001b[A\n",
      " 67%|██████▋   | 6/9 [00:11<00:05,  1.86s/it]\u001b[A\n",
      " 78%|███████▊  | 7/9 [00:12<00:03,  1.51s/it]\u001b[A\n",
      " 89%|████████▉ | 8/9 [00:14<00:01,  1.80s/it]\u001b[A\n",
      "100%|██████████| 9/9 [00:16<00:00,  1.80s/it]\u001b[A\n",
      "\n",
      "  0%|          | 0/12 [00:00<?, ?it/s]\u001b[A\n",
      "  8%|▊         | 1/12 [00:03<00:33,  3.03s/it]\u001b[A\n",
      " 17%|█▋        | 2/12 [00:03<00:23,  2.31s/it]\u001b[A\n",
      " 25%|██▌       | 3/12 [00:05<00:19,  2.16s/it]\u001b[A\n",
      " 33%|███▎      | 4/12 [00:07<00:16,  2.07s/it]\u001b[A\n",
      " 42%|████▏     | 5/12 [00:10<00:15,  2.27s/it]\u001b[A\n",
      " 50%|█████     | 6/12 [00:10<00:10,  1.80s/it]\u001b[A\n",
      " 58%|█████▊    | 7/12 [00:11<00:07,  1.47s/it]\u001b[A\n",
      " 67%|██████▋   | 8/12 [00:12<00:04,  1.22s/it]\u001b[A\n",
      " 75%|███████▌  | 9/12 [00:14<00:04,  1.56s/it]\u001b[A\n",
      " 83%|████████▎ | 10/12 [00:15<00:02,  1.31s/it]\u001b[A\n",
      " 92%|█████████▏| 11/12 [00:17<00:01,  1.47s/it]\u001b[A\n",
      "100%|██████████| 12/12 [00:19<00:00,  1.66s/it]\u001b[A\n",
      "\n",
      "  0%|          | 0/13 [00:00<?, ?it/s]\u001b[A"
     ]
    },
    {
     "name": "stdout",
     "output_type": "stream",
     "text": [
      "attribute error:\n",
      "'NoneType' object has no attribute 'text'\n"
     ]
    },
    {
     "name": "stderr",
     "output_type": "stream",
     "text": [
      "\n",
      "  8%|▊         | 1/13 [00:01<00:18,  1.55s/it]\u001b[A\n",
      " 15%|█▌        | 2/13 [00:02<00:14,  1.29s/it]\u001b[A\n",
      " 23%|██▎       | 3/13 [00:02<00:11,  1.13s/it]\u001b[A\n",
      " 31%|███       | 4/13 [00:04<00:10,  1.20s/it]\u001b[A\n",
      " 38%|███▊      | 5/13 [00:08<00:16,  2.10s/it]\u001b[A\n",
      " 46%|████▌     | 6/13 [00:09<00:11,  1.71s/it]\u001b[A\n",
      " 54%|█████▍    | 7/13 [00:10<00:08,  1.41s/it]\u001b[A\n",
      " 62%|██████▏   | 8/13 [00:11<00:07,  1.43s/it]\u001b[A\n",
      " 69%|██████▉   | 9/13 [00:12<00:04,  1.21s/it]\u001b[A\n",
      " 77%|███████▋  | 10/13 [00:14<00:04,  1.54s/it]\u001b[A\n",
      " 85%|████████▍ | 11/13 [00:15<00:02,  1.30s/it]\u001b[A\n",
      " 92%|█████████▏| 12/13 [00:16<00:01,  1.13s/it]\u001b[A\n",
      "100%|██████████| 13/13 [00:19<00:00,  1.46s/it]\u001b[A\n",
      "\n",
      "  0%|          | 0/8 [00:00<?, ?it/s]\u001b[A"
     ]
    },
    {
     "name": "stdout",
     "output_type": "stream",
     "text": [
      "attribute error:\n",
      "'NoneType' object has no attribute 'text'\n"
     ]
    },
    {
     "name": "stderr",
     "output_type": "stream",
     "text": [
      "\n",
      " 12%|█▎        | 1/8 [00:01<00:11,  1.66s/it]\u001b[A\n",
      " 25%|██▌       | 2/8 [00:04<00:12,  2.03s/it]\u001b[A\n",
      " 38%|███▊      | 3/8 [00:05<00:08,  1.63s/it]\u001b[A\n",
      " 50%|█████     | 4/8 [00:06<00:05,  1.48s/it]\u001b[A\n",
      " 62%|██████▎   | 5/8 [00:10<00:06,  2.31s/it]\u001b[A\n",
      " 75%|███████▌  | 6/8 [00:11<00:03,  1.85s/it]\u001b[A\n",
      " 88%|████████▊ | 7/8 [00:12<00:01,  1.73s/it]\u001b[A"
     ]
    },
    {
     "name": "stdout",
     "output_type": "stream",
     "text": [
      "attribute error:\n",
      "'NoneType' object has no attribute 'text'\n"
     ]
    },
    {
     "name": "stderr",
     "output_type": "stream",
     "text": [
      "\n",
      "100%|██████████| 8/8 [00:15<00:00,  1.99s/it]\u001b[A\n",
      "\n",
      "  0%|          | 0/9 [00:00<?, ?it/s]\u001b[A"
     ]
    },
    {
     "name": "stdout",
     "output_type": "stream",
     "text": [
      "attribute error:\n",
      "'NoneType' object has no attribute 'text'\n"
     ]
    },
    {
     "name": "stderr",
     "output_type": "stream",
     "text": [
      "\n",
      " 11%|█         | 1/9 [00:01<00:13,  1.63s/it]\u001b[A\n",
      " 22%|██▏       | 2/9 [00:02<00:09,  1.33s/it]\u001b[A\n",
      " 33%|███▎      | 3/9 [00:02<00:06,  1.13s/it]\u001b[A\n",
      " 44%|████▍     | 4/9 [00:03<00:04,  1.01it/s]\u001b[A\n",
      " 56%|█████▌    | 5/9 [00:05<00:05,  1.34s/it]\u001b[A\n",
      " 67%|██████▋   | 6/9 [00:07<00:04,  1.45s/it]\u001b[A\n",
      " 78%|███████▊  | 7/9 [00:09<00:03,  1.51s/it]\u001b[A\n",
      " 89%|████████▉ | 8/9 [00:11<00:01,  1.79s/it]\u001b[A\n",
      "100%|██████████| 9/9 [00:12<00:00,  1.35s/it]\u001b[A\n",
      " 68%|██████▊   | 28/41 [1:42:41<30:04, 138.82s/it]\n",
      "  0%|          | 0/18 [00:00<?, ?it/s]\u001b[A\n",
      "  6%|▌         | 1/18 [00:00<00:11,  1.43it/s]\u001b[A\n",
      " 11%|█         | 2/18 [00:04<00:24,  1.51s/it]\u001b[A\n",
      " 17%|█▋        | 3/18 [00:04<00:19,  1.27s/it]\u001b[A\n",
      " 22%|██▏       | 4/18 [00:05<00:15,  1.10s/it]\u001b[A\n",
      " 28%|██▊       | 5/18 [00:07<00:18,  1.46s/it]\u001b[A\n",
      " 33%|███▎      | 6/18 [00:08<00:15,  1.25s/it]\u001b[A\n",
      " 39%|███▉      | 7/18 [00:11<00:19,  1.77s/it]\u001b[A\n",
      " 44%|████▍     | 8/18 [00:14<00:21,  2.16s/it]\u001b[A"
     ]
    },
    {
     "name": "stdout",
     "output_type": "stream",
     "text": [
      "attribute error:\n",
      "'NoneType' object has no attribute 'text'\n"
     ]
    },
    {
     "name": "stderr",
     "output_type": "stream",
     "text": [
      "\n",
      " 50%|█████     | 9/18 [00:15<00:15,  1.73s/it]\u001b[A\n",
      " 56%|█████▌    | 10/18 [00:16<00:11,  1.49s/it]\u001b[A\n",
      " 61%|██████    | 11/18 [00:16<00:08,  1.25s/it]\u001b[A\n",
      " 67%|██████▋   | 12/18 [00:19<00:09,  1.55s/it]\u001b[A\n",
      " 72%|███████▏  | 13/18 [00:22<00:10,  2.20s/it]\u001b[A\n",
      " 78%|███████▊  | 14/18 [00:23<00:06,  1.75s/it]\u001b[A\n",
      " 83%|████████▎ | 15/18 [00:25<00:05,  1.86s/it]\u001b[A\n",
      " 89%|████████▉ | 16/18 [00:28<00:04,  2.16s/it]\u001b[A"
     ]
    },
    {
     "name": "stdout",
     "output_type": "stream",
     "text": [
      "attribute error:\n",
      "'NoneType' object has no attribute 'text'\n"
     ]
    },
    {
     "name": "stderr",
     "output_type": "stream",
     "text": [
      "\n",
      " 94%|█████████▍| 17/18 [00:29<00:01,  1.71s/it]\u001b[A\n",
      "100%|██████████| 18/18 [00:31<00:00,  1.75s/it]\u001b[A\n",
      "\n",
      "  0%|          | 0/15 [00:00<?, ?it/s]\u001b[A\n",
      "  7%|▋         | 1/15 [00:01<00:18,  1.34s/it]\u001b[A\n",
      " 13%|█▎        | 2/15 [00:03<00:20,  1.61s/it]\u001b[A\n",
      " 20%|██        | 3/15 [00:04<00:16,  1.34s/it]\u001b[A\n",
      " 27%|██▋       | 4/15 [00:05<00:15,  1.45s/it]\u001b[A\n",
      " 33%|███▎      | 5/15 [00:09<00:20,  2.02s/it]\u001b[A\n",
      " 40%|████      | 6/15 [00:10<00:14,  1.62s/it]\u001b[A\n",
      " 47%|████▋     | 7/15 [00:11<00:12,  1.53s/it]\u001b[A\n",
      " 53%|█████▎    | 8/15 [00:14<00:13,  1.94s/it]\u001b[A\n",
      " 60%|██████    | 9/15 [00:15<00:10,  1.75s/it]\u001b[A\n",
      " 67%|██████▋   | 10/15 [00:16<00:08,  1.63s/it]\u001b[A"
     ]
    },
    {
     "name": "stdout",
     "output_type": "stream",
     "text": [
      "attribute error:\n",
      "'NoneType' object has no attribute 'text'\n"
     ]
    },
    {
     "name": "stderr",
     "output_type": "stream",
     "text": [
      "\n",
      " 73%|███████▎  | 11/15 [00:19<00:07,  1.88s/it]\u001b[A"
     ]
    },
    {
     "name": "stdout",
     "output_type": "stream",
     "text": [
      "attribute error:\n",
      "'NoneType' object has no attribute 'text'\n"
     ]
    },
    {
     "name": "stderr",
     "output_type": "stream",
     "text": [
      "\n",
      " 80%|████████  | 12/15 [00:19<00:04,  1.50s/it]\u001b[A\n",
      " 87%|████████▋ | 13/15 [00:22<00:03,  1.78s/it]\u001b[A\n",
      " 93%|█████████▎| 14/15 [00:24<00:01,  1.74s/it]\u001b[A\n",
      "100%|██████████| 15/15 [00:26<00:00,  1.78s/it]\u001b[A\n",
      "\n",
      "  0%|          | 0/14 [00:00<?, ?it/s]\u001b[A\n",
      "  7%|▋         | 1/14 [00:02<00:27,  2.12s/it]\u001b[A\n",
      " 14%|█▍        | 2/14 [00:02<00:20,  1.68s/it]\u001b[A\n",
      " 21%|██▏       | 3/14 [00:03<00:15,  1.37s/it]\u001b[A\n",
      " 29%|██▊       | 4/14 [00:06<00:18,  1.87s/it]\u001b[A"
     ]
    },
    {
     "name": "stdout",
     "output_type": "stream",
     "text": [
      "attribute error:\n",
      "'NoneType' object has no attribute 'text'\n"
     ]
    },
    {
     "name": "stderr",
     "output_type": "stream",
     "text": [
      "\n",
      " 36%|███▌      | 5/14 [00:09<00:20,  2.33s/it]\u001b[A\n",
      " 43%|████▎     | 6/14 [00:12<00:18,  2.29s/it]\u001b[A\n",
      " 50%|█████     | 7/14 [00:12<00:12,  1.80s/it]\u001b[A\n",
      " 57%|█████▋    | 8/14 [00:13<00:08,  1.45s/it]\u001b[A\n",
      " 64%|██████▍   | 9/14 [00:15<00:08,  1.63s/it]\u001b[A\n",
      " 71%|███████▏  | 10/14 [00:17<00:06,  1.72s/it]\u001b[A\n",
      " 79%|███████▊  | 11/14 [00:19<00:05,  1.95s/it]\u001b[A\n",
      " 86%|████████▌ | 12/14 [00:20<00:03,  1.61s/it]\u001b[A\n",
      " 93%|█████████▎| 13/14 [00:22<00:01,  1.69s/it]\u001b[A\n",
      "100%|██████████| 14/14 [00:24<00:00,  1.72s/it]\u001b[A\n",
      "\n",
      "  0%|          | 0/16 [00:00<?, ?it/s]\u001b[A\n",
      "  6%|▋         | 1/16 [00:01<00:24,  1.62s/it]\u001b[A\n",
      " 12%|█▎        | 2/16 [00:02<00:19,  1.42s/it]\u001b[A\n",
      " 19%|█▉        | 3/16 [00:03<00:15,  1.20s/it]\u001b[A\n",
      " 25%|██▌       | 4/16 [00:06<00:20,  1.71s/it]\u001b[A\n",
      " 31%|███▏      | 5/16 [00:09<00:23,  2.10s/it]\u001b[A\n",
      " 38%|███▊      | 6/16 [00:09<00:16,  1.69s/it]\u001b[A\n",
      " 44%|████▍     | 7/16 [00:12<00:17,  1.95s/it]\u001b[A\n",
      " 50%|█████     | 8/16 [00:13<00:12,  1.58s/it]\u001b[A\n",
      " 56%|█████▋    | 9/16 [00:13<00:09,  1.32s/it]\u001b[A\n",
      " 62%|██████▎   | 10/16 [00:16<00:09,  1.60s/it]\u001b[A\n",
      " 69%|██████▉   | 11/16 [00:18<00:09,  1.92s/it]\u001b[A\n",
      " 75%|███████▌  | 12/16 [00:19<00:06,  1.56s/it]\u001b[A\n",
      " 81%|████████▏ | 13/16 [00:20<00:04,  1.37s/it]\u001b[A\n",
      " 88%|████████▊ | 14/16 [00:22<00:03,  1.57s/it]\u001b[A\n",
      " 94%|█████████▍| 15/16 [00:25<00:01,  1.97s/it]\u001b[A"
     ]
    },
    {
     "name": "stdout",
     "output_type": "stream",
     "text": [
      "attribute error:\n",
      "'NoneType' object has no attribute 'text'\n"
     ]
    },
    {
     "name": "stderr",
     "output_type": "stream",
     "text": [
      "\n",
      "100%|██████████| 16/16 [00:28<00:00,  1.75s/it]\u001b[A\n",
      " 71%|███████   | 29/41 [1:44:31<26:03, 130.29s/it]\n",
      "  0%|          | 0/12 [00:00<?, ?it/s]\u001b[A"
     ]
    },
    {
     "name": "stdout",
     "output_type": "stream",
     "text": [
      "attribute error:\n",
      "'NoneType' object has no attribute 'text'\n"
     ]
    },
    {
     "name": "stderr",
     "output_type": "stream",
     "text": [
      "\n",
      "  8%|▊         | 1/12 [00:03<00:34,  3.14s/it]\u001b[A\n",
      " 17%|█▋        | 2/12 [00:04<00:25,  2.54s/it]\u001b[A\n",
      " 25%|██▌       | 3/12 [00:07<00:24,  2.72s/it]\u001b[A"
     ]
    },
    {
     "name": "stdout",
     "output_type": "stream",
     "text": [
      "attribute error:\n",
      "'NoneType' object has no attribute 'text'\n"
     ]
    },
    {
     "name": "stderr",
     "output_type": "stream",
     "text": [
      "\n",
      " 33%|███▎      | 4/12 [00:10<00:22,  2.83s/it]\u001b[A"
     ]
    },
    {
     "name": "stdout",
     "output_type": "stream",
     "text": [
      "attribute error:\n",
      "'NoneType' object has no attribute 'text'\n"
     ]
    },
    {
     "name": "stderr",
     "output_type": "stream",
     "text": [
      "\n",
      " 42%|████▏     | 5/12 [00:13<00:19,  2.82s/it]\u001b[A"
     ]
    },
    {
     "name": "stdout",
     "output_type": "stream",
     "text": [
      "attribute error:\n",
      "'NoneType' object has no attribute 'text'\n"
     ]
    },
    {
     "name": "stderr",
     "output_type": "stream",
     "text": [
      "\n",
      " 50%|█████     | 6/12 [00:16<00:17,  2.97s/it]\u001b[A"
     ]
    },
    {
     "name": "stdout",
     "output_type": "stream",
     "text": [
      "attribute error:\n",
      "'NoneType' object has no attribute 'text'\n"
     ]
    },
    {
     "name": "stderr",
     "output_type": "stream",
     "text": [
      "\n",
      " 58%|█████▊    | 7/12 [00:19<00:14,  2.99s/it]\u001b[A"
     ]
    },
    {
     "name": "stdout",
     "output_type": "stream",
     "text": [
      "attribute error:\n",
      "'NoneType' object has no attribute 'text'\n"
     ]
    },
    {
     "name": "stderr",
     "output_type": "stream",
     "text": [
      "\n",
      " 67%|██████▋   | 8/12 [00:22<00:11,  2.98s/it]\u001b[A"
     ]
    },
    {
     "name": "stdout",
     "output_type": "stream",
     "text": [
      "attribute error:\n",
      "'NoneType' object has no attribute 'text'\n"
     ]
    },
    {
     "name": "stderr",
     "output_type": "stream",
     "text": [
      "\n",
      " 75%|███████▌  | 9/12 [00:25<00:08,  2.97s/it]\u001b[A"
     ]
    },
    {
     "name": "stdout",
     "output_type": "stream",
     "text": [
      "attribute error:\n",
      "'NoneType' object has no attribute 'text'\n"
     ]
    },
    {
     "name": "stderr",
     "output_type": "stream",
     "text": [
      "\n",
      " 83%|████████▎ | 10/12 [00:28<00:05,  3.00s/it]\u001b[A"
     ]
    },
    {
     "name": "stdout",
     "output_type": "stream",
     "text": [
      "attribute error:\n",
      "'NoneType' object has no attribute 'text'\n"
     ]
    },
    {
     "name": "stderr",
     "output_type": "stream",
     "text": [
      "\n",
      " 92%|█████████▏| 11/12 [00:31<00:02,  2.99s/it]\u001b[A"
     ]
    },
    {
     "name": "stdout",
     "output_type": "stream",
     "text": [
      "attribute error:\n",
      "'NoneType' object has no attribute 'text'\n"
     ]
    },
    {
     "name": "stderr",
     "output_type": "stream",
     "text": [
      "\n",
      "100%|██████████| 12/12 [00:34<00:00,  2.86s/it]\u001b[A\n",
      "\n",
      "  0%|          | 0/17 [00:00<?, ?it/s]\u001b[A"
     ]
    },
    {
     "name": "stdout",
     "output_type": "stream",
     "text": [
      "attribute error:\n",
      "'NoneType' object has no attribute 'text'\n"
     ]
    },
    {
     "name": "stderr",
     "output_type": "stream",
     "text": [
      "\n",
      "  6%|▌         | 1/17 [00:02<00:42,  2.66s/it]\u001b[A"
     ]
    },
    {
     "name": "stdout",
     "output_type": "stream",
     "text": [
      "attribute error:\n",
      "'NoneType' object has no attribute 'text'\n"
     ]
    },
    {
     "name": "stderr",
     "output_type": "stream",
     "text": [
      "\n",
      " 12%|█▏        | 2/17 [00:03<00:33,  2.21s/it]\u001b[A\n",
      " 18%|█▊        | 3/17 [00:09<00:43,  3.11s/it]\u001b[A"
     ]
    },
    {
     "name": "stdout",
     "output_type": "stream",
     "text": [
      "attribute error:\n",
      "'NoneType' object has no attribute 'text'\n"
     ]
    },
    {
     "name": "stderr",
     "output_type": "stream",
     "text": [
      "\n",
      " 24%|██▎       | 4/17 [00:13<00:44,  3.44s/it]\u001b[A\n",
      " 29%|██▉       | 5/17 [00:16<00:39,  3.31s/it]\u001b[A"
     ]
    },
    {
     "name": "stdout",
     "output_type": "stream",
     "text": [
      "attribute error:\n",
      "'NoneType' object has no attribute 'text'\n"
     ]
    },
    {
     "name": "stderr",
     "output_type": "stream",
     "text": [
      "\n",
      " 35%|███▌      | 6/17 [00:19<00:35,  3.20s/it]\u001b[A\n",
      " 41%|████      | 7/17 [00:21<00:29,  2.97s/it]\u001b[A\n",
      " 47%|████▋     | 8/17 [00:24<00:27,  3.03s/it]\u001b[A"
     ]
    },
    {
     "name": "stdout",
     "output_type": "stream",
     "text": [
      "attribute error:\n",
      "'NoneType' object has no attribute 'text'\n"
     ]
    },
    {
     "name": "stderr",
     "output_type": "stream",
     "text": [
      "\n",
      " 53%|█████▎    | 9/17 [00:27<00:23,  3.00s/it]\u001b[A"
     ]
    },
    {
     "name": "stdout",
     "output_type": "stream",
     "text": [
      "attribute error:\n",
      "'NoneType' object has no attribute 'text'\n"
     ]
    },
    {
     "name": "stderr",
     "output_type": "stream",
     "text": [
      "\n",
      " 59%|█████▉    | 10/17 [00:30<00:21,  3.01s/it]\u001b[A"
     ]
    },
    {
     "name": "stdout",
     "output_type": "stream",
     "text": [
      "attribute error:\n",
      "'NoneType' object has no attribute 'text'\n"
     ]
    },
    {
     "name": "stderr",
     "output_type": "stream",
     "text": [
      "\n",
      " 65%|██████▍   | 11/17 [00:37<00:24,  4.13s/it]\u001b[A"
     ]
    },
    {
     "name": "stdout",
     "output_type": "stream",
     "text": [
      "attribute error:\n",
      "'NoneType' object has no attribute 'text'\n"
     ]
    },
    {
     "name": "stderr",
     "output_type": "stream",
     "text": [
      "\n",
      " 71%|███████   | 12/17 [00:40<00:18,  3.78s/it]\u001b[A"
     ]
    },
    {
     "name": "stdout",
     "output_type": "stream",
     "text": [
      "attribute error:\n",
      "'NoneType' object has no attribute 'text'\n"
     ]
    },
    {
     "name": "stderr",
     "output_type": "stream",
     "text": [
      "\n",
      " 76%|███████▋  | 13/17 [00:43<00:14,  3.55s/it]\u001b[A"
     ]
    },
    {
     "name": "stdout",
     "output_type": "stream",
     "text": [
      "attribute error:\n",
      "'NoneType' object has no attribute 'text'\n"
     ]
    },
    {
     "name": "stderr",
     "output_type": "stream",
     "text": [
      "\n",
      " 82%|████████▏ | 14/17 [00:46<00:10,  3.40s/it]\u001b[A"
     ]
    },
    {
     "name": "stdout",
     "output_type": "stream",
     "text": [
      "attribute error:\n",
      "'NoneType' object has no attribute 'text'\n"
     ]
    },
    {
     "name": "stderr",
     "output_type": "stream",
     "text": [
      "\n",
      " 88%|████████▊ | 15/17 [00:49<00:06,  3.28s/it]\u001b[A"
     ]
    },
    {
     "name": "stdout",
     "output_type": "stream",
     "text": [
      "attribute error:\n",
      "'NoneType' object has no attribute 'text'\n"
     ]
    },
    {
     "name": "stderr",
     "output_type": "stream",
     "text": [
      "\n",
      " 94%|█████████▍| 16/17 [00:52<00:03,  3.20s/it]\u001b[A"
     ]
    },
    {
     "name": "stdout",
     "output_type": "stream",
     "text": [
      "attribute error:\n",
      "'NoneType' object has no attribute 'text'\n"
     ]
    },
    {
     "name": "stderr",
     "output_type": "stream",
     "text": [
      "\n",
      "100%|██████████| 17/17 [00:54<00:00,  3.23s/it]\u001b[A\n",
      "\n",
      "  0%|          | 0/9 [00:00<?, ?it/s]\u001b[A\n",
      " 11%|█         | 1/9 [00:02<00:23,  2.88s/it]\u001b[A\n",
      " 22%|██▏       | 2/9 [00:04<00:16,  2.38s/it]\u001b[A\n",
      " 33%|███▎      | 3/9 [00:06<00:14,  2.46s/it]\u001b[A"
     ]
    },
    {
     "name": "stdout",
     "output_type": "stream",
     "text": [
      "attribute error:\n",
      "'NoneType' object has no attribute 'text'\n"
     ]
    },
    {
     "name": "stderr",
     "output_type": "stream",
     "text": [
      "\n",
      " 44%|████▍     | 4/9 [00:09<00:13,  2.64s/it]\u001b[A"
     ]
    },
    {
     "name": "stdout",
     "output_type": "stream",
     "text": [
      "attribute error:\n",
      "'NoneType' object has no attribute 'text'\n"
     ]
    },
    {
     "name": "stderr",
     "output_type": "stream",
     "text": [
      "\n",
      " 56%|█████▌    | 5/9 [00:12<00:11,  2.80s/it]\u001b[A"
     ]
    },
    {
     "name": "stdout",
     "output_type": "stream",
     "text": [
      "attribute error:\n",
      "'NoneType' object has no attribute 'text'\n"
     ]
    },
    {
     "name": "stderr",
     "output_type": "stream",
     "text": [
      "\n",
      " 67%|██████▋   | 6/9 [00:15<00:07,  2.59s/it]\u001b[A\n",
      " 78%|███████▊  | 7/9 [00:18<00:05,  2.97s/it]\u001b[A\n",
      " 89%|████████▉ | 8/9 [00:21<00:02,  2.98s/it]\u001b[A"
     ]
    },
    {
     "name": "stdout",
     "output_type": "stream",
     "text": [
      "attribute error:\n",
      "'NoneType' object has no attribute 'text'\n"
     ]
    },
    {
     "name": "stderr",
     "output_type": "stream",
     "text": [
      "\n",
      "100%|██████████| 9/9 [00:24<00:00,  2.77s/it]\u001b[A\n",
      " 73%|███████▎  | 30/41 [1:46:25<23:00, 125.46s/it]\n",
      "  0%|          | 0/16 [00:00<?, ?it/s]\u001b[A"
     ]
    },
    {
     "name": "stdout",
     "output_type": "stream",
     "text": [
      "attribute error:\n",
      "'NoneType' object has no attribute 'text'\n"
     ]
    },
    {
     "name": "stderr",
     "output_type": "stream",
     "text": [
      "\n",
      "  6%|▋         | 1/16 [00:01<00:20,  1.39s/it]\u001b[A\n",
      " 12%|█▎        | 2/16 [00:03<00:22,  1.62s/it]\u001b[A\n",
      " 19%|█▉        | 3/16 [00:05<00:20,  1.58s/it]\u001b[A\n",
      " 25%|██▌       | 4/16 [00:07<00:23,  1.95s/it]\u001b[A\n",
      " 31%|███▏      | 5/16 [00:09<00:20,  1.89s/it]\u001b[A\n",
      " 38%|███▊      | 6/16 [00:10<00:15,  1.57s/it]\u001b[A\n",
      " 44%|████▍     | 7/16 [00:11<00:12,  1.34s/it]\u001b[A\n",
      " 50%|█████     | 8/16 [00:13<00:12,  1.59s/it]\u001b[A\n",
      " 56%|█████▋    | 9/16 [00:14<00:10,  1.54s/it]\u001b[A\n",
      " 62%|██████▎   | 10/16 [00:15<00:07,  1.30s/it]\u001b[A\n",
      " 69%|██████▉   | 11/16 [00:17<00:07,  1.55s/it]\u001b[A\n",
      " 75%|███████▌  | 12/16 [00:20<00:07,  1.91s/it]\u001b[A\n",
      " 81%|████████▏ | 13/16 [00:21<00:04,  1.52s/it]\u001b[A\n",
      " 88%|████████▊ | 14/16 [00:23<00:03,  1.68s/it]\u001b[A\n",
      " 94%|█████████▍| 15/16 [00:23<00:01,  1.26s/it]\u001b[A\n",
      "100%|██████████| 16/16 [00:26<00:00,  1.64s/it]\u001b[A\n",
      "\n",
      "  0%|          | 0/17 [00:00<?, ?it/s]\u001b[A"
     ]
    },
    {
     "name": "stdout",
     "output_type": "stream",
     "text": [
      "attribute error:\n",
      "'NoneType' object has no attribute 'text'\n"
     ]
    },
    {
     "name": "stderr",
     "output_type": "stream",
     "text": [
      "\n",
      "  6%|▌         | 1/17 [00:00<00:03,  4.66it/s]\u001b[A\n",
      " 12%|█▏        | 2/17 [00:02<00:12,  1.22it/s]\u001b[A\n",
      " 18%|█▊        | 3/17 [00:06<00:23,  1.65s/it]\u001b[A\n",
      " 24%|██▎       | 4/17 [00:06<00:17,  1.34s/it]\u001b[A\n",
      " 29%|██▉       | 5/17 [00:07<00:13,  1.16s/it]\u001b[A\n",
      " 35%|███▌      | 6/17 [00:10<00:18,  1.67s/it]\u001b[A"
     ]
    },
    {
     "name": "stdout",
     "output_type": "stream",
     "text": [
      "attribute error:\n",
      "'NoneType' object has no attribute 'text'\n"
     ]
    },
    {
     "name": "stderr",
     "output_type": "stream",
     "text": [
      "\n",
      " 41%|████      | 7/17 [00:11<00:14,  1.44s/it]\u001b[A\n",
      " 47%|████▋     | 8/17 [00:13<00:14,  1.66s/it]\u001b[A"
     ]
    },
    {
     "name": "stdout",
     "output_type": "stream",
     "text": [
      "attribute error:\n",
      "'NoneType' object has no attribute 'text'\n"
     ]
    },
    {
     "name": "stderr",
     "output_type": "stream",
     "text": [
      "\n",
      " 53%|█████▎    | 9/17 [00:14<00:12,  1.56s/it]\u001b[A\n",
      " 59%|█████▉    | 10/17 [00:16<00:11,  1.66s/it]\u001b[A\n",
      " 65%|██████▍   | 11/17 [00:17<00:08,  1.36s/it]\u001b[A\n",
      " 71%|███████   | 12/17 [00:17<00:05,  1.13s/it]\u001b[A\n",
      " 76%|███████▋  | 13/17 [00:18<00:04,  1.01s/it]\u001b[A\n",
      " 82%|████████▏ | 14/17 [00:20<00:04,  1.41s/it]\u001b[A\n",
      " 88%|████████▊ | 15/17 [00:22<00:03,  1.61s/it]\u001b[A\n",
      " 94%|█████████▍| 16/17 [00:23<00:01,  1.34s/it]\u001b[A\n",
      "100%|██████████| 17/17 [00:26<00:00,  1.54s/it]\u001b[A\n",
      "\n",
      "  0%|          | 0/12 [00:00<?, ?it/s]\u001b[A\n",
      "  8%|▊         | 1/12 [00:03<00:41,  3.73s/it]\u001b[A\n",
      " 17%|█▋        | 2/12 [00:04<00:29,  2.90s/it]\u001b[A\n",
      " 25%|██▌       | 3/12 [00:06<00:23,  2.62s/it]\u001b[A\n",
      " 33%|███▎      | 4/12 [00:07<00:17,  2.23s/it]\u001b[A\n",
      " 42%|████▏     | 5/12 [00:09<00:13,  1.96s/it]\u001b[A"
     ]
    },
    {
     "name": "stdout",
     "output_type": "stream",
     "text": [
      "attribute error:\n",
      "'NoneType' object has no attribute 'text'\n"
     ]
    },
    {
     "name": "stderr",
     "output_type": "stream",
     "text": [
      "\n",
      " 50%|█████     | 6/12 [00:10<00:09,  1.60s/it]\u001b[A\n",
      " 58%|█████▊    | 7/12 [00:10<00:06,  1.31s/it]\u001b[A\n",
      " 67%|██████▋   | 8/12 [00:13<00:07,  1.83s/it]\u001b[A\n",
      " 75%|███████▌  | 9/12 [00:16<00:06,  2.20s/it]\u001b[A\n",
      " 83%|████████▎ | 10/12 [00:18<00:04,  2.18s/it]\u001b[A\n",
      " 92%|█████████▏| 11/12 [00:21<00:02,  2.16s/it]\u001b[A\n",
      "100%|██████████| 12/12 [00:24<00:00,  2.00s/it]\u001b[A\n",
      "\n",
      "  0%|          | 0/12 [00:00<?, ?it/s]\u001b[A\n",
      "  8%|▊         | 1/12 [00:00<00:08,  1.30it/s]\u001b[A\n",
      " 17%|█▋        | 2/12 [00:03<00:12,  1.26s/it]\u001b[A\n",
      " 25%|██▌       | 3/12 [00:03<00:08,  1.06it/s]\u001b[A\n",
      " 33%|███▎      | 4/12 [00:03<00:05,  1.38it/s]\u001b[A\n",
      " 42%|████▏     | 5/12 [00:05<00:07,  1.08s/it]\u001b[A\n",
      " 50%|█████     | 6/12 [00:07<00:07,  1.32s/it]\u001b[A\n",
      " 58%|█████▊    | 7/12 [00:09<00:07,  1.56s/it]\u001b[A\n",
      " 67%|██████▋   | 8/12 [00:09<00:04,  1.23s/it]\u001b[A\n",
      " 75%|███████▌  | 9/12 [00:10<00:02,  1.08it/s]\u001b[A\n",
      " 83%|████████▎ | 10/12 [00:12<00:02,  1.26s/it]\u001b[A\n",
      " 92%|█████████▏| 11/12 [00:14<00:01,  1.44s/it]\u001b[A\n",
      "100%|██████████| 12/12 [00:14<00:00,  1.25s/it]\u001b[A\n",
      "\n",
      "  0%|          | 0/12 [00:00<?, ?it/s]\u001b[A"
     ]
    },
    {
     "name": "stdout",
     "output_type": "stream",
     "text": [
      "attribute error:\n",
      "'NoneType' object has no attribute 'text'\n"
     ]
    },
    {
     "name": "stderr",
     "output_type": "stream",
     "text": [
      "\n",
      "  8%|▊         | 1/12 [00:00<00:02,  4.15it/s]\u001b[A\n",
      " 17%|█▋        | 2/12 [00:00<00:02,  4.26it/s]\u001b[A\n",
      " 25%|██▌       | 3/12 [00:01<00:03,  2.80it/s]\u001b[A\n",
      " 33%|███▎      | 4/12 [00:01<00:03,  2.42it/s]\u001b[A\n",
      " 42%|████▏     | 5/12 [00:01<00:02,  2.80it/s]\u001b[A\n",
      " 50%|█████     | 6/12 [00:02<00:02,  2.67it/s]\u001b[A\n",
      " 58%|█████▊    | 7/12 [00:02<00:01,  2.91it/s]\u001b[A\n",
      " 67%|██████▋   | 8/12 [00:02<00:01,  3.17it/s]\u001b[A\n",
      " 75%|███████▌  | 9/12 [00:03<00:00,  3.46it/s]\u001b[A\n",
      " 83%|████████▎ | 10/12 [00:03<00:00,  3.64it/s]\u001b[A\n",
      " 92%|█████████▏| 11/12 [00:04<00:00,  2.10it/s]\u001b[A"
     ]
    },
    {
     "name": "stdout",
     "output_type": "stream",
     "text": [
      "attribute error:\n",
      "'NoneType' object has no attribute 'text'\n"
     ]
    },
    {
     "name": "stderr",
     "output_type": "stream",
     "text": [
      "\n",
      "100%|██████████| 12/12 [00:04<00:00,  2.56it/s]\u001b[A\n",
      " 76%|███████▌  | 31/41 [1:48:02<19:26, 116.65s/it]\n",
      "  0%|          | 0/16 [00:00<?, ?it/s]\u001b[A\n",
      "  6%|▋         | 1/16 [00:00<00:09,  1.54it/s]\u001b[A\n",
      " 12%|█▎        | 2/16 [00:03<00:19,  1.37s/it]\u001b[A"
     ]
    },
    {
     "name": "stdout",
     "output_type": "stream",
     "text": [
      "attribute error:\n",
      "'NoneType' object has no attribute 'text'\n"
     ]
    },
    {
     "name": "stderr",
     "output_type": "stream",
     "text": [
      "\n",
      " 19%|█▉        | 3/16 [00:06<00:24,  1.85s/it]\u001b[A"
     ]
    },
    {
     "name": "stdout",
     "output_type": "stream",
     "text": [
      "attribute error:\n",
      "'NoneType' object has no attribute 'text'\n"
     ]
    },
    {
     "name": "stderr",
     "output_type": "stream",
     "text": [
      "\n",
      " 25%|██▌       | 4/16 [00:09<00:25,  2.16s/it]\u001b[A"
     ]
    },
    {
     "name": "stdout",
     "output_type": "stream",
     "text": [
      "attribute error:\n",
      "'NoneType' object has no attribute 'text'\n"
     ]
    },
    {
     "name": "stderr",
     "output_type": "stream",
     "text": [
      "\n",
      " 31%|███▏      | 5/16 [00:12<00:26,  2.39s/it]\u001b[A"
     ]
    },
    {
     "name": "stdout",
     "output_type": "stream",
     "text": [
      "attribute error:\n",
      "'NoneType' object has no attribute 'text'\n"
     ]
    },
    {
     "name": "stderr",
     "output_type": "stream",
     "text": [
      "\n",
      " 38%|███▊      | 6/16 [00:15<00:25,  2.57s/it]\u001b[A"
     ]
    },
    {
     "name": "stdout",
     "output_type": "stream",
     "text": [
      "attribute error:\n",
      "'NoneType' object has no attribute 'text'\n"
     ]
    },
    {
     "name": "stderr",
     "output_type": "stream",
     "text": [
      "\n",
      " 44%|████▍     | 7/16 [00:18<00:24,  2.72s/it]\u001b[A"
     ]
    },
    {
     "name": "stdout",
     "output_type": "stream",
     "text": [
      "attribute error:\n",
      "'NoneType' object has no attribute 'text'\n"
     ]
    },
    {
     "name": "stderr",
     "output_type": "stream",
     "text": [
      "\n",
      " 50%|█████     | 8/16 [00:21<00:22,  2.83s/it]\u001b[A"
     ]
    },
    {
     "name": "stdout",
     "output_type": "stream",
     "text": [
      "attribute error:\n",
      "'NoneType' object has no attribute 'text'\n"
     ]
    },
    {
     "name": "stderr",
     "output_type": "stream",
     "text": [
      "\n",
      " 56%|█████▋    | 9/16 [00:24<00:20,  2.88s/it]\u001b[A"
     ]
    },
    {
     "name": "stdout",
     "output_type": "stream",
     "text": [
      "attribute error:\n",
      "'NoneType' object has no attribute 'text'\n"
     ]
    },
    {
     "name": "stderr",
     "output_type": "stream",
     "text": [
      "\n",
      " 62%|██████▎   | 10/16 [00:27<00:17,  2.89s/it]\u001b[A"
     ]
    },
    {
     "name": "stdout",
     "output_type": "stream",
     "text": [
      "attribute error:\n",
      "'NoneType' object has no attribute 'text'\n"
     ]
    },
    {
     "name": "stderr",
     "output_type": "stream",
     "text": [
      "\n",
      " 69%|██████▉   | 11/16 [00:30<00:14,  2.94s/it]\u001b[A"
     ]
    },
    {
     "name": "stdout",
     "output_type": "stream",
     "text": [
      "attribute error:\n",
      "'NoneType' object has no attribute 'text'\n"
     ]
    },
    {
     "name": "stderr",
     "output_type": "stream",
     "text": [
      "\n",
      " 75%|███████▌  | 12/16 [00:33<00:11,  2.96s/it]\u001b[A"
     ]
    },
    {
     "name": "stdout",
     "output_type": "stream",
     "text": [
      "attribute error:\n",
      "'NoneType' object has no attribute 'text'\n"
     ]
    },
    {
     "name": "stderr",
     "output_type": "stream",
     "text": [
      "\n",
      " 81%|████████▏ | 13/16 [00:36<00:09,  3.06s/it]\u001b[A"
     ]
    },
    {
     "name": "stdout",
     "output_type": "stream",
     "text": [
      "attribute error:\n",
      "'NoneType' object has no attribute 'text'\n"
     ]
    },
    {
     "name": "stderr",
     "output_type": "stream",
     "text": [
      "\n",
      " 88%|████████▊ | 14/16 [00:39<00:06,  3.03s/it]\u001b[A"
     ]
    },
    {
     "name": "stdout",
     "output_type": "stream",
     "text": [
      "attribute error:\n",
      "'NoneType' object has no attribute 'text'\n"
     ]
    },
    {
     "name": "stderr",
     "output_type": "stream",
     "text": [
      "\n",
      " 94%|█████████▍| 15/16 [00:42<00:03,  3.02s/it]\u001b[A"
     ]
    },
    {
     "name": "stdout",
     "output_type": "stream",
     "text": [
      "attribute error:\n",
      "'NoneType' object has no attribute 'text'\n"
     ]
    },
    {
     "name": "stderr",
     "output_type": "stream",
     "text": [
      "\n",
      "100%|██████████| 16/16 [00:45<00:00,  2.87s/it]\u001b[A\n",
      "\n",
      "  0%|          | 0/18 [00:00<?, ?it/s]\u001b[A"
     ]
    },
    {
     "name": "stdout",
     "output_type": "stream",
     "text": [
      "attribute error:\n",
      "'NoneType' object has no attribute 'text'\n"
     ]
    },
    {
     "name": "stderr",
     "output_type": "stream",
     "text": [
      "\n",
      "  6%|▌         | 1/18 [00:01<00:18,  1.07s/it]\u001b[A\n",
      " 11%|█         | 2/18 [00:02<00:19,  1.23s/it]\u001b[A\n",
      " 17%|█▋        | 3/18 [00:05<00:26,  1.78s/it]\u001b[A\n",
      " 22%|██▏       | 4/18 [00:09<00:35,  2.51s/it]\u001b[A\n",
      " 28%|██▊       | 5/18 [00:11<00:29,  2.25s/it]\u001b[A\n",
      " 33%|███▎      | 6/18 [00:12<00:21,  1.78s/it]\u001b[A\n",
      " 39%|███▉      | 7/18 [00:13<00:16,  1.48s/it]\u001b[A\n",
      " 44%|████▍     | 8/18 [00:13<00:12,  1.24s/it]\u001b[A\n",
      " 50%|█████     | 9/18 [00:14<00:09,  1.08s/it]\u001b[A\n",
      " 56%|█████▌    | 10/18 [00:17<00:13,  1.64s/it]\u001b[A"
     ]
    },
    {
     "name": "stdout",
     "output_type": "stream",
     "text": [
      "attribute error:\n",
      "'NoneType' object has no attribute 'text'\n"
     ]
    },
    {
     "name": "stderr",
     "output_type": "stream",
     "text": [
      "\n",
      " 61%|██████    | 11/18 [00:19<00:11,  1.67s/it]\u001b[A\n",
      " 67%|██████▋   | 12/18 [00:21<00:10,  1.73s/it]\u001b[A\n",
      " 72%|███████▏  | 13/18 [00:21<00:07,  1.42s/it]\u001b[A\n",
      " 78%|███████▊  | 14/18 [00:22<00:04,  1.18s/it]\u001b[A\n",
      " 83%|████████▎ | 15/18 [00:24<00:04,  1.59s/it]\u001b[A\n",
      " 89%|████████▉ | 16/18 [00:27<00:04,  2.00s/it]\u001b[A\n",
      " 94%|█████████▍| 17/18 [00:28<00:01,  1.62s/it]\u001b[A\n",
      "100%|██████████| 18/18 [00:31<00:00,  1.76s/it]\u001b[A\n",
      "\n",
      "  0%|          | 0/13 [00:00<?, ?it/s]\u001b[A"
     ]
    },
    {
     "name": "stdout",
     "output_type": "stream",
     "text": [
      "attribute error:\n",
      "'NoneType' object has no attribute 'text'\n"
     ]
    },
    {
     "name": "stderr",
     "output_type": "stream",
     "text": [
      "\n",
      "  8%|▊         | 1/13 [00:00<00:05,  2.21it/s]\u001b[A\n",
      " 15%|█▌        | 2/13 [00:03<00:12,  1.17s/it]\u001b[A\n",
      " 23%|██▎       | 3/13 [00:04<00:10,  1.04s/it]\u001b[A\n",
      " 31%|███       | 4/13 [00:05<00:09,  1.09s/it]\u001b[A\n",
      " 38%|███▊      | 5/13 [00:06<00:10,  1.29s/it]\u001b[A\n",
      " 46%|████▌     | 6/13 [00:08<00:09,  1.30s/it]\u001b[A\n",
      " 54%|█████▍    | 7/13 [00:11<00:10,  1.76s/it]\u001b[A\n",
      " 62%|██████▏   | 8/13 [00:11<00:07,  1.46s/it]\u001b[A\n",
      " 69%|██████▉   | 9/13 [00:14<00:07,  1.85s/it]\u001b[A\n",
      " 77%|███████▋  | 10/13 [00:15<00:04,  1.51s/it]\u001b[A\n",
      " 85%|████████▍ | 11/13 [00:17<00:03,  1.58s/it]\u001b[A\n",
      " 92%|█████████▏| 12/13 [00:20<00:02,  2.04s/it]\u001b[A"
     ]
    },
    {
     "name": "stdout",
     "output_type": "stream",
     "text": [
      "attribute error:\n",
      "'NoneType' object has no attribute 'text'\n"
     ]
    },
    {
     "name": "stderr",
     "output_type": "stream",
     "text": [
      "\n",
      "100%|██████████| 13/13 [00:20<00:00,  1.61s/it]\u001b[A\n",
      "\n",
      "  0%|          | 0/10 [00:00<?, ?it/s]\u001b[A\n",
      " 10%|█         | 1/10 [00:02<00:24,  2.69s/it]\u001b[A\n",
      " 20%|██        | 2/10 [00:03<00:16,  2.07s/it]\u001b[A\n",
      " 30%|███       | 3/10 [00:04<00:11,  1.66s/it]\u001b[A\n",
      " 40%|████      | 4/10 [00:04<00:08,  1.35s/it]\u001b[A\n",
      " 50%|█████     | 5/10 [00:05<00:05,  1.16s/it]\u001b[A\n",
      " 60%|██████    | 6/10 [00:06<00:04,  1.04s/it]\u001b[A\n",
      " 70%|███████   | 7/10 [00:08<00:04,  1.44s/it]\u001b[A\n",
      " 80%|████████  | 8/10 [00:10<00:02,  1.49s/it]\u001b[A\n",
      " 90%|█████████ | 9/10 [00:12<00:01,  1.78s/it]\u001b[A"
     ]
    },
    {
     "name": "stdout",
     "output_type": "stream",
     "text": [
      "attribute error:\n",
      "'NoneType' object has no attribute 'text'\n"
     ]
    },
    {
     "name": "stderr",
     "output_type": "stream",
     "text": [
      "\n",
      "100%|██████████| 10/10 [00:14<00:00,  1.43s/it]\u001b[A\n",
      " 78%|███████▊  | 32/41 [1:49:54<17:19, 115.52s/it]\n",
      "  0%|          | 0/20 [00:00<?, ?it/s]\u001b[A\n",
      "  5%|▌         | 1/20 [00:02<00:53,  2.82s/it]\u001b[A"
     ]
    },
    {
     "name": "stdout",
     "output_type": "stream",
     "text": [
      "attribute error:\n",
      "'NoneType' object has no attribute 'text'\n"
     ]
    },
    {
     "name": "stderr",
     "output_type": "stream",
     "text": [
      "\n",
      " 10%|█         | 2/20 [00:05<00:47,  2.66s/it]\u001b[A"
     ]
    },
    {
     "name": "stdout",
     "output_type": "stream",
     "text": [
      "attribute error:\n",
      "'NoneType' object has no attribute 'text'\n"
     ]
    },
    {
     "name": "stderr",
     "output_type": "stream",
     "text": [
      "\n",
      " 15%|█▌        | 3/20 [00:09<00:55,  3.25s/it]\u001b[A\n",
      " 20%|██        | 4/20 [00:11<00:44,  2.80s/it]\u001b[A\n",
      " 25%|██▌       | 5/20 [00:14<00:44,  2.94s/it]\u001b[A\n",
      " 30%|███       | 6/20 [00:18<00:44,  3.16s/it]\u001b[A\n",
      " 35%|███▌      | 7/20 [00:23<00:47,  3.65s/it]\u001b[A\n",
      " 40%|████      | 8/20 [00:24<00:35,  2.96s/it]\u001b[A\n",
      " 45%|████▌     | 9/20 [00:26<00:28,  2.57s/it]\u001b[A\n",
      " 50%|█████     | 10/20 [00:29<00:27,  2.70s/it]\u001b[A\n",
      " 55%|█████▌    | 11/20 [00:31<00:24,  2.69s/it]\u001b[A\n",
      " 60%|██████    | 12/20 [00:32<00:17,  2.14s/it]\u001b[A\n",
      " 65%|██████▌   | 13/20 [00:33<00:12,  1.71s/it]\u001b[A\n",
      " 70%|███████   | 14/20 [00:37<00:14,  2.39s/it]\u001b[A\n",
      " 75%|███████▌  | 15/20 [00:38<00:10,  2.02s/it]\u001b[A\n",
      " 80%|████████  | 16/20 [00:41<00:09,  2.40s/it]\u001b[A"
     ]
    },
    {
     "name": "stdout",
     "output_type": "stream",
     "text": [
      "attribute error:\n",
      "'NoneType' object has no attribute 'text'\n"
     ]
    },
    {
     "name": "stderr",
     "output_type": "stream",
     "text": [
      "\n",
      " 85%|████████▌ | 17/20 [00:43<00:06,  2.11s/it]\u001b[A\n",
      " 90%|█████████ | 18/20 [00:48<00:06,  3.03s/it]\u001b[A\n",
      " 95%|█████████▌| 19/20 [00:50<00:02,  2.80s/it]\u001b[A\n",
      "100%|██████████| 20/20 [00:54<00:00,  2.71s/it]\u001b[A\n",
      " 80%|████████  | 33/41 [1:50:49<12:56, 97.11s/it] \n",
      "  0%|          | 0/20 [00:00<?, ?it/s]\u001b[A\n",
      "  5%|▌         | 1/20 [00:02<00:44,  2.32s/it]\u001b[A"
     ]
    },
    {
     "name": "stdout",
     "output_type": "stream",
     "text": [
      "attribute error:\n",
      "'NoneType' object has no attribute 'text'\n"
     ]
    },
    {
     "name": "stderr",
     "output_type": "stream",
     "text": [
      "\n",
      " 10%|█         | 2/20 [00:03<00:37,  2.10s/it]\u001b[A\n",
      " 15%|█▌        | 3/20 [00:06<00:39,  2.35s/it]\u001b[A"
     ]
    },
    {
     "name": "stdout",
     "output_type": "stream",
     "text": [
      "attribute error:\n",
      "'NoneType' object has no attribute 'text'\n"
     ]
    },
    {
     "name": "stderr",
     "output_type": "stream",
     "text": [
      "\n",
      " 20%|██        | 4/20 [00:07<00:29,  1.86s/it]\u001b[A\n",
      " 25%|██▌       | 5/20 [00:08<00:23,  1.54s/it]\u001b[A\n",
      " 30%|███       | 6/20 [00:11<00:27,  1.97s/it]\u001b[A"
     ]
    },
    {
     "name": "stdout",
     "output_type": "stream",
     "text": [
      "attribute error:\n",
      "'NoneType' object has no attribute 'text'\n"
     ]
    },
    {
     "name": "stderr",
     "output_type": "stream",
     "text": [
      "\n",
      " 35%|███▌      | 7/20 [00:12<00:20,  1.61s/it]\u001b[A\n",
      " 40%|████      | 8/20 [00:12<00:16,  1.34s/it]\u001b[A\n",
      " 45%|████▌     | 9/20 [00:15<00:17,  1.61s/it]\u001b[A\n",
      " 50%|█████     | 10/20 [00:17<00:18,  1.87s/it]\u001b[A\n",
      " 55%|█████▌    | 11/20 [00:18<00:15,  1.70s/it]\u001b[A\n",
      " 60%|██████    | 12/20 [00:21<00:16,  2.08s/it]\u001b[A"
     ]
    },
    {
     "name": "stdout",
     "output_type": "stream",
     "text": [
      "attribute error:\n",
      "'NoneType' object has no attribute 'text'\n"
     ]
    },
    {
     "name": "stderr",
     "output_type": "stream",
     "text": [
      "\n",
      " 65%|██████▌   | 13/20 [00:24<00:16,  2.29s/it]\u001b[A\n",
      " 70%|███████   | 14/20 [00:27<00:14,  2.49s/it]\u001b[A"
     ]
    },
    {
     "name": "stdout",
     "output_type": "stream",
     "text": [
      "attribute error:\n",
      "'NoneType' object has no attribute 'text'\n"
     ]
    },
    {
     "name": "stderr",
     "output_type": "stream",
     "text": [
      "\n",
      " 75%|███████▌  | 15/20 [00:29<00:11,  2.21s/it]\u001b[A\n",
      " 80%|████████  | 16/20 [00:30<00:07,  2.00s/it]\u001b[A\n",
      " 85%|████████▌ | 17/20 [00:31<00:04,  1.57s/it]\u001b[A\n",
      " 90%|█████████ | 18/20 [00:31<00:02,  1.27s/it]\u001b[A\n",
      " 95%|█████████▌| 19/20 [00:34<00:01,  1.76s/it]\u001b[A\n",
      "100%|██████████| 20/20 [00:35<00:00,  1.80s/it]\u001b[A\n",
      "\n",
      "  0%|          | 0/19 [00:00<?, ?it/s]\u001b[A\n",
      "  5%|▌         | 1/19 [00:00<00:10,  1.66it/s]\u001b[A\n",
      " 11%|█         | 2/19 [00:01<00:14,  1.20it/s]\u001b[A"
     ]
    },
    {
     "name": "stdout",
     "output_type": "stream",
     "text": [
      "attribute error:\n",
      "'NoneType' object has no attribute 'text'\n"
     ]
    },
    {
     "name": "stderr",
     "output_type": "stream",
     "text": [
      "\n",
      " 16%|█▌        | 3/19 [00:04<00:23,  1.49s/it]\u001b[A"
     ]
    },
    {
     "name": "stdout",
     "output_type": "stream",
     "text": [
      "attribute error:\n",
      "'NoneType' object has no attribute 'text'\n"
     ]
    },
    {
     "name": "stderr",
     "output_type": "stream",
     "text": [
      "\n",
      " 21%|██        | 4/19 [00:05<00:18,  1.23s/it]\u001b[A\n",
      " 26%|██▋       | 5/19 [00:07<00:18,  1.30s/it]\u001b[A\n",
      " 32%|███▏      | 6/19 [00:09<00:21,  1.65s/it]\u001b[A\n",
      " 37%|███▋      | 7/19 [00:10<00:16,  1.36s/it]\u001b[A\n",
      " 42%|████▏     | 8/19 [00:11<00:15,  1.39s/it]\u001b[A\n",
      " 47%|████▋     | 9/19 [00:12<00:11,  1.18s/it]\u001b[A\n",
      " 53%|█████▎    | 10/19 [00:15<00:15,  1.75s/it]\u001b[A\n",
      " 58%|█████▊    | 11/19 [00:16<00:11,  1.41s/it]\u001b[A\n",
      " 63%|██████▎   | 12/19 [00:16<00:08,  1.18s/it]\u001b[A\n",
      " 68%|██████▊   | 13/19 [00:18<00:07,  1.32s/it]\u001b[A\n",
      " 74%|███████▎  | 14/19 [00:20<00:07,  1.44s/it]\u001b[A\n",
      " 79%|███████▉  | 15/19 [00:20<00:04,  1.20s/it]\u001b[A\n",
      " 84%|████████▍ | 16/19 [00:25<00:07,  2.33s/it]\u001b[A\n",
      " 89%|████████▉ | 17/19 [00:27<00:04,  2.31s/it]\u001b[A\n",
      " 95%|█████████▍| 18/19 [00:30<00:02,  2.38s/it]\u001b[A\n",
      "100%|██████████| 19/19 [00:31<00:00,  1.64s/it]\u001b[A\n",
      "\n",
      "  0%|          | 0/20 [00:00<?, ?it/s]\u001b[A\n",
      "  5%|▌         | 1/20 [00:03<01:13,  3.89s/it]\u001b[A\n",
      " 10%|█         | 2/20 [00:06<01:05,  3.65s/it]\u001b[A"
     ]
    },
    {
     "name": "stdout",
     "output_type": "stream",
     "text": [
      "attribute error:\n",
      "'NoneType' object has no attribute 'text'\n"
     ]
    },
    {
     "name": "stderr",
     "output_type": "stream",
     "text": [
      "\n",
      " 15%|█▌        | 3/20 [00:10<01:01,  3.63s/it]\u001b[A\n",
      " 20%|██        | 4/20 [00:11<00:44,  2.78s/it]\u001b[A\n",
      " 25%|██▌       | 5/20 [00:14<00:43,  2.90s/it]\u001b[A\n",
      " 30%|███       | 6/20 [00:15<00:31,  2.25s/it]\u001b[A\n",
      " 35%|███▌      | 7/20 [00:17<00:29,  2.28s/it]\u001b[A\n",
      " 40%|████      | 8/20 [00:19<00:27,  2.30s/it]\u001b[A\n",
      " 45%|████▌     | 9/20 [00:20<00:19,  1.80s/it]\u001b[A\n",
      " 50%|█████     | 10/20 [00:21<00:14,  1.47s/it]\u001b[A\n",
      " 55%|█████▌    | 11/20 [00:22<00:12,  1.42s/it]\u001b[A\n",
      " 60%|██████    | 12/20 [00:27<00:19,  2.43s/it]\u001b[A"
     ]
    },
    {
     "name": "stdout",
     "output_type": "stream",
     "text": [
      "attribute error:\n",
      "'NoneType' object has no attribute 'text'\n"
     ]
    },
    {
     "name": "stderr",
     "output_type": "stream",
     "text": [
      "\n",
      " 65%|██████▌   | 13/20 [00:30<00:18,  2.67s/it]\u001b[A\n",
      " 70%|███████   | 14/20 [00:33<00:16,  2.72s/it]\u001b[A\n",
      " 75%|███████▌  | 15/20 [00:35<00:12,  2.40s/it]\u001b[A\n",
      " 80%|████████  | 16/20 [00:45<00:19,  4.91s/it]\u001b[A\n",
      " 85%|████████▌ | 17/20 [00:46<00:10,  3.64s/it]\u001b[A\n",
      " 90%|█████████ | 18/20 [00:47<00:05,  2.96s/it]\u001b[A\n",
      " 95%|█████████▌| 19/20 [00:49<00:02,  2.46s/it]\u001b[A\n",
      "100%|██████████| 20/20 [00:52<00:00,  2.61s/it]\u001b[A\n",
      "\n",
      "  0%|          | 0/13 [00:00<?, ?it/s]\u001b[A\n",
      "  8%|▊         | 1/13 [00:02<00:31,  2.65s/it]\u001b[A\n",
      " 15%|█▌        | 2/13 [00:09<00:42,  3.91s/it]\u001b[A\n",
      " 23%|██▎       | 3/13 [00:10<00:29,  2.97s/it]\u001b[A\n",
      " 31%|███       | 4/13 [00:11<00:22,  2.48s/it]\u001b[A\n",
      " 38%|███▊      | 5/13 [00:13<00:17,  2.22s/it]\u001b[A"
     ]
    },
    {
     "name": "stdout",
     "output_type": "stream",
     "text": [
      "attribute error:\n",
      "'NoneType' object has no attribute 'text'\n"
     ]
    },
    {
     "name": "stderr",
     "output_type": "stream",
     "text": [
      "\n",
      " 46%|████▌     | 6/13 [00:16<00:17,  2.48s/it]\u001b[A\n",
      " 54%|█████▍    | 7/13 [00:18<00:14,  2.49s/it]\u001b[A\n",
      " 62%|██████▏   | 8/13 [00:21<00:13,  2.61s/it]\u001b[A\n",
      " 69%|██████▉   | 9/13 [00:25<00:11,  2.87s/it]\u001b[A\n",
      " 77%|███████▋  | 10/13 [00:26<00:07,  2.51s/it]\u001b[A\n",
      " 85%|████████▍ | 11/13 [00:30<00:05,  2.71s/it]\u001b[A"
     ]
    },
    {
     "name": "stdout",
     "output_type": "stream",
     "text": [
      "attribute error:\n",
      "'NoneType' object has no attribute 'text'\n"
     ]
    },
    {
     "name": "stderr",
     "output_type": "stream",
     "text": [
      "\n",
      " 92%|█████████▏| 12/13 [00:30<00:02,  2.09s/it]\u001b[A\n",
      "100%|██████████| 13/13 [00:34<00:00,  2.63s/it]\u001b[A\n",
      "\n",
      "  0%|          | 0/13 [00:00<?, ?it/s]\u001b[A\n",
      "  8%|▊         | 1/13 [00:01<00:16,  1.38s/it]\u001b[A"
     ]
    },
    {
     "name": "stdout",
     "output_type": "stream",
     "text": [
      "attribute error:\n",
      "'NoneType' object has no attribute 'text'\n"
     ]
    },
    {
     "name": "stderr",
     "output_type": "stream",
     "text": [
      "\n",
      " 15%|█▌        | 2/13 [00:05<00:22,  2.08s/it]\u001b[A\n",
      " 23%|██▎       | 3/13 [00:08<00:23,  2.37s/it]\u001b[A\n",
      " 31%|███       | 4/13 [00:08<00:16,  1.87s/it]\u001b[A\n",
      " 38%|███▊      | 5/13 [00:10<00:13,  1.71s/it]\u001b[A\n",
      " 46%|████▌     | 6/13 [00:10<00:09,  1.42s/it]\u001b[A\n",
      " 54%|█████▍    | 7/13 [00:13<00:11,  1.90s/it]\u001b[A"
     ]
    },
    {
     "name": "stdout",
     "output_type": "stream",
     "text": [
      "attribute error:\n",
      "'NoneType' object has no attribute 'text'\n"
     ]
    },
    {
     "name": "stderr",
     "output_type": "stream",
     "text": [
      "\n",
      " 62%|██████▏   | 8/13 [00:15<00:09,  1.91s/it]\u001b[A\n",
      " 69%|██████▉   | 9/13 [00:16<00:06,  1.53s/it]\u001b[A\n",
      " 77%|███████▋  | 10/13 [00:18<00:04,  1.60s/it]\u001b[A\n",
      " 85%|████████▍ | 11/13 [00:19<00:02,  1.33s/it]\u001b[A\n",
      " 92%|█████████▏| 12/13 [00:21<00:01,  1.69s/it]\u001b[A\n",
      "100%|██████████| 13/13 [00:23<00:00,  1.78s/it]\u001b[A\n",
      "\n",
      "  0%|          | 0/10 [00:00<?, ?it/s]\u001b[A\n",
      " 10%|█         | 1/10 [00:02<00:25,  2.81s/it]\u001b[A"
     ]
    },
    {
     "name": "stdout",
     "output_type": "stream",
     "text": [
      "attribute error:\n",
      "'NoneType' object has no attribute 'text'\n"
     ]
    },
    {
     "name": "stderr",
     "output_type": "stream",
     "text": [
      "\n",
      " 20%|██        | 2/10 [00:06<00:25,  3.22s/it]\u001b[A\n",
      " 30%|███       | 3/10 [00:07<00:17,  2.47s/it]\u001b[A\n",
      " 40%|████      | 4/10 [00:08<00:11,  1.94s/it]\u001b[A\n",
      " 50%|█████     | 5/10 [00:09<00:07,  1.57s/it]\u001b[A\n",
      " 60%|██████    | 6/10 [00:09<00:05,  1.31s/it]\u001b[A\n",
      " 70%|███████   | 7/10 [00:12<00:04,  1.62s/it]\u001b[A"
     ]
    },
    {
     "name": "stdout",
     "output_type": "stream",
     "text": [
      "attribute error:\n",
      "'NoneType' object has no attribute 'text'\n"
     ]
    },
    {
     "name": "stderr",
     "output_type": "stream",
     "text": [
      "\n",
      " 80%|████████  | 8/10 [00:13<00:02,  1.39s/it]\u001b[A\n",
      " 90%|█████████ | 9/10 [00:13<00:01,  1.19s/it]\u001b[A\n",
      "100%|██████████| 10/10 [00:16<00:00,  1.67s/it]\u001b[A\n",
      " 83%|████████▎ | 34/41 [1:54:02<14:41, 125.94s/it]\n",
      "  0%|          | 0/13 [00:00<?, ?it/s]\u001b[A"
     ]
    },
    {
     "name": "stdout",
     "output_type": "stream",
     "text": [
      "attribute error:\n",
      "'NoneType' object has no attribute 'text'\n"
     ]
    },
    {
     "name": "stderr",
     "output_type": "stream",
     "text": [
      "\n",
      "  8%|▊         | 1/13 [00:02<00:35,  2.95s/it]\u001b[A"
     ]
    },
    {
     "name": "stdout",
     "output_type": "stream",
     "text": [
      "attribute error:\n",
      "'NoneType' object has no attribute 'text'\n"
     ]
    },
    {
     "name": "stderr",
     "output_type": "stream",
     "text": [
      "\n",
      " 15%|█▌        | 2/13 [00:05<00:31,  2.89s/it]\u001b[A\n",
      " 23%|██▎       | 3/13 [00:07<00:25,  2.56s/it]\u001b[A\n",
      " 31%|███       | 4/13 [00:09<00:22,  2.45s/it]\u001b[A\n",
      " 38%|███▊      | 5/13 [00:12<00:20,  2.60s/it]\u001b[A"
     ]
    },
    {
     "name": "stdout",
     "output_type": "stream",
     "text": [
      "attribute error:\n",
      "'NoneType' object has no attribute 'text'\n"
     ]
    },
    {
     "name": "stderr",
     "output_type": "stream",
     "text": [
      "\n",
      " 46%|████▌     | 6/13 [00:15<00:18,  2.68s/it]\u001b[A"
     ]
    },
    {
     "name": "stdout",
     "output_type": "stream",
     "text": [
      "attribute error:\n",
      "'NoneType' object has no attribute 'text'\n"
     ]
    },
    {
     "name": "stderr",
     "output_type": "stream",
     "text": [
      "\n",
      " 54%|█████▍    | 7/13 [00:17<00:14,  2.42s/it]\u001b[A\n",
      " 62%|██████▏   | 8/13 [00:18<00:09,  1.94s/it]\u001b[A\n",
      " 69%|██████▉   | 9/13 [00:20<00:07,  1.95s/it]\u001b[A\n",
      " 77%|███████▋  | 10/13 [00:20<00:04,  1.61s/it]\u001b[A\n",
      " 85%|████████▍ | 11/13 [00:22<00:03,  1.67s/it]\u001b[A\n",
      " 92%|█████████▏| 12/13 [00:25<00:02,  2.14s/it]\u001b[A"
     ]
    },
    {
     "name": "stdout",
     "output_type": "stream",
     "text": [
      "attribute error:\n",
      "'NoneType' object has no attribute 'text'\n"
     ]
    },
    {
     "name": "stderr",
     "output_type": "stream",
     "text": [
      "\n",
      "100%|██████████| 13/13 [00:26<00:00,  2.05s/it]\u001b[A\n",
      " 85%|████████▌ | 35/41 [1:54:28<09:36, 96.15s/it] \n",
      "  0%|          | 0/18 [00:00<?, ?it/s]\u001b[A\n",
      "  6%|▌         | 1/18 [00:01<00:23,  1.41s/it]\u001b[A\n",
      " 11%|█         | 2/18 [00:02<00:22,  1.39s/it]\u001b[A\n",
      " 17%|█▋        | 3/18 [00:03<00:17,  1.19s/it]\u001b[A\n",
      " 22%|██▏       | 4/18 [00:05<00:19,  1.42s/it]\u001b[A\n",
      " 28%|██▊       | 5/18 [00:08<00:24,  1.87s/it]\u001b[A"
     ]
    },
    {
     "name": "stdout",
     "output_type": "stream",
     "text": [
      "attribute error:\n",
      "'NoneType' object has no attribute 'text'\n"
     ]
    },
    {
     "name": "stderr",
     "output_type": "stream",
     "text": [
      "\n",
      " 33%|███▎      | 6/18 [00:09<00:20,  1.75s/it]\u001b[A\n",
      " 39%|███▉      | 7/18 [00:10<00:16,  1.49s/it]\u001b[A\n",
      " 44%|████▍     | 8/18 [00:12<00:17,  1.70s/it]\u001b[A\n",
      " 50%|█████     | 9/18 [00:13<00:12,  1.41s/it]\u001b[A\n",
      " 56%|█████▌    | 10/18 [00:16<00:14,  1.79s/it]\u001b[A\n",
      " 61%|██████    | 11/18 [00:19<00:15,  2.17s/it]\u001b[A\n",
      " 67%|██████▋   | 12/18 [00:21<00:13,  2.28s/it]\u001b[A"
     ]
    },
    {
     "name": "stdout",
     "output_type": "stream",
     "text": [
      "attribute error:\n",
      "'NoneType' object has no attribute 'text'\n"
     ]
    },
    {
     "name": "stderr",
     "output_type": "stream",
     "text": [
      "\n",
      " 72%|███████▏  | 13/18 [00:22<00:09,  1.83s/it]\u001b[A\n",
      " 78%|███████▊  | 14/18 [00:23<00:06,  1.53s/it]\u001b[A\n",
      " 83%|████████▎ | 15/18 [00:26<00:06,  2.01s/it]\u001b[A\n",
      " 89%|████████▉ | 16/18 [00:27<00:03,  1.81s/it]\u001b[A\n",
      " 94%|█████████▍| 17/18 [00:31<00:02,  2.29s/it]\u001b[A\n",
      "100%|██████████| 18/18 [00:33<00:00,  1.88s/it]\u001b[A\n",
      " 88%|████████▊ | 36/41 [1:55:02<06:27, 77.47s/it]\n",
      "  0%|          | 0/16 [00:00<?, ?it/s]\u001b[A\n",
      "  6%|▋         | 1/16 [00:03<00:50,  3.36s/it]\u001b[A"
     ]
    },
    {
     "name": "stdout",
     "output_type": "stream",
     "text": [
      "attribute error:\n",
      "'NoneType' object has no attribute 'text'\n"
     ]
    },
    {
     "name": "stderr",
     "output_type": "stream",
     "text": [
      "\n",
      " 12%|█▎        | 2/16 [00:06<00:45,  3.26s/it]\u001b[A"
     ]
    },
    {
     "name": "stdout",
     "output_type": "stream",
     "text": [
      "attribute error:\n",
      "'NoneType' object has no attribute 'text'\n"
     ]
    },
    {
     "name": "stderr",
     "output_type": "stream",
     "text": [
      "\n",
      " 19%|█▉        | 3/16 [00:09<00:41,  3.16s/it]\u001b[A"
     ]
    },
    {
     "name": "stdout",
     "output_type": "stream",
     "text": [
      "attribute error:\n",
      "'NoneType' object has no attribute 'text'\n"
     ]
    },
    {
     "name": "stderr",
     "output_type": "stream",
     "text": [
      "\n",
      " 25%|██▌       | 4/16 [00:12<00:37,  3.13s/it]\u001b[A"
     ]
    },
    {
     "name": "stdout",
     "output_type": "stream",
     "text": [
      "attribute error:\n",
      "'NoneType' object has no attribute 'text'\n"
     ]
    },
    {
     "name": "stderr",
     "output_type": "stream",
     "text": [
      "\n",
      " 31%|███▏      | 5/16 [00:15<00:33,  3.09s/it]\u001b[A"
     ]
    },
    {
     "name": "stdout",
     "output_type": "stream",
     "text": [
      "attribute error:\n",
      "'NoneType' object has no attribute 'text'\n"
     ]
    },
    {
     "name": "stderr",
     "output_type": "stream",
     "text": [
      "\n",
      " 38%|███▊      | 6/16 [00:18<00:30,  3.09s/it]\u001b[A"
     ]
    },
    {
     "name": "stdout",
     "output_type": "stream",
     "text": [
      "attribute error:\n",
      "'NoneType' object has no attribute 'text'\n"
     ]
    },
    {
     "name": "stderr",
     "output_type": "stream",
     "text": [
      "\n",
      " 44%|████▍     | 7/16 [00:21<00:27,  3.07s/it]\u001b[A"
     ]
    },
    {
     "name": "stdout",
     "output_type": "stream",
     "text": [
      "attribute error:\n",
      "'NoneType' object has no attribute 'text'\n"
     ]
    },
    {
     "name": "stderr",
     "output_type": "stream",
     "text": [
      "\n",
      " 50%|█████     | 8/16 [00:24<00:23,  2.95s/it]\u001b[A"
     ]
    },
    {
     "name": "stdout",
     "output_type": "stream",
     "text": [
      "attribute error:\n",
      "'NoneType' object has no attribute 'text'\n"
     ]
    },
    {
     "name": "stderr",
     "output_type": "stream",
     "text": [
      "\n",
      " 56%|█████▋    | 9/16 [00:26<00:20,  2.89s/it]\u001b[A"
     ]
    },
    {
     "name": "stdout",
     "output_type": "stream",
     "text": [
      "attribute error:\n",
      "'NoneType' object has no attribute 'text'\n"
     ]
    },
    {
     "name": "stderr",
     "output_type": "stream",
     "text": [
      "\n",
      " 62%|██████▎   | 10/16 [00:30<00:17,  2.96s/it]\u001b[A"
     ]
    },
    {
     "name": "stdout",
     "output_type": "stream",
     "text": [
      "attribute error:\n",
      "'NoneType' object has no attribute 'text'\n"
     ]
    },
    {
     "name": "stderr",
     "output_type": "stream",
     "text": [
      "\n",
      " 69%|██████▉   | 11/16 [00:32<00:14,  2.86s/it]\u001b[A"
     ]
    },
    {
     "name": "stdout",
     "output_type": "stream",
     "text": [
      "attribute error:\n",
      "'NoneType' object has no attribute 'text'\n"
     ]
    },
    {
     "name": "stderr",
     "output_type": "stream",
     "text": [
      "\n",
      " 75%|███████▌  | 12/16 [00:35<00:11,  2.90s/it]\u001b[A"
     ]
    },
    {
     "name": "stdout",
     "output_type": "stream",
     "text": [
      "attribute error:\n",
      "'NoneType' object has no attribute 'text'\n"
     ]
    },
    {
     "name": "stderr",
     "output_type": "stream",
     "text": [
      "\n",
      " 81%|████████▏ | 13/16 [00:42<00:12,  4.14s/it]\u001b[A"
     ]
    },
    {
     "name": "stdout",
     "output_type": "stream",
     "text": [
      "attribute error:\n",
      "'NoneType' object has no attribute 'text'\n"
     ]
    },
    {
     "name": "stderr",
     "output_type": "stream",
     "text": [
      "\n",
      " 88%|████████▊ | 14/16 [00:45<00:07,  3.79s/it]\u001b[A"
     ]
    },
    {
     "name": "stdout",
     "output_type": "stream",
     "text": [
      "attribute error:\n",
      "'NoneType' object has no attribute 'text'\n"
     ]
    },
    {
     "name": "stderr",
     "output_type": "stream",
     "text": [
      "\n",
      " 94%|█████████▍| 15/16 [00:48<00:03,  3.51s/it]\u001b[A"
     ]
    },
    {
     "name": "stdout",
     "output_type": "stream",
     "text": [
      "attribute error:\n",
      "'NoneType' object has no attribute 'text'\n"
     ]
    },
    {
     "name": "stderr",
     "output_type": "stream",
     "text": [
      "\n",
      "100%|██████████| 16/16 [00:51<00:00,  3.24s/it]\u001b[A\n",
      "\n",
      "  0%|          | 0/20 [00:00<?, ?it/s]\u001b[A"
     ]
    },
    {
     "name": "stdout",
     "output_type": "stream",
     "text": [
      "attribute error:\n",
      "'NoneType' object has no attribute 'text'\n"
     ]
    },
    {
     "name": "stderr",
     "output_type": "stream",
     "text": [
      "\n",
      "  5%|▌         | 1/20 [00:04<01:23,  4.38s/it]\u001b[A\n",
      " 10%|█         | 2/20 [00:05<01:01,  3.42s/it]\u001b[A\n",
      " 15%|█▌        | 3/20 [00:08<00:56,  3.30s/it]\u001b[A"
     ]
    },
    {
     "name": "stdout",
     "output_type": "stream",
     "text": [
      "attribute error:\n",
      "'NoneType' object has no attribute 'text'\n"
     ]
    },
    {
     "name": "stderr",
     "output_type": "stream",
     "text": [
      "\n",
      " 20%|██        | 4/20 [00:09<00:42,  2.66s/it]\u001b[A\n",
      " 25%|██▌       | 5/20 [00:13<00:43,  2.93s/it]\u001b[A\n",
      " 30%|███       | 6/20 [00:16<00:43,  3.11s/it]\u001b[A\n",
      " 35%|███▌      | 7/20 [00:17<00:32,  2.51s/it]\u001b[A\n",
      " 40%|████      | 8/20 [00:20<00:31,  2.64s/it]\u001b[A"
     ]
    },
    {
     "name": "stdout",
     "output_type": "stream",
     "text": [
      "attribute error:\n",
      "'NoneType' object has no attribute 'text'\n"
     ]
    },
    {
     "name": "stderr",
     "output_type": "stream",
     "text": [
      "\n",
      " 45%|████▌     | 9/20 [00:22<00:24,  2.22s/it]\u001b[A\n",
      " 50%|█████     | 10/20 [00:23<00:18,  1.88s/it]\u001b[A\n",
      " 55%|█████▌    | 11/20 [00:25<00:18,  2.02s/it]\u001b[A\n",
      " 60%|██████    | 12/20 [00:28<00:19,  2.41s/it]\u001b[A"
     ]
    },
    {
     "name": "stdout",
     "output_type": "stream",
     "text": [
      "attribute error:\n",
      "'NoneType' object has no attribute 'text'\n"
     ]
    },
    {
     "name": "stderr",
     "output_type": "stream",
     "text": [
      "\n",
      " 65%|██████▌   | 13/20 [00:33<00:21,  3.10s/it]\u001b[A"
     ]
    },
    {
     "name": "stdout",
     "output_type": "stream",
     "text": [
      "attribute error:\n",
      "'NoneType' object has no attribute 'text'\n"
     ]
    },
    {
     "name": "stderr",
     "output_type": "stream",
     "text": [
      "\n",
      " 70%|███████   | 14/20 [00:37<00:19,  3.25s/it]\u001b[A\n",
      " 75%|███████▌  | 15/20 [00:40<00:15,  3.16s/it]\u001b[A"
     ]
    },
    {
     "name": "stdout",
     "output_type": "stream",
     "text": [
      "attribute error:\n",
      "'NoneType' object has no attribute 'text'\n"
     ]
    },
    {
     "name": "stderr",
     "output_type": "stream",
     "text": [
      "\n",
      " 80%|████████  | 16/20 [00:44<00:13,  3.39s/it]\u001b[A\n",
      " 85%|████████▌ | 17/20 [00:46<00:09,  3.23s/it]\u001b[A"
     ]
    },
    {
     "name": "stdout",
     "output_type": "stream",
     "text": [
      "attribute error:\n",
      "'NoneType' object has no attribute 'text'\n"
     ]
    },
    {
     "name": "stderr",
     "output_type": "stream",
     "text": [
      "\n",
      " 90%|█████████ | 18/20 [00:51<00:07,  3.56s/it]\u001b[A\n",
      " 95%|█████████▌| 19/20 [00:54<00:03,  3.40s/it]\u001b[A"
     ]
    },
    {
     "name": "stdout",
     "output_type": "stream",
     "text": [
      "attribute error:\n",
      "'NoneType' object has no attribute 'text'\n"
     ]
    },
    {
     "name": "stderr",
     "output_type": "stream",
     "text": [
      "\n",
      "100%|██████████| 20/20 [00:55<00:00,  2.77s/it]\u001b[A\n",
      " 90%|█████████ | 37/41 [1:56:50<05:45, 86.42s/it]\n",
      "  0%|          | 0/20 [00:00<?, ?it/s]\u001b[A\n",
      "  5%|▌         | 1/20 [00:00<00:14,  1.31it/s]\u001b[A\n",
      " 10%|█         | 2/20 [00:01<00:13,  1.33it/s]\u001b[A\n",
      " 15%|█▌        | 3/20 [00:05<00:29,  1.71s/it]\u001b[A\n",
      " 20%|██        | 4/20 [00:06<00:25,  1.56s/it]\u001b[A\n",
      " 25%|██▌       | 5/20 [00:07<00:19,  1.28s/it]\u001b[A\n",
      " 30%|███       | 6/20 [00:09<00:21,  1.57s/it]\u001b[A"
     ]
    },
    {
     "name": "stdout",
     "output_type": "stream",
     "text": [
      "attribute error:\n",
      "'NoneType' object has no attribute 'text'\n"
     ]
    },
    {
     "name": "stderr",
     "output_type": "stream",
     "text": [
      "\n",
      " 35%|███▌      | 7/20 [00:10<00:19,  1.51s/it]\u001b[A"
     ]
    },
    {
     "name": "stdout",
     "output_type": "stream",
     "text": [
      "attribute error:\n",
      "'NoneType' object has no attribute 'text'\n"
     ]
    },
    {
     "name": "stderr",
     "output_type": "stream",
     "text": [
      "\n",
      " 40%|████      | 8/20 [00:11<00:14,  1.23s/it]\u001b[A\n",
      " 45%|████▌     | 9/20 [00:13<00:14,  1.36s/it]\u001b[A\n",
      " 50%|█████     | 10/20 [00:16<00:18,  1.87s/it]\u001b[A\n",
      " 55%|█████▌    | 11/20 [00:18<00:19,  2.12s/it]\u001b[A"
     ]
    },
    {
     "name": "stdout",
     "output_type": "stream",
     "text": [
      "attribute error:\n",
      "'NoneType' object has no attribute 'text'\n"
     ]
    },
    {
     "name": "stderr",
     "output_type": "stream",
     "text": [
      "\n",
      " 60%|██████    | 12/20 [00:19<00:13,  1.68s/it]\u001b[A\n",
      " 65%|██████▌   | 13/20 [00:20<00:09,  1.36s/it]\u001b[A\n",
      " 70%|███████   | 14/20 [00:20<00:06,  1.14s/it]\u001b[A\n",
      " 75%|███████▌  | 15/20 [00:21<00:04,  1.02it/s]\u001b[A\n",
      " 80%|████████  | 16/20 [00:24<00:06,  1.68s/it]\u001b[A\n",
      " 85%|████████▌ | 17/20 [00:25<00:04,  1.40s/it]\u001b[A\n",
      " 90%|█████████ | 18/20 [00:28<00:03,  1.82s/it]\u001b[A\n",
      " 95%|█████████▌| 19/20 [00:28<00:01,  1.46s/it]\u001b[A\n",
      "100%|██████████| 20/20 [00:31<00:00,  1.57s/it]\u001b[A\n",
      "\n",
      "  0%|          | 0/11 [00:00<?, ?it/s]\u001b[A\n",
      "  9%|▉         | 1/11 [00:01<00:14,  1.41s/it]\u001b[A\n",
      " 18%|█▊        | 2/11 [00:02<00:10,  1.17s/it]\u001b[A\n",
      " 27%|██▋       | 3/11 [00:02<00:08,  1.01s/it]\u001b[A\n",
      " 36%|███▋      | 4/11 [00:03<00:07,  1.10s/it]\u001b[A\n",
      " 45%|████▌     | 5/11 [00:06<00:08,  1.45s/it]\u001b[A\n",
      " 55%|█████▍    | 6/11 [00:06<00:06,  1.23s/it]\u001b[A\n",
      " 64%|██████▎   | 7/11 [00:10<00:07,  1.86s/it]\u001b[A\n",
      " 73%|███████▎  | 8/11 [00:12<00:05,  2.00s/it]\u001b[A\n",
      " 82%|████████▏ | 9/11 [00:13<00:03,  1.63s/it]\u001b[A\n",
      " 91%|█████████ | 10/11 [00:14<00:01,  1.36s/it]\u001b[A\n",
      "100%|██████████| 11/11 [00:16<00:00,  1.52s/it]\u001b[A\n",
      "\n",
      "  0%|          | 0/10 [00:00<?, ?it/s]\u001b[A\n",
      " 10%|█         | 1/10 [00:00<00:05,  1.62it/s]\u001b[A\n",
      " 20%|██        | 2/10 [00:03<00:10,  1.35s/it]\u001b[A\n",
      " 30%|███       | 3/10 [00:04<00:07,  1.13s/it]\u001b[A\n",
      " 40%|████      | 4/10 [00:05<00:06,  1.00s/it]\u001b[A\n",
      " 50%|█████     | 5/10 [00:07<00:07,  1.58s/it]\u001b[A"
     ]
    },
    {
     "name": "stdout",
     "output_type": "stream",
     "text": [
      "attribute error:\n",
      "'NoneType' object has no attribute 'text'\n"
     ]
    },
    {
     "name": "stderr",
     "output_type": "stream",
     "text": [
      "\n",
      " 60%|██████    | 6/10 [00:12<00:09,  2.36s/it]\u001b[A\n",
      " 70%|███████   | 7/10 [00:12<00:05,  1.85s/it]\u001b[A\n",
      " 80%|████████  | 8/10 [00:13<00:02,  1.49s/it]\u001b[A\n",
      " 90%|█████████ | 9/10 [00:16<00:01,  1.86s/it]\u001b[A\n",
      "100%|██████████| 10/10 [00:18<00:00,  1.80s/it]\u001b[A\n",
      " 93%|█████████▎| 38/41 [1:57:56<04:01, 80.34s/it]\n",
      "  0%|          | 0/15 [00:00<?, ?it/s]\u001b[A\n",
      "  7%|▋         | 1/15 [00:00<00:09,  1.46it/s]\u001b[A\n",
      " 13%|█▎        | 2/15 [00:03<00:17,  1.32s/it]\u001b[A"
     ]
    },
    {
     "name": "stdout",
     "output_type": "stream",
     "text": [
      "attribute error:\n",
      "'NoneType' object has no attribute 'text'\n"
     ]
    },
    {
     "name": "stderr",
     "output_type": "stream",
     "text": [
      "\n",
      " 20%|██        | 3/15 [00:04<00:13,  1.11s/it]\u001b[A\n",
      " 27%|██▋       | 4/15 [00:06<00:17,  1.60s/it]\u001b[A\n",
      " 33%|███▎      | 5/15 [00:07<00:13,  1.33s/it]\u001b[A\n",
      " 40%|████      | 6/15 [00:08<00:10,  1.12s/it]\u001b[A\n",
      " 47%|████▋     | 7/15 [00:08<00:07,  1.03it/s]\u001b[A\n",
      " 53%|█████▎    | 8/15 [00:11<00:10,  1.50s/it]\u001b[A\n",
      " 60%|██████    | 9/15 [00:14<00:10,  1.82s/it]\u001b[A"
     ]
    },
    {
     "name": "stdout",
     "output_type": "stream",
     "text": [
      "attribute error:\n",
      "'NoneType' object has no attribute 'text'\n"
     ]
    },
    {
     "name": "stderr",
     "output_type": "stream",
     "text": [
      "\n",
      " 67%|██████▋   | 10/15 [00:17<00:11,  2.23s/it]\u001b[A"
     ]
    },
    {
     "name": "stdout",
     "output_type": "stream",
     "text": [
      "attribute error:\n",
      "'NoneType' object has no attribute 'text'\n"
     ]
    },
    {
     "name": "stderr",
     "output_type": "stream",
     "text": [
      "\n",
      " 73%|███████▎  | 11/15 [00:21<00:10,  2.68s/it]\u001b[A\n",
      " 80%|████████  | 12/15 [00:21<00:06,  2.11s/it]\u001b[A\n",
      " 87%|████████▋ | 13/15 [00:23<00:03,  1.97s/it]\u001b[A\n",
      " 93%|█████████▎| 14/15 [00:26<00:02,  2.17s/it]\u001b[A\n",
      "100%|██████████| 15/15 [00:28<00:00,  1.92s/it]\u001b[A\n",
      "\n",
      "  0%|          | 0/14 [00:00<?, ?it/s]\u001b[A"
     ]
    },
    {
     "name": "stdout",
     "output_type": "stream",
     "text": [
      "attribute error:\n",
      "'NoneType' object has no attribute 'text'\n"
     ]
    },
    {
     "name": "stderr",
     "output_type": "stream",
     "text": [
      "\n",
      "  7%|▋         | 1/14 [00:02<00:26,  2.07s/it]\u001b[A\n",
      " 14%|█▍        | 2/14 [00:05<00:28,  2.39s/it]\u001b[A"
     ]
    },
    {
     "name": "stdout",
     "output_type": "stream",
     "text": [
      "attribute error:\n",
      "'NoneType' object has no attribute 'text'\n"
     ]
    },
    {
     "name": "stderr",
     "output_type": "stream",
     "text": [
      "\n",
      " 21%|██▏       | 3/14 [00:08<00:29,  2.64s/it]\u001b[A"
     ]
    },
    {
     "name": "stdout",
     "output_type": "stream",
     "text": [
      "attribute error:\n",
      "'NoneType' object has no attribute 'text'\n"
     ]
    },
    {
     "name": "stderr",
     "output_type": "stream",
     "text": [
      "\n",
      " 29%|██▊       | 4/14 [00:09<00:20,  2.06s/it]\u001b[A\n",
      " 36%|███▌      | 5/14 [00:12<00:20,  2.31s/it]\u001b[A"
     ]
    },
    {
     "name": "stdout",
     "output_type": "stream",
     "text": [
      "attribute error:\n",
      "'NoneType' object has no attribute 'text'\n"
     ]
    },
    {
     "name": "stderr",
     "output_type": "stream",
     "text": [
      "\n",
      " 43%|████▎     | 6/14 [00:15<00:20,  2.56s/it]\u001b[A"
     ]
    },
    {
     "name": "stdout",
     "output_type": "stream",
     "text": [
      "attribute error:\n",
      "'NoneType' object has no attribute 'text'\n"
     ]
    },
    {
     "name": "stderr",
     "output_type": "stream",
     "text": [
      "\n",
      " 50%|█████     | 7/14 [00:18<00:18,  2.67s/it]\u001b[A"
     ]
    },
    {
     "name": "stdout",
     "output_type": "stream",
     "text": [
      "attribute error:\n",
      "'NoneType' object has no attribute 'text'\n"
     ]
    },
    {
     "name": "stderr",
     "output_type": "stream",
     "text": [
      "\n",
      " 57%|█████▋    | 8/14 [00:18<00:12,  2.06s/it]\u001b[A\n",
      " 64%|██████▍   | 9/14 [00:19<00:08,  1.63s/it]\u001b[A\n",
      " 71%|███████▏  | 10/14 [00:21<00:07,  1.78s/it]\u001b[A\n",
      " 79%|███████▊  | 11/14 [00:24<00:06,  2.13s/it]\u001b[A"
     ]
    },
    {
     "name": "stdout",
     "output_type": "stream",
     "text": [
      "attribute error:\n",
      "'NoneType' object has no attribute 'text'\n"
     ]
    },
    {
     "name": "stderr",
     "output_type": "stream",
     "text": [
      "\n",
      " 86%|████████▌ | 12/14 [00:27<00:04,  2.44s/it]\u001b[A"
     ]
    },
    {
     "name": "stdout",
     "output_type": "stream",
     "text": [
      "attribute error:\n",
      "'NoneType' object has no attribute 'text'\n"
     ]
    },
    {
     "name": "stderr",
     "output_type": "stream",
     "text": [
      "\n",
      " 93%|█████████▎| 13/14 [00:28<00:01,  1.91s/it]\u001b[A\n",
      "100%|██████████| 14/14 [00:31<00:00,  2.23s/it]\u001b[A\n",
      "\n",
      "  0%|          | 0/13 [00:00<?, ?it/s]\u001b[A"
     ]
    },
    {
     "name": "stdout",
     "output_type": "stream",
     "text": [
      "attribute error:\n",
      "'NoneType' object has no attribute 'text'\n"
     ]
    },
    {
     "name": "stderr",
     "output_type": "stream",
     "text": [
      "\n",
      "  8%|▊         | 1/13 [00:00<00:02,  4.15it/s]\u001b[A\n",
      " 15%|█▌        | 2/13 [00:03<00:11,  1.08s/it]\u001b[A"
     ]
    },
    {
     "name": "stdout",
     "output_type": "stream",
     "text": [
      "attribute error:\n",
      "'NoneType' object has no attribute 'text'\n"
     ]
    },
    {
     "name": "stderr",
     "output_type": "stream",
     "text": [
      "\n",
      " 23%|██▎       | 3/13 [00:06<00:16,  1.63s/it]\u001b[A"
     ]
    },
    {
     "name": "stdout",
     "output_type": "stream",
     "text": [
      "attribute error:\n",
      "'NoneType' object has no attribute 'text'\n"
     ]
    },
    {
     "name": "stderr",
     "output_type": "stream",
     "text": [
      "\n",
      " 31%|███       | 4/13 [00:06<00:10,  1.21s/it]\u001b[A\n",
      " 38%|███▊      | 5/13 [00:09<00:14,  1.76s/it]\u001b[A"
     ]
    },
    {
     "name": "stdout",
     "output_type": "stream",
     "text": [
      "attribute error:\n",
      "'NoneType' object has no attribute 'text'\n"
     ]
    },
    {
     "name": "stderr",
     "output_type": "stream",
     "text": [
      "\n",
      " 46%|████▌     | 6/13 [00:12<00:15,  2.16s/it]\u001b[A"
     ]
    },
    {
     "name": "stdout",
     "output_type": "stream",
     "text": [
      "attribute error:\n",
      "'NoneType' object has no attribute 'text'\n"
     ]
    },
    {
     "name": "stderr",
     "output_type": "stream",
     "text": [
      "\n",
      " 54%|█████▍    | 7/13 [00:14<00:12,  2.10s/it]\u001b[A\n",
      " 62%|██████▏   | 8/13 [00:14<00:07,  1.53s/it]\u001b[A\n",
      " 69%|██████▉   | 9/13 [00:15<00:05,  1.34s/it]\u001b[A\n",
      " 77%|███████▋  | 10/13 [00:18<00:05,  1.83s/it]\u001b[A"
     ]
    },
    {
     "name": "stdout",
     "output_type": "stream",
     "text": [
      "attribute error:\n",
      "'NoneType' object has no attribute 'text'\n"
     ]
    },
    {
     "name": "stderr",
     "output_type": "stream",
     "text": [
      "\n",
      " 85%|████████▍ | 11/13 [00:22<00:04,  2.32s/it]\u001b[A"
     ]
    },
    {
     "name": "stdout",
     "output_type": "stream",
     "text": [
      "attribute error:\n",
      "'NoneType' object has no attribute 'text'\n"
     ]
    },
    {
     "name": "stderr",
     "output_type": "stream",
     "text": [
      "\n",
      " 92%|█████████▏| 12/13 [00:22<00:01,  1.70s/it]\u001b[A\n",
      "100%|██████████| 13/13 [00:25<00:00,  1.96s/it]\u001b[A\n",
      " 95%|█████████▌| 39/41 [1:59:21<02:43, 81.85s/it]\n",
      "  0%|          | 0/18 [00:00<?, ?it/s]\u001b[A"
     ]
    },
    {
     "name": "stdout",
     "output_type": "stream",
     "text": [
      "attribute error:\n",
      "'NoneType' object has no attribute 'text'\n"
     ]
    },
    {
     "name": "stderr",
     "output_type": "stream",
     "text": [
      "\n",
      "  6%|▌         | 1/18 [00:03<00:51,  3.04s/it]\u001b[A"
     ]
    },
    {
     "name": "stdout",
     "output_type": "stream",
     "text": [
      "attribute error:\n",
      "'NoneType' object has no attribute 'text'\n"
     ]
    },
    {
     "name": "stderr",
     "output_type": "stream",
     "text": [
      "\n",
      " 11%|█         | 2/18 [00:05<00:47,  2.94s/it]\u001b[A\n",
      " 17%|█▋        | 3/18 [00:06<00:34,  2.27s/it]\u001b[A\n",
      " 22%|██▏       | 4/18 [00:07<00:25,  1.81s/it]\u001b[A\n",
      " 28%|██▊       | 5/18 [00:07<00:19,  1.49s/it]\u001b[A\n",
      " 33%|███▎      | 6/18 [00:11<00:24,  2.06s/it]\u001b[A\n",
      " 39%|███▉      | 7/18 [00:14<00:25,  2.34s/it]\u001b[A"
     ]
    },
    {
     "name": "stdout",
     "output_type": "stream",
     "text": [
      "attribute error:\n",
      "'NoneType' object has no attribute 'text'\n"
     ]
    },
    {
     "name": "stderr",
     "output_type": "stream",
     "text": [
      "\n",
      " 44%|████▍     | 8/18 [00:14<00:18,  1.84s/it]\u001b[A\n",
      " 50%|█████     | 9/18 [00:17<00:19,  2.12s/it]\u001b[A\n",
      " 56%|█████▌    | 10/18 [00:20<00:17,  2.25s/it]\u001b[A"
     ]
    },
    {
     "name": "stdout",
     "output_type": "stream",
     "text": [
      "attribute error:\n",
      "'NoneType' object has no attribute 'text'\n"
     ]
    },
    {
     "name": "stderr",
     "output_type": "stream",
     "text": [
      "\n",
      " 61%|██████    | 11/18 [00:23<00:18,  2.58s/it]\u001b[A\n",
      " 67%|██████▋   | 12/18 [00:26<00:16,  2.75s/it]\u001b[A"
     ]
    },
    {
     "name": "stdout",
     "output_type": "stream",
     "text": [
      "attribute error:\n",
      "'NoneType' object has no attribute 'text'\n"
     ]
    },
    {
     "name": "stderr",
     "output_type": "stream",
     "text": [
      "\n",
      " 72%|███████▏  | 13/18 [00:30<00:15,  3.06s/it]\u001b[A\n",
      " 78%|███████▊  | 14/18 [00:31<00:09,  2.32s/it]\u001b[A\n",
      " 83%|████████▎ | 15/18 [00:31<00:05,  1.80s/it]\u001b[A\n",
      " 89%|████████▉ | 16/18 [00:33<00:03,  1.66s/it]\u001b[A\n",
      " 94%|█████████▍| 17/18 [00:34<00:01,  1.71s/it]\u001b[A\n",
      "100%|██████████| 18/18 [00:38<00:00,  2.12s/it]\u001b[A\n",
      "\n",
      "  0%|          | 0/16 [00:00<?, ?it/s]\u001b[A"
     ]
    },
    {
     "name": "stdout",
     "output_type": "stream",
     "text": [
      "attribute error:\n",
      "'NoneType' object has no attribute 'text'\n"
     ]
    },
    {
     "name": "stderr",
     "output_type": "stream",
     "text": [
      "\n",
      "  6%|▋         | 1/16 [00:03<00:47,  3.20s/it]\u001b[A"
     ]
    },
    {
     "name": "stdout",
     "output_type": "stream",
     "text": [
      "attribute error:\n",
      "'NoneType' object has no attribute 'text'\n"
     ]
    },
    {
     "name": "stderr",
     "output_type": "stream",
     "text": [
      "\n",
      " 12%|█▎        | 2/16 [00:06<00:44,  3.19s/it]\u001b[A\n",
      " 19%|█▉        | 3/16 [00:07<00:33,  2.61s/it]\u001b[A\n",
      " 25%|██▌       | 4/16 [00:08<00:24,  2.06s/it]\u001b[A\n",
      " 31%|███▏      | 5/16 [00:09<00:18,  1.64s/it]\u001b[A\n",
      " 38%|███▊      | 6/16 [00:09<00:14,  1.42s/it]\u001b[A\n",
      " 44%|████▍     | 7/16 [00:11<00:11,  1.31s/it]\u001b[A"
     ]
    },
    {
     "name": "stdout",
     "output_type": "stream",
     "text": [
      "attribute error:\n",
      "'NoneType' object has no attribute 'text'\n"
     ]
    },
    {
     "name": "stderr",
     "output_type": "stream",
     "text": [
      "\n",
      " 50%|█████     | 8/16 [00:12<00:11,  1.46s/it]\u001b[A\n",
      " 56%|█████▋    | 9/16 [00:16<00:13,  1.98s/it]\u001b[A\n",
      " 62%|██████▎   | 10/16 [00:16<00:09,  1.59s/it]\u001b[A\n",
      " 69%|██████▉   | 11/16 [00:17<00:06,  1.35s/it]\u001b[A\n",
      " 75%|███████▌  | 12/16 [00:20<00:06,  1.75s/it]\u001b[A"
     ]
    },
    {
     "name": "stdout",
     "output_type": "stream",
     "text": [
      "attribute error:\n",
      "'NoneType' object has no attribute 'text'\n"
     ]
    },
    {
     "name": "stderr",
     "output_type": "stream",
     "text": [
      "\n",
      " 81%|████████▏ | 13/16 [00:23<00:06,  2.15s/it]\u001b[A\n",
      " 88%|████████▊ | 14/16 [00:26<00:04,  2.42s/it]\u001b[A"
     ]
    },
    {
     "name": "stdout",
     "output_type": "stream",
     "text": [
      "attribute error:\n",
      "'NoneType' object has no attribute 'text'\n"
     ]
    },
    {
     "name": "stderr",
     "output_type": "stream",
     "text": [
      "\n",
      " 94%|█████████▍| 15/16 [00:29<00:02,  2.64s/it]\u001b[A"
     ]
    },
    {
     "name": "stdout",
     "output_type": "stream",
     "text": [
      "attribute error:\n",
      "'NoneType' object has no attribute 'text'\n"
     ]
    },
    {
     "name": "stderr",
     "output_type": "stream",
     "text": [
      "\n",
      "100%|██████████| 16/16 [00:35<00:00,  2.21s/it]\u001b[A\n",
      "\n",
      "  0%|          | 0/14 [00:00<?, ?it/s]\u001b[A\n",
      "  7%|▋         | 1/14 [00:02<00:38,  2.97s/it]\u001b[A"
     ]
    },
    {
     "name": "stdout",
     "output_type": "stream",
     "text": [
      "attribute error:\n",
      "'NoneType' object has no attribute 'text'\n"
     ]
    },
    {
     "name": "stderr",
     "output_type": "stream",
     "text": [
      "\n",
      " 14%|█▍        | 2/14 [00:03<00:27,  2.28s/it]\u001b[A\n",
      " 21%|██▏       | 3/14 [00:04<00:19,  1.79s/it]\u001b[A\n",
      " 29%|██▊       | 4/14 [00:05<00:15,  1.50s/it]\u001b[A\n",
      " 36%|███▌      | 5/14 [00:05<00:11,  1.23s/it]\u001b[A\n",
      " 43%|████▎     | 6/14 [00:07<00:11,  1.45s/it]\u001b[A\n",
      " 50%|█████     | 7/14 [00:08<00:08,  1.23s/it]\u001b[A\n",
      " 57%|█████▋    | 8/14 [00:11<00:10,  1.78s/it]\u001b[A"
     ]
    },
    {
     "name": "stdout",
     "output_type": "stream",
     "text": [
      "attribute error:\n",
      "'NoneType' object has no attribute 'text'\n"
     ]
    },
    {
     "name": "stderr",
     "output_type": "stream",
     "text": [
      "\n",
      " 64%|██████▍   | 9/14 [00:13<00:08,  1.76s/it]\u001b[A\n",
      " 71%|███████▏  | 10/14 [00:14<00:06,  1.60s/it]\u001b[A\n",
      " 79%|███████▊  | 11/14 [00:16<00:04,  1.66s/it]\u001b[A\n",
      " 86%|████████▌ | 12/14 [00:16<00:02,  1.36s/it]\u001b[A\n",
      " 93%|█████████▎| 13/14 [00:20<00:02,  2.11s/it]\u001b[A\n",
      "100%|██████████| 14/14 [00:21<00:00,  1.53s/it]\u001b[A\n",
      " 98%|█████████▊| 40/41 [2:00:56<01:25, 85.74s/it]\n",
      "  0%|          | 0/20 [00:00<?, ?it/s]\u001b[A\n",
      "  5%|▌         | 1/20 [00:02<00:56,  2.97s/it]\u001b[A"
     ]
    },
    {
     "name": "stdout",
     "output_type": "stream",
     "text": [
      "attribute error:\n",
      "'NoneType' object has no attribute 'text'\n"
     ]
    },
    {
     "name": "stderr",
     "output_type": "stream",
     "text": [
      "\n",
      " 10%|█         | 2/20 [00:04<00:47,  2.65s/it]\u001b[A\n",
      " 15%|█▌        | 3/20 [00:05<00:34,  2.05s/it]\u001b[A\n",
      " 20%|██        | 4/20 [00:07<00:30,  1.90s/it]\u001b[A\n",
      " 25%|██▌       | 5/20 [00:11<00:40,  2.68s/it]\u001b[A\n",
      " 30%|███       | 6/20 [00:14<00:37,  2.67s/it]\u001b[A\n",
      " 35%|███▌      | 7/20 [00:15<00:31,  2.40s/it]\u001b[A\n",
      " 40%|████      | 8/20 [00:16<00:22,  1.86s/it]\u001b[A\n",
      " 45%|████▌     | 9/20 [00:17<00:17,  1.55s/it]\u001b[A\n",
      " 50%|█████     | 10/20 [00:18<00:12,  1.29s/it]\u001b[A\n",
      " 55%|█████▌    | 11/20 [00:18<00:09,  1.10s/it]\u001b[A\n",
      " 60%|██████    | 12/20 [00:21<00:11,  1.48s/it]\u001b[A"
     ]
    },
    {
     "name": "stdout",
     "output_type": "stream",
     "text": [
      "attribute error:\n",
      "'NoneType' object has no attribute 'text'\n"
     ]
    },
    {
     "name": "stderr",
     "output_type": "stream",
     "text": [
      "\n",
      " 65%|██████▌   | 13/20 [00:21<00:08,  1.24s/it]\u001b[A\n",
      " 70%|███████   | 14/20 [00:23<00:08,  1.41s/it]\u001b[A\n",
      " 75%|███████▌  | 15/20 [00:24<00:05,  1.17s/it]\u001b[A\n",
      " 80%|████████  | 16/20 [00:24<00:04,  1.04s/it]\u001b[A\n",
      " 85%|████████▌ | 17/20 [00:26<00:03,  1.26s/it]\u001b[A\n",
      " 90%|█████████ | 18/20 [00:28<00:02,  1.37s/it]\u001b[A\n",
      " 95%|█████████▌| 19/20 [00:31<00:02,  2.01s/it]\u001b[A\n",
      "100%|██████████| 20/20 [00:33<00:00,  1.66s/it]\u001b[A\n",
      "100%|██████████| 41/41 [2:01:29<00:00, 177.80s/it]\n"
     ]
    }
   ],
   "source": [
    "lyrics_west = {} # will collect lyrics with rappers as keys\n",
    "errors_west = [] # collect errors- repeat scrape (where the request is valid but doesn't work) and investigate invalid\n",
    "rogue_errors_west = [] # ?\n",
    "\n",
    "# iterating over all (west coast) rapper names\n",
    "for artist in tqdm(rappers_west):    \n",
    "    \n",
    "    # get the artist name in the correct format for genius urls (e.g. ).\n",
    "    artist_search = re.sub(\"[.\\(\\)\\']\", '', artist).lower().capitalize().replace('&','and')\n",
    "    artist_search = artist_search.replace('$','s').replace('-',' ').replace(' ','-')\n",
    "    \n",
    "    if artist == 'Paris':\n",
    "        artist_search = 'Paris-rap' # an irregularity in the genius url formatting, due to common artist name\n",
    "    \n",
    "    try:\n",
    "        art_lyr = []\n",
    "        # iterating over each collection of song titles (album) for this artist\n",
    "        for album in list(full_song_dict_west[artist].values()):\n",
    "\n",
    "            for song in tqdm(album):\n",
    "                \n",
    "                # getting the song title into genius url format\n",
    "                song_search = re.sub(\"[.\\(\\)\\'\\#\\\"\\,\\!\\:\\[\\]]\", '', song).lower().replace('&','and')\n",
    "                while '  ' in song_search: \n",
    "                    song_search = song_search.replace('  ',' ')\n",
    "                song_search = re.sub(\"[\\-\\:]\", \" \", song_search).replace('$','s').replace(' ','-')\n",
    "                song_search = song_search.split('-feat')[0].split('-ft-')[0].split('feat-')[0]\n",
    "\n",
    "                # using the re-formatted rapper and song names to create the url for the Genius lyrics scraping\n",
    "                url = ('https://genius.com/' + artist_search + '-' + song_search + '-lyrics').replace('--','-')\n",
    "\n",
    "                still_going = True # set to false once the lyrics have been successfully scraped\n",
    "                count = 0 # counter for the number of attempts to scrape the lyrics to a particular song\n",
    "                while still_going and (count < 4): \n",
    "                # once the scrape is successful or has been attempted 4 times, this while loop breaks.\n",
    "\n",
    "                    try:\n",
    "                        # pushing the request; using beautiful soup to find the lyrics within the html code\n",
    "                        r = requests.get(url)\n",
    "                        soup = BeautifulSoup(r.text, \"html.parser\")\n",
    "\n",
    "                        lyr = soup.find(\"div\", class_=\"lyrics\").text\n",
    "                        lyr = re.sub('\\[.*?]','', lyr) # [Verse], [Bridge], etc. removed\n",
    "                        lyr = re.sub('\\n{2}','',lyr)  # Remove gaps between verses\n",
    "                        lyr = str(lyr).strip('\\n')\n",
    "                        \n",
    "                        art_lyr.append(lyr) # lyrics appended to a list of lyrics for this artist\n",
    "                        still_going = False\n",
    "\n",
    "                        \n",
    "                    except ConnectionError:\n",
    "                        \n",
    "                        print('ConnectionError')\n",
    "                        start = time()\n",
    "                        while time() - start < 10:\n",
    "                            continue\n",
    "                        \n",
    "                    except AttributeError as a:\n",
    "                        # unsuccessful scrape (not due to my dodgy internet...)\n",
    "                        count += 1\n",
    "\n",
    "                        if count == 4:\n",
    "                            errors_west.append([artist, song, song_search]) # store details of unsuccessful entries\n",
    "                            print(f'attribute error:\\n{a}')\n",
    "                            \n",
    "                    except Exception as e:\n",
    "                        # storing other errors --- to investigate.\n",
    "                        rogue_errors_west.append([artist, song, song_search])\n",
    "                        print(f'Rogue exception: {e}')\n",
    "                            \n",
    "        lyrics_west[artist] = art_lyr  \n",
    "            \n",
    "    except:\n",
    "        continue\n",
    "        \n",
    "        "
   ]
  },
  {
   "cell_type": "code",
   "execution_count": 17,
   "metadata": {},
   "outputs": [
    {
     "name": "stdout",
     "output_type": "stream",
     "text": [
      "2Pac --- 76 --- 84\n",
      "Andre Nickatina --- 28 --- 46\n",
      "Coolio --- 44 --- 49\n",
      "Del the Funky Homosapien --- 35 --- 41\n",
      "Digital Underground --- 50 --- 69\n",
      "Dr. Dre --- 49 --- 56\n",
      "Eazy-E --- 43 --- 54\n",
      "House of Pain --- 43 --- 44\n",
      "Ice Cube --- 66 --- 86\n",
      "Luniz --- 22 --- 31\n",
      "MC Eiht --- 39 --- 45\n",
      "MC Hammer --- 36 --- 65\n",
      "MC Ren --- 18 --- 34\n",
      "N.W.A --- 29 --- 31\n",
      "Paris --- 38 --- 55\n",
      "People Under The Stairs --- 7 --- 16\n",
      "Ras Kass --- 24 --- 31\n",
      "Saafir --- 18 --- 46\n",
      "The Pharcyde --- 30 --- 33\n",
      "Kurupt --- 19 --- 20\n",
      "Sir Mix-a-Lot --- 51 --- 69\n",
      "Skee-Lo --- 10 --- 11\n",
      "Souls of Mischief --- 28 --- 43\n",
      "N.W.A. --- 30 --- 31\n",
      "Too $hort --- 84 --- 93\n",
      "Cypress Hill --- 56 --- 63\n",
      "Kid Frost --- 11 --- 38\n",
      "Warren G --- 63 --- 69\n",
      "Compton's Most Wanted --- 38 --- 57\n",
      "Nate Dogg --- 17 --- 20\n",
      "Ice-T --- 79 --- 95\n",
      "Westside Connection --- 9 --- 13\n",
      "Blackalicious --- 16 --- 18\n",
      "Aceyalone --- 13 --- 36\n",
      "Tha Alkaholiks --- 37 --- 41\n",
      "B-Legit --- 23 --- 42\n",
      "Mack 10 --- 36 --- 48\n",
      "Hieroglyphics --- 18 --- 20\n"
     ]
    }
   ],
   "source": [
    "# check how many lyrics have been successfully scraped for each rapper\n",
    "\n",
    "for artist in lyrics_west:\n",
    "    \n",
    "    songs = []\n",
    "    for album in full_song_dict_west[artist]:\n",
    "        songs.extend(full_song_dict_west[artist][album])\n",
    "    \n",
    "    print(artist, '---', len(lyrics_west[artist]), '---', len(songs))"
   ]
  },
  {
   "cell_type": "code",
   "execution_count": null,
   "metadata": {},
   "outputs": [],
   "source": []
  },
  {
   "cell_type": "code",
   "execution_count": null,
   "metadata": {},
   "outputs": [],
   "source": []
  },
  {
   "cell_type": "code",
   "execution_count": 20,
   "metadata": {},
   "outputs": [],
   "source": [
    "# save the lyrics\n",
    "with open('lyrics_west_HUGE.json', 'w') as fp:\n",
    "    json.dump(lyrics_west, fp)"
   ]
  },
  {
   "cell_type": "code",
   "execution_count": null,
   "metadata": {},
   "outputs": [],
   "source": []
  },
  {
   "cell_type": "code",
   "execution_count": null,
   "metadata": {},
   "outputs": [],
   "source": []
  },
  {
   "cell_type": "code",
   "execution_count": null,
   "metadata": {},
   "outputs": [],
   "source": []
  },
  {
   "cell_type": "code",
   "execution_count": null,
   "metadata": {},
   "outputs": [],
   "source": []
  },
  {
   "cell_type": "code",
   "execution_count": 23,
   "metadata": {},
   "outputs": [],
   "source": [
    "##### EAST ######"
   ]
  },
  {
   "cell_type": "markdown",
   "metadata": {},
   "source": [
    "same code explanation."
   ]
  },
  {
   "cell_type": "code",
   "execution_count": 24,
   "metadata": {},
   "outputs": [
    {
     "name": "stderr",
     "output_type": "stream",
     "text": [
      "  0%|          | 0/50 [00:00<?, ?it/s]\n",
      "  0%|          | 0/16 [00:00<?, ?it/s]\u001b[A\n",
      "  6%|▋         | 1/16 [00:04<01:08,  4.59s/it]\u001b[A\n",
      " 12%|█▎        | 2/16 [00:06<00:53,  3.84s/it]\u001b[A\n",
      " 19%|█▉        | 3/16 [00:10<00:50,  3.86s/it]\u001b[A\n",
      " 25%|██▌       | 4/16 [00:14<00:46,  3.84s/it]\u001b[A\n",
      " 31%|███▏      | 5/16 [00:15<00:33,  3.08s/it]\u001b[A\n",
      " 38%|███▊      | 6/16 [00:17<00:27,  2.74s/it]\u001b[A\n",
      " 44%|████▍     | 7/16 [00:19<00:21,  2.44s/it]\u001b[A\n",
      " 50%|█████     | 8/16 [00:21<00:17,  2.21s/it]\u001b[A\n",
      " 56%|█████▋    | 9/16 [00:25<00:19,  2.81s/it]\u001b[A\n",
      " 62%|██████▎   | 10/16 [00:27<00:15,  2.62s/it]\u001b[A\n",
      " 69%|██████▉   | 11/16 [00:30<00:13,  2.79s/it]\u001b[A\n",
      " 75%|███████▌  | 12/16 [00:32<00:10,  2.53s/it]\u001b[A\n",
      " 81%|████████▏ | 13/16 [00:36<00:08,  2.95s/it]\u001b[A\n",
      " 88%|████████▊ | 14/16 [00:39<00:05,  2.97s/it]\u001b[A\n",
      " 94%|█████████▍| 15/16 [00:42<00:03,  3.05s/it]\u001b[A\n",
      "100%|██████████| 16/16 [00:44<00:00,  2.77s/it]\u001b[A\n",
      "\n",
      "  0%|          | 0/12 [00:00<?, ?it/s]\u001b[A\n",
      "  8%|▊         | 1/12 [00:02<00:25,  2.33s/it]\u001b[A\n",
      " 17%|█▋        | 2/12 [00:02<00:17,  1.71s/it]\u001b[A\n",
      " 25%|██▌       | 3/12 [00:05<00:18,  2.00s/it]\u001b[A"
     ]
    },
    {
     "name": "stdout",
     "output_type": "stream",
     "text": [
      "attribute error:\n",
      "'NoneType' object has no attribute 'text'\n"
     ]
    },
    {
     "name": "stderr",
     "output_type": "stream",
     "text": [
      "\n",
      " 33%|███▎      | 4/12 [00:07<00:17,  2.17s/it]\u001b[A\n",
      " 42%|████▏     | 5/12 [00:08<00:11,  1.65s/it]\u001b[A\n",
      " 50%|█████     | 6/12 [00:11<00:13,  2.17s/it]\u001b[A\n",
      " 58%|█████▊    | 7/12 [00:11<00:07,  1.59s/it]\u001b[A\n",
      " 67%|██████▋   | 8/12 [00:13<00:06,  1.74s/it]\u001b[A\n",
      " 75%|███████▌  | 9/12 [00:17<00:06,  2.26s/it]\u001b[A\n",
      " 83%|████████▎ | 10/12 [00:18<00:03,  1.85s/it]\u001b[A"
     ]
    },
    {
     "name": "stdout",
     "output_type": "stream",
     "text": [
      "attribute error:\n",
      "'NoneType' object has no attribute 'text'\n"
     ]
    },
    {
     "name": "stderr",
     "output_type": "stream",
     "text": [
      "\n",
      " 92%|█████████▏| 11/12 [00:20<00:01,  1.95s/it]\u001b[A\n",
      "100%|██████████| 12/12 [00:23<00:00,  1.99s/it]\u001b[A\n",
      "  2%|▏         | 1/50 [01:08<55:43, 68.24s/it]\n",
      "  0%|          | 0/10 [00:00<?, ?it/s]\u001b[A\n",
      " 10%|█         | 1/10 [00:02<00:24,  2.75s/it]\u001b[A\n",
      " 20%|██        | 2/10 [00:05<00:22,  2.81s/it]\u001b[A"
     ]
    },
    {
     "name": "stdout",
     "output_type": "stream",
     "text": [
      "attribute error:\n",
      "'NoneType' object has no attribute 'text'\n"
     ]
    },
    {
     "name": "stderr",
     "output_type": "stream",
     "text": [
      "\n",
      " 30%|███       | 3/10 [00:08<00:20,  2.89s/it]\u001b[A"
     ]
    },
    {
     "name": "stdout",
     "output_type": "stream",
     "text": [
      "attribute error:\n",
      "'NoneType' object has no attribute 'text'\n"
     ]
    },
    {
     "name": "stderr",
     "output_type": "stream",
     "text": [
      "\n",
      " 40%|████      | 4/10 [00:11<00:17,  2.96s/it]\u001b[A"
     ]
    },
    {
     "name": "stdout",
     "output_type": "stream",
     "text": [
      "attribute error:\n",
      "'NoneType' object has no attribute 'text'\n"
     ]
    },
    {
     "name": "stderr",
     "output_type": "stream",
     "text": [
      "\n",
      " 50%|█████     | 5/10 [00:14<00:14,  2.97s/it]\u001b[A"
     ]
    },
    {
     "name": "stdout",
     "output_type": "stream",
     "text": [
      "attribute error:\n",
      "'NoneType' object has no attribute 'text'\n"
     ]
    },
    {
     "name": "stderr",
     "output_type": "stream",
     "text": [
      "\n",
      " 60%|██████    | 6/10 [00:17<00:12,  3.00s/it]\u001b[A"
     ]
    },
    {
     "name": "stdout",
     "output_type": "stream",
     "text": [
      "attribute error:\n",
      "'NoneType' object has no attribute 'text'\n"
     ]
    },
    {
     "name": "stderr",
     "output_type": "stream",
     "text": [
      "\n",
      " 70%|███████   | 7/10 [00:21<00:09,  3.05s/it]\u001b[A"
     ]
    },
    {
     "name": "stdout",
     "output_type": "stream",
     "text": [
      "attribute error:\n",
      "'NoneType' object has no attribute 'text'\n"
     ]
    },
    {
     "name": "stderr",
     "output_type": "stream",
     "text": [
      "\n",
      " 80%|████████  | 8/10 [00:24<00:06,  3.18s/it]\u001b[A\n",
      " 90%|█████████ | 9/10 [00:27<00:03,  3.15s/it]\u001b[A"
     ]
    },
    {
     "name": "stdout",
     "output_type": "stream",
     "text": [
      "attribute error:\n",
      "'NoneType' object has no attribute 'text'\n"
     ]
    },
    {
     "name": "stderr",
     "output_type": "stream",
     "text": [
      "\n",
      "100%|██████████| 10/10 [00:30<00:00,  3.07s/it]\u001b[A\n",
      "  4%|▍         | 2/50 [01:38<45:34, 56.97s/it]\n",
      "  0%|          | 0/17 [00:00<?, ?it/s]\u001b[A"
     ]
    },
    {
     "name": "stdout",
     "output_type": "stream",
     "text": [
      "attribute error:\n",
      "'NoneType' object has no attribute 'text'\n"
     ]
    },
    {
     "name": "stderr",
     "output_type": "stream",
     "text": [
      "\n",
      "  6%|▌         | 1/17 [00:02<00:33,  2.07s/it]\u001b[A\n",
      " 12%|█▏        | 2/17 [00:07<00:46,  3.12s/it]\u001b[A\n",
      " 18%|█▊        | 3/17 [00:10<00:44,  3.15s/it]\u001b[A"
     ]
    },
    {
     "name": "stdout",
     "output_type": "stream",
     "text": [
      "attribute error:\n",
      "'NoneType' object has no attribute 'text'\n"
     ]
    },
    {
     "name": "stderr",
     "output_type": "stream",
     "text": [
      "\n",
      " 24%|██▎       | 4/17 [00:17<00:52,  4.07s/it]\u001b[A\n",
      " 29%|██▉       | 5/17 [00:20<00:47,  3.94s/it]\u001b[A\n",
      " 35%|███▌      | 6/17 [00:22<00:35,  3.21s/it]\u001b[A\n",
      " 41%|████      | 7/17 [00:24<00:29,  3.00s/it]\u001b[A\n",
      " 47%|████▋     | 8/17 [00:27<00:27,  3.06s/it]\u001b[A\n",
      " 53%|█████▎    | 9/17 [00:29<00:20,  2.55s/it]\u001b[A\n",
      " 59%|█████▉    | 10/17 [00:33<00:21,  3.06s/it]\u001b[A\n",
      " 65%|██████▍   | 11/17 [00:37<00:20,  3.34s/it]\u001b[A\n",
      " 71%|███████   | 12/17 [00:40<00:16,  3.34s/it]\u001b[A\n",
      " 76%|███████▋  | 13/17 [00:42<00:11,  2.81s/it]\u001b[A\n",
      " 82%|████████▏ | 14/17 [00:46<00:09,  3.12s/it]\u001b[A\n",
      " 88%|████████▊ | 15/17 [00:48<00:05,  2.84s/it]\u001b[A\n",
      " 94%|█████████▍| 16/17 [00:50<00:02,  2.53s/it]\u001b[A\n",
      "100%|██████████| 17/17 [00:52<00:00,  3.07s/it]\u001b[A\n",
      "\n",
      "  0%|          | 0/12 [00:00<?, ?it/s]\u001b[A\n",
      "  8%|▊         | 1/12 [00:01<00:13,  1.20s/it]\u001b[A\n",
      " 17%|█▋        | 2/12 [00:03<00:14,  1.41s/it]\u001b[A\n",
      " 25%|██▌       | 3/12 [00:03<00:09,  1.07s/it]\u001b[A\n",
      " 33%|███▎      | 4/12 [00:04<00:08,  1.03s/it]\u001b[A\n",
      " 42%|████▏     | 5/12 [00:06<00:08,  1.24s/it]\u001b[A\n",
      " 50%|█████     | 6/12 [00:10<00:12,  2.09s/it]\u001b[A\n",
      " 58%|█████▊    | 7/12 [00:12<00:10,  2.16s/it]\u001b[A\n",
      " 67%|██████▋   | 8/12 [00:15<00:09,  2.33s/it]\u001b[A\n",
      " 75%|███████▌  | 9/12 [00:18<00:07,  2.51s/it]\u001b[A\n",
      " 83%|████████▎ | 10/12 [00:19<00:04,  2.20s/it]\u001b[A\n",
      " 92%|█████████▏| 11/12 [00:21<00:02,  2.16s/it]\u001b[A\n",
      "100%|██████████| 12/12 [00:24<00:00,  2.04s/it]\u001b[A\n",
      "  6%|▌         | 3/50 [02:55<49:17, 62.92s/it]\n",
      "  0%|          | 0/18 [00:00<?, ?it/s]\u001b[A"
     ]
    },
    {
     "name": "stdout",
     "output_type": "stream",
     "text": [
      "attribute error:\n",
      "'NoneType' object has no attribute 'text'\n"
     ]
    },
    {
     "name": "stderr",
     "output_type": "stream",
     "text": [
      "\n",
      "  6%|▌         | 1/18 [00:06<01:43,  6.07s/it]\u001b[A\n",
      " 11%|█         | 2/18 [00:08<01:18,  4.90s/it]\u001b[A"
     ]
    },
    {
     "name": "stdout",
     "output_type": "stream",
     "text": [
      "attribute error:\n",
      "'NoneType' object has no attribute 'text'\n"
     ]
    },
    {
     "name": "stderr",
     "output_type": "stream",
     "text": [
      "\n",
      " 17%|█▋        | 3/18 [00:09<00:59,  3.94s/it]\u001b[A\n",
      " 22%|██▏       | 4/18 [00:11<00:45,  3.26s/it]\u001b[A\n",
      " 28%|██▊       | 5/18 [00:13<00:36,  2.78s/it]\u001b[A\n",
      " 33%|███▎      | 6/18 [00:18<00:41,  3.44s/it]\u001b[A\n",
      " 39%|███▉      | 7/18 [00:20<00:33,  3.01s/it]\u001b[A\n",
      " 44%|████▍     | 8/18 [00:22<00:28,  2.82s/it]\u001b[A\n",
      " 50%|█████     | 9/18 [00:26<00:27,  3.05s/it]\u001b[A\n",
      " 56%|█████▌    | 10/18 [00:28<00:22,  2.75s/it]\u001b[A\n",
      " 61%|██████    | 11/18 [00:28<00:14,  2.11s/it]\u001b[A\n",
      " 67%|██████▋   | 12/18 [00:32<00:14,  2.48s/it]\u001b[A\n",
      " 72%|███████▏  | 13/18 [00:35<00:14,  2.83s/it]\u001b[A\n",
      " 78%|███████▊  | 14/18 [00:38<00:10,  2.72s/it]\u001b[A"
     ]
    },
    {
     "name": "stdout",
     "output_type": "stream",
     "text": [
      "attribute error:\n",
      "'NoneType' object has no attribute 'text'\n"
     ]
    },
    {
     "name": "stderr",
     "output_type": "stream",
     "text": [
      "\n",
      " 83%|████████▎ | 15/18 [00:40<00:07,  2.46s/it]\u001b[A\n",
      " 89%|████████▉ | 16/18 [00:41<00:04,  2.18s/it]\u001b[A\n",
      " 94%|█████████▍| 17/18 [00:43<00:02,  2.07s/it]\u001b[A\n",
      "100%|██████████| 18/18 [00:46<00:00,  2.59s/it]\u001b[A\n",
      "\n",
      "  0%|          | 0/13 [00:00<?, ?it/s]\u001b[A"
     ]
    },
    {
     "name": "stdout",
     "output_type": "stream",
     "text": [
      "attribute error:\n",
      "'NoneType' object has no attribute 'text'\n"
     ]
    },
    {
     "name": "stderr",
     "output_type": "stream",
     "text": [
      "\n",
      "  8%|▊         | 1/13 [00:04<00:48,  4.07s/it]\u001b[A\n",
      " 15%|█▌        | 2/13 [00:08<00:47,  4.30s/it]\u001b[A\n",
      " 23%|██▎       | 3/13 [00:10<00:35,  3.51s/it]\u001b[A\n",
      " 31%|███       | 4/13 [00:14<00:31,  3.50s/it]\u001b[A\n",
      " 38%|███▊      | 5/13 [00:17<00:26,  3.36s/it]\u001b[A\n",
      " 46%|████▌     | 6/13 [00:20<00:24,  3.52s/it]\u001b[A\n",
      " 54%|█████▍    | 7/13 [00:26<00:24,  4.01s/it]\u001b[A\n",
      " 62%|██████▏   | 8/13 [00:27<00:16,  3.36s/it]\u001b[A\n",
      " 69%|██████▉   | 9/13 [00:31<00:13,  3.26s/it]\u001b[A"
     ]
    },
    {
     "name": "stdout",
     "output_type": "stream",
     "text": [
      "attribute error:\n",
      "'NoneType' object has no attribute 'text'\n"
     ]
    },
    {
     "name": "stderr",
     "output_type": "stream",
     "text": [
      "\n",
      " 77%|███████▋  | 10/13 [00:32<00:08,  2.80s/it]\u001b[A"
     ]
    },
    {
     "name": "stdout",
     "output_type": "stream",
     "text": [
      "Rogue exception: (\"Connection broken: OSError(65, 'No route to host')\", OSError(65, 'No route to host'))\n"
     ]
    },
    {
     "name": "stderr",
     "output_type": "stream",
     "text": [
      "\n",
      " 85%|████████▍ | 11/13 [00:54<00:17,  8.53s/it]\u001b[A\n",
      " 92%|█████████▏| 12/13 [00:56<00:06,  6.63s/it]\u001b[A\n",
      "100%|██████████| 13/13 [00:58<00:00,  4.53s/it]\u001b[A\n",
      "  8%|▊         | 4/50 [04:41<58:01, 75.68s/it]\n",
      "  0%|          | 0/17 [00:00<?, ?it/s]\u001b[A\n",
      "  6%|▌         | 1/17 [00:03<00:48,  3.04s/it]\u001b[A\n",
      " 12%|█▏        | 2/17 [00:03<00:34,  2.32s/it]\u001b[A\n",
      " 18%|█▊        | 3/17 [00:05<00:31,  2.22s/it]\u001b[A\n",
      " 24%|██▎       | 4/17 [00:06<00:23,  1.78s/it]\u001b[A\n",
      " 29%|██▉       | 5/17 [00:09<00:26,  2.17s/it]\u001b[A\n",
      " 35%|███▌      | 6/17 [00:12<00:25,  2.31s/it]\u001b[A\n",
      " 41%|████      | 7/17 [00:15<00:26,  2.68s/it]\u001b[A\n",
      " 47%|████▋     | 8/17 [00:19<00:26,  2.92s/it]\u001b[A\n",
      " 53%|█████▎    | 9/17 [00:20<00:20,  2.51s/it]\u001b[A\n",
      " 59%|█████▉    | 10/17 [00:22<00:15,  2.18s/it]\u001b[A\n",
      " 65%|██████▍   | 11/17 [00:25<00:15,  2.59s/it]\u001b[A\n",
      " 71%|███████   | 12/17 [00:28<00:13,  2.69s/it]\u001b[A"
     ]
    },
    {
     "name": "stdout",
     "output_type": "stream",
     "text": [
      "attribute error:\n",
      "'NoneType' object has no attribute 'text'\n"
     ]
    },
    {
     "name": "stderr",
     "output_type": "stream",
     "text": [
      "\n",
      " 76%|███████▋  | 13/17 [00:32<00:11,  2.94s/it]\u001b[A\n",
      " 82%|████████▏ | 14/17 [00:34<00:08,  2.78s/it]\u001b[A\n",
      " 88%|████████▊ | 15/17 [00:36<00:04,  2.44s/it]\u001b[A\n",
      " 94%|█████████▍| 16/17 [00:39<00:02,  2.83s/it]\u001b[A\n",
      "100%|██████████| 17/17 [00:41<00:00,  2.43s/it]\u001b[A\n",
      " 10%|█         | 5/50 [05:22<49:01, 65.38s/it]\n",
      "  0%|          | 0/14 [00:00<?, ?it/s]\u001b[A\n",
      "  7%|▋         | 1/14 [00:02<00:36,  2.82s/it]\u001b[A"
     ]
    },
    {
     "name": "stdout",
     "output_type": "stream",
     "text": [
      "attribute error:\n",
      "'NoneType' object has no attribute 'text'\n"
     ]
    },
    {
     "name": "stderr",
     "output_type": "stream",
     "text": [
      "\n",
      " 14%|█▍        | 2/14 [00:05<00:33,  2.79s/it]\u001b[A\n",
      " 21%|██▏       | 3/14 [00:07<00:27,  2.52s/it]\u001b[A\n",
      " 29%|██▊       | 4/14 [00:10<00:28,  2.82s/it]\u001b[A\n",
      " 36%|███▌      | 5/14 [00:13<00:23,  2.59s/it]\u001b[A\n",
      " 43%|████▎     | 6/14 [00:14<00:18,  2.29s/it]\u001b[A\n",
      " 50%|█████     | 7/14 [00:19<00:20,  2.96s/it]\u001b[A\n",
      " 57%|█████▋    | 8/14 [00:22<00:18,  3.03s/it]\u001b[A"
     ]
    },
    {
     "name": "stdout",
     "output_type": "stream",
     "text": [
      "attribute error:\n",
      "'NoneType' object has no attribute 'text'\n"
     ]
    },
    {
     "name": "stderr",
     "output_type": "stream",
     "text": [
      "\n",
      " 64%|██████▍   | 9/14 [00:25<00:14,  3.00s/it]\u001b[A"
     ]
    },
    {
     "name": "stdout",
     "output_type": "stream",
     "text": [
      "attribute error:\n",
      "'NoneType' object has no attribute 'text'\n"
     ]
    },
    {
     "name": "stderr",
     "output_type": "stream",
     "text": [
      "\n",
      " 71%|███████▏  | 10/14 [00:28<00:11,  2.97s/it]\u001b[A\n",
      " 79%|███████▊  | 11/14 [00:31<00:09,  3.02s/it]\u001b[A"
     ]
    },
    {
     "name": "stdout",
     "output_type": "stream",
     "text": [
      "attribute error:\n",
      "'NoneType' object has no attribute 'text'\n"
     ]
    },
    {
     "name": "stderr",
     "output_type": "stream",
     "text": [
      "\n",
      " 86%|████████▌ | 12/14 [00:34<00:06,  3.14s/it]\u001b[A\n",
      " 93%|█████████▎| 13/14 [00:36<00:02,  2.87s/it]\u001b[A\n",
      "100%|██████████| 14/14 [00:40<00:00,  2.88s/it]\u001b[A\n",
      "\n",
      "  0%|          | 0/10 [00:00<?, ?it/s]\u001b[A\n",
      " 10%|█         | 1/10 [00:03<00:33,  3.72s/it]\u001b[A\n",
      " 20%|██        | 2/10 [00:07<00:30,  3.76s/it]\u001b[A\n",
      " 30%|███       | 3/10 [00:09<00:22,  3.25s/it]\u001b[A\n",
      " 40%|████      | 4/10 [00:11<00:17,  2.95s/it]\u001b[A\n",
      " 50%|█████     | 5/10 [00:14<00:13,  2.71s/it]\u001b[A\n",
      " 60%|██████    | 6/10 [00:16<00:10,  2.51s/it]\u001b[A\n",
      " 70%|███████   | 7/10 [00:19<00:08,  2.75s/it]\u001b[A\n",
      " 80%|████████  | 8/10 [00:22<00:05,  2.91s/it]\u001b[A\n",
      " 90%|█████████ | 9/10 [00:26<00:03,  3.16s/it]\u001b[A\n",
      "100%|██████████| 10/10 [00:28<00:00,  2.86s/it]\u001b[A\n",
      "\n",
      "  0%|          | 0/11 [00:00<?, ?it/s]\u001b[A\n",
      "  9%|▉         | 1/11 [00:03<00:36,  3.63s/it]\u001b[A\n",
      " 18%|█▊        | 2/11 [00:05<00:28,  3.19s/it]\u001b[A\n",
      " 27%|██▋       | 3/11 [00:07<00:22,  2.83s/it]\u001b[A\n",
      " 36%|███▋      | 4/11 [00:09<00:18,  2.65s/it]\u001b[A\n",
      " 45%|████▌     | 5/11 [00:11<00:14,  2.42s/it]\u001b[A\n",
      " 55%|█████▍    | 6/11 [00:16<00:14,  3.00s/it]\u001b[A\n",
      " 64%|██████▎   | 7/11 [00:21<00:14,  3.69s/it]\u001b[A\n",
      " 73%|███████▎  | 8/11 [00:23<00:09,  3.20s/it]\u001b[A\n",
      " 82%|████████▏ | 9/11 [00:25<00:05,  2.76s/it]\u001b[A\n",
      " 91%|█████████ | 10/11 [00:28<00:02,  2.87s/it]\u001b[A\n",
      "100%|██████████| 11/11 [00:29<00:00,  2.72s/it]\u001b[A\n",
      " 12%|█▏        | 6/50 [07:01<55:19, 75.43s/it]\n",
      "  0%|          | 0/19 [00:00<?, ?it/s]\u001b[A\n",
      "  5%|▌         | 1/19 [00:03<00:55,  3.07s/it]\u001b[A"
     ]
    },
    {
     "name": "stdout",
     "output_type": "stream",
     "text": [
      "attribute error:\n",
      "'NoneType' object has no attribute 'text'\n"
     ]
    },
    {
     "name": "stderr",
     "output_type": "stream",
     "text": [
      "\n",
      " 11%|█         | 2/19 [00:05<00:51,  3.00s/it]\u001b[A"
     ]
    },
    {
     "name": "stdout",
     "output_type": "stream",
     "text": [
      "attribute error:\n",
      "'NoneType' object has no attribute 'text'\n"
     ]
    },
    {
     "name": "stderr",
     "output_type": "stream",
     "text": [
      "\n",
      " 16%|█▌        | 3/19 [00:08<00:44,  2.75s/it]\u001b[A"
     ]
    },
    {
     "name": "stdout",
     "output_type": "stream",
     "text": [
      "attribute error:\n",
      "'NoneType' object has no attribute 'text'\n"
     ]
    },
    {
     "name": "stderr",
     "output_type": "stream",
     "text": [
      "\n",
      " 21%|██        | 4/19 [00:11<00:42,  2.81s/it]\u001b[A"
     ]
    },
    {
     "name": "stdout",
     "output_type": "stream",
     "text": [
      "attribute error:\n",
      "'NoneType' object has no attribute 'text'\n"
     ]
    },
    {
     "name": "stderr",
     "output_type": "stream",
     "text": [
      "\n",
      " 26%|██▋       | 5/19 [00:14<00:42,  3.05s/it]\u001b[A\n",
      " 32%|███▏      | 6/19 [00:19<00:47,  3.62s/it]\u001b[A\n",
      " 37%|███▋      | 7/19 [00:21<00:36,  3.04s/it]\u001b[A\n",
      " 42%|████▏     | 8/19 [00:24<00:34,  3.14s/it]\u001b[A\n",
      " 47%|████▋     | 9/19 [00:26<00:27,  2.76s/it]\u001b[A\n",
      " 53%|█████▎    | 10/19 [00:29<00:24,  2.72s/it]\u001b[A"
     ]
    },
    {
     "name": "stdout",
     "output_type": "stream",
     "text": [
      "attribute error:\n",
      "'NoneType' object has no attribute 'text'\n"
     ]
    },
    {
     "name": "stderr",
     "output_type": "stream",
     "text": [
      "\n",
      " 58%|█████▊    | 11/19 [00:32<00:22,  2.76s/it]\u001b[A"
     ]
    },
    {
     "name": "stdout",
     "output_type": "stream",
     "text": [
      "attribute error:\n",
      "'NoneType' object has no attribute 'text'\n"
     ]
    },
    {
     "name": "stderr",
     "output_type": "stream",
     "text": [
      "\n",
      " 63%|██████▎   | 12/19 [00:35<00:20,  2.93s/it]\u001b[A\n",
      " 68%|██████▊   | 13/19 [00:37<00:17,  2.84s/it]\u001b[A"
     ]
    },
    {
     "name": "stdout",
     "output_type": "stream",
     "text": [
      "attribute error:\n",
      "'NoneType' object has no attribute 'text'\n"
     ]
    },
    {
     "name": "stderr",
     "output_type": "stream",
     "text": [
      "\n",
      " 74%|███████▎  | 14/19 [00:40<00:13,  2.79s/it]\u001b[A\n",
      " 79%|███████▉  | 15/19 [00:41<00:09,  2.31s/it]\u001b[A\n",
      " 84%|████████▍ | 16/19 [00:43<00:06,  2.23s/it]\u001b[A\n",
      " 89%|████████▉ | 17/19 [00:45<00:03,  1.97s/it]\u001b[A\n",
      " 95%|█████████▍| 18/19 [00:48<00:02,  2.25s/it]\u001b[A"
     ]
    },
    {
     "name": "stdout",
     "output_type": "stream",
     "text": [
      "attribute error:\n",
      "'NoneType' object has no attribute 'text'\n"
     ]
    },
    {
     "name": "stderr",
     "output_type": "stream",
     "text": [
      "\n",
      "100%|██████████| 19/19 [00:49<00:00,  2.59s/it]\u001b[A\n",
      "\n",
      "  0%|          | 0/14 [00:00<?, ?it/s]\u001b[A"
     ]
    },
    {
     "name": "stdout",
     "output_type": "stream",
     "text": [
      "attribute error:\n",
      "'NoneType' object has no attribute 'text'\n"
     ]
    },
    {
     "name": "stderr",
     "output_type": "stream",
     "text": [
      "\n",
      "  7%|▋         | 1/14 [00:04<01:02,  4.82s/it]\u001b[A\n",
      " 14%|█▍        | 2/14 [00:07<00:48,  4.08s/it]\u001b[A"
     ]
    },
    {
     "name": "stdout",
     "output_type": "stream",
     "text": [
      "attribute error:\n",
      "'NoneType' object has no attribute 'text'\n"
     ]
    },
    {
     "name": "stderr",
     "output_type": "stream",
     "text": [
      "\n",
      " 21%|██▏       | 3/14 [00:09<00:39,  3.55s/it]\u001b[A\n",
      " 29%|██▊       | 4/14 [00:12<00:34,  3.45s/it]\u001b[A\n",
      " 36%|███▌      | 5/14 [00:17<00:33,  3.76s/it]\u001b[A\n",
      " 43%|████▎     | 6/14 [00:20<00:28,  3.60s/it]\u001b[A\n",
      " 50%|█████     | 7/14 [00:22<00:21,  3.09s/it]\u001b[A\n",
      " 57%|█████▋    | 8/14 [00:24<00:16,  2.83s/it]\u001b[A\n",
      " 64%|██████▍   | 9/14 [00:26<00:13,  2.70s/it]\u001b[A\n",
      " 71%|███████▏  | 10/14 [00:30<00:12,  3.00s/it]\u001b[A\n",
      " 79%|███████▊  | 11/14 [00:34<00:09,  3.30s/it]\u001b[A\n",
      " 86%|████████▌ | 12/14 [00:38<00:06,  3.39s/it]\u001b[A\n",
      " 93%|█████████▎| 13/14 [00:40<00:02,  2.91s/it]\u001b[A\n",
      "100%|██████████| 14/14 [00:43<00:00,  3.11s/it]\u001b[A\n",
      "\n",
      "  0%|          | 0/14 [00:00<?, ?it/s]\u001b[A\n",
      "  7%|▋         | 1/14 [00:01<00:21,  1.66s/it]\u001b[A\n",
      " 14%|█▍        | 2/14 [00:05<00:26,  2.24s/it]\u001b[A\n",
      " 21%|██▏       | 3/14 [00:08<00:29,  2.68s/it]\u001b[A\n",
      " 29%|██▊       | 4/14 [00:11<00:25,  2.53s/it]\u001b[A\n",
      " 36%|███▌      | 5/14 [00:14<00:24,  2.67s/it]\u001b[A\n",
      " 43%|████▎     | 6/14 [00:15<00:19,  2.42s/it]\u001b[A\n",
      " 50%|█████     | 7/14 [00:19<00:18,  2.71s/it]\u001b[A\n",
      " 57%|█████▋    | 8/14 [00:22<00:17,  2.98s/it]\u001b[A\n",
      " 64%|██████▍   | 9/14 [00:27<00:16,  3.40s/it]\u001b[A\n",
      " 71%|███████▏  | 10/14 [00:29<00:12,  3.02s/it]\u001b[A\n",
      " 79%|███████▊  | 11/14 [00:30<00:07,  2.51s/it]\u001b[A"
     ]
    },
    {
     "name": "stdout",
     "output_type": "stream",
     "text": [
      "attribute error:\n",
      "'NoneType' object has no attribute 'text'\n"
     ]
    },
    {
     "name": "stderr",
     "output_type": "stream",
     "text": [
      "\n",
      " 86%|████████▌ | 12/14 [00:32<00:04,  2.27s/it]\u001b[A\n",
      " 93%|█████████▎| 13/14 [00:36<00:02,  2.92s/it]\u001b[A\n",
      "100%|██████████| 14/14 [00:38<00:00,  2.78s/it]\u001b[A\n",
      " 14%|█▍        | 7/50 [09:12<1:06:07, 92.26s/it]\n",
      "  0%|          | 0/12 [00:00<?, ?it/s]\u001b[A\n",
      "  8%|▊         | 1/12 [00:01<00:21,  1.97s/it]\u001b[A"
     ]
    },
    {
     "name": "stdout",
     "output_type": "stream",
     "text": [
      "attribute error:\n",
      "'NoneType' object has no attribute 'text'\n"
     ]
    },
    {
     "name": "stderr",
     "output_type": "stream",
     "text": [
      "\n",
      " 17%|█▋        | 2/12 [00:06<00:26,  2.66s/it]\u001b[A\n",
      " 25%|██▌       | 3/12 [00:08<00:21,  2.41s/it]\u001b[A\n",
      " 33%|███▎      | 4/12 [00:11<00:22,  2.77s/it]\u001b[A\n",
      " 42%|████▏     | 5/12 [00:13<00:17,  2.44s/it]\u001b[A\n",
      " 50%|█████     | 6/12 [00:16<00:15,  2.52s/it]\u001b[A\n",
      " 58%|█████▊    | 7/12 [00:21<00:17,  3.40s/it]\u001b[A\n",
      " 67%|██████▋   | 8/12 [00:23<00:11,  2.96s/it]\u001b[A\n",
      " 75%|███████▌  | 9/12 [00:26<00:09,  3.04s/it]\u001b[A\n",
      " 83%|████████▎ | 10/12 [00:28<00:05,  2.60s/it]\u001b[A\n",
      " 92%|█████████▏| 11/12 [00:29<00:02,  2.25s/it]\u001b[A"
     ]
    },
    {
     "name": "stdout",
     "output_type": "stream",
     "text": [
      "attribute error:\n",
      "'NoneType' object has no attribute 'text'\n"
     ]
    },
    {
     "name": "stderr",
     "output_type": "stream",
     "text": [
      "\n",
      "100%|██████████| 12/12 [00:32<00:00,  2.70s/it]\u001b[A\n",
      " 16%|█▌        | 8/50 [09:45<52:00, 74.31s/it]  \n",
      "  0%|          | 0/13 [00:00<?, ?it/s]\u001b[A\n",
      "  8%|▊         | 1/13 [00:03<00:41,  3.44s/it]\u001b[A"
     ]
    },
    {
     "name": "stdout",
     "output_type": "stream",
     "text": [
      "attribute error:\n",
      "'NoneType' object has no attribute 'text'\n"
     ]
    },
    {
     "name": "stderr",
     "output_type": "stream",
     "text": [
      "\n",
      " 15%|█▌        | 2/13 [00:06<00:36,  3.28s/it]\u001b[A"
     ]
    },
    {
     "name": "stdout",
     "output_type": "stream",
     "text": [
      "attribute error:\n",
      "'NoneType' object has no attribute 'text'\n"
     ]
    },
    {
     "name": "stderr",
     "output_type": "stream",
     "text": [
      "\n",
      " 23%|██▎       | 3/13 [00:08<00:29,  2.96s/it]\u001b[A\n",
      " 31%|███       | 4/13 [00:11<00:26,  2.96s/it]\u001b[A"
     ]
    },
    {
     "name": "stdout",
     "output_type": "stream",
     "text": [
      "attribute error:\n",
      "'NoneType' object has no attribute 'text'\n"
     ]
    },
    {
     "name": "stderr",
     "output_type": "stream",
     "text": [
      "\n",
      " 38%|███▊      | 5/13 [00:14<00:23,  2.94s/it]\u001b[A"
     ]
    },
    {
     "name": "stdout",
     "output_type": "stream",
     "text": [
      "attribute error:\n",
      "'NoneType' object has no attribute 'text'\n"
     ]
    },
    {
     "name": "stderr",
     "output_type": "stream",
     "text": [
      "\n",
      " 46%|████▌     | 6/13 [00:17<00:20,  2.95s/it]\u001b[A"
     ]
    },
    {
     "name": "stdout",
     "output_type": "stream",
     "text": [
      "attribute error:\n",
      "'NoneType' object has no attribute 'text'\n"
     ]
    },
    {
     "name": "stderr",
     "output_type": "stream",
     "text": [
      "\n",
      " 54%|█████▍    | 7/13 [00:20<00:17,  2.96s/it]\u001b[A"
     ]
    },
    {
     "name": "stdout",
     "output_type": "stream",
     "text": [
      "attribute error:\n",
      "'NoneType' object has no attribute 'text'\n"
     ]
    },
    {
     "name": "stderr",
     "output_type": "stream",
     "text": [
      "\n",
      " 62%|██████▏   | 8/13 [00:23<00:14,  2.99s/it]\u001b[A"
     ]
    },
    {
     "name": "stdout",
     "output_type": "stream",
     "text": [
      "attribute error:\n",
      "'NoneType' object has no attribute 'text'\n"
     ]
    },
    {
     "name": "stderr",
     "output_type": "stream",
     "text": [
      "\n",
      " 69%|██████▉   | 9/13 [00:26<00:11,  2.90s/it]\u001b[A"
     ]
    },
    {
     "name": "stdout",
     "output_type": "stream",
     "text": [
      "attribute error:\n",
      "'NoneType' object has no attribute 'text'\n"
     ]
    },
    {
     "name": "stderr",
     "output_type": "stream",
     "text": [
      "\n",
      " 77%|███████▋  | 10/13 [00:29<00:08,  2.94s/it]\u001b[A"
     ]
    },
    {
     "name": "stdout",
     "output_type": "stream",
     "text": [
      "attribute error:\n",
      "'NoneType' object has no attribute 'text'\n"
     ]
    },
    {
     "name": "stderr",
     "output_type": "stream",
     "text": [
      "\n",
      " 85%|████████▍ | 11/13 [00:32<00:05,  2.95s/it]\u001b[A"
     ]
    },
    {
     "name": "stdout",
     "output_type": "stream",
     "text": [
      "attribute error:\n",
      "'NoneType' object has no attribute 'text'\n"
     ]
    },
    {
     "name": "stderr",
     "output_type": "stream",
     "text": [
      "\n",
      " 92%|█████████▏| 12/13 [00:37<00:03,  3.54s/it]\u001b[A"
     ]
    },
    {
     "name": "stdout",
     "output_type": "stream",
     "text": [
      "attribute error:\n",
      "'NoneType' object has no attribute 'text'\n"
     ]
    },
    {
     "name": "stderr",
     "output_type": "stream",
     "text": [
      "\n",
      "100%|██████████| 13/13 [00:42<00:00,  3.27s/it]\u001b[A\n",
      "\n",
      "  0%|          | 0/11 [00:00<?, ?it/s]\u001b[A"
     ]
    },
    {
     "name": "stdout",
     "output_type": "stream",
     "text": [
      "attribute error:\n",
      "'NoneType' object has no attribute 'text'\n"
     ]
    },
    {
     "name": "stderr",
     "output_type": "stream",
     "text": [
      "\n",
      "  9%|▉         | 1/11 [00:01<00:15,  1.56s/it]\u001b[A\n",
      " 18%|█▊        | 2/11 [00:04<00:17,  1.93s/it]\u001b[A\n",
      " 27%|██▋       | 3/11 [00:08<00:19,  2.49s/it]\u001b[A\n",
      " 36%|███▋      | 4/11 [00:11<00:18,  2.66s/it]\u001b[A"
     ]
    },
    {
     "name": "stdout",
     "output_type": "stream",
     "text": [
      "attribute error:\n",
      "'NoneType' object has no attribute 'text'\n"
     ]
    },
    {
     "name": "stderr",
     "output_type": "stream",
     "text": [
      "\n",
      " 45%|████▌     | 5/11 [00:14<00:16,  2.70s/it]\u001b[A\n",
      " 55%|█████▍    | 6/11 [00:17<00:14,  2.88s/it]\u001b[A\n",
      " 64%|██████▎   | 7/11 [00:18<00:09,  2.48s/it]\u001b[A\n",
      " 73%|███████▎  | 8/11 [00:22<00:08,  2.85s/it]\u001b[A"
     ]
    },
    {
     "name": "stdout",
     "output_type": "stream",
     "text": [
      "Rogue exception: ('Connection aborted.', OSError(65, 'No route to host'))\n"
     ]
    },
    {
     "name": "stderr",
     "output_type": "stream",
     "text": [
      "\n",
      " 82%|████████▏ | 9/11 [08:59<05:14, 157.00s/it]\u001b[A\n",
      " 91%|█████████ | 10/11 [09:01<01:50, 110.45s/it]\u001b[A\n",
      "100%|██████████| 11/11 [09:04<00:00, 49.52s/it] \u001b[A\n",
      " 18%|█▊        | 9/50 [19:32<2:35:56, 228.21s/it]\n",
      "  0%|          | 0/19 [00:00<?, ?it/s]\u001b[A"
     ]
    },
    {
     "name": "stdout",
     "output_type": "stream",
     "text": [
      "attribute error:\n",
      "'NoneType' object has no attribute 'text'\n"
     ]
    },
    {
     "name": "stderr",
     "output_type": "stream",
     "text": [
      "\n",
      "  5%|▌         | 1/19 [00:03<01:03,  3.53s/it]\u001b[A\n",
      " 11%|█         | 2/19 [00:05<00:51,  3.04s/it]\u001b[A\n",
      " 16%|█▌        | 3/19 [00:07<00:43,  2.74s/it]\u001b[A\n",
      " 21%|██        | 4/19 [00:09<00:38,  2.55s/it]\u001b[A\n",
      " 26%|██▋       | 5/19 [00:13<00:40,  2.88s/it]\u001b[A"
     ]
    },
    {
     "name": "stdout",
     "output_type": "stream",
     "text": [
      "attribute error:\n",
      "'NoneType' object has no attribute 'text'\n"
     ]
    },
    {
     "name": "stderr",
     "output_type": "stream",
     "text": [
      "\n",
      " 32%|███▏      | 6/19 [00:17<00:41,  3.21s/it]\u001b[A"
     ]
    },
    {
     "name": "stdout",
     "output_type": "stream",
     "text": [
      "attribute error:\n",
      "'NoneType' object has no attribute 'text'\n"
     ]
    },
    {
     "name": "stderr",
     "output_type": "stream",
     "text": [
      "\n",
      " 37%|███▋      | 7/19 [00:20<00:39,  3.26s/it]\u001b[A"
     ]
    },
    {
     "name": "stdout",
     "output_type": "stream",
     "text": [
      "attribute error:\n",
      "'NoneType' object has no attribute 'text'\n"
     ]
    },
    {
     "name": "stderr",
     "output_type": "stream",
     "text": [
      "\n",
      " 42%|████▏     | 8/19 [00:22<00:32,  2.95s/it]\u001b[A\n",
      " 47%|████▋     | 9/19 [00:24<00:25,  2.60s/it]\u001b[A\n",
      " 53%|█████▎    | 10/19 [00:26<00:22,  2.46s/it]\u001b[A\n",
      " 58%|█████▊    | 11/19 [00:30<00:22,  2.83s/it]\u001b[A"
     ]
    },
    {
     "name": "stdout",
     "output_type": "stream",
     "text": [
      "attribute error:\n",
      "'NoneType' object has no attribute 'text'\n"
     ]
    },
    {
     "name": "stderr",
     "output_type": "stream",
     "text": [
      "\n",
      " 63%|██████▎   | 12/19 [00:32<00:18,  2.65s/it]\u001b[A\n",
      " 68%|██████▊   | 13/19 [00:36<00:17,  2.93s/it]\u001b[A"
     ]
    },
    {
     "name": "stdout",
     "output_type": "stream",
     "text": [
      "attribute error:\n",
      "'NoneType' object has no attribute 'text'\n"
     ]
    },
    {
     "name": "stderr",
     "output_type": "stream",
     "text": [
      "\n",
      " 74%|███████▎  | 14/19 [00:37<00:12,  2.52s/it]\u001b[A\n",
      " 79%|███████▉  | 15/19 [00:40<00:10,  2.52s/it]\u001b[A\n",
      " 84%|████████▍ | 16/19 [00:42<00:07,  2.39s/it]\u001b[A\n",
      " 89%|████████▉ | 17/19 [00:45<00:05,  2.71s/it]\u001b[A"
     ]
    },
    {
     "name": "stdout",
     "output_type": "stream",
     "text": [
      "attribute error:\n",
      "'NoneType' object has no attribute 'text'\n"
     ]
    },
    {
     "name": "stderr",
     "output_type": "stream",
     "text": [
      "\n",
      " 95%|█████████▍| 18/19 [00:50<00:03,  3.22s/it]\u001b[A\n",
      "100%|██████████| 19/19 [00:53<00:00,  2.80s/it]\u001b[A\n",
      "\n",
      "  0%|          | 0/20 [00:00<?, ?it/s]\u001b[A\n",
      "  5%|▌         | 1/20 [00:01<00:33,  1.79s/it]\u001b[A\n",
      " 10%|█         | 2/20 [00:03<00:32,  1.83s/it]\u001b[A\n",
      " 15%|█▌        | 3/20 [00:05<00:32,  1.91s/it]\u001b[A\n",
      " 20%|██        | 4/20 [00:09<00:37,  2.35s/it]\u001b[A\n",
      " 25%|██▌       | 5/20 [00:11<00:37,  2.47s/it]\u001b[A\n",
      " 30%|███       | 6/20 [00:13<00:31,  2.25s/it]\u001b[A\n",
      " 35%|███▌      | 7/20 [00:18<00:37,  2.90s/it]\u001b[A\n",
      " 40%|████      | 8/20 [00:20<00:31,  2.61s/it]\u001b[A\n",
      " 45%|████▌     | 9/20 [00:23<00:31,  2.90s/it]\u001b[A\n",
      " 50%|█████     | 10/20 [00:26<00:29,  2.99s/it]\u001b[A\n",
      " 55%|█████▌    | 11/20 [00:30<00:28,  3.19s/it]\u001b[A\n",
      " 60%|██████    | 12/20 [00:32<00:22,  2.76s/it]\u001b[A\n",
      " 65%|██████▌   | 13/20 [00:35<00:20,  2.98s/it]\u001b[A\n",
      " 70%|███████   | 14/20 [00:37<00:15,  2.60s/it]\u001b[A\n",
      " 75%|███████▌  | 15/20 [00:38<00:11,  2.29s/it]\u001b[A\n",
      " 80%|████████  | 16/20 [00:42<00:11,  2.80s/it]\u001b[A\n",
      " 85%|████████▌ | 17/20 [00:46<00:09,  3.06s/it]\u001b[A\n",
      " 90%|█████████ | 18/20 [00:48<00:05,  2.62s/it]\u001b[A\n",
      " 95%|█████████▌| 19/20 [00:50<00:02,  2.37s/it]\u001b[A\n",
      "100%|██████████| 20/20 [00:51<00:00,  2.59s/it]\u001b[A\n",
      "\n",
      "  0%|          | 0/19 [00:00<?, ?it/s]\u001b[A\n",
      "  5%|▌         | 1/19 [00:01<00:33,  1.88s/it]\u001b[A\n",
      " 11%|█         | 2/19 [00:04<00:34,  2.02s/it]\u001b[A\n",
      " 16%|█▌        | 3/19 [00:06<00:31,  1.95s/it]\u001b[A\n",
      " 21%|██        | 4/19 [00:09<00:34,  2.32s/it]\u001b[A\n",
      " 26%|██▋       | 5/19 [00:09<00:23,  1.69s/it]\u001b[A\n",
      " 32%|███▏      | 6/19 [00:12<00:28,  2.16s/it]\u001b[A"
     ]
    },
    {
     "name": "stdout",
     "output_type": "stream",
     "text": [
      "attribute error:\n",
      "'NoneType' object has no attribute 'text'\n"
     ]
    },
    {
     "name": "stderr",
     "output_type": "stream",
     "text": [
      "\n",
      " 37%|███▋      | 7/19 [00:14<00:26,  2.20s/it]\u001b[A\n",
      " 42%|████▏     | 8/19 [00:17<00:26,  2.38s/it]\u001b[A\n",
      " 47%|████▋     | 9/19 [00:17<00:17,  1.74s/it]\u001b[A\n",
      " 53%|█████▎    | 10/19 [00:18<00:11,  1.28s/it]\u001b[A\n",
      " 58%|█████▊    | 11/19 [00:21<00:14,  1.77s/it]\u001b[A"
     ]
    },
    {
     "name": "stdout",
     "output_type": "stream",
     "text": [
      "attribute error:\n",
      "'NoneType' object has no attribute 'text'\n"
     ]
    },
    {
     "name": "stderr",
     "output_type": "stream",
     "text": [
      "\n",
      " 63%|██████▎   | 12/19 [00:21<00:09,  1.32s/it]\u001b[A\n",
      " 68%|██████▊   | 13/19 [00:24<00:10,  1.78s/it]\u001b[A"
     ]
    },
    {
     "name": "stdout",
     "output_type": "stream",
     "text": [
      "attribute error:\n",
      "'NoneType' object has no attribute 'text'\n"
     ]
    },
    {
     "name": "stderr",
     "output_type": "stream",
     "text": [
      "\n",
      " 74%|███████▎  | 14/19 [00:27<00:11,  2.25s/it]\u001b[A"
     ]
    },
    {
     "name": "stdout",
     "output_type": "stream",
     "text": [
      "attribute error:\n",
      "'NoneType' object has no attribute 'text'\n"
     ]
    },
    {
     "name": "stderr",
     "output_type": "stream",
     "text": [
      "\n",
      " 79%|███████▉  | 15/19 [00:28<00:07,  1.84s/it]\u001b[A\n",
      " 84%|████████▍ | 16/19 [00:28<00:04,  1.44s/it]\u001b[A\n",
      " 89%|████████▉ | 17/19 [00:31<00:03,  1.66s/it]\u001b[A\n",
      " 95%|█████████▍| 18/19 [00:32<00:01,  1.54s/it]\u001b[A\n",
      "100%|██████████| 19/19 [00:35<00:00,  1.89s/it]\u001b[A\n",
      "\n",
      "  0%|          | 0/13 [00:00<?, ?it/s]\u001b[A"
     ]
    },
    {
     "name": "stdout",
     "output_type": "stream",
     "text": [
      "attribute error:\n",
      "'NoneType' object has no attribute 'text'\n"
     ]
    },
    {
     "name": "stderr",
     "output_type": "stream",
     "text": [
      "\n",
      "  8%|▊         | 1/13 [00:05<01:08,  5.70s/it]\u001b[A"
     ]
    },
    {
     "name": "stdout",
     "output_type": "stream",
     "text": [
      "attribute error:\n",
      "'NoneType' object has no attribute 'text'\n"
     ]
    },
    {
     "name": "stderr",
     "output_type": "stream",
     "text": [
      "\n",
      " 15%|█▌        | 2/13 [00:08<00:51,  4.72s/it]\u001b[A\n",
      " 23%|██▎       | 3/13 [00:12<00:44,  4.47s/it]\u001b[A\n",
      " 31%|███       | 4/13 [00:14<00:35,  3.98s/it]\u001b[A"
     ]
    },
    {
     "name": "stdout",
     "output_type": "stream",
     "text": [
      "attribute error:\n",
      "'NoneType' object has no attribute 'text'\n"
     ]
    },
    {
     "name": "stderr",
     "output_type": "stream",
     "text": [
      "\n",
      " 38%|███▊      | 5/13 [00:16<00:26,  3.32s/it]\u001b[A\n",
      " 46%|████▌     | 6/13 [00:19<00:22,  3.15s/it]\u001b[A\n",
      " 54%|█████▍    | 7/13 [00:23<00:20,  3.49s/it]\u001b[A\n",
      " 62%|██████▏   | 8/13 [00:28<00:18,  3.74s/it]\u001b[A\n",
      " 69%|██████▉   | 9/13 [00:31<00:14,  3.72s/it]\u001b[A\n",
      " 77%|███████▋  | 10/13 [00:33<00:09,  3.18s/it]\u001b[A\n",
      " 85%|████████▍ | 11/13 [00:37<00:06,  3.41s/it]\u001b[A\n",
      " 92%|█████████▏| 12/13 [00:40<00:03,  3.16s/it]\u001b[A\n",
      "100%|██████████| 13/13 [00:41<00:00,  3.19s/it]\u001b[A\n",
      " 20%|██        | 10/50 [22:35<2:23:00, 214.50s/it]\n",
      "  0%|          | 0/17 [00:00<?, ?it/s]\u001b[A\n",
      "  6%|▌         | 1/17 [00:04<01:13,  4.61s/it]\u001b[A\n",
      " 12%|█▏        | 2/17 [00:07<01:02,  4.18s/it]\u001b[A\n",
      " 18%|█▊        | 3/17 [00:12<01:00,  4.30s/it]\u001b[A\n",
      " 24%|██▎       | 4/17 [00:15<00:51,  4.00s/it]\u001b[A\n",
      " 29%|██▉       | 5/17 [00:20<00:51,  4.28s/it]\u001b[A\n",
      " 35%|███▌      | 6/17 [00:22<00:39,  3.64s/it]\u001b[A\n",
      " 41%|████      | 7/17 [00:29<00:44,  4.48s/it]\u001b[A\n",
      " 47%|████▋     | 8/17 [00:34<00:43,  4.82s/it]\u001b[A\n",
      " 53%|█████▎    | 9/17 [00:37<00:34,  4.27s/it]\u001b[A\n",
      " 59%|█████▉    | 10/17 [00:42<00:29,  4.28s/it]\u001b[A\n",
      " 65%|██████▍   | 11/17 [00:46<00:25,  4.23s/it]\u001b[A\n",
      " 71%|███████   | 12/17 [00:48<00:18,  3.66s/it]\u001b[A\n",
      " 76%|███████▋  | 13/17 [00:51<00:13,  3.35s/it]\u001b[A\n",
      " 82%|████████▏ | 14/17 [00:54<00:09,  3.23s/it]\u001b[A\n",
      " 88%|████████▊ | 15/17 [00:59<00:08,  4.01s/it]\u001b[A\n",
      " 94%|█████████▍| 16/17 [01:02<00:03,  3.61s/it]\u001b[A\n",
      "100%|██████████| 17/17 [01:05<00:00,  3.86s/it]\u001b[A\n",
      " 22%|██▏       | 11/50 [23:40<1:50:24, 169.86s/it]\n",
      "  0%|          | 0/15 [00:00<?, ?it/s]\u001b[A"
     ]
    },
    {
     "name": "stdout",
     "output_type": "stream",
     "text": [
      "attribute error:\n",
      "'NoneType' object has no attribute 'text'\n"
     ]
    },
    {
     "name": "stderr",
     "output_type": "stream",
     "text": [
      "\n",
      "  7%|▋         | 1/15 [00:00<00:13,  1.07it/s]\u001b[A\n",
      " 13%|█▎        | 2/15 [00:01<00:12,  1.08it/s]\u001b[A\n",
      " 20%|██        | 3/15 [00:04<00:18,  1.50s/it]\u001b[A\n",
      " 27%|██▋       | 4/15 [00:05<00:14,  1.31s/it]\u001b[A\n",
      " 33%|███▎      | 5/15 [00:08<00:18,  1.86s/it]\u001b[A\n",
      " 40%|████      | 6/15 [00:11<00:19,  2.21s/it]\u001b[A\n",
      " 47%|████▋     | 7/15 [00:14<00:19,  2.38s/it]\u001b[A"
     ]
    },
    {
     "name": "stdout",
     "output_type": "stream",
     "text": [
      "attribute error:\n",
      "'NoneType' object has no attribute 'text'\n"
     ]
    },
    {
     "name": "stderr",
     "output_type": "stream",
     "text": [
      "\n",
      " 53%|█████▎    | 8/15 [00:15<00:13,  1.94s/it]\u001b[A\n",
      " 60%|██████    | 9/15 [00:16<00:09,  1.67s/it]\u001b[A\n",
      " 67%|██████▋   | 10/15 [00:17<00:07,  1.43s/it]\u001b[A\n",
      " 73%|███████▎  | 11/15 [00:19<00:06,  1.54s/it]\u001b[A\n",
      " 80%|████████  | 12/15 [00:19<00:04,  1.34s/it]\u001b[A\n",
      " 87%|████████▋ | 13/15 [00:23<00:04,  2.05s/it]\u001b[A\n",
      " 93%|█████████▎| 14/15 [00:28<00:02,  2.77s/it]\u001b[A\n",
      "100%|██████████| 15/15 [00:31<00:00,  2.09s/it]\u001b[A\n",
      "\n",
      "  0%|          | 0/16 [00:00<?, ?it/s]\u001b[A\n",
      "  6%|▋         | 1/16 [00:00<00:13,  1.07it/s]\u001b[A\n",
      " 12%|█▎        | 2/16 [00:06<00:32,  2.33s/it]\u001b[A\n",
      " 19%|█▉        | 3/16 [00:07<00:24,  1.92s/it]\u001b[A\n",
      " 25%|██▌       | 4/16 [00:09<00:24,  2.04s/it]\u001b[A\n",
      " 31%|███▏      | 5/16 [00:10<00:18,  1.71s/it]\u001b[A\n",
      " 38%|███▊      | 6/16 [00:11<00:15,  1.55s/it]\u001b[A\n",
      " 44%|████▍     | 7/16 [00:16<00:23,  2.57s/it]\u001b[A\n",
      " 50%|█████     | 8/16 [00:20<00:22,  2.80s/it]\u001b[A\n",
      " 56%|█████▋    | 9/16 [00:21<00:15,  2.27s/it]\u001b[A\n",
      " 62%|██████▎   | 10/16 [00:22<00:11,  1.87s/it]\u001b[A\n",
      " 69%|██████▉   | 11/16 [00:23<00:07,  1.58s/it]\u001b[A\n",
      " 75%|███████▌  | 12/16 [00:23<00:05,  1.35s/it]\u001b[A\n",
      " 81%|████████▏ | 13/16 [00:25<00:04,  1.51s/it]\u001b[A\n",
      " 88%|████████▊ | 14/16 [00:28<00:03,  1.97s/it]\u001b[A\n",
      " 94%|█████████▍| 15/16 [00:31<00:02,  2.12s/it]\u001b[A\n",
      "100%|██████████| 16/16 [00:33<00:00,  2.10s/it]\u001b[A\n",
      "\n",
      "  0%|          | 0/14 [00:00<?, ?it/s]\u001b[A"
     ]
    },
    {
     "name": "stdout",
     "output_type": "stream",
     "text": [
      "attribute error:\n",
      "'NoneType' object has no attribute 'text'\n"
     ]
    },
    {
     "name": "stderr",
     "output_type": "stream",
     "text": [
      "\n",
      "  7%|▋         | 1/14 [00:00<00:02,  4.51it/s]\u001b[A\n",
      " 14%|█▍        | 2/14 [00:01<00:05,  2.31it/s]\u001b[A\n",
      " 21%|██▏       | 3/14 [00:02<00:07,  1.55it/s]\u001b[A\n",
      " 29%|██▊       | 4/14 [00:03<00:07,  1.33it/s]\u001b[A\n",
      " 36%|███▌      | 5/14 [00:04<00:07,  1.22it/s]\u001b[A\n",
      " 43%|████▎     | 6/14 [00:05<00:07,  1.01it/s]\u001b[A\n",
      " 50%|█████     | 7/14 [00:06<00:06,  1.03it/s]\u001b[A\n",
      " 57%|█████▋    | 8/14 [00:10<00:10,  1.79s/it]\u001b[A\n",
      " 64%|██████▍   | 9/14 [00:13<00:10,  2.08s/it]\u001b[A\n",
      " 71%|███████▏  | 10/14 [00:13<00:06,  1.73s/it]\u001b[A\n",
      " 79%|███████▊  | 11/14 [00:16<00:05,  1.97s/it]\u001b[A"
     ]
    },
    {
     "name": "stdout",
     "output_type": "stream",
     "text": [
      "attribute error:\n",
      "'NoneType' object has no attribute 'text'\n"
     ]
    },
    {
     "name": "stderr",
     "output_type": "stream",
     "text": [
      "\n",
      " 86%|████████▌ | 12/14 [00:18<00:04,  2.01s/it]\u001b[A\n",
      " 93%|█████████▎| 13/14 [00:20<00:02,  2.08s/it]\u001b[A\n",
      "100%|██████████| 14/14 [00:21<00:00,  1.55s/it]\u001b[A\n",
      "\n",
      "  0%|          | 0/10 [00:00<?, ?it/s]\u001b[A\n",
      " 10%|█         | 1/10 [00:02<00:24,  2.72s/it]\u001b[A"
     ]
    },
    {
     "name": "stdout",
     "output_type": "stream",
     "text": [
      "attribute error:\n",
      "'NoneType' object has no attribute 'text'\n"
     ]
    },
    {
     "name": "stderr",
     "output_type": "stream",
     "text": [
      "\n",
      " 20%|██        | 2/10 [00:06<00:23,  2.90s/it]\u001b[A\n",
      " 30%|███       | 3/10 [00:10<00:23,  3.41s/it]\u001b[A\n",
      " 40%|████      | 4/10 [00:11<00:16,  2.76s/it]\u001b[A\n",
      " 50%|█████     | 5/10 [00:13<00:11,  2.30s/it]\u001b[A\n",
      " 60%|██████    | 6/10 [00:15<00:09,  2.25s/it]\u001b[A\n",
      " 70%|███████   | 7/10 [00:16<00:05,  1.89s/it]\u001b[A\n",
      " 80%|████████  | 8/10 [00:19<00:04,  2.20s/it]\u001b[A\n",
      " 90%|█████████ | 9/10 [00:25<00:03,  3.30s/it]\u001b[A\n",
      "100%|██████████| 10/10 [00:31<00:00,  3.11s/it]\u001b[A\n",
      "\n",
      "  0%|          | 0/15 [00:00<?, ?it/s]\u001b[A\n",
      "  7%|▋         | 1/15 [00:00<00:13,  1.01it/s]\u001b[A"
     ]
    },
    {
     "name": "stdout",
     "output_type": "stream",
     "text": [
      "attribute error:\n",
      "'NoneType' object has no attribute 'text'\n"
     ]
    },
    {
     "name": "stderr",
     "output_type": "stream",
     "text": [
      "\n",
      " 13%|█▎        | 2/15 [00:01<00:10,  1.29it/s]\u001b[A\n",
      " 20%|██        | 3/15 [00:01<00:08,  1.39it/s]\u001b[A\n",
      " 27%|██▋       | 4/15 [00:02<00:06,  1.62it/s]\u001b[A\n",
      " 33%|███▎      | 5/15 [00:05<00:15,  1.54s/it]\u001b[A\n",
      " 40%|████      | 6/15 [00:06<00:10,  1.15s/it]\u001b[A\n",
      " 47%|████▋     | 7/15 [00:09<00:14,  1.80s/it]\u001b[A\n",
      " 53%|█████▎    | 8/15 [00:09<00:09,  1.32s/it]\u001b[A\n",
      " 60%|██████    | 9/15 [00:09<00:06,  1.01s/it]\u001b[A\n",
      " 67%|██████▋   | 10/15 [00:10<00:03,  1.26it/s]\u001b[A\n",
      " 73%|███████▎  | 11/15 [00:11<00:04,  1.07s/it]\u001b[A\n",
      " 80%|████████  | 12/15 [00:15<00:05,  1.89s/it]\u001b[A\n",
      " 87%|████████▋ | 13/15 [00:16<00:02,  1.39s/it]\u001b[A\n",
      " 93%|█████████▎| 14/15 [00:16<00:01,  1.23s/it]\u001b[A\n",
      "100%|██████████| 15/15 [00:17<00:00,  1.16s/it]\u001b[A\n",
      "\n",
      "  0%|          | 0/20 [00:00<?, ?it/s]\u001b[A\n",
      "  5%|▌         | 1/20 [00:03<01:02,  3.31s/it]\u001b[A"
     ]
    },
    {
     "name": "stdout",
     "output_type": "stream",
     "text": [
      "attribute error:\n",
      "'NoneType' object has no attribute 'text'\n"
     ]
    },
    {
     "name": "stderr",
     "output_type": "stream",
     "text": [
      "\n",
      " 10%|█         | 2/20 [00:06<00:57,  3.21s/it]\u001b[A\n",
      " 15%|█▌        | 3/20 [00:09<00:55,  3.28s/it]\u001b[A"
     ]
    },
    {
     "name": "stdout",
     "output_type": "stream",
     "text": [
      "attribute error:\n",
      "'NoneType' object has no attribute 'text'\n"
     ]
    },
    {
     "name": "stderr",
     "output_type": "stream",
     "text": [
      "\n",
      " 20%|██        | 4/20 [00:14<01:00,  3.78s/it]\u001b[A\n",
      " 25%|██▌       | 5/20 [00:16<00:47,  3.20s/it]\u001b[A\n",
      " 30%|███       | 6/20 [00:20<00:46,  3.34s/it]\u001b[A"
     ]
    },
    {
     "name": "stdout",
     "output_type": "stream",
     "text": [
      "attribute error:\n",
      "'NoneType' object has no attribute 'text'\n"
     ]
    },
    {
     "name": "stderr",
     "output_type": "stream",
     "text": [
      "\n",
      " 35%|███▌      | 7/20 [00:23<00:43,  3.35s/it]\u001b[A"
     ]
    },
    {
     "name": "stdout",
     "output_type": "stream",
     "text": [
      "attribute error:\n",
      "'NoneType' object has no attribute 'text'\n"
     ]
    },
    {
     "name": "stderr",
     "output_type": "stream",
     "text": [
      "\n",
      " 40%|████      | 8/20 [00:23<00:29,  2.47s/it]\u001b[A\n",
      " 45%|████▌     | 9/20 [00:26<00:28,  2.63s/it]\u001b[A"
     ]
    },
    {
     "name": "stdout",
     "output_type": "stream",
     "text": [
      "attribute error:\n",
      "'NoneType' object has no attribute 'text'\n"
     ]
    },
    {
     "name": "stderr",
     "output_type": "stream",
     "text": [
      "\n",
      " 50%|█████     | 10/20 [00:31<00:31,  3.13s/it]\u001b[A\n",
      " 55%|█████▌    | 11/20 [00:34<00:28,  3.19s/it]\u001b[A"
     ]
    },
    {
     "name": "stdout",
     "output_type": "stream",
     "text": [
      "attribute error:\n",
      "'NoneType' object has no attribute 'text'\n"
     ]
    },
    {
     "name": "stderr",
     "output_type": "stream",
     "text": [
      "\n",
      " 60%|██████    | 12/20 [00:39<00:29,  3.70s/it]\u001b[A\n",
      " 65%|██████▌   | 13/20 [00:42<00:24,  3.52s/it]\u001b[A"
     ]
    },
    {
     "name": "stdout",
     "output_type": "stream",
     "text": [
      "attribute error:\n",
      "'NoneType' object has no attribute 'text'\n"
     ]
    },
    {
     "name": "stderr",
     "output_type": "stream",
     "text": [
      "\n",
      " 70%|███████   | 14/20 [00:45<00:19,  3.29s/it]\u001b[A\n",
      " 75%|███████▌  | 15/20 [00:48<00:16,  3.29s/it]\u001b[A"
     ]
    },
    {
     "name": "stdout",
     "output_type": "stream",
     "text": [
      "attribute error:\n",
      "'NoneType' object has no attribute 'text'\n"
     ]
    },
    {
     "name": "stderr",
     "output_type": "stream",
     "text": [
      "\n",
      " 80%|████████  | 16/20 [00:49<00:10,  2.63s/it]\u001b[A\n",
      " 85%|████████▌ | 17/20 [00:53<00:08,  2.83s/it]\u001b[A"
     ]
    },
    {
     "name": "stdout",
     "output_type": "stream",
     "text": [
      "attribute error:\n",
      "'NoneType' object has no attribute 'text'\n"
     ]
    },
    {
     "name": "stderr",
     "output_type": "stream",
     "text": [
      "\n",
      " 90%|█████████ | 18/20 [00:57<00:06,  3.29s/it]\u001b[A\n",
      " 95%|█████████▌| 19/20 [01:00<00:03,  3.30s/it]\u001b[A"
     ]
    },
    {
     "name": "stdout",
     "output_type": "stream",
     "text": [
      "attribute error:\n",
      "'NoneType' object has no attribute 'text'\n"
     ]
    },
    {
     "name": "stderr",
     "output_type": "stream",
     "text": [
      "\n",
      "100%|██████████| 20/20 [01:03<00:00,  3.16s/it]\u001b[A\n",
      " 24%|██▍       | 12/50 [26:59<1:53:01, 178.46s/it]\n",
      "  0%|          | 0/18 [00:00<?, ?it/s]\u001b[A\n",
      "  6%|▌         | 1/18 [00:00<00:15,  1.12it/s]\u001b[A\n",
      " 11%|█         | 2/18 [00:01<00:14,  1.10it/s]\u001b[A\n",
      " 17%|█▋        | 3/18 [00:02<00:13,  1.09it/s]\u001b[A\n",
      " 22%|██▏       | 4/18 [00:06<00:24,  1.77s/it]\u001b[A\n",
      " 28%|██▊       | 5/18 [00:08<00:22,  1.77s/it]\u001b[A\n",
      " 33%|███▎      | 6/18 [00:11<00:24,  2.07s/it]\u001b[A\n",
      " 39%|███▉      | 7/18 [00:14<00:28,  2.55s/it]\u001b[A\n",
      " 44%|████▍     | 8/18 [00:15<00:20,  2.05s/it]\u001b[A\n",
      " 50%|█████     | 9/18 [00:16<00:16,  1.80s/it]\u001b[A\n",
      " 56%|█████▌    | 10/18 [00:17<00:12,  1.54s/it]\u001b[A\n",
      " 61%|██████    | 11/18 [00:18<00:09,  1.36s/it]\u001b[A\n",
      " 67%|██████▋   | 12/18 [00:21<00:11,  1.89s/it]\u001b[A\n",
      " 72%|███████▏  | 13/18 [00:24<00:10,  2.12s/it]\u001b[A\n",
      " 78%|███████▊  | 14/18 [00:27<00:09,  2.32s/it]\u001b[A\n",
      " 83%|████████▎ | 15/18 [00:30<00:08,  2.72s/it]\u001b[A"
     ]
    },
    {
     "name": "stdout",
     "output_type": "stream",
     "text": [
      "attribute error:\n",
      "'NoneType' object has no attribute 'text'\n"
     ]
    },
    {
     "name": "stderr",
     "output_type": "stream",
     "text": [
      "\n",
      " 89%|████████▉ | 16/18 [00:31<00:04,  2.19s/it]\u001b[A\n",
      " 94%|█████████▍| 17/18 [00:34<00:02,  2.45s/it]\u001b[A\n",
      "100%|██████████| 18/18 [00:37<00:00,  2.08s/it]\u001b[A\n",
      "\n",
      "  0%|          | 0/20 [00:00<?, ?it/s]\u001b[A\n",
      "  5%|▌         | 1/20 [00:03<00:58,  3.10s/it]\u001b[A"
     ]
    },
    {
     "name": "stdout",
     "output_type": "stream",
     "text": [
      "attribute error:\n",
      "'NoneType' object has no attribute 'text'\n"
     ]
    },
    {
     "name": "stderr",
     "output_type": "stream",
     "text": [
      "\n",
      " 10%|█         | 2/20 [00:07<01:00,  3.37s/it]\u001b[A\n",
      " 15%|█▌        | 3/20 [00:10<00:59,  3.48s/it]\u001b[A\n",
      " 20%|██        | 4/20 [00:16<01:07,  4.20s/it]\u001b[A\n",
      " 25%|██▌       | 5/20 [00:20<01:02,  4.20s/it]\u001b[A\n",
      " 30%|███       | 6/20 [00:22<00:48,  3.49s/it]\u001b[A\n",
      " 35%|███▌      | 7/20 [00:24<00:39,  3.03s/it]\u001b[A\n",
      " 40%|████      | 8/20 [00:28<00:37,  3.14s/it]\u001b[A"
     ]
    },
    {
     "name": "stdout",
     "output_type": "stream",
     "text": [
      "attribute error:\n",
      "'NoneType' object has no attribute 'text'\n"
     ]
    },
    {
     "name": "stderr",
     "output_type": "stream",
     "text": [
      "\n",
      " 45%|████▌     | 9/20 [00:30<00:31,  2.90s/it]\u001b[A\n",
      " 50%|█████     | 10/20 [00:35<00:36,  3.60s/it]\u001b[A\n",
      " 55%|█████▌    | 11/20 [00:36<00:25,  2.79s/it]\u001b[A\n",
      " 60%|██████    | 12/20 [00:38<00:21,  2.65s/it]\u001b[A\n",
      " 65%|██████▌   | 13/20 [00:40<00:15,  2.19s/it]\u001b[A\n",
      " 70%|███████   | 14/20 [00:41<00:12,  2.07s/it]\u001b[A\n",
      " 75%|███████▌  | 15/20 [00:42<00:08,  1.73s/it]\u001b[A\n",
      " 80%|████████  | 16/20 [00:45<00:08,  2.10s/it]\u001b[A\n",
      " 85%|████████▌ | 17/20 [00:49<00:07,  2.61s/it]\u001b[A\n",
      " 90%|█████████ | 18/20 [00:53<00:06,  3.11s/it]\u001b[A\n",
      " 95%|█████████▌| 19/20 [01:00<00:04,  4.11s/it]\u001b[A\n",
      "100%|██████████| 20/20 [01:02<00:00,  3.12s/it]\u001b[A\n",
      "\n",
      "  0%|          | 0/19 [00:00<?, ?it/s]\u001b[A\n",
      "  5%|▌         | 1/19 [00:03<01:10,  3.89s/it]\u001b[A\n",
      " 11%|█         | 2/19 [00:06<00:57,  3.37s/it]\u001b[A\n",
      " 16%|█▌        | 3/19 [00:12<01:08,  4.30s/it]\u001b[A\n",
      " 21%|██        | 4/19 [00:14<00:54,  3.65s/it]\u001b[A\n",
      " 26%|██▋       | 5/19 [00:21<01:05,  4.70s/it]\u001b[A\n",
      " 32%|███▏      | 6/19 [00:24<00:54,  4.18s/it]\u001b[A\n",
      " 37%|███▋      | 7/19 [00:27<00:45,  3.76s/it]\u001b[A\n",
      " 42%|████▏     | 8/19 [00:31<00:43,  3.92s/it]\u001b[A\n",
      " 47%|████▋     | 9/19 [00:34<00:35,  3.59s/it]\u001b[A\n",
      " 53%|█████▎    | 10/19 [00:35<00:25,  2.83s/it]\u001b[A\n",
      " 58%|█████▊    | 11/19 [00:38<00:23,  2.95s/it]\u001b[A\n",
      " 63%|██████▎   | 12/19 [00:41<00:19,  2.80s/it]\u001b[A\n",
      " 68%|██████▊   | 13/19 [00:43<00:15,  2.58s/it]\u001b[A\n",
      " 74%|███████▎  | 14/19 [00:46<00:13,  2.75s/it]\u001b[A\n",
      " 79%|███████▉  | 15/19 [00:49<00:10,  2.66s/it]\u001b[A\n",
      " 84%|████████▍ | 16/19 [00:51<00:08,  2.70s/it]\u001b[A\n",
      " 89%|████████▉ | 17/19 [00:54<00:05,  2.63s/it]\u001b[A\n",
      " 95%|█████████▍| 18/19 [00:57<00:02,  2.77s/it]\u001b[A"
     ]
    },
    {
     "name": "stdout",
     "output_type": "stream",
     "text": [
      "attribute error:\n",
      "'NoneType' object has no attribute 'text'\n"
     ]
    },
    {
     "name": "stderr",
     "output_type": "stream",
     "text": [
      "\n",
      "100%|██████████| 19/19 [00:57<00:00,  3.03s/it]\u001b[A\n",
      " 26%|██▌       | 13/50 [29:36<1:46:11, 172.19s/it]\n",
      "  0%|          | 0/14 [00:00<?, ?it/s]\u001b[A\n",
      "  7%|▋         | 1/14 [00:01<00:21,  1.64s/it]\u001b[A\n",
      " 14%|█▍        | 2/14 [00:03<00:19,  1.61s/it]\u001b[A\n",
      " 21%|██▏       | 3/14 [00:05<00:20,  1.83s/it]\u001b[A\n",
      " 29%|██▊       | 4/14 [00:09<00:25,  2.51s/it]\u001b[A\n",
      " 36%|███▌      | 5/14 [00:12<00:23,  2.57s/it]\u001b[A\n",
      " 43%|████▎     | 6/14 [00:14<00:19,  2.43s/it]\u001b[A\n",
      " 50%|█████     | 7/14 [00:18<00:19,  2.84s/it]\u001b[A\n",
      " 57%|█████▋    | 8/14 [00:21<00:18,  3.06s/it]\u001b[A\n",
      " 64%|██████▍   | 9/14 [00:24<00:14,  2.88s/it]\u001b[A\n",
      " 71%|███████▏  | 10/14 [00:25<00:09,  2.41s/it]\u001b[A\n",
      " 79%|███████▊  | 11/14 [00:28<00:07,  2.48s/it]\u001b[A\n",
      " 86%|████████▌ | 12/14 [00:31<00:05,  2.77s/it]\u001b[A\n",
      " 93%|█████████▎| 13/14 [00:33<00:02,  2.41s/it]\u001b[A\n",
      "100%|██████████| 14/14 [00:33<00:00,  2.39s/it]\u001b[A\n",
      "\n",
      "  0%|          | 0/13 [00:00<?, ?it/s]\u001b[A\n",
      "  8%|▊         | 1/13 [00:00<00:02,  4.72it/s]\u001b[A\n",
      " 15%|█▌        | 2/13 [00:02<00:08,  1.32it/s]\u001b[A\n",
      " 23%|██▎       | 3/13 [00:02<00:05,  1.69it/s]\u001b[A\n",
      " 31%|███       | 4/13 [00:02<00:05,  1.77it/s]\u001b[A\n",
      " 38%|███▊      | 5/13 [00:03<00:04,  1.96it/s]\u001b[A\n",
      " 46%|████▌     | 6/13 [00:04<00:04,  1.55it/s]\u001b[A\n",
      " 54%|█████▍    | 7/13 [00:04<00:03,  1.56it/s]\u001b[A\n",
      " 62%|██████▏   | 8/13 [00:05<00:02,  1.97it/s]\u001b[A\n",
      " 69%|██████▉   | 9/13 [00:06<00:03,  1.13it/s]\u001b[A\n",
      " 77%|███████▋  | 10/13 [00:09<00:04,  1.36s/it]\u001b[A\n",
      " 85%|████████▍ | 11/13 [00:09<00:02,  1.13s/it]\u001b[A\n",
      " 92%|█████████▏| 12/13 [00:10<00:00,  1.17it/s]\u001b[A\n",
      "100%|██████████| 13/13 [00:10<00:00,  1.25it/s]\u001b[A\n",
      "\n",
      "  0%|          | 0/17 [00:00<?, ?it/s]\u001b[A\n",
      "  6%|▌         | 1/17 [00:02<00:34,  2.17s/it]\u001b[A\n",
      " 12%|█▏        | 2/17 [00:08<00:52,  3.47s/it]\u001b[A\n",
      " 18%|█▊        | 3/17 [00:12<00:50,  3.63s/it]\u001b[A\n",
      " 24%|██▎       | 4/17 [00:17<00:52,  4.01s/it]\u001b[A\n",
      " 29%|██▉       | 5/17 [00:19<00:41,  3.44s/it]\u001b[A\n",
      " 35%|███▌      | 6/17 [00:21<00:31,  2.87s/it]\u001b[A\n",
      " 41%|████      | 7/17 [00:23<00:28,  2.83s/it]\u001b[A"
     ]
    },
    {
     "name": "stdout",
     "output_type": "stream",
     "text": [
      "attribute error:\n",
      "'NoneType' object has no attribute 'text'\n"
     ]
    },
    {
     "name": "stderr",
     "output_type": "stream",
     "text": [
      "\n",
      " 47%|████▋     | 8/17 [00:25<00:22,  2.47s/it]\u001b[A\n",
      " 53%|█████▎    | 9/17 [00:27<00:18,  2.26s/it]\u001b[A\n",
      " 59%|█████▉    | 10/17 [00:29<00:16,  2.32s/it]\u001b[A\n",
      " 65%|██████▍   | 11/17 [00:30<00:10,  1.81s/it]\u001b[A\n",
      " 71%|███████   | 12/17 [00:32<00:09,  1.86s/it]\u001b[A\n",
      " 76%|███████▋  | 13/17 [00:35<00:09,  2.27s/it]\u001b[A\n",
      " 82%|████████▏ | 14/17 [00:37<00:06,  2.06s/it]\u001b[A\n",
      " 88%|████████▊ | 15/17 [00:40<00:04,  2.42s/it]\u001b[A\n",
      " 94%|█████████▍| 16/17 [00:42<00:02,  2.37s/it]\u001b[A\n",
      "100%|██████████| 17/17 [00:44<00:00,  2.64s/it]\u001b[A\n",
      " 28%|██▊       | 14/50 [31:05<1:28:17, 147.17s/it]\n",
      "  0%|          | 0/20 [00:00<?, ?it/s]\u001b[A\n",
      "  5%|▌         | 1/20 [00:03<01:09,  3.65s/it]\u001b[A"
     ]
    },
    {
     "name": "stdout",
     "output_type": "stream",
     "text": [
      "attribute error:\n",
      "'NoneType' object has no attribute 'text'\n"
     ]
    },
    {
     "name": "stderr",
     "output_type": "stream",
     "text": [
      "\n",
      " 10%|█         | 2/20 [00:06<01:03,  3.54s/it]\u001b[A"
     ]
    },
    {
     "name": "stdout",
     "output_type": "stream",
     "text": [
      "attribute error:\n",
      "'NoneType' object has no attribute 'text'\n"
     ]
    },
    {
     "name": "stderr",
     "output_type": "stream",
     "text": [
      "\n",
      " 15%|█▌        | 3/20 [00:10<00:58,  3.43s/it]\u001b[A"
     ]
    },
    {
     "name": "stdout",
     "output_type": "stream",
     "text": [
      "attribute error:\n",
      "'NoneType' object has no attribute 'text'\n"
     ]
    },
    {
     "name": "stderr",
     "output_type": "stream",
     "text": [
      "\n",
      " 20%|██        | 4/20 [00:13<00:56,  3.53s/it]\u001b[A"
     ]
    },
    {
     "name": "stdout",
     "output_type": "stream",
     "text": [
      "attribute error:\n",
      "'NoneType' object has no attribute 'text'\n"
     ]
    },
    {
     "name": "stderr",
     "output_type": "stream",
     "text": [
      "\n",
      " 25%|██▌       | 5/20 [00:17<00:54,  3.65s/it]\u001b[A"
     ]
    },
    {
     "name": "stdout",
     "output_type": "stream",
     "text": [
      "attribute error:\n",
      "'NoneType' object has no attribute 'text'\n"
     ]
    },
    {
     "name": "stderr",
     "output_type": "stream",
     "text": [
      "\n",
      " 30%|███       | 6/20 [00:21<00:49,  3.56s/it]\u001b[A"
     ]
    },
    {
     "name": "stdout",
     "output_type": "stream",
     "text": [
      "attribute error:\n",
      "'NoneType' object has no attribute 'text'\n"
     ]
    },
    {
     "name": "stderr",
     "output_type": "stream",
     "text": [
      "\n",
      " 35%|███▌      | 7/20 [00:24<00:44,  3.42s/it]\u001b[A"
     ]
    },
    {
     "name": "stdout",
     "output_type": "stream",
     "text": [
      "attribute error:\n",
      "'NoneType' object has no attribute 'text'\n"
     ]
    },
    {
     "name": "stderr",
     "output_type": "stream",
     "text": [
      "\n",
      " 40%|████      | 8/20 [00:28<00:43,  3.59s/it]\u001b[A"
     ]
    },
    {
     "name": "stdout",
     "output_type": "stream",
     "text": [
      "attribute error:\n",
      "'NoneType' object has no attribute 'text'\n"
     ]
    },
    {
     "name": "stderr",
     "output_type": "stream",
     "text": [
      "\n",
      " 45%|████▌     | 9/20 [00:34<00:47,  4.32s/it]\u001b[A"
     ]
    },
    {
     "name": "stdout",
     "output_type": "stream",
     "text": [
      "attribute error:\n",
      "'NoneType' object has no attribute 'text'\n"
     ]
    },
    {
     "name": "stderr",
     "output_type": "stream",
     "text": [
      "\n",
      " 50%|█████     | 10/20 [00:37<00:40,  4.02s/it]\u001b[A"
     ]
    },
    {
     "name": "stdout",
     "output_type": "stream",
     "text": [
      "attribute error:\n",
      "'NoneType' object has no attribute 'text'\n"
     ]
    },
    {
     "name": "stderr",
     "output_type": "stream",
     "text": [
      "\n",
      " 55%|█████▌    | 11/20 [00:40<00:33,  3.70s/it]\u001b[A"
     ]
    },
    {
     "name": "stdout",
     "output_type": "stream",
     "text": [
      "attribute error:\n",
      "'NoneType' object has no attribute 'text'\n"
     ]
    },
    {
     "name": "stderr",
     "output_type": "stream",
     "text": [
      "\n",
      " 60%|██████    | 12/20 [00:43<00:28,  3.60s/it]\u001b[A"
     ]
    },
    {
     "name": "stdout",
     "output_type": "stream",
     "text": [
      "attribute error:\n",
      "'NoneType' object has no attribute 'text'\n"
     ]
    },
    {
     "name": "stderr",
     "output_type": "stream",
     "text": [
      "\n",
      " 65%|██████▌   | 13/20 [00:47<00:24,  3.54s/it]\u001b[A"
     ]
    },
    {
     "name": "stdout",
     "output_type": "stream",
     "text": [
      "attribute error:\n",
      "'NoneType' object has no attribute 'text'\n"
     ]
    },
    {
     "name": "stderr",
     "output_type": "stream",
     "text": [
      "\n",
      " 70%|███████   | 14/20 [00:50<00:20,  3.49s/it]\u001b[A"
     ]
    },
    {
     "name": "stdout",
     "output_type": "stream",
     "text": [
      "attribute error:\n",
      "'NoneType' object has no attribute 'text'\n"
     ]
    },
    {
     "name": "stderr",
     "output_type": "stream",
     "text": [
      "\n",
      " 75%|███████▌  | 15/20 [00:54<00:17,  3.46s/it]\u001b[A"
     ]
    },
    {
     "name": "stdout",
     "output_type": "stream",
     "text": [
      "attribute error:\n",
      "'NoneType' object has no attribute 'text'\n"
     ]
    },
    {
     "name": "stderr",
     "output_type": "stream",
     "text": [
      "\n",
      " 80%|████████  | 16/20 [00:57<00:14,  3.52s/it]\u001b[A"
     ]
    },
    {
     "name": "stdout",
     "output_type": "stream",
     "text": [
      "attribute error:\n",
      "'NoneType' object has no attribute 'text'\n"
     ]
    },
    {
     "name": "stderr",
     "output_type": "stream",
     "text": [
      "\n",
      " 85%|████████▌ | 17/20 [01:01<00:10,  3.48s/it]\u001b[A"
     ]
    },
    {
     "name": "stdout",
     "output_type": "stream",
     "text": [
      "attribute error:\n",
      "'NoneType' object has no attribute 'text'\n"
     ]
    },
    {
     "name": "stderr",
     "output_type": "stream",
     "text": [
      "\n",
      " 90%|█████████ | 18/20 [01:04<00:06,  3.45s/it]\u001b[A"
     ]
    },
    {
     "name": "stdout",
     "output_type": "stream",
     "text": [
      "attribute error:\n",
      "'NoneType' object has no attribute 'text'\n"
     ]
    },
    {
     "name": "stderr",
     "output_type": "stream",
     "text": [
      "\n",
      " 95%|█████████▌| 19/20 [01:08<00:03,  3.54s/it]\u001b[A"
     ]
    },
    {
     "name": "stdout",
     "output_type": "stream",
     "text": [
      "attribute error:\n",
      "'NoneType' object has no attribute 'text'\n"
     ]
    },
    {
     "name": "stderr",
     "output_type": "stream",
     "text": [
      "\n",
      "100%|██████████| 20/20 [01:11<00:00,  3.59s/it]\u001b[A\n",
      "\n",
      "  0%|          | 0/17 [00:00<?, ?it/s]\u001b[A"
     ]
    },
    {
     "name": "stdout",
     "output_type": "stream",
     "text": [
      "attribute error:\n",
      "'NoneType' object has no attribute 'text'\n"
     ]
    },
    {
     "name": "stderr",
     "output_type": "stream",
     "text": [
      "\n",
      "  6%|▌         | 1/17 [00:01<00:22,  1.41s/it]\u001b[A\n",
      " 12%|█▏        | 2/17 [00:04<00:29,  1.95s/it]\u001b[A"
     ]
    },
    {
     "name": "stdout",
     "output_type": "stream",
     "text": [
      "attribute error:\n",
      "'NoneType' object has no attribute 'text'\n"
     ]
    },
    {
     "name": "stderr",
     "output_type": "stream",
     "text": [
      "\n",
      " 18%|█▊        | 3/17 [00:07<00:29,  2.11s/it]\u001b[A\n",
      " 24%|██▎       | 4/17 [00:09<00:28,  2.21s/it]\u001b[A\n",
      " 29%|██▉       | 5/17 [00:11<00:26,  2.20s/it]\u001b[A\n",
      " 35%|███▌      | 6/17 [00:13<00:24,  2.21s/it]\u001b[A\n",
      " 41%|████      | 7/17 [00:16<00:23,  2.38s/it]\u001b[A"
     ]
    },
    {
     "name": "stdout",
     "output_type": "stream",
     "text": [
      "attribute error:\n",
      "'NoneType' object has no attribute 'text'\n"
     ]
    },
    {
     "name": "stderr",
     "output_type": "stream",
     "text": [
      "\n",
      " 47%|████▋     | 8/17 [00:20<00:26,  2.94s/it]\u001b[A\n",
      " 53%|█████▎    | 9/17 [00:22<00:20,  2.59s/it]\u001b[A\n",
      " 59%|█████▉    | 10/17 [00:24<00:17,  2.47s/it]\u001b[A\n",
      " 65%|██████▍   | 11/17 [00:25<00:11,  1.98s/it]\u001b[A\n",
      " 71%|███████   | 12/17 [00:28<00:11,  2.32s/it]\u001b[A"
     ]
    },
    {
     "name": "stdout",
     "output_type": "stream",
     "text": [
      "attribute error:\n",
      "'NoneType' object has no attribute 'text'\n"
     ]
    },
    {
     "name": "stderr",
     "output_type": "stream",
     "text": [
      "\n",
      " 76%|███████▋  | 13/17 [00:30<00:08,  2.19s/it]\u001b[A\n",
      " 82%|████████▏ | 14/17 [00:34<00:08,  2.72s/it]\u001b[A\n",
      " 88%|████████▊ | 15/17 [00:38<00:06,  3.03s/it]\u001b[A\n",
      " 94%|█████████▍| 16/17 [00:40<00:02,  2.75s/it]\u001b[A\n",
      "100%|██████████| 17/17 [00:42<00:00,  2.48s/it]\u001b[A\n",
      " 30%|███       | 15/50 [32:59<1:20:02, 137.21s/it]\n",
      "  0%|          | 0/20 [00:00<?, ?it/s]\u001b[A\n",
      "  5%|▌         | 1/20 [00:03<01:09,  3.65s/it]\u001b[A"
     ]
    },
    {
     "name": "stdout",
     "output_type": "stream",
     "text": [
      "attribute error:\n",
      "'NoneType' object has no attribute 'text'\n"
     ]
    },
    {
     "name": "stderr",
     "output_type": "stream",
     "text": [
      "\n",
      " 10%|█         | 2/20 [00:07<01:09,  3.85s/it]\u001b[A\n",
      " 15%|█▌        | 3/20 [00:10<00:56,  3.34s/it]\u001b[A\n",
      " 20%|██        | 4/20 [00:14<00:56,  3.53s/it]\u001b[A\n",
      " 25%|██▌       | 5/20 [00:16<00:49,  3.28s/it]\u001b[A\n",
      " 30%|███       | 6/20 [00:18<00:40,  2.89s/it]\u001b[A\n",
      " 35%|███▌      | 7/20 [00:22<00:40,  3.10s/it]\u001b[A"
     ]
    },
    {
     "name": "stdout",
     "output_type": "stream",
     "text": [
      "attribute error:\n",
      "'NoneType' object has no attribute 'text'\n"
     ]
    },
    {
     "name": "stderr",
     "output_type": "stream",
     "text": [
      "\n",
      " 40%|████      | 8/20 [00:24<00:32,  2.73s/it]\u001b[A\n",
      " 45%|████▌     | 9/20 [00:26<00:29,  2.66s/it]\u001b[A\n",
      " 50%|█████     | 10/20 [00:30<00:30,  3.04s/it]\u001b[A"
     ]
    },
    {
     "name": "stdout",
     "output_type": "stream",
     "text": [
      "attribute error:\n",
      "'NoneType' object has no attribute 'text'\n"
     ]
    },
    {
     "name": "stderr",
     "output_type": "stream",
     "text": [
      "\n",
      " 55%|█████▌    | 11/20 [00:34<00:29,  3.24s/it]\u001b[A"
     ]
    },
    {
     "name": "stdout",
     "output_type": "stream",
     "text": [
      "attribute error:\n",
      "'NoneType' object has no attribute 'text'\n"
     ]
    },
    {
     "name": "stderr",
     "output_type": "stream",
     "text": [
      "\n",
      " 60%|██████    | 12/20 [00:36<00:22,  2.83s/it]\u001b[A\n",
      " 65%|██████▌   | 13/20 [00:38<00:18,  2.61s/it]\u001b[A\n",
      " 70%|███████   | 14/20 [00:40<00:13,  2.33s/it]\u001b[A\n",
      " 75%|███████▌  | 15/20 [00:43<00:13,  2.72s/it]\u001b[A\n",
      " 80%|████████  | 16/20 [00:44<00:09,  2.28s/it]\u001b[A\n",
      " 85%|████████▌ | 17/20 [00:47<00:06,  2.23s/it]\u001b[A\n",
      " 90%|█████████ | 18/20 [00:50<00:05,  2.57s/it]\u001b[A"
     ]
    },
    {
     "name": "stdout",
     "output_type": "stream",
     "text": [
      "attribute error:\n",
      "'NoneType' object has no attribute 'text'\n"
     ]
    },
    {
     "name": "stderr",
     "output_type": "stream",
     "text": [
      "\n",
      " 95%|█████████▌| 19/20 [00:53<00:02,  2.64s/it]\u001b[A\n",
      "100%|██████████| 20/20 [00:56<00:00,  2.84s/it]\u001b[A\n",
      "\n",
      "  0%|          | 0/18 [00:00<?, ?it/s]\u001b[A\n",
      "  6%|▌         | 1/18 [00:02<00:34,  2.04s/it]\u001b[A\n",
      " 11%|█         | 2/18 [00:04<00:32,  2.04s/it]\u001b[A\n",
      " 17%|█▋        | 3/18 [00:05<00:29,  1.95s/it]\u001b[A\n",
      " 22%|██▏       | 4/18 [00:08<00:29,  2.10s/it]\u001b[A\n",
      " 28%|██▊       | 5/18 [00:10<00:27,  2.12s/it]\u001b[A\n",
      " 33%|███▎      | 6/18 [00:13<00:28,  2.40s/it]\u001b[A\n",
      " 39%|███▉      | 7/18 [00:14<00:22,  2.08s/it]\u001b[A"
     ]
    },
    {
     "name": "stdout",
     "output_type": "stream",
     "text": [
      "attribute error:\n",
      "'NoneType' object has no attribute 'text'\n"
     ]
    },
    {
     "name": "stderr",
     "output_type": "stream",
     "text": [
      "\n",
      " 44%|████▍     | 8/18 [00:19<00:28,  2.82s/it]\u001b[A\n",
      " 50%|█████     | 9/18 [00:21<00:22,  2.52s/it]\u001b[A\n",
      " 56%|█████▌    | 10/18 [00:22<00:17,  2.21s/it]\u001b[A\n",
      " 61%|██████    | 11/18 [00:26<00:18,  2.58s/it]\u001b[A\n",
      " 67%|██████▋   | 12/18 [00:32<00:21,  3.62s/it]\u001b[A\n",
      " 72%|███████▏  | 13/18 [00:33<00:15,  3.03s/it]\u001b[A\n",
      " 78%|███████▊  | 14/18 [00:35<00:10,  2.67s/it]\u001b[A\n",
      " 83%|████████▎ | 15/18 [00:38<00:07,  2.60s/it]\u001b[A\n",
      " 89%|████████▉ | 16/18 [00:42<00:06,  3.20s/it]\u001b[A\n",
      " 94%|█████████▍| 17/18 [00:45<00:03,  3.06s/it]\u001b[A\n",
      "100%|██████████| 18/18 [00:48<00:00,  2.71s/it]\u001b[A\n",
      " 32%|███▏      | 16/50 [34:45<1:12:23, 127.75s/it]\n",
      "  0%|          | 0/17 [00:00<?, ?it/s]\u001b[A\n",
      "  6%|▌         | 1/17 [00:02<00:42,  2.63s/it]\u001b[A\n",
      " 12%|█▏        | 2/17 [00:04<00:36,  2.44s/it]\u001b[A\n",
      " 18%|█▊        | 3/17 [00:06<00:30,  2.16s/it]\u001b[A\n",
      " 24%|██▎       | 4/17 [00:09<00:33,  2.55s/it]\u001b[A\n",
      " 29%|██▉       | 5/17 [00:17<00:51,  4.28s/it]\u001b[A\n",
      " 35%|███▌      | 6/17 [00:20<00:40,  3.72s/it]\u001b[A"
     ]
    },
    {
     "name": "stdout",
     "output_type": "stream",
     "text": [
      "attribute error:\n",
      "'NoneType' object has no attribute 'text'\n"
     ]
    },
    {
     "name": "stderr",
     "output_type": "stream",
     "text": [
      "\n",
      " 41%|████      | 7/17 [00:24<00:38,  3.81s/it]\u001b[A\n",
      " 47%|████▋     | 8/17 [00:26<00:28,  3.20s/it]\u001b[A\n",
      " 53%|█████▎    | 9/17 [00:29<00:25,  3.14s/it]\u001b[A"
     ]
    },
    {
     "name": "stdout",
     "output_type": "stream",
     "text": [
      "attribute error:\n",
      "'NoneType' object has no attribute 'text'\n"
     ]
    },
    {
     "name": "stderr",
     "output_type": "stream",
     "text": [
      "\n",
      " 59%|█████▉    | 10/17 [00:31<00:19,  2.77s/it]\u001b[A\n",
      " 65%|██████▍   | 11/17 [00:34<00:18,  3.05s/it]\u001b[A\n",
      " 71%|███████   | 12/17 [00:38<00:15,  3.14s/it]\u001b[A\n",
      " 76%|███████▋  | 13/17 [00:40<00:11,  2.97s/it]\u001b[A\n",
      " 82%|████████▏ | 14/17 [00:43<00:09,  3.06s/it]\u001b[A\n",
      " 88%|████████▊ | 15/17 [00:47<00:06,  3.34s/it]\u001b[A\n",
      " 94%|█████████▍| 16/17 [00:51<00:03,  3.35s/it]\u001b[A\n",
      "100%|██████████| 17/17 [00:53<00:00,  3.13s/it]\u001b[A\n",
      "\n",
      "  0%|          | 0/14 [00:00<?, ?it/s]\u001b[A"
     ]
    },
    {
     "name": "stdout",
     "output_type": "stream",
     "text": [
      "attribute error:\n",
      "'NoneType' object has no attribute 'text'\n"
     ]
    },
    {
     "name": "stderr",
     "output_type": "stream",
     "text": [
      "\n",
      "  7%|▋         | 1/14 [00:00<00:10,  1.24it/s]\u001b[A\n",
      " 14%|█▍        | 2/14 [00:02<00:12,  1.05s/it]\u001b[A\n",
      " 21%|██▏       | 3/14 [00:05<00:19,  1.73s/it]\u001b[A"
     ]
    },
    {
     "name": "stdout",
     "output_type": "stream",
     "text": [
      "attribute error:\n",
      "'NoneType' object has no attribute 'text'\n"
     ]
    },
    {
     "name": "stderr",
     "output_type": "stream",
     "text": [
      "\n",
      " 29%|██▊       | 4/14 [00:07<00:17,  1.75s/it]\u001b[A\n",
      " 36%|███▌      | 5/14 [00:09<00:17,  1.90s/it]\u001b[A\n",
      " 43%|████▎     | 6/14 [00:12<00:18,  2.27s/it]\u001b[A"
     ]
    },
    {
     "name": "stdout",
     "output_type": "stream",
     "text": [
      "attribute error:\n",
      "'NoneType' object has no attribute 'text'\n"
     ]
    },
    {
     "name": "stderr",
     "output_type": "stream",
     "text": [
      "\n",
      " 50%|█████     | 7/14 [00:14<00:13,  2.00s/it]\u001b[A\n",
      " 57%|█████▋    | 8/14 [00:16<00:11,  2.00s/it]\u001b[A\n",
      " 64%|██████▍   | 9/14 [00:20<00:12,  2.57s/it]\u001b[A"
     ]
    },
    {
     "name": "stdout",
     "output_type": "stream",
     "text": [
      "attribute error:\n",
      "'NoneType' object has no attribute 'text'\n"
     ]
    },
    {
     "name": "stderr",
     "output_type": "stream",
     "text": [
      "\n",
      " 71%|███████▏  | 10/14 [00:21<00:09,  2.29s/it]\u001b[A\n",
      " 79%|███████▊  | 11/14 [00:24<00:06,  2.33s/it]\u001b[A\n",
      " 86%|████████▌ | 12/14 [00:27<00:05,  2.74s/it]\u001b[A"
     ]
    },
    {
     "name": "stdout",
     "output_type": "stream",
     "text": [
      "attribute error:\n",
      "'NoneType' object has no attribute 'text'\n"
     ]
    },
    {
     "name": "stderr",
     "output_type": "stream",
     "text": [
      "\n",
      " 93%|█████████▎| 13/14 [00:30<00:02,  2.76s/it]\u001b[A\n",
      "100%|██████████| 14/14 [00:36<00:00,  2.59s/it]\u001b[A\n",
      "\n",
      "  0%|          | 0/16 [00:00<?, ?it/s]\u001b[A\n",
      "  6%|▋         | 1/16 [00:00<00:14,  1.05it/s]\u001b[A\n",
      " 12%|█▎        | 2/16 [00:01<00:10,  1.34it/s]\u001b[A\n",
      " 19%|█▉        | 3/16 [00:02<00:11,  1.14it/s]\u001b[A\n",
      " 25%|██▌       | 4/16 [00:03<00:12,  1.04s/it]\u001b[A\n",
      " 31%|███▏      | 5/16 [00:04<00:08,  1.26it/s]\u001b[A\n",
      " 38%|███▊      | 6/16 [00:06<00:11,  1.19s/it]\u001b[A\n",
      " 44%|████▍     | 7/16 [00:08<00:14,  1.59s/it]\u001b[A\n",
      " 50%|█████     | 8/16 [00:12<00:17,  2.17s/it]\u001b[A"
     ]
    },
    {
     "name": "stdout",
     "output_type": "stream",
     "text": [
      "attribute error:\n",
      "'NoneType' object has no attribute 'text'\n"
     ]
    },
    {
     "name": "stderr",
     "output_type": "stream",
     "text": [
      "\n",
      " 56%|█████▋    | 9/16 [00:12<00:11,  1.60s/it]\u001b[A\n",
      " 62%|██████▎   | 10/16 [00:13<00:07,  1.29s/it]\u001b[A\n",
      " 69%|██████▉   | 11/16 [00:15<00:08,  1.76s/it]\u001b[A"
     ]
    },
    {
     "name": "stdout",
     "output_type": "stream",
     "text": [
      "attribute error:\n",
      "'NoneType' object has no attribute 'text'\n"
     ]
    },
    {
     "name": "stderr",
     "output_type": "stream",
     "text": [
      "\n",
      " 75%|███████▌  | 12/16 [00:16<00:05,  1.31s/it]\u001b[A\n",
      " 81%|████████▏ | 13/16 [00:17<00:04,  1.36s/it]\u001b[A\n",
      " 88%|████████▊ | 14/16 [00:21<00:04,  2.05s/it]\u001b[A\n",
      " 94%|█████████▍| 15/16 [00:25<00:02,  2.59s/it]\u001b[A\n",
      "100%|██████████| 16/16 [00:31<00:00,  1.94s/it]\u001b[A\n",
      " 34%|███▍      | 17/50 [36:45<1:09:04, 125.58s/it]\n",
      "  0%|          | 0/20 [00:00<?, ?it/s]\u001b[A\n",
      "  5%|▌         | 1/20 [00:01<00:33,  1.76s/it]\u001b[A\n",
      " 10%|█         | 2/20 [00:05<00:41,  2.31s/it]\u001b[A\n",
      " 15%|█▌        | 3/20 [00:07<00:37,  2.20s/it]\u001b[A\n",
      " 20%|██        | 4/20 [00:08<00:31,  1.99s/it]\u001b[A\n",
      " 25%|██▌       | 5/20 [00:10<00:29,  1.94s/it]\u001b[A\n",
      " 30%|███       | 6/20 [00:13<00:32,  2.34s/it]\u001b[A\n",
      " 35%|███▌      | 7/20 [00:17<00:36,  2.78s/it]\u001b[A\n",
      " 40%|████      | 8/20 [00:19<00:29,  2.50s/it]\u001b[A\n",
      " 45%|████▌     | 9/20 [00:21<00:24,  2.20s/it]\u001b[A\n",
      " 50%|█████     | 10/20 [00:25<00:28,  2.86s/it]\u001b[A\n",
      " 55%|█████▌    | 11/20 [00:27<00:22,  2.54s/it]\u001b[A\n",
      " 60%|██████    | 12/20 [00:29<00:18,  2.33s/it]\u001b[A\n",
      " 65%|██████▌   | 13/20 [00:30<00:14,  2.12s/it]\u001b[A\n",
      " 70%|███████   | 14/20 [00:34<00:15,  2.59s/it]\u001b[A\n",
      " 75%|███████▌  | 15/20 [00:38<00:14,  2.97s/it]\u001b[A"
     ]
    },
    {
     "name": "stdout",
     "output_type": "stream",
     "text": [
      "attribute error:\n",
      "'NoneType' object has no attribute 'text'\n"
     ]
    },
    {
     "name": "stderr",
     "output_type": "stream",
     "text": [
      "\n",
      " 80%|████████  | 16/20 [00:42<00:13,  3.36s/it]\u001b[A\n",
      " 85%|████████▌ | 17/20 [00:45<00:10,  3.39s/it]\u001b[A\n",
      " 90%|█████████ | 18/20 [00:49<00:06,  3.31s/it]\u001b[A\n",
      " 95%|█████████▌| 19/20 [00:52<00:03,  3.19s/it]\u001b[A\n",
      "100%|██████████| 20/20 [00:53<00:00,  2.68s/it]\u001b[A\n",
      " 36%|███▌      | 18/50 [37:39<55:27, 103.99s/it]  \n",
      "  0%|          | 0/12 [00:00<?, ?it/s]\u001b[A\n",
      "  8%|▊         | 1/12 [00:01<00:20,  1.87s/it]\u001b[A\n",
      " 17%|█▋        | 2/12 [00:03<00:17,  1.71s/it]\u001b[A\n",
      " 25%|██▌       | 3/12 [00:05<00:17,  1.95s/it]\u001b[A"
     ]
    },
    {
     "name": "stdout",
     "output_type": "stream",
     "text": [
      "attribute error:\n",
      "'NoneType' object has no attribute 'text'\n"
     ]
    },
    {
     "name": "stderr",
     "output_type": "stream",
     "text": [
      "\n",
      " 33%|███▎      | 4/12 [00:09<00:20,  2.52s/it]\u001b[A\n",
      " 42%|████▏     | 5/12 [00:11<00:15,  2.28s/it]\u001b[A\n",
      " 50%|█████     | 6/12 [00:12<00:12,  2.05s/it]\u001b[A\n",
      " 58%|█████▊    | 7/12 [00:14<00:09,  1.86s/it]\u001b[A\n",
      " 67%|██████▋   | 8/12 [00:18<00:09,  2.50s/it]\u001b[A\n",
      " 75%|███████▌  | 9/12 [00:21<00:08,  2.84s/it]\u001b[A\n",
      " 83%|████████▎ | 10/12 [00:27<00:07,  3.66s/it]\u001b[A\n",
      " 92%|█████████▏| 11/12 [00:31<00:03,  3.66s/it]\u001b[A\n",
      "100%|██████████| 12/12 [00:38<00:00,  3.22s/it]\u001b[A\n",
      "\n",
      "  0%|          | 0/10 [00:00<?, ?it/s]\u001b[A\n",
      " 10%|█         | 1/10 [00:04<00:40,  4.46s/it]\u001b[A\n",
      " 20%|██        | 2/10 [00:05<00:27,  3.40s/it]\u001b[A\n",
      " 30%|███       | 3/10 [00:09<00:25,  3.58s/it]\u001b[A\n",
      " 40%|████      | 4/10 [00:10<00:17,  2.98s/it]\u001b[A\n",
      " 50%|█████     | 5/10 [00:13<00:14,  2.99s/it]\u001b[A\n",
      " 60%|██████    | 6/10 [00:21<00:17,  4.41s/it]\u001b[A\n",
      " 70%|███████   | 7/10 [00:23<00:10,  3.54s/it]\u001b[A\n",
      " 80%|████████  | 8/10 [00:25<00:06,  3.12s/it]\u001b[A\n",
      " 90%|█████████ | 9/10 [00:28<00:03,  3.24s/it]\u001b[A\n",
      "100%|██████████| 10/10 [00:32<00:00,  3.28s/it]\u001b[A\n",
      "\n",
      "  0%|          | 0/11 [00:00<?, ?it/s]\u001b[A\n",
      "  9%|▉         | 1/11 [00:00<00:03,  3.11it/s]\u001b[A\n",
      " 18%|█▊        | 2/11 [00:03<00:11,  1.26s/it]\u001b[A\n",
      " 27%|██▋       | 3/11 [00:05<00:11,  1.48s/it]\u001b[A\n",
      " 36%|███▋      | 4/11 [00:07<00:11,  1.58s/it]\u001b[A\n",
      " 45%|████▌     | 5/11 [00:09<00:10,  1.76s/it]\u001b[A"
     ]
    },
    {
     "name": "stdout",
     "output_type": "stream",
     "text": [
      "attribute error:\n",
      "'NoneType' object has no attribute 'text'\n"
     ]
    },
    {
     "name": "stderr",
     "output_type": "stream",
     "text": [
      "\n",
      " 55%|█████▍    | 6/11 [00:12<00:10,  2.15s/it]\u001b[A\n",
      " 64%|██████▎   | 7/11 [00:15<00:09,  2.34s/it]\u001b[A\n",
      " 73%|███████▎  | 8/11 [00:17<00:07,  2.36s/it]\u001b[A\n",
      " 82%|████████▏ | 9/11 [00:19<00:04,  2.13s/it]\u001b[A\n",
      " 91%|█████████ | 10/11 [00:22<00:02,  2.51s/it]\u001b[A\n",
      "100%|██████████| 11/11 [00:23<00:00,  2.17s/it]\u001b[A\n",
      "\n",
      "  0%|          | 0/10 [00:00<?, ?it/s]\u001b[A\n",
      " 10%|█         | 1/10 [00:07<01:11,  7.92s/it]\u001b[A"
     ]
    },
    {
     "name": "stdout",
     "output_type": "stream",
     "text": [
      "attribute error:\n",
      "'NoneType' object has no attribute 'text'\n"
     ]
    },
    {
     "name": "stderr",
     "output_type": "stream",
     "text": [
      "\n",
      " 20%|██        | 2/10 [00:08<00:46,  5.83s/it]\u001b[A\n",
      " 30%|███       | 3/10 [00:13<00:38,  5.47s/it]\u001b[A\n",
      " 40%|████      | 4/10 [00:14<00:25,  4.27s/it]\u001b[A\n",
      " 50%|█████     | 5/10 [00:17<00:18,  3.65s/it]\u001b[A\n",
      " 60%|██████    | 6/10 [00:20<00:14,  3.52s/it]\u001b[A\n",
      " 70%|███████   | 7/10 [00:22<00:09,  3.16s/it]\u001b[A\n",
      " 80%|████████  | 8/10 [00:24<00:05,  2.89s/it]\u001b[A\n",
      " 90%|█████████ | 9/10 [00:25<00:02,  2.11s/it]\u001b[A\n",
      "100%|██████████| 10/10 [00:27<00:00,  2.77s/it]\u001b[A\n",
      "\n",
      "  0%|          | 0/10 [00:00<?, ?it/s]\u001b[A\n",
      " 10%|█         | 1/10 [00:01<00:09,  1.00s/it]\u001b[A\n",
      " 20%|██        | 2/10 [00:02<00:08,  1.02s/it]\u001b[A\n",
      " 30%|███       | 3/10 [00:02<00:06,  1.14it/s]\u001b[A\n",
      " 40%|████      | 4/10 [00:03<00:05,  1.05it/s]\u001b[A\n",
      " 50%|█████     | 5/10 [00:04<00:05,  1.02s/it]\u001b[A\n",
      " 60%|██████    | 6/10 [00:05<00:03,  1.22it/s]\u001b[A\n",
      " 70%|███████   | 7/10 [00:06<00:02,  1.01it/s]\u001b[A"
     ]
    },
    {
     "name": "stdout",
     "output_type": "stream",
     "text": [
      "attribute error:\n",
      "'NoneType' object has no attribute 'text'\n"
     ]
    },
    {
     "name": "stderr",
     "output_type": "stream",
     "text": [
      "\n",
      " 80%|████████  | 8/10 [00:06<00:01,  1.33it/s]\u001b[A\n",
      " 90%|█████████ | 9/10 [00:08<00:01,  1.07s/it]\u001b[A\n",
      "100%|██████████| 10/10 [00:09<00:00,  1.10it/s]\u001b[A\n",
      " 38%|███▊      | 19/50 [39:51<58:04, 112.39s/it]\n",
      "  0%|          | 0/15 [00:00<?, ?it/s]\u001b[A\n",
      "  7%|▋         | 1/15 [00:01<00:18,  1.29s/it]\u001b[A\n",
      " 13%|█▎        | 2/15 [00:02<00:15,  1.16s/it]\u001b[A\n",
      " 20%|██        | 3/15 [00:06<00:23,  1.97s/it]\u001b[A\n",
      " 27%|██▋       | 4/15 [00:09<00:26,  2.39s/it]\u001b[A"
     ]
    },
    {
     "name": "stdout",
     "output_type": "stream",
     "text": [
      "attribute error:\n",
      "'NoneType' object has no attribute 'text'\n"
     ]
    },
    {
     "name": "stderr",
     "output_type": "stream",
     "text": [
      "\n",
      " 33%|███▎      | 5/15 [00:13<00:28,  2.86s/it]\u001b[A"
     ]
    },
    {
     "name": "stdout",
     "output_type": "stream",
     "text": [
      "attribute error:\n",
      "'NoneType' object has no attribute 'text'\n"
     ]
    },
    {
     "name": "stderr",
     "output_type": "stream",
     "text": [
      "\n",
      " 40%|████      | 6/15 [00:16<00:25,  2.85s/it]\u001b[A\n",
      " 47%|████▋     | 7/15 [00:17<00:18,  2.27s/it]\u001b[A\n",
      " 53%|█████▎    | 8/15 [00:17<00:12,  1.76s/it]\u001b[A\n",
      " 60%|██████    | 9/15 [00:19<00:09,  1.65s/it]\u001b[A\n",
      " 67%|██████▋   | 10/15 [00:19<00:06,  1.39s/it]\u001b[A\n",
      " 73%|███████▎  | 11/15 [00:22<00:07,  1.92s/it]\u001b[A\n",
      " 80%|████████  | 12/15 [00:23<00:04,  1.60s/it]\u001b[A\n",
      " 87%|████████▋ | 13/15 [00:26<00:03,  1.86s/it]\u001b[A\n",
      " 93%|█████████▎| 14/15 [00:29<00:02,  2.30s/it]\u001b[A\n",
      "100%|██████████| 15/15 [00:32<00:00,  2.14s/it]\u001b[A\n",
      "\n",
      "  0%|          | 0/11 [00:00<?, ?it/s]\u001b[A\n",
      "  9%|▉         | 1/11 [00:01<00:12,  1.23s/it]\u001b[A\n",
      " 18%|█▊        | 2/11 [00:02<00:12,  1.38s/it]\u001b[A\n",
      " 27%|██▋       | 3/11 [00:04<00:10,  1.31s/it]\u001b[A\n",
      " 36%|███▋      | 4/11 [00:04<00:08,  1.15s/it]\u001b[A\n",
      " 45%|████▌     | 5/11 [00:07<00:09,  1.64s/it]\u001b[A"
     ]
    },
    {
     "name": "stdout",
     "output_type": "stream",
     "text": [
      "attribute error:\n",
      "'NoneType' object has no attribute 'text'\n"
     ]
    },
    {
     "name": "stderr",
     "output_type": "stream",
     "text": [
      "\n",
      " 55%|█████▍    | 6/11 [00:09<00:07,  1.60s/it]\u001b[A\n",
      " 64%|██████▎   | 7/11 [00:11<00:07,  1.77s/it]\u001b[A\n",
      " 73%|███████▎  | 8/11 [00:14<00:06,  2.07s/it]\u001b[A\n",
      " 82%|████████▏ | 9/11 [00:15<00:03,  1.76s/it]\u001b[A\n",
      " 91%|█████████ | 10/11 [00:18<00:02,  2.12s/it]\u001b[A\n",
      "100%|██████████| 11/11 [00:20<00:00,  1.85s/it]\u001b[A\n",
      " 40%|████      | 20/50 [40:44<47:13, 94.44s/it] \n",
      "  0%|          | 0/16 [00:00<?, ?it/s]\u001b[A"
     ]
    },
    {
     "name": "stdout",
     "output_type": "stream",
     "text": [
      "attribute error:\n",
      "'NoneType' object has no attribute 'text'\n"
     ]
    },
    {
     "name": "stderr",
     "output_type": "stream",
     "text": [
      "\n",
      "  6%|▋         | 1/16 [00:01<00:25,  1.69s/it]\u001b[A\n",
      " 12%|█▎        | 2/16 [00:03<00:24,  1.75s/it]\u001b[A\n",
      " 19%|█▉        | 3/16 [00:06<00:26,  2.06s/it]\u001b[A\n",
      " 25%|██▌       | 4/16 [00:08<00:23,  2.00s/it]\u001b[A\n",
      " 31%|███▏      | 5/16 [00:12<00:28,  2.62s/it]\u001b[A\n",
      " 38%|███▊      | 6/16 [00:13<00:20,  2.08s/it]\u001b[A\n",
      " 44%|████▍     | 7/16 [00:14<00:18,  2.02s/it]\u001b[A\n",
      " 50%|█████     | 8/16 [00:17<00:17,  2.15s/it]\u001b[A\n",
      " 56%|█████▋    | 9/16 [00:25<00:26,  3.78s/it]\u001b[A\n",
      " 62%|██████▎   | 10/16 [00:31<00:27,  4.54s/it]\u001b[A\n",
      " 69%|██████▉   | 11/16 [02:58<03:56, 47.37s/it]\u001b[A\n",
      " 75%|███████▌  | 12/16 [03:05<02:21, 35.30s/it]\u001b[A\n",
      " 81%|████████▏ | 13/16 [03:09<01:17, 25.88s/it]\u001b[A\n",
      " 88%|████████▊ | 14/16 [03:15<00:39, 19.85s/it]\u001b[A\n",
      " 94%|█████████▍| 15/16 [03:18<00:14, 14.84s/it]\u001b[A\n",
      "100%|██████████| 16/16 [03:44<00:00, 14.05s/it]\u001b[A\n",
      " 42%|████▏     | 21/50 [44:28<1:04:33, 133.57s/it]\n",
      "  0%|          | 0/14 [00:00<?, ?it/s]\u001b[A\n",
      "  7%|▋         | 1/14 [00:03<00:43,  3.33s/it]\u001b[A"
     ]
    },
    {
     "name": "stdout",
     "output_type": "stream",
     "text": [
      "attribute error:\n",
      "'NoneType' object has no attribute 'text'\n"
     ]
    },
    {
     "name": "stderr",
     "output_type": "stream",
     "text": [
      "\n",
      " 14%|█▍        | 2/14 [00:05<00:37,  3.13s/it]\u001b[A"
     ]
    },
    {
     "name": "stdout",
     "output_type": "stream",
     "text": [
      "attribute error:\n",
      "'NoneType' object has no attribute 'text'\n"
     ]
    },
    {
     "name": "stderr",
     "output_type": "stream",
     "text": [
      "\n",
      " 21%|██▏       | 3/14 [00:08<00:33,  3.05s/it]\u001b[A"
     ]
    },
    {
     "name": "stdout",
     "output_type": "stream",
     "text": [
      "attribute error:\n",
      "'NoneType' object has no attribute 'text'\n"
     ]
    },
    {
     "name": "stderr",
     "output_type": "stream",
     "text": [
      "\n",
      " 29%|██▊       | 4/14 [00:16<00:42,  4.30s/it]\u001b[A"
     ]
    },
    {
     "name": "stdout",
     "output_type": "stream",
     "text": [
      "attribute error:\n",
      "'NoneType' object has no attribute 'text'\n"
     ]
    },
    {
     "name": "stderr",
     "output_type": "stream",
     "text": [
      "\n",
      " 36%|███▌      | 5/14 [00:17<00:31,  3.49s/it]\u001b[A\n",
      " 43%|████▎     | 6/14 [00:19<00:23,  3.00s/it]\u001b[A\n",
      " 50%|█████     | 7/14 [00:22<00:21,  3.01s/it]\u001b[A\n",
      " 57%|█████▋    | 8/14 [00:25<00:18,  3.12s/it]\u001b[A\n",
      " 64%|██████▍   | 9/14 [00:27<00:13,  2.74s/it]\u001b[A\n",
      " 71%|███████▏  | 10/14 [00:31<00:12,  3.12s/it]\u001b[A\n",
      " 79%|███████▊  | 11/14 [00:33<00:08,  2.75s/it]\u001b[A\n",
      " 86%|████████▌ | 12/14 [00:36<00:05,  2.75s/it]\u001b[A\n",
      " 93%|█████████▎| 13/14 [00:39<00:02,  2.93s/it]\u001b[A\n",
      "100%|██████████| 14/14 [00:41<00:00,  3.00s/it]\u001b[A\n",
      "\n",
      "  0%|          | 0/15 [00:00<?, ?it/s]\u001b[A\n",
      "  7%|▋         | 1/15 [00:01<00:20,  1.48s/it]\u001b[A\n",
      " 13%|█▎        | 2/15 [00:02<00:19,  1.47s/it]\u001b[A\n",
      " 20%|██        | 3/15 [00:04<00:17,  1.44s/it]\u001b[A\n",
      " 27%|██▋       | 4/15 [00:07<00:20,  1.89s/it]\u001b[A\n",
      " 33%|███▎      | 5/15 [00:09<00:19,  1.92s/it]\u001b[A\n",
      " 40%|████      | 6/15 [00:10<00:16,  1.80s/it]\u001b[A\n",
      " 47%|████▋     | 7/15 [00:15<00:21,  2.74s/it]\u001b[A\n",
      " 53%|█████▎    | 8/15 [00:19<00:21,  3.11s/it]\u001b[A\n",
      " 60%|██████    | 9/15 [00:23<00:19,  3.31s/it]\u001b[A\n",
      " 67%|██████▋   | 10/15 [00:25<00:13,  2.80s/it]\u001b[A\n",
      " 73%|███████▎  | 11/15 [00:28<00:12,  3.03s/it]\u001b[A"
     ]
    },
    {
     "name": "stdout",
     "output_type": "stream",
     "text": [
      "attribute error:\n",
      "'NoneType' object has no attribute 'text'\n"
     ]
    },
    {
     "name": "stderr",
     "output_type": "stream",
     "text": [
      "\n",
      " 80%|████████  | 12/15 [00:31<00:09,  3.03s/it]\u001b[A"
     ]
    },
    {
     "name": "stdout",
     "output_type": "stream",
     "text": [
      "attribute error:\n",
      "'NoneType' object has no attribute 'text'\n"
     ]
    },
    {
     "name": "stderr",
     "output_type": "stream",
     "text": [
      "\n",
      " 87%|████████▋ | 13/15 [00:33<00:05,  2.58s/it]\u001b[A\n",
      " 93%|█████████▎| 14/15 [00:34<00:02,  2.36s/it]\u001b[A\n",
      "100%|██████████| 15/15 [00:35<00:00,  2.39s/it]\u001b[A\n",
      "\n",
      "  0%|          | 0/12 [00:00<?, ?it/s]\u001b[A\n",
      "  8%|▊         | 1/12 [00:06<01:08,  6.23s/it]\u001b[A\n",
      " 17%|█▋        | 2/12 [00:11<00:58,  5.82s/it]\u001b[A\n",
      " 25%|██▌       | 3/12 [00:14<00:46,  5.17s/it]\u001b[A"
     ]
    },
    {
     "name": "stdout",
     "output_type": "stream",
     "text": [
      "attribute error:\n",
      "'NoneType' object has no attribute 'text'\n"
     ]
    },
    {
     "name": "stderr",
     "output_type": "stream",
     "text": [
      "\n",
      " 33%|███▎      | 4/12 [00:18<00:37,  4.72s/it]\u001b[A\n",
      " 42%|████▏     | 5/12 [00:26<00:39,  5.58s/it]\u001b[A"
     ]
    },
    {
     "name": "stdout",
     "output_type": "stream",
     "text": [
      "attribute error:\n",
      "'NoneType' object has no attribute 'text'\n"
     ]
    },
    {
     "name": "stderr",
     "output_type": "stream",
     "text": [
      "\n",
      " 50%|█████     | 6/12 [00:29<00:30,  5.05s/it]\u001b[A"
     ]
    },
    {
     "name": "stdout",
     "output_type": "stream",
     "text": [
      "attribute error:\n",
      "'NoneType' object has no attribute 'text'\n"
     ]
    },
    {
     "name": "stderr",
     "output_type": "stream",
     "text": [
      "\n",
      " 58%|█████▊    | 7/12 [00:31<00:20,  4.08s/it]\u001b[A\n",
      " 67%|██████▋   | 8/12 [00:35<00:16,  4.06s/it]\u001b[A"
     ]
    },
    {
     "name": "stdout",
     "output_type": "stream",
     "text": [
      "attribute error:\n",
      "'NoneType' object has no attribute 'text'\n"
     ]
    },
    {
     "name": "stderr",
     "output_type": "stream",
     "text": [
      "\n",
      " 75%|███████▌  | 9/12 [00:38<00:11,  3.77s/it]\u001b[A\n",
      " 83%|████████▎ | 10/12 [00:42<00:07,  3.66s/it]\u001b[A"
     ]
    },
    {
     "name": "stdout",
     "output_type": "stream",
     "text": [
      "attribute error:\n",
      "'NoneType' object has no attribute 'text'\n"
     ]
    },
    {
     "name": "stderr",
     "output_type": "stream",
     "text": [
      "\n",
      " 92%|█████████▏| 11/12 [00:43<00:03,  3.03s/it]\u001b[A\n",
      "100%|██████████| 12/12 [00:45<00:00,  3.82s/it]\u001b[A\n",
      "\n",
      "  0%|          | 0/13 [00:00<?, ?it/s]\u001b[A\n",
      "  8%|▊         | 1/13 [00:06<01:20,  6.71s/it]\u001b[A\n",
      " 15%|█▌        | 2/13 [00:09<00:59,  5.44s/it]\u001b[A\n",
      " 23%|██▎       | 3/13 [00:13<00:51,  5.19s/it]\u001b[A\n",
      " 31%|███       | 4/13 [00:15<00:37,  4.18s/it]\u001b[A\n",
      " 38%|███▊      | 5/13 [00:19<00:33,  4.24s/it]\u001b[A\n",
      " 46%|████▌     | 6/13 [00:23<00:27,  3.88s/it]\u001b[A"
     ]
    },
    {
     "name": "stdout",
     "output_type": "stream",
     "text": [
      "attribute error:\n",
      "'NoneType' object has no attribute 'text'\n"
     ]
    },
    {
     "name": "stderr",
     "output_type": "stream",
     "text": [
      "\n",
      " 54%|█████▍    | 7/13 [00:27<00:24,  4.10s/it]\u001b[A\n",
      " 62%|██████▏   | 8/13 [00:30<00:19,  3.81s/it]\u001b[A\n",
      " 69%|██████▉   | 9/13 [00:33<00:13,  3.48s/it]\u001b[A\n",
      " 77%|███████▋  | 10/13 [00:35<00:08,  2.98s/it]\u001b[A\n",
      " 85%|████████▍ | 11/13 [00:43<00:09,  4.65s/it]\u001b[A"
     ]
    },
    {
     "name": "stdout",
     "output_type": "stream",
     "text": [
      "attribute error:\n",
      "'NoneType' object has no attribute 'text'\n"
     ]
    },
    {
     "name": "stderr",
     "output_type": "stream",
     "text": [
      "\n",
      " 92%|█████████▏| 12/13 [00:46<00:04,  4.02s/it]\u001b[A"
     ]
    },
    {
     "name": "stdout",
     "output_type": "stream",
     "text": [
      "attribute error:\n",
      "'NoneType' object has no attribute 'text'\n"
     ]
    },
    {
     "name": "stderr",
     "output_type": "stream",
     "text": [
      "\n",
      "100%|██████████| 13/13 [00:51<00:00,  3.95s/it]\u001b[A\n",
      " 44%|████▍     | 22/50 [47:23<1:08:08, 146.01s/it]\n",
      "  0%|          | 0/16 [00:00<?, ?it/s]\u001b[A\n",
      "  6%|▋         | 1/16 [00:04<01:10,  4.68s/it]\u001b[A"
     ]
    },
    {
     "name": "stdout",
     "output_type": "stream",
     "text": [
      "attribute error:\n",
      "'NoneType' object has no attribute 'text'\n"
     ]
    },
    {
     "name": "stderr",
     "output_type": "stream",
     "text": [
      "\n",
      " 12%|█▎        | 2/16 [00:07<00:59,  4.27s/it]\u001b[A"
     ]
    },
    {
     "name": "stdout",
     "output_type": "stream",
     "text": [
      "attribute error:\n",
      "'NoneType' object has no attribute 'text'\n"
     ]
    },
    {
     "name": "stderr",
     "output_type": "stream",
     "text": [
      "\n",
      " 19%|█▉        | 3/16 [00:11<00:51,  3.99s/it]\u001b[A"
     ]
    },
    {
     "name": "stdout",
     "output_type": "stream",
     "text": [
      "attribute error:\n",
      "'NoneType' object has no attribute 'text'\n"
     ]
    },
    {
     "name": "stderr",
     "output_type": "stream",
     "text": [
      "\n",
      " 25%|██▌       | 4/16 [00:14<00:44,  3.72s/it]\u001b[A"
     ]
    },
    {
     "name": "stdout",
     "output_type": "stream",
     "text": [
      "attribute error:\n",
      "'NoneType' object has no attribute 'text'\n"
     ]
    },
    {
     "name": "stderr",
     "output_type": "stream",
     "text": [
      "\n",
      " 31%|███▏      | 5/16 [00:18<00:40,  3.69s/it]\u001b[A"
     ]
    },
    {
     "name": "stdout",
     "output_type": "stream",
     "text": [
      "attribute error:\n",
      "'NoneType' object has no attribute 'text'\n"
     ]
    },
    {
     "name": "stderr",
     "output_type": "stream",
     "text": [
      "\n",
      " 38%|███▊      | 6/16 [00:21<00:36,  3.67s/it]\u001b[A"
     ]
    },
    {
     "name": "stdout",
     "output_type": "stream",
     "text": [
      "attribute error:\n",
      "'NoneType' object has no attribute 'text'\n"
     ]
    },
    {
     "name": "stderr",
     "output_type": "stream",
     "text": [
      "\n",
      " 44%|████▍     | 7/16 [00:25<00:33,  3.67s/it]\u001b[A"
     ]
    },
    {
     "name": "stdout",
     "output_type": "stream",
     "text": [
      "attribute error:\n",
      "'NoneType' object has no attribute 'text'\n"
     ]
    },
    {
     "name": "stderr",
     "output_type": "stream",
     "text": [
      "\n",
      " 50%|█████     | 8/16 [00:29<00:31,  3.93s/it]\u001b[A"
     ]
    },
    {
     "name": "stdout",
     "output_type": "stream",
     "text": [
      "attribute error:\n",
      "'NoneType' object has no attribute 'text'\n"
     ]
    },
    {
     "name": "stderr",
     "output_type": "stream",
     "text": [
      "\n",
      " 56%|█████▋    | 9/16 [00:33<00:27,  3.99s/it]\u001b[A"
     ]
    },
    {
     "name": "stdout",
     "output_type": "stream",
     "text": [
      "attribute error:\n",
      "'NoneType' object has no attribute 'text'\n"
     ]
    },
    {
     "name": "stderr",
     "output_type": "stream",
     "text": [
      "\n",
      " 62%|██████▎   | 10/16 [00:37<00:22,  3.79s/it]\u001b[A"
     ]
    },
    {
     "name": "stdout",
     "output_type": "stream",
     "text": [
      "attribute error:\n",
      "'NoneType' object has no attribute 'text'\n"
     ]
    },
    {
     "name": "stderr",
     "output_type": "stream",
     "text": [
      "\n",
      " 69%|██████▉   | 11/16 [00:41<00:18,  3.77s/it]\u001b[A"
     ]
    },
    {
     "name": "stdout",
     "output_type": "stream",
     "text": [
      "attribute error:\n",
      "'NoneType' object has no attribute 'text'\n"
     ]
    },
    {
     "name": "stderr",
     "output_type": "stream",
     "text": [
      "\n",
      " 75%|███████▌  | 12/16 [00:44<00:14,  3.73s/it]\u001b[A"
     ]
    },
    {
     "name": "stdout",
     "output_type": "stream",
     "text": [
      "attribute error:\n",
      "'NoneType' object has no attribute 'text'\n"
     ]
    },
    {
     "name": "stderr",
     "output_type": "stream",
     "text": [
      "\n",
      " 81%|████████▏ | 13/16 [00:48<00:10,  3.65s/it]\u001b[A"
     ]
    },
    {
     "name": "stdout",
     "output_type": "stream",
     "text": [
      "attribute error:\n",
      "'NoneType' object has no attribute 'text'\n"
     ]
    },
    {
     "name": "stderr",
     "output_type": "stream",
     "text": [
      "\n",
      " 88%|████████▊ | 14/16 [00:52<00:07,  3.74s/it]\u001b[A"
     ]
    },
    {
     "name": "stdout",
     "output_type": "stream",
     "text": [
      "attribute error:\n",
      "'NoneType' object has no attribute 'text'\n"
     ]
    },
    {
     "name": "stderr",
     "output_type": "stream",
     "text": [
      "\n",
      " 94%|█████████▍| 15/16 [00:55<00:03,  3.50s/it]\u001b[A"
     ]
    },
    {
     "name": "stdout",
     "output_type": "stream",
     "text": [
      "attribute error:\n",
      "'NoneType' object has no attribute 'text'\n"
     ]
    },
    {
     "name": "stderr",
     "output_type": "stream",
     "text": [
      "\n",
      "100%|██████████| 16/16 [00:58<00:00,  3.65s/it]\u001b[A\n",
      "\n",
      "  0%|          | 0/14 [00:00<?, ?it/s]\u001b[A"
     ]
    },
    {
     "name": "stdout",
     "output_type": "stream",
     "text": [
      "attribute error:\n",
      "'NoneType' object has no attribute 'text'\n"
     ]
    },
    {
     "name": "stderr",
     "output_type": "stream",
     "text": [
      "\n",
      "  7%|▋         | 1/14 [00:03<00:45,  3.49s/it]\u001b[A"
     ]
    },
    {
     "name": "stdout",
     "output_type": "stream",
     "text": [
      "attribute error:\n",
      "'NoneType' object has no attribute 'text'\n"
     ]
    },
    {
     "name": "stderr",
     "output_type": "stream",
     "text": [
      "\n",
      " 14%|█▍        | 2/14 [00:07<00:42,  3.55s/it]\u001b[A"
     ]
    },
    {
     "name": "stdout",
     "output_type": "stream",
     "text": [
      "attribute error:\n",
      "'NoneType' object has no attribute 'text'\n"
     ]
    },
    {
     "name": "stderr",
     "output_type": "stream",
     "text": [
      "\n",
      " 21%|██▏       | 3/14 [00:10<00:38,  3.51s/it]\u001b[A"
     ]
    },
    {
     "name": "stdout",
     "output_type": "stream",
     "text": [
      "attribute error:\n",
      "'NoneType' object has no attribute 'text'\n"
     ]
    },
    {
     "name": "stderr",
     "output_type": "stream",
     "text": [
      "\n",
      " 29%|██▊       | 4/14 [00:13<00:33,  3.38s/it]\u001b[A"
     ]
    },
    {
     "name": "stdout",
     "output_type": "stream",
     "text": [
      "attribute error:\n",
      "'NoneType' object has no attribute 'text'\n"
     ]
    },
    {
     "name": "stderr",
     "output_type": "stream",
     "text": [
      "\n",
      " 36%|███▌      | 5/14 [00:17<00:30,  3.38s/it]\u001b[A"
     ]
    },
    {
     "name": "stdout",
     "output_type": "stream",
     "text": [
      "attribute error:\n",
      "'NoneType' object has no attribute 'text'\n"
     ]
    },
    {
     "name": "stderr",
     "output_type": "stream",
     "text": [
      "\n",
      " 43%|████▎     | 6/14 [00:21<00:30,  3.78s/it]\u001b[A"
     ]
    },
    {
     "name": "stdout",
     "output_type": "stream",
     "text": [
      "attribute error:\n",
      "'NoneType' object has no attribute 'text'\n"
     ]
    },
    {
     "name": "stderr",
     "output_type": "stream",
     "text": [
      "\n",
      " 50%|█████     | 7/14 [00:27<00:29,  4.23s/it]\u001b[A"
     ]
    },
    {
     "name": "stdout",
     "output_type": "stream",
     "text": [
      "attribute error:\n",
      "'NoneType' object has no attribute 'text'\n"
     ]
    },
    {
     "name": "stderr",
     "output_type": "stream",
     "text": [
      "\n",
      " 57%|█████▋    | 8/14 [00:31<00:25,  4.19s/it]\u001b[A"
     ]
    },
    {
     "name": "stdout",
     "output_type": "stream",
     "text": [
      "attribute error:\n",
      "'NoneType' object has no attribute 'text'\n"
     ]
    },
    {
     "name": "stderr",
     "output_type": "stream",
     "text": [
      "\n",
      " 64%|██████▍   | 9/14 [00:34<00:19,  3.95s/it]\u001b[A"
     ]
    },
    {
     "name": "stdout",
     "output_type": "stream",
     "text": [
      "attribute error:\n",
      "'NoneType' object has no attribute 'text'\n"
     ]
    },
    {
     "name": "stderr",
     "output_type": "stream",
     "text": [
      "\n",
      " 71%|███████▏  | 10/14 [00:38<00:15,  3.87s/it]\u001b[A"
     ]
    },
    {
     "name": "stdout",
     "output_type": "stream",
     "text": [
      "attribute error:\n",
      "'NoneType' object has no attribute 'text'\n"
     ]
    },
    {
     "name": "stderr",
     "output_type": "stream",
     "text": [
      "\n",
      " 79%|███████▊  | 11/14 [00:41<00:11,  3.81s/it]\u001b[A"
     ]
    },
    {
     "name": "stdout",
     "output_type": "stream",
     "text": [
      "attribute error:\n",
      "'NoneType' object has no attribute 'text'\n"
     ]
    },
    {
     "name": "stderr",
     "output_type": "stream",
     "text": [
      "\n",
      " 86%|████████▌ | 12/14 [00:45<00:07,  3.78s/it]\u001b[A"
     ]
    },
    {
     "name": "stdout",
     "output_type": "stream",
     "text": [
      "attribute error:\n",
      "'NoneType' object has no attribute 'text'\n"
     ]
    },
    {
     "name": "stderr",
     "output_type": "stream",
     "text": [
      "\n",
      " 93%|█████████▎| 13/14 [00:53<00:05,  5.04s/it]\u001b[A"
     ]
    },
    {
     "name": "stdout",
     "output_type": "stream",
     "text": [
      "attribute error:\n",
      "'NoneType' object has no attribute 'text'\n"
     ]
    },
    {
     "name": "stderr",
     "output_type": "stream",
     "text": [
      "\n",
      "100%|██████████| 14/14 [00:57<00:00,  4.09s/it]\u001b[A\n",
      "\n",
      "  0%|          | 0/20 [00:00<?, ?it/s]\u001b[A"
     ]
    },
    {
     "name": "stdout",
     "output_type": "stream",
     "text": [
      "attribute error:\n",
      "'NoneType' object has no attribute 'text'\n"
     ]
    },
    {
     "name": "stderr",
     "output_type": "stream",
     "text": [
      "\n",
      "  5%|▌         | 1/20 [00:01<00:36,  1.91s/it]\u001b[A\n",
      " 10%|█         | 2/20 [00:06<00:50,  2.80s/it]\u001b[A\n",
      " 15%|█▌        | 3/20 [00:08<00:41,  2.43s/it]\u001b[A\n",
      " 20%|██        | 4/20 [00:11<00:42,  2.69s/it]\u001b[A"
     ]
    },
    {
     "name": "stdout",
     "output_type": "stream",
     "text": [
      "attribute error:\n",
      "'NoneType' object has no attribute 'text'\n"
     ]
    },
    {
     "name": "stderr",
     "output_type": "stream",
     "text": [
      "\n",
      " 25%|██▌       | 5/20 [00:13<00:37,  2.47s/it]\u001b[A\n",
      " 30%|███       | 6/20 [00:16<00:34,  2.48s/it]\u001b[A\n",
      " 35%|███▌      | 7/20 [00:17<00:29,  2.29s/it]\u001b[A\n",
      " 40%|████      | 8/20 [00:21<00:31,  2.59s/it]\u001b[A\n",
      " 45%|████▌     | 9/20 [00:23<00:25,  2.36s/it]\u001b[A\n",
      " 50%|█████     | 10/20 [00:24<00:22,  2.22s/it]\u001b[A\n",
      " 55%|█████▌    | 11/20 [00:27<00:21,  2.41s/it]\u001b[A\n",
      " 60%|██████    | 12/20 [00:32<00:24,  3.04s/it]\u001b[A\n",
      " 65%|██████▌   | 13/20 [00:34<00:18,  2.70s/it]\u001b[A"
     ]
    },
    {
     "name": "stdout",
     "output_type": "stream",
     "text": [
      "attribute error:\n",
      "'NoneType' object has no attribute 'text'\n"
     ]
    },
    {
     "name": "stderr",
     "output_type": "stream",
     "text": [
      "\n",
      " 70%|███████   | 14/20 [00:38<00:18,  3.16s/it]\u001b[A"
     ]
    },
    {
     "name": "stdout",
     "output_type": "stream",
     "text": [
      "attribute error:\n",
      "'NoneType' object has no attribute 'text'\n"
     ]
    },
    {
     "name": "stderr",
     "output_type": "stream",
     "text": [
      "\n",
      " 75%|███████▌  | 15/20 [00:44<00:20,  4.04s/it]\u001b[A\n",
      " 80%|████████  | 16/20 [00:47<00:14,  3.67s/it]\u001b[A\n",
      " 85%|████████▌ | 17/20 [00:51<00:11,  3.91s/it]\u001b[A\n",
      " 90%|█████████ | 18/20 [00:57<00:08,  4.34s/it]\u001b[A\n",
      " 95%|█████████▌| 19/20 [01:02<00:04,  4.64s/it]\u001b[A\n",
      "100%|██████████| 20/20 [01:06<00:00,  3.31s/it]\u001b[A\n",
      "\n",
      "  0%|          | 0/12 [00:00<?, ?it/s]\u001b[A\n",
      "  8%|▊         | 1/12 [00:02<00:22,  2.05s/it]\u001b[A\n",
      " 17%|█▋        | 2/12 [00:05<00:24,  2.44s/it]\u001b[A\n",
      " 25%|██▌       | 3/12 [00:07<00:20,  2.27s/it]\u001b[A\n",
      " 33%|███▎      | 4/12 [00:09<00:17,  2.16s/it]\u001b[A\n",
      " 42%|████▏     | 5/12 [00:13<00:18,  2.68s/it]\u001b[A"
     ]
    },
    {
     "name": "stdout",
     "output_type": "stream",
     "text": [
      "attribute error:\n",
      "'NoneType' object has no attribute 'text'\n"
     ]
    },
    {
     "name": "stderr",
     "output_type": "stream",
     "text": [
      "\n",
      " 50%|█████     | 6/12 [00:14<00:13,  2.19s/it]\u001b[A\n",
      " 58%|█████▊    | 7/12 [00:17<00:13,  2.68s/it]\u001b[A"
     ]
    },
    {
     "name": "stdout",
     "output_type": "stream",
     "text": [
      "attribute error:\n",
      "'NoneType' object has no attribute 'text'\n"
     ]
    },
    {
     "name": "stderr",
     "output_type": "stream",
     "text": [
      "\n",
      " 67%|██████▋   | 8/12 [00:19<00:08,  2.23s/it]\u001b[A\n",
      " 75%|███████▌  | 9/12 [00:23<00:08,  2.75s/it]\u001b[A\n",
      " 83%|████████▎ | 10/12 [00:35<00:11,  5.79s/it]\u001b[A\n",
      " 92%|█████████▏| 11/12 [00:40<00:05,  5.34s/it]\u001b[A\n",
      "100%|██████████| 12/12 [00:43<00:00,  3.66s/it]\u001b[A\n",
      " 46%|████▌     | 23/50 [51:09<1:16:29, 169.99s/it]\n",
      "  0%|          | 0/20 [00:00<?, ?it/s]\u001b[A"
     ]
    },
    {
     "name": "stdout",
     "output_type": "stream",
     "text": [
      "attribute error:\n",
      "'NoneType' object has no attribute 'text'\n"
     ]
    },
    {
     "name": "stderr",
     "output_type": "stream",
     "text": [
      "\n",
      "  5%|▌         | 1/20 [00:02<00:54,  2.88s/it]\u001b[A\n",
      " 10%|█         | 2/20 [00:06<00:57,  3.21s/it]\u001b[A\n",
      " 15%|█▌        | 3/20 [00:08<00:45,  2.68s/it]\u001b[A\n",
      " 20%|██        | 4/20 [00:10<00:40,  2.56s/it]\u001b[A\n",
      " 25%|██▌       | 5/20 [00:12<00:36,  2.41s/it]\u001b[A\n",
      " 30%|███       | 6/20 [00:20<00:57,  4.09s/it]\u001b[A\n",
      " 35%|███▌      | 7/20 [00:25<00:54,  4.22s/it]\u001b[A\n",
      " 40%|████      | 8/20 [00:29<00:52,  4.38s/it]\u001b[A\n",
      " 45%|████▌     | 9/20 [00:37<00:57,  5.19s/it]\u001b[A\n",
      " 50%|█████     | 10/20 [00:39<00:43,  4.38s/it]\u001b[A\n",
      " 55%|█████▌    | 11/20 [00:41<00:31,  3.53s/it]\u001b[A\n",
      " 60%|██████    | 12/20 [00:42<00:23,  2.96s/it]\u001b[A\n",
      " 65%|██████▌   | 13/20 [00:46<00:23,  3.30s/it]\u001b[A\n",
      " 70%|███████   | 14/20 [00:51<00:21,  3.66s/it]\u001b[A\n",
      " 75%|███████▌  | 15/20 [00:53<00:16,  3.34s/it]\u001b[A\n",
      " 80%|████████  | 16/20 [00:58<00:14,  3.68s/it]\u001b[A\n",
      " 85%|████████▌ | 17/20 [01:01<00:10,  3.67s/it]\u001b[A\n",
      " 90%|█████████ | 18/20 [01:10<00:10,  5.01s/it]\u001b[A\n",
      " 95%|█████████▌| 19/20 [01:12<00:04,  4.18s/it]\u001b[A\n",
      "100%|██████████| 20/20 [01:16<00:00,  3.82s/it]\u001b[A\n",
      "\n",
      "  0%|          | 0/15 [00:00<?, ?it/s]\u001b[A\n",
      "  7%|▋         | 1/15 [00:01<00:23,  1.70s/it]\u001b[A\n",
      " 13%|█▎        | 2/15 [00:03<00:22,  1.74s/it]\u001b[A\n",
      " 20%|██        | 3/15 [00:07<00:27,  2.26s/it]\u001b[A\n",
      " 27%|██▋       | 4/15 [00:10<00:29,  2.66s/it]\u001b[A"
     ]
    },
    {
     "name": "stdout",
     "output_type": "stream",
     "text": [
      "attribute error:\n",
      "'NoneType' object has no attribute 'text'\n"
     ]
    },
    {
     "name": "stderr",
     "output_type": "stream",
     "text": [
      "\n",
      " 33%|███▎      | 5/15 [00:11<00:21,  2.14s/it]\u001b[A\n",
      " 40%|████      | 6/15 [00:17<00:29,  3.27s/it]\u001b[A\n",
      " 47%|████▋     | 7/15 [00:21<00:27,  3.40s/it]\u001b[A\n",
      " 53%|█████▎    | 8/15 [00:23<00:21,  3.10s/it]\u001b[A\n",
      " 60%|██████    | 9/15 [00:25<00:16,  2.71s/it]\u001b[A\n",
      " 67%|██████▋   | 10/15 [00:26<00:11,  2.39s/it]\u001b[A\n",
      " 73%|███████▎  | 11/15 [00:29<00:09,  2.30s/it]\u001b[A\n",
      " 80%|████████  | 12/15 [00:32<00:07,  2.65s/it]\u001b[A"
     ]
    },
    {
     "name": "stdout",
     "output_type": "stream",
     "text": [
      "attribute error:\n",
      "'NoneType' object has no attribute 'text'\n"
     ]
    },
    {
     "name": "stderr",
     "output_type": "stream",
     "text": [
      "\n",
      " 87%|████████▋ | 13/15 [00:37<00:06,  3.30s/it]\u001b[A\n",
      " 93%|█████████▎| 14/15 [00:40<00:03,  3.25s/it]\u001b[A\n",
      "100%|██████████| 15/15 [00:44<00:00,  2.96s/it]\u001b[A\n",
      "\n",
      "  0%|          | 0/14 [00:00<?, ?it/s]\u001b[A\n",
      "  7%|▋         | 1/14 [00:03<00:51,  3.95s/it]\u001b[A\n",
      " 14%|█▍        | 2/14 [00:05<00:38,  3.22s/it]\u001b[A\n",
      " 21%|██▏       | 3/14 [00:08<00:34,  3.10s/it]\u001b[A\n",
      " 29%|██▊       | 4/14 [00:10<00:27,  2.71s/it]\u001b[A\n",
      " 36%|███▌      | 5/14 [00:13<00:26,  2.91s/it]\u001b[A\n",
      " 43%|████▎     | 6/14 [00:17<00:25,  3.16s/it]\u001b[A\n",
      " 50%|█████     | 7/14 [00:19<00:20,  2.93s/it]\u001b[A\n",
      " 57%|█████▋    | 8/14 [00:21<00:15,  2.61s/it]\u001b[A\n",
      " 64%|██████▍   | 9/14 [00:23<00:11,  2.30s/it]\u001b[A\n",
      " 71%|███████▏  | 10/14 [00:23<00:06,  1.68s/it]\u001b[A\n",
      " 79%|███████▊  | 11/14 [00:24<00:04,  1.66s/it]\u001b[A\n",
      " 86%|████████▌ | 12/14 [00:26<00:03,  1.78s/it]\u001b[A\n",
      " 93%|█████████▎| 13/14 [00:28<00:01,  1.82s/it]\u001b[A\n",
      "100%|██████████| 14/14 [00:33<00:00,  2.39s/it]\u001b[A\n",
      "\n",
      "  0%|          | 0/14 [00:00<?, ?it/s]\u001b[A\n",
      "  7%|▋         | 1/14 [00:04<00:52,  4.02s/it]\u001b[A\n",
      " 14%|█▍        | 2/14 [00:06<00:41,  3.46s/it]\u001b[A\n",
      " 21%|██▏       | 3/14 [00:10<00:39,  3.63s/it]\u001b[A\n",
      " 29%|██▊       | 4/14 [00:11<00:30,  3.07s/it]\u001b[A\n",
      " 36%|███▌      | 5/14 [00:16<00:30,  3.42s/it]\u001b[A\n",
      " 43%|████▎     | 6/14 [00:17<00:23,  2.91s/it]\u001b[A\n",
      " 50%|█████     | 7/14 [00:21<00:21,  3.11s/it]\u001b[A\n",
      " 57%|█████▋    | 8/14 [00:24<00:18,  3.12s/it]\u001b[A"
     ]
    },
    {
     "name": "stdout",
     "output_type": "stream",
     "text": [
      "attribute error:\n",
      "'NoneType' object has no attribute 'text'\n"
     ]
    },
    {
     "name": "stderr",
     "output_type": "stream",
     "text": [
      "\n",
      " 64%|██████▍   | 9/14 [00:27<00:15,  3.09s/it]\u001b[A\n",
      " 71%|███████▏  | 10/14 [00:31<00:13,  3.26s/it]\u001b[A\n",
      " 79%|███████▊  | 11/14 [00:31<00:07,  2.35s/it]\u001b[A\n",
      " 86%|████████▌ | 12/14 [00:33<00:04,  2.22s/it]\u001b[A\n",
      " 93%|█████████▎| 13/14 [00:37<00:02,  2.65s/it]\u001b[A"
     ]
    },
    {
     "name": "stdout",
     "output_type": "stream",
     "text": [
      "attribute error:\n",
      "'NoneType' object has no attribute 'text'\n"
     ]
    },
    {
     "name": "stderr",
     "output_type": "stream",
     "text": [
      "\n",
      "100%|██████████| 14/14 [00:37<00:00,  2.67s/it]\u001b[A\n",
      "\n",
      "  0%|          | 0/15 [00:00<?, ?it/s]\u001b[A\n",
      "  7%|▋         | 1/15 [00:04<01:05,  4.68s/it]\u001b[A\n",
      " 13%|█▎        | 2/15 [00:08<00:55,  4.29s/it]\u001b[A\n",
      " 20%|██        | 3/15 [00:08<00:39,  3.27s/it]\u001b[A\n",
      " 27%|██▋       | 4/15 [00:12<00:36,  3.32s/it]\u001b[A\n",
      " 33%|███▎      | 5/15 [00:14<00:30,  3.05s/it]\u001b[A\n",
      " 40%|████      | 6/15 [00:16<00:23,  2.64s/it]\u001b[A\n",
      " 47%|████▋     | 7/15 [00:17<00:16,  2.12s/it]\u001b[A\n",
      " 53%|█████▎    | 8/15 [00:20<00:17,  2.45s/it]\u001b[A"
     ]
    },
    {
     "name": "stdout",
     "output_type": "stream",
     "text": [
      "attribute error:\n",
      "'NoneType' object has no attribute 'text'\n"
     ]
    },
    {
     "name": "stderr",
     "output_type": "stream",
     "text": [
      "\n",
      " 60%|██████    | 9/15 [00:22<00:13,  2.22s/it]\u001b[A\n",
      " 67%|██████▋   | 10/15 [00:24<00:10,  2.08s/it]\u001b[A\n",
      " 73%|███████▎  | 11/15 [00:25<00:07,  1.90s/it]\u001b[A\n",
      " 80%|████████  | 12/15 [00:27<00:05,  1.89s/it]\u001b[A\n",
      " 87%|████████▋ | 13/15 [00:28<00:03,  1.78s/it]\u001b[A\n",
      " 93%|█████████▎| 14/15 [00:30<00:01,  1.71s/it]\u001b[A\n",
      "100%|██████████| 15/15 [00:31<00:00,  2.07s/it]\u001b[A\n",
      " 48%|████▊     | 24/50 [54:52<1:20:31, 185.83s/it]\n",
      "  0%|          | 0/19 [00:00<?, ?it/s]\u001b[A\n",
      "  5%|▌         | 1/19 [00:02<00:43,  2.43s/it]\u001b[A\n",
      " 11%|█         | 2/19 [00:05<00:46,  2.71s/it]\u001b[A\n",
      " 16%|█▌        | 3/19 [00:07<00:37,  2.36s/it]\u001b[A\n",
      " 21%|██        | 4/19 [00:08<00:29,  1.94s/it]\u001b[A\n",
      " 26%|██▋       | 5/19 [00:10<00:26,  1.90s/it]\u001b[A\n",
      " 32%|███▏      | 6/19 [00:12<00:26,  2.07s/it]\u001b[A\n",
      " 37%|███▋      | 7/19 [00:15<00:26,  2.22s/it]\u001b[A\n",
      " 42%|████▏     | 8/19 [00:16<00:20,  1.83s/it]\u001b[A\n",
      " 47%|████▋     | 9/19 [00:18<00:20,  2.00s/it]\u001b[A"
     ]
    },
    {
     "name": "stdout",
     "output_type": "stream",
     "text": [
      "attribute error:\n",
      "'NoneType' object has no attribute 'text'\n"
     ]
    },
    {
     "name": "stderr",
     "output_type": "stream",
     "text": [
      "\n",
      " 53%|█████▎    | 10/19 [00:22<00:23,  2.63s/it]\u001b[A\n",
      " 58%|█████▊    | 11/19 [00:25<00:22,  2.81s/it]\u001b[A\n",
      " 63%|██████▎   | 12/19 [00:29<00:20,  2.94s/it]\u001b[A\n",
      " 68%|██████▊   | 13/19 [00:31<00:15,  2.66s/it]\u001b[A\n",
      " 74%|███████▎  | 14/19 [00:31<00:10,  2.13s/it]\u001b[A\n",
      " 79%|███████▉  | 15/19 [00:34<00:08,  2.13s/it]\u001b[A\n",
      " 84%|████████▍ | 16/19 [00:37<00:07,  2.52s/it]\u001b[A\n",
      " 89%|████████▉ | 17/19 [00:38<00:04,  2.05s/it]\u001b[A\n",
      " 95%|█████████▍| 18/19 [00:41<00:02,  2.47s/it]\u001b[A\n",
      "100%|██████████| 19/19 [00:42<00:00,  2.23s/it]\u001b[A\n",
      "\n",
      "  0%|          | 0/19 [00:00<?, ?it/s]\u001b[A\n",
      "  5%|▌         | 1/19 [00:01<00:32,  1.83s/it]\u001b[A\n",
      " 11%|█         | 2/19 [00:02<00:22,  1.35s/it]\u001b[A\n",
      " 16%|█▌        | 3/19 [00:04<00:26,  1.66s/it]\u001b[A\n",
      " 21%|██        | 4/19 [00:04<00:18,  1.23s/it]\u001b[A\n",
      " 26%|██▋       | 5/19 [00:12<00:45,  3.24s/it]\u001b[A"
     ]
    },
    {
     "name": "stdout",
     "output_type": "stream",
     "text": [
      "attribute error:\n",
      "'NoneType' object has no attribute 'text'\n"
     ]
    },
    {
     "name": "stderr",
     "output_type": "stream",
     "text": [
      "\n",
      " 32%|███▏      | 6/19 [00:15<00:39,  3.00s/it]\u001b[A"
     ]
    },
    {
     "name": "stdout",
     "output_type": "stream",
     "text": [
      "attribute error:\n",
      "'NoneType' object has no attribute 'text'\n"
     ]
    },
    {
     "name": "stderr",
     "output_type": "stream",
     "text": [
      "\n",
      " 37%|███▋      | 7/19 [00:15<00:26,  2.23s/it]\u001b[A\n",
      " 42%|████▏     | 8/19 [00:17<00:24,  2.24s/it]\u001b[A\n",
      " 47%|████▋     | 9/19 [00:19<00:19,  1.95s/it]\u001b[A\n",
      " 53%|█████▎    | 10/19 [00:19<00:12,  1.44s/it]\u001b[A\n",
      " 58%|█████▊    | 11/19 [00:19<00:08,  1.08s/it]\u001b[A\n",
      " 63%|██████▎   | 12/19 [00:19<00:06,  1.12it/s]\u001b[A\n",
      " 68%|██████▊   | 13/19 [00:23<00:09,  1.56s/it]\u001b[A"
     ]
    },
    {
     "name": "stdout",
     "output_type": "stream",
     "text": [
      "attribute error:\n",
      "'NoneType' object has no attribute 'text'\n"
     ]
    },
    {
     "name": "stderr",
     "output_type": "stream",
     "text": [
      "\n",
      " 74%|███████▎  | 14/19 [00:25<00:09,  1.87s/it]\u001b[A\n",
      " 79%|███████▉  | 15/19 [00:29<00:09,  2.35s/it]\u001b[A"
     ]
    },
    {
     "name": "stdout",
     "output_type": "stream",
     "text": [
      "attribute error:\n",
      "'NoneType' object has no attribute 'text'\n"
     ]
    },
    {
     "name": "stderr",
     "output_type": "stream",
     "text": [
      "\n",
      " 84%|████████▍ | 16/19 [00:29<00:05,  1.72s/it]\u001b[A\n",
      " 89%|████████▉ | 17/19 [00:30<00:03,  1.67s/it]\u001b[A\n",
      " 95%|█████████▍| 18/19 [00:31<00:01,  1.24s/it]\u001b[A\n",
      "100%|██████████| 19/19 [00:31<00:00,  1.65s/it]\u001b[A\n",
      "\n",
      "  0%|          | 0/14 [00:00<?, ?it/s]\u001b[A\n",
      "  7%|▋         | 1/14 [00:03<00:39,  3.05s/it]\u001b[A\n",
      " 14%|█▍        | 2/14 [00:05<00:33,  2.81s/it]\u001b[A\n",
      " 21%|██▏       | 3/14 [00:06<00:25,  2.28s/it]\u001b[A\n",
      " 29%|██▊       | 4/14 [00:10<00:28,  2.88s/it]\u001b[A\n",
      " 36%|███▌      | 5/14 [00:11<00:20,  2.29s/it]\u001b[A\n",
      " 43%|████▎     | 6/14 [00:14<00:18,  2.36s/it]\u001b[A"
     ]
    },
    {
     "name": "stdout",
     "output_type": "stream",
     "text": [
      "attribute error:\n",
      "'NoneType' object has no attribute 'text'\n"
     ]
    },
    {
     "name": "stderr",
     "output_type": "stream",
     "text": [
      "\n",
      " 50%|█████     | 7/14 [00:17<00:18,  2.66s/it]\u001b[A\n",
      " 57%|█████▋    | 8/14 [00:18<00:12,  2.13s/it]\u001b[A\n",
      " 64%|██████▍   | 9/14 [00:22<00:14,  2.88s/it]\u001b[A\n",
      " 71%|███████▏  | 10/14 [00:24<00:09,  2.48s/it]\u001b[A"
     ]
    },
    {
     "name": "stdout",
     "output_type": "stream",
     "text": [
      "attribute error:\n",
      "'NoneType' object has no attribute 'text'\n"
     ]
    },
    {
     "name": "stderr",
     "output_type": "stream",
     "text": [
      "\n",
      " 79%|███████▊  | 11/14 [00:25<00:06,  2.09s/it]\u001b[A\n",
      " 86%|████████▌ | 12/14 [00:26<00:03,  1.75s/it]\u001b[A\n",
      " 93%|█████████▎| 13/14 [00:30<00:02,  2.25s/it]\u001b[A"
     ]
    },
    {
     "name": "stdout",
     "output_type": "stream",
     "text": [
      "attribute error:\n",
      "'NoneType' object has no attribute 'text'\n"
     ]
    },
    {
     "name": "stderr",
     "output_type": "stream",
     "text": [
      "\n",
      "100%|██████████| 14/14 [00:31<00:00,  2.27s/it]\u001b[A\n",
      "\n",
      "  0%|          | 0/16 [00:00<?, ?it/s]\u001b[A\n",
      "  6%|▋         | 1/16 [00:03<00:56,  3.74s/it]\u001b[A\n",
      " 12%|█▎        | 2/16 [00:04<00:40,  2.90s/it]\u001b[A\n",
      " 19%|█▉        | 3/16 [00:11<00:54,  4.19s/it]\u001b[A\n",
      " 25%|██▌       | 4/16 [00:12<00:38,  3.22s/it]\u001b[A\n",
      " 31%|███▏      | 5/16 [00:14<00:31,  2.88s/it]\u001b[A\n",
      " 38%|███▊      | 6/16 [00:16<00:23,  2.36s/it]\u001b[A\n",
      " 44%|████▍     | 7/16 [00:17<00:17,  1.93s/it]\u001b[A\n",
      " 50%|█████     | 8/16 [00:20<00:18,  2.35s/it]\u001b[A\n",
      " 56%|█████▋    | 9/16 [00:21<00:13,  1.92s/it]\u001b[A\n",
      " 62%|██████▎   | 10/16 [00:25<00:15,  2.53s/it]\u001b[A"
     ]
    },
    {
     "name": "stdout",
     "output_type": "stream",
     "text": [
      "attribute error:\n",
      "'NoneType' object has no attribute 'text'\n"
     ]
    },
    {
     "name": "stderr",
     "output_type": "stream",
     "text": [
      "\n",
      " 69%|██████▉   | 11/16 [00:26<00:10,  2.06s/it]\u001b[A\n",
      " 75%|███████▌  | 12/16 [00:27<00:06,  1.71s/it]\u001b[A\n",
      " 81%|████████▏ | 13/16 [00:28<00:04,  1.48s/it]\u001b[A\n",
      " 88%|████████▊ | 14/16 [00:31<00:03,  1.96s/it]\u001b[A\n",
      " 94%|█████████▍| 15/16 [00:40<00:04,  4.28s/it]\u001b[A"
     ]
    },
    {
     "name": "stdout",
     "output_type": "stream",
     "text": [
      "attribute error:\n",
      "'NoneType' object has no attribute 'text'\n"
     ]
    },
    {
     "name": "stderr",
     "output_type": "stream",
     "text": [
      "\n",
      "100%|██████████| 16/16 [00:41<00:00,  2.61s/it]\u001b[A\n",
      "\n",
      "  0%|          | 0/13 [00:00<?, ?it/s]\u001b[A\n",
      "  8%|▊         | 1/13 [00:00<00:10,  1.19it/s]\u001b[A"
     ]
    },
    {
     "name": "stdout",
     "output_type": "stream",
     "text": [
      "attribute error:\n",
      "'NoneType' object has no attribute 'text'\n"
     ]
    },
    {
     "name": "stderr",
     "output_type": "stream",
     "text": [
      "\n",
      " 15%|█▌        | 2/13 [00:03<00:16,  1.51s/it]\u001b[A\n",
      " 23%|██▎       | 3/13 [00:04<00:13,  1.36s/it]\u001b[A\n",
      " 31%|███       | 4/13 [00:07<00:15,  1.77s/it]\u001b[A\n",
      " 38%|███▊      | 5/13 [00:08<00:12,  1.52s/it]\u001b[A\n",
      " 46%|████▌     | 6/13 [00:09<00:09,  1.34s/it]\u001b[A\n",
      " 54%|█████▍    | 7/13 [00:10<00:07,  1.22s/it]\u001b[A\n",
      " 62%|██████▏   | 8/13 [00:12<00:07,  1.49s/it]\u001b[A"
     ]
    },
    {
     "name": "stdout",
     "output_type": "stream",
     "text": [
      "attribute error:\n",
      "'NoneType' object has no attribute 'text'\n"
     ]
    },
    {
     "name": "stderr",
     "output_type": "stream",
     "text": [
      "\n",
      " 69%|██████▉   | 9/13 [00:15<00:07,  1.79s/it]\u001b[A\n",
      " 77%|███████▋  | 10/13 [00:16<00:05,  1.71s/it]\u001b[A\n",
      " 85%|████████▍ | 11/13 [00:19<00:04,  2.15s/it]\u001b[A\n",
      " 92%|█████████▏| 12/13 [00:20<00:01,  1.84s/it]\u001b[A\n",
      "100%|██████████| 13/13 [00:23<00:00,  1.80s/it]\u001b[A\n",
      " 50%|█████     | 25/50 [57:43<1:15:33, 181.34s/it]\n",
      "  0%|          | 0/19 [00:00<?, ?it/s]\u001b[A\n",
      "  5%|▌         | 1/19 [00:03<01:04,  3.57s/it]\u001b[A"
     ]
    },
    {
     "name": "stdout",
     "output_type": "stream",
     "text": [
      "attribute error:\n",
      "'NoneType' object has no attribute 'text'\n"
     ]
    },
    {
     "name": "stderr",
     "output_type": "stream",
     "text": [
      "\n",
      " 11%|█         | 2/19 [00:06<00:58,  3.45s/it]\u001b[A"
     ]
    },
    {
     "name": "stdout",
     "output_type": "stream",
     "text": [
      "attribute error:\n",
      "'NoneType' object has no attribute 'text'\n"
     ]
    },
    {
     "name": "stderr",
     "output_type": "stream",
     "text": [
      "\n",
      " 16%|█▌        | 3/19 [00:10<00:55,  3.49s/it]\u001b[A"
     ]
    },
    {
     "name": "stdout",
     "output_type": "stream",
     "text": [
      "attribute error:\n",
      "'NoneType' object has no attribute 'text'\n"
     ]
    },
    {
     "name": "stderr",
     "output_type": "stream",
     "text": [
      "\n",
      " 21%|██        | 4/19 [00:14<00:54,  3.64s/it]\u001b[A"
     ]
    },
    {
     "name": "stdout",
     "output_type": "stream",
     "text": [
      "attribute error:\n",
      "'NoneType' object has no attribute 'text'\n"
     ]
    },
    {
     "name": "stderr",
     "output_type": "stream",
     "text": [
      "\n",
      " 26%|██▋       | 5/19 [00:17<00:49,  3.52s/it]\u001b[A"
     ]
    },
    {
     "name": "stdout",
     "output_type": "stream",
     "text": [
      "attribute error:\n",
      "'NoneType' object has no attribute 'text'\n"
     ]
    },
    {
     "name": "stderr",
     "output_type": "stream",
     "text": [
      "\n",
      " 32%|███▏      | 6/19 [00:20<00:44,  3.43s/it]\u001b[A"
     ]
    },
    {
     "name": "stdout",
     "output_type": "stream",
     "text": [
      "attribute error:\n",
      "'NoneType' object has no attribute 'text'\n"
     ]
    },
    {
     "name": "stderr",
     "output_type": "stream",
     "text": [
      "\n",
      " 37%|███▋      | 7/19 [00:24<00:43,  3.60s/it]\u001b[A"
     ]
    },
    {
     "name": "stdout",
     "output_type": "stream",
     "text": [
      "attribute error:\n",
      "'NoneType' object has no attribute 'text'\n"
     ]
    },
    {
     "name": "stderr",
     "output_type": "stream",
     "text": [
      "\n",
      " 42%|████▏     | 8/19 [00:28<00:38,  3.50s/it]\u001b[A"
     ]
    },
    {
     "name": "stdout",
     "output_type": "stream",
     "text": [
      "attribute error:\n",
      "'NoneType' object has no attribute 'text'\n"
     ]
    },
    {
     "name": "stderr",
     "output_type": "stream",
     "text": [
      "\n",
      " 47%|████▋     | 9/19 [00:31<00:34,  3.49s/it]\u001b[A"
     ]
    },
    {
     "name": "stdout",
     "output_type": "stream",
     "text": [
      "attribute error:\n",
      "'NoneType' object has no attribute 'text'\n"
     ]
    },
    {
     "name": "stderr",
     "output_type": "stream",
     "text": [
      "\n",
      " 53%|█████▎    | 10/19 [00:35<00:31,  3.55s/it]\u001b[A"
     ]
    },
    {
     "name": "stdout",
     "output_type": "stream",
     "text": [
      "attribute error:\n",
      "'NoneType' object has no attribute 'text'\n"
     ]
    },
    {
     "name": "stderr",
     "output_type": "stream",
     "text": [
      "\n",
      " 58%|█████▊    | 11/19 [00:40<00:33,  4.15s/it]\u001b[A"
     ]
    },
    {
     "name": "stdout",
     "output_type": "stream",
     "text": [
      "attribute error:\n",
      "'NoneType' object has no attribute 'text'\n"
     ]
    },
    {
     "name": "stderr",
     "output_type": "stream",
     "text": [
      "\n",
      " 63%|██████▎   | 12/19 [00:44<00:28,  4.01s/it]\u001b[A"
     ]
    },
    {
     "name": "stdout",
     "output_type": "stream",
     "text": [
      "attribute error:\n",
      "'NoneType' object has no attribute 'text'\n"
     ]
    },
    {
     "name": "stderr",
     "output_type": "stream",
     "text": [
      "\n",
      " 68%|██████▊   | 13/19 [00:47<00:22,  3.75s/it]\u001b[A"
     ]
    },
    {
     "name": "stdout",
     "output_type": "stream",
     "text": [
      "attribute error:\n",
      "'NoneType' object has no attribute 'text'\n"
     ]
    },
    {
     "name": "stderr",
     "output_type": "stream",
     "text": [
      "\n",
      " 74%|███████▎  | 14/19 [00:51<00:19,  3.80s/it]\u001b[A"
     ]
    },
    {
     "name": "stdout",
     "output_type": "stream",
     "text": [
      "attribute error:\n",
      "'NoneType' object has no attribute 'text'\n"
     ]
    },
    {
     "name": "stderr",
     "output_type": "stream",
     "text": [
      "\n",
      " 79%|███████▉  | 15/19 [00:55<00:15,  3.77s/it]\u001b[A"
     ]
    },
    {
     "name": "stdout",
     "output_type": "stream",
     "text": [
      "attribute error:\n",
      "'NoneType' object has no attribute 'text'\n"
     ]
    },
    {
     "name": "stderr",
     "output_type": "stream",
     "text": [
      "\n",
      " 84%|████████▍ | 16/19 [00:59<00:11,  3.83s/it]\u001b[A"
     ]
    },
    {
     "name": "stdout",
     "output_type": "stream",
     "text": [
      "attribute error:\n",
      "'NoneType' object has no attribute 'text'\n",
      "Rogue exception: ('Connection aborted.', ConnectionResetError(54, 'Connection reset by peer'))\n"
     ]
    },
    {
     "name": "stderr",
     "output_type": "stream",
     "text": [
      "\n",
      " 89%|████████▉ | 17/19 [01:06<00:09,  4.89s/it]\u001b[A"
     ]
    },
    {
     "name": "stdout",
     "output_type": "stream",
     "text": [
      "attribute error:\n",
      "'NoneType' object has no attribute 'text'\n"
     ]
    },
    {
     "name": "stderr",
     "output_type": "stream",
     "text": [
      "\n",
      " 95%|█████████▍| 18/19 [01:10<00:04,  4.53s/it]\u001b[A"
     ]
    },
    {
     "name": "stdout",
     "output_type": "stream",
     "text": [
      "attribute error:\n",
      "'NoneType' object has no attribute 'text'\n"
     ]
    },
    {
     "name": "stderr",
     "output_type": "stream",
     "text": [
      "\n",
      "100%|██████████| 19/19 [01:13<00:00,  3.89s/it]\u001b[A\n",
      "\n",
      "  0%|          | 0/20 [00:00<?, ?it/s]\u001b[A"
     ]
    },
    {
     "name": "stdout",
     "output_type": "stream",
     "text": [
      "attribute error:\n",
      "'NoneType' object has no attribute 'text'\n"
     ]
    },
    {
     "name": "stderr",
     "output_type": "stream",
     "text": [
      "\n",
      "  5%|▌         | 1/20 [00:01<00:28,  1.51s/it]\u001b[A\n",
      " 10%|█         | 2/20 [00:05<00:38,  2.13s/it]\u001b[A\n",
      " 15%|█▌        | 3/20 [00:07<00:38,  2.24s/it]\u001b[A"
     ]
    },
    {
     "name": "stdout",
     "output_type": "stream",
     "text": [
      "attribute error:\n",
      "'NoneType' object has no attribute 'text'\n"
     ]
    },
    {
     "name": "stderr",
     "output_type": "stream",
     "text": [
      "\n",
      " 20%|██        | 4/20 [00:11<00:43,  2.71s/it]\u001b[A\n",
      " 25%|██▌       | 5/20 [00:15<00:45,  3.01s/it]\u001b[A"
     ]
    },
    {
     "name": "stdout",
     "output_type": "stream",
     "text": [
      "attribute error:\n",
      "'NoneType' object has no attribute 'text'\n"
     ]
    },
    {
     "name": "stderr",
     "output_type": "stream",
     "text": [
      "\n",
      " 30%|███       | 6/20 [00:16<00:37,  2.67s/it]\u001b[A\n",
      " 35%|███▌      | 7/20 [00:21<00:42,  3.24s/it]\u001b[A\n",
      " 40%|████      | 8/20 [00:23<00:34,  2.85s/it]\u001b[A\n",
      " 45%|████▌     | 9/20 [00:27<00:33,  3.07s/it]\u001b[A"
     ]
    },
    {
     "name": "stdout",
     "output_type": "stream",
     "text": [
      "attribute error:\n",
      "'NoneType' object has no attribute 'text'\n"
     ]
    },
    {
     "name": "stderr",
     "output_type": "stream",
     "text": [
      "\n",
      " 50%|█████     | 10/20 [00:30<00:31,  3.16s/it]\u001b[A"
     ]
    },
    {
     "name": "stdout",
     "output_type": "stream",
     "text": [
      "attribute error:\n",
      "'NoneType' object has no attribute 'text'\n"
     ]
    },
    {
     "name": "stderr",
     "output_type": "stream",
     "text": [
      "\n",
      " 55%|█████▌    | 11/20 [00:32<00:25,  2.81s/it]\u001b[A\n",
      " 60%|██████    | 12/20 [00:34<00:19,  2.50s/it]\u001b[A\n",
      " 65%|██████▌   | 13/20 [00:37<00:19,  2.74s/it]\u001b[A"
     ]
    },
    {
     "name": "stdout",
     "output_type": "stream",
     "text": [
      "attribute error:\n",
      "'NoneType' object has no attribute 'text'\n"
     ]
    },
    {
     "name": "stderr",
     "output_type": "stream",
     "text": [
      "\n",
      " 70%|███████   | 14/20 [00:42<00:20,  3.44s/it]\u001b[A\n",
      " 75%|███████▌  | 15/20 [00:44<00:15,  3.07s/it]\u001b[A\n",
      " 80%|████████  | 16/20 [00:46<00:10,  2.74s/it]\u001b[A\n",
      " 85%|████████▌ | 17/20 [00:49<00:08,  2.84s/it]\u001b[A"
     ]
    },
    {
     "name": "stdout",
     "output_type": "stream",
     "text": [
      "attribute error:\n",
      "'NoneType' object has no attribute 'text'\n"
     ]
    },
    {
     "name": "stderr",
     "output_type": "stream",
     "text": [
      "\n",
      " 90%|█████████ | 18/20 [00:51<00:05,  2.53s/it]\u001b[A\n",
      " 95%|█████████▌| 19/20 [00:53<00:02,  2.43s/it]\u001b[A\n",
      "100%|██████████| 20/20 [00:57<00:00,  2.89s/it]\u001b[A\n",
      "\n",
      "  0%|          | 0/20 [00:00<?, ?it/s]\u001b[A"
     ]
    },
    {
     "name": "stdout",
     "output_type": "stream",
     "text": [
      "attribute error:\n",
      "'NoneType' object has no attribute 'text'\n"
     ]
    },
    {
     "name": "stderr",
     "output_type": "stream",
     "text": [
      "\n",
      "  5%|▌         | 1/20 [00:02<00:41,  2.20s/it]\u001b[A\n",
      " 10%|█         | 2/20 [00:05<00:45,  2.55s/it]\u001b[A\n",
      " 15%|█▌        | 3/20 [00:07<00:42,  2.48s/it]\u001b[A\n",
      " 20%|██        | 4/20 [00:10<00:38,  2.43s/it]\u001b[A\n",
      " 25%|██▌       | 5/20 [00:13<00:40,  2.70s/it]\u001b[A\n",
      " 30%|███       | 6/20 [00:16<00:39,  2.85s/it]\u001b[A\n",
      " 35%|███▌      | 7/20 [00:19<00:36,  2.80s/it]\u001b[A\n",
      " 40%|████      | 8/20 [00:23<00:37,  3.14s/it]\u001b[A\n",
      " 45%|████▌     | 9/20 [00:25<00:30,  2.77s/it]\u001b[A\n",
      " 50%|█████     | 10/20 [00:27<00:25,  2.57s/it]\u001b[A\n",
      " 55%|█████▌    | 11/20 [00:29<00:22,  2.54s/it]\u001b[A\n",
      " 60%|██████    | 12/20 [00:31<00:17,  2.23s/it]\u001b[A\n",
      " 65%|██████▌   | 13/20 [00:33<00:15,  2.26s/it]\u001b[A\n",
      " 70%|███████   | 14/20 [00:34<00:10,  1.81s/it]\u001b[A\n",
      " 75%|███████▌  | 15/20 [00:36<00:09,  1.83s/it]\u001b[A\n",
      " 80%|████████  | 16/20 [00:40<00:09,  2.43s/it]\u001b[A\n",
      " 85%|████████▌ | 17/20 [00:42<00:06,  2.32s/it]\u001b[A\n",
      " 90%|█████████ | 18/20 [00:46<00:05,  2.94s/it]\u001b[A\n",
      " 95%|█████████▌| 19/20 [00:48<00:02,  2.73s/it]\u001b[A\n",
      "100%|██████████| 20/20 [00:53<00:00,  2.69s/it]\u001b[A\n",
      "\n",
      "  0%|          | 0/20 [00:00<?, ?it/s]\u001b[A\n",
      "  5%|▌         | 1/20 [00:02<00:50,  2.66s/it]\u001b[A"
     ]
    },
    {
     "name": "stdout",
     "output_type": "stream",
     "text": [
      "attribute error:\n",
      "'NoneType' object has no attribute 'text'\n"
     ]
    },
    {
     "name": "stderr",
     "output_type": "stream",
     "text": [
      "\n",
      " 10%|█         | 2/20 [00:05<00:47,  2.63s/it]\u001b[A\n",
      " 15%|█▌        | 3/20 [00:08<00:50,  2.94s/it]\u001b[A\n",
      " 20%|██        | 4/20 [00:10<00:42,  2.68s/it]\u001b[A\n",
      " 25%|██▌       | 5/20 [00:13<00:38,  2.55s/it]\u001b[A\n",
      " 30%|███       | 6/20 [00:16<00:38,  2.78s/it]\u001b[A\n",
      " 35%|███▌      | 7/20 [00:19<00:37,  2.87s/it]\u001b[A\n",
      " 40%|████      | 8/20 [00:21<00:30,  2.58s/it]\u001b[A\n",
      " 45%|████▌     | 9/20 [00:25<00:31,  2.90s/it]\u001b[A\n",
      " 50%|█████     | 10/20 [00:32<00:40,  4.08s/it]\u001b[A\n",
      " 55%|█████▌    | 11/20 [00:36<00:36,  4.09s/it]\u001b[A\n",
      " 60%|██████    | 12/20 [00:40<00:32,  4.10s/it]\u001b[A\n",
      " 65%|██████▌   | 13/20 [00:44<00:29,  4.19s/it]\u001b[A\n",
      " 70%|███████   | 14/20 [00:48<00:23,  3.99s/it]\u001b[A\n",
      " 75%|███████▌  | 15/20 [00:51<00:18,  3.79s/it]\u001b[A\n",
      " 80%|████████  | 16/20 [00:53<00:12,  3.15s/it]\u001b[A\n",
      " 85%|████████▌ | 17/20 [01:00<00:13,  4.47s/it]\u001b[A"
     ]
    },
    {
     "name": "stdout",
     "output_type": "stream",
     "text": [
      "attribute error:\n",
      "'NoneType' object has no attribute 'text'\n"
     ]
    },
    {
     "name": "stderr",
     "output_type": "stream",
     "text": [
      "\n",
      " 90%|█████████ | 18/20 [01:03<00:07,  3.83s/it]\u001b[A\n",
      " 95%|█████████▌| 19/20 [01:04<00:03,  3.21s/it]\u001b[A\n",
      "100%|██████████| 20/20 [01:08<00:00,  3.42s/it]\u001b[A\n",
      "\n",
      "  0%|          | 0/19 [00:00<?, ?it/s]\u001b[A"
     ]
    },
    {
     "name": "stdout",
     "output_type": "stream",
     "text": [
      "attribute error:\n",
      "'NoneType' object has no attribute 'text'\n"
     ]
    },
    {
     "name": "stderr",
     "output_type": "stream",
     "text": [
      "\n",
      "  5%|▌         | 1/19 [00:04<01:20,  4.47s/it]\u001b[A\n",
      " 11%|█         | 2/19 [00:09<01:20,  4.72s/it]\u001b[A\n",
      " 16%|█▌        | 3/19 [00:11<00:59,  3.73s/it]\u001b[A\n",
      " 21%|██        | 4/19 [00:14<00:52,  3.51s/it]\u001b[A\n",
      " 26%|██▋       | 5/19 [00:16<00:42,  3.05s/it]\u001b[A\n",
      " 32%|███▏      | 6/19 [00:20<00:42,  3.30s/it]\u001b[A\n",
      " 37%|███▋      | 7/19 [00:23<00:39,  3.30s/it]\u001b[A\n",
      " 42%|████▏     | 8/19 [00:25<00:32,  2.97s/it]\u001b[A\n",
      " 47%|████▋     | 9/19 [00:36<00:53,  5.34s/it]\u001b[A\n",
      " 53%|█████▎    | 10/19 [00:53<01:20,  8.95s/it]\u001b[A\n",
      " 58%|█████▊    | 11/19 [01:31<02:21, 17.69s/it]\u001b[A\n",
      " 63%|██████▎   | 12/19 [01:33<01:29, 12.85s/it]\u001b[A\n",
      " 68%|██████▊   | 13/19 [01:35<00:57,  9.55s/it]\u001b[A\n",
      " 74%|███████▎  | 14/19 [01:38<00:37,  7.54s/it]\u001b[A\n",
      " 79%|███████▉  | 15/19 [01:41<00:24,  6.21s/it]\u001b[A\n",
      " 84%|████████▍ | 16/19 [01:42<00:14,  4.80s/it]\u001b[A\n",
      " 89%|████████▉ | 17/19 [01:46<00:09,  4.57s/it]\u001b[A\n",
      " 95%|█████████▍| 18/19 [01:48<00:03,  3.67s/it]\u001b[A\n",
      "100%|██████████| 19/19 [01:51<00:00,  5.85s/it]\u001b[A\n",
      " 52%|█████▏    | 26/50 [1:03:48<1:34:34, 236.45s/it]\n",
      "  0%|          | 0/20 [00:00<?, ?it/s]\u001b[A\n",
      "  5%|▌         | 1/20 [00:02<00:52,  2.78s/it]\u001b[A\n",
      " 10%|█         | 2/20 [00:05<00:50,  2.82s/it]\u001b[A\n",
      " 15%|█▌        | 3/20 [00:10<00:58,  3.41s/it]\u001b[A\n",
      " 20%|██        | 4/20 [00:15<01:02,  3.91s/it]\u001b[A\n",
      " 25%|██▌       | 5/20 [00:17<00:50,  3.40s/it]\u001b[A\n",
      " 30%|███       | 6/20 [00:21<00:49,  3.55s/it]\u001b[A\n",
      " 35%|███▌      | 7/20 [00:23<00:38,  2.96s/it]\u001b[A\n",
      " 40%|████      | 8/20 [00:26<00:35,  2.98s/it]\u001b[A\n",
      " 45%|████▌     | 9/20 [00:28<00:29,  2.66s/it]\u001b[A\n",
      " 50%|█████     | 10/20 [00:30<00:25,  2.53s/it]\u001b[A\n",
      " 55%|█████▌    | 11/20 [00:35<00:28,  3.21s/it]\u001b[A\n",
      " 60%|██████    | 12/20 [00:38<00:24,  3.11s/it]\u001b[A\n",
      " 65%|██████▌   | 13/20 [00:41<00:22,  3.14s/it]\u001b[A"
     ]
    },
    {
     "name": "stdout",
     "output_type": "stream",
     "text": [
      "attribute error:\n",
      "'NoneType' object has no attribute 'text'\n"
     ]
    },
    {
     "name": "stderr",
     "output_type": "stream",
     "text": [
      "\n",
      " 70%|███████   | 14/20 [00:45<00:19,  3.31s/it]\u001b[A\n",
      " 75%|███████▌  | 15/20 [00:48<00:16,  3.23s/it]\u001b[A\n",
      " 80%|████████  | 16/20 [00:50<00:11,  2.91s/it]\u001b[A\n",
      " 85%|████████▌ | 17/20 [00:52<00:08,  2.87s/it]\u001b[A\n",
      " 90%|█████████ | 18/20 [00:56<00:05,  2.94s/it]\u001b[A\n",
      " 95%|█████████▌| 19/20 [00:57<00:02,  2.55s/it]\u001b[A\n",
      "100%|██████████| 20/20 [01:04<00:00,  3.20s/it]\u001b[A\n",
      "\n",
      "  0%|          | 0/17 [00:00<?, ?it/s]\u001b[A\n",
      "  6%|▌         | 1/17 [00:02<00:44,  2.76s/it]\u001b[A\n",
      " 12%|█▏        | 2/17 [00:07<00:49,  3.31s/it]\u001b[A\n",
      " 18%|█▊        | 3/17 [00:10<00:46,  3.33s/it]\u001b[A\n",
      " 24%|██▎       | 4/17 [00:12<00:36,  2.79s/it]\u001b[A\n",
      " 29%|██▉       | 5/17 [00:15<00:35,  2.97s/it]\u001b[A\n",
      " 35%|███▌      | 6/17 [00:17<00:29,  2.64s/it]\u001b[A\n",
      " 41%|████      | 7/17 [00:20<00:27,  2.76s/it]\u001b[A\n",
      " 47%|████▋     | 8/17 [00:23<00:24,  2.67s/it]\u001b[A\n",
      " 53%|█████▎    | 9/17 [00:27<00:24,  3.07s/it]\u001b[A\n",
      " 59%|█████▉    | 10/17 [00:28<00:18,  2.70s/it]\u001b[A\n",
      " 65%|██████▍   | 11/17 [00:32<00:17,  2.91s/it]\u001b[A\n",
      " 71%|███████   | 12/17 [00:35<00:14,  2.89s/it]\u001b[A\n",
      " 76%|███████▋  | 13/17 [00:38<00:12,  3.03s/it]\u001b[A"
     ]
    },
    {
     "name": "stdout",
     "output_type": "stream",
     "text": [
      "attribute error:\n",
      "'NoneType' object has no attribute 'text'\n"
     ]
    },
    {
     "name": "stderr",
     "output_type": "stream",
     "text": [
      "\n",
      " 82%|████████▏ | 14/17 [00:41<00:09,  3.03s/it]\u001b[A\n",
      " 88%|████████▊ | 15/17 [00:44<00:06,  3.01s/it]\u001b[A\n",
      " 94%|█████████▍| 16/17 [00:46<00:02,  2.62s/it]\u001b[A\n",
      "100%|██████████| 17/17 [00:49<00:00,  2.91s/it]\u001b[A\n",
      "\n",
      "  0%|          | 0/18 [00:00<?, ?it/s]\u001b[A"
     ]
    },
    {
     "name": "stdout",
     "output_type": "stream",
     "text": [
      "attribute error:\n",
      "'NoneType' object has no attribute 'text'\n"
     ]
    },
    {
     "name": "stderr",
     "output_type": "stream",
     "text": [
      "\n",
      "  6%|▌         | 1/18 [00:01<00:26,  1.57s/it]\u001b[A\n",
      " 11%|█         | 2/18 [00:05<00:35,  2.21s/it]\u001b[A"
     ]
    },
    {
     "name": "stdout",
     "output_type": "stream",
     "text": [
      "attribute error:\n",
      "'NoneType' object has no attribute 'text'\n"
     ]
    },
    {
     "name": "stderr",
     "output_type": "stream",
     "text": [
      "\n",
      " 17%|█▋        | 3/18 [00:06<00:30,  2.06s/it]\u001b[A\n",
      " 22%|██▏       | 4/18 [00:09<00:30,  2.20s/it]\u001b[A\n",
      " 28%|██▊       | 5/18 [00:14<00:38,  2.94s/it]\u001b[A\n",
      " 33%|███▎      | 6/18 [00:18<00:41,  3.45s/it]\u001b[A\n",
      " 39%|███▉      | 7/18 [00:21<00:34,  3.14s/it]\u001b[A\n",
      " 44%|████▍     | 8/18 [00:23<00:28,  2.84s/it]\u001b[A\n",
      " 50%|█████     | 9/18 [00:26<00:27,  3.01s/it]\u001b[A\n",
      " 56%|█████▌    | 10/18 [00:30<00:26,  3.29s/it]\u001b[A"
     ]
    },
    {
     "name": "stdout",
     "output_type": "stream",
     "text": [
      "attribute error:\n",
      "'NoneType' object has no attribute 'text'\n"
     ]
    },
    {
     "name": "stderr",
     "output_type": "stream",
     "text": [
      "\n",
      " 61%|██████    | 11/18 [00:32<00:20,  2.96s/it]\u001b[A\n",
      " 67%|██████▋   | 12/18 [00:38<00:22,  3.73s/it]\u001b[A\n",
      " 72%|███████▏  | 13/18 [00:41<00:17,  3.43s/it]\u001b[A\n",
      " 78%|███████▊  | 14/18 [00:44<00:14,  3.51s/it]\u001b[A\n",
      " 83%|████████▎ | 15/18 [00:47<00:09,  3.30s/it]\u001b[A\n",
      " 89%|████████▉ | 16/18 [00:51<00:06,  3.31s/it]\u001b[A\n",
      " 94%|█████████▍| 17/18 [00:54<00:03,  3.24s/it]\u001b[A\n",
      "100%|██████████| 18/18 [00:55<00:00,  3.09s/it]\u001b[A\n",
      "\n",
      "  0%|          | 0/18 [00:00<?, ?it/s]\u001b[A"
     ]
    },
    {
     "name": "stdout",
     "output_type": "stream",
     "text": [
      "attribute error:\n",
      "'NoneType' object has no attribute 'text'\n"
     ]
    },
    {
     "name": "stderr",
     "output_type": "stream",
     "text": [
      "\n",
      "  6%|▌         | 1/18 [00:03<00:55,  3.26s/it]\u001b[A\n",
      " 11%|█         | 2/18 [00:04<00:44,  2.79s/it]\u001b[A"
     ]
    },
    {
     "name": "stdout",
     "output_type": "stream",
     "text": [
      "attribute error:\n",
      "'NoneType' object has no attribute 'text'\n"
     ]
    },
    {
     "name": "stderr",
     "output_type": "stream",
     "text": [
      "\n",
      " 17%|█▋        | 3/18 [00:07<00:40,  2.71s/it]\u001b[A\n",
      " 22%|██▏       | 4/18 [00:10<00:40,  2.87s/it]\u001b[A"
     ]
    },
    {
     "name": "stdout",
     "output_type": "stream",
     "text": [
      "attribute error:\n",
      "'NoneType' object has no attribute 'text'\n"
     ]
    },
    {
     "name": "stderr",
     "output_type": "stream",
     "text": [
      "\n",
      " 28%|██▊       | 5/18 [00:13<00:38,  2.94s/it]\u001b[A"
     ]
    },
    {
     "name": "stdout",
     "output_type": "stream",
     "text": [
      "attribute error:\n",
      "'NoneType' object has no attribute 'text'\n"
     ]
    },
    {
     "name": "stderr",
     "output_type": "stream",
     "text": [
      "\n",
      " 33%|███▎      | 6/18 [00:15<00:30,  2.53s/it]\u001b[A\n",
      " 39%|███▉      | 7/18 [00:17<00:25,  2.34s/it]\u001b[A\n",
      " 44%|████▍     | 8/18 [00:19<00:22,  2.20s/it]\u001b[A\n",
      " 50%|█████     | 9/18 [00:21<00:20,  2.23s/it]\u001b[A\n",
      " 56%|█████▌    | 10/18 [00:22<00:14,  1.84s/it]\u001b[A\n",
      " 61%|██████    | 11/18 [00:24<00:12,  1.78s/it]\u001b[A"
     ]
    },
    {
     "name": "stdout",
     "output_type": "stream",
     "text": [
      "attribute error:\n",
      "'NoneType' object has no attribute 'text'\n"
     ]
    },
    {
     "name": "stderr",
     "output_type": "stream",
     "text": [
      "\n",
      " 67%|██████▋   | 12/18 [00:27<00:14,  2.40s/it]\u001b[A"
     ]
    },
    {
     "name": "stdout",
     "output_type": "stream",
     "text": [
      "attribute error:\n",
      "'NoneType' object has no attribute 'text'\n"
     ]
    },
    {
     "name": "stderr",
     "output_type": "stream",
     "text": [
      "\n",
      " 72%|███████▏  | 13/18 [00:29<00:10,  2.16s/it]\u001b[A"
     ]
    },
    {
     "name": "stdout",
     "output_type": "stream",
     "text": [
      "attribute error:\n",
      "'NoneType' object has no attribute 'text'\n"
     ]
    },
    {
     "name": "stderr",
     "output_type": "stream",
     "text": [
      "\n",
      " 78%|███████▊  | 14/18 [00:33<00:10,  2.70s/it]\u001b[A\n",
      " 83%|████████▎ | 15/18 [00:35<00:07,  2.45s/it]\u001b[A\n",
      " 89%|████████▉ | 16/18 [00:38<00:05,  2.64s/it]\u001b[A\n",
      " 94%|█████████▍| 17/18 [00:41<00:02,  2.71s/it]\u001b[A\n",
      "100%|██████████| 18/18 [00:43<00:00,  2.42s/it]\u001b[A\n",
      "\n",
      "  0%|          | 0/12 [00:00<?, ?it/s]\u001b[A\n",
      "  8%|▊         | 1/12 [00:01<00:16,  1.53s/it]\u001b[A\n",
      " 17%|█▋        | 2/12 [00:03<00:16,  1.62s/it]\u001b[A\n",
      " 25%|██▌       | 3/12 [00:06<00:18,  2.06s/it]\u001b[A\n",
      " 33%|███▎      | 4/12 [00:08<00:16,  2.03s/it]\u001b[A\n",
      " 42%|████▏     | 5/12 [00:10<00:13,  1.93s/it]\u001b[A\n",
      " 50%|█████     | 6/12 [00:12<00:13,  2.20s/it]\u001b[A\n",
      " 58%|█████▊    | 7/12 [00:16<00:12,  2.54s/it]\u001b[A\n",
      " 67%|██████▋   | 8/12 [00:17<00:09,  2.25s/it]\u001b[A\n",
      " 75%|███████▌  | 9/12 [00:19<00:06,  2.13s/it]\u001b[A\n",
      " 83%|████████▎ | 10/12 [00:22<00:04,  2.42s/it]\u001b[A\n",
      " 92%|█████████▏| 11/12 [00:26<00:02,  2.87s/it]\u001b[A\n",
      "100%|██████████| 12/12 [00:28<00:00,  2.38s/it]\u001b[A\n",
      " 54%|█████▍    | 27/50 [1:07:49<1:31:11, 237.90s/it]\n",
      "  0%|          | 0/14 [00:00<?, ?it/s]\u001b[A\n",
      "  7%|▋         | 1/14 [00:03<00:45,  3.51s/it]\u001b[A"
     ]
    },
    {
     "name": "stdout",
     "output_type": "stream",
     "text": [
      "attribute error:\n",
      "'NoneType' object has no attribute 'text'\n"
     ]
    },
    {
     "name": "stderr",
     "output_type": "stream",
     "text": [
      "\n",
      " 14%|█▍        | 2/14 [00:07<00:43,  3.62s/it]\u001b[A\n",
      " 21%|██▏       | 3/14 [00:09<00:34,  3.17s/it]\u001b[A\n",
      " 29%|██▊       | 4/14 [00:10<00:26,  2.60s/it]\u001b[A\n",
      " 36%|███▌      | 5/14 [00:14<00:27,  3.00s/it]\u001b[A\n",
      " 43%|████▎     | 6/14 [00:16<00:21,  2.65s/it]\u001b[A\n",
      " 50%|█████     | 7/14 [00:18<00:16,  2.32s/it]\u001b[A\n",
      " 57%|█████▋    | 8/14 [00:22<00:17,  2.86s/it]\u001b[A\n",
      " 64%|██████▍   | 9/14 [00:23<00:11,  2.24s/it]\u001b[A\n",
      " 71%|███████▏  | 10/14 [00:26<00:09,  2.49s/it]\u001b[A\n",
      " 79%|███████▊  | 11/14 [00:30<00:08,  2.94s/it]\u001b[A\n",
      " 86%|████████▌ | 12/14 [00:32<00:05,  2.74s/it]\u001b[A\n",
      " 93%|█████████▎| 13/14 [00:41<00:04,  4.78s/it]\u001b[A\n",
      "100%|██████████| 14/14 [00:43<00:00,  3.09s/it]\u001b[A\n",
      "\n",
      "  0%|          | 0/14 [00:00<?, ?it/s]\u001b[A\n",
      "  7%|▋         | 1/14 [00:03<00:47,  3.65s/it]\u001b[A"
     ]
    },
    {
     "name": "stdout",
     "output_type": "stream",
     "text": [
      "attribute error:\n",
      "'NoneType' object has no attribute 'text'\n"
     ]
    },
    {
     "name": "stderr",
     "output_type": "stream",
     "text": [
      "\n",
      " 14%|█▍        | 2/14 [00:07<00:45,  3.75s/it]\u001b[A"
     ]
    },
    {
     "name": "stdout",
     "output_type": "stream",
     "text": [
      "attribute error:\n",
      "'NoneType' object has no attribute 'text'\n"
     ]
    },
    {
     "name": "stderr",
     "output_type": "stream",
     "text": [
      "\n",
      " 21%|██▏       | 3/14 [00:10<00:39,  3.63s/it]\u001b[A"
     ]
    },
    {
     "name": "stdout",
     "output_type": "stream",
     "text": [
      "attribute error:\n",
      "'NoneType' object has no attribute 'text'\n"
     ]
    },
    {
     "name": "stderr",
     "output_type": "stream",
     "text": [
      "\n",
      " 29%|██▊       | 4/14 [00:14<00:35,  3.58s/it]\u001b[A"
     ]
    },
    {
     "name": "stdout",
     "output_type": "stream",
     "text": [
      "attribute error:\n",
      "'NoneType' object has no attribute 'text'\n"
     ]
    },
    {
     "name": "stderr",
     "output_type": "stream",
     "text": [
      "\n",
      " 36%|███▌      | 5/14 [00:17<00:31,  3.50s/it]\u001b[A"
     ]
    },
    {
     "name": "stdout",
     "output_type": "stream",
     "text": [
      "attribute error:\n",
      "'NoneType' object has no attribute 'text'\n"
     ]
    },
    {
     "name": "stderr",
     "output_type": "stream",
     "text": [
      "\n",
      " 43%|████▎     | 6/14 [00:21<00:29,  3.65s/it]\u001b[A"
     ]
    },
    {
     "name": "stdout",
     "output_type": "stream",
     "text": [
      "attribute error:\n",
      "'NoneType' object has no attribute 'text'\n"
     ]
    },
    {
     "name": "stderr",
     "output_type": "stream",
     "text": [
      "\n",
      " 50%|█████     | 7/14 [00:28<00:32,  4.58s/it]\u001b[A"
     ]
    },
    {
     "name": "stdout",
     "output_type": "stream",
     "text": [
      "attribute error:\n",
      "'NoneType' object has no attribute 'text'\n"
     ]
    },
    {
     "name": "stderr",
     "output_type": "stream",
     "text": [
      "\n",
      " 57%|█████▋    | 8/14 [00:31<00:24,  4.12s/it]\u001b[A"
     ]
    },
    {
     "name": "stdout",
     "output_type": "stream",
     "text": [
      "attribute error:\n",
      "'NoneType' object has no attribute 'text'\n"
     ]
    },
    {
     "name": "stderr",
     "output_type": "stream",
     "text": [
      "\n",
      " 64%|██████▍   | 9/14 [00:37<00:23,  4.74s/it]\u001b[A"
     ]
    },
    {
     "name": "stdout",
     "output_type": "stream",
     "text": [
      "attribute error:\n",
      "'NoneType' object has no attribute 'text'\n"
     ]
    },
    {
     "name": "stderr",
     "output_type": "stream",
     "text": [
      "\n",
      " 71%|███████▏  | 10/14 [00:41<00:17,  4.33s/it]\u001b[A"
     ]
    },
    {
     "name": "stdout",
     "output_type": "stream",
     "text": [
      "attribute error:\n",
      "'NoneType' object has no attribute 'text'\n"
     ]
    },
    {
     "name": "stderr",
     "output_type": "stream",
     "text": [
      "\n",
      " 79%|███████▊  | 11/14 [00:44<00:12,  4.04s/it]\u001b[A"
     ]
    },
    {
     "name": "stdout",
     "output_type": "stream",
     "text": [
      "attribute error:\n",
      "'NoneType' object has no attribute 'text'\n"
     ]
    },
    {
     "name": "stderr",
     "output_type": "stream",
     "text": [
      "\n",
      " 86%|████████▌ | 12/14 [00:48<00:07,  3.93s/it]\u001b[A"
     ]
    },
    {
     "name": "stdout",
     "output_type": "stream",
     "text": [
      "attribute error:\n",
      "'NoneType' object has no attribute 'text'\n"
     ]
    },
    {
     "name": "stderr",
     "output_type": "stream",
     "text": [
      "\n",
      " 93%|█████████▎| 13/14 [00:51<00:03,  3.79s/it]\u001b[A"
     ]
    },
    {
     "name": "stdout",
     "output_type": "stream",
     "text": [
      "attribute error:\n",
      "'NoneType' object has no attribute 'text'\n"
     ]
    },
    {
     "name": "stderr",
     "output_type": "stream",
     "text": [
      "\n",
      "100%|██████████| 14/14 [00:54<00:00,  3.93s/it]\u001b[A\n",
      "\n",
      "  0%|          | 0/14 [00:00<?, ?it/s]\u001b[A"
     ]
    },
    {
     "name": "stdout",
     "output_type": "stream",
     "text": [
      "attribute error:\n",
      "'NoneType' object has no attribute 'text'\n"
     ]
    },
    {
     "name": "stderr",
     "output_type": "stream",
     "text": [
      "\n",
      "  7%|▋         | 1/14 [00:02<00:35,  2.72s/it]\u001b[A\n",
      " 14%|█▍        | 2/14 [00:03<00:26,  2.18s/it]\u001b[A\n",
      " 21%|██▏       | 3/14 [00:04<00:19,  1.80s/it]\u001b[A\n",
      " 29%|██▊       | 4/14 [00:07<00:20,  2.03s/it]\u001b[A\n",
      " 36%|███▌      | 5/14 [00:07<00:14,  1.61s/it]\u001b[A\n",
      " 43%|████▎     | 6/14 [00:08<00:10,  1.37s/it]\u001b[A\n",
      " 50%|█████     | 7/14 [00:10<00:11,  1.63s/it]\u001b[A\n",
      " 57%|█████▋    | 8/14 [00:12<00:10,  1.76s/it]\u001b[A\n",
      " 64%|██████▍   | 9/14 [00:15<00:09,  1.88s/it]\u001b[A\n",
      " 71%|███████▏  | 10/14 [00:18<00:09,  2.41s/it]\u001b[A"
     ]
    },
    {
     "name": "stdout",
     "output_type": "stream",
     "text": [
      "attribute error:\n",
      "'NoneType' object has no attribute 'text'\n"
     ]
    },
    {
     "name": "stderr",
     "output_type": "stream",
     "text": [
      "\n",
      " 79%|███████▊  | 11/14 [00:19<00:05,  1.98s/it]\u001b[A\n",
      " 86%|████████▌ | 12/14 [00:22<00:04,  2.21s/it]\u001b[A\n",
      " 93%|█████████▎| 13/14 [00:24<00:02,  2.28s/it]\u001b[A\n",
      "100%|██████████| 14/14 [00:27<00:00,  1.95s/it]\u001b[A\n",
      "\n",
      "  0%|          | 0/15 [00:00<?, ?it/s]\u001b[A\n",
      "  7%|▋         | 1/15 [00:03<00:43,  3.07s/it]\u001b[A"
     ]
    },
    {
     "name": "stdout",
     "output_type": "stream",
     "text": [
      "attribute error:\n",
      "'NoneType' object has no attribute 'text'\n"
     ]
    },
    {
     "name": "stderr",
     "output_type": "stream",
     "text": [
      "\n",
      " 13%|█▎        | 2/15 [00:07<00:43,  3.37s/it]\u001b[A\n",
      " 20%|██        | 3/15 [00:11<00:45,  3.80s/it]\u001b[A\n",
      " 27%|██▋       | 4/15 [00:15<00:40,  3.68s/it]\u001b[A"
     ]
    },
    {
     "name": "stdout",
     "output_type": "stream",
     "text": [
      "attribute error:\n",
      "'NoneType' object has no attribute 'text'\n"
     ]
    },
    {
     "name": "stderr",
     "output_type": "stream",
     "text": [
      "\n",
      " 33%|███▎      | 5/15 [00:16<00:30,  3.04s/it]\u001b[A\n",
      " 40%|████      | 6/15 [00:18<00:23,  2.66s/it]\u001b[A\n",
      " 47%|████▋     | 7/15 [00:20<00:19,  2.43s/it]\u001b[A\n",
      " 53%|█████▎    | 8/15 [00:23<00:18,  2.71s/it]\u001b[A"
     ]
    },
    {
     "name": "stdout",
     "output_type": "stream",
     "text": [
      "attribute error:\n",
      "'NoneType' object has no attribute 'text'\n"
     ]
    },
    {
     "name": "stderr",
     "output_type": "stream",
     "text": [
      "\n",
      " 60%|██████    | 9/15 [00:25<00:14,  2.35s/it]\u001b[A\n",
      " 67%|██████▋   | 10/15 [00:26<00:10,  2.11s/it]\u001b[A\n",
      " 73%|███████▎  | 11/15 [00:30<00:10,  2.58s/it]\u001b[A\n",
      " 80%|████████  | 12/15 [00:33<00:07,  2.63s/it]\u001b[A\n",
      " 87%|████████▋ | 13/15 [00:39<00:07,  3.69s/it]\u001b[A\n",
      " 93%|█████████▎| 14/15 [00:41<00:03,  3.01s/it]\u001b[A\n",
      "100%|██████████| 15/15 [00:44<00:00,  2.94s/it]\u001b[A\n",
      "\n",
      "  0%|          | 0/15 [00:00<?, ?it/s]\u001b[A"
     ]
    },
    {
     "name": "stdout",
     "output_type": "stream",
     "text": [
      "attribute error:\n",
      "'NoneType' object has no attribute 'text'\n"
     ]
    },
    {
     "name": "stderr",
     "output_type": "stream",
     "text": [
      "\n",
      "  7%|▋         | 1/15 [00:03<00:51,  3.67s/it]\u001b[A"
     ]
    },
    {
     "name": "stdout",
     "output_type": "stream",
     "text": [
      "attribute error:\n",
      "'NoneType' object has no attribute 'text'\n"
     ]
    },
    {
     "name": "stderr",
     "output_type": "stream",
     "text": [
      "\n",
      " 13%|█▎        | 2/15 [00:04<00:35,  2.71s/it]\u001b[A\n",
      " 20%|██        | 3/15 [00:04<00:23,  1.96s/it]\u001b[A\n",
      " 27%|██▋       | 4/15 [00:07<00:26,  2.37s/it]\u001b[A"
     ]
    },
    {
     "name": "stdout",
     "output_type": "stream",
     "text": [
      "attribute error:\n",
      "'NoneType' object has no attribute 'text'\n"
     ]
    },
    {
     "name": "stderr",
     "output_type": "stream",
     "text": [
      "\n",
      " 33%|███▎      | 5/15 [00:09<00:22,  2.21s/it]\u001b[A\n",
      " 40%|████      | 6/15 [00:17<00:34,  3.83s/it]\u001b[A\n",
      " 47%|████▋     | 7/15 [00:18<00:25,  3.19s/it]\u001b[A\n",
      " 53%|█████▎    | 8/15 [00:22<00:22,  3.26s/it]\u001b[A\n",
      " 60%|██████    | 9/15 [00:22<00:14,  2.38s/it]\u001b[A\n",
      " 67%|██████▋   | 10/15 [00:22<00:08,  1.73s/it]\u001b[A\n",
      " 73%|███████▎  | 11/15 [00:23<00:05,  1.34s/it]\u001b[A\n",
      " 80%|████████  | 12/15 [00:23<00:03,  1.17s/it]\u001b[A\n",
      " 87%|████████▋ | 13/15 [00:24<00:01,  1.14it/s]\u001b[A\n",
      " 93%|█████████▎| 14/15 [00:26<00:01,  1.37s/it]\u001b[A\n",
      "100%|██████████| 15/15 [00:30<00:00,  2.01s/it]\u001b[A\n",
      " 56%|█████▌    | 28/50 [1:11:09<1:23:03, 226.51s/it]\n",
      "  0%|          | 0/19 [00:00<?, ?it/s]\u001b[A"
     ]
    },
    {
     "name": "stdout",
     "output_type": "stream",
     "text": [
      "attribute error:\n",
      "'NoneType' object has no attribute 'text'\n"
     ]
    },
    {
     "name": "stderr",
     "output_type": "stream",
     "text": [
      "\n",
      "  5%|▌         | 1/19 [00:04<01:23,  4.64s/it]\u001b[A\n",
      " 11%|█         | 2/19 [00:06<01:05,  3.83s/it]\u001b[A\n",
      " 16%|█▌        | 3/19 [00:08<00:54,  3.40s/it]\u001b[A\n",
      " 21%|██        | 4/19 [00:12<00:52,  3.47s/it]\u001b[A\n",
      " 26%|██▋       | 5/19 [00:16<00:48,  3.46s/it]\u001b[A"
     ]
    },
    {
     "name": "stdout",
     "output_type": "stream",
     "text": [
      "attribute error:\n",
      "'NoneType' object has no attribute 'text'\n"
     ]
    },
    {
     "name": "stderr",
     "output_type": "stream",
     "text": [
      "\n",
      " 32%|███▏      | 6/19 [00:18<00:42,  3.24s/it]\u001b[A"
     ]
    },
    {
     "name": "stdout",
     "output_type": "stream",
     "text": [
      "attribute error:\n",
      "'NoneType' object has no attribute 'text'\n"
     ]
    },
    {
     "name": "stderr",
     "output_type": "stream",
     "text": [
      "\n",
      " 37%|███▋      | 7/19 [00:21<00:37,  3.15s/it]\u001b[A"
     ]
    },
    {
     "name": "stdout",
     "output_type": "stream",
     "text": [
      "attribute error:\n",
      "'NoneType' object has no attribute 'text'\n"
     ]
    },
    {
     "name": "stderr",
     "output_type": "stream",
     "text": [
      "\n",
      " 42%|████▏     | 8/19 [00:25<00:35,  3.27s/it]\u001b[A"
     ]
    },
    {
     "name": "stdout",
     "output_type": "stream",
     "text": [
      "attribute error:\n",
      "'NoneType' object has no attribute 'text'\n"
     ]
    },
    {
     "name": "stderr",
     "output_type": "stream",
     "text": [
      "\n",
      " 47%|████▋     | 9/19 [00:28<00:32,  3.30s/it]\u001b[A\n",
      " 53%|█████▎    | 10/19 [00:31<00:29,  3.31s/it]\u001b[A"
     ]
    },
    {
     "name": "stdout",
     "output_type": "stream",
     "text": [
      "attribute error:\n",
      "'NoneType' object has no attribute 'text'\n"
     ]
    },
    {
     "name": "stderr",
     "output_type": "stream",
     "text": [
      "\n",
      " 58%|█████▊    | 11/19 [00:34<00:23,  2.97s/it]\u001b[A\n",
      " 63%|██████▎   | 12/19 [00:37<00:21,  3.08s/it]\u001b[A"
     ]
    },
    {
     "name": "stdout",
     "output_type": "stream",
     "text": [
      "attribute error:\n",
      "'NoneType' object has no attribute 'text'\n"
     ]
    },
    {
     "name": "stderr",
     "output_type": "stream",
     "text": [
      "\n",
      " 68%|██████▊   | 13/19 [00:39<00:16,  2.72s/it]\u001b[A\n",
      " 74%|███████▎  | 14/19 [00:41<00:12,  2.47s/it]\u001b[A\n",
      " 79%|███████▉  | 15/19 [00:44<00:10,  2.63s/it]\u001b[A"
     ]
    },
    {
     "name": "stdout",
     "output_type": "stream",
     "text": [
      "attribute error:\n",
      "'NoneType' object has no attribute 'text'\n"
     ]
    },
    {
     "name": "stderr",
     "output_type": "stream",
     "text": [
      "\n",
      " 84%|████████▍ | 16/19 [00:47<00:08,  2.77s/it]\u001b[A"
     ]
    },
    {
     "name": "stdout",
     "output_type": "stream",
     "text": [
      "attribute error:\n",
      "'NoneType' object has no attribute 'text'\n"
     ]
    },
    {
     "name": "stderr",
     "output_type": "stream",
     "text": [
      "\n",
      " 89%|████████▉ | 17/19 [00:49<00:04,  2.49s/it]\u001b[A\n",
      " 95%|█████████▍| 18/19 [00:53<00:03,  3.04s/it]\u001b[A\n",
      "100%|██████████| 19/19 [00:57<00:00,  3.03s/it]\u001b[A\n",
      "\n",
      "  0%|          | 0/17 [00:00<?, ?it/s]\u001b[A\n",
      "  6%|▌         | 1/17 [00:01<00:27,  1.74s/it]\u001b[A\n",
      " 12%|█▏        | 2/17 [00:03<00:27,  1.81s/it]\u001b[A\n",
      " 18%|█▊        | 3/17 [00:05<00:24,  1.76s/it]\u001b[A\n",
      " 24%|██▎       | 4/17 [00:08<00:29,  2.28s/it]\u001b[A"
     ]
    },
    {
     "name": "stdout",
     "output_type": "stream",
     "text": [
      "attribute error:\n",
      "'NoneType' object has no attribute 'text'\n"
     ]
    },
    {
     "name": "stderr",
     "output_type": "stream",
     "text": [
      "\n",
      " 29%|██▉       | 5/17 [00:11<00:27,  2.26s/it]\u001b[A\n",
      " 35%|███▌      | 6/17 [00:12<00:22,  2.07s/it]\u001b[A\n",
      " 41%|████      | 7/17 [00:14<00:20,  2.06s/it]\u001b[A\n",
      " 47%|████▋     | 8/17 [00:16<00:17,  1.90s/it]\u001b[A\n",
      " 53%|█████▎    | 9/17 [00:20<00:20,  2.52s/it]\u001b[A\n",
      " 59%|█████▉    | 10/17 [00:22<00:16,  2.33s/it]\u001b[A\n",
      " 65%|██████▍   | 11/17 [00:24<00:13,  2.27s/it]\u001b[A\n",
      " 71%|███████   | 12/17 [00:25<00:10,  2.06s/it]\u001b[A\n",
      " 76%|███████▋  | 13/17 [00:32<00:13,  3.46s/it]\u001b[A\n",
      " 82%|████████▏ | 14/17 [00:35<00:09,  3.26s/it]\u001b[A\n",
      " 88%|████████▊ | 15/17 [00:37<00:05,  2.94s/it]\u001b[A\n",
      " 94%|█████████▍| 16/17 [00:41<00:03,  3.15s/it]\u001b[A\n",
      "100%|██████████| 17/17 [00:44<00:00,  2.63s/it]\u001b[A\n",
      " 58%|█████▊    | 29/50 [1:12:52<1:06:14, 189.25s/it]\n",
      "  0%|          | 0/17 [00:00<?, ?it/s]\u001b[A"
     ]
    },
    {
     "name": "stdout",
     "output_type": "stream",
     "text": [
      "attribute error:\n",
      "'NoneType' object has no attribute 'text'\n"
     ]
    },
    {
     "name": "stderr",
     "output_type": "stream",
     "text": [
      "\n",
      "  6%|▌         | 1/17 [00:03<00:54,  3.42s/it]\u001b[A\n",
      " 12%|█▏        | 2/17 [00:06<00:51,  3.42s/it]\u001b[A"
     ]
    },
    {
     "name": "stdout",
     "output_type": "stream",
     "text": [
      "attribute error:\n",
      "'NoneType' object has no attribute 'text'\n"
     ]
    },
    {
     "name": "stderr",
     "output_type": "stream",
     "text": [
      "\n",
      " 18%|█▊        | 3/17 [00:10<00:47,  3.42s/it]\u001b[A\n",
      " 24%|██▎       | 4/17 [00:11<00:36,  2.83s/it]\u001b[A\n",
      " 29%|██▉       | 5/17 [00:14<00:34,  2.90s/it]\u001b[A\n",
      " 35%|███▌      | 6/17 [00:16<00:28,  2.58s/it]\u001b[A\n",
      " 41%|████      | 7/17 [00:18<00:23,  2.30s/it]\u001b[A\n",
      " 47%|████▋     | 8/17 [00:21<00:23,  2.60s/it]\u001b[A"
     ]
    },
    {
     "name": "stdout",
     "output_type": "stream",
     "text": [
      "attribute error:\n",
      "'NoneType' object has no attribute 'text'\n"
     ]
    },
    {
     "name": "stderr",
     "output_type": "stream",
     "text": [
      "\n",
      " 53%|█████▎    | 9/17 [00:24<00:22,  2.82s/it]\u001b[A\n",
      " 59%|█████▉    | 10/17 [00:28<00:21,  3.00s/it]\u001b[A\n",
      " 65%|██████▍   | 11/17 [00:32<00:20,  3.47s/it]\u001b[A\n",
      " 71%|███████   | 12/17 [00:36<00:17,  3.44s/it]\u001b[A"
     ]
    },
    {
     "name": "stdout",
     "output_type": "stream",
     "text": [
      "attribute error:\n",
      "'NoneType' object has no attribute 'text'\n"
     ]
    },
    {
     "name": "stderr",
     "output_type": "stream",
     "text": [
      "\n",
      " 76%|███████▋  | 13/17 [00:39<00:13,  3.33s/it]\u001b[A"
     ]
    },
    {
     "name": "stdout",
     "output_type": "stream",
     "text": [
      "attribute error:\n",
      "'NoneType' object has no attribute 'text'\n"
     ]
    },
    {
     "name": "stderr",
     "output_type": "stream",
     "text": [
      "\n",
      " 82%|████████▏ | 14/17 [00:40<00:08,  2.80s/it]\u001b[A\n",
      " 88%|████████▊ | 15/17 [00:44<00:06,  3.08s/it]\u001b[A\n",
      " 94%|█████████▍| 16/17 [00:47<00:03,  3.06s/it]\u001b[A\n",
      "100%|██████████| 17/17 [00:51<00:00,  3.04s/it]\u001b[A\n",
      "\n",
      "  0%|          | 0/15 [00:00<?, ?it/s]\u001b[A"
     ]
    },
    {
     "name": "stdout",
     "output_type": "stream",
     "text": [
      "attribute error:\n",
      "'NoneType' object has no attribute 'text'\n"
     ]
    },
    {
     "name": "stderr",
     "output_type": "stream",
     "text": [
      "\n",
      "  7%|▋         | 1/15 [00:01<00:25,  1.85s/it]\u001b[A\n",
      " 13%|█▎        | 2/15 [00:03<00:24,  1.87s/it]\u001b[A\n",
      " 20%|██        | 3/15 [00:06<00:25,  2.13s/it]\u001b[A"
     ]
    },
    {
     "name": "stdout",
     "output_type": "stream",
     "text": [
      "attribute error:\n",
      "'NoneType' object has no attribute 'text'\n"
     ]
    },
    {
     "name": "stderr",
     "output_type": "stream",
     "text": [
      "\n",
      " 27%|██▋       | 4/15 [00:09<00:27,  2.53s/it]\u001b[A\n",
      " 33%|███▎      | 5/15 [00:11<00:23,  2.37s/it]\u001b[A\n",
      " 40%|████      | 6/15 [00:15<00:23,  2.61s/it]\u001b[A"
     ]
    },
    {
     "name": "stdout",
     "output_type": "stream",
     "text": [
      "attribute error:\n",
      "'NoneType' object has no attribute 'text'\n"
     ]
    },
    {
     "name": "stderr",
     "output_type": "stream",
     "text": [
      "\n",
      " 47%|████▋     | 7/15 [00:19<00:24,  3.02s/it]\u001b[A\n",
      " 53%|█████▎    | 8/15 [00:20<00:18,  2.67s/it]\u001b[A\n",
      " 60%|██████    | 9/15 [00:27<00:23,  3.96s/it]\u001b[A"
     ]
    },
    {
     "name": "stdout",
     "output_type": "stream",
     "text": [
      "attribute error:\n",
      "'NoneType' object has no attribute 'text'\n"
     ]
    },
    {
     "name": "stderr",
     "output_type": "stream",
     "text": [
      "\n",
      " 67%|██████▋   | 10/15 [00:31<00:19,  3.90s/it]\u001b[A\n",
      " 73%|███████▎  | 11/15 [00:34<00:14,  3.53s/it]\u001b[A\n",
      " 80%|████████  | 12/15 [00:37<00:10,  3.53s/it]\u001b[A\n",
      " 87%|████████▋ | 13/15 [00:41<00:07,  3.55s/it]\u001b[A\n",
      " 93%|█████████▎| 14/15 [00:43<00:03,  3.03s/it]\u001b[A\n",
      "100%|██████████| 15/15 [00:46<00:00,  3.13s/it]\u001b[A\n",
      " 60%|██████    | 30/50 [1:14:30<54:00, 162.02s/it]  \n",
      "  0%|          | 0/12 [00:00<?, ?it/s]\u001b[A\n",
      "  8%|▊         | 1/12 [00:02<00:32,  2.95s/it]\u001b[A"
     ]
    },
    {
     "name": "stdout",
     "output_type": "stream",
     "text": [
      "attribute error:\n",
      "'NoneType' object has no attribute 'text'\n"
     ]
    },
    {
     "name": "stderr",
     "output_type": "stream",
     "text": [
      "\n",
      " 17%|█▋        | 2/12 [00:04<00:25,  2.52s/it]\u001b[A\n",
      " 25%|██▌       | 3/12 [00:07<00:24,  2.77s/it]\u001b[A\n",
      " 33%|███▎      | 4/12 [00:09<00:19,  2.40s/it]\u001b[A\n",
      " 42%|████▏     | 5/12 [00:13<00:21,  3.04s/it]\u001b[A\n",
      " 50%|█████     | 6/12 [00:15<00:15,  2.53s/it]\u001b[A\n",
      " 58%|█████▊    | 7/12 [00:18<00:13,  2.74s/it]\u001b[A"
     ]
    },
    {
     "name": "stdout",
     "output_type": "stream",
     "text": [
      "attribute error:\n",
      "'NoneType' object has no attribute 'text'\n"
     ]
    },
    {
     "name": "stderr",
     "output_type": "stream",
     "text": [
      "\n",
      " 67%|██████▋   | 8/12 [00:22<00:12,  3.15s/it]\u001b[A\n",
      " 75%|███████▌  | 9/12 [00:26<00:10,  3.53s/it]\u001b[A\n",
      " 83%|████████▎ | 10/12 [00:29<00:06,  3.08s/it]\u001b[A\n",
      " 92%|█████████▏| 11/12 [00:32<00:03,  3.26s/it]\u001b[A\n",
      "100%|██████████| 12/12 [00:33<00:00,  2.83s/it]\u001b[A\n",
      "\n",
      "  0%|          | 0/13 [00:00<?, ?it/s]\u001b[A\n",
      "  8%|▊         | 1/13 [00:02<00:35,  2.97s/it]\u001b[A\n",
      " 15%|█▌        | 2/13 [00:04<00:27,  2.53s/it]\u001b[A\n",
      " 23%|██▎       | 3/13 [00:06<00:23,  2.37s/it]\u001b[A\n",
      " 31%|███       | 4/13 [00:08<00:20,  2.23s/it]\u001b[A\n",
      " 38%|███▊      | 5/13 [00:09<00:14,  1.82s/it]\u001b[A\n",
      " 46%|████▌     | 6/13 [00:12<00:15,  2.25s/it]\u001b[A\n",
      " 54%|█████▍    | 7/13 [00:12<00:09,  1.65s/it]\u001b[A\n",
      " 62%|██████▏   | 8/13 [00:17<00:13,  2.69s/it]\u001b[A\n",
      " 69%|██████▉   | 9/13 [00:22<00:12,  3.24s/it]\u001b[A\n",
      " 77%|███████▋  | 10/13 [00:22<00:06,  2.33s/it]\u001b[A\n",
      " 85%|████████▍ | 11/13 [00:25<00:05,  2.51s/it]\u001b[A\n",
      " 92%|█████████▏| 12/13 [00:27<00:02,  2.22s/it]\u001b[A\n",
      "100%|██████████| 13/13 [00:27<00:00,  2.13s/it]\u001b[A\n",
      " 62%|██████▏   | 31/50 [1:15:32<41:46, 131.90s/it]\n",
      "  0%|          | 0/20 [00:00<?, ?it/s]\u001b[A\n",
      "  5%|▌         | 1/20 [00:03<01:08,  3.63s/it]\u001b[A"
     ]
    },
    {
     "name": "stdout",
     "output_type": "stream",
     "text": [
      "attribute error:\n",
      "'NoneType' object has no attribute 'text'\n"
     ]
    },
    {
     "name": "stderr",
     "output_type": "stream",
     "text": [
      "\n",
      " 10%|█         | 2/20 [00:04<00:52,  2.94s/it]\u001b[A\n",
      " 15%|█▌        | 3/20 [00:08<00:55,  3.26s/it]\u001b[A\n",
      " 20%|██        | 4/20 [00:12<00:54,  3.43s/it]\u001b[A"
     ]
    },
    {
     "name": "stdout",
     "output_type": "stream",
     "text": [
      "attribute error:\n",
      "'NoneType' object has no attribute 'text'\n"
     ]
    },
    {
     "name": "stderr",
     "output_type": "stream",
     "text": [
      "\n",
      " 25%|██▌       | 5/20 [00:16<00:52,  3.48s/it]\u001b[A\n",
      " 30%|███       | 6/20 [00:18<00:41,  2.94s/it]\u001b[A\n",
      " 35%|███▌      | 7/20 [00:21<00:38,  2.98s/it]\u001b[A"
     ]
    },
    {
     "name": "stdout",
     "output_type": "stream",
     "text": [
      "attribute error:\n",
      "'NoneType' object has no attribute 'text'\n"
     ]
    },
    {
     "name": "stderr",
     "output_type": "stream",
     "text": [
      "\n",
      " 40%|████      | 8/20 [00:23<00:31,  2.65s/it]\u001b[A\n",
      " 45%|████▌     | 9/20 [00:26<00:31,  2.87s/it]\u001b[A"
     ]
    },
    {
     "name": "stdout",
     "output_type": "stream",
     "text": [
      "attribute error:\n",
      "'NoneType' object has no attribute 'text'\n"
     ]
    },
    {
     "name": "stderr",
     "output_type": "stream",
     "text": [
      "\n",
      " 50%|█████     | 10/20 [00:30<00:32,  3.21s/it]\u001b[A\n",
      " 55%|█████▌    | 11/20 [00:34<00:30,  3.34s/it]\u001b[A\n",
      " 60%|██████    | 12/20 [00:38<00:28,  3.53s/it]\u001b[A"
     ]
    },
    {
     "name": "stdout",
     "output_type": "stream",
     "text": [
      "attribute error:\n",
      "'NoneType' object has no attribute 'text'\n"
     ]
    },
    {
     "name": "stderr",
     "output_type": "stream",
     "text": [
      "\n",
      " 65%|██████▌   | 13/20 [00:41<00:24,  3.48s/it]\u001b[A\n",
      " 70%|███████   | 14/20 [00:45<00:21,  3.57s/it]\u001b[A\n",
      " 75%|███████▌  | 15/20 [00:48<00:17,  3.46s/it]\u001b[A"
     ]
    },
    {
     "name": "stdout",
     "output_type": "stream",
     "text": [
      "attribute error:\n",
      "'NoneType' object has no attribute 'text'\n"
     ]
    },
    {
     "name": "stderr",
     "output_type": "stream",
     "text": [
      "\n",
      " 80%|████████  | 16/20 [00:52<00:14,  3.56s/it]\u001b[A\n",
      " 85%|████████▌ | 17/20 [00:55<00:10,  3.41s/it]\u001b[A\n",
      " 90%|█████████ | 18/20 [00:58<00:06,  3.35s/it]\u001b[A\n",
      " 95%|█████████▌| 19/20 [01:02<00:03,  3.41s/it]\u001b[A\n",
      "100%|██████████| 20/20 [01:05<00:00,  3.27s/it]\u001b[A\n",
      "\n",
      "  0%|          | 0/13 [00:00<?, ?it/s]\u001b[A"
     ]
    },
    {
     "name": "stdout",
     "output_type": "stream",
     "text": [
      "attribute error:\n",
      "'NoneType' object has no attribute 'text'\n"
     ]
    },
    {
     "name": "stderr",
     "output_type": "stream",
     "text": [
      "\n",
      "  8%|▊         | 1/13 [00:02<00:28,  2.41s/it]\u001b[A\n",
      " 15%|█▌        | 2/13 [00:05<00:30,  2.74s/it]\u001b[A"
     ]
    },
    {
     "name": "stdout",
     "output_type": "stream",
     "text": [
      "attribute error:\n",
      "'NoneType' object has no attribute 'text'\n"
     ]
    },
    {
     "name": "stderr",
     "output_type": "stream",
     "text": [
      "\n",
      " 23%|██▎       | 3/13 [00:08<00:27,  2.74s/it]\u001b[A\n",
      " 31%|███       | 4/13 [00:13<00:30,  3.39s/it]\u001b[A\n",
      " 38%|███▊      | 5/13 [00:16<00:27,  3.38s/it]\u001b[A\n",
      " 46%|████▌     | 6/13 [00:18<00:19,  2.83s/it]\u001b[A\n",
      " 54%|█████▍    | 7/13 [00:22<00:18,  3.10s/it]\u001b[A\n",
      " 62%|██████▏   | 8/13 [00:24<00:13,  2.72s/it]\u001b[A\n",
      " 69%|██████▉   | 9/13 [00:25<00:09,  2.35s/it]\u001b[A\n",
      " 77%|███████▋  | 10/13 [00:29<00:08,  2.75s/it]\u001b[A\n",
      " 85%|████████▍ | 11/13 [00:32<00:06,  3.04s/it]\u001b[A\n",
      " 92%|█████████▏| 12/13 [00:34<00:02,  2.69s/it]\u001b[A\n",
      "100%|██████████| 13/13 [00:35<00:00,  2.71s/it]\u001b[A\n",
      "\n",
      "  0%|          | 0/14 [00:00<?, ?it/s]\u001b[A\n",
      "  7%|▋         | 1/14 [00:03<00:47,  3.63s/it]\u001b[A"
     ]
    },
    {
     "name": "stdout",
     "output_type": "stream",
     "text": [
      "attribute error:\n",
      "'NoneType' object has no attribute 'text'\n"
     ]
    },
    {
     "name": "stderr",
     "output_type": "stream",
     "text": [
      "\n",
      " 14%|█▍        | 2/14 [00:07<00:44,  3.74s/it]\u001b[A"
     ]
    },
    {
     "name": "stdout",
     "output_type": "stream",
     "text": [
      "attribute error:\n",
      "'NoneType' object has no attribute 'text'\n"
     ]
    },
    {
     "name": "stderr",
     "output_type": "stream",
     "text": [
      "\n",
      " 21%|██▏       | 3/14 [00:10<00:37,  3.44s/it]\u001b[A\n",
      " 29%|██▊       | 4/14 [00:15<00:38,  3.82s/it]\u001b[A\n",
      " 36%|███▌      | 5/14 [00:17<00:29,  3.32s/it]\u001b[A\n",
      " 43%|████▎     | 6/14 [00:21<00:29,  3.74s/it]\u001b[A"
     ]
    },
    {
     "name": "stdout",
     "output_type": "stream",
     "text": [
      "attribute error:\n",
      "'NoneType' object has no attribute 'text'\n"
     ]
    },
    {
     "name": "stderr",
     "output_type": "stream",
     "text": [
      "\n",
      " 50%|█████     | 7/14 [00:25<00:25,  3.59s/it]\u001b[A\n",
      " 57%|█████▋    | 8/14 [00:38<00:39,  6.64s/it]\u001b[A\n",
      " 64%|██████▍   | 9/14 [00:51<00:41,  8.34s/it]\u001b[A"
     ]
    },
    {
     "name": "stdout",
     "output_type": "stream",
     "text": [
      "attribute error:\n",
      "'NoneType' object has no attribute 'text'\n"
     ]
    },
    {
     "name": "stderr",
     "output_type": "stream",
     "text": [
      "\n",
      " 71%|███████▏  | 10/14 [00:53<00:25,  6.47s/it]\u001b[A\n",
      " 79%|███████▊  | 11/14 [00:55<00:15,  5.13s/it]\u001b[A\n",
      " 86%|████████▌ | 12/14 [00:58<00:09,  4.51s/it]\u001b[A\n",
      " 93%|█████████▎| 13/14 [01:00<00:03,  3.80s/it]\u001b[A\n",
      "100%|██████████| 14/14 [01:02<00:00,  4.45s/it]\u001b[A\n",
      "\n",
      "  0%|          | 0/15 [00:00<?, ?it/s]\u001b[A\n",
      "  7%|▋         | 1/15 [00:02<00:35,  2.53s/it]\u001b[A\n",
      " 13%|█▎        | 2/15 [00:04<00:32,  2.50s/it]\u001b[A\n",
      " 20%|██        | 3/15 [00:06<00:27,  2.30s/it]\u001b[A\n",
      " 27%|██▋       | 4/15 [00:11<00:34,  3.14s/it]\u001b[A"
     ]
    },
    {
     "name": "stdout",
     "output_type": "stream",
     "text": [
      "attribute error:\n",
      "'NoneType' object has no attribute 'text'\n"
     ]
    },
    {
     "name": "stderr",
     "output_type": "stream",
     "text": [
      "\n",
      " 33%|███▎      | 5/15 [00:14<00:30,  3.06s/it]\u001b[A\n",
      " 40%|████      | 6/15 [00:17<00:25,  2.84s/it]\u001b[A\n",
      " 47%|████▋     | 7/15 [00:19<00:21,  2.70s/it]\u001b[A\n",
      " 53%|█████▎    | 8/15 [00:21<00:18,  2.64s/it]\u001b[A\n",
      " 60%|██████    | 9/15 [00:25<00:17,  2.94s/it]\u001b[A\n",
      " 67%|██████▋   | 10/15 [00:27<00:12,  2.57s/it]\u001b[A\n",
      " 73%|███████▎  | 11/15 [00:32<00:12,  3.22s/it]\u001b[A\n",
      " 80%|████████  | 12/15 [00:35<00:09,  3.26s/it]\u001b[A\n",
      " 87%|████████▋ | 13/15 [00:37<00:05,  2.78s/it]\u001b[A\n",
      " 93%|█████████▎| 14/15 [00:40<00:03,  3.06s/it]\u001b[A\n",
      "100%|██████████| 15/15 [00:42<00:00,  2.82s/it]\u001b[A\n",
      "\n",
      "  0%|          | 0/12 [00:00<?, ?it/s]\u001b[A\n",
      "  8%|▊         | 1/12 [00:03<00:43,  3.99s/it]\u001b[A"
     ]
    },
    {
     "name": "stdout",
     "output_type": "stream",
     "text": [
      "attribute error:\n",
      "'NoneType' object has no attribute 'text'\n"
     ]
    },
    {
     "name": "stderr",
     "output_type": "stream",
     "text": [
      "\n",
      " 17%|█▋        | 2/12 [00:05<00:33,  3.34s/it]\u001b[A\n",
      " 25%|██▌       | 3/12 [00:14<00:45,  5.08s/it]\u001b[A\n",
      " 33%|███▎      | 4/12 [00:17<00:33,  4.22s/it]\u001b[A\n",
      " 42%|████▏     | 5/12 [00:22<00:31,  4.48s/it]\u001b[A\n",
      " 50%|█████     | 6/12 [00:31<00:34,  5.78s/it]\u001b[A\n",
      " 58%|█████▊    | 7/12 [00:33<00:23,  4.65s/it]\u001b[A\n",
      " 67%|██████▋   | 8/12 [00:37<00:18,  4.56s/it]\u001b[A\n",
      " 75%|███████▌  | 9/12 [00:41<00:13,  4.50s/it]\u001b[A\n",
      " 83%|████████▎ | 10/12 [00:44<00:07,  3.83s/it]\u001b[A\n",
      " 92%|█████████▏| 11/12 [00:46<00:03,  3.56s/it]\u001b[A\n",
      "100%|██████████| 12/12 [00:49<00:00,  4.16s/it]\u001b[A\n",
      "\n",
      "  0%|          | 0/17 [00:00<?, ?it/s]\u001b[A\n",
      "  6%|▌         | 1/17 [00:08<02:08,  8.04s/it]\u001b[A\n",
      " 12%|█▏        | 2/17 [00:15<01:57,  7.81s/it]\u001b[A"
     ]
    },
    {
     "name": "stdout",
     "output_type": "stream",
     "text": [
      "attribute error:\n",
      "'NoneType' object has no attribute 'text'\n"
     ]
    },
    {
     "name": "stderr",
     "output_type": "stream",
     "text": [
      "\n",
      " 18%|█▊        | 3/17 [00:19<01:34,  6.74s/it]\u001b[A\n",
      " 24%|██▎       | 4/17 [00:22<01:11,  5.49s/it]\u001b[A\n",
      " 29%|██▉       | 5/17 [00:24<00:54,  4.50s/it]\u001b[A\n",
      " 35%|███▌      | 6/17 [00:26<00:41,  3.73s/it]\u001b[A\n",
      " 41%|████      | 7/17 [00:30<00:38,  3.86s/it]\u001b[A\n",
      " 47%|████▋     | 8/17 [00:34<00:35,  3.94s/it]\u001b[A\n",
      " 53%|█████▎    | 9/17 [00:40<00:35,  4.42s/it]\u001b[A\n",
      " 59%|█████▉    | 10/17 [00:44<00:31,  4.53s/it]\u001b[A\n",
      " 65%|██████▍   | 11/17 [00:48<00:24,  4.13s/it]\u001b[A\n",
      " 71%|███████   | 12/17 [00:54<00:23,  4.76s/it]\u001b[A\n",
      " 76%|███████▋  | 13/17 [00:59<00:20,  5.00s/it]\u001b[A\n",
      " 82%|████████▏ | 14/17 [01:06<00:16,  5.35s/it]\u001b[A\n",
      " 88%|████████▊ | 15/17 [01:10<00:10,  5.13s/it]\u001b[A\n",
      " 94%|█████████▍| 16/17 [01:13<00:04,  4.36s/it]\u001b[A\n",
      "100%|██████████| 17/17 [01:19<00:00,  4.66s/it]\u001b[A\n",
      "\n",
      "  0%|          | 0/10 [00:00<?, ?it/s]\u001b[A\n",
      " 10%|█         | 1/10 [00:01<00:16,  1.88s/it]\u001b[A\n",
      " 20%|██        | 2/10 [00:02<00:12,  1.61s/it]\u001b[A\n",
      " 30%|███       | 3/10 [00:07<00:17,  2.52s/it]\u001b[A\n",
      " 40%|████      | 4/10 [00:09<00:13,  2.31s/it]\u001b[A\n",
      " 50%|█████     | 5/10 [00:12<00:12,  2.55s/it]\u001b[A"
     ]
    },
    {
     "name": "stdout",
     "output_type": "stream",
     "text": [
      "attribute error:\n",
      "'NoneType' object has no attribute 'text'\n"
     ]
    },
    {
     "name": "stderr",
     "output_type": "stream",
     "text": [
      "\n",
      " 60%|██████    | 6/10 [00:15<00:10,  2.75s/it]\u001b[A\n",
      " 70%|███████   | 7/10 [00:16<00:06,  2.26s/it]\u001b[A\n",
      " 80%|████████  | 8/10 [00:19<00:05,  2.54s/it]\u001b[A\n",
      " 90%|█████████ | 9/10 [00:27<00:04,  4.02s/it]\u001b[A\n",
      "100%|██████████| 10/10 [00:30<00:00,  3.07s/it]\u001b[A\n",
      " 64%|██████▍   | 32/50 [1:21:37<1:00:33, 201.87s/it]\n",
      "  0%|          | 0/14 [00:00<?, ?it/s]\u001b[A\n",
      "  7%|▋         | 1/14 [00:01<00:20,  1.56s/it]\u001b[A\n",
      " 14%|█▍        | 2/14 [00:07<00:32,  2.73s/it]\u001b[A\n",
      " 21%|██▏       | 3/14 [00:09<00:30,  2.73s/it]\u001b[A"
     ]
    },
    {
     "name": "stdout",
     "output_type": "stream",
     "text": [
      "attribute error:\n",
      "'NoneType' object has no attribute 'text'\n"
     ]
    },
    {
     "name": "stderr",
     "output_type": "stream",
     "text": [
      "\n",
      " 29%|██▊       | 4/14 [00:13<00:29,  2.94s/it]\u001b[A\n",
      " 36%|███▌      | 5/14 [00:15<00:25,  2.86s/it]\u001b[A\n",
      " 43%|████▎     | 6/14 [00:20<00:28,  3.52s/it]\u001b[A\n",
      " 50%|█████     | 7/14 [00:24<00:24,  3.57s/it]\u001b[A\n",
      " 57%|█████▋    | 8/14 [00:27<00:20,  3.41s/it]\u001b[A\n",
      " 64%|██████▍   | 9/14 [00:29<00:14,  2.96s/it]\u001b[A\n",
      " 71%|███████▏  | 10/14 [00:31<00:10,  2.74s/it]\u001b[A\n",
      " 79%|███████▊  | 11/14 [00:36<00:09,  3.24s/it]\u001b[A\n",
      " 86%|████████▌ | 12/14 [00:38<00:05,  3.00s/it]\u001b[A\n",
      " 93%|█████████▎| 13/14 [00:42<00:03,  3.12s/it]\u001b[A"
     ]
    },
    {
     "name": "stdout",
     "output_type": "stream",
     "text": [
      "attribute error:\n",
      "'NoneType' object has no attribute 'text'\n"
     ]
    },
    {
     "name": "stderr",
     "output_type": "stream",
     "text": [
      "\n",
      "100%|██████████| 14/14 [00:43<00:00,  3.14s/it]\u001b[A\n",
      "\n",
      "  0%|          | 0/17 [00:00<?, ?it/s]\u001b[A\n",
      "  6%|▌         | 1/17 [00:01<00:30,  1.88s/it]\u001b[A\n",
      " 12%|█▏        | 2/17 [00:04<00:29,  2.00s/it]\u001b[A\n",
      " 18%|█▊        | 3/17 [00:08<00:35,  2.56s/it]\u001b[A\n",
      " 24%|██▎       | 4/17 [00:12<00:41,  3.21s/it]\u001b[A\n",
      " 29%|██▉       | 5/17 [00:17<00:42,  3.54s/it]\u001b[A\n",
      " 35%|███▌      | 6/17 [00:19<00:36,  3.32s/it]\u001b[A\n",
      " 41%|████      | 7/17 [00:23<00:34,  3.41s/it]\u001b[A"
     ]
    },
    {
     "name": "stdout",
     "output_type": "stream",
     "text": [
      "attribute error:\n",
      "'NoneType' object has no attribute 'text'\n"
     ]
    },
    {
     "name": "stderr",
     "output_type": "stream",
     "text": [
      "\n",
      " 47%|████▋     | 8/17 [00:25<00:27,  3.01s/it]\u001b[A\n",
      " 53%|█████▎    | 9/17 [00:27<00:21,  2.72s/it]\u001b[A\n",
      " 59%|█████▉    | 10/17 [00:32<00:23,  3.30s/it]\u001b[A\n",
      " 65%|██████▍   | 11/17 [00:34<00:17,  2.88s/it]\u001b[A\n",
      " 71%|███████   | 12/17 [00:35<00:12,  2.51s/it]\u001b[A\n",
      " 76%|███████▋  | 13/17 [00:38<00:10,  2.60s/it]\u001b[A"
     ]
    },
    {
     "name": "stdout",
     "output_type": "stream",
     "text": [
      "attribute error:\n",
      "'NoneType' object has no attribute 'text'\n"
     ]
    },
    {
     "name": "stderr",
     "output_type": "stream",
     "text": [
      "\n",
      " 82%|████████▏ | 14/17 [00:41<00:07,  2.61s/it]\u001b[A\n",
      " 88%|████████▊ | 15/17 [00:43<00:04,  2.39s/it]\u001b[A\n",
      " 94%|█████████▍| 16/17 [00:44<00:02,  2.20s/it]\u001b[A\n",
      "100%|██████████| 17/17 [00:48<00:00,  2.84s/it]\u001b[A\n",
      "\n",
      "  0%|          | 0/6 [00:00<?, ?it/s]\u001b[A"
     ]
    },
    {
     "name": "stdout",
     "output_type": "stream",
     "text": [
      "attribute error:\n",
      "'NoneType' object has no attribute 'text'\n"
     ]
    },
    {
     "name": "stderr",
     "output_type": "stream",
     "text": [
      "\n",
      " 17%|█▋        | 1/6 [00:01<00:05,  1.04s/it]\u001b[A\n",
      " 33%|███▎      | 2/6 [00:01<00:03,  1.20it/s]\u001b[A\n",
      " 50%|█████     | 3/6 [00:05<00:05,  1.79s/it]\u001b[A\n",
      " 67%|██████▋   | 4/6 [00:05<00:02,  1.34s/it]\u001b[A\n",
      " 83%|████████▎ | 5/6 [00:06<00:01,  1.19s/it]\u001b[A\n",
      "100%|██████████| 6/6 [00:07<00:00,  1.19s/it]\u001b[A\n",
      " 66%|██████▌   | 33/50 [1:23:16<48:28, 171.09s/it]  \n",
      "  0%|          | 0/16 [00:00<?, ?it/s]\u001b[A\n",
      "  6%|▋         | 1/16 [00:03<00:59,  3.98s/it]\u001b[A\n",
      " 12%|█▎        | 2/16 [00:06<00:51,  3.69s/it]\u001b[A\n",
      " 19%|█▉        | 3/16 [00:09<00:42,  3.24s/it]\u001b[A\n",
      " 25%|██▌       | 4/16 [00:10<00:33,  2.80s/it]\u001b[A\n",
      " 31%|███▏      | 5/16 [00:12<00:27,  2.47s/it]\u001b[A\n",
      " 38%|███▊      | 6/16 [00:17<00:32,  3.24s/it]\u001b[A\n",
      " 44%|████▍     | 7/16 [00:22<00:32,  3.63s/it]\u001b[A\n",
      " 50%|█████     | 8/16 [00:25<00:27,  3.46s/it]\u001b[A"
     ]
    },
    {
     "name": "stdout",
     "output_type": "stream",
     "text": [
      "attribute error:\n",
      "'NoneType' object has no attribute 'text'\n"
     ]
    },
    {
     "name": "stderr",
     "output_type": "stream",
     "text": [
      "\n",
      " 56%|█████▋    | 9/16 [00:28<00:22,  3.28s/it]\u001b[A\n",
      " 62%|██████▎   | 10/16 [00:30<00:18,  3.09s/it]\u001b[A\n",
      " 69%|██████▉   | 11/16 [00:32<00:13,  2.75s/it]\u001b[A\n",
      " 75%|███████▌  | 12/16 [00:34<00:10,  2.60s/it]\u001b[A\n",
      " 81%|████████▏ | 13/16 [00:37<00:07,  2.45s/it]\u001b[A\n",
      " 88%|████████▊ | 14/16 [00:40<00:05,  2.82s/it]\u001b[A\n",
      " 94%|█████████▍| 15/16 [00:42<00:02,  2.46s/it]\u001b[A\n",
      "100%|██████████| 16/16 [00:44<00:00,  2.77s/it]\u001b[A\n",
      " 68%|██████▊   | 34/50 [1:24:00<35:29, 133.07s/it]\n",
      "  0%|          | 0/20 [00:00<?, ?it/s]\u001b[A\n",
      "  5%|▌         | 1/20 [00:03<00:57,  3.02s/it]\u001b[A"
     ]
    },
    {
     "name": "stdout",
     "output_type": "stream",
     "text": [
      "attribute error:\n",
      "'NoneType' object has no attribute 'text'\n"
     ]
    },
    {
     "name": "stderr",
     "output_type": "stream",
     "text": [
      "\n",
      " 10%|█         | 2/20 [00:07<00:59,  3.31s/it]\u001b[A\n",
      " 15%|█▌        | 3/20 [00:11<01:04,  3.79s/it]\u001b[A"
     ]
    },
    {
     "name": "stdout",
     "output_type": "stream",
     "text": [
      "attribute error:\n",
      "'NoneType' object has no attribute 'text'\n"
     ]
    },
    {
     "name": "stderr",
     "output_type": "stream",
     "text": [
      "\n",
      " 20%|██        | 4/20 [00:16<01:02,  3.89s/it]\u001b[A\n",
      " 25%|██▌       | 5/20 [00:19<00:55,  3.72s/it]\u001b[A"
     ]
    },
    {
     "name": "stdout",
     "output_type": "stream",
     "text": [
      "attribute error:\n",
      "'NoneType' object has no attribute 'text'\n"
     ]
    },
    {
     "name": "stderr",
     "output_type": "stream",
     "text": [
      "\n",
      " 30%|███       | 6/20 [00:23<00:54,  3.87s/it]\u001b[A\n",
      " 35%|███▌      | 7/20 [00:25<00:43,  3.32s/it]\u001b[A\n",
      " 40%|████      | 8/20 [00:30<00:45,  3.78s/it]\u001b[A\n",
      " 45%|████▌     | 9/20 [00:32<00:36,  3.28s/it]\u001b[A\n",
      " 50%|█████     | 10/20 [00:34<00:28,  2.88s/it]\u001b[A\n",
      " 55%|█████▌    | 11/20 [00:38<00:27,  3.10s/it]\u001b[A"
     ]
    },
    {
     "name": "stdout",
     "output_type": "stream",
     "text": [
      "attribute error:\n",
      "'NoneType' object has no attribute 'text'\n"
     ]
    },
    {
     "name": "stderr",
     "output_type": "stream",
     "text": [
      "\n",
      " 60%|██████    | 12/20 [00:40<00:22,  2.81s/it]\u001b[A\n",
      " 65%|██████▌   | 13/20 [00:44<00:22,  3.16s/it]\u001b[A\n",
      " 70%|███████   | 14/20 [00:48<00:21,  3.53s/it]\u001b[A\n",
      " 75%|███████▌  | 15/20 [00:52<00:17,  3.56s/it]\u001b[A"
     ]
    },
    {
     "name": "stdout",
     "output_type": "stream",
     "text": [
      "attribute error:\n",
      "'NoneType' object has no attribute 'text'\n"
     ]
    },
    {
     "name": "stderr",
     "output_type": "stream",
     "text": [
      "\n",
      " 80%|████████  | 16/20 [00:55<00:14,  3.52s/it]\u001b[A"
     ]
    },
    {
     "name": "stdout",
     "output_type": "stream",
     "text": [
      "attribute error:\n",
      "'NoneType' object has no attribute 'text'\n"
     ]
    },
    {
     "name": "stderr",
     "output_type": "stream",
     "text": [
      "\n",
      " 85%|████████▌ | 17/20 [00:59<00:10,  3.58s/it]\u001b[A\n",
      " 90%|█████████ | 18/20 [01:02<00:07,  3.56s/it]\u001b[A\n",
      " 95%|█████████▌| 19/20 [01:06<00:03,  3.45s/it]\u001b[A\n",
      "100%|██████████| 20/20 [01:08<00:00,  3.42s/it]\u001b[A\n",
      "\n",
      "  0%|          | 0/16 [00:00<?, ?it/s]\u001b[A\n",
      "  6%|▋         | 1/16 [00:03<00:47,  3.17s/it]\u001b[A\n",
      " 12%|█▎        | 2/16 [00:06<00:45,  3.22s/it]\u001b[A\n",
      " 19%|█▉        | 3/16 [00:10<00:43,  3.35s/it]\u001b[A"
     ]
    },
    {
     "name": "stdout",
     "output_type": "stream",
     "text": [
      "attribute error:\n",
      "'NoneType' object has no attribute 'text'\n"
     ]
    },
    {
     "name": "stderr",
     "output_type": "stream",
     "text": [
      "\n",
      " 25%|██▌       | 4/16 [00:13<00:41,  3.45s/it]\u001b[A\n",
      " 31%|███▏      | 5/16 [00:15<00:32,  2.96s/it]\u001b[A\n",
      " 38%|███▊      | 6/16 [00:18<00:28,  2.85s/it]\u001b[A\n",
      " 44%|████▍     | 7/16 [00:21<00:25,  2.83s/it]\u001b[A"
     ]
    },
    {
     "name": "stdout",
     "output_type": "stream",
     "text": [
      "attribute error:\n",
      "'NoneType' object has no attribute 'text'\n"
     ]
    },
    {
     "name": "stderr",
     "output_type": "stream",
     "text": [
      "\n",
      " 50%|█████     | 8/16 [00:24<00:23,  2.99s/it]\u001b[A"
     ]
    },
    {
     "name": "stdout",
     "output_type": "stream",
     "text": [
      "attribute error:\n",
      "'NoneType' object has no attribute 'text'\n"
     ]
    },
    {
     "name": "stderr",
     "output_type": "stream",
     "text": [
      "\n",
      " 56%|█████▋    | 9/16 [00:26<00:18,  2.63s/it]\u001b[A\n",
      " 62%|██████▎   | 10/16 [00:28<00:16,  2.69s/it]\u001b[A"
     ]
    },
    {
     "name": "stdout",
     "output_type": "stream",
     "text": [
      "attribute error:\n",
      "'NoneType' object has no attribute 'text'\n"
     ]
    },
    {
     "name": "stderr",
     "output_type": "stream",
     "text": [
      "\n",
      " 69%|██████▉   | 11/16 [00:30<00:12,  2.44s/it]\u001b[A\n",
      " 75%|███████▌  | 12/16 [00:32<00:08,  2.15s/it]\u001b[A\n",
      " 81%|████████▏ | 13/16 [00:33<00:05,  1.94s/it]\u001b[A\n",
      " 88%|████████▊ | 14/16 [00:35<00:03,  1.89s/it]\u001b[A\n",
      " 94%|█████████▍| 15/16 [00:38<00:02,  2.32s/it]\u001b[A\n",
      "100%|██████████| 16/16 [00:42<00:00,  2.69s/it]\u001b[A\n",
      "\n",
      "  0%|          | 0/14 [00:00<?, ?it/s]\u001b[A\n",
      "  7%|▋         | 1/14 [00:03<00:48,  3.76s/it]\u001b[A\n",
      " 14%|█▍        | 2/14 [00:06<00:42,  3.50s/it]\u001b[A\n",
      " 21%|██▏       | 3/14 [00:09<00:37,  3.40s/it]\u001b[A"
     ]
    },
    {
     "name": "stdout",
     "output_type": "stream",
     "text": [
      "attribute error:\n",
      "'NoneType' object has no attribute 'text'\n"
     ]
    },
    {
     "name": "stderr",
     "output_type": "stream",
     "text": [
      "\n",
      " 29%|██▊       | 4/14 [00:11<00:28,  2.86s/it]\u001b[A\n",
      " 36%|███▌      | 5/14 [00:15<00:28,  3.15s/it]\u001b[A\n",
      " 43%|████▎     | 6/14 [00:16<00:21,  2.64s/it]\u001b[A\n",
      " 50%|█████     | 7/14 [00:19<00:19,  2.77s/it]\u001b[A"
     ]
    },
    {
     "name": "stdout",
     "output_type": "stream",
     "text": [
      "attribute error:\n",
      "'NoneType' object has no attribute 'text'\n"
     ]
    },
    {
     "name": "stderr",
     "output_type": "stream",
     "text": [
      "\n",
      " 57%|█████▋    | 8/14 [00:23<00:17,  2.93s/it]\u001b[A\n",
      " 64%|██████▍   | 9/14 [00:25<00:13,  2.76s/it]\u001b[A"
     ]
    },
    {
     "name": "stdout",
     "output_type": "stream",
     "text": [
      "attribute error:\n",
      "'NoneType' object has no attribute 'text'\n"
     ]
    },
    {
     "name": "stderr",
     "output_type": "stream",
     "text": [
      "\n",
      " 71%|███████▏  | 10/14 [00:26<00:09,  2.35s/it]\u001b[A\n",
      " 79%|███████▊  | 11/14 [00:30<00:08,  2.69s/it]\u001b[A\n",
      " 86%|████████▌ | 12/14 [00:32<00:04,  2.40s/it]\u001b[A\n",
      " 93%|█████████▎| 13/14 [00:34<00:02,  2.36s/it]\u001b[A\n",
      "100%|██████████| 14/14 [00:38<00:00,  2.75s/it]\u001b[A\n",
      "\n",
      "  0%|          | 0/16 [00:00<?, ?it/s]\u001b[A\n",
      "  6%|▋         | 1/16 [00:03<00:45,  3.03s/it]\u001b[A\n",
      " 12%|█▎        | 2/16 [00:04<00:36,  2.57s/it]\u001b[A\n",
      " 19%|█▉        | 3/16 [00:06<00:32,  2.52s/it]\u001b[A\n",
      " 25%|██▌       | 4/16 [00:08<00:27,  2.27s/it]\u001b[A\n",
      " 31%|███▏      | 5/16 [00:11<00:26,  2.42s/it]\u001b[A\n",
      " 38%|███▊      | 6/16 [00:12<00:21,  2.15s/it]\u001b[A\n",
      " 44%|████▍     | 7/16 [00:17<00:25,  2.84s/it]\u001b[A\n",
      " 50%|█████     | 8/16 [00:19<00:22,  2.76s/it]\u001b[A\n",
      " 56%|█████▋    | 9/16 [00:21<00:17,  2.45s/it]\u001b[A\n",
      " 62%|██████▎   | 10/16 [00:23<00:14,  2.41s/it]\u001b[A\n",
      " 69%|██████▉   | 11/16 [00:25<00:10,  2.19s/it]\u001b[A\n",
      " 75%|███████▌  | 12/16 [00:27<00:08,  2.09s/it]\u001b[A\n",
      " 81%|████████▏ | 13/16 [00:31<00:07,  2.57s/it]\u001b[A\n",
      " 88%|████████▊ | 14/16 [00:33<00:04,  2.43s/it]\u001b[A\n",
      " 94%|█████████▍| 15/16 [00:33<00:01,  1.78s/it]\u001b[A\n",
      "100%|██████████| 16/16 [00:37<00:00,  2.31s/it]\u001b[A\n",
      " 70%|███████   | 35/50 [1:27:08<37:18, 149.27s/it]\n",
      "  0%|          | 0/16 [00:00<?, ?it/s]\u001b[A\n",
      "  6%|▋         | 1/16 [00:03<00:46,  3.13s/it]\u001b[A"
     ]
    },
    {
     "name": "stdout",
     "output_type": "stream",
     "text": [
      "attribute error:\n",
      "'NoneType' object has no attribute 'text'\n"
     ]
    },
    {
     "name": "stderr",
     "output_type": "stream",
     "text": [
      "\n",
      " 12%|█▎        | 2/16 [00:04<00:38,  2.73s/it]\u001b[A\n",
      " 19%|█▉        | 3/16 [00:07<00:33,  2.57s/it]\u001b[A\n",
      " 25%|██▌       | 4/16 [00:09<00:30,  2.51s/it]\u001b[A\n",
      " 31%|███▏      | 5/16 [00:12<00:30,  2.78s/it]\u001b[A"
     ]
    },
    {
     "name": "stdout",
     "output_type": "stream",
     "text": [
      "attribute error:\n",
      "'NoneType' object has no attribute 'text'\n"
     ]
    },
    {
     "name": "stderr",
     "output_type": "stream",
     "text": [
      "\n",
      " 38%|███▊      | 6/16 [00:16<00:30,  3.01s/it]\u001b[A"
     ]
    },
    {
     "name": "stdout",
     "output_type": "stream",
     "text": [
      "attribute error:\n",
      "'NoneType' object has no attribute 'text'\n"
     ]
    },
    {
     "name": "stderr",
     "output_type": "stream",
     "text": [
      "\n",
      " 44%|████▍     | 7/16 [00:18<00:24,  2.77s/it]\u001b[A\n",
      " 50%|█████     | 8/16 [00:22<00:25,  3.13s/it]\u001b[A"
     ]
    },
    {
     "name": "stdout",
     "output_type": "stream",
     "text": [
      "attribute error:\n",
      "'NoneType' object has no attribute 'text'\n"
     ]
    },
    {
     "name": "stderr",
     "output_type": "stream",
     "text": [
      "\n",
      " 56%|█████▋    | 9/16 [00:26<00:22,  3.26s/it]\u001b[A"
     ]
    },
    {
     "name": "stdout",
     "output_type": "stream",
     "text": [
      "attribute error:\n",
      "'NoneType' object has no attribute 'text'\n"
     ]
    },
    {
     "name": "stderr",
     "output_type": "stream",
     "text": [
      "\n",
      " 62%|██████▎   | 10/16 [00:29<00:20,  3.36s/it]\u001b[A"
     ]
    },
    {
     "name": "stdout",
     "output_type": "stream",
     "text": [
      "attribute error:\n",
      "'NoneType' object has no attribute 'text'\n"
     ]
    },
    {
     "name": "stderr",
     "output_type": "stream",
     "text": [
      "\n",
      " 69%|██████▉   | 11/16 [00:33<00:17,  3.49s/it]\u001b[A\n",
      " 75%|███████▌  | 12/16 [00:37<00:14,  3.61s/it]\u001b[A\n",
      " 81%|████████▏ | 13/16 [00:41<00:10,  3.64s/it]\u001b[A"
     ]
    },
    {
     "name": "stdout",
     "output_type": "stream",
     "text": [
      "attribute error:\n",
      "'NoneType' object has no attribute 'text'\n"
     ]
    },
    {
     "name": "stderr",
     "output_type": "stream",
     "text": [
      "\n",
      " 88%|████████▊ | 14/16 [00:45<00:07,  3.98s/it]\u001b[A\n",
      " 94%|█████████▍| 15/16 [00:49<00:03,  3.85s/it]\u001b[A\n",
      "100%|██████████| 16/16 [00:51<00:00,  3.23s/it]\u001b[A\n",
      "\n",
      "  0%|          | 0/16 [00:00<?, ?it/s]\u001b[A\n",
      "  6%|▋         | 1/16 [00:03<00:55,  3.70s/it]\u001b[A"
     ]
    },
    {
     "name": "stdout",
     "output_type": "stream",
     "text": [
      "attribute error:\n",
      "'NoneType' object has no attribute 'text'\n"
     ]
    },
    {
     "name": "stderr",
     "output_type": "stream",
     "text": [
      "\n",
      " 12%|█▎        | 2/16 [00:05<00:45,  3.22s/it]\u001b[A\n",
      " 19%|█▉        | 3/16 [00:07<00:35,  2.72s/it]\u001b[A\n",
      " 25%|██▌       | 4/16 [00:09<00:30,  2.55s/it]\u001b[A\n",
      " 31%|███▏      | 5/16 [00:11<00:25,  2.34s/it]\u001b[A\n",
      " 38%|███▊      | 6/16 [00:14<00:27,  2.71s/it]\u001b[A\n",
      " 44%|████▍     | 7/16 [00:18<00:25,  2.87s/it]\u001b[A\n",
      " 50%|█████     | 8/16 [00:19<00:20,  2.51s/it]\u001b[A\n",
      " 56%|█████▋    | 9/16 [00:21<00:15,  2.28s/it]\u001b[A\n",
      " 62%|██████▎   | 10/16 [00:24<00:15,  2.50s/it]\u001b[A\n",
      " 69%|██████▉   | 11/16 [00:26<00:11,  2.25s/it]\u001b[A\n",
      " 75%|███████▌  | 12/16 [00:27<00:08,  2.02s/it]\u001b[A\n",
      " 81%|████████▏ | 13/16 [00:29<00:05,  1.92s/it]\u001b[A\n",
      " 88%|████████▊ | 14/16 [00:38<00:08,  4.06s/it]\u001b[A\n",
      " 94%|█████████▍| 15/16 [00:42<00:03,  3.99s/it]\u001b[A\n",
      "100%|██████████| 16/16 [00:43<00:00,  2.73s/it]\u001b[A\n",
      " 72%|███████▏  | 36/50 [1:28:43<31:03, 133.11s/it]\n",
      "  0%|          | 0/15 [00:00<?, ?it/s]\u001b[A\n",
      "  7%|▋         | 1/15 [00:03<00:46,  3.35s/it]\u001b[A"
     ]
    },
    {
     "name": "stdout",
     "output_type": "stream",
     "text": [
      "attribute error:\n",
      "'NoneType' object has no attribute 'text'\n"
     ]
    },
    {
     "name": "stderr",
     "output_type": "stream",
     "text": [
      "\n",
      " 13%|█▎        | 2/15 [00:04<00:33,  2.59s/it]\u001b[A\n",
      " 20%|██        | 3/15 [00:07<00:32,  2.73s/it]\u001b[A"
     ]
    },
    {
     "name": "stdout",
     "output_type": "stream",
     "text": [
      "attribute error:\n",
      "'NoneType' object has no attribute 'text'\n"
     ]
    },
    {
     "name": "stderr",
     "output_type": "stream",
     "text": [
      "\n",
      " 27%|██▋       | 4/15 [00:10<00:32,  3.00s/it]\u001b[A\n",
      " 33%|███▎      | 5/15 [00:14<00:31,  3.16s/it]\u001b[A\n",
      " 40%|████      | 6/15 [00:17<00:28,  3.12s/it]\u001b[A"
     ]
    },
    {
     "name": "stdout",
     "output_type": "stream",
     "text": [
      "attribute error:\n",
      "'NoneType' object has no attribute 'text'\n"
     ]
    },
    {
     "name": "stderr",
     "output_type": "stream",
     "text": [
      "\n",
      " 47%|████▋     | 7/15 [00:20<00:25,  3.14s/it]\u001b[A\n",
      " 53%|█████▎    | 8/15 [00:22<00:18,  2.65s/it]\u001b[A\n",
      " 60%|██████    | 9/15 [00:23<00:14,  2.42s/it]\u001b[A\n",
      " 67%|██████▋   | 10/15 [00:27<00:14,  2.80s/it]\u001b[A\n",
      " 73%|███████▎  | 11/15 [00:32<00:13,  3.29s/it]\u001b[A"
     ]
    },
    {
     "name": "stdout",
     "output_type": "stream",
     "text": [
      "attribute error:\n",
      "'NoneType' object has no attribute 'text'\n"
     ]
    },
    {
     "name": "stderr",
     "output_type": "stream",
     "text": [
      "\n",
      " 80%|████████  | 12/15 [00:35<00:09,  3.25s/it]\u001b[A"
     ]
    },
    {
     "name": "stdout",
     "output_type": "stream",
     "text": [
      "attribute error:\n",
      "'NoneType' object has no attribute 'text'\n"
     ]
    },
    {
     "name": "stderr",
     "output_type": "stream",
     "text": [
      "\n",
      " 87%|████████▋ | 13/15 [00:38<00:06,  3.24s/it]\u001b[A"
     ]
    },
    {
     "name": "stdout",
     "output_type": "stream",
     "text": [
      "attribute error:\n",
      "'NoneType' object has no attribute 'text'\n"
     ]
    },
    {
     "name": "stderr",
     "output_type": "stream",
     "text": [
      "\n",
      " 93%|█████████▎| 14/15 [00:41<00:03,  3.21s/it]\u001b[A"
     ]
    },
    {
     "name": "stdout",
     "output_type": "stream",
     "text": [
      "attribute error:\n",
      "'NoneType' object has no attribute 'text'\n"
     ]
    },
    {
     "name": "stderr",
     "output_type": "stream",
     "text": [
      "\n",
      "100%|██████████| 15/15 [00:44<00:00,  2.97s/it]\u001b[A\n",
      "\n",
      "  0%|          | 0/13 [00:00<?, ?it/s]\u001b[A"
     ]
    },
    {
     "name": "stdout",
     "output_type": "stream",
     "text": [
      "attribute error:\n",
      "'NoneType' object has no attribute 'text'\n"
     ]
    },
    {
     "name": "stderr",
     "output_type": "stream",
     "text": [
      "\n",
      "  8%|▊         | 1/13 [00:03<00:44,  3.73s/it]\u001b[A\n",
      " 15%|█▌        | 2/13 [00:06<00:39,  3.57s/it]\u001b[A\n",
      " 23%|██▎       | 3/13 [00:09<00:31,  3.17s/it]\u001b[A\n",
      " 31%|███       | 4/13 [00:13<00:30,  3.44s/it]\u001b[A\n",
      " 38%|███▊      | 5/13 [00:14<00:23,  2.88s/it]\u001b[A\n",
      " 46%|████▌     | 6/13 [00:16<00:17,  2.56s/it]\u001b[A\n",
      " 54%|█████▍    | 7/13 [00:20<00:17,  2.97s/it]\u001b[A\n",
      " 62%|██████▏   | 8/13 [00:23<00:14,  2.97s/it]\u001b[A"
     ]
    },
    {
     "name": "stdout",
     "output_type": "stream",
     "text": [
      "attribute error:\n",
      "'NoneType' object has no attribute 'text'\n"
     ]
    },
    {
     "name": "stderr",
     "output_type": "stream",
     "text": [
      "\n",
      " 69%|██████▉   | 9/13 [00:25<00:10,  2.70s/it]\u001b[A\n",
      " 77%|███████▋  | 10/13 [00:27<00:07,  2.48s/it]\u001b[A\n",
      " 85%|████████▍ | 11/13 [00:29<00:04,  2.22s/it]\u001b[A\n",
      " 92%|█████████▏| 12/13 [00:33<00:02,  2.90s/it]\u001b[A\n",
      "100%|██████████| 13/13 [00:35<00:00,  2.72s/it]\u001b[A\n",
      "\n",
      "  0%|          | 0/14 [00:00<?, ?it/s]\u001b[A\n",
      "  7%|▋         | 1/14 [00:02<00:28,  2.18s/it]\u001b[A\n",
      " 14%|█▍        | 2/14 [00:04<00:25,  2.11s/it]\u001b[A\n",
      " 21%|██▏       | 3/14 [00:06<00:22,  2.04s/it]\u001b[A\n",
      " 29%|██▊       | 4/14 [00:09<00:24,  2.40s/it]\u001b[A\n",
      " 36%|███▌      | 5/14 [00:13<00:26,  2.92s/it]\u001b[A\n",
      " 43%|████▎     | 6/14 [00:15<00:20,  2.54s/it]\u001b[A\n",
      " 50%|█████     | 7/14 [00:19<00:21,  3.03s/it]\u001b[A\n",
      " 57%|█████▋    | 8/14 [00:22<00:18,  3.10s/it]\u001b[A\n",
      " 64%|██████▍   | 9/14 [00:24<00:13,  2.72s/it]\u001b[A\n",
      " 71%|███████▏  | 10/14 [00:27<00:11,  3.00s/it]\u001b[A\n",
      " 79%|███████▊  | 11/14 [00:32<00:10,  3.44s/it]\u001b[A\n",
      " 86%|████████▌ | 12/14 [00:35<00:06,  3.35s/it]\u001b[A\n",
      " 93%|█████████▎| 13/14 [00:38<00:03,  3.30s/it]\u001b[A\n",
      "100%|██████████| 14/14 [00:40<00:00,  2.88s/it]\u001b[A\n",
      " 74%|███████▍  | 37/50 [1:30:43<28:00, 129.27s/it]\n",
      "  0%|          | 0/14 [00:00<?, ?it/s]\u001b[A\n",
      "  7%|▋         | 1/14 [00:02<00:27,  2.13s/it]\u001b[A\n",
      " 14%|█▍        | 2/14 [00:07<00:38,  3.23s/it]\u001b[A\n",
      " 21%|██▏       | 3/14 [00:11<00:36,  3.29s/it]\u001b[A\n",
      " 29%|██▊       | 4/14 [00:13<00:28,  2.86s/it]\u001b[A\n",
      " 36%|███▌      | 5/14 [00:17<00:28,  3.18s/it]\u001b[A\n",
      " 43%|████▎     | 6/14 [00:19<00:22,  2.81s/it]\u001b[A\n",
      " 50%|█████     | 7/14 [00:20<00:17,  2.51s/it]\u001b[A\n",
      " 57%|█████▋    | 8/14 [00:23<00:14,  2.39s/it]\u001b[A\n",
      " 64%|██████▍   | 9/14 [00:26<00:13,  2.80s/it]\u001b[A\n",
      " 71%|███████▏  | 10/14 [00:30<00:12,  3.07s/it]\u001b[A\n",
      " 79%|███████▊  | 11/14 [00:31<00:07,  2.52s/it]\u001b[A\n",
      " 86%|████████▌ | 12/14 [00:35<00:05,  2.92s/it]\u001b[A\n",
      " 93%|█████████▎| 13/14 [00:37<00:02,  2.55s/it]\u001b[A\n",
      "100%|██████████| 14/14 [00:40<00:00,  2.91s/it]\u001b[A\n",
      "\n",
      "  0%|          | 0/19 [00:00<?, ?it/s]\u001b[A\n",
      "  5%|▌         | 1/19 [00:03<01:04,  3.59s/it]\u001b[A\n",
      " 11%|█         | 2/19 [00:05<00:52,  3.09s/it]\u001b[A\n",
      " 16%|█▌        | 3/19 [00:07<00:42,  2.66s/it]\u001b[A\n",
      " 21%|██        | 4/19 [00:11<00:47,  3.20s/it]\u001b[A\n",
      " 26%|██▋       | 5/19 [00:14<00:43,  3.14s/it]\u001b[A"
     ]
    },
    {
     "name": "stdout",
     "output_type": "stream",
     "text": [
      "attribute error:\n",
      "'NoneType' object has no attribute 'text'\n"
     ]
    },
    {
     "name": "stderr",
     "output_type": "stream",
     "text": [
      "\n",
      " 32%|███▏      | 6/19 [00:16<00:36,  2.85s/it]\u001b[A\n",
      " 37%|███▋      | 7/19 [00:19<00:32,  2.69s/it]\u001b[A\n",
      " 42%|████▏     | 8/19 [00:21<00:27,  2.49s/it]\u001b[A\n",
      " 47%|████▋     | 9/19 [00:23<00:24,  2.40s/it]\u001b[A\n",
      " 53%|█████▎    | 10/19 [00:23<00:15,  1.77s/it]\u001b[A\n",
      " 58%|█████▊    | 11/19 [00:27<00:19,  2.38s/it]\u001b[A\n",
      " 63%|██████▎   | 12/19 [00:29<00:15,  2.27s/it]\u001b[A\n",
      " 68%|██████▊   | 13/19 [00:33<00:16,  2.71s/it]\u001b[A\n",
      " 74%|███████▎  | 14/19 [00:35<00:12,  2.53s/it]\u001b[A\n",
      " 79%|███████▉  | 15/19 [00:37<00:10,  2.57s/it]\u001b[A\n",
      " 84%|████████▍ | 16/19 [00:40<00:07,  2.48s/it]\u001b[A\n",
      " 89%|████████▉ | 17/19 [00:44<00:05,  2.88s/it]\u001b[A\n",
      " 95%|█████████▍| 18/19 [00:47<00:02,  2.91s/it]\u001b[A"
     ]
    },
    {
     "name": "stdout",
     "output_type": "stream",
     "text": [
      "attribute error:\n",
      "'NoneType' object has no attribute 'text'\n"
     ]
    },
    {
     "name": "stderr",
     "output_type": "stream",
     "text": [
      "\n",
      "100%|██████████| 19/19 [00:50<00:00,  2.66s/it]\u001b[A\n",
      "\n",
      "  0%|          | 0/14 [00:00<?, ?it/s]\u001b[A\n",
      "  7%|▋         | 1/14 [00:00<00:03,  3.66it/s]\u001b[A\n",
      " 14%|█▍        | 2/14 [00:03<00:14,  1.23s/it]\u001b[A\n",
      " 21%|██▏       | 3/14 [00:06<00:19,  1.82s/it]\u001b[A\n",
      " 29%|██▊       | 4/14 [00:08<00:17,  1.74s/it]\u001b[A\n",
      " 36%|███▌      | 5/14 [00:12<00:21,  2.36s/it]\u001b[A\n",
      " 43%|████▎     | 6/14 [00:14<00:18,  2.34s/it]\u001b[A"
     ]
    },
    {
     "name": "stdout",
     "output_type": "stream",
     "text": [
      "attribute error:\n",
      "'NoneType' object has no attribute 'text'\n"
     ]
    },
    {
     "name": "stderr",
     "output_type": "stream",
     "text": [
      "\n",
      " 50%|█████     | 7/14 [00:18<00:19,  2.83s/it]\u001b[A\n",
      " 57%|█████▋    | 8/14 [00:20<00:14,  2.49s/it]\u001b[A\n",
      " 64%|██████▍   | 9/14 [00:22<00:11,  2.31s/it]\u001b[A\n",
      " 71%|███████▏  | 10/14 [00:24<00:08,  2.20s/it]\u001b[A\n",
      " 79%|███████▊  | 11/14 [00:27<00:07,  2.56s/it]\u001b[A\n",
      " 86%|████████▌ | 12/14 [00:29<00:04,  2.39s/it]\u001b[A\n",
      " 93%|█████████▎| 13/14 [00:32<00:02,  2.60s/it]\u001b[A"
     ]
    },
    {
     "name": "stdout",
     "output_type": "stream",
     "text": [
      "attribute error:\n",
      "'NoneType' object has no attribute 'text'\n"
     ]
    },
    {
     "name": "stderr",
     "output_type": "stream",
     "text": [
      "\n",
      "100%|██████████| 14/14 [00:35<00:00,  2.55s/it]\u001b[A\n",
      "\n",
      "  0%|          | 0/10 [00:00<?, ?it/s]\u001b[A"
     ]
    },
    {
     "name": "stdout",
     "output_type": "stream",
     "text": [
      "attribute error:\n",
      "'NoneType' object has no attribute 'text'\n"
     ]
    },
    {
     "name": "stderr",
     "output_type": "stream",
     "text": [
      "\n",
      " 10%|█         | 1/10 [00:04<00:37,  4.17s/it]\u001b[A\n",
      " 20%|██        | 2/10 [00:07<00:31,  3.91s/it]\u001b[A\n",
      " 30%|███       | 3/10 [00:12<00:29,  4.19s/it]\u001b[A\n",
      " 40%|████      | 4/10 [00:16<00:25,  4.21s/it]\u001b[A\n",
      " 50%|█████     | 5/10 [00:19<00:19,  3.96s/it]\u001b[A\n",
      " 60%|██████    | 6/10 [00:22<00:14,  3.56s/it]\u001b[A\n",
      " 70%|███████   | 7/10 [00:24<00:09,  3.09s/it]\u001b[A\n",
      " 80%|████████  | 8/10 [00:26<00:05,  2.76s/it]\u001b[A\n",
      " 90%|█████████ | 9/10 [00:28<00:02,  2.49s/it]\u001b[A\n",
      "100%|██████████| 10/10 [00:30<00:00,  3.07s/it]\u001b[A\n",
      " 76%|███████▌  | 38/50 [1:33:21<27:33, 137.77s/it]\n",
      "  0%|          | 0/20 [00:00<?, ?it/s]\u001b[A\n",
      "  5%|▌         | 1/20 [00:01<00:35,  1.85s/it]\u001b[A\n",
      " 10%|█         | 2/20 [00:04<00:40,  2.24s/it]\u001b[A\n",
      " 15%|█▌        | 3/20 [00:06<00:36,  2.16s/it]\u001b[A\n",
      " 20%|██        | 4/20 [00:10<00:39,  2.50s/it]\u001b[A"
     ]
    },
    {
     "name": "stdout",
     "output_type": "stream",
     "text": [
      "attribute error:\n",
      "'NoneType' object has no attribute 'text'\n"
     ]
    },
    {
     "name": "stderr",
     "output_type": "stream",
     "text": [
      "\n",
      " 25%|██▌       | 5/20 [00:13<00:39,  2.64s/it]\u001b[A\n",
      " 30%|███       | 6/20 [00:14<00:33,  2.38s/it]\u001b[A\n",
      " 35%|███▌      | 7/20 [00:17<00:31,  2.46s/it]\u001b[A"
     ]
    },
    {
     "name": "stdout",
     "output_type": "stream",
     "text": [
      "attribute error:\n",
      "'NoneType' object has no attribute 'text'\n"
     ]
    },
    {
     "name": "stderr",
     "output_type": "stream",
     "text": [
      "\n",
      " 40%|████      | 8/20 [00:21<00:33,  2.75s/it]\u001b[A\n",
      " 45%|████▌     | 9/20 [00:22<00:27,  2.50s/it]\u001b[A\n",
      " 50%|█████     | 10/20 [00:25<00:24,  2.43s/it]\u001b[A\n",
      " 55%|█████▌    | 11/20 [00:26<00:19,  2.15s/it]\u001b[A\n",
      " 60%|██████    | 12/20 [00:29<00:19,  2.43s/it]\u001b[A\n",
      " 65%|██████▌   | 13/20 [00:31<00:15,  2.21s/it]\u001b[A\n",
      " 70%|███████   | 14/20 [00:33<00:12,  2.15s/it]\u001b[A\n",
      " 75%|███████▌  | 15/20 [00:36<00:12,  2.43s/it]\u001b[A"
     ]
    },
    {
     "name": "stdout",
     "output_type": "stream",
     "text": [
      "attribute error:\n",
      "'NoneType' object has no attribute 'text'\n"
     ]
    },
    {
     "name": "stderr",
     "output_type": "stream",
     "text": [
      "\n",
      " 80%|████████  | 16/20 [00:39<00:10,  2.65s/it]\u001b[A"
     ]
    },
    {
     "name": "stdout",
     "output_type": "stream",
     "text": [
      "attribute error:\n",
      "'NoneType' object has no attribute 'text'\n"
     ]
    },
    {
     "name": "stderr",
     "output_type": "stream",
     "text": [
      "\n",
      " 85%|████████▌ | 17/20 [00:41<00:07,  2.48s/it]\u001b[A\n",
      " 90%|█████████ | 18/20 [00:44<00:05,  2.63s/it]\u001b[A"
     ]
    },
    {
     "name": "stdout",
     "output_type": "stream",
     "text": [
      "attribute error:\n",
      "'NoneType' object has no attribute 'text'\n"
     ]
    },
    {
     "name": "stderr",
     "output_type": "stream",
     "text": [
      "\n",
      " 95%|█████████▌| 19/20 [00:48<00:02,  2.93s/it]\u001b[A"
     ]
    },
    {
     "name": "stdout",
     "output_type": "stream",
     "text": [
      "attribute error:\n",
      "'NoneType' object has no attribute 'text'\n"
     ]
    },
    {
     "name": "stderr",
     "output_type": "stream",
     "text": [
      "\n",
      "100%|██████████| 20/20 [00:56<00:00,  2.82s/it]\u001b[A\n",
      "\n",
      "  0%|          | 0/15 [00:00<?, ?it/s]\u001b[A\n",
      "  7%|▋         | 1/15 [00:01<00:26,  1.88s/it]\u001b[A\n",
      " 13%|█▎        | 2/15 [00:03<00:24,  1.89s/it]\u001b[A\n",
      " 20%|██        | 3/15 [00:06<00:27,  2.26s/it]\u001b[A\n",
      " 27%|██▋       | 4/15 [00:09<00:24,  2.24s/it]\u001b[A\n",
      " 33%|███▎      | 5/15 [00:11<00:21,  2.17s/it]\u001b[A\n",
      " 40%|████      | 6/15 [00:16<00:29,  3.24s/it]\u001b[A\n",
      " 47%|████▋     | 7/15 [00:18<00:22,  2.78s/it]\u001b[A\n",
      " 53%|█████▎    | 8/15 [00:20<00:17,  2.44s/it]\u001b[A\n",
      " 60%|██████    | 9/15 [00:21<00:13,  2.19s/it]\u001b[A\n",
      " 67%|██████▋   | 10/15 [00:23<00:10,  2.03s/it]\u001b[A\n",
      " 73%|███████▎  | 11/15 [00:26<00:09,  2.36s/it]\u001b[A"
     ]
    },
    {
     "name": "stdout",
     "output_type": "stream",
     "text": [
      "attribute error:\n",
      "'NoneType' object has no attribute 'text'\n"
     ]
    },
    {
     "name": "stderr",
     "output_type": "stream",
     "text": [
      "\n",
      " 80%|████████  | 12/15 [00:29<00:07,  2.66s/it]\u001b[A\n",
      " 87%|████████▋ | 13/15 [00:31<00:04,  2.34s/it]\u001b[A\n",
      " 93%|█████████▎| 14/15 [00:33<00:02,  2.15s/it]\u001b[A\n",
      "100%|██████████| 15/15 [00:39<00:00,  2.62s/it]\u001b[A\n",
      "\n",
      "  0%|          | 0/11 [00:00<?, ?it/s]\u001b[A\n",
      "  9%|▉         | 1/11 [00:03<00:31,  3.18s/it]\u001b[A\n",
      " 18%|█▊        | 2/11 [00:05<00:25,  2.82s/it]\u001b[A\n",
      " 27%|██▋       | 3/11 [00:09<00:26,  3.32s/it]\u001b[A\n",
      " 36%|███▋      | 4/11 [00:13<00:25,  3.61s/it]\u001b[A\n",
      " 45%|████▌     | 5/11 [00:19<00:24,  4.09s/it]\u001b[A\n",
      " 55%|█████▍    | 6/11 [00:21<00:17,  3.47s/it]\u001b[A\n",
      " 64%|██████▎   | 7/11 [00:26<00:15,  3.90s/it]\u001b[A\n",
      " 73%|███████▎  | 8/11 [00:27<00:09,  3.30s/it]\u001b[A\n",
      " 82%|████████▏ | 9/11 [00:30<00:06,  3.04s/it]\u001b[A\n",
      " 91%|█████████ | 10/11 [00:34<00:03,  3.34s/it]\u001b[A\n",
      "100%|██████████| 11/11 [00:36<00:00,  3.33s/it]\u001b[A\n",
      "\n",
      "  0%|          | 0/14 [00:00<?, ?it/s]\u001b[A\n",
      "  7%|▋         | 1/14 [00:04<01:00,  4.62s/it]\u001b[A\n",
      " 14%|█▍        | 2/14 [00:08<00:53,  4.44s/it]\u001b[A\n",
      " 21%|██▏       | 3/14 [00:13<00:50,  4.60s/it]\u001b[A\n",
      " 29%|██▊       | 4/14 [00:18<00:45,  4.56s/it]\u001b[A\n",
      " 36%|███▌      | 5/14 [00:20<00:35,  3.91s/it]\u001b[A\n",
      " 43%|████▎     | 6/14 [00:23<00:30,  3.75s/it]\u001b[A\n",
      " 50%|█████     | 7/14 [00:25<00:22,  3.17s/it]\u001b[A\n",
      " 57%|█████▋    | 8/14 [00:28<00:17,  2.95s/it]\u001b[A\n",
      " 64%|██████▍   | 9/14 [00:30<00:13,  2.64s/it]\u001b[A\n",
      " 71%|███████▏  | 10/14 [00:32<00:09,  2.46s/it]\u001b[A\n",
      " 79%|███████▊  | 11/14 [00:36<00:09,  3.12s/it]\u001b[A\n",
      " 86%|████████▌ | 12/14 [00:40<00:06,  3.26s/it]\u001b[A\n",
      " 93%|█████████▎| 13/14 [00:42<00:02,  2.87s/it]\u001b[A\n",
      "100%|██████████| 14/14 [00:44<00:00,  3.18s/it]\u001b[A\n",
      "\n",
      "  0%|          | 0/12 [00:00<?, ?it/s]\u001b[A\n",
      "  8%|▊         | 1/12 [00:03<00:36,  3.28s/it]\u001b[A\n",
      " 17%|█▋        | 2/12 [00:07<00:35,  3.52s/it]\u001b[A\n",
      " 25%|██▌       | 3/12 [00:07<00:23,  2.56s/it]\u001b[A\n",
      " 33%|███▎      | 4/12 [00:13<00:28,  3.51s/it]\u001b[A\n",
      " 42%|████▏     | 5/12 [00:15<00:22,  3.15s/it]\u001b[A\n",
      " 50%|█████     | 6/12 [00:18<00:19,  3.17s/it]\u001b[A\n",
      " 58%|█████▊    | 7/12 [00:21<00:15,  3.04s/it]\u001b[A\n",
      " 67%|██████▋   | 8/12 [00:24<00:11,  2.87s/it]\u001b[A\n",
      " 75%|███████▌  | 9/12 [00:26<00:07,  2.62s/it]\u001b[A\n",
      " 83%|████████▎ | 10/12 [00:28<00:04,  2.41s/it]\u001b[A\n",
      " 92%|█████████▏| 11/12 [00:31<00:02,  2.72s/it]\u001b[A\n",
      "100%|██████████| 12/12 [00:33<00:00,  2.82s/it]\u001b[A\n",
      "\n",
      "  0%|          | 0/11 [00:00<?, ?it/s]\u001b[A\n",
      "  9%|▉         | 1/11 [00:00<00:02,  3.64it/s]\u001b[A\n",
      " 18%|█▊        | 2/11 [00:03<00:11,  1.29s/it]\u001b[A\n",
      " 27%|██▋       | 3/11 [00:08<00:17,  2.18s/it]\u001b[A\n",
      " 36%|███▋      | 4/11 [00:12<00:20,  2.88s/it]\u001b[A\n",
      " 45%|████▌     | 5/11 [00:18<00:22,  3.80s/it]\u001b[A\n",
      " 55%|█████▍    | 6/11 [00:24<00:21,  4.29s/it]\u001b[A\n",
      " 64%|██████▎   | 7/11 [00:25<00:13,  3.41s/it]\u001b[A\n",
      " 73%|███████▎  | 8/11 [00:29<00:10,  3.64s/it]\u001b[A\n",
      " 82%|████████▏ | 9/11 [00:32<00:06,  3.40s/it]\u001b[A\n",
      " 91%|█████████ | 10/11 [00:34<00:03,  3.02s/it]\u001b[A\n",
      "100%|██████████| 11/11 [00:37<00:00,  3.43s/it]\u001b[A\n",
      " 78%|███████▊  | 39/50 [1:37:29<31:20, 170.91s/it]\n",
      "  0%|          | 0/14 [00:00<?, ?it/s]\u001b[A"
     ]
    },
    {
     "name": "stdout",
     "output_type": "stream",
     "text": [
      "attribute error:\n",
      "'NoneType' object has no attribute 'text'\n"
     ]
    },
    {
     "name": "stderr",
     "output_type": "stream",
     "text": [
      "\n",
      "  7%|▋         | 1/14 [00:02<00:29,  2.25s/it]\u001b[A\n",
      " 14%|█▍        | 2/14 [00:03<00:24,  2.03s/it]\u001b[A\n",
      " 21%|██▏       | 3/14 [00:05<00:20,  1.88s/it]\u001b[A\n",
      " 29%|██▊       | 4/14 [00:09<00:24,  2.45s/it]\u001b[A\n",
      " 36%|███▌      | 5/14 [00:12<00:24,  2.68s/it]\u001b[A"
     ]
    },
    {
     "name": "stdout",
     "output_type": "stream",
     "text": [
      "attribute error:\n",
      "'NoneType' object has no attribute 'text'\n"
     ]
    },
    {
     "name": "stderr",
     "output_type": "stream",
     "text": [
      "\n",
      " 43%|████▎     | 6/14 [00:14<00:20,  2.57s/it]\u001b[A"
     ]
    },
    {
     "name": "stdout",
     "output_type": "stream",
     "text": [
      "attribute error:\n",
      "'NoneType' object has no attribute 'text'\n"
     ]
    },
    {
     "name": "stderr",
     "output_type": "stream",
     "text": [
      "\n",
      " 50%|█████     | 7/14 [00:16<00:16,  2.42s/it]\u001b[A\n",
      " 57%|█████▋    | 8/14 [00:18<00:12,  2.13s/it]\u001b[A\n",
      " 64%|██████▍   | 9/14 [00:19<00:09,  1.97s/it]\u001b[A\n",
      " 71%|███████▏  | 10/14 [00:21<00:07,  1.78s/it]\u001b[A\n",
      " 79%|███████▊  | 11/14 [00:26<00:08,  2.91s/it]\u001b[A\n",
      " 86%|████████▌ | 12/14 [00:28<00:05,  2.64s/it]\u001b[A\n",
      " 93%|█████████▎| 13/14 [00:30<00:02,  2.30s/it]\u001b[A\n",
      "100%|██████████| 14/14 [00:33<00:00,  2.39s/it]\u001b[A\n",
      " 80%|████████  | 40/50 [1:38:03<21:36, 129.68s/it]\n",
      "  0%|          | 0/15 [00:00<?, ?it/s]\u001b[A"
     ]
    },
    {
     "name": "stdout",
     "output_type": "stream",
     "text": [
      "attribute error:\n",
      "'NoneType' object has no attribute 'text'\n"
     ]
    },
    {
     "name": "stderr",
     "output_type": "stream",
     "text": [
      "\n",
      "  7%|▋         | 1/15 [00:03<00:52,  3.77s/it]\u001b[A\n",
      " 13%|█▎        | 2/15 [00:06<00:43,  3.36s/it]\u001b[A\n",
      " 20%|██        | 3/15 [00:09<00:39,  3.29s/it]\u001b[A"
     ]
    },
    {
     "name": "stdout",
     "output_type": "stream",
     "text": [
      "attribute error:\n",
      "'NoneType' object has no attribute 'text'\n"
     ]
    },
    {
     "name": "stderr",
     "output_type": "stream",
     "text": [
      "\n",
      " 27%|██▋       | 4/15 [00:11<00:33,  3.02s/it]\u001b[A\n",
      " 33%|███▎      | 5/15 [00:13<00:27,  2.74s/it]\u001b[A\n",
      " 40%|████      | 6/15 [00:16<00:23,  2.63s/it]\u001b[A\n",
      " 47%|████▋     | 7/15 [00:20<00:24,  3.11s/it]\u001b[A\n",
      " 53%|█████▎    | 8/15 [00:24<00:24,  3.50s/it]\u001b[A\n",
      " 60%|██████    | 9/15 [00:28<00:22,  3.69s/it]\u001b[A\n",
      " 67%|██████▋   | 10/15 [00:30<00:15,  3.00s/it]\u001b[A\n",
      " 73%|███████▎  | 11/15 [00:32<00:10,  2.66s/it]\u001b[A\n",
      " 80%|████████  | 12/15 [00:35<00:08,  2.85s/it]\u001b[A"
     ]
    },
    {
     "name": "stdout",
     "output_type": "stream",
     "text": [
      "attribute error:\n",
      "'NoneType' object has no attribute 'text'\n"
     ]
    },
    {
     "name": "stderr",
     "output_type": "stream",
     "text": [
      "\n",
      " 87%|████████▋ | 13/15 [00:37<00:05,  2.69s/it]\u001b[A\n",
      " 93%|█████████▎| 14/15 [00:39<00:02,  2.46s/it]\u001b[A\n",
      "100%|██████████| 15/15 [00:46<00:00,  3.10s/it]\u001b[A\n",
      "\n",
      "  0%|          | 0/13 [00:00<?, ?it/s]\u001b[A\n",
      "  8%|▊         | 1/13 [00:03<00:38,  3.24s/it]\u001b[A"
     ]
    },
    {
     "name": "stdout",
     "output_type": "stream",
     "text": [
      "attribute error:\n",
      "'NoneType' object has no attribute 'text'\n"
     ]
    },
    {
     "name": "stderr",
     "output_type": "stream",
     "text": [
      "\n",
      " 15%|█▌        | 2/13 [00:05<00:33,  3.04s/it]\u001b[A\n",
      " 23%|██▎       | 3/13 [00:08<00:28,  2.85s/it]\u001b[A\n",
      " 31%|███       | 4/13 [00:11<00:26,  2.90s/it]\u001b[A"
     ]
    },
    {
     "name": "stdout",
     "output_type": "stream",
     "text": [
      "attribute error:\n",
      "'NoneType' object has no attribute 'text'\n"
     ]
    },
    {
     "name": "stderr",
     "output_type": "stream",
     "text": [
      "\n",
      " 38%|███▊      | 5/13 [00:14<00:23,  2.95s/it]\u001b[A"
     ]
    },
    {
     "name": "stdout",
     "output_type": "stream",
     "text": [
      "attribute error:\n",
      "'NoneType' object has no attribute 'text'\n"
     ]
    },
    {
     "name": "stderr",
     "output_type": "stream",
     "text": [
      "\n",
      " 46%|████▌     | 6/13 [00:18<00:23,  3.29s/it]\u001b[A\n",
      " 54%|█████▍    | 7/13 [00:20<00:16,  2.79s/it]\u001b[A\n",
      " 62%|██████▏   | 8/13 [00:24<00:15,  3.17s/it]\u001b[A\n",
      " 69%|██████▉   | 9/13 [00:27<00:13,  3.28s/it]\u001b[A\n",
      " 77%|███████▋  | 10/13 [00:32<00:10,  3.62s/it]\u001b[A\n",
      " 85%|████████▍ | 11/13 [00:35<00:07,  3.68s/it]\u001b[A\n",
      " 92%|█████████▏| 12/13 [00:38<00:03,  3.24s/it]\u001b[A\n",
      "100%|██████████| 13/13 [00:41<00:00,  3.23s/it]\u001b[A\n",
      " 82%|████████▏ | 41/50 [1:39:31<17:35, 117.32s/it]\n",
      "  0%|          | 0/11 [00:00<?, ?it/s]\u001b[A\n",
      "  9%|▉         | 1/11 [00:04<00:40,  4.06s/it]\u001b[A\n",
      " 18%|█▊        | 2/11 [00:07<00:35,  3.96s/it]\u001b[A\n",
      " 27%|██▋       | 3/11 [00:10<00:29,  3.64s/it]\u001b[A"
     ]
    },
    {
     "name": "stdout",
     "output_type": "stream",
     "text": [
      "attribute error:\n",
      "'NoneType' object has no attribute 'text'\n"
     ]
    },
    {
     "name": "stderr",
     "output_type": "stream",
     "text": [
      "\n",
      " 36%|███▋      | 4/11 [00:14<00:25,  3.71s/it]\u001b[A\n",
      " 45%|████▌     | 5/11 [00:17<00:20,  3.43s/it]\u001b[A\n",
      " 55%|█████▍    | 6/11 [00:19<00:14,  2.93s/it]\u001b[A\n",
      " 64%|██████▎   | 7/11 [00:21<00:10,  2.71s/it]\u001b[A\n",
      " 73%|███████▎  | 8/11 [00:24<00:08,  2.94s/it]\u001b[A\n",
      " 82%|████████▏ | 9/11 [00:26<00:05,  2.67s/it]\u001b[A\n",
      " 91%|█████████ | 10/11 [00:30<00:02,  2.85s/it]\u001b[A\n",
      "100%|██████████| 11/11 [00:33<00:00,  3.03s/it]\u001b[A\n",
      "\n",
      "  0%|          | 0/15 [00:00<?, ?it/s]\u001b[A\n",
      "  7%|▋         | 1/15 [00:03<00:50,  3.63s/it]\u001b[A\n",
      " 13%|█▎        | 2/15 [00:06<00:43,  3.33s/it]\u001b[A\n",
      " 20%|██        | 3/15 [00:09<00:40,  3.41s/it]\u001b[A\n",
      " 27%|██▋       | 4/15 [00:11<00:33,  3.01s/it]\u001b[A\n",
      " 33%|███▎      | 5/15 [00:15<00:32,  3.22s/it]\u001b[A\n",
      " 40%|████      | 6/15 [00:19<00:30,  3.44s/it]\u001b[A\n",
      " 47%|████▋     | 7/15 [00:23<00:29,  3.68s/it]\u001b[A\n",
      " 53%|█████▎    | 8/15 [00:26<00:22,  3.23s/it]\u001b[A\n",
      " 60%|██████    | 9/15 [00:28<00:18,  3.09s/it]\u001b[A\n",
      " 67%|██████▋   | 10/15 [00:30<00:13,  2.66s/it]\u001b[A\n",
      " 73%|███████▎  | 11/15 [00:32<00:09,  2.44s/it]\u001b[A\n",
      " 80%|████████  | 12/15 [00:34<00:07,  2.47s/it]\u001b[A\n",
      " 87%|████████▋ | 13/15 [00:37<00:05,  2.58s/it]\u001b[A"
     ]
    },
    {
     "name": "stdout",
     "output_type": "stream",
     "text": [
      "attribute error:\n",
      "'NoneType' object has no attribute 'text'\n"
     ]
    },
    {
     "name": "stderr",
     "output_type": "stream",
     "text": [
      "\n",
      " 93%|█████████▎| 14/15 [00:38<00:02,  2.05s/it]\u001b[A\n",
      "100%|██████████| 15/15 [00:41<00:00,  2.79s/it]\u001b[A\n",
      " 84%|████████▍ | 42/50 [1:40:46<13:57, 104.66s/it]\n",
      "  0%|          | 0/14 [00:00<?, ?it/s]\u001b[A"
     ]
    },
    {
     "name": "stdout",
     "output_type": "stream",
     "text": [
      "attribute error:\n",
      "'NoneType' object has no attribute 'text'\n"
     ]
    },
    {
     "name": "stderr",
     "output_type": "stream",
     "text": [
      "\n",
      "  7%|▋         | 1/14 [00:02<00:27,  2.09s/it]\u001b[A\n",
      " 14%|█▍        | 2/14 [00:06<00:34,  2.83s/it]\u001b[A\n",
      " 21%|██▏       | 3/14 [00:10<00:33,  3.01s/it]\u001b[A\n",
      " 29%|██▊       | 4/14 [00:13<00:30,  3.08s/it]\u001b[A"
     ]
    },
    {
     "name": "stdout",
     "output_type": "stream",
     "text": [
      "attribute error:\n",
      "'NoneType' object has no attribute 'text'\n"
     ]
    },
    {
     "name": "stderr",
     "output_type": "stream",
     "text": [
      "\n",
      " 36%|███▌      | 5/14 [00:14<00:23,  2.63s/it]\u001b[A\n",
      " 43%|████▎     | 6/14 [00:18<00:23,  2.95s/it]\u001b[A\n",
      " 50%|█████     | 7/14 [00:21<00:20,  2.96s/it]\u001b[A\n",
      " 57%|█████▋    | 8/14 [00:24<00:18,  3.04s/it]\u001b[A"
     ]
    },
    {
     "name": "stdout",
     "output_type": "stream",
     "text": [
      "attribute error:\n",
      "'NoneType' object has no attribute 'text'\n"
     ]
    },
    {
     "name": "stderr",
     "output_type": "stream",
     "text": [
      "\n",
      " 64%|██████▍   | 9/14 [00:28<00:15,  3.11s/it]\u001b[A"
     ]
    },
    {
     "name": "stdout",
     "output_type": "stream",
     "text": [
      "attribute error:\n",
      "'NoneType' object has no attribute 'text'\n"
     ]
    },
    {
     "name": "stderr",
     "output_type": "stream",
     "text": [
      "\n",
      " 71%|███████▏  | 10/14 [00:30<00:11,  2.97s/it]\u001b[A"
     ]
    },
    {
     "name": "stdout",
     "output_type": "stream",
     "text": [
      "attribute error:\n",
      "'NoneType' object has no attribute 'text'\n"
     ]
    },
    {
     "name": "stderr",
     "output_type": "stream",
     "text": [
      "\n",
      " 79%|███████▊  | 11/14 [00:33<00:08,  3.00s/it]\u001b[A"
     ]
    },
    {
     "name": "stdout",
     "output_type": "stream",
     "text": [
      "attribute error:\n",
      "'NoneType' object has no attribute 'text'\n"
     ]
    },
    {
     "name": "stderr",
     "output_type": "stream",
     "text": [
      "\n",
      " 86%|████████▌ | 12/14 [00:37<00:06,  3.12s/it]\u001b[A"
     ]
    },
    {
     "name": "stdout",
     "output_type": "stream",
     "text": [
      "attribute error:\n",
      "'NoneType' object has no attribute 'text'\n"
     ]
    },
    {
     "name": "stderr",
     "output_type": "stream",
     "text": [
      "\n",
      " 93%|█████████▎| 13/14 [00:38<00:02,  2.69s/it]\u001b[A\n",
      "100%|██████████| 14/14 [00:41<00:00,  2.99s/it]\u001b[A\n",
      " 86%|████████▌ | 43/50 [1:41:28<10:00, 85.84s/it] \n",
      "  0%|          | 0/18 [00:00<?, ?it/s]\u001b[A"
     ]
    },
    {
     "name": "stdout",
     "output_type": "stream",
     "text": [
      "attribute error:\n",
      "'NoneType' object has no attribute 'text'\n"
     ]
    },
    {
     "name": "stderr",
     "output_type": "stream",
     "text": [
      "\n",
      "  6%|▌         | 1/18 [00:01<00:29,  1.73s/it]\u001b[A\n",
      " 11%|█         | 2/18 [00:03<00:27,  1.69s/it]\u001b[A\n",
      " 17%|█▋        | 3/18 [00:06<00:30,  2.01s/it]\u001b[A"
     ]
    },
    {
     "name": "stdout",
     "output_type": "stream",
     "text": [
      "attribute error:\n",
      "'NoneType' object has no attribute 'text'\n"
     ]
    },
    {
     "name": "stderr",
     "output_type": "stream",
     "text": [
      "\n",
      " 22%|██▏       | 4/18 [00:09<00:34,  2.47s/it]\u001b[A\n",
      " 28%|██▊       | 5/18 [00:11<00:28,  2.20s/it]\u001b[A\n",
      " 33%|███▎      | 6/18 [00:12<00:24,  2.06s/it]\u001b[A\n",
      " 39%|███▉      | 7/18 [00:16<00:26,  2.38s/it]\u001b[A"
     ]
    },
    {
     "name": "stdout",
     "output_type": "stream",
     "text": [
      "attribute error:\n",
      "'NoneType' object has no attribute 'text'\n"
     ]
    },
    {
     "name": "stderr",
     "output_type": "stream",
     "text": [
      "\n",
      " 44%|████▍     | 8/18 [00:19<00:26,  2.63s/it]\u001b[A\n",
      " 50%|█████     | 9/18 [00:22<00:25,  2.82s/it]\u001b[A\n",
      " 56%|█████▌    | 10/18 [00:24<00:20,  2.57s/it]\u001b[A\n",
      " 61%|██████    | 11/18 [00:26<00:16,  2.36s/it]\u001b[A\n",
      " 67%|██████▋   | 12/18 [00:28<00:12,  2.15s/it]\u001b[A\n",
      " 72%|███████▏  | 13/18 [00:30<00:11,  2.37s/it]\u001b[A\n",
      " 78%|███████▊  | 14/18 [00:32<00:08,  2.15s/it]\u001b[A\n",
      " 83%|████████▎ | 15/18 [00:34<00:06,  2.06s/it]\u001b[A\n",
      " 89%|████████▉ | 16/18 [00:38<00:05,  2.59s/it]\u001b[A\n",
      " 94%|█████████▍| 17/18 [00:40<00:02,  2.37s/it]\u001b[A\n",
      "100%|██████████| 18/18 [00:41<00:00,  2.31s/it]\u001b[A\n",
      "\n",
      "  0%|          | 0/12 [00:00<?, ?it/s]\u001b[A\n",
      "  8%|▊         | 1/12 [00:02<00:23,  2.12s/it]\u001b[A\n",
      " 17%|█▋        | 2/12 [00:06<00:26,  2.68s/it]\u001b[A"
     ]
    },
    {
     "name": "stdout",
     "output_type": "stream",
     "text": [
      "attribute error:\n",
      "'NoneType' object has no attribute 'text'\n"
     ]
    },
    {
     "name": "stderr",
     "output_type": "stream",
     "text": [
      "\n",
      " 25%|██▌       | 3/12 [00:10<00:28,  3.21s/it]\u001b[A\n",
      " 33%|███▎      | 4/12 [00:14<00:27,  3.41s/it]\u001b[A\n",
      " 42%|████▏     | 5/12 [00:17<00:23,  3.30s/it]\u001b[A"
     ]
    },
    {
     "name": "stdout",
     "output_type": "stream",
     "text": [
      "attribute error:\n",
      "'NoneType' object has no attribute 'text'\n"
     ]
    },
    {
     "name": "stderr",
     "output_type": "stream",
     "text": [
      "\n",
      " 50%|█████     | 6/12 [00:19<00:17,  2.98s/it]\u001b[A"
     ]
    },
    {
     "name": "stdout",
     "output_type": "stream",
     "text": [
      "attribute error:\n",
      "'NoneType' object has no attribute 'text'\n"
     ]
    },
    {
     "name": "stderr",
     "output_type": "stream",
     "text": [
      "\n",
      " 58%|█████▊    | 7/12 [00:23<00:15,  3.12s/it]\u001b[A\n",
      " 67%|██████▋   | 8/12 [00:27<00:13,  3.34s/it]\u001b[A\n",
      " 75%|███████▌  | 9/12 [00:28<00:08,  2.82s/it]\u001b[A\n",
      " 83%|████████▎ | 10/12 [00:31<00:05,  2.86s/it]\u001b[A"
     ]
    },
    {
     "name": "stdout",
     "output_type": "stream",
     "text": [
      "attribute error:\n",
      "'NoneType' object has no attribute 'text'\n"
     ]
    },
    {
     "name": "stderr",
     "output_type": "stream",
     "text": [
      "\n",
      " 92%|█████████▏| 11/12 [00:33<00:02,  2.67s/it]\u001b[A\n",
      "100%|██████████| 12/12 [00:37<00:00,  3.16s/it]\u001b[A\n",
      " 88%|████████▊ | 44/50 [1:42:48<08:23, 83.95s/it]\n",
      "  0%|          | 0/19 [00:00<?, ?it/s]\u001b[A\n",
      "  5%|▌         | 1/19 [00:00<00:10,  1.65it/s]\u001b[A\n",
      " 11%|█         | 2/19 [00:02<00:19,  1.14s/it]\u001b[A\n",
      " 16%|█▌        | 3/19 [00:04<00:20,  1.25s/it]\u001b[A\n",
      " 21%|██        | 4/19 [00:06<00:22,  1.53s/it]\u001b[A\n",
      " 26%|██▋       | 5/19 [00:09<00:27,  1.98s/it]\u001b[A"
     ]
    },
    {
     "name": "stdout",
     "output_type": "stream",
     "text": [
      "attribute error:\n",
      "'NoneType' object has no attribute 'text'\n"
     ]
    },
    {
     "name": "stderr",
     "output_type": "stream",
     "text": [
      "\n",
      " 32%|███▏      | 6/19 [00:13<00:31,  2.46s/it]\u001b[A"
     ]
    },
    {
     "name": "stdout",
     "output_type": "stream",
     "text": [
      "attribute error:\n",
      "'NoneType' object has no attribute 'text'\n"
     ]
    },
    {
     "name": "stderr",
     "output_type": "stream",
     "text": [
      "\n",
      " 37%|███▋      | 7/19 [00:16<00:33,  2.78s/it]\u001b[A\n",
      " 42%|████▏     | 8/19 [00:19<00:29,  2.67s/it]\u001b[A"
     ]
    },
    {
     "name": "stdout",
     "output_type": "stream",
     "text": [
      "attribute error:\n",
      "'NoneType' object has no attribute 'text'\n"
     ]
    },
    {
     "name": "stderr",
     "output_type": "stream",
     "text": [
      "\n",
      " 47%|████▋     | 9/19 [00:23<00:31,  3.11s/it]\u001b[A\n",
      " 53%|█████▎    | 10/19 [00:24<00:21,  2.41s/it]\u001b[A\n",
      " 58%|█████▊    | 11/19 [00:26<00:20,  2.52s/it]\u001b[A\n",
      " 63%|██████▎   | 12/19 [00:28<00:16,  2.38s/it]\u001b[A\n",
      " 68%|██████▊   | 13/19 [00:31<00:14,  2.35s/it]\u001b[A\n",
      " 74%|███████▎  | 14/19 [00:32<00:09,  1.91s/it]\u001b[A\n",
      " 79%|███████▉  | 15/19 [00:32<00:06,  1.53s/it]\u001b[A\n",
      " 84%|████████▍ | 16/19 [00:33<00:03,  1.25s/it]\u001b[A\n",
      " 89%|████████▉ | 17/19 [00:34<00:02,  1.24s/it]\u001b[A\n",
      " 95%|█████████▍| 18/19 [00:37<00:01,  1.60s/it]\u001b[A\n",
      "100%|██████████| 19/19 [00:41<00:00,  2.18s/it]\u001b[A\n",
      "\n",
      "  0%|          | 0/10 [00:00<?, ?it/s]\u001b[A"
     ]
    },
    {
     "name": "stdout",
     "output_type": "stream",
     "text": [
      "attribute error:\n",
      "'NoneType' object has no attribute 'text'\n"
     ]
    },
    {
     "name": "stderr",
     "output_type": "stream",
     "text": [
      "\n",
      " 10%|█         | 1/10 [00:02<00:21,  2.39s/it]\u001b[A\n",
      " 20%|██        | 2/10 [00:03<00:14,  1.87s/it]\u001b[A\n",
      " 30%|███       | 3/10 [00:06<00:17,  2.46s/it]\u001b[A\n",
      " 40%|████      | 4/10 [00:08<00:13,  2.19s/it]\u001b[A\n",
      " 50%|█████     | 5/10 [00:10<00:10,  2.18s/it]\u001b[A\n",
      " 60%|██████    | 6/10 [00:13<00:09,  2.26s/it]\u001b[A"
     ]
    },
    {
     "name": "stdout",
     "output_type": "stream",
     "text": [
      "attribute error:\n",
      "'NoneType' object has no attribute 'text'\n"
     ]
    },
    {
     "name": "stderr",
     "output_type": "stream",
     "text": [
      "\n",
      " 70%|███████   | 7/10 [00:15<00:06,  2.27s/it]\u001b[A\n",
      " 80%|████████  | 8/10 [00:16<00:03,  1.86s/it]\u001b[A\n",
      " 90%|█████████ | 9/10 [00:18<00:02,  2.13s/it]\u001b[A\n",
      "100%|██████████| 10/10 [00:22<00:00,  2.27s/it]\u001b[A\n",
      "\n",
      "  0%|          | 0/12 [00:00<?, ?it/s]\u001b[A\n",
      "  8%|▊         | 1/12 [00:04<00:47,  4.28s/it]\u001b[A"
     ]
    },
    {
     "name": "stdout",
     "output_type": "stream",
     "text": [
      "attribute error:\n",
      "'NoneType' object has no attribute 'text'\n"
     ]
    },
    {
     "name": "stderr",
     "output_type": "stream",
     "text": [
      "\n",
      " 17%|█▋        | 2/12 [00:08<00:43,  4.35s/it]\u001b[A\n",
      " 25%|██▌       | 3/12 [00:11<00:35,  3.89s/it]\u001b[A\n",
      " 33%|███▎      | 4/12 [00:13<00:26,  3.29s/it]\u001b[A\n",
      " 42%|████▏     | 5/12 [00:14<00:17,  2.49s/it]\u001b[A\n",
      " 50%|█████     | 6/12 [00:14<00:11,  1.92s/it]\u001b[A\n",
      " 58%|█████▊    | 7/12 [00:15<00:07,  1.52s/it]\u001b[A\n",
      " 67%|██████▋   | 8/12 [00:15<00:05,  1.26s/it]\u001b[A\n",
      " 75%|███████▌  | 9/12 [00:16<00:03,  1.06s/it]\u001b[A\n",
      " 83%|████████▎ | 10/12 [00:17<00:01,  1.08it/s]\u001b[A\n",
      " 92%|█████████▏| 11/12 [00:17<00:00,  1.20it/s]\u001b[A\n",
      "100%|██████████| 12/12 [00:24<00:00,  2.02s/it]\u001b[A\n",
      "\n",
      "  0%|          | 0/12 [00:00<?, ?it/s]\u001b[A"
     ]
    },
    {
     "name": "stdout",
     "output_type": "stream",
     "text": [
      "attribute error:\n",
      "'NoneType' object has no attribute 'text'\n"
     ]
    },
    {
     "name": "stderr",
     "output_type": "stream",
     "text": [
      "\n",
      "  8%|▊         | 1/12 [00:03<00:33,  3.04s/it]\u001b[A\n",
      " 17%|█▋        | 2/12 [00:05<00:27,  2.80s/it]\u001b[A\n",
      " 25%|██▌       | 3/12 [00:09<00:29,  3.33s/it]\u001b[A\n",
      " 33%|███▎      | 4/12 [00:11<00:22,  2.87s/it]\u001b[A\n",
      " 42%|████▏     | 5/12 [00:14<00:19,  2.74s/it]\u001b[A\n",
      " 50%|█████     | 6/12 [00:17<00:18,  3.04s/it]\u001b[A\n",
      " 58%|█████▊    | 7/12 [00:18<00:11,  2.39s/it]\u001b[A\n",
      " 67%|██████▋   | 8/12 [00:22<00:10,  2.69s/it]\u001b[A\n",
      " 75%|███████▌  | 9/12 [00:24<00:07,  2.53s/it]\u001b[A\n",
      " 83%|████████▎ | 10/12 [00:27<00:05,  2.78s/it]\u001b[A\n",
      " 92%|█████████▏| 11/12 [00:30<00:02,  2.67s/it]\u001b[A\n",
      "100%|██████████| 12/12 [00:33<00:00,  2.76s/it]\u001b[A\n",
      " 90%|█████████ | 45/50 [1:44:49<07:56, 95.22s/it]\n",
      "  0%|          | 0/20 [00:00<?, ?it/s]\u001b[A\n",
      "  5%|▌         | 1/20 [00:03<01:04,  3.41s/it]\u001b[A"
     ]
    },
    {
     "name": "stdout",
     "output_type": "stream",
     "text": [
      "attribute error:\n",
      "'NoneType' object has no attribute 'text'\n"
     ]
    },
    {
     "name": "stderr",
     "output_type": "stream",
     "text": [
      "\n",
      " 10%|█         | 2/20 [00:06<01:01,  3.40s/it]\u001b[A"
     ]
    },
    {
     "name": "stdout",
     "output_type": "stream",
     "text": [
      "attribute error:\n",
      "'NoneType' object has no attribute 'text'\n"
     ]
    },
    {
     "name": "stderr",
     "output_type": "stream",
     "text": [
      "\n",
      " 15%|█▌        | 3/20 [00:10<00:57,  3.38s/it]\u001b[A"
     ]
    },
    {
     "name": "stdout",
     "output_type": "stream",
     "text": [
      "attribute error:\n",
      "'NoneType' object has no attribute 'text'\n"
     ]
    },
    {
     "name": "stderr",
     "output_type": "stream",
     "text": [
      "\n",
      " 20%|██        | 4/20 [00:13<00:54,  3.40s/it]\u001b[A"
     ]
    },
    {
     "name": "stdout",
     "output_type": "stream",
     "text": [
      "attribute error:\n",
      "'NoneType' object has no attribute 'text'\n"
     ]
    },
    {
     "name": "stderr",
     "output_type": "stream",
     "text": [
      "\n",
      " 25%|██▌       | 5/20 [00:16<00:50,  3.37s/it]\u001b[A"
     ]
    },
    {
     "name": "stdout",
     "output_type": "stream",
     "text": [
      "attribute error:\n",
      "'NoneType' object has no attribute 'text'\n"
     ]
    },
    {
     "name": "stderr",
     "output_type": "stream",
     "text": [
      "\n",
      " 30%|███       | 6/20 [00:19<00:45,  3.27s/it]\u001b[A"
     ]
    },
    {
     "name": "stdout",
     "output_type": "stream",
     "text": [
      "attribute error:\n",
      "'NoneType' object has no attribute 'text'\n"
     ]
    },
    {
     "name": "stderr",
     "output_type": "stream",
     "text": [
      "\n",
      " 35%|███▌      | 7/20 [00:23<00:42,  3.24s/it]\u001b[A"
     ]
    },
    {
     "name": "stdout",
     "output_type": "stream",
     "text": [
      "attribute error:\n",
      "'NoneType' object has no attribute 'text'\n"
     ]
    },
    {
     "name": "stderr",
     "output_type": "stream",
     "text": [
      "\n",
      " 40%|████      | 8/20 [00:26<00:39,  3.26s/it]\u001b[A"
     ]
    },
    {
     "name": "stdout",
     "output_type": "stream",
     "text": [
      "attribute error:\n",
      "'NoneType' object has no attribute 'text'\n"
     ]
    },
    {
     "name": "stderr",
     "output_type": "stream",
     "text": [
      "\n",
      " 45%|████▌     | 9/20 [00:28<00:33,  3.03s/it]\u001b[A"
     ]
    },
    {
     "name": "stdout",
     "output_type": "stream",
     "text": [
      "attribute error:\n",
      "'NoneType' object has no attribute 'text'\n"
     ]
    },
    {
     "name": "stderr",
     "output_type": "stream",
     "text": [
      "\n",
      " 50%|█████     | 10/20 [00:32<00:30,  3.10s/it]\u001b[A"
     ]
    },
    {
     "name": "stdout",
     "output_type": "stream",
     "text": [
      "attribute error:\n",
      "'NoneType' object has no attribute 'text'\n"
     ]
    },
    {
     "name": "stderr",
     "output_type": "stream",
     "text": [
      "\n",
      " 55%|█████▌    | 11/20 [00:35<00:28,  3.12s/it]\u001b[A"
     ]
    },
    {
     "name": "stdout",
     "output_type": "stream",
     "text": [
      "attribute error:\n",
      "'NoneType' object has no attribute 'text'\n"
     ]
    },
    {
     "name": "stderr",
     "output_type": "stream",
     "text": [
      "\n",
      " 60%|██████    | 12/20 [00:38<00:25,  3.21s/it]\u001b[A"
     ]
    },
    {
     "name": "stdout",
     "output_type": "stream",
     "text": [
      "attribute error:\n",
      "'NoneType' object has no attribute 'text'\n"
     ]
    },
    {
     "name": "stderr",
     "output_type": "stream",
     "text": [
      "\n",
      " 65%|██████▌   | 13/20 [00:42<00:22,  3.27s/it]\u001b[A"
     ]
    },
    {
     "name": "stdout",
     "output_type": "stream",
     "text": [
      "attribute error:\n",
      "'NoneType' object has no attribute 'text'\n"
     ]
    },
    {
     "name": "stderr",
     "output_type": "stream",
     "text": [
      "\n",
      " 70%|███████   | 14/20 [00:45<00:19,  3.28s/it]\u001b[A"
     ]
    },
    {
     "name": "stdout",
     "output_type": "stream",
     "text": [
      "attribute error:\n",
      "'NoneType' object has no attribute 'text'\n"
     ]
    },
    {
     "name": "stderr",
     "output_type": "stream",
     "text": [
      "\n",
      " 75%|███████▌  | 15/20 [00:48<00:15,  3.14s/it]\u001b[A"
     ]
    },
    {
     "name": "stdout",
     "output_type": "stream",
     "text": [
      "attribute error:\n",
      "'NoneType' object has no attribute 'text'\n"
     ]
    },
    {
     "name": "stderr",
     "output_type": "stream",
     "text": [
      "\n",
      " 80%|████████  | 16/20 [00:51<00:12,  3.11s/it]\u001b[A"
     ]
    },
    {
     "name": "stdout",
     "output_type": "stream",
     "text": [
      "attribute error:\n",
      "'NoneType' object has no attribute 'text'\n"
     ]
    },
    {
     "name": "stderr",
     "output_type": "stream",
     "text": [
      "\n",
      " 85%|████████▌ | 17/20 [00:54<00:09,  3.10s/it]\u001b[A"
     ]
    },
    {
     "name": "stdout",
     "output_type": "stream",
     "text": [
      "attribute error:\n",
      "'NoneType' object has no attribute 'text'\n"
     ]
    },
    {
     "name": "stderr",
     "output_type": "stream",
     "text": [
      "\n",
      " 90%|█████████ | 18/20 [00:57<00:06,  3.18s/it]\u001b[A"
     ]
    },
    {
     "name": "stdout",
     "output_type": "stream",
     "text": [
      "attribute error:\n",
      "'NoneType' object has no attribute 'text'\n"
     ]
    },
    {
     "name": "stderr",
     "output_type": "stream",
     "text": [
      "\n",
      " 95%|█████████▌| 19/20 [01:01<00:03,  3.24s/it]\u001b[A"
     ]
    },
    {
     "name": "stdout",
     "output_type": "stream",
     "text": [
      "attribute error:\n",
      "'NoneType' object has no attribute 'text'\n"
     ]
    },
    {
     "name": "stderr",
     "output_type": "stream",
     "text": [
      "\n",
      "100%|██████████| 20/20 [01:03<00:00,  3.20s/it]\u001b[A\n",
      "\n",
      "  0%|          | 0/17 [00:00<?, ?it/s]\u001b[A"
     ]
    },
    {
     "name": "stdout",
     "output_type": "stream",
     "text": [
      "attribute error:\n",
      "'NoneType' object has no attribute 'text'\n"
     ]
    },
    {
     "name": "stderr",
     "output_type": "stream",
     "text": [
      "\n",
      "  6%|▌         | 1/17 [00:03<00:51,  3.25s/it]\u001b[A"
     ]
    },
    {
     "name": "stdout",
     "output_type": "stream",
     "text": [
      "attribute error:\n",
      "'NoneType' object has no attribute 'text'\n"
     ]
    },
    {
     "name": "stderr",
     "output_type": "stream",
     "text": [
      "\n",
      " 12%|█▏        | 2/17 [00:06<00:49,  3.29s/it]\u001b[A"
     ]
    },
    {
     "name": "stdout",
     "output_type": "stream",
     "text": [
      "attribute error:\n",
      "'NoneType' object has no attribute 'text'\n"
     ]
    },
    {
     "name": "stderr",
     "output_type": "stream",
     "text": [
      "\n",
      " 18%|█▊        | 3/17 [00:10<00:46,  3.32s/it]\u001b[A"
     ]
    },
    {
     "name": "stdout",
     "output_type": "stream",
     "text": [
      "attribute error:\n",
      "'NoneType' object has no attribute 'text'\n"
     ]
    },
    {
     "name": "stderr",
     "output_type": "stream",
     "text": [
      "\n",
      " 24%|██▎       | 4/17 [00:12<00:41,  3.20s/it]\u001b[A"
     ]
    },
    {
     "name": "stdout",
     "output_type": "stream",
     "text": [
      "attribute error:\n",
      "'NoneType' object has no attribute 'text'\n"
     ]
    },
    {
     "name": "stderr",
     "output_type": "stream",
     "text": [
      "\n",
      " 29%|██▉       | 5/17 [00:16<00:38,  3.20s/it]\u001b[A"
     ]
    },
    {
     "name": "stdout",
     "output_type": "stream",
     "text": [
      "attribute error:\n",
      "'NoneType' object has no attribute 'text'\n"
     ]
    },
    {
     "name": "stderr",
     "output_type": "stream",
     "text": [
      "\n",
      " 35%|███▌      | 6/17 [00:19<00:35,  3.22s/it]\u001b[A"
     ]
    },
    {
     "name": "stdout",
     "output_type": "stream",
     "text": [
      "attribute error:\n",
      "'NoneType' object has no attribute 'text'\n"
     ]
    },
    {
     "name": "stderr",
     "output_type": "stream",
     "text": [
      "\n",
      " 41%|████      | 7/17 [00:22<00:32,  3.23s/it]\u001b[A"
     ]
    },
    {
     "name": "stdout",
     "output_type": "stream",
     "text": [
      "attribute error:\n",
      "'NoneType' object has no attribute 'text'\n"
     ]
    },
    {
     "name": "stderr",
     "output_type": "stream",
     "text": [
      "\n",
      " 47%|████▋     | 8/17 [00:26<00:29,  3.30s/it]\u001b[A"
     ]
    },
    {
     "name": "stdout",
     "output_type": "stream",
     "text": [
      "attribute error:\n",
      "'NoneType' object has no attribute 'text'\n"
     ]
    },
    {
     "name": "stderr",
     "output_type": "stream",
     "text": [
      "\n",
      " 53%|█████▎    | 9/17 [00:29<00:27,  3.46s/it]\u001b[A"
     ]
    },
    {
     "name": "stdout",
     "output_type": "stream",
     "text": [
      "attribute error:\n",
      "'NoneType' object has no attribute 'text'\n"
     ]
    },
    {
     "name": "stderr",
     "output_type": "stream",
     "text": [
      "\n",
      " 59%|█████▉    | 10/17 [00:33<00:24,  3.44s/it]\u001b[A"
     ]
    },
    {
     "name": "stdout",
     "output_type": "stream",
     "text": [
      "attribute error:\n",
      "'NoneType' object has no attribute 'text'\n"
     ]
    },
    {
     "name": "stderr",
     "output_type": "stream",
     "text": [
      "\n",
      " 65%|██████▍   | 11/17 [00:37<00:21,  3.52s/it]\u001b[A"
     ]
    },
    {
     "name": "stdout",
     "output_type": "stream",
     "text": [
      "attribute error:\n",
      "'NoneType' object has no attribute 'text'\n"
     ]
    },
    {
     "name": "stderr",
     "output_type": "stream",
     "text": [
      "\n",
      " 71%|███████   | 12/17 [00:40<00:17,  3.47s/it]\u001b[A"
     ]
    },
    {
     "name": "stdout",
     "output_type": "stream",
     "text": [
      "attribute error:\n",
      "'NoneType' object has no attribute 'text'\n"
     ]
    },
    {
     "name": "stderr",
     "output_type": "stream",
     "text": [
      "\n",
      " 76%|███████▋  | 13/17 [00:43<00:13,  3.28s/it]\u001b[A"
     ]
    },
    {
     "name": "stdout",
     "output_type": "stream",
     "text": [
      "attribute error:\n",
      "'NoneType' object has no attribute 'text'\n"
     ]
    },
    {
     "name": "stderr",
     "output_type": "stream",
     "text": [
      "\n",
      " 82%|████████▏ | 14/17 [00:46<00:09,  3.22s/it]\u001b[A"
     ]
    },
    {
     "name": "stdout",
     "output_type": "stream",
     "text": [
      "attribute error:\n",
      "'NoneType' object has no attribute 'text'\n"
     ]
    },
    {
     "name": "stderr",
     "output_type": "stream",
     "text": [
      "\n",
      " 88%|████████▊ | 15/17 [00:49<00:06,  3.17s/it]\u001b[A"
     ]
    },
    {
     "name": "stdout",
     "output_type": "stream",
     "text": [
      "attribute error:\n",
      "'NoneType' object has no attribute 'text'\n"
     ]
    },
    {
     "name": "stderr",
     "output_type": "stream",
     "text": [
      "\n",
      " 94%|█████████▍| 16/17 [00:52<00:03,  3.23s/it]\u001b[A"
     ]
    },
    {
     "name": "stdout",
     "output_type": "stream",
     "text": [
      "attribute error:\n",
      "'NoneType' object has no attribute 'text'\n"
     ]
    },
    {
     "name": "stderr",
     "output_type": "stream",
     "text": [
      "\n",
      "100%|██████████| 17/17 [00:56<00:00,  3.30s/it]\u001b[A\n",
      " 92%|█████████▏| 46/50 [1:46:49<06:50, 102.68s/it]\n",
      "  0%|          | 0/14 [00:00<?, ?it/s]\u001b[A"
     ]
    },
    {
     "name": "stdout",
     "output_type": "stream",
     "text": [
      "attribute error:\n",
      "'NoneType' object has no attribute 'text'\n"
     ]
    },
    {
     "name": "stderr",
     "output_type": "stream",
     "text": [
      "\n",
      "  7%|▋         | 1/14 [00:03<00:47,  3.68s/it]\u001b[A"
     ]
    },
    {
     "name": "stdout",
     "output_type": "stream",
     "text": [
      "attribute error:\n",
      "'NoneType' object has no attribute 'text'\n"
     ]
    },
    {
     "name": "stderr",
     "output_type": "stream",
     "text": [
      "\n",
      " 14%|█▍        | 2/14 [00:08<00:49,  4.15s/it]\u001b[A\n",
      " 21%|██▏       | 3/14 [00:11<00:41,  3.73s/it]\u001b[A\n",
      " 29%|██▊       | 4/14 [00:15<00:36,  3.62s/it]\u001b[A\n",
      " 36%|███▌      | 5/14 [00:18<00:31,  3.47s/it]\u001b[A"
     ]
    },
    {
     "name": "stdout",
     "output_type": "stream",
     "text": [
      "attribute error:\n",
      "'NoneType' object has no attribute 'text'\n"
     ]
    },
    {
     "name": "stderr",
     "output_type": "stream",
     "text": [
      "\n",
      " 43%|████▎     | 6/14 [00:22<00:29,  3.71s/it]\u001b[A\n",
      " 50%|█████     | 7/14 [00:25<00:24,  3.52s/it]\u001b[A\n",
      " 57%|█████▋    | 8/14 [00:28<00:20,  3.47s/it]\u001b[A"
     ]
    },
    {
     "name": "stdout",
     "output_type": "stream",
     "text": [
      "attribute error:\n",
      "'NoneType' object has no attribute 'text'\n"
     ]
    },
    {
     "name": "stderr",
     "output_type": "stream",
     "text": [
      "\n",
      " 64%|██████▍   | 9/14 [00:33<00:19,  3.85s/it]\u001b[A"
     ]
    },
    {
     "name": "stdout",
     "output_type": "stream",
     "text": [
      "attribute error:\n",
      "'NoneType' object has no attribute 'text'\n"
     ]
    },
    {
     "name": "stderr",
     "output_type": "stream",
     "text": [
      "\n",
      " 71%|███████▏  | 10/14 [00:37<00:15,  3.77s/it]\u001b[A\n",
      " 79%|███████▊  | 11/14 [00:38<00:09,  3.10s/it]\u001b[A\n",
      " 86%|████████▌ | 12/14 [00:39<00:04,  2.45s/it]\u001b[A\n",
      " 93%|█████████▎| 13/14 [00:42<00:02,  2.55s/it]\u001b[A\n",
      "100%|██████████| 14/14 [00:45<00:00,  3.27s/it]\u001b[A\n",
      "\n",
      "  0%|          | 0/19 [00:00<?, ?it/s]\u001b[A"
     ]
    },
    {
     "name": "stdout",
     "output_type": "stream",
     "text": [
      "attribute error:\n",
      "'NoneType' object has no attribute 'text'\n"
     ]
    },
    {
     "name": "stderr",
     "output_type": "stream",
     "text": [
      "\n",
      "  5%|▌         | 1/19 [00:01<00:26,  1.49s/it]\u001b[A\n",
      " 11%|█         | 2/19 [00:03<00:26,  1.58s/it]\u001b[A\n",
      " 16%|█▌        | 3/19 [00:03<00:18,  1.17s/it]\u001b[A\n",
      " 21%|██        | 4/19 [00:06<00:25,  1.71s/it]\u001b[A\n",
      " 26%|██▋       | 5/19 [00:09<00:28,  2.03s/it]\u001b[A"
     ]
    },
    {
     "name": "stdout",
     "output_type": "stream",
     "text": [
      "attribute error:\n",
      "'NoneType' object has no attribute 'text'\n"
     ]
    },
    {
     "name": "stderr",
     "output_type": "stream",
     "text": [
      "\n",
      " 32%|███▏      | 6/19 [00:11<00:27,  2.15s/it]\u001b[A\n",
      " 37%|███▋      | 7/19 [00:13<00:25,  2.15s/it]\u001b[A\n",
      " 42%|████▏     | 8/19 [00:18<00:31,  2.90s/it]\u001b[A\n",
      " 47%|████▋     | 9/19 [00:21<00:30,  3.04s/it]\u001b[A"
     ]
    },
    {
     "name": "stdout",
     "output_type": "stream",
     "text": [
      "attribute error:\n",
      "'NoneType' object has no attribute 'text'\n"
     ]
    },
    {
     "name": "stderr",
     "output_type": "stream",
     "text": [
      "\n",
      " 53%|█████▎    | 10/19 [00:24<00:26,  2.95s/it]\u001b[A"
     ]
    },
    {
     "name": "stdout",
     "output_type": "stream",
     "text": [
      "attribute error:\n",
      "'NoneType' object has no attribute 'text'\n"
     ]
    },
    {
     "name": "stderr",
     "output_type": "stream",
     "text": [
      "\n",
      " 58%|█████▊    | 11/19 [00:27<00:24,  3.01s/it]\u001b[A"
     ]
    },
    {
     "name": "stdout",
     "output_type": "stream",
     "text": [
      "attribute error:\n",
      "'NoneType' object has no attribute 'text'\n"
     ]
    },
    {
     "name": "stderr",
     "output_type": "stream",
     "text": [
      "\n",
      " 63%|██████▎   | 12/19 [00:32<00:24,  3.55s/it]\u001b[A\n",
      " 68%|██████▊   | 13/19 [00:35<00:19,  3.32s/it]\u001b[A\n",
      " 74%|███████▎  | 14/19 [00:37<00:15,  3.05s/it]\u001b[A\n",
      " 79%|███████▉  | 15/19 [00:39<00:10,  2.70s/it]\u001b[A\n",
      " 84%|████████▍ | 16/19 [00:41<00:07,  2.35s/it]\u001b[A\n",
      " 89%|████████▉ | 17/19 [00:45<00:05,  2.93s/it]\u001b[A\n",
      " 95%|█████████▍| 18/19 [00:48<00:03,  3.06s/it]\u001b[A"
     ]
    },
    {
     "name": "stdout",
     "output_type": "stream",
     "text": [
      "attribute error:\n",
      "'NoneType' object has no attribute 'text'\n"
     ]
    },
    {
     "name": "stderr",
     "output_type": "stream",
     "text": [
      "\n",
      "100%|██████████| 19/19 [00:51<00:00,  2.72s/it]\u001b[A\n",
      "\n",
      "  0%|          | 0/12 [00:00<?, ?it/s]\u001b[A\n",
      "  8%|▊         | 1/12 [00:00<00:02,  4.68it/s]\u001b[A\n",
      " 17%|█▋        | 2/12 [00:02<00:08,  1.20it/s]\u001b[A"
     ]
    },
    {
     "name": "stdout",
     "output_type": "stream",
     "text": [
      "attribute error:\n",
      "'NoneType' object has no attribute 'text'\n"
     ]
    },
    {
     "name": "stderr",
     "output_type": "stream",
     "text": [
      "\n",
      " 25%|██▌       | 3/12 [00:05<00:13,  1.51s/it]\u001b[A\n",
      " 33%|███▎      | 4/12 [00:05<00:08,  1.11s/it]\u001b[A\n",
      " 42%|████▏     | 5/12 [00:06<00:06,  1.12it/s]\u001b[A\n",
      " 50%|█████     | 6/12 [00:07<00:06,  1.08s/it]\u001b[A\n",
      " 58%|█████▊    | 7/12 [00:11<00:09,  1.87s/it]\u001b[A\n",
      " 67%|██████▋   | 8/12 [00:14<00:09,  2.34s/it]\u001b[A\n",
      " 75%|███████▌  | 9/12 [00:17<00:07,  2.46s/it]\u001b[A\n",
      " 83%|████████▎ | 10/12 [00:21<00:05,  2.91s/it]\u001b[A\n",
      " 92%|█████████▏| 11/12 [00:23<00:02,  2.50s/it]\u001b[A\n",
      "100%|██████████| 12/12 [00:24<00:00,  2.07s/it]\u001b[A\n",
      "\n",
      "  0%|          | 0/16 [00:00<?, ?it/s]\u001b[A\n",
      "  6%|▋         | 1/16 [00:03<00:54,  3.66s/it]\u001b[A"
     ]
    },
    {
     "name": "stdout",
     "output_type": "stream",
     "text": [
      "attribute error:\n",
      "'NoneType' object has no attribute 'text'\n"
     ]
    },
    {
     "name": "stderr",
     "output_type": "stream",
     "text": [
      "\n",
      " 12%|█▎        | 2/16 [00:07<00:51,  3.67s/it]\u001b[A\n",
      " 19%|█▉        | 3/16 [00:08<00:38,  2.94s/it]\u001b[A\n",
      " 25%|██▌       | 4/16 [00:09<00:26,  2.21s/it]\u001b[A\n",
      " 31%|███▏      | 5/16 [00:10<00:23,  2.11s/it]\u001b[A\n",
      " 38%|███▊      | 6/16 [00:14<00:25,  2.50s/it]\u001b[A"
     ]
    },
    {
     "name": "stdout",
     "output_type": "stream",
     "text": [
      "attribute error:\n",
      "'NoneType' object has no attribute 'text'\n"
     ]
    },
    {
     "name": "stderr",
     "output_type": "stream",
     "text": [
      "\n",
      " 44%|████▍     | 7/16 [00:16<00:21,  2.40s/it]\u001b[A\n",
      " 50%|█████     | 8/16 [00:16<00:13,  1.74s/it]\u001b[A\n",
      " 56%|█████▋    | 9/16 [00:22<00:21,  3.04s/it]\u001b[A\n",
      " 62%|██████▎   | 10/16 [00:23<00:13,  2.19s/it]\u001b[A\n",
      " 69%|██████▉   | 11/16 [00:26<00:13,  2.63s/it]\u001b[A"
     ]
    },
    {
     "name": "stdout",
     "output_type": "stream",
     "text": [
      "attribute error:\n",
      "'NoneType' object has no attribute 'text'\n"
     ]
    },
    {
     "name": "stderr",
     "output_type": "stream",
     "text": [
      "\n",
      " 75%|███████▌  | 12/16 [00:30<00:12,  3.04s/it]\u001b[A\n",
      " 81%|████████▏ | 13/16 [00:32<00:08,  2.82s/it]\u001b[A\n",
      " 88%|████████▊ | 14/16 [00:35<00:05,  2.67s/it]\u001b[A\n",
      " 94%|█████████▍| 15/16 [00:39<00:03,  3.06s/it]\u001b[A\n",
      "100%|██████████| 16/16 [00:42<00:00,  2.65s/it]\u001b[A\n",
      " 94%|█████████▍| 47/50 [1:49:34<06:03, 121.29s/it]\n",
      "  0%|          | 0/13 [00:00<?, ?it/s]\u001b[A"
     ]
    },
    {
     "name": "stdout",
     "output_type": "stream",
     "text": [
      "attribute error:\n",
      "'NoneType' object has no attribute 'text'\n"
     ]
    },
    {
     "name": "stderr",
     "output_type": "stream",
     "text": [
      "\n",
      "  8%|▊         | 1/13 [00:02<00:34,  2.86s/it]\u001b[A"
     ]
    },
    {
     "name": "stdout",
     "output_type": "stream",
     "text": [
      "attribute error:\n",
      "'NoneType' object has no attribute 'text'\n"
     ]
    },
    {
     "name": "stderr",
     "output_type": "stream",
     "text": [
      "\n",
      " 15%|█▌        | 2/13 [00:04<00:27,  2.52s/it]\u001b[A\n",
      " 23%|██▎       | 3/13 [00:06<00:24,  2.44s/it]\u001b[A"
     ]
    },
    {
     "name": "stdout",
     "output_type": "stream",
     "text": [
      "attribute error:\n",
      "'NoneType' object has no attribute 'text'\n"
     ]
    },
    {
     "name": "stderr",
     "output_type": "stream",
     "text": [
      "\n",
      " 31%|███       | 4/13 [00:11<00:28,  3.18s/it]\u001b[A\n",
      " 38%|███▊      | 5/13 [00:15<00:27,  3.39s/it]\u001b[A\n",
      " 46%|████▌     | 6/13 [00:17<00:20,  2.92s/it]\u001b[A\n",
      " 54%|█████▍    | 7/13 [00:20<00:18,  3.07s/it]\u001b[A"
     ]
    },
    {
     "name": "stdout",
     "output_type": "stream",
     "text": [
      "attribute error:\n",
      "'NoneType' object has no attribute 'text'\n"
     ]
    },
    {
     "name": "stderr",
     "output_type": "stream",
     "text": [
      "\n",
      " 62%|██████▏   | 8/13 [00:25<00:17,  3.53s/it]\u001b[A\n",
      " 69%|██████▉   | 9/13 [00:27<00:11,  2.97s/it]\u001b[A\n",
      " 77%|███████▋  | 10/13 [00:29<00:08,  2.78s/it]\u001b[A\n",
      " 85%|████████▍ | 11/13 [00:31<00:05,  2.62s/it]\u001b[A\n",
      " 92%|█████████▏| 12/13 [00:35<00:02,  2.89s/it]\u001b[A\n",
      "100%|██████████| 13/13 [00:37<00:00,  2.89s/it]\u001b[A\n",
      "\n",
      "  0%|          | 0/14 [00:00<?, ?it/s]\u001b[A\n",
      "  7%|▋         | 1/14 [00:01<00:22,  1.76s/it]\u001b[A\n",
      " 14%|█▍        | 2/14 [00:03<00:21,  1.76s/it]\u001b[A\n",
      " 21%|██▏       | 3/14 [00:04<00:16,  1.51s/it]\u001b[A\n",
      " 29%|██▊       | 4/14 [00:10<00:27,  2.75s/it]\u001b[A\n",
      " 36%|███▌      | 5/14 [00:12<00:23,  2.65s/it]\u001b[A\n",
      " 43%|████▎     | 6/14 [00:17<00:27,  3.43s/it]\u001b[A\n",
      " 50%|█████     | 7/14 [00:19<00:21,  3.02s/it]\u001b[A\n",
      " 57%|█████▋    | 8/14 [00:25<00:22,  3.68s/it]\u001b[A\n",
      " 64%|██████▍   | 9/14 [00:26<00:15,  3.13s/it]\u001b[A\n",
      " 71%|███████▏  | 10/14 [00:30<00:13,  3.40s/it]\u001b[A\n",
      " 79%|███████▊  | 11/14 [00:35<00:11,  3.76s/it]\u001b[A\n",
      " 86%|████████▌ | 12/14 [00:38<00:07,  3.63s/it]\u001b[A\n",
      " 93%|█████████▎| 13/14 [00:46<00:04,  4.85s/it]\u001b[A\n",
      "100%|██████████| 14/14 [00:50<00:00,  3.63s/it]\u001b[A\n",
      " 96%|█████████▌| 48/50 [1:51:02<03:42, 111.44s/it]\n",
      "  0%|          | 0/15 [00:00<?, ?it/s]\u001b[A\n",
      "  7%|▋         | 1/15 [00:02<00:28,  2.03s/it]\u001b[A\n",
      " 13%|█▎        | 2/15 [00:06<00:34,  2.65s/it]\u001b[A\n",
      " 20%|██        | 3/15 [00:11<00:41,  3.43s/it]\u001b[A\n",
      " 27%|██▋       | 4/15 [00:13<00:32,  2.92s/it]\u001b[A\n",
      " 33%|███▎      | 5/15 [00:16<00:30,  3.08s/it]\u001b[A\n",
      " 40%|████      | 6/15 [00:19<00:27,  3.11s/it]\u001b[A\n",
      " 47%|████▋     | 7/15 [00:21<00:21,  2.70s/it]\u001b[A\n",
      " 53%|█████▎    | 8/15 [00:23<00:16,  2.36s/it]\u001b[A\n",
      " 60%|██████    | 9/15 [00:27<00:17,  2.94s/it]\u001b[A\n",
      " 67%|██████▋   | 10/15 [00:30<00:15,  3.07s/it]\u001b[A\n",
      " 73%|███████▎  | 11/15 [00:34<00:12,  3.14s/it]\u001b[A\n",
      " 80%|████████  | 12/15 [00:35<00:08,  2.78s/it]\u001b[A\n",
      " 87%|████████▋ | 13/15 [00:37<00:04,  2.41s/it]\u001b[A\n",
      " 93%|█████████▎| 14/15 [00:41<00:02,  2.79s/it]\u001b[A\n",
      "100%|██████████| 15/15 [00:43<00:00,  2.91s/it]\u001b[A\n",
      " 98%|█████████▊| 49/50 [1:51:46<01:31, 91.09s/it] \n",
      "  0%|          | 0/16 [00:00<?, ?it/s]\u001b[A"
     ]
    },
    {
     "name": "stdout",
     "output_type": "stream",
     "text": [
      "attribute error:\n",
      "'NoneType' object has no attribute 'text'\n"
     ]
    },
    {
     "name": "stderr",
     "output_type": "stream",
     "text": [
      "\n",
      "  6%|▋         | 1/16 [00:02<00:32,  2.16s/it]\u001b[A\n",
      " 12%|█▎        | 2/16 [00:03<00:27,  1.98s/it]\u001b[A\n",
      " 19%|█▉        | 3/16 [00:05<00:23,  1.84s/it]\u001b[A\n",
      " 25%|██▌       | 4/16 [00:08<00:28,  2.39s/it]\u001b[A"
     ]
    },
    {
     "name": "stdout",
     "output_type": "stream",
     "text": [
      "attribute error:\n",
      "'NoneType' object has no attribute 'text'\n"
     ]
    },
    {
     "name": "stderr",
     "output_type": "stream",
     "text": [
      "\n",
      " 31%|███▏      | 5/16 [00:10<00:23,  2.14s/it]\u001b[A\n",
      " 38%|███▊      | 6/16 [00:13<00:24,  2.44s/it]\u001b[A\n",
      " 44%|████▍     | 7/16 [00:16<00:24,  2.70s/it]\u001b[A\n",
      " 50%|█████     | 8/16 [00:19<00:22,  2.81s/it]\u001b[A\n",
      " 56%|█████▋    | 9/16 [00:22<00:18,  2.71s/it]\u001b[A"
     ]
    },
    {
     "name": "stdout",
     "output_type": "stream",
     "text": [
      "attribute error:\n",
      "'NoneType' object has no attribute 'text'\n"
     ]
    },
    {
     "name": "stderr",
     "output_type": "stream",
     "text": [
      "\n",
      " 62%|██████▎   | 10/16 [00:25<00:17,  2.91s/it]\u001b[A\n",
      " 69%|██████▉   | 11/16 [00:27<00:12,  2.58s/it]\u001b[A\n",
      " 75%|███████▌  | 12/16 [00:29<00:09,  2.37s/it]\u001b[A\n",
      " 81%|████████▏ | 13/16 [00:34<00:09,  3.13s/it]\u001b[A\n",
      " 88%|████████▊ | 14/16 [00:38<00:06,  3.39s/it]\u001b[A\n",
      " 94%|█████████▍| 15/16 [00:42<00:03,  3.67s/it]\u001b[A\n",
      "100%|██████████| 16/16 [00:46<00:00,  2.92s/it]\u001b[A\n",
      "\n",
      "  0%|          | 0/14 [00:00<?, ?it/s]\u001b[A\n",
      "  7%|▋         | 1/14 [00:01<00:19,  1.49s/it]\u001b[A"
     ]
    },
    {
     "name": "stdout",
     "output_type": "stream",
     "text": [
      "attribute error:\n",
      "'NoneType' object has no attribute 'text'\n"
     ]
    },
    {
     "name": "stderr",
     "output_type": "stream",
     "text": [
      "\n",
      " 14%|█▍        | 2/14 [00:04<00:23,  1.92s/it]\u001b[A\n",
      " 21%|██▏       | 3/14 [00:06<00:21,  1.96s/it]\u001b[A\n",
      " 29%|██▊       | 4/14 [00:08<00:20,  2.09s/it]\u001b[A\n",
      " 36%|███▌      | 5/14 [00:12<00:22,  2.50s/it]\u001b[A\n",
      " 43%|████▎     | 6/14 [00:15<00:20,  2.56s/it]\u001b[A\n",
      " 50%|█████     | 7/14 [00:17<00:17,  2.44s/it]\u001b[A\n",
      " 57%|█████▋    | 8/14 [00:19<00:14,  2.41s/it]\u001b[A\n",
      " 64%|██████▍   | 9/14 [00:23<00:14,  2.89s/it]\u001b[A\n",
      " 71%|███████▏  | 10/14 [00:25<00:10,  2.53s/it]\u001b[A\n",
      " 79%|███████▊  | 11/14 [00:28<00:08,  2.88s/it]\u001b[A\n",
      " 86%|████████▌ | 12/14 [00:32<00:06,  3.11s/it]\u001b[A\n",
      " 93%|█████████▎| 13/14 [00:36<00:03,  3.29s/it]\u001b[A\n",
      "100%|██████████| 14/14 [00:40<00:00,  2.92s/it]\u001b[A\n",
      "\n",
      "  0%|          | 0/13 [00:00<?, ?it/s]\u001b[A"
     ]
    },
    {
     "name": "stdout",
     "output_type": "stream",
     "text": [
      "attribute error:\n",
      "'NoneType' object has no attribute 'text'\n"
     ]
    },
    {
     "name": "stderr",
     "output_type": "stream",
     "text": [
      "\n",
      "  8%|▊         | 1/13 [00:03<00:37,  3.15s/it]\u001b[A\n",
      " 15%|█▌        | 2/13 [00:03<00:24,  2.27s/it]\u001b[A\n",
      " 23%|██▎       | 3/13 [00:03<00:16,  1.65s/it]\u001b[A\n",
      " 31%|███       | 4/13 [00:03<00:10,  1.21s/it]\u001b[A\n",
      " 38%|███▊      | 5/13 [00:04<00:08,  1.07s/it]\u001b[A\n",
      " 46%|████▌     | 6/13 [00:04<00:05,  1.24it/s]\u001b[A\n",
      " 54%|█████▍    | 7/13 [00:04<00:03,  1.61it/s]\u001b[A\n",
      " 62%|██████▏   | 8/13 [00:06<00:04,  1.06it/s]\u001b[A\n",
      " 69%|██████▉   | 9/13 [00:07<00:03,  1.19it/s]\u001b[A\n",
      " 77%|███████▋  | 10/13 [00:07<00:01,  1.53it/s]\u001b[A\n",
      " 85%|████████▍ | 11/13 [00:07<00:01,  1.82it/s]\u001b[A\n",
      " 92%|█████████▏| 12/13 [00:07<00:00,  2.28it/s]\u001b[A\n",
      "100%|██████████| 13/13 [00:08<00:00,  1.52it/s]\u001b[A\n",
      "\n",
      "  0%|          | 0/12 [00:00<?, ?it/s]\u001b[A\n",
      "  8%|▊         | 1/12 [00:02<00:32,  2.96s/it]\u001b[A"
     ]
    },
    {
     "name": "stdout",
     "output_type": "stream",
     "text": [
      "attribute error:\n",
      "'NoneType' object has no attribute 'text'\n"
     ]
    },
    {
     "name": "stderr",
     "output_type": "stream",
     "text": [
      "\n",
      " 17%|█▋        | 2/12 [00:06<00:30,  3.04s/it]\u001b[A"
     ]
    },
    {
     "name": "stdout",
     "output_type": "stream",
     "text": [
      "attribute error:\n",
      "'NoneType' object has no attribute 'text'\n"
     ]
    },
    {
     "name": "stderr",
     "output_type": "stream",
     "text": [
      "\n",
      " 25%|██▌       | 3/12 [00:09<00:28,  3.14s/it]\u001b[A"
     ]
    },
    {
     "name": "stdout",
     "output_type": "stream",
     "text": [
      "attribute error:\n",
      "'NoneType' object has no attribute 'text'\n"
     ]
    },
    {
     "name": "stderr",
     "output_type": "stream",
     "text": [
      "\n",
      " 33%|███▎      | 4/12 [00:12<00:25,  3.22s/it]\u001b[A"
     ]
    },
    {
     "name": "stdout",
     "output_type": "stream",
     "text": [
      "attribute error:\n",
      "'NoneType' object has no attribute 'text'\n"
     ]
    },
    {
     "name": "stderr",
     "output_type": "stream",
     "text": [
      "\n",
      " 42%|████▏     | 5/12 [00:15<00:21,  3.11s/it]\u001b[A"
     ]
    },
    {
     "name": "stdout",
     "output_type": "stream",
     "text": [
      "attribute error:\n",
      "'NoneType' object has no attribute 'text'\n"
     ]
    },
    {
     "name": "stderr",
     "output_type": "stream",
     "text": [
      "\n",
      " 50%|█████     | 6/12 [00:19<00:18,  3.16s/it]\u001b[A"
     ]
    },
    {
     "name": "stdout",
     "output_type": "stream",
     "text": [
      "attribute error:\n",
      "'NoneType' object has no attribute 'text'\n"
     ]
    },
    {
     "name": "stderr",
     "output_type": "stream",
     "text": [
      "\n",
      " 58%|█████▊    | 7/12 [00:23<00:17,  3.41s/it]\u001b[A"
     ]
    },
    {
     "name": "stdout",
     "output_type": "stream",
     "text": [
      "attribute error:\n",
      "'NoneType' object has no attribute 'text'\n"
     ]
    },
    {
     "name": "stderr",
     "output_type": "stream",
     "text": [
      "\n",
      " 67%|██████▋   | 8/12 [00:26<00:13,  3.28s/it]\u001b[A"
     ]
    },
    {
     "name": "stdout",
     "output_type": "stream",
     "text": [
      "attribute error:\n",
      "'NoneType' object has no attribute 'text'\n"
     ]
    },
    {
     "name": "stderr",
     "output_type": "stream",
     "text": [
      "\n",
      " 75%|███████▌  | 9/12 [00:29<00:09,  3.27s/it]\u001b[A"
     ]
    },
    {
     "name": "stdout",
     "output_type": "stream",
     "text": [
      "attribute error:\n",
      "'NoneType' object has no attribute 'text'\n"
     ]
    },
    {
     "name": "stderr",
     "output_type": "stream",
     "text": [
      "\n",
      " 83%|████████▎ | 10/12 [00:32<00:06,  3.28s/it]\u001b[A"
     ]
    },
    {
     "name": "stdout",
     "output_type": "stream",
     "text": [
      "attribute error:\n",
      "'NoneType' object has no attribute 'text'\n"
     ]
    },
    {
     "name": "stderr",
     "output_type": "stream",
     "text": [
      "\n",
      " 92%|█████████▏| 11/12 [00:36<00:03,  3.40s/it]\u001b[A"
     ]
    },
    {
     "name": "stdout",
     "output_type": "stream",
     "text": [
      "attribute error:\n",
      "'NoneType' object has no attribute 'text'\n"
     ]
    },
    {
     "name": "stderr",
     "output_type": "stream",
     "text": [
      "\n",
      "100%|██████████| 12/12 [00:39<00:00,  3.33s/it]\u001b[A\n",
      "100%|██████████| 50/50 [1:54:02<00:00, 136.85s/it]"
     ]
    },
    {
     "name": "stdout",
     "output_type": "stream",
     "text": [
      "attribute error:\n",
      "'NoneType' object has no attribute 'text'\n"
     ]
    },
    {
     "name": "stderr",
     "output_type": "stream",
     "text": [
      "\n"
     ]
    }
   ],
   "source": [
    "lyrics_east = {}\n",
    "errors_east = []\n",
    "rogue_errors_east = []\n",
    "\n",
    "global artist\n",
    "for artist in tqdm(rappers_east):    \n",
    "    \n",
    "    artist_search = re.sub(\"[.\\(\\)\\']\", '', artist).lower().capitalize().replace('&','and')\n",
    "    artist_search = artist_search.replace('$','s').replace('-',' ').replace(' ','-')\n",
    "\n",
    "    \n",
    "    try:\n",
    "        art_lyr = []\n",
    "        for album in list(full_song_dict_east[artist].values()):\n",
    "\n",
    "            global song\n",
    "            for song in tqdm(album):\n",
    "                \n",
    "                song_search = re.sub(\"[.\\(\\)\\'\\#\\\"\\,\\!\\:\\[\\]]\", '', song).lower().replace('&','and')\n",
    "                while '  ' in song_search:\n",
    "                    song_search = song_search.replace('  ',' ')\n",
    "                song_search = re.sub(\"[\\-\\:]\", \" \", song_search).replace('$','s').replace(' ','-')\n",
    "                song_search = song_search.split('-feat')[0].split('-ft-')[0].split('feat-')[0]\n",
    "\n",
    "\n",
    "                url = ('https://genius.com/' + artist_search + '-' + song_search + '-lyrics').replace('--','-')\n",
    "\n",
    "                still_going = True\n",
    "                count = 0\n",
    "                while still_going and (count < 4):\n",
    "\n",
    "                    try:\n",
    "                        r = requests.get(url)\n",
    "                        soup = BeautifulSoup(r.text, \"html.parser\")\n",
    "\n",
    "                        lyr = soup.find(\"div\", class_=\"lyrics\").text\n",
    "                        lyr = re.sub('\\[.*?]','', lyr)\n",
    "                        lyr = re.sub('\\n{2}','',lyr)\n",
    "                        lyr = str(lyr).strip('\\n')\n",
    "                        \n",
    "                        art_lyr.append(lyr)\n",
    "                        still_going = False\n",
    "\n",
    "                        \n",
    "                    except ConnectionError:\n",
    "                        \n",
    "                        print('ConnectionError')\n",
    "                        start = time()\n",
    "                        while time() - start < 10:\n",
    "                            continue\n",
    "                        \n",
    "                    except AttributeError as a:\n",
    "                        count += 1\n",
    "\n",
    "                        if count == 4:\n",
    "                            errors_east.append([artist, song, song_search])\n",
    "                            print(f'attribute error:\\n{a}')\n",
    "                            \n",
    "                    except Exception as e:\n",
    "                        rogue_errors_east.append([artist, song, song_search])\n",
    "                        print(f'Rogue exception: {e}')\n",
    "                            \n",
    "        lyrics_east[artist] = art_lyr       \n",
    "            \n",
    "    except:\n",
    "        continue\n",
    "\n",
    "    "
   ]
  },
  {
   "cell_type": "code",
   "execution_count": 26,
   "metadata": {},
   "outputs": [
    {
     "name": "stdout",
     "output_type": "stream",
     "text": [
      "Cappadonna --- 26 --- 28\n",
      "Grandmaster Caz --- 2 --- 10\n",
      "Ghostface Killah --- 27 --- 29\n",
      "GZA --- 27 --- 31\n",
      "Inspectah Deck --- 16 --- 17\n",
      "Kool Moe Dee --- 31 --- 35\n",
      "KRS-One --- 36 --- 47\n",
      "Big L --- 10 --- 12\n",
      "Craig Mack --- 10 --- 24\n",
      "Method Man --- 58 --- 71\n",
      "Mos Def --- 16 --- 17\n",
      "Nas --- 75 --- 90\n",
      "The Notorious B.I.G. --- 53 --- 57\n",
      "Ol' Dirty Bastard --- 43 --- 44\n",
      "Pete Rock --- 14 --- 37\n",
      "Raekwon --- 32 --- 38\n",
      "Rakim --- 38 --- 47\n",
      "RZA --- 19 --- 20\n",
      "Eric B. & Rakim --- 49 --- 53\n",
      "AZ --- 22 --- 26\n",
      "Lauryn Hill --- 16 --- 16\n",
      "Queen Latifah --- 40 --- 54\n",
      "Wu-Tang Clan --- 26 --- 62\n",
      "A Tribe Called Quest --- 73 --- 78\n",
      "Mobb Deep --- 69 --- 81\n",
      "Redman --- 69 --- 98\n",
      "Gang Starr --- 73 --- 85\n",
      "Shyheim --- 49 --- 72\n",
      "Heltah Skeltah --- 26 --- 36\n",
      "O.G.C. --- 24 --- 32\n",
      "Black Moon --- 23 --- 25\n",
      "Big Daddy Kane --- 85 --- 101\n",
      "Fugees --- 32 --- 37\n",
      "Smif-N-Wessun --- 15 --- 16\n",
      "Brand Nubian --- 53 --- 66\n",
      "Lord Finesse --- 24 --- 32\n",
      "Showbiz and A.G. --- 33 --- 42\n",
      "Das EFX --- 52 --- 57\n",
      "EPMD --- 75 --- 83\n",
      "Bahamadia --- 11 --- 14\n",
      "Jeru the Damaja --- 23 --- 28\n",
      "Grand puba --- 23 --- 26\n",
      "Bush Babees --- 7 --- 14\n",
      "Group Home --- 24 --- 30\n",
      "Slick Rick --- 46 --- 53\n",
      "Pete Rock & C.L. Smooth --- 0 --- 37\n",
      "Keith Murray --- 46 --- 61\n",
      "Digable Planets --- 24 --- 27\n",
      "Masta Ace --- 14 --- 15\n",
      "Jungle brothers --- 39 --- 55\n"
     ]
    }
   ],
   "source": [
    "for artist in lyrics_east:\n",
    "    \n",
    "    songs = []\n",
    "    for album in full_song_dict_east[artist]:\n",
    "        songs.extend(full_song_dict_east[artist][album])\n",
    "    \n",
    "    print(artist, '---', len(lyrics_east[artist]), '---', len(songs))"
   ]
  },
  {
   "cell_type": "code",
   "execution_count": 27,
   "metadata": {},
   "outputs": [],
   "source": [
    "with open('lyrics_east_HUGE.json', 'w') as fp:\n",
    "    json.dump(lyrics_east, fp)"
   ]
  },
  {
   "cell_type": "code",
   "execution_count": null,
   "metadata": {},
   "outputs": [],
   "source": []
  },
  {
   "cell_type": "code",
   "execution_count": null,
   "metadata": {},
   "outputs": [],
   "source": []
  },
  {
   "cell_type": "code",
   "execution_count": null,
   "metadata": {},
   "outputs": [],
   "source": []
  },
  {
   "cell_type": "code",
   "execution_count": 30,
   "metadata": {},
   "outputs": [],
   "source": [
    "pd.DataFrame(errors_east).to_csv('errors_east_HUGE')"
   ]
  },
  {
   "cell_type": "code",
   "execution_count": 31,
   "metadata": {},
   "outputs": [],
   "source": [
    "pd.DataFrame(errors_west).to_csv('errors_west_HUGE')"
   ]
  },
  {
   "cell_type": "code",
   "execution_count": null,
   "metadata": {},
   "outputs": [],
   "source": []
  },
  {
   "cell_type": "code",
   "execution_count": null,
   "metadata": {},
   "outputs": [],
   "source": []
  },
  {
   "cell_type": "code",
   "execution_count": 14,
   "metadata": {},
   "outputs": [],
   "source": [
    "errors_eas = pd.read_csv('errors_east_HUGE').drop('Unnamed: 0', axis=1)\n",
    "errors_wes = pd.read_csv('errors_west_HUGE').drop('Unnamed: 0', axis=1)\n",
    "\n",
    "lyrics_east = json.load(open('lyrics_east_HUGE.json'))\n",
    "lyrics_west = json.load(open('lyrics_west_HUGE.json'))\n",
    "\n",
    "errors_east = [list(errors_eas.iloc[i].values) for i in range(len(errors_eas))]\n",
    "errors_west = [list(errors_wes.iloc[i].values) for i in range(len(errors_wes))]"
   ]
  },
  {
   "cell_type": "code",
   "execution_count": null,
   "metadata": {},
   "outputs": [],
   "source": []
  },
  {
   "cell_type": "code",
   "execution_count": null,
   "metadata": {},
   "outputs": [],
   "source": []
  },
  {
   "cell_type": "code",
   "execution_count": null,
   "metadata": {},
   "outputs": [],
   "source": []
  },
  {
   "cell_type": "code",
   "execution_count": 23,
   "metadata": {},
   "outputs": [
    {
     "name": "stdout",
     "output_type": "stream",
     "text": [
      "Snoop Dogg\n",
      "Tha Dogg Pound\n",
      "mac Dre\n",
      "Outlawz\n",
      "Gift of Gab\n",
      "Jurassic 5\n",
      "Keak da Sneak\n",
      "Big Syke\n",
      "Shock G\n"
     ]
    }
   ],
   "source": [
    "for artist in list(full_song_dict_west.keys()):\n",
    "    \n",
    "    if len(full_song_dict_west[artist]) == 0:\n",
    "        print(artist)\n",
    "        \n",
    "# drop these from the west coast lyrics dictionary"
   ]
  },
  {
   "cell_type": "code",
   "execution_count": 24,
   "metadata": {},
   "outputs": [
    {
     "name": "stdout",
     "output_type": "stream",
     "text": [
      "50 Cent\n",
      "MF DOOM\n",
      "Cormega\n",
      "De La Soul\n"
     ]
    }
   ],
   "source": [
    "for artist in list(full_song_dict_east.keys()):\n",
    "    \n",
    "    if len(full_song_dict_east[artist]) == 0:\n",
    "        print(artist)\n",
    "        \n",
    "# likewise for the east coast lyrics dictionary"
   ]
  },
  {
   "cell_type": "code",
   "execution_count": null,
   "metadata": {},
   "outputs": [],
   "source": []
  }
 ],
 "metadata": {
  "kernelspec": {
   "display_name": "Python 3",
   "language": "python",
   "name": "python3"
  },
  "language_info": {
   "codemirror_mode": {
    "name": "ipython",
    "version": 3
   },
   "file_extension": ".py",
   "mimetype": "text/x-python",
   "name": "python",
   "nbconvert_exporter": "python",
   "pygments_lexer": "ipython3",
   "version": "3.8.3"
  }
 },
 "nbformat": 4,
 "nbformat_minor": 4
}
