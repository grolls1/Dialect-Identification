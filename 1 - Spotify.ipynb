{
 "cells": [
  {
   "cell_type": "code",
   "execution_count": 3,
   "metadata": {},
   "outputs": [],
   "source": [
    "import pandas as pd\n",
    "import numpy as np\n",
    "import requests\n",
    "import json\n",
    "import matplotlib.pyplot as plt\n",
    "import seaborn as sns\n",
    "from tqdm import tqdm\n",
    "\n",
    "plt.style.use('fivethirtyeight')\n",
    "\n",
    "%config InlineBackend.figure_format = 'retina'\n",
    "%matplotlib inline"
   ]
  },
  {
   "cell_type": "code",
   "execution_count": 4,
   "metadata": {},
   "outputs": [],
   "source": [
    "a = open('rap_west.txt')\n",
    "rappers_west = a.read().split('\\n')\n",
    "\n",
    "b = open('rap_east.txt')\n",
    "rappers_east = b.read().split('\\n')"
   ]
  },
  {
   "cell_type": "code",
   "execution_count": 5,
   "metadata": {},
   "outputs": [],
   "source": [
    "base_url = 'https://api.spotify.com/v1/'\n",
    "\n",
    "client_id = '6856620ebab6449e84df2b92bf144f72'\n",
    "client_secret = '703e965c291b41169bc00ff4e35fc211'"
   ]
  },
  {
   "cell_type": "code",
   "execution_count": 6,
   "metadata": {},
   "outputs": [],
   "source": [
    "### getting the access token from Spotify\n",
    "\n",
    "auth_url = 'https://accounts.spotify.com/api/token'\n",
    "\n",
    "auth_response = requests.post(auth_url, {\n",
    "    'grant_type': 'client_credentials',\n",
    "    'client_id': client_id,\n",
    "    'client_secret': client_secret,\n",
    "})\n",
    "\n",
    "# convert the response to JSON\n",
    "auth_response_data = auth_response.json()\n",
    "\n",
    "# save the access token\n",
    "access_token = auth_response_data['access_token']"
   ]
  },
  {
   "cell_type": "code",
   "execution_count": 7,
   "metadata": {},
   "outputs": [],
   "source": [
    "headers = {\n",
    "    'Authorization': f'Bearer {access_token}'\n",
    "}\n",
    "\n",
    "params = {\n",
    "    'limit':1\n",
    "}"
   ]
  },
  {
   "cell_type": "markdown",
   "metadata": {},
   "source": [
    " "
   ]
  },
  {
   "cell_type": "markdown",
   "metadata": {},
   "source": [
    " "
   ]
  },
  {
   "cell_type": "markdown",
   "metadata": {},
   "source": [
    " "
   ]
  },
  {
   "cell_type": "markdown",
   "metadata": {},
   "source": [
    " "
   ]
  },
  {
   "cell_type": "markdown",
   "metadata": {},
   "source": [
    "*WEST COAST:*"
   ]
  },
  {
   "cell_type": "code",
   "execution_count": 8,
   "metadata": {},
   "outputs": [
    {
     "name": "stderr",
     "output_type": "stream",
     "text": [
      "100%|██████████| 388/388 [00:53<00:00,  7.27it/s]\n"
     ]
    }
   ],
   "source": [
    "### collecting artist ids from Spotify API:\n",
    "\n",
    "west_artist_ids = {}\n",
    "unaligned = {} # collects artist names/ids where the search term is different to the Spotify artist name\n",
    "errors_west = [] # errors - to try again\n",
    "\n",
    "for artist in tqdm(rappers_west):\n",
    "    \n",
    "    # putting the search term into the correct format for the request (e.g. 'Kid Frost' -> 'Kid%20Frost')\n",
    "    search_term = artist.replace(' ', '%20')\n",
    "    \n",
    "    # constructing the query for the request, and pushing the get request, converting into json.\n",
    "    query_string = base_url + 'search?' + f'q={search_term}&type=artist'\n",
    "    r = requests.get(query_string, headers=headers, params=params)\n",
    "    r = r.json()\n",
    "    \n",
    "    try:\n",
    "        # getting the artist id from within the json material\n",
    "        west_artist_ids[artist] = r['artists']['items'][0]['id']\n",
    "        \n",
    "        # getting the Spotify artist name associated with the id to check that we are finding the right artist\n",
    "        spotify_name = r['artists']['items'][0]['name'].lower()\n",
    "        if spotify_name != artist.lower():\n",
    "            unaligned[artist] = spotify_name\n",
    "        else:\n",
    "            continue\n",
    "    except:\n",
    "        errors_west.append(artist)"
   ]
  },
  {
   "cell_type": "code",
   "execution_count": 9,
   "metadata": {},
   "outputs": [
    {
     "data": {
      "text/plain": [
       "(380, 8)"
      ]
     },
     "execution_count": 9,
     "metadata": {},
     "output_type": "execute_result"
    }
   ],
   "source": [
    "len(west_artist_ids), len(errors_west)"
   ]
  },
  {
   "cell_type": "code",
   "execution_count": 10,
   "metadata": {},
   "outputs": [
    {
     "name": "stderr",
     "output_type": "stream",
     "text": [
      "100%|██████████| 8/8 [00:00<00:00,  8.83it/s]\n"
     ]
    }
   ],
   "source": [
    "### dealing with the errors:\n",
    "\n",
    "for artist in tqdm(errors_west):\n",
    "    \n",
    "    search_term = artist.replace(' ', '%20')\n",
    "    \n",
    "    query_string = base_url + 'search?' + f'q={search_term}&type=artist'\n",
    "    r = requests.get(query_string, headers=headers, params=params)\n",
    "    r = r.json()\n",
    "    \n",
    "    try:\n",
    "        west_artist_ids[artist] = r['artists']['items'][0]['id']\n",
    "        \n",
    "        spotify_name = r['artists']['items'][0]['name'].lower()\n",
    "        if spotify_name != artist.lower():\n",
    "            unaligned[artist] = spotify_name\n",
    "        else:\n",
    "            continue\n",
    "        errors_west.remove(artist)\n",
    "    except:\n",
    "        continue"
   ]
  },
  {
   "cell_type": "code",
   "execution_count": 11,
   "metadata": {},
   "outputs": [
    {
     "data": {
      "text/plain": [
       "(380, 8)"
      ]
     },
     "execution_count": 11,
     "metadata": {},
     "output_type": "execute_result"
    }
   ],
   "source": [
    "len(west_artist_ids), len(errors_west)"
   ]
  },
  {
   "cell_type": "code",
   "execution_count": 12,
   "metadata": {},
   "outputs": [
    {
     "data": {
      "text/plain": [
       "380"
      ]
     },
     "execution_count": 12,
     "metadata": {},
     "output_type": "execute_result"
    }
   ],
   "source": [
    "len(set(list(west_artist_ids.keys())))"
   ]
  },
  {
   "cell_type": "code",
   "execution_count": 13,
   "metadata": {},
   "outputs": [],
   "source": [
    "# aligned\n",
    "# tupac - correct.\n",
    "# n.w.a. - correct\n",
    "# paris - wrong.\n",
    "# drop the rest."
   ]
  },
  {
   "cell_type": "code",
   "execution_count": 14,
   "metadata": {},
   "outputs": [],
   "source": [
    "### dropping invalid entries (inspected the unaligned list, most were not relevant to the project):\n",
    "for item in list(west_artist_ids):\n",
    "    \n",
    "    if len(item) == 1:\n",
    "        west_artist_ids.pop(str(item))\n",
    "    \n",
    "    elif item in list(unaligned.keys()):\n",
    "        if item not in ['Tupac Shakur', 'Paris', 'N.W.A']:\n",
    "            west_artist_ids.pop(str(item))"
   ]
  },
  {
   "cell_type": "code",
   "execution_count": 15,
   "metadata": {},
   "outputs": [],
   "source": [
    "### checking the unaligned dictionary, spotify returned a different artist to the desired rapper.\n",
    "### By investigating another artist search request, we can see that this rapper is 9th on the list of artists.\n",
    "artist = 'Paris'\n",
    "search_term = artist.replace(' ', '%20')\n",
    "query_string = base_url + 'search?' + f'q={search_term}&type=artist'\n",
    "r = requests.get(query_string, headers=headers)\n",
    "r = r.json()\n",
    "west_artist_ids[artist] = r['artists']['items'][9]['id']"
   ]
  },
  {
   "cell_type": "code",
   "execution_count": null,
   "metadata": {},
   "outputs": [],
   "source": []
  },
  {
   "cell_type": "code",
   "execution_count": null,
   "metadata": {},
   "outputs": [],
   "source": []
  },
  {
   "cell_type": "code",
   "execution_count": 16,
   "metadata": {},
   "outputs": [
    {
     "data": {
      "text/plain": [
       "301"
      ]
     },
     "execution_count": 16,
     "metadata": {},
     "output_type": "execute_result"
    }
   ],
   "source": [
    "len(west_artist_ids)"
   ]
  },
  {
   "cell_type": "code",
   "execution_count": 17,
   "metadata": {},
   "outputs": [
    {
     "name": "stderr",
     "output_type": "stream",
     "text": [
      "  1%|          | 2/301 [00:00<00:27, 10.76it/s]"
     ]
    },
    {
     "name": "stdout",
     "output_type": "stream",
     "text": [
      "here\n",
      "here\n",
      "here\n"
     ]
    },
    {
     "name": "stderr",
     "output_type": "stream",
     "text": [
      "  2%|▏         | 5/301 [00:00<00:27, 10.62it/s]"
     ]
    },
    {
     "name": "stdout",
     "output_type": "stream",
     "text": [
      "['abstract hip hop']\n",
      "['gangster rap', 'west coast rap']\n",
      "['g funk', 'gangster rap', 'hip hop', 'rap', 'west coast rap']\n"
     ]
    },
    {
     "name": "stderr",
     "output_type": "stream",
     "text": [
      "  3%|▎         | 9/301 [00:00<00:30,  9.59it/s]"
     ]
    },
    {
     "name": "stdout",
     "output_type": "stream",
     "text": [
      "['g funk', 'hyphy', 'west coast rap']\n",
      "['alternative hip hop', 'conscious hip hop', 'hip hop', 'rap', 'southern hip hop', 'underground hip hop']\n",
      "['g funk', 'gangster rap', 'hip hop', 'hyphy', 'west coast rap']\n"
     ]
    },
    {
     "name": "stderr",
     "output_type": "stream",
     "text": [
      "\r",
      "  4%|▎         | 11/301 [00:01<00:28, 10.33it/s]"
     ]
    },
    {
     "name": "stdout",
     "output_type": "stream",
     "text": [
      "['abstract hip hop', 'alternative hip hop', 'hip hop', 'turntablism', 'underground rap']\n",
      "['hip hop', 'pop rap', 'portland hip hop', 'rap', 'underground hip hop']\n",
      "['gangster rap', 'hyphy', 'west coast rap', 'west coast trap']\n"
     ]
    },
    {
     "name": "stderr",
     "output_type": "stream",
     "text": [
      "  5%|▍         | 15/301 [00:01<00:27, 10.50it/s]"
     ]
    },
    {
     "name": "stdout",
     "output_type": "stream",
     "text": [
      "['deep east coast hip hop', 'west coast rap']\n",
      "['electro', 'old school hip hop']\n",
      "['chicano rap', 'latin hip hop', 'mexican hip hop']\n"
     ]
    },
    {
     "name": "stderr",
     "output_type": "stream",
     "text": [
      "\r",
      "  6%|▌         | 17/301 [00:01<00:25, 11.15it/s]"
     ]
    },
    {
     "name": "stdout",
     "output_type": "stream",
     "text": [
      "['deep g funk', 'g funk', 'west coast rap']\n",
      "['cali rap', 'g funk', 'gangster rap', 'hyphy', 'west coast rap', 'west coast trap']\n",
      "['chicano rap', 'west coast rap']\n"
     ]
    },
    {
     "name": "stderr",
     "output_type": "stream",
     "text": [
      "  7%|▋         | 21/301 [00:01<00:23, 11.82it/s]"
     ]
    },
    {
     "name": "stdout",
     "output_type": "stream",
     "text": [
      "['g funk', 'west coast rap', 'west coast trap']\n",
      "['anthem worship', 'christian hip hop', 'roots worship']\n",
      "['cali rap', 'gangster rap', 'hyphy', 'oakland hip hop', 'rap', 'west coast trap']\n",
      "['g funk', 'west coast rap']\n"
     ]
    },
    {
     "name": "stderr",
     "output_type": "stream",
     "text": [
      "  8%|▊         | 25/301 [00:02<00:32,  8.57it/s]"
     ]
    },
    {
     "name": "stdout",
     "output_type": "stream",
     "text": [
      "['west coast rap']\n",
      "['dance pop', 'pop', 'pop dance', 'pop rap']\n",
      "['soul flow', 'underground hip hop']\n"
     ]
    },
    {
     "name": "stderr",
     "output_type": "stream",
     "text": [
      "\r",
      "  9%|▉         | 27/301 [00:02<00:28,  9.61it/s]"
     ]
    },
    {
     "name": "stdout",
     "output_type": "stream",
     "text": [
      "['alternative hip hop', 'hip hop', 'turntablism']\n",
      "['cali rap', 'trap']\n",
      "['desi hip hop', 'desi pop', 'pakistani hip hop', 'punjabi hip hop', 'punjabi pop']\n"
     ]
    },
    {
     "name": "stderr",
     "output_type": "stream",
     "text": [
      " 10%|█         | 31/301 [00:03<00:26, 10.28it/s]"
     ]
    },
    {
     "name": "stdout",
     "output_type": "stream",
     "text": [
      "['gangster rap', 'hip hop', 'ohio hip hop', 'pop rap', 'rap', 'southern hip hop']\n",
      "['christian hip hop', 'portland hip hop', 'underground rap']\n",
      "here\n"
     ]
    },
    {
     "name": "stderr",
     "output_type": "stream",
     "text": [
      "\r",
      " 11%|█         | 33/301 [00:03<00:27,  9.91it/s]"
     ]
    },
    {
     "name": "stdout",
     "output_type": "stream",
     "text": [
      "['dirty south rap', 'gangster rap', 'hip hop', 'horrorcore', 'hyphy', 'rap', 'sacramento hip hop', 'west coast rap']\n",
      "['chicano rap', 'latin hip hop', 'west coast rap']\n",
      "['g funk', 'west coast rap']\n"
     ]
    },
    {
     "name": "stderr",
     "output_type": "stream",
     "text": [
      " 12%|█▏        | 37/301 [00:03<00:25, 10.52it/s]"
     ]
    },
    {
     "name": "stdout",
     "output_type": "stream",
     "text": [
      "['dirty south rap', 'g funk', 'gangster rap', 'hyphy', 'sacramento hip hop', 'west coast rap', 'west coast trap']\n",
      "here\n",
      "['hip hop', 'underground hip hop', 'west coast trap']\n"
     ]
    },
    {
     "name": "stderr",
     "output_type": "stream",
     "text": [
      "\r",
      " 13%|█▎        | 39/301 [00:03<00:23, 11.21it/s]"
     ]
    },
    {
     "name": "stdout",
     "output_type": "stream",
     "text": [
      "['g funk', 'gangster rap', 'hyphy', 'west coast rap', 'west coast trap']\n",
      "['cali rap', 'hyphy', 'oakland hip hop', 'west coast rap', 'west coast trap']\n",
      "here\n"
     ]
    },
    {
     "name": "stderr",
     "output_type": "stream",
     "text": [
      " 14%|█▍        | 43/301 [00:04<00:22, 11.59it/s]"
     ]
    },
    {
     "name": "stdout",
     "output_type": "stream",
     "text": [
      "['g funk', 'gangster rap', 'hardcore hip hop', 'hip hop', 'rap', 'west coast rap']\n",
      "['g funk', 'gangster rap', 'hip hop', 'rap', 'west coast rap']\n",
      "['portland hip hop']\n"
     ]
    },
    {
     "name": "stderr",
     "output_type": "stream",
     "text": [
      "\r",
      " 15%|█▍        | 45/301 [00:04<00:27,  9.45it/s]"
     ]
    },
    {
     "name": "stdout",
     "output_type": "stream",
     "text": [
      "['underground hip hop']\n",
      "['bay area hip hop']\n"
     ]
    },
    {
     "name": "stderr",
     "output_type": "stream",
     "text": [
      "\r",
      " 16%|█▌        | 47/301 [00:04<00:30,  8.19it/s]"
     ]
    },
    {
     "name": "stdout",
     "output_type": "stream",
     "text": [
      "['alternative hip hop', 'turntablism']\n",
      "['west coast rap']\n"
     ]
    },
    {
     "name": "stderr",
     "output_type": "stream",
     "text": [
      " 16%|█▋        | 49/301 [00:05<00:30,  8.29it/s]"
     ]
    },
    {
     "name": "stdout",
     "output_type": "stream",
     "text": [
      "['g funk', 'gangster rap', 'hardcore hip hop', 'hip hop', 'hyphy', 'popping', 'rap', 'southern hip hop', 'west coast rap', 'west coast trap']\n",
      "['big beat', 'downtempo', 'electronica', 'hip hop', 'trip hop', 'turntablism']\n"
     ]
    },
    {
     "name": "stderr",
     "output_type": "stream",
     "text": [
      "\r",
      " 17%|█▋        | 51/301 [00:05<00:27,  9.05it/s]"
     ]
    },
    {
     "name": "stdout",
     "output_type": "stream",
     "text": [
      "here\n",
      "here\n",
      "['conscious hip hop', 'gangster rap', 'hardcore hip hop', 'west coast rap']\n"
     ]
    },
    {
     "name": "stderr",
     "output_type": "stream",
     "text": [
      "\r",
      " 18%|█▊        | 53/301 [00:05<00:25,  9.76it/s]"
     ]
    },
    {
     "name": "stdout",
     "output_type": "stream",
     "text": [
      "['bay area hip hop', 'hyphy']\n",
      "['g funk', 'gangster rap', 'hip hop', 'rap', 'west coast rap', 'west coast trap']\n"
     ]
    },
    {
     "name": "stderr",
     "output_type": "stream",
     "text": [
      " 19%|█▊        | 56/301 [00:05<00:31,  7.80it/s]"
     ]
    },
    {
     "name": "stdout",
     "output_type": "stream",
     "text": [
      "['alternative hip hop', 'escape room', 'experimental hip hop', 'hip hop', 'industrial hip hop']\n",
      "['alternative hip hop', 'gangster rap', 'hardcore hip hop', 'hip hop', 'oakland hip hop', 'rap', 'turntablism']\n"
     ]
    },
    {
     "name": "stderr",
     "output_type": "stream",
     "text": [
      " 19%|█▉        | 58/301 [00:06<00:32,  7.50it/s]"
     ]
    },
    {
     "name": "stdout",
     "output_type": "stream",
     "text": [
      "['chicano rap', 'gangster rap', 'hardcore hip hop']\n",
      "here\n"
     ]
    },
    {
     "name": "stderr",
     "output_type": "stream",
     "text": [
      "\r",
      " 20%|█▉        | 60/301 [00:06<00:28,  8.55it/s]"
     ]
    },
    {
     "name": "stdout",
     "output_type": "stream",
     "text": [
      "['conscious hip hop', 'funk', 'gangster rap', 'hardcore hip hop', 'hip hop', 'hip house', 'rap', 'west coast rap']\n",
      "['alternative hip hop', 'hardcore hip hop', 'hip hop', 'turntablism', 'west coast rap']\n",
      "['conscious hip hop', 'deep underground hip hop', 'hip hop', 'indie pop rap', 'rap', 'southern hip hop', 'trap', 'underground hip hop']\n"
     ]
    },
    {
     "name": "stderr",
     "output_type": "stream",
     "text": [
      " 21%|██        | 63/301 [00:06<00:26,  9.10it/s]"
     ]
    },
    {
     "name": "stdout",
     "output_type": "stream",
     "text": [
      "here\n",
      "here\n"
     ]
    },
    {
     "name": "stderr",
     "output_type": "stream",
     "text": [
      "\r",
      " 22%|██▏       | 65/301 [00:06<00:25,  9.33it/s]"
     ]
    },
    {
     "name": "stdout",
     "output_type": "stream",
     "text": [
      "['cali rap', 'hip hop', 'rap', 'southern hip hop', 'trap', 'underground hip hop', 'west coast trap']\n",
      "here\n"
     ]
    },
    {
     "name": "stderr",
     "output_type": "stream",
     "text": [
      " 22%|██▏       | 67/301 [00:06<00:28,  8.24it/s]"
     ]
    },
    {
     "name": "stdout",
     "output_type": "stream",
     "text": [
      "['alternative hip hop', 'hip hop', 'rap', 'underground hip hop']\n",
      "['g funk', 'gangster rap', 'hip hop', 'rap', 'west coast rap']\n"
     ]
    },
    {
     "name": "stderr",
     "output_type": "stream",
     "text": [
      "\r",
      " 23%|██▎       | 69/301 [00:07<00:25,  9.00it/s]"
     ]
    },
    {
     "name": "stdout",
     "output_type": "stream",
     "text": [
      "['g funk', 'gangster rap', 'hyphy', 'oakland hip hop', 'west coast rap', 'west coast trap']\n",
      "['asian american hip hop', 'battle rap', 'k-rap']\n",
      "['cali rap', 'gangster rap', 'hip hop', 'hyphy', 'oakland hip hop', 'pop rap', 'rap', 'southern hip hop', 'trap', 'west coast rap']\n"
     ]
    },
    {
     "name": "stderr",
     "output_type": "stream",
     "text": [
      " 24%|██▍       | 73/301 [00:07<00:22, 10.21it/s]"
     ]
    },
    {
     "name": "stdout",
     "output_type": "stream",
     "text": [
      "['hyphy', 'oakland hip hop', 'west coast rap']\n",
      "['alternative hip hop', 'escape room', 'experimental hip hop', 'hip hop', 'rap', 'underground hip hop']\n",
      "['g funk', 'gangster rap', 'hardcore hip hop', 'hip hop', 'rap', 'west coast rap']\n"
     ]
    },
    {
     "name": "stderr",
     "output_type": "stream",
     "text": [
      "\r",
      " 25%|██▍       | 75/301 [00:07<00:21, 10.47it/s]"
     ]
    },
    {
     "name": "stdout",
     "output_type": "stream",
     "text": [
      "here\n",
      "['alternative hip hop', 'boom bap']\n",
      "['alternative hip hop', 'soul flow']\n"
     ]
    },
    {
     "name": "stderr",
     "output_type": "stream",
     "text": [
      "\r",
      " 26%|██▌       | 77/301 [00:07<00:21, 10.44it/s]"
     ]
    },
    {
     "name": "stdout",
     "output_type": "stream",
     "text": [
      "['g funk', 'popping', 'west coast rap']\n",
      "['alternative hip hop', 'hip hop', 'indiana hip hop', 'rap', 'southern hip hop', 'trap', 'underground hip hop']\n"
     ]
    },
    {
     "name": "stderr",
     "output_type": "stream",
     "text": [
      " 27%|██▋       | 80/301 [00:08<00:28,  7.75it/s]"
     ]
    },
    {
     "name": "stdout",
     "output_type": "stream",
     "text": [
      "['alternative hip hop', 'gangster rap', 'hardcore hip hop', 'hip hop', 'turntablism']\n",
      "['chicano rap']\n"
     ]
    },
    {
     "name": "stderr",
     "output_type": "stream",
     "text": [
      "\r",
      " 27%|██▋       | 82/301 [00:08<00:26,  8.23it/s]"
     ]
    },
    {
     "name": "stdout",
     "output_type": "stream",
     "text": [
      "['deep underground hip hop', 'indie pop rap', 'pop rap', 'rap']\n",
      "here\n"
     ]
    },
    {
     "name": "stderr",
     "output_type": "stream",
     "text": [
      " 28%|██▊       | 84/301 [00:08<00:28,  7.61it/s]"
     ]
    },
    {
     "name": "stdout",
     "output_type": "stream",
     "text": [
      "here\n",
      "['abstract hip hop', 'alternative hip hop', 'underground rap']\n"
     ]
    },
    {
     "name": "stderr",
     "output_type": "stream",
     "text": [
      " 29%|██▊       | 86/301 [00:09<00:27,  7.94it/s]"
     ]
    },
    {
     "name": "stdout",
     "output_type": "stream",
     "text": [
      "['west coast trap']\n",
      "['g funk', 'west coast rap']\n"
     ]
    },
    {
     "name": "stderr",
     "output_type": "stream",
     "text": [
      "\r",
      " 29%|██▉       | 88/301 [00:09<00:25,  8.29it/s]"
     ]
    },
    {
     "name": "stdout",
     "output_type": "stream",
     "text": [
      "['christian hip hop', 'gospel rap']\n",
      "['conscious hip hop', 'underground rap']\n"
     ]
    },
    {
     "name": "stderr",
     "output_type": "stream",
     "text": [
      " 30%|██▉       | 90/301 [00:09<00:28,  7.45it/s]"
     ]
    },
    {
     "name": "stdout",
     "output_type": "stream",
     "text": [
      "['west coast rap']\n",
      "['hip hop', 'indie pop rap', 'oakland hip hop', 'pop rap', 'rap']\n"
     ]
    },
    {
     "name": "stderr",
     "output_type": "stream",
     "text": [
      "\r",
      " 30%|███       | 91/301 [00:09<00:27,  7.74it/s]"
     ]
    },
    {
     "name": "stdout",
     "output_type": "stream",
     "text": [
      "['alternative hip hop']\n",
      "['alternative hip hop', 'boom bap', 'hardcore hip hop']\n",
      "here"
     ]
    },
    {
     "name": "stderr",
     "output_type": "stream",
     "text": [
      " 31%|███       | 94/301 [00:09<00:24,  8.43it/s]"
     ]
    },
    {
     "name": "stdout",
     "output_type": "stream",
     "text": [
      "\n",
      "['g funk', 'gangster rap', 'west coast rap']\n"
     ]
    },
    {
     "name": "stderr",
     "output_type": "stream",
     "text": [
      "\r",
      " 32%|███▏      | 96/301 [00:10<00:22,  8.93it/s]"
     ]
    },
    {
     "name": "stdout",
     "output_type": "stream",
     "text": [
      "['abstract hip hop', 'alternative hip hop', 'hardcore hip hop', 'hip hop', 'jazz rap', 'turntablism']\n",
      "['conscious hip hop', 'hip hop', 'pop rap', 'rap']\n",
      "here\n"
     ]
    },
    {
     "name": "stderr",
     "output_type": "stream",
     "text": [
      " 33%|███▎      | 99/301 [00:10<00:20,  9.66it/s]"
     ]
    },
    {
     "name": "stdout",
     "output_type": "stream",
     "text": [
      "['gangster rap', 'hardcore hip hop', 'hip hop', 'rap', 'west coast rap']\n",
      "['bay area hip hop', 'cali rap', 'hyphy', 'west coast trap']\n"
     ]
    },
    {
     "name": "stderr",
     "output_type": "stream",
     "text": [
      " 34%|███▍      | 102/301 [00:10<00:21,  9.47it/s]"
     ]
    },
    {
     "name": "stdout",
     "output_type": "stream",
     "text": [
      "['new jersey rap']\n",
      "['cali rap', 'hyphy', 'trap', 'west coast trap']\n",
      "['conscious hip hop', 'g funk', 'gangster rap', 'hardcore hip hop', 'hip hop', 'rap', 'west coast rap']\n"
     ]
    },
    {
     "name": "stderr",
     "output_type": "stream",
     "text": [
      "\r",
      " 35%|███▍      | 104/301 [00:10<00:19, 10.02it/s]"
     ]
    },
    {
     "name": "stdout",
     "output_type": "stream",
     "text": [
      "['conscious hip hop', 'electro', 'gangster rap', 'hardcore hip hop', 'hip hop', 'new jersey rap', 'old school hip hop', 'rap', 'west coast rap']\n",
      "['portland hip hop', 'underground rap']\n",
      "here\n"
     ]
    },
    {
     "name": "stderr",
     "output_type": "stream",
     "text": [
      " 36%|███▌      | 108/301 [00:11<00:19,  9.77it/s]"
     ]
    },
    {
     "name": "stdout",
     "output_type": "stream",
     "text": [
      "['electro', 'miami bass', 'old school hip hop']\n",
      "here\n",
      "['hyphy', 'west coast rap']\n"
     ]
    },
    {
     "name": "stderr",
     "output_type": "stream",
     "text": [
      "\r",
      " 37%|███▋      | 110/301 [00:11<00:19,  9.98it/s]"
     ]
    },
    {
     "name": "stdout",
     "output_type": "stream",
     "text": [
      "['alternative hip hop', 'seattle hip hop']\n",
      "['conscious hip hop', 'gangster rap', 'hip hop', 'pop rap', 'rap', 'southern hip hop', 'trap', 'underground hip hop']\n",
      "['g funk', 'hyphy', 'san diego rap', 'west coast rap', 'west coast trap']\n"
     ]
    },
    {
     "name": "stderr",
     "output_type": "stream",
     "text": [
      " 38%|███▊      | 114/301 [00:11<00:18, 10.35it/s]"
     ]
    },
    {
     "name": "stdout",
     "output_type": "stream",
     "text": [
      "['rap rock']\n",
      "here\n",
      "['alternative hip hop', 'escape room', 'wonky']\n"
     ]
    },
    {
     "name": "stderr",
     "output_type": "stream",
     "text": [
      "\r",
      " 39%|███▊      | 116/301 [00:12<00:19,  9.38it/s]"
     ]
    },
    {
     "name": "stdout",
     "output_type": "stream",
     "text": [
      "['west coast rap']\n",
      "['g funk', 'west coast rap']\n"
     ]
    },
    {
     "name": "stderr",
     "output_type": "stream",
     "text": [
      " 40%|███▉      | 119/301 [00:12<00:18, 10.05it/s]"
     ]
    },
    {
     "name": "stdout",
     "output_type": "stream",
     "text": [
      "['cali rap', 'hyphy', 'oakland hip hop', 'west coast rap', 'west coast trap']\n",
      "['conscious hip hop', 'hip hop', 'rap', 'west coast rap']\n",
      "['dance pop', 'hip pop', 'neo soul', 'pop', 'pop r&b', 'pop rap', 'r&b', 'urban contemporary']\n"
     ]
    },
    {
     "name": "stderr",
     "output_type": "stream",
     "text": [
      "\r",
      " 40%|████      | 121/301 [00:12<00:18,  9.87it/s]"
     ]
    },
    {
     "name": "stdout",
     "output_type": "stream",
     "text": [
      "['chicano rap', 'gangster rap', 'latin hip hop']\n",
      "['dance pop', 'hip hop', 'pop rap', 'rap', 'southern hip hop', 'trap']\n"
     ]
    },
    {
     "name": "stderr",
     "output_type": "stream",
     "text": [
      "\r",
      " 41%|████      | 123/301 [00:12<00:18,  9.85it/s]"
     ]
    },
    {
     "name": "stdout",
     "output_type": "stream",
     "text": [
      "['seattle hip hop']\n",
      "['electro', 'gangster rap', 'hardcore hip hop', 'hip hop', 'old school hip hop', 'west coast rap']\n"
     ]
    },
    {
     "name": "stderr",
     "output_type": "stream",
     "text": [
      "\r",
      " 42%|████▏     | 125/301 [00:13<00:18,  9.40it/s]"
     ]
    },
    {
     "name": "stdout",
     "output_type": "stream",
     "text": [
      "['country rap', 'rap rock']\n",
      "['chicano rap', 'gangster rap', 'latin hip hop', 'west coast rap']\n"
     ]
    },
    {
     "name": "stderr",
     "output_type": "stream",
     "text": [
      " 42%|████▏     | 127/301 [00:13<00:24,  7.18it/s]"
     ]
    },
    {
     "name": "stdout",
     "output_type": "stream",
     "text": [
      "['g funk', 'west coast rap']\n",
      "['g funk', 'gangster rap', 'hyphy', 'west coast rap', 'west coast trap']\n"
     ]
    },
    {
     "name": "stderr",
     "output_type": "stream",
     "text": [
      " 43%|████▎     | 129/301 [00:13<00:22,  7.48it/s]"
     ]
    },
    {
     "name": "stdout",
     "output_type": "stream",
     "text": [
      "['rap metal', 'rap rock']\n",
      "here\n"
     ]
    },
    {
     "name": "stderr",
     "output_type": "stream",
     "text": [
      " 44%|████▍     | 132/301 [00:14<00:22,  7.54it/s]"
     ]
    },
    {
     "name": "stdout",
     "output_type": "stream",
     "text": [
      "here\n",
      "['horrorcore', 'rap rock']\n",
      "['g funk', 'gangster rap', 'hardcore hip hop', 'hip hop', 'rap', 'west coast rap', 'west coast trap']\n"
     ]
    },
    {
     "name": "stderr",
     "output_type": "stream",
     "text": [
      " 45%|████▍     | 134/301 [00:14<00:23,  7.08it/s]"
     ]
    },
    {
     "name": "stdout",
     "output_type": "stream",
     "text": [
      "here\n",
      "here\n"
     ]
    },
    {
     "name": "stderr",
     "output_type": "stream",
     "text": [
      " 46%|████▌     | 137/301 [00:14<00:19,  8.62it/s]"
     ]
    },
    {
     "name": "stdout",
     "output_type": "stream",
     "text": [
      "['cali rap', 'underground hip hop', 'west coast trap']\n",
      "['oakland hip hop']\n",
      "here\n"
     ]
    },
    {
     "name": "stderr",
     "output_type": "stream",
     "text": [
      "\r",
      " 46%|████▌     | 139/301 [00:14<00:17,  9.40it/s]"
     ]
    },
    {
     "name": "stdout",
     "output_type": "stream",
     "text": [
      "here\n",
      "['west coast rap']\n",
      "here\n"
     ]
    },
    {
     "name": "stderr",
     "output_type": "stream",
     "text": [
      " 48%|████▊     | 143/301 [00:15<00:15, 10.46it/s]"
     ]
    },
    {
     "name": "stdout",
     "output_type": "stream",
     "text": [
      "['alternative hip hop', 'portland hip hop']\n",
      "['chicano rap', 'gangster rap', 'latin hip hop']\n",
      "['escape room', 'trap queen']\n"
     ]
    },
    {
     "name": "stderr",
     "output_type": "stream",
     "text": [
      "\r",
      " 48%|████▊     | 145/301 [00:15<00:14, 10.72it/s]"
     ]
    },
    {
     "name": "stdout",
     "output_type": "stream",
     "text": [
      "['g funk', 'west coast rap']\n",
      "['chicano rap', 'g funk', 'gangster rap', 'latin hip hop', 'san diego rap']\n",
      "['abstract hip hop', 'alternative hip hop', 'underground rap']\n"
     ]
    },
    {
     "name": "stderr",
     "output_type": "stream",
     "text": [
      "\r",
      " 49%|████▉     | 147/301 [00:15<00:14, 10.48it/s]"
     ]
    },
    {
     "name": "stdout",
     "output_type": "stream",
     "text": [
      "['conscious hip hop', 'deep underground hip hop', 'underground hip hop']\n"
     ]
    },
    {
     "name": "stderr",
     "output_type": "stream",
     "text": [
      "\r",
      " 50%|████▉     | 149/301 [00:16<00:39,  3.84it/s]"
     ]
    },
    {
     "name": "stdout",
     "output_type": "stream",
     "text": [
      "['alternative hip hop', 'bboy', 'hardcore hip hop', 'hip hop', 'turntablism']\n",
      "here\n"
     ]
    },
    {
     "name": "stderr",
     "output_type": "stream",
     "text": [
      " 50%|█████     | 152/301 [00:17<00:26,  5.60it/s]"
     ]
    },
    {
     "name": "stdout",
     "output_type": "stream",
     "text": [
      "here\n",
      "here\n",
      "['hyphy', 'sacramento hip hop', 'west coast trap']\n"
     ]
    },
    {
     "name": "stderr",
     "output_type": "stream",
     "text": [
      "\r",
      " 51%|█████     | 154/301 [00:17<00:21,  6.74it/s]"
     ]
    },
    {
     "name": "stdout",
     "output_type": "stream",
     "text": [
      "['g funk', 'gangster rap', 'hyphy', 'oakland hip hop', 'west coast rap']\n",
      "['alternative hip hop', 'turntablism']\n",
      "['g funk', 'gangster rap', 'hardcore hip hop', 'hip hop', 'west coast rap']\n"
     ]
    },
    {
     "name": "stderr",
     "output_type": "stream",
     "text": [
      " 52%|█████▏    | 158/301 [00:17<00:16,  8.68it/s]"
     ]
    },
    {
     "name": "stdout",
     "output_type": "stream",
     "text": [
      "['hip hop', 'hip house', 'new jack swing', 'rap']\n",
      "['gangster rap', 'hip hop', 'west coast rap']\n",
      "here\n"
     ]
    },
    {
     "name": "stderr",
     "output_type": "stream",
     "text": [
      "\r",
      " 53%|█████▎    | 160/301 [00:17<00:16,  8.49it/s]"
     ]
    },
    {
     "name": "stdout",
     "output_type": "stream",
     "text": [
      "['cali rap', 'gangster rap', 'hyphy', 'oakland hip hop', 'west coast rap', 'west coast trap']\n",
      "['g funk', 'gangster rap', 'hyphy', 'west coast rap', 'west coast trap']\n"
     ]
    },
    {
     "name": "stderr",
     "output_type": "stream",
     "text": [
      "\r",
      " 54%|█████▍    | 162/301 [00:18<00:15,  8.91it/s]"
     ]
    },
    {
     "name": "stdout",
     "output_type": "stream",
     "text": [
      "here\n",
      "here\n",
      "['canadian hip hop', 'rap rock']\n"
     ]
    },
    {
     "name": "stderr",
     "output_type": "stream",
     "text": [
      " 55%|█████▍    | 165/301 [00:18<00:15,  8.88it/s]"
     ]
    },
    {
     "name": "stdout",
     "output_type": "stream",
     "text": [
      "['alternative hip hop', 'funk', 'hip hop', 'psychedelic hip hop']\n",
      "['sacramento hip hop']\n"
     ]
    },
    {
     "name": "stderr",
     "output_type": "stream",
     "text": [
      " 56%|█████▌    | 168/301 [00:18<00:13,  9.80it/s]"
     ]
    },
    {
     "name": "stdout",
     "output_type": "stream",
     "text": [
      "['chicano rap']\n",
      "['dirty texas rap']\n",
      "here\n"
     ]
    },
    {
     "name": "stderr",
     "output_type": "stream",
     "text": [
      "\r",
      " 56%|█████▋    | 170/301 [00:18<00:12, 10.57it/s]"
     ]
    },
    {
     "name": "stdout",
     "output_type": "stream",
     "text": [
      "['cali rap', 'hyphy', 'oakland hip hop', 'west coast rap', 'west coast trap']\n",
      "['atl hip hop', 'hip hop', 'pop rap', 'rap', 'southern hip hop', 'trap']\n",
      "here\n"
     ]
    },
    {
     "name": "stderr",
     "output_type": "stream",
     "text": [
      " 58%|█████▊    | 174/301 [00:19<00:12, 10.06it/s]"
     ]
    },
    {
     "name": "stdout",
     "output_type": "stream",
     "text": [
      "['cali rap', 'hyphy', 'oakland hip hop', 'west coast trap']\n",
      "['hyphy', 'san diego rap', 'west coast rap', 'west coast trap']\n",
      "here\n"
     ]
    },
    {
     "name": "stderr",
     "output_type": "stream",
     "text": [
      "\r",
      " 58%|█████▊    | 176/301 [00:19<00:13,  9.32it/s]"
     ]
    },
    {
     "name": "stdout",
     "output_type": "stream",
     "text": [
      "['cali rap', 'rap', 'sacramento hip hop', 'southern hip hop', 'trap', 'west coast trap']\n",
      "['chicano rap', 'g funk', 'gangster rap', 'latin hip hop', 'west coast rap']\n"
     ]
    },
    {
     "name": "stderr",
     "output_type": "stream",
     "text": [
      " 59%|█████▉    | 179/301 [00:19<00:12,  9.80it/s]"
     ]
    },
    {
     "name": "stdout",
     "output_type": "stream",
     "text": [
      "['hyphy', 'sacramento hip hop']\n",
      "here\n",
      "['chicago rap']\n"
     ]
    },
    {
     "name": "stderr",
     "output_type": "stream",
     "text": [
      "\r",
      " 60%|██████    | 181/301 [00:19<00:11, 10.02it/s]"
     ]
    },
    {
     "name": "stdout",
     "output_type": "stream",
     "text": [
      "['abstract hip hop', 'alternative hip hop', 'hip hop', 'underground rap']\n",
      "['chicano rap', 'gangster rap', 'hyphy', 'west coast rap']\n"
     ]
    },
    {
     "name": "stderr",
     "output_type": "stream",
     "text": [
      "\r",
      " 61%|██████    | 183/301 [00:20<00:11, 10.22it/s]"
     ]
    },
    {
     "name": "stdout",
     "output_type": "stream",
     "text": [
      "['g funk', 'gangster rap', 'hip hop', 'pop rap', 'rap', 'west coast rap']\n",
      "['chicano rap', 'latin hip hop']\n",
      "['conscious hip hop', 'gangster rap', 'hip hop', 'pop rap', 'rap', 'southern hip hop', 'trap']\n"
     ]
    },
    {
     "name": "stderr",
     "output_type": "stream",
     "text": [
      " 62%|██████▏   | 187/301 [00:20<00:10, 10.56it/s]"
     ]
    },
    {
     "name": "stdout",
     "output_type": "stream",
     "text": [
      "here\n",
      "['conscious hip hop', 'gangster rap', 'hardcore hip hop', 'hip hop', 'old school hip hop', 'rap', 'west coast rap']\n",
      "['memphis hip hop']\n"
     ]
    },
    {
     "name": "stderr",
     "output_type": "stream",
     "text": [
      "\r",
      " 63%|██████▎   | 189/301 [00:20<00:10, 10.84it/s]"
     ]
    },
    {
     "name": "stdout",
     "output_type": "stream",
     "text": [
      "['hip hop', 'rap']\n",
      "['atl hip hop', 'hip hop', 'pop rap', 'rap', 'southern hip hop', 'trap']\n",
      "here\n"
     ]
    },
    {
     "name": "stderr",
     "output_type": "stream",
     "text": [
      " 64%|██████▍   | 193/301 [00:21<00:09, 11.45it/s]"
     ]
    },
    {
     "name": "stdout",
     "output_type": "stream",
     "text": [
      "['gangster rap']\n",
      "here\n",
      "['alternative hip hop', 'soul flow']\n"
     ]
    },
    {
     "name": "stderr",
     "output_type": "stream",
     "text": [
      "\r",
      " 65%|██████▍   | 195/301 [00:21<00:08, 12.07it/s]"
     ]
    },
    {
     "name": "stdout",
     "output_type": "stream",
     "text": [
      "here\n",
      "['gospel rap']\n",
      "here\n"
     ]
    },
    {
     "name": "stderr",
     "output_type": "stream",
     "text": [
      "\r",
      " 65%|██████▌   | 197/301 [00:21<00:08, 11.68it/s]"
     ]
    },
    {
     "name": "stdout",
     "output_type": "stream",
     "text": [
      "['alternative hip hop', 'hip hop', 'jazz rap', 'turntablism']\n",
      "here\n"
     ]
    },
    {
     "name": "stderr",
     "output_type": "stream",
     "text": [
      " 67%|██████▋   | 201/301 [00:21<00:09, 10.73it/s]"
     ]
    },
    {
     "name": "stdout",
     "output_type": "stream",
     "text": [
      "['alternative hip hop', 'boom bap', 'hardcore hip hop', 'underground hip hop', 'underground rap']\n",
      "here\n",
      "here\n"
     ]
    },
    {
     "name": "stderr",
     "output_type": "stream",
     "text": [
      "\r",
      " 67%|██████▋   | 203/301 [00:21<00:08, 11.19it/s]"
     ]
    },
    {
     "name": "stdout",
     "output_type": "stream",
     "text": [
      "['country rap', 'rap rock']\n",
      "['cali rap', 'gangster rap', 'hyphy', 'pop rap', 'rap', 'southern hip hop', 'trap', 'west coast trap']\n",
      "['christian hip hop', 'christian trap']\n"
     ]
    },
    {
     "name": "stderr",
     "output_type": "stream",
     "text": [
      " 69%|██████▉   | 207/301 [00:22<00:08, 11.22it/s]"
     ]
    },
    {
     "name": "stdout",
     "output_type": "stream",
     "text": [
      "['chicano rap', 'latin hip hop']\n",
      "['alternative hip hop', 'hip hop', 'psychedelic hip hop']\n",
      "['gangster rap', 'hyphy', 'west coast rap', 'west coast trap']\n"
     ]
    },
    {
     "name": "stderr",
     "output_type": "stream",
     "text": [
      "\r",
      " 69%|██████▉   | 209/301 [00:22<00:08, 10.97it/s]"
     ]
    },
    {
     "name": "stdout",
     "output_type": "stream",
     "text": [
      "here\n",
      "['g funk', 'gangster rap', 'hyphy']\n",
      "['alternative hip hop', 'boom bap', 'conscious hip hop', 'hardcore hip hop', 'hip hop', 'underground rap']\n"
     ]
    },
    {
     "name": "stderr",
     "output_type": "stream",
     "text": [
      "\r",
      " 70%|███████   | 211/301 [00:22<00:07, 11.35it/s]"
     ]
    },
    {
     "name": "stdout",
     "output_type": "stream",
     "text": [
      "['alternative hip hop', 'hardcore hip hop', 'turntablism']\n",
      "['dirty texas rap', 'g funk', 'hyphy']\n"
     ]
    },
    {
     "name": "stderr",
     "output_type": "stream",
     "text": [
      " 71%|███████▏  | 215/301 [00:23<00:07, 11.20it/s]"
     ]
    },
    {
     "name": "stdout",
     "output_type": "stream",
     "text": [
      "['g funk', 'gangster rap', 'hyphy', 'oakland hip hop', 'west coast trap']\n",
      "['melodic rap', 'rap', 'trap']\n",
      "['bay area hip hop', 'cali rap', 'hyphy', 'west coast trap']\n"
     ]
    },
    {
     "name": "stderr",
     "output_type": "stream",
     "text": [
      "\r",
      " 72%|███████▏  | 217/301 [00:23<00:07, 11.80it/s]"
     ]
    },
    {
     "name": "stdout",
     "output_type": "stream",
     "text": [
      "['deep east coast hip hop']\n",
      "['dance pop', 'hyphy', 'pop rap', 'rap', 'southern hip hop', 'trap']\n",
      "here\n"
     ]
    },
    {
     "name": "stderr",
     "output_type": "stream",
     "text": [
      " 73%|███████▎  | 221/301 [00:23<00:07, 11.26it/s]"
     ]
    },
    {
     "name": "stdout",
     "output_type": "stream",
     "text": [
      "here\n",
      "['cali rap', 'hyphy', 'west coast trap']\n",
      "['cali rap', 'dance pop', 'pop', 'pop rap', 'post-teen pop', 'trap queen']\n"
     ]
    },
    {
     "name": "stderr",
     "output_type": "stream",
     "text": [
      "\r",
      " 74%|███████▍  | 223/301 [00:23<00:07, 10.58it/s]"
     ]
    },
    {
     "name": "stdout",
     "output_type": "stream",
     "text": [
      "['gangster rap', 'hip hop', 'pop rap', 'rap', 'southern hip hop', 'trap', 'underground hip hop']\n",
      "['dirty texas rap', 'g funk']\n"
     ]
    },
    {
     "name": "stderr",
     "output_type": "stream",
     "text": [
      "\r",
      " 75%|███████▍  | 225/301 [00:23<00:07,  9.92it/s]"
     ]
    },
    {
     "name": "stdout",
     "output_type": "stream",
     "text": [
      "['rap metal']\n",
      "['g funk', 'west coast rap']\n"
     ]
    },
    {
     "name": "stderr",
     "output_type": "stream",
     "text": [
      "\r",
      " 75%|███████▌  | 227/301 [00:24<00:07,  9.46it/s]"
     ]
    },
    {
     "name": "stdout",
     "output_type": "stream",
     "text": [
      "here\n",
      "['electro', 'gangster rap', 'hip hop', 'hip house', 'old school hip hop', 'rap']\n"
     ]
    },
    {
     "name": "stderr",
     "output_type": "stream",
     "text": [
      " 76%|███████▋  | 230/301 [00:24<00:07,  9.86it/s]"
     ]
    },
    {
     "name": "stdout",
     "output_type": "stream",
     "text": [
      "['hip hop', 'rap', 'west coast rap']\n",
      "here\n",
      "here\n"
     ]
    },
    {
     "name": "stderr",
     "output_type": "stream",
     "text": [
      "\r",
      " 77%|███████▋  | 232/301 [00:24<00:06, 10.52it/s]"
     ]
    },
    {
     "name": "stdout",
     "output_type": "stream",
     "text": [
      "['g funk', 'gangster rap', 'hip hop', 'pop rap', 'rap', 'west coast rap']\n",
      "['rap latina', 'trap queen']\n",
      "['alternative hip hop', 'hardcore hip hop', 'hip hop', 'jazz rap', 'turntablism']\n"
     ]
    },
    {
     "name": "stderr",
     "output_type": "stream",
     "text": [
      " 78%|███████▊  | 236/301 [00:24<00:05, 11.37it/s]"
     ]
    },
    {
     "name": "stdout",
     "output_type": "stream",
     "text": [
      "['chicano rap', 'g funk', 'gangster rap', 'west coast rap']\n",
      "['g funk', 'west coast rap']\n",
      "['g funk', 'gangster rap', 'hip hop', 'hyphy', 'rap', 'west coast rap', 'west coast trap']\n"
     ]
    },
    {
     "name": "stderr",
     "output_type": "stream",
     "text": [
      "\r",
      " 79%|███████▉  | 238/301 [00:25<00:05, 11.62it/s]"
     ]
    },
    {
     "name": "stdout",
     "output_type": "stream",
     "text": [
      "['west coast trap']\n",
      "['atl hip hop', 'southern hip hop']\n",
      "here\n"
     ]
    },
    {
     "name": "stderr",
     "output_type": "stream",
     "text": [
      "\r",
      " 80%|███████▉  | 240/301 [00:25<00:05, 11.94it/s]"
     ]
    },
    {
     "name": "stdout",
     "output_type": "stream",
     "text": [
      "['alternative hip hop']\n",
      "here\n"
     ]
    },
    {
     "name": "stderr",
     "output_type": "stream",
     "text": [
      " 81%|████████  | 244/301 [00:25<00:05, 10.45it/s]"
     ]
    },
    {
     "name": "stdout",
     "output_type": "stream",
     "text": [
      "['g funk', 'gangster rap', 'hip hop', 'hyphy', 'rap', 'west coast rap', 'west coast trap']\n",
      "here\n",
      "['abstract hip hop', 'underground rap']\n"
     ]
    },
    {
     "name": "stderr",
     "output_type": "stream",
     "text": [
      "\r",
      " 82%|████████▏ | 246/301 [00:25<00:05, 10.79it/s]"
     ]
    },
    {
     "name": "stdout",
     "output_type": "stream",
     "text": [
      "here\n",
      "['rap rock', 'underground rap']\n",
      "['atl hip hop', 'rap', 'southern hip hop', 'trap', 'vapor trap']\n"
     ]
    },
    {
     "name": "stderr",
     "output_type": "stream",
     "text": [
      " 83%|████████▎ | 250/301 [00:26<00:04, 11.48it/s]"
     ]
    },
    {
     "name": "stdout",
     "output_type": "stream",
     "text": [
      "here\n",
      "['alternative hip hop', 'gangster rap', 'hardcore hip hop', 'hip hop', 'turntablism']\n",
      "['dirty south rap', 'g funk', 'gangster rap', 'hardcore hip hop', 'hip hop', 'hyphy', 'rap', 'southern hip hop', 'west coast rap', 'west coast trap']\n"
     ]
    },
    {
     "name": "stderr",
     "output_type": "stream",
     "text": [
      "\r",
      " 84%|████████▎ | 252/301 [00:27<00:11,  4.25it/s]"
     ]
    },
    {
     "name": "stdout",
     "output_type": "stream",
     "text": [
      "['gangster rap', 'hip hop', 'pop rap', 'rap', 'southern hip hop', 'trap']\n",
      "['g funk', 'west coast rap']\n",
      "['alternative hip hop', 'conscious hip hop', 'hip hop', 'oakland hip hop', 'political hip hop']\n"
     ]
    },
    {
     "name": "stderr",
     "output_type": "stream",
     "text": [
      " 85%|████████▌ | 256/301 [00:27<00:07,  6.35it/s]"
     ]
    },
    {
     "name": "stdout",
     "output_type": "stream",
     "text": [
      "here\n",
      "here\n",
      "['electro', 'g funk', 'gangster rap', 'hardcore hip hop', 'hip hop', 'old school hip hop', 'rap']\n"
     ]
    },
    {
     "name": "stderr",
     "output_type": "stream",
     "text": [
      "\r",
      " 86%|████████▌ | 258/301 [00:27<00:06,  7.05it/s]"
     ]
    },
    {
     "name": "stdout",
     "output_type": "stream",
     "text": [
      "here\n",
      "['abstract hip hop', 'alternative hip hop', 'underground rap']\n"
     ]
    },
    {
     "name": "stderr",
     "output_type": "stream",
     "text": [
      "\r",
      " 86%|████████▋ | 260/301 [00:28<00:05,  7.98it/s]"
     ]
    },
    {
     "name": "stdout",
     "output_type": "stream",
     "text": [
      "['cali rap', 'hyphy', 'oakland hip hop', 'west coast trap']\n",
      "here\n",
      "['alternative hip hop', 'hardcore hip hop', 'hip hop', 'jazz rap', 'rap', 'west coast rap']\n"
     ]
    },
    {
     "name": "stderr",
     "output_type": "stream",
     "text": [
      " 88%|████████▊ | 264/301 [00:28<00:03,  9.42it/s]"
     ]
    },
    {
     "name": "stdout",
     "output_type": "stream",
     "text": [
      "here\n",
      "['hyphy', 'west coast trap']\n",
      "here\n"
     ]
    },
    {
     "name": "stderr",
     "output_type": "stream",
     "text": [
      "\r",
      " 88%|████████▊ | 266/301 [00:28<00:03, 10.16it/s]"
     ]
    },
    {
     "name": "stdout",
     "output_type": "stream",
     "text": [
      "['cali rap', 'gangster rap', 'hip hop', 'hyphy', 'oakland hip hop', 'pop rap', 'rap', 'southern hip hop', 'west coast rap']\n",
      "['dirty texas rap', 'hyphy']\n",
      "here\n"
     ]
    },
    {
     "name": "stderr",
     "output_type": "stream",
     "text": [
      " 90%|████████▉ | 270/301 [00:28<00:02, 11.14it/s]"
     ]
    },
    {
     "name": "stdout",
     "output_type": "stream",
     "text": [
      "here\n",
      "['rap']\n",
      "['hyphy', 'west coast trap']\n"
     ]
    },
    {
     "name": "stderr",
     "output_type": "stream",
     "text": [
      "\r",
      " 90%|█████████ | 272/301 [00:29<00:02, 11.01it/s]"
     ]
    },
    {
     "name": "stdout",
     "output_type": "stream",
     "text": [
      "here\n",
      "here\n",
      "['hyphy', 'west coast trap']\n"
     ]
    },
    {
     "name": "stderr",
     "output_type": "stream",
     "text": [
      " 92%|█████████▏| 276/301 [00:29<00:02, 11.58it/s]"
     ]
    },
    {
     "name": "stdout",
     "output_type": "stream",
     "text": [
      "['g funk', 'west coast rap']\n",
      "['g funk', 'west coast rap']\n",
      "['deep underground hip hop', 'horrorcore', 'san diego rap']\n"
     ]
    },
    {
     "name": "stderr",
     "output_type": "stream",
     "text": [
      "\r",
      " 92%|█████████▏| 278/301 [00:29<00:01, 11.99it/s]"
     ]
    },
    {
     "name": "stdout",
     "output_type": "stream",
     "text": [
      "['pop', 'pop rap', 'r&b', 'southern hip hop', 'trap', 'trap soul']\n",
      "['dance pop', 'hip hop', 'pop rap', 'rap', 'southern hip hop', 'trap']\n",
      "['hip hop', 'rap']\n"
     ]
    },
    {
     "name": "stderr",
     "output_type": "stream",
     "text": [
      " 94%|█████████▎| 282/301 [00:29<00:01, 12.00it/s]"
     ]
    },
    {
     "name": "stdout",
     "output_type": "stream",
     "text": [
      "['g funk', 'gangster rap', 'hip hop', 'rap', 'west coast rap']\n",
      "here\n",
      "here\n"
     ]
    },
    {
     "name": "stderr",
     "output_type": "stream",
     "text": [
      "\r",
      " 94%|█████████▍| 284/301 [00:30<00:01, 11.62it/s]"
     ]
    },
    {
     "name": "stdout",
     "output_type": "stream",
     "text": [
      "['conscious hip hop', 'escape room', 'hip hop', 'rap', 'southern hip hop', 'underground hip hop']\n",
      "['gangster rap', 'hip hop', 'hyphy', 'rap', 'west coast rap', 'west coast trap']\n",
      "['g funk', 'gangster rap', 'west coast rap']\n"
     ]
    },
    {
     "name": "stderr",
     "output_type": "stream",
     "text": [
      "\r",
      " 95%|█████████▌| 286/301 [00:30<00:01, 11.97it/s]"
     ]
    },
    {
     "name": "stdout",
     "output_type": "stream",
     "text": [
      "['g funk', 'gangster rap', 'hardcore hip hop', 'hip hop', 'pop rap', 'rap', 'west coast rap']\n",
      "['g funk', 'gangster rap', 'hardcore hip hop', 'hip hop', 'rap', 'west coast rap']\n"
     ]
    },
    {
     "name": "stderr",
     "output_type": "stream",
     "text": [
      " 96%|█████████▋| 290/301 [00:30<00:00, 11.24it/s]"
     ]
    },
    {
     "name": "stdout",
     "output_type": "stream",
     "text": [
      "['hip hop', 'pittsburgh rap', 'pop rap', 'rap', 'southern hip hop', 'trap']\n",
      "['electro', 'old school hip hop']\n",
      "['bay area hip hop', 'g funk', 'gangster rap', 'hyphy', 'sacramento hip hop', 'west coast trap']\n"
     ]
    },
    {
     "name": "stderr",
     "output_type": "stream",
     "text": [
      "\r",
      " 97%|█████████▋| 292/301 [00:30<00:00, 11.67it/s]"
     ]
    },
    {
     "name": "stdout",
     "output_type": "stream",
     "text": [
      "['detroit hip hop', 'g funk', 'gangster rap', 'hardcore hip hop', 'hip hop', 'pop rap', 'rap', 'west coast rap']\n",
      "['cali rap', 'gangster rap', 'hip hop', 'pop rap', 'rap', 'southern hip hop', 'trap']\n",
      "here\n"
     ]
    },
    {
     "name": "stderr",
     "output_type": "stream",
     "text": [
      " 98%|█████████▊| 296/301 [00:31<00:00, 12.46it/s]"
     ]
    },
    {
     "name": "stdout",
     "output_type": "stream",
     "text": [
      "here\n",
      "here\n",
      "here\n"
     ]
    },
    {
     "name": "stderr",
     "output_type": "stream",
     "text": [
      "\r",
      " 99%|█████████▉| 298/301 [00:31<00:00, 11.58it/s]"
     ]
    },
    {
     "name": "stdout",
     "output_type": "stream",
     "text": [
      "here\n",
      "here\n",
      "['hyphy', 'oakland hip hop', 'west coast rap', 'west coast trap']\n"
     ]
    },
    {
     "name": "stderr",
     "output_type": "stream",
     "text": [
      "100%|██████████| 301/301 [00:31<00:00,  9.53it/s]"
     ]
    },
    {
     "name": "stdout",
     "output_type": "stream",
     "text": [
      "['chicago rap', 'pop rap']\n",
      "['abstract hip hop', 'alternative hip hop', 'hip hop', 'underground rap']\n"
     ]
    },
    {
     "name": "stderr",
     "output_type": "stream",
     "text": [
      "\n"
     ]
    }
   ],
   "source": [
    "### filtering remaining artists on genre (lots of artists irrelevant to the problem):\n",
    "\n",
    "\n",
    "filter_errors_west = {}\n",
    "popped = {}\n",
    "\n",
    "for artist in tqdm(list(west_artist_ids.keys())):\n",
    "    \n",
    "    artist_id = west_artist_ids[artist]\n",
    "\n",
    "    # artist request using the artist ids - returns among other things the genre that the rapper falls within\n",
    "    r = requests.get(base_url + 'artists/' + artist_id, \n",
    "                     headers=headers, \n",
    "                     params={'include_groups': 'album', 'limit': 50})\n",
    "    d = r.json()\n",
    "\n",
    "    try:\n",
    "        # filtering on genres\n",
    "        if ('hip hop' not in ' '.join(d['genres'])) and ('rap' not in ' '.join(d['genres'])):\n",
    "\n",
    "            east_artist_ids.pop(str(artist))\n",
    "            popped[artist] = artist_id\n",
    "        \n",
    "        # some genres to avoid, found by investigating the artists' spotify info\n",
    "        banned = ['chicano rap', 'rap rock', 'memphis hip hop', 'soul flow', 'gospel rap', 'christian trap',\n",
    "                 'psychedelic hip hop', 'dirty texas rap', 'southern hip hop', 'trap queen']\n",
    "        for word in banned:    \n",
    "            if word in ' '.join(d['genres']): ### new part. Needed for sure. Also: trap queen.\n",
    "\n",
    "                west_artist_ids.pop(str(artist))\n",
    "                popped[artist] = artist_id\n",
    "            \n",
    "        else:\n",
    "            print(d['genres'])\n",
    "\n",
    "    except:\n",
    "        print('here')\n",
    "        filter_errors_west[artist] = artist_id"
   ]
  },
  {
   "cell_type": "code",
   "execution_count": 18,
   "metadata": {},
   "outputs": [
    {
     "data": {
      "text/plain": [
       "236"
      ]
     },
     "execution_count": 18,
     "metadata": {},
     "output_type": "execute_result"
    }
   ],
   "source": [
    "len(west_artist_ids)"
   ]
  },
  {
   "cell_type": "code",
   "execution_count": 19,
   "metadata": {},
   "outputs": [
    {
     "name": "stderr",
     "output_type": "stream",
     "text": [
      "  3%|▎         | 2/74 [00:00<00:06, 11.46it/s]"
     ]
    },
    {
     "name": "stdout",
     "output_type": "stream",
     "text": [
      "[]\n",
      "['g funk', 'hyphy']\n",
      "[]\n"
     ]
    },
    {
     "name": "stderr",
     "output_type": "stream",
     "text": [
      "  8%|▊         | 6/74 [00:00<00:05, 11.88it/s]"
     ]
    },
    {
     "name": "stdout",
     "output_type": "stream",
     "text": [
      "[]\n",
      "['g funk']\n",
      "[]\n"
     ]
    },
    {
     "name": "stderr",
     "output_type": "stream",
     "text": [
      "\r",
      " 11%|█         | 8/74 [00:00<00:05, 12.09it/s]"
     ]
    },
    {
     "name": "stdout",
     "output_type": "stream",
     "text": [
      "['g funk']\n",
      "['g funk']\n",
      "[]\n"
     ]
    },
    {
     "name": "stderr",
     "output_type": "stream",
     "text": [
      " 16%|█▌        | 12/74 [00:00<00:04, 12.51it/s]"
     ]
    },
    {
     "name": "stdout",
     "output_type": "stream",
     "text": [
      "[]\n",
      "['dance pop', 'pop']\n",
      "['g funk']\n"
     ]
    },
    {
     "name": "stderr",
     "output_type": "stream",
     "text": [
      "\r",
      " 19%|█▉        | 14/74 [00:01<00:04, 12.57it/s]"
     ]
    },
    {
     "name": "stdout",
     "output_type": "stream",
     "text": [
      "[]\n",
      "[]\n",
      "[]\n"
     ]
    },
    {
     "name": "stderr",
     "output_type": "stream",
     "text": [
      " 24%|██▍       | 18/74 [00:01<00:04, 12.21it/s]"
     ]
    },
    {
     "name": "stdout",
     "output_type": "stream",
     "text": [
      "[]\n",
      "[]\n",
      "['horrorcore']\n"
     ]
    },
    {
     "name": "stderr",
     "output_type": "stream",
     "text": [
      "\r",
      " 27%|██▋       | 20/74 [00:01<00:04, 11.82it/s]"
     ]
    },
    {
     "name": "stdout",
     "output_type": "stream",
     "text": [
      "[]\n",
      "[]\n",
      "['electropop', 'escape room']\n"
     ]
    },
    {
     "name": "stderr",
     "output_type": "stream",
     "text": [
      " 32%|███▏      | 24/74 [00:01<00:04, 11.80it/s]"
     ]
    },
    {
     "name": "stdout",
     "output_type": "stream",
     "text": [
      "[]\n",
      "[]\n",
      "[]\n"
     ]
    },
    {
     "name": "stderr",
     "output_type": "stream",
     "text": [
      "\r",
      " 35%|███▌      | 26/74 [00:02<00:03, 12.40it/s]"
     ]
    },
    {
     "name": "stdout",
     "output_type": "stream",
     "text": [
      "['turntablism']\n",
      "[]\n",
      "[]\n"
     ]
    },
    {
     "name": "stderr",
     "output_type": "stream",
     "text": [
      "\r",
      " 38%|███▊      | 28/74 [00:02<00:03, 12.37it/s]"
     ]
    },
    {
     "name": "stdout",
     "output_type": "stream",
     "text": [
      "['g funk']\n",
      "[]\n"
     ]
    },
    {
     "name": "stderr",
     "output_type": "stream",
     "text": [
      " 43%|████▎     | 32/74 [00:02<00:03, 11.60it/s]"
     ]
    },
    {
     "name": "stdout",
     "output_type": "stream",
     "text": [
      "[]\n",
      "[]\n",
      "[]\n"
     ]
    },
    {
     "name": "stderr",
     "output_type": "stream",
     "text": [
      " 49%|████▊     | 36/74 [00:02<00:03, 11.85it/s]"
     ]
    },
    {
     "name": "stdout",
     "output_type": "stream",
     "text": [
      "[]\n",
      "[]\n",
      "[]\n"
     ]
    },
    {
     "name": "stderr",
     "output_type": "stream",
     "text": [
      "\r",
      " 51%|█████▏    | 38/74 [00:03<00:02, 12.03it/s]"
     ]
    },
    {
     "name": "stdout",
     "output_type": "stream",
     "text": [
      "[]\n",
      "['hyphy']\n",
      "[]\n"
     ]
    },
    {
     "name": "stderr",
     "output_type": "stream",
     "text": [
      " 57%|█████▋    | 42/74 [00:03<00:02, 11.76it/s]"
     ]
    },
    {
     "name": "stdout",
     "output_type": "stream",
     "text": [
      "[]\n",
      "['atmosphere']\n",
      "[]\n"
     ]
    },
    {
     "name": "stderr",
     "output_type": "stream",
     "text": [
      "\r",
      " 59%|█████▉    | 44/74 [00:03<00:02, 11.79it/s]"
     ]
    },
    {
     "name": "stdout",
     "output_type": "stream",
     "text": [
      "[]\n",
      "[]\n",
      "['brooklyn drill']\n"
     ]
    },
    {
     "name": "stderr",
     "output_type": "stream",
     "text": [
      "\r",
      " 62%|██████▏   | 46/74 [00:03<00:02, 11.95it/s]"
     ]
    },
    {
     "name": "stdout",
     "output_type": "stream",
     "text": [
      "[]\n",
      "[]\n"
     ]
    },
    {
     "name": "stderr",
     "output_type": "stream",
     "text": [
      " 68%|██████▊   | 50/74 [00:04<00:02, 10.66it/s]"
     ]
    },
    {
     "name": "stdout",
     "output_type": "stream",
     "text": [
      "['g funk']\n",
      "[]\n",
      "[]\n"
     ]
    },
    {
     "name": "stderr",
     "output_type": "stream",
     "text": [
      "\r",
      " 70%|███████   | 52/74 [00:04<00:01, 11.07it/s]"
     ]
    },
    {
     "name": "stdout",
     "output_type": "stream",
     "text": [
      "['hyphy']\n",
      "[]\n",
      "[]\n"
     ]
    },
    {
     "name": "stderr",
     "output_type": "stream",
     "text": [
      " 76%|███████▌  | 56/74 [00:04<00:01, 11.92it/s]"
     ]
    },
    {
     "name": "stdout",
     "output_type": "stream",
     "text": [
      "['g funk']\n",
      "[]\n",
      "['g funk']\n"
     ]
    },
    {
     "name": "stderr",
     "output_type": "stream",
     "text": [
      "\r",
      " 78%|███████▊  | 58/74 [00:04<00:01, 12.44it/s]"
     ]
    },
    {
     "name": "stdout",
     "output_type": "stream",
     "text": [
      "[]\n",
      "[]\n",
      "[]\n"
     ]
    },
    {
     "name": "stderr",
     "output_type": "stream",
     "text": [
      " 84%|████████▍ | 62/74 [00:05<00:00, 12.61it/s]"
     ]
    },
    {
     "name": "stdout",
     "output_type": "stream",
     "text": [
      "['hyphy']\n",
      "[]\n",
      "[]\n"
     ]
    },
    {
     "name": "stderr",
     "output_type": "stream",
     "text": [
      "\r",
      " 86%|████████▋ | 64/74 [00:05<00:00, 12.09it/s]"
     ]
    },
    {
     "name": "stdout",
     "output_type": "stream",
     "text": [
      "[]\n",
      "[]\n",
      "['g funk']\n"
     ]
    },
    {
     "name": "stderr",
     "output_type": "stream",
     "text": [
      " 92%|█████████▏| 68/74 [00:05<00:00, 12.11it/s]"
     ]
    },
    {
     "name": "stdout",
     "output_type": "stream",
     "text": [
      "[]\n",
      "['soul flow']\n",
      "[]\n"
     ]
    },
    {
     "name": "stderr",
     "output_type": "stream",
     "text": [
      "\r",
      " 95%|█████████▍| 70/74 [00:05<00:00, 11.80it/s]"
     ]
    },
    {
     "name": "stdout",
     "output_type": "stream",
     "text": [
      "[]\n",
      "['hyphy']\n",
      "[]\n"
     ]
    },
    {
     "name": "stderr",
     "output_type": "stream",
     "text": [
      "\r",
      " 97%|█████████▋| 72/74 [00:06<00:00, 12.02it/s]"
     ]
    },
    {
     "name": "stdout",
     "output_type": "stream",
     "text": [
      "[]\n",
      "[]\n"
     ]
    },
    {
     "name": "stderr",
     "output_type": "stream",
     "text": [
      "100%|██████████| 74/74 [00:08<00:00,  8.82it/s]"
     ]
    },
    {
     "name": "stdout",
     "output_type": "stream",
     "text": [
      "[]\n"
     ]
    },
    {
     "name": "stderr",
     "output_type": "stream",
     "text": [
      "\n"
     ]
    }
   ],
   "source": [
    "### filtering error handling: errors --- there were entries for which the artist id request didn't work...\n",
    "\n",
    "# upped: those errors which are added to the list of artists\n",
    "upped = {}\n",
    "\n",
    "for artist in tqdm(list(filter_errors_west.keys())):\n",
    "    \n",
    "    artist_id = filter_errors_west[artist]\n",
    "\n",
    "    r = requests.get(base_url + 'artists/' + artist_id, \n",
    "                     headers=headers, \n",
    "                     params={'include_groups': 'album', 'limit': 50})\n",
    "    d = r.json()\n",
    "\n",
    "    try:\n",
    "        # same criteria for genres as earlier.\n",
    "        if ('hip hop' in ' '.join(d['genres'])) or ('rap' in ' '.join(d['genres'])):\n",
    "\n",
    "            west_artist_ids[artist] = artist_id\n",
    "            filter_errors_west.pop(artist)\n",
    "            upped[artist] = artist_id\n",
    "            \n",
    "        else:\n",
    "            print(d['genres'])\n",
    "\n",
    "    except:\n",
    "        print('here')\n",
    "        filter_errors_west[artist] = artist_id"
   ]
  },
  {
   "cell_type": "code",
   "execution_count": null,
   "metadata": {},
   "outputs": [],
   "source": []
  },
  {
   "cell_type": "code",
   "execution_count": 20,
   "metadata": {},
   "outputs": [
    {
     "data": {
      "text/plain": [
       "237"
      ]
     },
     "execution_count": 20,
     "metadata": {},
     "output_type": "execute_result"
    }
   ],
   "source": [
    "len(west_artist_ids)"
   ]
  },
  {
   "cell_type": "code",
   "execution_count": 21,
   "metadata": {},
   "outputs": [
    {
     "name": "stderr",
     "output_type": "stream",
     "text": [
      "  3%|▎         | 8/237 [00:02<01:33,  2.46it/s]"
     ]
    },
    {
     "name": "stdout",
     "output_type": "stream",
     "text": [
      "81\n"
     ]
    },
    {
     "name": "stderr",
     "output_type": "stream",
     "text": [
      "  5%|▍         | 11/237 [00:02<00:56,  3.99it/s]"
     ]
    },
    {
     "name": "stdout",
     "output_type": "stream",
     "text": [
      "77\n"
     ]
    },
    {
     "name": "stderr",
     "output_type": "stream",
     "text": [
      "  8%|▊         | 19/237 [00:03<00:28,  7.63it/s]"
     ]
    },
    {
     "name": "stdout",
     "output_type": "stream",
     "text": [
      "66\n",
      "63\n"
     ]
    },
    {
     "name": "stderr",
     "output_type": "stream",
     "text": [
      " 10%|▉         | 23/237 [00:03<00:23,  9.15it/s]"
     ]
    },
    {
     "name": "stdout",
     "output_type": "stream",
     "text": [
      "85\n",
      "77\n"
     ]
    },
    {
     "name": "stderr",
     "output_type": "stream",
     "text": [
      "\r",
      " 11%|█         | 25/237 [00:03<00:21,  9.83it/s]"
     ]
    },
    {
     "name": "stdout",
     "output_type": "stream",
     "text": [
      "62\n"
     ]
    },
    {
     "name": "stderr",
     "output_type": "stream",
     "text": [
      " 14%|█▍        | 33/237 [00:04<00:17, 11.37it/s]"
     ]
    },
    {
     "name": "stdout",
     "output_type": "stream",
     "text": [
      "57\n"
     ]
    },
    {
     "name": "stderr",
     "output_type": "stream",
     "text": [
      " 16%|█▌        | 37/237 [00:04<00:17, 11.71it/s]"
     ]
    },
    {
     "name": "stdout",
     "output_type": "stream",
     "text": [
      "69\n"
     ]
    },
    {
     "name": "stderr",
     "output_type": "stream",
     "text": [
      "\r",
      " 16%|█▋        | 39/237 [00:04<00:19, 10.37it/s]"
     ]
    },
    {
     "name": "stdout",
     "output_type": "stream",
     "text": [
      "58\n"
     ]
    },
    {
     "name": "stderr",
     "output_type": "stream",
     "text": [
      " 18%|█▊        | 43/237 [00:05<00:20,  9.56it/s]"
     ]
    },
    {
     "name": "stdout",
     "output_type": "stream",
     "text": [
      "66\n"
     ]
    },
    {
     "name": "stderr",
     "output_type": "stream",
     "text": [
      " 21%|██        | 49/237 [00:05<00:17, 10.55it/s]"
     ]
    },
    {
     "name": "stdout",
     "output_type": "stream",
     "text": [
      "62\n",
      "62\n",
      "56\n"
     ]
    },
    {
     "name": "stderr",
     "output_type": "stream",
     "text": [
      "\r",
      " 22%|██▏       | 51/237 [00:06<00:18, 10.12it/s]"
     ]
    },
    {
     "name": "stdout",
     "output_type": "stream",
     "text": [
      "59\n"
     ]
    },
    {
     "name": "stderr",
     "output_type": "stream",
     "text": [
      " 23%|██▎       | 55/237 [00:06<00:17, 10.51it/s]"
     ]
    },
    {
     "name": "stdout",
     "output_type": "stream",
     "text": [
      "87\n",
      "57\n"
     ]
    },
    {
     "name": "stderr",
     "output_type": "stream",
     "text": [
      " 25%|██▍       | 59/237 [00:06<00:16, 10.93it/s]"
     ]
    },
    {
     "name": "stdout",
     "output_type": "stream",
     "text": [
      "81\n"
     ]
    },
    {
     "name": "stderr",
     "output_type": "stream",
     "text": [
      " 27%|██▋       | 63/237 [00:07<00:14, 11.65it/s]"
     ]
    },
    {
     "name": "stdout",
     "output_type": "stream",
     "text": [
      "70\n",
      "65\n"
     ]
    },
    {
     "name": "stderr",
     "output_type": "stream",
     "text": [
      " 29%|██▉       | 69/237 [00:07<00:14, 11.55it/s]"
     ]
    },
    {
     "name": "stdout",
     "output_type": "stream",
     "text": [
      "61\n"
     ]
    },
    {
     "name": "stderr",
     "output_type": "stream",
     "text": [
      " 32%|███▏      | 75/237 [00:08<00:15, 10.80it/s]"
     ]
    },
    {
     "name": "stdout",
     "output_type": "stream",
     "text": [
      "83\n"
     ]
    },
    {
     "name": "stderr",
     "output_type": "stream",
     "text": [
      " 35%|███▍      | 82/237 [00:08<00:16,  9.40it/s]"
     ]
    },
    {
     "name": "stdout",
     "output_type": "stream",
     "text": [
      "68\n",
      "61\n"
     ]
    },
    {
     "name": "stderr",
     "output_type": "stream",
     "text": [
      " 37%|███▋      | 88/237 [00:09<00:14,  9.96it/s]"
     ]
    },
    {
     "name": "stdout",
     "output_type": "stream",
     "text": [
      "64\n",
      "75\n"
     ]
    },
    {
     "name": "stderr",
     "output_type": "stream",
     "text": [
      " 43%|████▎     | 103/237 [00:11<00:13,  9.81it/s]"
     ]
    },
    {
     "name": "stdout",
     "output_type": "stream",
     "text": [
      "88\n",
      "70\n"
     ]
    },
    {
     "name": "stderr",
     "output_type": "stream",
     "text": [
      " 47%|████▋     | 111/237 [00:11<00:11, 11.23it/s]"
     ]
    },
    {
     "name": "stdout",
     "output_type": "stream",
     "text": [
      "65\n"
     ]
    },
    {
     "name": "stderr",
     "output_type": "stream",
     "text": [
      "\r",
      " 48%|████▊     | 113/237 [00:11<00:11, 10.90it/s]"
     ]
    },
    {
     "name": "stdout",
     "output_type": "stream",
     "text": [
      "63\n"
     ]
    },
    {
     "name": "stderr",
     "output_type": "stream",
     "text": [
      " 54%|█████▍    | 129/237 [00:13<00:08, 12.39it/s]"
     ]
    },
    {
     "name": "stdout",
     "output_type": "stream",
     "text": [
      "61\n",
      "62\n"
     ]
    },
    {
     "name": "stderr",
     "output_type": "stream",
     "text": [
      "\r",
      " 55%|█████▌    | 131/237 [00:13<00:08, 12.40it/s]"
     ]
    },
    {
     "name": "stdout",
     "output_type": "stream",
     "text": [
      "61\n"
     ]
    },
    {
     "name": "stderr",
     "output_type": "stream",
     "text": [
      "\r",
      " 56%|█████▌    | 133/237 [00:13<00:08, 12.62it/s]"
     ]
    },
    {
     "name": "stdout",
     "output_type": "stream",
     "text": [
      "55\n"
     ]
    },
    {
     "name": "stderr",
     "output_type": "stream",
     "text": [
      " 62%|██████▏   | 147/237 [00:14<00:07, 11.41it/s]"
     ]
    },
    {
     "name": "stdout",
     "output_type": "stream",
     "text": [
      "here\n",
      "here\n",
      "here\n"
     ]
    },
    {
     "name": "stderr",
     "output_type": "stream",
     "text": [
      " 64%|██████▎   | 151/237 [00:15<00:07, 10.92it/s]"
     ]
    },
    {
     "name": "stdout",
     "output_type": "stream",
     "text": [
      "here\n",
      "here\n"
     ]
    },
    {
     "name": "stderr",
     "output_type": "stream",
     "text": [
      "\r",
      " 65%|██████▍   | 153/237 [00:15<00:07, 11.38it/s]"
     ]
    },
    {
     "name": "stdout",
     "output_type": "stream",
     "text": [
      "here\n"
     ]
    },
    {
     "name": "stderr",
     "output_type": "stream",
     "text": [
      " 66%|██████▌   | 157/237 [00:15<00:07, 11.22it/s]"
     ]
    },
    {
     "name": "stdout",
     "output_type": "stream",
     "text": [
      "55\n"
     ]
    },
    {
     "name": "stderr",
     "output_type": "stream",
     "text": [
      " 68%|██████▊   | 161/237 [00:16<00:06, 11.50it/s]"
     ]
    },
    {
     "name": "stdout",
     "output_type": "stream",
     "text": [
      "94\n"
     ]
    },
    {
     "name": "stderr",
     "output_type": "stream",
     "text": [
      " 70%|██████▉   | 165/237 [00:16<00:06, 11.35it/s]"
     ]
    },
    {
     "name": "stdout",
     "output_type": "stream",
     "text": [
      "57\n"
     ]
    },
    {
     "name": "stderr",
     "output_type": "stream",
     "text": [
      " 71%|███████▏  | 169/237 [00:16<00:06, 11.21it/s]"
     ]
    },
    {
     "name": "stdout",
     "output_type": "stream",
     "text": [
      "89\n"
     ]
    },
    {
     "name": "stderr",
     "output_type": "stream",
     "text": [
      " 75%|███████▍  | 177/237 [00:17<00:05, 10.48it/s]"
     ]
    },
    {
     "name": "stdout",
     "output_type": "stream",
     "text": [
      "56\n"
     ]
    },
    {
     "name": "stderr",
     "output_type": "stream",
     "text": [
      " 76%|███████▋  | 181/237 [00:17<00:05, 10.34it/s]"
     ]
    },
    {
     "name": "stdout",
     "output_type": "stream",
     "text": [
      "85\n",
      "56\n"
     ]
    },
    {
     "name": "stderr",
     "output_type": "stream",
     "text": [
      " 86%|████████▋ | 205/237 [00:20<00:02, 11.16it/s]"
     ]
    },
    {
     "name": "stdout",
     "output_type": "stream",
     "text": [
      "62\n"
     ]
    },
    {
     "name": "stderr",
     "output_type": "stream",
     "text": [
      " 89%|████████▉ | 211/237 [00:20<00:02, 10.15it/s]"
     ]
    },
    {
     "name": "stdout",
     "output_type": "stream",
     "text": [
      "93\n"
     ]
    },
    {
     "name": "stderr",
     "output_type": "stream",
     "text": [
      " 92%|█████████▏| 219/237 [00:21<00:01, 11.24it/s]"
     ]
    },
    {
     "name": "stdout",
     "output_type": "stream",
     "text": [
      "84\n",
      "81\n"
     ]
    },
    {
     "name": "stderr",
     "output_type": "stream",
     "text": [
      " 95%|█████████▍| 225/237 [00:22<00:01, 11.43it/s]"
     ]
    },
    {
     "name": "stdout",
     "output_type": "stream",
     "text": [
      "67\n",
      "59\n"
     ]
    },
    {
     "name": "stderr",
     "output_type": "stream",
     "text": [
      " 97%|█████████▋| 229/237 [00:22<00:00, 11.75it/s]"
     ]
    },
    {
     "name": "stdout",
     "output_type": "stream",
     "text": [
      "67\n"
     ]
    },
    {
     "name": "stderr",
     "output_type": "stream",
     "text": [
      "100%|██████████| 237/237 [00:23<00:00, 10.28it/s]"
     ]
    },
    {
     "name": "stdout",
     "output_type": "stream",
     "text": [
      "55\n",
      "57\n"
     ]
    },
    {
     "name": "stderr",
     "output_type": "stream",
     "text": [
      "\n"
     ]
    }
   ],
   "source": [
    "### filtering on popularity:\n",
    "filter_errors_west = {}\n",
    "popped = {}\n",
    "\n",
    "for artist in tqdm(list(west_artist_ids.keys())):\n",
    "    \n",
    "    artist_id = west_artist_ids[artist]\n",
    "\n",
    "    r = requests.get(base_url + 'artists/' + artist_id, \n",
    "                     headers=headers, \n",
    "                     params={'include_groups': 'album', 'limit': 50})\n",
    "    d = r.json()\n",
    "\n",
    "    try:\n",
    "        # spotify has a popularity scale between 0 and 100\n",
    "        if d['popularity'] < 55:\n",
    "            \n",
    "            west_artist_ids.pop(str(artist))\n",
    "            popped[artist] = artist_id\n",
    "            \n",
    "        else:\n",
    "            print(d['popularity'])\n",
    "\n",
    "    except:\n",
    "        print('here')\n",
    "        filter_errors_west[artist] = artist_id"
   ]
  },
  {
   "cell_type": "code",
   "execution_count": 22,
   "metadata": {},
   "outputs": [
    {
     "data": {
      "text/plain": [
       "'1ZwdS5xdxEREPySFridCfh'"
      ]
     },
     "execution_count": 22,
     "metadata": {},
     "output_type": "execute_result"
    }
   ],
   "source": [
    "west_artist_ids.pop('Tupac Shakur')\n",
    "# there was a duplicate"
   ]
  },
  {
   "cell_type": "code",
   "execution_count": 23,
   "metadata": {},
   "outputs": [],
   "source": [
    "with open('west_artist_ids_HUGE.json', 'w') as fp:\n",
    "    json.dump(west_artist_ids, fp)"
   ]
  },
  {
   "cell_type": "markdown",
   "metadata": {},
   "source": [
    " "
   ]
  },
  {
   "cell_type": "markdown",
   "metadata": {},
   "source": [
    " "
   ]
  },
  {
   "cell_type": "markdown",
   "metadata": {},
   "source": [
    " "
   ]
  },
  {
   "cell_type": "markdown",
   "metadata": {},
   "source": [
    " "
   ]
  },
  {
   "cell_type": "markdown",
   "metadata": {},
   "source": [
    " "
   ]
  },
  {
   "cell_type": "markdown",
   "metadata": {},
   "source": [
    " "
   ]
  },
  {
   "cell_type": "markdown",
   "metadata": {},
   "source": [
    "*EAST COAST:*"
   ]
  },
  {
   "cell_type": "markdown",
   "metadata": {},
   "source": [
    "*Code is repeated for east coast*"
   ]
  },
  {
   "cell_type": "code",
   "execution_count": 24,
   "metadata": {},
   "outputs": [
    {
     "name": "stderr",
     "output_type": "stream",
     "text": [
      "100%|██████████| 460/460 [00:49<00:00,  9.27it/s]\n"
     ]
    }
   ],
   "source": [
    "### collecting artist ids:\n",
    "\n",
    "east_artist_ids = {}\n",
    "aligned = {}\n",
    "errors_east = []\n",
    "\n",
    "for artist in tqdm(rappers_east):\n",
    "    \n",
    "    search_term = artist.replace(' ', '%20')\n",
    "    \n",
    "    query_string = base_url + 'search?' + f'q={search_term}&type=artist'\n",
    "    r = requests.get(query_string, headers=headers, params=params)\n",
    "    r = r.json()\n",
    "    \n",
    "    try:\n",
    "        east_artist_ids[artist] = r['artists']['items'][0]['id']\n",
    "        \n",
    "        spotify_name = r['artists']['items'][0]['name'].lower()\n",
    "        if spotify_name != artist.lower():\n",
    "            aligned[artist] = spotify_name\n",
    "        else:\n",
    "            continue\n",
    "    except:\n",
    "        errors_east.append(artist)"
   ]
  },
  {
   "cell_type": "code",
   "execution_count": 25,
   "metadata": {},
   "outputs": [
    {
     "name": "stderr",
     "output_type": "stream",
     "text": [
      "100%|██████████| 70/70 [00:06<00:00, 11.04it/s]\n"
     ]
    }
   ],
   "source": [
    "### dealing with errors:\n",
    "\n",
    "for artist in tqdm(errors_east):\n",
    "    \n",
    "    search_term = artist.replace(' ', '%20')\n",
    "    \n",
    "    query_string = base_url + 'search?' + f'q={search_term}&type=artist'\n",
    "    r = requests.get(query_string, headers=headers, params=params)\n",
    "    r = r.json()\n",
    "    \n",
    "    try:\n",
    "        east_artist_ids[artist] = r['artists']['items'][0]['id']\n",
    "        \n",
    "        spotify_name = r['artists']['items'][0]['name'].lower()\n",
    "        if spotify_name != artist.lower():\n",
    "            aligned[artist] = spotify_name\n",
    "        else:\n",
    "            continue\n",
    "        errors_east.remove(artist)\n",
    "    except:\n",
    "        continue"
   ]
  },
  {
   "cell_type": "code",
   "execution_count": 26,
   "metadata": {},
   "outputs": [],
   "source": [
    "for item in list(east_artist_ids):\n",
    "    \n",
    "    if len(item) == 1:\n",
    "        east_artist_ids.pop(str(item))\n",
    "        \n",
    "    elif item in list(aligned.keys()):\n",
    "        if item not in []:\n",
    "            east_artist_ids.pop(str(item))"
   ]
  },
  {
   "cell_type": "code",
   "execution_count": 27,
   "metadata": {},
   "outputs": [],
   "source": [
    "### rappers where spotify has returned a different artist\n",
    "\n",
    "artist = 'Eric B. & Rakim'\n",
    "search_term = artist.replace(' ', '%20')\n",
    "query_string = base_url + 'search?' + f'q={search_term}&type=artist'\n",
    "r = requests.get(query_string, headers=headers)\n",
    "r = r.json()\n",
    "east_artist_ids[artist] = r['artists']['items'][1]['id']\n",
    "\n",
    "artist = 'AZ'\n",
    "search_term = artist.replace(' ', '%20')\n",
    "query_string = base_url + 'search?' + f'q={search_term}&type=artist'\n",
    "r = requests.get(query_string, headers=headers)\n",
    "r = r.json()\n",
    "east_artist_ids[artist] = r['artists']['items'][2]['id']\n",
    "\n",
    "artist = 'Lauryn Hill'\n",
    "search_term = artist.replace(' ', '%20')\n",
    "query_string = base_url + 'search?' + f'q={search_term}&type=artist'\n",
    "r = requests.get(query_string, headers=headers)\n",
    "r = r.json()\n",
    "east_artist_ids[artist] = r['artists']['items'][0]['id']"
   ]
  },
  {
   "cell_type": "code",
   "execution_count": 28,
   "metadata": {},
   "outputs": [
    {
     "name": "stderr",
     "output_type": "stream",
     "text": [
      "  1%|          | 3/307 [00:00<00:27, 10.96it/s]"
     ]
    },
    {
     "name": "stdout",
     "output_type": "stream",
     "text": [
      "['emo rap']\n",
      "['wu fam']\n",
      "['brooklyn drill', 'nyc rap']\n"
     ]
    },
    {
     "name": "stderr",
     "output_type": "stream",
     "text": [
      "\r",
      "  2%|▏         | 5/307 [00:00<00:26, 11.23it/s]"
     ]
    },
    {
     "name": "stdout",
     "output_type": "stream",
     "text": [
      "['alternative hip hop', 'boom bap', 'underground hip hop']\n",
      "[]\n",
      "['east coast hip hop', 'gangster rap', 'hip hop', 'pop rap', 'queens hip hop', 'rap']\n"
     ]
    },
    {
     "name": "stderr",
     "output_type": "stream",
     "text": [
      "  3%|▎         | 9/307 [00:00<00:27, 11.00it/s]"
     ]
    },
    {
     "name": "stdout",
     "output_type": "stream",
     "text": [
      "['alternative r&b', 'new jersey rap']\n",
      "['alternative hip hop']\n",
      "['indie pop rap', 'pop rap']\n"
     ]
    },
    {
     "name": "stderr",
     "output_type": "stream",
     "text": [
      "  4%|▎         | 11/307 [00:01<00:29, 10.20it/s]"
     ]
    },
    {
     "name": "stdout",
     "output_type": "stream",
     "text": [
      "['abstract hip hop', 'alternative hip hop', 'conscious hip hop', 'hip hop']\n",
      "['alternative hip hop', 'east coast hip hop', 'hardcore hip hop', 'hip hop']\n"
     ]
    },
    {
     "name": "stderr",
     "output_type": "stream",
     "text": [
      "  5%|▍         | 14/307 [00:01<00:40,  7.16it/s]"
     ]
    },
    {
     "name": "stdout",
     "output_type": "stream",
     "text": [
      "['conscious hip hop']\n",
      "['indie pop rap', 'pop rap']\n",
      "['hip pop']\n"
     ]
    },
    {
     "name": "stderr",
     "output_type": "stream",
     "text": [
      "\r",
      "  5%|▌         | 16/307 [00:01<00:35,  8.29it/s]"
     ]
    },
    {
     "name": "stdout",
     "output_type": "stream",
     "text": [
      "[]\n",
      "[]\n",
      "['philly rap']\n"
     ]
    },
    {
     "name": "stderr",
     "output_type": "stream",
     "text": [
      "  7%|▋         | 20/307 [00:02<00:29,  9.68it/s]"
     ]
    },
    {
     "name": "stdout",
     "output_type": "stream",
     "text": [
      "[]\n",
      "[]\n",
      "[]\n"
     ]
    },
    {
     "name": "stderr",
     "output_type": "stream",
     "text": [
      "\r",
      "  7%|▋         | 22/307 [00:02<00:27, 10.28it/s]"
     ]
    },
    {
     "name": "stdout",
     "output_type": "stream",
     "text": [
      "['asian american hip hop', 'comedy rap', 'escape room', 'hip pop', 'trap queen']\n",
      "['alternative hip hop', 'east coast hip hop', 'turntablism']\n",
      "['hardcore hip hop', 'hip hop', 'philly rap']\n"
     ]
    },
    {
     "name": "stderr",
     "output_type": "stream",
     "text": [
      "  8%|▊         | 26/307 [00:02<00:27, 10.34it/s]"
     ]
    },
    {
     "name": "stdout",
     "output_type": "stream",
     "text": [
      "['harlem hip hop']\n",
      "['hip pop']\n",
      "['bronx hip hop', 'east coast hip hop', 'electro', 'hip hop', 'old school hip hop']\n"
     ]
    },
    {
     "name": "stderr",
     "output_type": "stream",
     "text": [
      "\r",
      "  9%|▉         | 28/307 [00:02<00:26, 10.53it/s]"
     ]
    },
    {
     "name": "stdout",
     "output_type": "stream",
     "text": [
      "['harlem hip hop', 'underground hip hop']\n",
      "['bmore', 'dance pop', 'escape room', 'hip house', 'hip pop', 'lgbtq+ hip hop', 'pop', 'pop dance', 'pop rap', 'trap queen']\n"
     ]
    },
    {
     "name": "stderr",
     "output_type": "stream",
     "text": [
      "\r",
      " 10%|▉         | 30/307 [00:02<00:26, 10.27it/s]"
     ]
    },
    {
     "name": "stdout",
     "output_type": "stream",
     "text": [
      "['gangster rap', 'hardcore hip hop', 'hip hop', 'pop rap', 'queens hip hop', 'rap', 'trap']\n",
      "['alternative hip hop', 'nerdcore', 'new jersey rap']\n",
      "[]\n"
     ]
    },
    {
     "name": "stderr",
     "output_type": "stream",
     "text": [
      "\r",
      " 10%|█         | 32/307 [00:03<00:26, 10.29it/s]"
     ]
    },
    {
     "name": "stdout",
     "output_type": "stream",
     "text": [
      "[]\n",
      "[]\n"
     ]
    },
    {
     "name": "stderr",
     "output_type": "stream",
     "text": [
      "\r",
      " 11%|█         | 34/307 [00:03<00:27,  9.91it/s]"
     ]
    },
    {
     "name": "stdout",
     "output_type": "stream",
     "text": [
      "['beats']\n",
      "['alternative hip hop', 'boom bap', 'buffalo hip hop', 'hip hop', 'rap', 'southern hip hop', 'trap', 'underground hip hop']\n"
     ]
    },
    {
     "name": "stderr",
     "output_type": "stream",
     "text": [
      " 12%|█▏        | 37/307 [00:03<00:28,  9.56it/s]"
     ]
    },
    {
     "name": "stdout",
     "output_type": "stream",
     "text": [
      "[]\n",
      "[]\n",
      "['east coast hip hop', 'electro', 'gangster rap', 'hardcore hip hop', 'hip hop', 'old school hip hop', 'rap']\n"
     ]
    },
    {
     "name": "stderr",
     "output_type": "stream",
     "text": [
      " 13%|█▎        | 41/307 [00:04<00:24, 10.73it/s]"
     ]
    },
    {
     "name": "stdout",
     "output_type": "stream",
     "text": [
      "['bronx hip hop', 'east coast hip hop', 'gangster rap', 'hardcore hip hop', 'hip hop', 'hip pop', 'rap', 'southern hip hop']\n",
      "['boston hip hop', 'hardcore hip hop']\n",
      "[]\n"
     ]
    },
    {
     "name": "stderr",
     "output_type": "stream",
     "text": [
      "\r",
      " 14%|█▍        | 43/307 [00:04<00:25, 10.44it/s]"
     ]
    },
    {
     "name": "stdout",
     "output_type": "stream",
     "text": [
      "['hardcore hip hop', 'harlem hip hop', 'hip hop', 'hip pop']\n",
      "['alternative hip hop', 'boom bap', 'east coast hip hop', 'hardcore hip hop', 'hip hop', 'southern hip hop']\n"
     ]
    },
    {
     "name": "stderr",
     "output_type": "stream",
     "text": [
      "\r",
      " 15%|█▍        | 45/307 [00:04<00:24, 10.70it/s]"
     ]
    },
    {
     "name": "stdout",
     "output_type": "stream",
     "text": [
      "['east coast hip hop', 'gangster rap', 'hardcore hip hop', 'hip hop', 'hip pop', 'pop rap', 'rap', 'southern hip hop']\n",
      "['melodic rap', 'pop rap', 'rap', 'trap']\n",
      "['alternative hip hop', 'east coast hip hop', 'hip hop', 'nyc rap', 'queens hip hop', 'rap', 'southern hip hop', 'underground hip hop']\n"
     ]
    },
    {
     "name": "stderr",
     "output_type": "stream",
     "text": [
      "\r",
      " 15%|█▌        | 47/307 [00:04<00:23, 10.84it/s]"
     ]
    },
    {
     "name": "stdout",
     "output_type": "stream",
     "text": [
      "['bronx hip hop']\n",
      "[]\n"
     ]
    },
    {
     "name": "stderr",
     "output_type": "stream",
     "text": [
      " 17%|█▋        | 51/307 [00:04<00:24, 10.49it/s]"
     ]
    },
    {
     "name": "stdout",
     "output_type": "stream",
     "text": [
      "['nyc rap', 'pop rap']\n",
      "['boom bap']\n",
      "['battle rap', 'hip hop', 'new jersey rap', 'rap']\n"
     ]
    },
    {
     "name": "stderr",
     "output_type": "stream",
     "text": [
      "\r",
      " 17%|█▋        | 53/307 [00:05<00:24, 10.50it/s]"
     ]
    },
    {
     "name": "stdout",
     "output_type": "stream",
     "text": [
      "['deep underground hip hop']\n",
      "[]\n",
      "['battle rap', 'bronx hip hop', 'east coast hip hop', 'hardcore hip hop', 'hip hop', 'queens hip hop']\n"
     ]
    },
    {
     "name": "stderr",
     "output_type": "stream",
     "text": [
      " 19%|█▊        | 57/307 [00:05<00:22, 11.16it/s]"
     ]
    },
    {
     "name": "stdout",
     "output_type": "stream",
     "text": [
      "[]\n",
      "['east coast hip hop', 'hardcore hip hop']\n",
      "here\n"
     ]
    },
    {
     "name": "stderr",
     "output_type": "stream",
     "text": [
      "\r",
      " 19%|█▉        | 59/307 [00:05<00:20, 11.85it/s]"
     ]
    },
    {
     "name": "stdout",
     "output_type": "stream",
     "text": [
      "here\n",
      "here\n",
      "here\n"
     ]
    },
    {
     "name": "stderr",
     "output_type": "stream",
     "text": [
      " 21%|██        | 63/307 [00:05<00:20, 12.05it/s]"
     ]
    },
    {
     "name": "stdout",
     "output_type": "stream",
     "text": [
      "['abstract hip hop', 'underground rap']\n",
      "[]\n",
      "['asian american hip hop', 'deep underground hip hop']\n"
     ]
    },
    {
     "name": "stderr",
     "output_type": "stream",
     "text": [
      "\r",
      " 21%|██        | 65/307 [00:06<00:22, 10.98it/s]"
     ]
    },
    {
     "name": "stdout",
     "output_type": "stream",
     "text": [
      "['queens hip hop', 'trap']\n",
      "['bronx hip hop']\n"
     ]
    },
    {
     "name": "stderr",
     "output_type": "stream",
     "text": [
      "\r",
      " 22%|██▏       | 67/307 [00:06<00:22, 10.47it/s]"
     ]
    },
    {
     "name": "stdout",
     "output_type": "stream",
     "text": [
      "[]\n",
      "['alternative hip hop', 'boom bap', 'buffalo hip hop', 'hip hop', 'southern hip hop', 'underground hip hop']\n",
      "[]\n"
     ]
    },
    {
     "name": "stderr",
     "output_type": "stream",
     "text": [
      " 23%|██▎       | 71/307 [00:06<00:21, 10.94it/s]"
     ]
    },
    {
     "name": "stdout",
     "output_type": "stream",
     "text": [
      "['nyc rap', 'rap', 'southern hip hop', 'trap', 'underground hip hop', 'vapor trap']\n",
      "['bronx hip hop', 'hip hop cubano']\n",
      "['bronx hip hop', 'east coast hip hop', 'hip hop', 'old school hip hop']\n"
     ]
    },
    {
     "name": "stderr",
     "output_type": "stream",
     "text": [
      "\r",
      " 24%|██▍       | 73/307 [00:06<00:21, 10.85it/s]"
     ]
    },
    {
     "name": "stdout",
     "output_type": "stream",
     "text": [
      "['pop rap', 'rap', 'southern hip hop', 'trap', 'viral trap']\n",
      "['melodic rap', 'pop rap', 'rap', 'southern hip hop', 'trap', 'vapor trap']\n",
      "[]\n"
     ]
    },
    {
     "name": "stderr",
     "output_type": "stream",
     "text": [
      " 25%|██▌       | 77/307 [00:07<00:22, 10.16it/s]"
     ]
    },
    {
     "name": "stdout",
     "output_type": "stream",
     "text": [
      "['abstract hip hop', 'conscious hip hop', 'rhode island rap']\n",
      "[]\n",
      "['bronx hip hop', 'hip pop', 'nyc rap']\n"
     ]
    },
    {
     "name": "stderr",
     "output_type": "stream",
     "text": [
      " 26%|██▌       | 80/307 [00:07<00:24,  9.37it/s]"
     ]
    },
    {
     "name": "stdout",
     "output_type": "stream",
     "text": [
      "['dirty south rap', 'gangster rap', 'hip hop', 'philly rap', 'pop rap', 'rap', 'southern hip hop', 'trap']\n",
      "['gangster rap', 'harlem hip hop', 'hip hop', 'nyc rap', 'pop rap', 'rap', 'southern hip hop', 'trap', 'underground hip hop']\n",
      "['jazz rap']\n"
     ]
    },
    {
     "name": "stderr",
     "output_type": "stream",
     "text": [
      " 27%|██▋       | 83/307 [00:08<00:22, 10.08it/s]"
     ]
    },
    {
     "name": "stdout",
     "output_type": "stream",
     "text": [
      "[]\n",
      "[]\n",
      "['dance pop', 'gangster rap', 'hip hop', 'hip pop', 'pop rap', 'r&b', 'rap', 'trap', 'urban contemporary']\n"
     ]
    },
    {
     "name": "stderr",
     "output_type": "stream",
     "text": [
      "\r",
      " 28%|██▊       | 85/307 [00:08<00:21, 10.09it/s]"
     ]
    },
    {
     "name": "stdout",
     "output_type": "stream",
     "text": [
      "['soul flow']\n",
      "['bronx hip hop', 'dance pop', 'east coast hip hop', 'gangster rap', 'hardcore hip hop', 'hip hop', 'hip pop', 'pop rap', 'rap', 'trap']\n",
      "['new jersey rap']\n"
     ]
    },
    {
     "name": "stderr",
     "output_type": "stream",
     "text": [
      " 29%|██▉       | 89/307 [00:08<00:20, 10.70it/s]"
     ]
    },
    {
     "name": "stdout",
     "output_type": "stream",
     "text": [
      "['pop rap', 'underground hip hop']\n",
      "['brooklyn drill', 'new york drill', 'rap', 'trap']\n",
      "['underground hip hop']\n"
     ]
    },
    {
     "name": "stderr",
     "output_type": "stream",
     "text": [
      "\r",
      " 30%|██▉       | 91/307 [00:08<00:20, 10.51it/s]"
     ]
    },
    {
     "name": "stdout",
     "output_type": "stream",
     "text": [
      "['dmv rap', 'vapor trap']\n",
      "['east coast hip hop', 'hardcore hip hop']\n",
      "[]\n"
     ]
    },
    {
     "name": "stderr",
     "output_type": "stream",
     "text": [
      " 31%|███       | 95/307 [00:09<00:18, 11.55it/s]"
     ]
    },
    {
     "name": "stdout",
     "output_type": "stream",
     "text": [
      "['abstract hip hop', 'alternative hip hop', 'conscious hip hop', 'rhode island rap', 'underground rap']\n",
      "[]\n",
      "['battle rap', 'boom bap']\n"
     ]
    },
    {
     "name": "stderr",
     "output_type": "stream",
     "text": [
      "\r",
      " 32%|███▏      | 97/307 [00:09<00:17, 11.81it/s]"
     ]
    },
    {
     "name": "stdout",
     "output_type": "stream",
     "text": [
      "['battle rap', 'harlem hip hop']\n",
      "['asian american hip hop', 'miami hip hop']\n",
      "['beatboxing', 'east coast hip hop', 'electro', 'harlem hip hop', 'old school hip hop', 'rap']\n"
     ]
    },
    {
     "name": "stderr",
     "output_type": "stream",
     "text": [
      " 33%|███▎      | 101/307 [00:09<00:17, 11.66it/s]"
     ]
    },
    {
     "name": "stdout",
     "output_type": "stream",
     "text": [
      "['bronx hip hop', 'east coast hip hop', 'hardcore hip hop', 'hip hop']\n",
      "[]\n",
      "[]\n"
     ]
    },
    {
     "name": "stderr",
     "output_type": "stream",
     "text": [
      "\r",
      " 34%|███▎      | 103/307 [00:09<00:17, 11.54it/s]"
     ]
    },
    {
     "name": "stdout",
     "output_type": "stream",
     "text": [
      "['hardcore hip hop', 'queens hip hop']\n",
      "[]\n",
      "['alternative hip hop', 'east coast hip hop', 'gangster rap', 'hardcore hip hop', 'hip hop', 'rap', 'southern hip hop']\n"
     ]
    },
    {
     "name": "stderr",
     "output_type": "stream",
     "text": [
      " 35%|███▍      | 107/307 [00:10<00:17, 11.66it/s]"
     ]
    },
    {
     "name": "stdout",
     "output_type": "stream",
     "text": [
      "['hardcore hip hop', 'jazz boom bap', 'jazz rap']\n",
      "[]\n",
      "['alternative hip hop', 'east coast hip hop', 'hip pop']\n"
     ]
    },
    {
     "name": "stderr",
     "output_type": "stream",
     "text": [
      "\r",
      " 36%|███▌      | 109/307 [00:10<00:17, 11.03it/s]"
     ]
    },
    {
     "name": "stdout",
     "output_type": "stream",
     "text": [
      "['battle rap', 'boom bap']\n",
      "['harlem hip hop']\n"
     ]
    },
    {
     "name": "stderr",
     "output_type": "stream",
     "text": [
      "\r",
      " 36%|███▌      | 111/307 [00:10<00:17, 11.42it/s]"
     ]
    },
    {
     "name": "stdout",
     "output_type": "stream",
     "text": [
      "['alternative hip hop']\n",
      "['nyc rap']\n",
      "['alternative hip hop', 'east coast hip hop', 'gangster rap', 'hardcore hip hop', 'hip hop', 'rap', 'southern hip hop']\n"
     ]
    },
    {
     "name": "stderr",
     "output_type": "stream",
     "text": [
      "\r",
      " 37%|███▋      | 113/307 [00:10<00:16, 11.64it/s]"
     ]
    },
    {
     "name": "stdout",
     "output_type": "stream",
     "text": [
      "[]\n",
      "['buffalo ny indie']\n"
     ]
    },
    {
     "name": "stderr",
     "output_type": "stream",
     "text": [
      " 38%|███▊      | 117/307 [00:11<00:17, 10.98it/s]"
     ]
    },
    {
     "name": "stdout",
     "output_type": "stream",
     "text": [
      "['new jack swing', 'reggae fusion']\n",
      "['conscious hip hop', 'wu fam']\n",
      "['battle rap', 'bronx hip hop']\n"
     ]
    },
    {
     "name": "stderr",
     "output_type": "stream",
     "text": [
      "\r",
      " 39%|███▉      | 119/307 [00:11<00:16, 11.27it/s]"
     ]
    },
    {
     "name": "stdout",
     "output_type": "stream",
     "text": [
      "[]\n",
      "[]\n",
      "['conscious hip hop', 'hardcore hip hop', 'underground rap']\n"
     ]
    },
    {
     "name": "stderr",
     "output_type": "stream",
     "text": [
      " 40%|████      | 123/307 [00:11<00:15, 12.03it/s]"
     ]
    },
    {
     "name": "stdout",
     "output_type": "stream",
     "text": [
      "['alternative hip hop', 'east coast hip hop', 'hardcore hip hop', 'hip hop']\n",
      "['wu fam']\n",
      "['nyc rap']\n"
     ]
    },
    {
     "name": "stderr",
     "output_type": "stream",
     "text": [
      "\r",
      " 41%|████      | 125/307 [00:11<00:15, 11.59it/s]"
     ]
    },
    {
     "name": "stdout",
     "output_type": "stream",
     "text": [
      "['dance pop', 'east coast hip hop', 'gangster rap', 'hip hop', 'hip pop', 'pop rap', 'queens hip hop', 'rap', 'urban contemporary']\n",
      "['battle rap', 'east coast hip hop', 'gangster rap', 'hardcore hip hop', 'hip hop', 'hip pop', 'pop rap', 'rap', 'trap']\n",
      "['hip pop']\n"
     ]
    },
    {
     "name": "stderr",
     "output_type": "stream",
     "text": [
      " 42%|████▏     | 129/307 [00:12<00:15, 11.57it/s]"
     ]
    },
    {
     "name": "stdout",
     "output_type": "stream",
     "text": [
      "[]\n",
      "['pittsburgh rap']\n",
      "[]\n"
     ]
    },
    {
     "name": "stderr",
     "output_type": "stream",
     "text": [
      "\r",
      " 43%|████▎     | 131/307 [00:12<00:15, 11.35it/s]"
     ]
    },
    {
     "name": "stdout",
     "output_type": "stream",
     "text": [
      "[]\n",
      "['conscious hip hop', 'hardcore hip hop', 'hip hop', 'philly rap', 'political hip hop']\n"
     ]
    },
    {
     "name": "stderr",
     "output_type": "stream",
     "text": [
      "\r",
      " 43%|████▎     | 133/307 [00:12<00:15, 11.11it/s]"
     ]
    },
    {
     "name": "stdout",
     "output_type": "stream",
     "text": [
      "['asian american hip hop', 'hong kong hip hop']\n",
      "['deep vocal house', 'lgbtq+ hip hop']\n",
      "['battle rap']\n"
     ]
    },
    {
     "name": "stderr",
     "output_type": "stream",
     "text": [
      " 45%|████▍     | 137/307 [00:12<00:16, 10.29it/s]"
     ]
    },
    {
     "name": "stdout",
     "output_type": "stream",
     "text": [
      "['battle rap', 'new jersey rap']\n",
      "['alternative hip hop', 'escape room', 'experimental hip hop', 'hip hop', 'industrial hip hop', 'rap', 'underground hip hop']\n",
      "['east coast hip hop', 'electro', 'hip hop', 'hip house', 'old school hip hop']\n"
     ]
    },
    {
     "name": "stderr",
     "output_type": "stream",
     "text": [
      "\r",
      " 45%|████▌     | 139/307 [00:13<00:15, 10.60it/s]"
     ]
    },
    {
     "name": "stdout",
     "output_type": "stream",
     "text": [
      "[]\n",
      "['battle rap']\n",
      "[]\n"
     ]
    },
    {
     "name": "stderr",
     "output_type": "stream",
     "text": [
      " 47%|████▋     | 143/307 [00:13<00:15, 10.69it/s]"
     ]
    },
    {
     "name": "stdout",
     "output_type": "stream",
     "text": [
      "['hip hop', 'pittsburgh rap', 'pop rap', 'rap', 'southern hip hop', 'trap']\n",
      "['bronx hip hop']\n",
      "['wu fam']\n"
     ]
    },
    {
     "name": "stderr",
     "output_type": "stream",
     "text": [
      "\r",
      " 47%|████▋     | 145/307 [00:13<00:15, 10.74it/s]"
     ]
    },
    {
     "name": "stdout",
     "output_type": "stream",
     "text": [
      "[]\n",
      "['underground hip hop']\n",
      "['baltimore hip hop']\n"
     ]
    },
    {
     "name": "stderr",
     "output_type": "stream",
     "text": [
      " 48%|████▊     | 148/307 [00:13<00:17,  8.93it/s]"
     ]
    },
    {
     "name": "stdout",
     "output_type": "stream",
     "text": [
      "['alternative hip hop', 'boom bap', 'east coast hip hop', 'gangster rap', 'hardcore hip hop', 'hip hop', 'old school hip hop', 'queens hip hop', 'rap']\n",
      "['east coast hip hop', 'electro', 'gangster rap', 'harlem hip hop', 'hip hop', 'hip house', 'new jack swing', 'old school hip hop', 'rap']\n"
     ]
    },
    {
     "name": "stderr",
     "output_type": "stream",
     "text": [
      " 49%|████▉     | 150/307 [00:14<00:17,  8.78it/s]"
     ]
    },
    {
     "name": "stdout",
     "output_type": "stream",
     "text": [
      "['jewish hip hop']\n",
      "['alternative hip hop', 'bronx hip hop', 'conscious hip hop', 'east coast hip hop', 'gangster rap', 'hardcore hip hop', 'hip hop', 'old school hip hop', 'political hip hop', 'rap', 'turntablism']\n",
      "[]\n"
     ]
    },
    {
     "name": "stderr",
     "output_type": "stream",
     "text": [
      " 50%|█████     | 154/307 [00:14<00:14, 10.24it/s]"
     ]
    },
    {
     "name": "stdout",
     "output_type": "stream",
     "text": [
      "['alternative hip hop', 'conscious hip hop', 'east coast hip hop', 'hardcore hip hop', 'hip hop', 'southern hip hop']\n",
      "['east coast hip hop', 'gangster rap', 'hardcore hip hop', 'harlem hip hop', 'hip hop', 'rap']\n",
      "[]\n"
     ]
    },
    {
     "name": "stderr",
     "output_type": "stream",
     "text": [
      "\r",
      " 51%|█████     | 156/307 [00:14<00:14, 10.75it/s]"
     ]
    },
    {
     "name": "stdout",
     "output_type": "stream",
     "text": [
      "['alternative hip hop', 'east coast hip hop', 'hardcore hip hop', 'hip hop', 'queens hip hop', 'turntablism']\n",
      "[]\n",
      "['conscious hip hop', 'east coast hip hop', 'hip hop', 'hip pop', 'new jersey rap']\n"
     ]
    },
    {
     "name": "stderr",
     "output_type": "stream",
     "text": [
      " 52%|█████▏    | 160/307 [00:15<00:13, 10.92it/s]"
     ]
    },
    {
     "name": "stdout",
     "output_type": "stream",
     "text": [
      "[]\n",
      "['spoken word']\n",
      "['christian hip hop', 'christian trap', 'dfw rap']\n"
     ]
    },
    {
     "name": "stderr",
     "output_type": "stream",
     "text": [
      "\r",
      " 53%|█████▎    | 162/307 [00:15<00:12, 11.22it/s]"
     ]
    },
    {
     "name": "stdout",
     "output_type": "stream",
     "text": [
      "['abstract hip hop', 'alternative hip hop', 'boom bap', 'boston hip hop', 'conscious hip hop', 'east coast hip hop', 'turntablism', 'underground rap']\n",
      "['comedy rap', 'pop rap', 'rap']\n",
      "['hip pop', 'pop rap', 'trap queen']\n"
     ]
    },
    {
     "name": "stderr",
     "output_type": "stream",
     "text": [
      " 54%|█████▍    | 166/307 [00:15<00:13, 10.22it/s]"
     ]
    },
    {
     "name": "stdout",
     "output_type": "stream",
     "text": [
      "['emo rap', 'lgbtq+ hip hop']\n",
      "['melodic rap', 'pop rap', 'rap', 'trap']\n",
      "['melodic rap', 'philly rap', 'rap', 'trap']\n"
     ]
    },
    {
     "name": "stderr",
     "output_type": "stream",
     "text": [
      "\r",
      " 55%|█████▍    | 168/307 [00:15<00:13, 10.55it/s]"
     ]
    },
    {
     "name": "stdout",
     "output_type": "stream",
     "text": [
      "['nyc rap']\n",
      "['dance pop', 'east coast hip hop', 'gangster rap', 'hip hop', 'hip pop', 'pop rap', 'r&b', 'rap', 'southern hip hop', 'trap queen', 'urban contemporary']\n",
      "['wu fam']\n"
     ]
    },
    {
     "name": "stderr",
     "output_type": "stream",
     "text": [
      " 56%|█████▌    | 172/307 [00:16<00:12, 10.45it/s]"
     ]
    },
    {
     "name": "stdout",
     "output_type": "stream",
     "text": [
      "['jazztronica']\n",
      "['abstract hip hop', 'underground rap']\n",
      "[]\n"
     ]
    },
    {
     "name": "stderr",
     "output_type": "stream",
     "text": [
      "\r",
      " 57%|█████▋    | 174/307 [00:16<00:12, 10.48it/s]"
     ]
    },
    {
     "name": "stdout",
     "output_type": "stream",
     "text": [
      "[]\n",
      "['boston hip hop', 'hip hop', 'pop rap', 'rap']\n"
     ]
    },
    {
     "name": "stderr",
     "output_type": "stream",
     "text": [
      "\r",
      " 57%|█████▋    | 176/307 [00:16<00:12, 10.30it/s]"
     ]
    },
    {
     "name": "stdout",
     "output_type": "stream",
     "text": [
      "['hip pop']\n",
      "['east coast hip hop', 'electro', 'gangster rap', 'hardcore hip hop', 'hip hop', 'hip house', 'hip pop', 'new jack swing', 'old school hip hop', 'rap']\n",
      "['bronx hip hop', 'hip pop', 'r&b', 'trap queen', 'urban contemporary']\n"
     ]
    },
    {
     "name": "stderr",
     "output_type": "stream",
     "text": [
      "\r",
      " 58%|█████▊    | 178/307 [00:16<00:12, 10.33it/s]"
     ]
    },
    {
     "name": "stdout",
     "output_type": "stream",
     "text": [
      "['gangster rap', 'hardcore hip hop', 'hip hop', 'hip pop', 'rap']\n",
      "[]\n"
     ]
    },
    {
     "name": "stderr",
     "output_type": "stream",
     "text": [
      "\r",
      " 59%|█████▊    | 180/307 [00:17<00:13,  9.20it/s]"
     ]
    },
    {
     "name": "stdout",
     "output_type": "stream",
     "text": [
      "['flick hop']\n",
      "['alternative hip hop', 'boom bap', 'hip hop', 'underground hip hop']\n"
     ]
    },
    {
     "name": "stderr",
     "output_type": "stream",
     "text": [
      " 60%|█████▉    | 183/307 [00:17<00:14,  8.70it/s]"
     ]
    },
    {
     "name": "stdout",
     "output_type": "stream",
     "text": [
      "['east coast hip hop', 'hardcore hip hop', 'hip hop', 'old school hip hop']\n",
      "['indie pop rap', 'pop rap', 'rap', 'underground hip hop']\n"
     ]
    },
    {
     "name": "stderr",
     "output_type": "stream",
     "text": [
      " 61%|██████    | 186/307 [00:17<00:14,  8.56it/s]"
     ]
    },
    {
     "name": "stdout",
     "output_type": "stream",
     "text": [
      "['rhode island rap']\n",
      "[]\n",
      "['east coast hip hop', 'hardcore hip hop']\n"
     ]
    },
    {
     "name": "stderr",
     "output_type": "stream",
     "text": [
      "\r",
      " 61%|██████    | 188/307 [00:17<00:12,  9.38it/s]"
     ]
    },
    {
     "name": "stdout",
     "output_type": "stream",
     "text": [
      "[]\n",
      "[]\n",
      "[]\n"
     ]
    },
    {
     "name": "stderr",
     "output_type": "stream",
     "text": [
      " 63%|██████▎   | 192/307 [00:18<00:12,  9.57it/s]"
     ]
    },
    {
     "name": "stdout",
     "output_type": "stream",
     "text": [
      "['east coast hip hop', 'gangster rap', 'hardcore hip hop', 'hip hop', 'rap', 'southern hip hop']\n",
      "['alternative hip hop', 'east coast hip hop', 'hip hop', 'rap']\n",
      "['hip hop', 'philly rap', 'pop rap', 'rap', 'southern hip hop', 'trap']\n"
     ]
    },
    {
     "name": "stderr",
     "output_type": "stream",
     "text": [
      " 63%|██████▎   | 194/307 [00:18<00:12,  8.91it/s]"
     ]
    },
    {
     "name": "stdout",
     "output_type": "stream",
     "text": [
      "['hip hop', 'pittsburgh rap', 'rap']\n",
      "['battle rap', 'harlem hip hop']\n"
     ]
    },
    {
     "name": "stderr",
     "output_type": "stream",
     "text": [
      " 64%|██████▍   | 196/307 [00:18<00:12,  8.69it/s]"
     ]
    },
    {
     "name": "stdout",
     "output_type": "stream",
     "text": [
      "['dance pop', 'hip pop', 'pop', 'pop dance', 'pop rap', 'post-teen pop', 'queens hip hop']\n",
      "['christian hip hop', 'christian trap']\n",
      "[]\n"
     ]
    },
    {
     "name": "stderr",
     "output_type": "stream",
     "text": [
      " 65%|██████▍   | 199/307 [00:19<00:12,  8.92it/s]"
     ]
    },
    {
     "name": "stdout",
     "output_type": "stream",
     "text": [
      "['alternative hip hop', 'conscious hip hop', 'east coast hip hop', 'hardcore hip hop', 'hip hop', 'queens hip hop', 'turntablism']\n",
      "['hip hop', 'pop rap', 'rap', 'southern hip hop', 'trap']\n",
      "['alternative hip hop', 'conscious hip hop', 'east coast hip hop', 'gangster rap', 'hardcore hip hop', 'hip hop', 'rap', 'southern hip hop']\n"
     ]
    },
    {
     "name": "stderr",
     "output_type": "stream",
     "text": [
      "\r",
      " 65%|██████▌   | 201/307 [00:19<00:10,  9.73it/s]"
     ]
    },
    {
     "name": "stdout",
     "output_type": "stream",
     "text": [
      "['alternative hip hop']\n",
      "[]\n"
     ]
    },
    {
     "name": "stderr",
     "output_type": "stream",
     "text": [
      " 67%|██████▋   | 205/307 [00:19<00:09, 10.32it/s]"
     ]
    },
    {
     "name": "stdout",
     "output_type": "stream",
     "text": [
      "['horrorcore']\n",
      "['gangster rap', 'hardcore hip hop', 'hip hop', 'hip pop', 'pop rap', 'queens hip hop', 'rap', 'southern hip hop']\n",
      "['conscious hip hop', 'east coast hip hop', 'gangster rap', 'hardcore hip hop', 'hip hop', 'queens hip hop', 'rap']\n"
     ]
    },
    {
     "name": "stderr",
     "output_type": "stream",
     "text": [
      "\r",
      " 67%|██████▋   | 207/307 [00:19<00:10,  9.60it/s]"
     ]
    },
    {
     "name": "stdout",
     "output_type": "stream",
     "text": [
      "['alternative hip hop', 'underground hip hop']\n",
      "[]\n"
     ]
    },
    {
     "name": "stderr",
     "output_type": "stream",
     "text": [
      " 68%|██████▊   | 210/307 [00:20<00:09,  9.86it/s]"
     ]
    },
    {
     "name": "stdout",
     "output_type": "stream",
     "text": [
      "['east coast hip hop', 'gangster rap', 'hardcore hip hop', 'hip hop', 'rap']\n",
      "['alternative hip hop', 'east coast hip hop', 'gangster rap', 'hardcore hip hop', 'hip hop', 'rap']\n",
      "['new jersey rap']\n"
     ]
    },
    {
     "name": "stderr",
     "output_type": "stream",
     "text": [
      "\r",
      " 69%|██████▉   | 212/307 [00:20<00:09, 10.35it/s]"
     ]
    },
    {
     "name": "stdout",
     "output_type": "stream",
     "text": [
      "['alternative hip hop', 'battle rap', 'boom bap', 'hardcore hip hop']\n",
      "[]\n",
      "['melodic rap', 'underground hip hop', 'vapor trap']\n"
     ]
    },
    {
     "name": "stderr",
     "output_type": "stream",
     "text": [
      " 70%|███████   | 215/307 [00:20<00:09,  9.30it/s]"
     ]
    },
    {
     "name": "stdout",
     "output_type": "stream",
     "text": [
      "['alternative hip hop', 'bronx hip hop']\n",
      "['alternative hip hop', 'east coast hip hop', 'gangster rap', 'hardcore hip hop', 'hip hop', 'jazz boom bap', 'jazz rap', 'turntablism']\n"
     ]
    },
    {
     "name": "stderr",
     "output_type": "stream",
     "text": [
      " 71%|███████   | 217/307 [00:21<00:10,  8.98it/s]"
     ]
    },
    {
     "name": "stdout",
     "output_type": "stream",
     "text": [
      "['crunk', 'dirty south rap', 'hip pop', 'north carolina hip hop', 'pop rap', 'southern hip hop']\n",
      "['east coast hip hop']\n"
     ]
    },
    {
     "name": "stderr",
     "output_type": "stream",
     "text": [
      " 71%|███████▏  | 219/307 [00:21<00:09,  9.40it/s]"
     ]
    },
    {
     "name": "stdout",
     "output_type": "stream",
     "text": [
      "[]\n",
      "['nyc rap']\n"
     ]
    },
    {
     "name": "stderr",
     "output_type": "stream",
     "text": [
      " 72%|███████▏  | 221/307 [00:21<00:09,  9.32it/s]"
     ]
    },
    {
     "name": "stdout",
     "output_type": "stream",
     "text": [
      "['melodic rap', 'pop rap', 'rap', 'trap']\n",
      "['brooklyn drill']\n",
      "['bronx hip hop']\n"
     ]
    },
    {
     "name": "stderr",
     "output_type": "stream",
     "text": [
      " 73%|███████▎  | 224/307 [00:21<00:08,  9.67it/s]"
     ]
    },
    {
     "name": "stdout",
     "output_type": "stream",
     "text": [
      "['alternative hip hop', 'east coast hip hop', 'hardcore hip hop', 'hip hop', 'jazz boom bap', 'turntablism']\n",
      "['alternative hip hop', 'boom bap', 'hardcore hip hop', 'hip hop', 'underground rap']\n",
      "['escape room', 'lgbtq+ hip hop', 'trap queen']\n"
     ]
    },
    {
     "name": "stderr",
     "output_type": "stream",
     "text": [
      "\r",
      " 74%|███████▎  | 226/307 [00:21<00:07, 10.25it/s]"
     ]
    },
    {
     "name": "stdout",
     "output_type": "stream",
     "text": [
      "['electroclash']\n",
      "['alternative hip hop', 'gangster rap', 'hip hop', 'pop rap', 'rap', 'southern hip hop', 'trap', 'underground hip hop', 'virginia hip hop']\n"
     ]
    },
    {
     "name": "stderr",
     "output_type": "stream",
     "text": [
      " 75%|███████▍  | 229/307 [00:22<00:08,  9.02it/s]"
     ]
    },
    {
     "name": "stdout",
     "output_type": "stream",
     "text": [
      "['hip pop', 'lgbtq+ hip hop']\n",
      "[]\n"
     ]
    },
    {
     "name": "stderr",
     "output_type": "stream",
     "text": [
      "\r",
      " 75%|███████▌  | 231/307 [00:22<00:08,  9.30it/s]"
     ]
    },
    {
     "name": "stdout",
     "output_type": "stream",
     "text": [
      "['alternative hip hop', 'east coast hip hop', 'gangster rap', 'hardcore hip hop', 'hip hop', 'rap', 'southern hip hop']\n",
      "['east coast hip hop', 'gangster rap', 'hardcore hip hop', 'hip hop', 'rap']\n"
     ]
    },
    {
     "name": "stderr",
     "output_type": "stream",
     "text": [
      "\r",
      " 76%|███████▌  | 232/307 [00:22<00:10,  7.42it/s]"
     ]
    },
    {
     "name": "stdout",
     "output_type": "stream",
     "text": [
      "['new jersey rap']\n"
     ]
    },
    {
     "name": "stderr",
     "output_type": "stream",
     "text": [
      " 76%|███████▌  | 234/307 [00:23<00:12,  5.82it/s]"
     ]
    },
    {
     "name": "stdout",
     "output_type": "stream",
     "text": [
      "['alternative hip hop', 'boom bap', 'boston hip hop', 'hardcore hip hop', 'underground rap']\n",
      "['hip hop', 'indie r&b']\n"
     ]
    },
    {
     "name": "stderr",
     "output_type": "stream",
     "text": [
      "\r",
      " 77%|███████▋  | 235/307 [00:23<00:10,  6.63it/s]"
     ]
    },
    {
     "name": "stdout",
     "output_type": "stream",
     "text": [
      "['east coast hip hop', 'hardcore hip hop', 'hip hop', 'hip pop', 'pop rap', 'rap']\n",
      "[]\n"
     ]
    },
    {
     "name": "stderr",
     "output_type": "stream",
     "text": [
      " 78%|███████▊  | 238/307 [00:23<00:09,  6.94it/s]"
     ]
    },
    {
     "name": "stdout",
     "output_type": "stream",
     "text": [
      "['east coast hip hop', 'electro', 'hardcore hip hop', 'hip hop', 'hip house', 'old school hip hop', 'rap']\n",
      "[]\n"
     ]
    },
    {
     "name": "stderr",
     "output_type": "stream",
     "text": [
      "\r",
      " 78%|███████▊  | 240/307 [00:23<00:08,  8.04it/s]"
     ]
    },
    {
     "name": "stdout",
     "output_type": "stream",
     "text": [
      "['alternative hip hop', 'indie pop rap', 'pop rap', 'rap']\n",
      "['alternative hip hop', 'east coast hip hop', 'hardcore hip hop', 'hip hop']\n",
      "['bronx hip hop', 'east coast hip hop', 'hardcore hip hop', 'turntablism']\n"
     ]
    },
    {
     "name": "stderr",
     "output_type": "stream",
     "text": [
      "\r",
      " 79%|███████▉  | 242/307 [00:23<00:07,  9.00it/s]"
     ]
    },
    {
     "name": "stdout",
     "output_type": "stream",
     "text": [
      "['gangster rap', 'harlem hip hop', 'hip hop', 'nyc rap', 'pop rap', 'rap', 'trap']\n",
      "[]\n"
     ]
    },
    {
     "name": "stderr",
     "output_type": "stream",
     "text": [
      "\r",
      " 79%|███████▉  | 244/307 [00:24<00:06,  9.17it/s]"
     ]
    },
    {
     "name": "stdout",
     "output_type": "stream",
     "text": [
      "['east coast hip hop', 'electro', 'gangster rap', 'hip hop', 'hip house', 'old school hip hop', 'philly rap', 'rap']\n",
      "['funk', 'hip hop', 'hip pop', 'neo soul', 'quiet storm', 'r&b', 'soul', 'urban contemporary']\n"
     ]
    },
    {
     "name": "stderr",
     "output_type": "stream",
     "text": [
      " 81%|████████  | 248/307 [00:24<00:05, 10.16it/s]"
     ]
    },
    {
     "name": "stdout",
     "output_type": "stream",
     "text": [
      "['gangster rap', 'hardcore hip hop', 'hip hop', 'hip pop', 'rap', 'turntablism']\n",
      "[]\n",
      "['hardcore hip hop', 'hip hop']\n"
     ]
    },
    {
     "name": "stderr",
     "output_type": "stream",
     "text": [
      "\r",
      " 81%|████████▏ | 250/307 [00:24<00:05, 10.16it/s]"
     ]
    },
    {
     "name": "stdout",
     "output_type": "stream",
     "text": [
      "['brooklyn drill', 'new york drill', 'nyc rap']\n",
      "['nyc rap', 'trap']\n",
      "[]\n"
     ]
    },
    {
     "name": "stderr",
     "output_type": "stream",
     "text": [
      " 83%|████████▎ | 254/307 [00:25<00:04, 10.78it/s]"
     ]
    },
    {
     "name": "stdout",
     "output_type": "stream",
     "text": [
      "['nyc rap']\n",
      "['gangster rap', 'hardcore hip hop', 'hip hop', 'hip pop', 'jewish hip hop', 'rap', 'southern hip hop']\n",
      "['battle rap', 'east coast hip hop', 'gangster rap', 'hardcore hip hop', 'hip hop', 'hip pop', 'philly rap', 'pop rap', 'rap', 'southern hip hop', 'trap']\n"
     ]
    },
    {
     "name": "stderr",
     "output_type": "stream",
     "text": [
      "\r",
      " 83%|████████▎ | 256/307 [00:25<00:04, 11.18it/s]"
     ]
    },
    {
     "name": "stdout",
     "output_type": "stream",
     "text": [
      "['melodic rap', 'vapor trap']\n",
      "[]\n",
      "['hip hop', 'pop rap']\n"
     ]
    },
    {
     "name": "stderr",
     "output_type": "stream",
     "text": [
      "\r",
      " 84%|████████▍ | 258/307 [00:25<00:04, 11.31it/s]"
     ]
    },
    {
     "name": "stdout",
     "output_type": "stream",
     "text": [
      "['alternative hip hop', 'boom bap', 'harlem hip hop', 'hip hop', 'rap', 'southern hip hop', 'trap', 'underground hip hop']\n",
      "[]\n"
     ]
    },
    {
     "name": "stderr",
     "output_type": "stream",
     "text": [
      "\r",
      " 85%|████████▍ | 260/307 [00:25<00:04, 10.71it/s]"
     ]
    },
    {
     "name": "stdout",
     "output_type": "stream",
     "text": [
      "['g funk']\n",
      "[]\n"
     ]
    },
    {
     "name": "stderr",
     "output_type": "stream",
     "text": [
      " 86%|████████▌ | 264/307 [00:25<00:04, 10.35it/s]"
     ]
    },
    {
     "name": "stdout",
     "output_type": "stream",
     "text": [
      "['bmore']\n",
      "['electro', 'old school hip hop', 'proto-rap']\n",
      "['electro', 'harlem hip hop', 'hip house', 'old school hip hop']\n"
     ]
    },
    {
     "name": "stderr",
     "output_type": "stream",
     "text": [
      "\r",
      " 87%|████████▋ | 266/307 [00:26<00:03, 10.63it/s]"
     ]
    },
    {
     "name": "stdout",
     "output_type": "stream",
     "text": [
      "['comic', 'indie pop rap', 'maine hip hop', 'pop rap']\n",
      "['alternative hip hop', 'boom bap', 'boston hip hop', 'hardcore hip hop', 'hip hop', 'southern hip hop', 'underground hip hop']\n"
     ]
    },
    {
     "name": "stderr",
     "output_type": "stream",
     "text": [
      "\r",
      " 87%|████████▋ | 268/307 [00:26<00:03,  9.92it/s]"
     ]
    },
    {
     "name": "stdout",
     "output_type": "stream",
     "text": [
      "['deep east coast hip hop']\n",
      "['old school hip hop']\n",
      "here\n"
     ]
    },
    {
     "name": "stderr",
     "output_type": "stream",
     "text": [
      " 89%|████████▊ | 272/307 [00:26<00:03, 10.69it/s]"
     ]
    },
    {
     "name": "stdout",
     "output_type": "stream",
     "text": [
      "['battle rap', 'east coast hip hop', 'gangster rap', 'hardcore hip hop', 'hip hop', 'pop rap', 'rap', 'southern hip hop', 'trap']\n",
      "['battle rap', 'hip pop', 'pop rap', 'rap', 'southern hip hop', 'trap']\n",
      "['alternative r&b', 'dance pop', 'hip pop', 'neo soul', 'pop', 'pop r&b', 'pop rap', 'r&b', 'urban contemporary']\n"
     ]
    },
    {
     "name": "stderr",
     "output_type": "stream",
     "text": [
      "\r",
      " 89%|████████▉ | 274/307 [00:26<00:03,  9.65it/s]"
     ]
    },
    {
     "name": "stdout",
     "output_type": "stream",
     "text": [
      "['melodic rap', 'rap', 'trap']\n",
      "['alternative hip hop', 'boom bap', 'boston hip hop', 'underground rap']\n"
     ]
    },
    {
     "name": "stderr",
     "output_type": "stream",
     "text": [
      " 90%|████████▉ | 276/307 [00:27<00:03,  9.45it/s]"
     ]
    },
    {
     "name": "stdout",
     "output_type": "stream",
     "text": [
      "['bronx hip hop', 'east coast hip hop', 'gangster rap', 'hardcore hip hop', 'hip hop']\n",
      "['brooklyn drill', 'melodic rap', 'nyc rap']\n",
      "['philly rap']\n"
     ]
    },
    {
     "name": "stderr",
     "output_type": "stream",
     "text": [
      " 91%|█████████ | 280/307 [00:27<00:02, 10.31it/s]"
     ]
    },
    {
     "name": "stdout",
     "output_type": "stream",
     "text": [
      "[]\n",
      "['new jersey rap']\n",
      "[]\n"
     ]
    },
    {
     "name": "stderr",
     "output_type": "stream",
     "text": [
      "\r",
      " 92%|█████████▏| 282/307 [00:27<00:02, 10.50it/s]"
     ]
    },
    {
     "name": "stdout",
     "output_type": "stream",
     "text": [
      "['hardcore hip hop']\n",
      "['battle rap', 'nyc rap', 'trap']\n",
      "['trap queen']\n"
     ]
    },
    {
     "name": "stderr",
     "output_type": "stream",
     "text": [
      " 93%|█████████▎| 286/307 [00:28<00:01, 11.04it/s]"
     ]
    },
    {
     "name": "stdout",
     "output_type": "stream",
     "text": [
      "['nyc rap', 'queens hip hop']\n",
      "['new jersey rap', 'pop rap', 'rap', 'southern hip hop', 'trap']\n",
      "['jazz rap']\n"
     ]
    },
    {
     "name": "stderr",
     "output_type": "stream",
     "text": [
      "\r",
      " 94%|█████████▍| 288/307 [00:28<00:01, 10.42it/s]"
     ]
    },
    {
     "name": "stdout",
     "output_type": "stream",
     "text": [
      "['indie pop rap', 'pop rap', 'rap']\n",
      "[]\n"
     ]
    },
    {
     "name": "stderr",
     "output_type": "stream",
     "text": [
      "\r",
      " 94%|█████████▍| 290/307 [00:28<00:01, 10.26it/s]"
     ]
    },
    {
     "name": "stdout",
     "output_type": "stream",
     "text": [
      "['rap', 'trap', 'underground hip hop', 'vapor trap']\n",
      "['alternative hip hop', 'boom bap', 'buffalo hip hop', 'hip hop', 'underground hip hop']\n",
      "[]\n"
     ]
    },
    {
     "name": "stderr",
     "output_type": "stream",
     "text": [
      " 96%|█████████▌| 294/307 [00:28<00:01, 11.08it/s]"
     ]
    },
    {
     "name": "stdout",
     "output_type": "stream",
     "text": [
      "['nyc rap']\n",
      "[]\n",
      "['abstract hip hop', 'alternative hip hop', 'conscious hip hop', 'industrial hip hop', 'lgbtq+ hip hop', 'slam poetry']\n"
     ]
    },
    {
     "name": "stderr",
     "output_type": "stream",
     "text": [
      "\r",
      " 96%|█████████▋| 296/307 [00:28<00:00, 11.75it/s]"
     ]
    },
    {
     "name": "stdout",
     "output_type": "stream",
     "text": [
      "[]\n",
      "['pittsburgh rap', 'trap']\n",
      "['pittsburgh rap']\n"
     ]
    },
    {
     "name": "stderr",
     "output_type": "stream",
     "text": [
      " 98%|█████████▊| 300/307 [00:29<00:00, 11.91it/s]"
     ]
    },
    {
     "name": "stdout",
     "output_type": "stream",
     "text": [
      "['hip hop', 'queens hip hop']\n",
      "['battle rap', 'philly rap']\n",
      "['lgbtq+ hip hop', 'nyc rap', 'pop rap', 'rap', 'trap']\n"
     ]
    },
    {
     "name": "stderr",
     "output_type": "stream",
     "text": [
      "\r",
      " 98%|█████████▊| 302/307 [00:29<00:00, 11.82it/s]"
     ]
    },
    {
     "name": "stdout",
     "output_type": "stream",
     "text": [
      "[]\n",
      "['jewish hip hop']\n",
      "['dark trap']\n"
     ]
    },
    {
     "name": "stderr",
     "output_type": "stream",
     "text": [
      "100%|█████████▉| 306/307 [00:29<00:00, 12.39it/s]"
     ]
    },
    {
     "name": "stdout",
     "output_type": "stream",
     "text": [
      "['deep underground hip hop']\n",
      "['alternative hip hop', 'bboy', 'east coast hip hop', 'electro', 'gangster rap', 'hardcore hip hop', 'hip hop', 'old school hip hop', 'rap']\n",
      "['underground hip hop']\n"
     ]
    },
    {
     "name": "stderr",
     "output_type": "stream",
     "text": [
      "\r",
      "100%|██████████| 307/307 [00:29<00:00, 10.28it/s]"
     ]
    },
    {
     "name": "stdout",
     "output_type": "stream",
     "text": [
      "['conscious hip hop', 'dance pop', 'hip pop', 'neo soul', 'new jersey rap', 'r&b', 'urban contemporary']\n"
     ]
    },
    {
     "name": "stderr",
     "output_type": "stream",
     "text": [
      "\n"
     ]
    }
   ],
   "source": [
    "### filtering on genre:\n",
    "filter_errors_east = {}\n",
    "popped = {}\n",
    "\n",
    "for artist in tqdm(list(east_artist_ids.keys())):\n",
    "    \n",
    "    artist_id = east_artist_ids[artist]\n",
    "\n",
    "    r = requests.get(base_url + 'artists/' + artist_id, \n",
    "                     headers=headers, \n",
    "                     params={'include_groups': 'album', 'limit': 50})\n",
    "    d = r.json()\n",
    "\n",
    "    try:\n",
    "        if ('hip hop' not in ' '.join(d['genres'])) and ('rap' not in ' '.join(d['genres'])):\n",
    "\n",
    "            east_artist_ids.pop(str(artist))\n",
    "            popped[artist] = artist_id\n",
    "            \n",
    "        banned = ['dark trap', 'buffalo hip hop', 'boston hip hop', 'trap queen', 'christian trap', \n",
    "                  'emo rap', 'vapor trap']\n",
    "        for word in banned:    \n",
    "            if word in ' '.join(d['genres']):\n",
    "\n",
    "                east_artist_ids.pop(str(artist))\n",
    "                popped[artist] = artist_id\n",
    "            \n",
    "        else:\n",
    "            print(d['genres'])\n",
    "\n",
    "    except:\n",
    "        print('here')\n",
    "        filter_errors_east[artist] = artist_id"
   ]
  },
  {
   "cell_type": "code",
   "execution_count": 29,
   "metadata": {},
   "outputs": [
    {
     "name": "stderr",
     "output_type": "stream",
     "text": [
      "\r",
      "  0%|          | 0/189 [00:00<?, ?it/s]"
     ]
    },
    {
     "name": "stdout",
     "output_type": "stream",
     "text": [
      "63\n"
     ]
    },
    {
     "name": "stderr",
     "output_type": "stream",
     "text": [
      "  2%|▏         | 3/189 [00:00<00:17, 10.83it/s]"
     ]
    },
    {
     "name": "stdout",
     "output_type": "stream",
     "text": [
      "84\n"
     ]
    },
    {
     "name": "stderr",
     "output_type": "stream",
     "text": [
      "\r",
      "  2%|▏         | 4/189 [00:00<00:17, 10.37it/s]"
     ]
    },
    {
     "name": "stdout",
     "output_type": "stream",
     "text": [
      "65\n"
     ]
    },
    {
     "name": "stderr",
     "output_type": "stream",
     "text": [
      "\r",
      "  3%|▎         | 6/189 [00:00<00:17, 10.46it/s]"
     ]
    },
    {
     "name": "stdout",
     "output_type": "stream",
     "text": [
      "59\n"
     ]
    },
    {
     "name": "stderr",
     "output_type": "stream",
     "text": [
      "\r",
      "  4%|▎         | 7/189 [00:00<00:17, 10.26it/s]"
     ]
    },
    {
     "name": "stdout",
     "output_type": "stream",
     "text": [
      "62\n"
     ]
    },
    {
     "name": "stderr",
     "output_type": "stream",
     "text": [
      "  6%|▌         | 11/189 [00:01<00:22,  7.99it/s]"
     ]
    },
    {
     "name": "stdout",
     "output_type": "stream",
     "text": [
      "63\n"
     ]
    },
    {
     "name": "stderr",
     "output_type": "stream",
     "text": [
      " 10%|█         | 19/189 [00:01<00:15, 10.64it/s]"
     ]
    },
    {
     "name": "stdout",
     "output_type": "stream",
     "text": [
      "65\n"
     ]
    },
    {
     "name": "stderr",
     "output_type": "stream",
     "text": [
      "\r",
      " 11%|█         | 21/189 [00:02<00:16, 10.09it/s]"
     ]
    },
    {
     "name": "stdout",
     "output_type": "stream",
     "text": [
      "63\n"
     ]
    },
    {
     "name": "stderr",
     "output_type": "stream",
     "text": [
      "\r",
      " 12%|█▏        | 23/189 [00:02<00:16, 10.10it/s]"
     ]
    },
    {
     "name": "stdout",
     "output_type": "stream",
     "text": [
      "62\n",
      "87\n"
     ]
    },
    {
     "name": "stderr",
     "output_type": "stream",
     "text": [
      " 14%|█▍        | 27/189 [00:02<00:15, 10.51it/s]"
     ]
    },
    {
     "name": "stdout",
     "output_type": "stream",
     "text": [
      "65\n"
     ]
    },
    {
     "name": "stderr",
     "output_type": "stream",
     "text": [
      " 17%|█▋        | 33/189 [00:03<00:13, 11.29it/s]"
     ]
    },
    {
     "name": "stdout",
     "output_type": "stream",
     "text": [
      "58\n",
      "89\n"
     ]
    },
    {
     "name": "stderr",
     "output_type": "stream",
     "text": [
      " 23%|██▎       | 43/189 [00:04<00:11, 12.20it/s]"
     ]
    },
    {
     "name": "stdout",
     "output_type": "stream",
     "text": [
      "70\n"
     ]
    },
    {
     "name": "stderr",
     "output_type": "stream",
     "text": [
      " 25%|██▍       | 47/189 [00:04<00:11, 12.08it/s]"
     ]
    },
    {
     "name": "stdout",
     "output_type": "stream",
     "text": [
      "58\n",
      "66\n"
     ]
    },
    {
     "name": "stderr",
     "output_type": "stream",
     "text": [
      "\r",
      " 26%|██▌       | 49/189 [00:04<00:11, 12.42it/s]"
     ]
    },
    {
     "name": "stdout",
     "output_type": "stream",
     "text": [
      "72\n",
      "70\n"
     ]
    },
    {
     "name": "stderr",
     "output_type": "stream",
     "text": [
      "\r",
      " 27%|██▋       | 51/189 [00:04<00:11, 12.43it/s]"
     ]
    },
    {
     "name": "stdout",
     "output_type": "stream",
     "text": [
      "61\n",
      "74\n"
     ]
    },
    {
     "name": "stderr",
     "output_type": "stream",
     "text": [
      " 33%|███▎      | 63/189 [00:05<00:10, 11.50it/s]"
     ]
    },
    {
     "name": "stdout",
     "output_type": "stream",
     "text": [
      "64\n",
      "here\n",
      "here\n"
     ]
    },
    {
     "name": "stderr",
     "output_type": "stream",
     "text": [
      " 37%|███▋      | 69/189 [00:06<00:10, 11.41it/s]"
     ]
    },
    {
     "name": "stdout",
     "output_type": "stream",
     "text": [
      "59\n",
      "60\n"
     ]
    },
    {
     "name": "stderr",
     "output_type": "stream",
     "text": [
      " 40%|███▉      | 75/189 [00:06<00:09, 12.07it/s]"
     ]
    },
    {
     "name": "stdout",
     "output_type": "stream",
     "text": [
      "55\n",
      "73\n",
      "72\n"
     ]
    },
    {
     "name": "stderr",
     "output_type": "stream",
     "text": [
      "\r",
      " 41%|████      | 77/189 [00:06<00:08, 12.54it/s]"
     ]
    },
    {
     "name": "stdout",
     "output_type": "stream",
     "text": [
      "67\n",
      "56\n"
     ]
    },
    {
     "name": "stderr",
     "output_type": "stream",
     "text": [
      " 45%|████▍     | 85/189 [00:07<00:08, 11.99it/s]"
     ]
    },
    {
     "name": "stdout",
     "output_type": "stream",
     "text": [
      "65\n"
     ]
    },
    {
     "name": "stderr",
     "output_type": "stream",
     "text": [
      "\r",
      " 46%|████▌     | 87/189 [00:07<00:08, 12.37it/s]"
     ]
    },
    {
     "name": "stdout",
     "output_type": "stream",
     "text": [
      "87\n",
      "56\n"
     ]
    },
    {
     "name": "stderr",
     "output_type": "stream",
     "text": [
      " 49%|████▉     | 93/189 [00:08<00:08, 11.95it/s]"
     ]
    },
    {
     "name": "stdout",
     "output_type": "stream",
     "text": [
      "56\n",
      "57\n"
     ]
    },
    {
     "name": "stderr",
     "output_type": "stream",
     "text": [
      "\r",
      " 50%|█████     | 95/189 [00:08<00:07, 11.93it/s]"
     ]
    },
    {
     "name": "stdout",
     "output_type": "stream",
     "text": [
      "59\n",
      "59\n"
     ]
    },
    {
     "name": "stderr",
     "output_type": "stream",
     "text": [
      " 52%|█████▏    | 99/189 [00:08<00:07, 11.74it/s]"
     ]
    },
    {
     "name": "stdout",
     "output_type": "stream",
     "text": [
      "58\n",
      "70\n",
      "79\n"
     ]
    },
    {
     "name": "stderr",
     "output_type": "stream",
     "text": [
      "\r",
      " 53%|█████▎    | 101/189 [00:08<00:07, 11.97it/s]"
     ]
    },
    {
     "name": "stdout",
     "output_type": "stream",
     "text": [
      "91\n"
     ]
    },
    {
     "name": "stderr",
     "output_type": "stream",
     "text": [
      " 57%|█████▋    | 107/189 [00:09<00:06, 12.19it/s]"
     ]
    },
    {
     "name": "stdout",
     "output_type": "stream",
     "text": [
      "55\n",
      "61\n"
     ]
    },
    {
     "name": "stderr",
     "output_type": "stream",
     "text": [
      " 59%|█████▊    | 111/189 [00:09<00:06, 12.35it/s]"
     ]
    },
    {
     "name": "stdout",
     "output_type": "stream",
     "text": [
      "69\n",
      "79\n",
      "81\n"
     ]
    },
    {
     "name": "stderr",
     "output_type": "stream",
     "text": [
      " 61%|██████    | 115/189 [00:10<00:05, 12.34it/s]"
     ]
    },
    {
     "name": "stdout",
     "output_type": "stream",
     "text": [
      "86\n",
      "90\n"
     ]
    },
    {
     "name": "stderr",
     "output_type": "stream",
     "text": [
      "\r",
      " 62%|██████▏   | 117/189 [00:10<00:05, 12.34it/s]"
     ]
    },
    {
     "name": "stdout",
     "output_type": "stream",
     "text": [
      "56\n",
      "80\n",
      "67\n"
     ]
    },
    {
     "name": "stderr",
     "output_type": "stream",
     "text": [
      " 64%|██████▍   | 121/189 [00:10<00:05, 12.17it/s]"
     ]
    },
    {
     "name": "stdout",
     "output_type": "stream",
     "text": [
      "57\n",
      "76\n"
     ]
    },
    {
     "name": "stderr",
     "output_type": "stream",
     "text": [
      " 66%|██████▌   | 125/189 [00:10<00:05, 11.38it/s]"
     ]
    },
    {
     "name": "stdout",
     "output_type": "stream",
     "text": [
      "80\n",
      "63\n"
     ]
    },
    {
     "name": "stderr",
     "output_type": "stream",
     "text": [
      "\r",
      " 67%|██████▋   | 127/189 [00:11<00:05, 11.49it/s]"
     ]
    },
    {
     "name": "stdout",
     "output_type": "stream",
     "text": [
      "58\n",
      "60\n"
     ]
    },
    {
     "name": "stderr",
     "output_type": "stream",
     "text": [
      " 69%|██████▉   | 131/189 [00:11<00:05, 11.47it/s]"
     ]
    },
    {
     "name": "stdout",
     "output_type": "stream",
     "text": [
      "59\n"
     ]
    },
    {
     "name": "stderr",
     "output_type": "stream",
     "text": [
      "\r",
      " 70%|███████   | 133/189 [00:11<00:04, 11.67it/s]"
     ]
    },
    {
     "name": "stdout",
     "output_type": "stream",
     "text": [
      "77\n",
      "66\n"
     ]
    },
    {
     "name": "stderr",
     "output_type": "stream",
     "text": [
      " 72%|███████▏  | 137/189 [00:11<00:04, 11.03it/s]"
     ]
    },
    {
     "name": "stdout",
     "output_type": "stream",
     "text": [
      "73\n",
      "62\n",
      "64\n"
     ]
    },
    {
     "name": "stderr",
     "output_type": "stream",
     "text": [
      " 75%|███████▍  | 141/189 [00:12<00:04, 11.74it/s]"
     ]
    },
    {
     "name": "stdout",
     "output_type": "stream",
     "text": [
      "59\n",
      "66\n"
     ]
    },
    {
     "name": "stderr",
     "output_type": "stream",
     "text": [
      "\r",
      " 76%|███████▌  | 143/189 [00:12<00:04, 10.72it/s]"
     ]
    },
    {
     "name": "stdout",
     "output_type": "stream",
     "text": [
      "76\n"
     ]
    },
    {
     "name": "stderr",
     "output_type": "stream",
     "text": [
      " 78%|███████▊  | 147/189 [00:12<00:03, 11.26it/s]"
     ]
    },
    {
     "name": "stdout",
     "output_type": "stream",
     "text": [
      "60\n",
      "66\n"
     ]
    },
    {
     "name": "stderr",
     "output_type": "stream",
     "text": [
      " 80%|███████▉  | 151/189 [00:13<00:03, 11.00it/s]"
     ]
    },
    {
     "name": "stdout",
     "output_type": "stream",
     "text": [
      "62\n"
     ]
    },
    {
     "name": "stderr",
     "output_type": "stream",
     "text": [
      "\r",
      " 81%|████████  | 153/189 [00:13<00:03, 11.33it/s]"
     ]
    },
    {
     "name": "stdout",
     "output_type": "stream",
     "text": [
      "75\n",
      "63\n"
     ]
    },
    {
     "name": "stderr",
     "output_type": "stream",
     "text": [
      " 83%|████████▎ | 157/189 [00:13<00:02, 11.54it/s]"
     ]
    },
    {
     "name": "stdout",
     "output_type": "stream",
     "text": [
      "56\n",
      "71\n"
     ]
    },
    {
     "name": "stderr",
     "output_type": "stream",
     "text": [
      "\r",
      " 84%|████████▍ | 159/189 [00:13<00:02, 10.99it/s]"
     ]
    },
    {
     "name": "stdout",
     "output_type": "stream",
     "text": [
      "57\n"
     ]
    },
    {
     "name": "stderr",
     "output_type": "stream",
     "text": [
      " 87%|████████▋ | 165/189 [00:14<00:02, 10.98it/s]"
     ]
    },
    {
     "name": "stdout",
     "output_type": "stream",
     "text": [
      "64\n",
      "65\n",
      "69\n"
     ]
    },
    {
     "name": "stderr",
     "output_type": "stream",
     "text": [
      " 89%|████████▉ | 169/189 [00:14<00:01, 11.23it/s]"
     ]
    },
    {
     "name": "stdout",
     "output_type": "stream",
     "text": [
      "81\n",
      "86\n"
     ]
    },
    {
     "name": "stderr",
     "output_type": "stream",
     "text": [
      " 94%|█████████▎| 177/189 [00:15<00:00, 12.22it/s]"
     ]
    },
    {
     "name": "stdout",
     "output_type": "stream",
     "text": [
      "here\n",
      "here\n",
      "here\n"
     ]
    },
    {
     "name": "stderr",
     "output_type": "stream",
     "text": [
      "\r",
      " 95%|█████████▍| 179/189 [00:15<00:00, 12.51it/s]"
     ]
    },
    {
     "name": "stdout",
     "output_type": "stream",
     "text": [
      "here\n",
      "here\n",
      "here\n"
     ]
    },
    {
     "name": "stderr",
     "output_type": "stream",
     "text": [
      " 97%|█████████▋| 183/189 [00:15<00:00, 11.96it/s]"
     ]
    },
    {
     "name": "stdout",
     "output_type": "stream",
     "text": [
      "here\n",
      "here\n"
     ]
    },
    {
     "name": "stderr",
     "output_type": "stream",
     "text": [
      "\r",
      " 98%|█████████▊| 185/189 [00:16<00:00, 11.42it/s]"
     ]
    },
    {
     "name": "stdout",
     "output_type": "stream",
     "text": [
      "69\n"
     ]
    },
    {
     "name": "stderr",
     "output_type": "stream",
     "text": [
      "100%|██████████| 189/189 [00:16<00:00, 11.48it/s]"
     ]
    },
    {
     "name": "stdout",
     "output_type": "stream",
     "text": [
      "55\n",
      "58\n",
      "70\n"
     ]
    },
    {
     "name": "stderr",
     "output_type": "stream",
     "text": [
      "\n"
     ]
    }
   ],
   "source": [
    "### filtering on popularity:\n",
    "filter_errors_east = {}\n",
    "popped = {}\n",
    "\n",
    "for artist in tqdm(list(east_artist_ids.keys())):\n",
    "    \n",
    "    artist_id = east_artist_ids[artist]\n",
    "\n",
    "    r = requests.get(base_url + 'artists/' + artist_id, \n",
    "                     headers=headers, \n",
    "                     params={'include_groups': 'album', 'limit': 50})\n",
    "    d = r.json()\n",
    "\n",
    "    try:\n",
    "        if d['popularity'] < 55:\n",
    "            \n",
    "            east_artist_ids.pop(str(artist))\n",
    "            popped[artist] = artist_id\n",
    "            \n",
    "        else:\n",
    "            print(d['popularity'])\n",
    "\n",
    "    except:\n",
    "        print('here')\n",
    "        filter_errors_east[artist] = artist_id"
   ]
  },
  {
   "cell_type": "code",
   "execution_count": 41,
   "metadata": {},
   "outputs": [
    {
     "data": {
      "text/plain": [
       "{'22Gz': '4JhbRL6zaItAyzqx4gHTqz',\n",
       " '50 Cent': '3q7HBObVc0L8jNeTe5Gofh',\n",
       " '070 Shake': '12Zk1DFhCbHY6v3xep2ZjI',\n",
       " 'Sammy Adams': '1S9WGrK7SZfXXQtHBYzDle',\n",
       " 'Aesop Rock': '2fSaE6BXtQy0x7R7v9IOmZ',\n",
       " 'Hoodie Allen': '382aq8Pij5V2nE2JMHMoxl',\n",
       " 'Lloyd Banks': '3vDUJHQtqT3jFRZ2ECXDTi',\n",
       " 'Big Pun': '2Xu7q46Hf02xOoEIm4E1Qs',\n",
       " 'Black Thought': '6DJEUXZm0e2rAohdoZ5Voo',\n",
       " 'A Boogie wit da Hoodie': '31W5EY0aAly4Qieq6OFu6I',\n",
       " 'Action Bronson': '7BMccF0hQFBpP6417k1OtQ',\n",
       " 'Cappadonna': '0dS5xeDefwoUNasLUHnCjR',\n",
       " 'Cardi B': '4kYSro6naA4h99UJvo89HB',\n",
       " 'Desiigner': '7pFeBzX627ff0VnN6bxPR4',\n",
       " 'DJ Drama': '5oNgAs7j5XcBMzWv3HAnHG',\n",
       " 'Dave East': '7e10JUMF7MJmmwYpnTSMI5',\n",
       " 'Fabolous': '0YWxKQj2Go9CGHCp77UOyy',\n",
       " 'Fat Joe': '3ScY9CQxNLQei8Umvpx5g6',\n",
       " 'Felly': '2848adRcxvgWNRcz1g1tQD',\n",
       " 'Fivio Foreign': '14CHVeJGrR5xgUGQFV5BVM',\n",
       " 'Ghostface Killah': '6FD0unjzGQhX3b6eMccMJe',\n",
       " 'Godfather Don': '7j91LXmuyKBXTykkvYfrQ2',\n",
       " 'Jean Grae': '2ipBhKpOYqs6BbysLNGye6',\n",
       " 'Cory Gunz': '7BAaznGSsqcksud4R5ou5z',\n",
       " 'GZA': '6ns6XAOsw4B0nDUIovAOUO',\n",
       " 'Inspectah Deck': '4OBbOrkD4geIjOLrICN3wO',\n",
       " 'J.I the Prince of N.Y': '2eqoJbzUGDwys5ENUkbT3h',\n",
       " 'Ja Rule': '1J2VVASYAamtQ3Bt8wGgA6',\n",
       " 'Jadakiss': '5pnbUBPifNnlusY8kTBivi',\n",
       " 'Jedi Mind Tricks': '0PI3pXpUMScjweiw3IbADc',\n",
       " 'JPEGMafia': '6yJ6QQ3Y5l0s0tn7b0arrO',\n",
       " 'Wiz Khalifa': '137W8MRPWKqSmrBGDBFSop',\n",
       " 'Kirk Knight': '1nSpOxq3pcgomrfpXudQuq',\n",
       " 'Kool Moe Dee': '2RE8NwNxsOyuNZDD0jRxHP',\n",
       " 'KRS-One': '2gINJ8xw86xawPyGvx1bla',\n",
       " 'Talib Kweli': '0lEssBAxQl2In4RpaB1C2Y',\n",
       " 'Big L': '30fiiwr2EeZp1tAhzYCmyM',\n",
       " 'Queen Latifah': '5m7wCUhYhBh7A3A3YMxrbt',\n",
       " 'Lil Dicky': '1tqhsYv8yBBdwANFNzHtcr',\n",
       " 'Lil Skies': '7d3WFRME3vBY2cgoP38RDo',\n",
       " 'Lil Uzi Vert': '4O15NlyKLIASxsJ0PrXPfz',\n",
       " 'Roc Marciano': '5X0V59ipZnbvnubW0rQVri',\n",
       " 'Skizzy Mars': '00Z3UDoAQwzvGu13HoAM7J',\n",
       " 'Method Man': '4VmEWwd8y9MCLwexFMdpwt',\n",
       " 'MF Doom': '2pAWfrd7WFF3XhVt9GooDL',\n",
       " 'Meek Mill': '20sxb77xiYeusSH8cVdatc',\n",
       " 'Mac Miller': '4LLpKhyESsyAXpc4laK94U',\n",
       " 'Nicki Minaj': '0hCNtLu0JehylgoiP8L4Gh',\n",
       " 'Pharoahe Monch': '5DKuVtlpDH0agZQUFDy8O7',\n",
       " 'French Montana': '6vXTefBL93Dj5IqAWq6OTv',\n",
       " 'Mos Def': '0Mz5XE0kb1GBnbLQm2VbcO',\n",
       " 'N.O.R.E.': '4GMgdB3vwbBOc42hbXEi9p',\n",
       " 'Nas': '20qISvAhX20dpIbOOzGK3q',\n",
       " 'The Notorious B.I.G.': '5me0Irg2ANcsgc93uaYrpb',\n",
       " \"Ol' Dirty Bastard\": '50NoVNy9GU1lCrDV8iGpyu',\n",
       " 'Joell Ortiz': '1q13yHC6Syg5Y8iPLrRnCq',\n",
       " 'Pete Rock': '3BeQqzKdlARoOd6y30kCO2',\n",
       " 'Petey Pablo': '4Js9eYwAf9rypNtV8pNSw9',\n",
       " 'PnB Rock': '21WS9wngs9AqFckK7yYJPM',\n",
       " 'DJ Premier': '6GEykX11lQqp92UVOQQCC7',\n",
       " 'Pusha T': '0ONHkAv9pCAFxb0zJwDNTy',\n",
       " 'Queen Pen': '0VbIlorLz3I5SEtIsc5vAr',\n",
       " 'Raekwon': '2yQf6b8hxahZaT5dHlWaB1',\n",
       " 'Rakim': '3PyWEKLWI0vHPmoNrIX0QE',\n",
       " 'Salaam Remi': '0rlS0SzVFk8BoiAW0fGBbN',\n",
       " 'Busta Rhymes': '1YfEcTuGvBQ8xSD1f53UnK',\n",
       " 'RZA': '4iCwCMnqsNZ6atvRiADgtn',\n",
       " 'Juelz Santana': '6Uh8uJyN9g7oFjDK16nJgb',\n",
       " 'Jill Scott': '6AVLthptCPhfrxlHadOBJD',\n",
       " 'Sheff G': '1tG7s7S4sq2eFFW0QZyLbm',\n",
       " 'Bobby Shmurda': '34Y0ldeyUv7jBvukWOGASO',\n",
       " 'Beanie Sigel': '0tCtGc5vt29zFZp6KXzN50',\n",
       " 'Will Smith': '41qil2VaGbD194gaEcmmyx',\n",
       " 'Smoke DZA': '3kf0gOpxWtkyeMNJVDQPtd',\n",
       " 'Styles P': '2x8KDZdSONA3872CnhaAlX',\n",
       " 'Swizz Beatz': '2cADQgiLMjNhbsfeN52Bf3',\n",
       " 'Teyana Taylor': '4ULO7IGI3M2bo0Ap7B9h8a',\n",
       " 'Lil Tecca': '4Ga1P7PMIsmqEZqhYZQgDo',\n",
       " 'Lil Tjay': '6jGMq4yGs7aQzuGsMgVgZR',\n",
       " 'Fetty Wap': '6PXS4YHDkKvl1wkIl4V8DL',\n",
       " 'Ohmega Watts': '11DVVDXpf5IiKmTTZTWD0X',\n",
       " 'Chris Webby': '3IstlZaHyUP9SONpulb4SM',\n",
       " 'DJ Whoo Kid': '75rSoy9VvZ5fhmAE2O4KL5',\n",
       " 'Saul Williams': '11K0HIZKfdB6ez0VhIgxPm',\n",
       " 'Chevy Woods': '6hSbppor1AmH9RGzyxOcGT',\n",
       " 'Jimmy Wopo': '3eu4XaXUnk055bWtkKkK3W',\n",
       " 'Tony Yayo': '50UMTib697JJ44le8DO2Va',\n",
       " 'Young M.A': '7LvoDJUNGnOrPdGRzVtOJ9',\n",
       " 'Eric B. & Rakim': '6jHG1YQkqgojdEzerwvrVv',\n",
       " 'AZ': '2NjfafEappzvGGGDdMRJMP',\n",
       " 'Lauryn Hill': '2Mu5NfyYm8n5iTomuKAEHl'}"
      ]
     },
     "execution_count": 41,
     "metadata": {},
     "output_type": "execute_result"
    }
   ],
   "source": [
    "east_artist_ids"
   ]
  },
  {
   "cell_type": "code",
   "execution_count": 44,
   "metadata": {},
   "outputs": [],
   "source": [
    "with open('east_artist_ids_HUGE.json', 'w') as fp:\n",
    "    json.dump(east_artist_ids, fp)"
   ]
  },
  {
   "cell_type": "code",
   "execution_count": null,
   "metadata": {},
   "outputs": [],
   "source": []
  },
  {
   "cell_type": "code",
   "execution_count": null,
   "metadata": {},
   "outputs": [],
   "source": []
  },
  {
   "cell_type": "code",
   "execution_count": null,
   "metadata": {},
   "outputs": [],
   "source": []
  },
  {
   "cell_type": "markdown",
   "metadata": {},
   "source": [
    "Using Spotify API to find all songs for the rappers in each list which were released between 1987-2000 (inclusive):"
   ]
  },
  {
   "cell_type": "code",
   "execution_count": 46,
   "metadata": {},
   "outputs": [
    {
     "name": "stderr",
     "output_type": "stream",
     "text": [
      "100%|██████████| 91/91 [00:35<00:00,  2.55it/s]\n"
     ]
    }
   ],
   "source": [
    "full_song_dict_east = {}\n",
    "\n",
    "for artist in tqdm(east_artist_ids):\n",
    "    \n",
    "    artist_id = east_artist_ids[artist]\n",
    "    \n",
    "    r = requests.get(base_url + 'artists/' + artist_id + '/albums', \n",
    "                     headers=headers, \n",
    "                     params={'include_groups': 'album', 'limit': 50})\n",
    "    d = r.json()\n",
    "    \n",
    "    artist_data = {}   # to hold track info within each iteration of the loop\n",
    "    albums = [] # to avoid duplicate albums\n",
    "\n",
    "    # get tracks from all albums for each artist\n",
    "    for album in d['items']:\n",
    "        album_name = album['name']\n",
    "\n",
    "        # skip the album if we've already got it\n",
    "        trim_name = album_name.split('(')[0].strip() # stuff like '(Deluxe Edition)'\n",
    "        if trim_name.lower() in albums or int(album['release_date'][:4])>1999 or int(album['release_date'][:4]) < 1987:\n",
    "            continue\n",
    "        albums.append(trim_name.lower())\n",
    "\n",
    "        # get all tracks from album\n",
    "        r = requests.get(base_url + 'albums/' + album['id'] + '/tracks', \n",
    "            headers=headers)\n",
    "        tracks = r.json()['items']\n",
    "\n",
    "        track_names = []\n",
    "        for track in tracks:\n",
    "\n",
    "            track_name = track['name'].split(' - ')[0]\n",
    "\n",
    "            if track_name not in track_names: # avoid duplicates\n",
    "                track_names.append(track_name)\n",
    "\n",
    "        # add to tracks to artist data dictionary, with the album name as key\n",
    "        artist_data[trim_name] = track_names\n",
    "        \n",
    "    # add these tracks to the full song dictionary\n",
    "    full_song_dict_east[artist] = artist_data\n",
    "        "
   ]
  },
  {
   "cell_type": "code",
   "execution_count": 47,
   "metadata": {},
   "outputs": [
    {
     "data": {
      "text/plain": [
       "30"
      ]
     },
     "execution_count": 47,
     "metadata": {},
     "output_type": "execute_result"
    }
   ],
   "source": [
    "## dropping the artists for which there are no tracks entered (because they were released outside of the window)\n",
    "\n",
    "for artist in list(full_song_dict_east.keys()):\n",
    "    \n",
    "    if full_song_dict_east[artist] == {}:\n",
    "        \n",
    "        full_song_dict_east.pop(artist)\n",
    "        \n",
    "len(full_song_dict_east)"
   ]
  },
  {
   "cell_type": "code",
   "execution_count": null,
   "metadata": {},
   "outputs": [],
   "source": []
  },
  {
   "cell_type": "code",
   "execution_count": 50,
   "metadata": {},
   "outputs": [],
   "source": [
    "### manually checking the albums for each artist - dropping the undetected duplicates\n",
    "\n",
    "full_song_dict_east[rappers_east[43]]\n",
    "# indices here are from rappers_east.\n",
    "# wu-tang clan (1)... only 2 albums in this period, drop the weird first one...\n",
    "# nas (2) --- double illmatic. also drop 'iTunes Originals'\n",
    "# (5) & (7) - both contain 'blackout'\n",
    "# (7) - double tical 2000.\n",
    "# (7) - only keep tical. Sorts this 5/7 mess.\n",
    "# (9) - double 'paid in full'\n",
    "# (12) - double 'the 18th letter'\n",
    "# (14) - double n**** please\n",
    "# (16) - japanese characters album... And double 'AKA the rugged child'\n",
    "# (40) - drop 'the most beautifullest hits'\n",
    "# (45) - 3 straight out the jungles"
   ]
  },
  {
   "cell_type": "code",
   "execution_count": null,
   "metadata": {},
   "outputs": [],
   "source": []
  },
  {
   "cell_type": "code",
   "execution_count": null,
   "metadata": {},
   "outputs": [],
   "source": []
  },
  {
   "cell_type": "markdown",
   "metadata": {},
   "source": [
    "Same for West:"
   ]
  },
  {
   "cell_type": "code",
   "execution_count": 31,
   "metadata": {},
   "outputs": [
    {
     "name": "stderr",
     "output_type": "stream",
     "text": [
      "\r",
      "  0%|          | 0/55 [00:00<?, ?it/s]"
     ]
    },
    {
     "name": "stdout",
     "output_type": "stream",
     "text": [
      "R U Still Down? [Remember Me]\n",
      "All Eyez On Me\n",
      "Me Against The World\n"
     ]
    },
    {
     "name": "stderr",
     "output_type": "stream",
     "text": [
      "\r",
      "  2%|▏         | 1/55 [00:00<00:29,  1.84it/s]"
     ]
    },
    {
     "name": "stdout",
     "output_type": "stream",
     "text": [
      "Strictly 4 My N.I.G.G.A.Z...\n",
      "2Pacalypse Now\n"
     ]
    },
    {
     "name": "stderr",
     "output_type": "stream",
     "text": [
      "  9%|▉         | 5/55 [00:01<00:16,  3.02it/s]"
     ]
    },
    {
     "name": "stdout",
     "output_type": "stream",
     "text": [
      "Behind The Front\n"
     ]
    },
    {
     "name": "stderr",
     "output_type": "stream",
     "text": [
      " 15%|█▍        | 8/55 [00:01<00:09,  4.72it/s]"
     ]
    },
    {
     "name": "stdout",
     "output_type": "stream",
     "text": [
      "My Soul\n",
      "Gangsta's Paradise\n"
     ]
    },
    {
     "name": "stderr",
     "output_type": "stream",
     "text": [
      "\r",
      " 16%|█▋        | 9/55 [00:01<00:13,  3.45it/s]"
     ]
    },
    {
     "name": "stdout",
     "output_type": "stream",
     "text": [
      "It Takes a Thief\n"
     ]
    },
    {
     "name": "stderr",
     "output_type": "stream",
     "text": [
      "\r",
      " 20%|██        | 11/55 [00:02<00:11,  3.92it/s]"
     ]
    },
    {
     "name": "stdout",
     "output_type": "stream",
     "text": [
      "Pre-Emptive Strike\n",
      "Endtroducing.....\n"
     ]
    },
    {
     "name": "stderr",
     "output_type": "stream",
     "text": [
      "\r",
      " 24%|██▎       | 13/55 [00:02<00:08,  4.92it/s]"
     ]
    },
    {
     "name": "stdout",
     "output_type": "stream",
     "text": [
      "Future Development\n",
      "No Need For Alarm\n",
      "I Wish My Brother George Was Here\n"
     ]
    },
    {
     "name": "stderr",
     "output_type": "stream",
     "text": [
      "\r",
      " 25%|██▌       | 14/55 [00:02<00:09,  4.12it/s]"
     ]
    },
    {
     "name": "stdout",
     "output_type": "stream",
     "text": [
      "Who Got the Gravy?\n",
      "Future Rhythm\n",
      "The Body-Hat Syndrome\n"
     ]
    },
    {
     "name": "stderr",
     "output_type": "stream",
     "text": [
      "\r",
      " 27%|██▋       | 15/55 [00:03<00:13,  2.98it/s]"
     ]
    },
    {
     "name": "stdout",
     "output_type": "stream",
     "text": [
      "Sons of the P\n",
      "Sex Packets\n"
     ]
    },
    {
     "name": "stderr",
     "output_type": "stream",
     "text": [
      "\r",
      " 31%|███       | 17/55 [00:03<00:09,  3.80it/s]"
     ]
    },
    {
     "name": "stdout",
     "output_type": "stream",
     "text": [
      "2001 Instrumental\n",
      "2001\n",
      "The Chronic\n"
     ]
    },
    {
     "name": "stderr",
     "output_type": "stream",
     "text": [
      " 35%|███▍      | 19/55 [00:03<00:08,  4.28it/s]"
     ]
    },
    {
     "name": "stdout",
     "output_type": "stream",
     "text": [
      "Str8 off Tha Streetz of Muthaphukkin Compton\n",
      "Str8 off Tha Streetz of Muthaphuckin Compton\n",
      "Str8 off Tha Streetz of Muthaph**kin Compton\n"
     ]
    },
    {
     "name": "stderr",
     "output_type": "stream",
     "text": [
      "\r",
      " 36%|███▋      | 20/55 [00:04<00:11,  3.09it/s]"
     ]
    },
    {
     "name": "stdout",
     "output_type": "stream",
     "text": [
      "It's On (Dr. Dre) 187um Killa\n",
      "Eazy-Duz-It\n"
     ]
    },
    {
     "name": "stderr",
     "output_type": "stream",
     "text": [
      "\r",
      " 40%|████      | 22/55 [00:04<00:08,  3.91it/s]"
     ]
    },
    {
     "name": "stdout",
     "output_type": "stream",
     "text": [
      "Truth Crushed To Earth Shall Rise Again\n",
      "House of Pain (Fine Malt Lyrics)\n",
      "Same As It Ever Was\n"
     ]
    },
    {
     "name": "stderr",
     "output_type": "stream",
     "text": [
      "\r",
      " 44%|████▎     | 24/55 [00:04<00:07,  4.09it/s]"
     ]
    },
    {
     "name": "stdout",
     "output_type": "stream",
     "text": [
      "War & Peace\n",
      "War & Peace Vol. 1 (The War Disc)\n",
      "Lethal Injection\n",
      "The Predator\n",
      "Kill At Will\n"
     ]
    },
    {
     "name": "stderr",
     "output_type": "stream",
     "text": [
      "\r",
      " 47%|████▋     | 26/55 [00:05<00:08,  3.38it/s]"
     ]
    },
    {
     "name": "stdout",
     "output_type": "stream",
     "text": [
      "AmeriKKKa's Most Wanted\n"
     ]
    },
    {
     "name": "stderr",
     "output_type": "stream",
     "text": [
      " 53%|█████▎    | 29/55 [00:06<00:05,  4.57it/s]"
     ]
    },
    {
     "name": "stdout",
     "output_type": "stream",
     "text": [
      "Kuruption!\n"
     ]
    },
    {
     "name": "stderr",
     "output_type": "stream",
     "text": [
      "\r",
      " 56%|█████▋    | 31/55 [00:06<00:04,  4.91it/s]"
     ]
    },
    {
     "name": "stdout",
     "output_type": "stream",
     "text": [
      "Lunitik Muzik\n",
      "Operation Stackola\n",
      "Section 8 (Explicit)\n",
      "Death Threatz (feat. CMW)\n",
      "We Come Strapped (feat. CMW)\n"
     ]
    },
    {
     "name": "stderr",
     "output_type": "stream",
     "text": [
      "\r",
      " 58%|█████▊    | 32/55 [00:06<00:05,  4.09it/s]"
     ]
    },
    {
     "name": "stdout",
     "output_type": "stream",
     "text": [
      "Inside Out\n",
      "The Funky Headhunter\n",
      "Too Legit To Quit\n"
     ]
    },
    {
     "name": "stderr",
     "output_type": "stream",
     "text": [
      "\r",
      " 60%|██████    | 33/55 [00:07<00:07,  3.02it/s]"
     ]
    },
    {
     "name": "stdout",
     "output_type": "stream",
     "text": [
      "Please Hammer Don't Hurt 'Em\n",
      "Let's Get It Started\n"
     ]
    },
    {
     "name": "stderr",
     "output_type": "stream",
     "text": [
      "\r",
      " 62%|██████▏   | 34/55 [00:07<00:05,  3.80it/s]"
     ]
    },
    {
     "name": "stdout",
     "output_type": "stream",
     "text": [
      "Good Music\n",
      "F'Real\n"
     ]
    },
    {
     "name": "stderr",
     "output_type": "stream",
     "text": [
      " 65%|██████▌   | 36/55 [00:08<00:04,  3.90it/s]"
     ]
    },
    {
     "name": "stdout",
     "output_type": "stream",
     "text": [
      "G Funk Classics, Vols. 1 & 2\n"
     ]
    },
    {
     "name": "stderr",
     "output_type": "stream",
     "text": [
      "\r",
      " 69%|██████▉   | 38/55 [00:08<00:03,  4.33it/s]"
     ]
    },
    {
     "name": "stdout",
     "output_type": "stream",
     "text": [
      "Efil4zaggin\n",
      "Straight Outta Compton\n"
     ]
    },
    {
     "name": "stderr",
     "output_type": "stream",
     "text": [
      " 76%|███████▋  | 42/55 [00:08<00:02,  6.01it/s]"
     ]
    },
    {
     "name": "stdout",
     "output_type": "stream",
     "text": [
      "The Next Step\n",
      "Introduction to Mackin'\n",
      "Bigga Than Da Game\n",
      "4 Tha Hard Way\n",
      "Off Parole\n",
      "Don't Fight The Feelin'\n",
      "Trying To Survive In The Ghetto\n",
      "Rappen 4 Tay Is Back!\n",
      "Rappin' 4-Tay Is Back\n"
     ]
    },
    {
     "name": "stderr",
     "output_type": "stream",
     "text": [
      "\r",
      " 78%|███████▊  | 43/55 [00:09<00:04,  2.70it/s]"
     ]
    },
    {
     "name": "stdout",
     "output_type": "stream",
     "text": [
      "Return Of The Bumpasaurus\n",
      "Chief Boot Knocka\n",
      "Mack Daddy\n",
      "Seminar\n",
      "Swass\n"
     ]
    },
    {
     "name": "stderr",
     "output_type": "stream",
     "text": [
      " 84%|████████▎ | 46/55 [00:10<00:02,  3.36it/s]"
     ]
    },
    {
     "name": "stdout",
     "output_type": "stream",
     "text": [
      "Focus\n",
      "No Man's Land\n",
      "93 'til Infinity\n"
     ]
    },
    {
     "name": "stderr",
     "output_type": "stream",
     "text": [
      " 87%|████████▋ | 48/55 [00:11<00:02,  3.40it/s]"
     ]
    },
    {
     "name": "stdout",
     "output_type": "stream",
     "text": [
      "Labcabincalifornia\n",
      "Bizarre Ride II The Pharcyde\n"
     ]
    },
    {
     "name": "stderr",
     "output_type": "stream",
     "text": [
      "\r",
      " 91%|█████████ | 50/55 [00:11<00:01,  4.32it/s]"
     ]
    },
    {
     "name": "stdout",
     "output_type": "stream",
     "text": [
      "I Want It All\n",
      "Take A Look Over Your Shoulder (Reality)\n",
      "Regulate...G Funk Era (20th Anniversary)\n"
     ]
    },
    {
     "name": "stderr",
     "output_type": "stream",
     "text": [
      "\r",
      " 93%|█████████▎| 51/55 [00:11<00:01,  3.08it/s]"
     ]
    },
    {
     "name": "stdout",
     "output_type": "stream",
     "text": [
      "Regulate G Funk (Enhanced Reissue)\n",
      "Regulate… G Funk Era\n"
     ]
    },
    {
     "name": "stderr",
     "output_type": "stream",
     "text": [
      "\r",
      " 95%|█████████▍| 52/55 [00:12<00:00,  3.58it/s]"
     ]
    },
    {
     "name": "stdout",
     "output_type": "stream",
     "text": [
      "Bow Down\n",
      "40 Dayz & 40 Nightz (Explicit)\n",
      "At The Speed Of Life\n"
     ]
    },
    {
     "name": "stderr",
     "output_type": "stream",
     "text": [
      "\r",
      " 96%|█████████▋| 53/55 [00:12<00:00,  2.59it/s]"
     ]
    },
    {
     "name": "stdout",
     "output_type": "stream",
     "text": [
      "The Recipe\n",
      "Based On A True Story\n",
      "Mack 10\n"
     ]
    },
    {
     "name": "stderr",
     "output_type": "stream",
     "text": [
      "100%|██████████| 55/55 [00:13<00:00,  4.17it/s]\n"
     ]
    }
   ],
   "source": [
    "full_song_dict_west = {}\n",
    "\n",
    "for artist in tqdm(west_artist_ids):\n",
    "    \n",
    "    artist_id = west_artist_ids[artist]\n",
    "    \n",
    "    r = requests.get(base_url + 'artists/' + artist_id + '/albums', \n",
    "                     headers=headers, \n",
    "                     params={'include_groups': 'album', 'limit': 50})\n",
    "    d = r.json()\n",
    "    \n",
    "    artist_data = {}\n",
    "    albums = []\n",
    "\n",
    "    for album in d['items']:\n",
    "        album_name = album['name']\n",
    "\n",
    "        trim_name = album_name.split('(')[0].strip()\n",
    "        if trim_name.upper() in albums or int(album['release_date'][:4])>1999 or int(album['release_date'][:4])<1987:\n",
    "            continue\n",
    "        albums.append(trim_name.upper())\n",
    "\n",
    "        print(album_name)\n",
    "\n",
    "        r = requests.get(base_url + 'albums/' + album['id'] + '/tracks', \n",
    "            headers=headers)\n",
    "        tracks = r.json()['items']\n",
    "\n",
    "        track_names = []\n",
    "        for track in tracks:\n",
    "\n",
    "            track_name = track['name'].split(' - ')[0]\n",
    "\n",
    "            if track_name not in track_names:\n",
    "                track_names.append(track_name)\n",
    "\n",
    "        artist_data[trim_name] = track_names\n",
    "        \n",
    "    \n",
    "    full_song_dict_west[artist] = artist_data\n",
    "        "
   ]
  },
  {
   "cell_type": "code",
   "execution_count": 32,
   "metadata": {},
   "outputs": [
    {
     "data": {
      "text/plain": [
       "26"
      ]
     },
     "execution_count": 32,
     "metadata": {},
     "output_type": "execute_result"
    }
   ],
   "source": [
    "for artist in list(full_song_dict_west.keys()):\n",
    "    \n",
    "    if full_song_dict_west[artist] == {}:\n",
    "        \n",
    "        full_song_dict_west.pop(artist)\n",
    "        \n",
    "len(full_song_dict_west)"
   ]
  },
  {
   "cell_type": "markdown",
   "metadata": {},
   "source": [
    " "
   ]
  },
  {
   "cell_type": "markdown",
   "metadata": {},
   "source": [
    " "
   ]
  },
  {
   "cell_type": "code",
   "execution_count": 40,
   "metadata": {},
   "outputs": [
    {
     "data": {
      "text/plain": [
       "{'2Pac': {'R U Still Down? [Remember Me]': ['Redemption',\n",
       "   'Open Fire',\n",
       "   'R U Still Down? (Remember Me)',\n",
       "   'Hellrazor',\n",
       "   'Thug Style',\n",
       "   'Where Do We Go From Here (Interlude)',\n",
       "   'I Wonder If Heaven Got A Ghetto',\n",
       "   'Nothing To Lose',\n",
       "   \"I'm Gettin Money\",\n",
       "   'Lie To Kick It',\n",
       "   \"Fuck All Y'All\",\n",
       "   'Let Them Thangs Go',\n",
       "   'Definition Of A Thug Nigga',\n",
       "   'Ready 4 Whatever',\n",
       "   'When I Get Free',\n",
       "   'Hold On Be Strong',\n",
       "   \"I'm Losin It\",\n",
       "   'Fake Ass Bitches',\n",
       "   'Do For Love',\n",
       "   'Enemies With Me'],\n",
       "  'All Eyez On Me': ['Ambitionz Az A Ridah',\n",
       "   'All About U (ft. Nate Dogg, Snoop Dogg, Fatal, Yani Hadati)',\n",
       "   'Skandalouz (ft. Nate Dogg)',\n",
       "   'Got My Mind Made Up (ft. Dat Nigga Daz, Kurupt, Method Man, Redman)',\n",
       "   'How Do You Want It (ft. KC, Jojo)',\n",
       "   '2 Of Amerikaz Most Wanted (ft. Snoop Doggy Dog)',\n",
       "   'No More Pain',\n",
       "   'Heartz Of Men',\n",
       "   'Life Goes On',\n",
       "   \"Only God Can Judge Me (ft. Rappin' 4-Tay)\",\n",
       "   'Tradin War Stories (ft. C-BO, CPO, Outlawz, The Storm)',\n",
       "   'California Love (remix) (ft. Dr. Dre, Roger Troutman)',\n",
       "   \"I Ain't Mad At Cha (ft. Danny Boy)\",\n",
       "   'Whatz Ya Phone # (ft. Danny Boy)',\n",
       "   \"Can't C Me\",\n",
       "   'Shorty Wanna Be A Thug',\n",
       "   'Holla At Me',\n",
       "   'Wonda Why They Call U B____',\n",
       "   'When We Ride (ft. Outlaw Immortals)',\n",
       "   'Thug Passion (ft. Jewell, Outlawz, The Storm)'],\n",
       "  'Me Against The World': ['Intro',\n",
       "   'If I Die 2Nite',\n",
       "   'Me Against The World',\n",
       "   'So Many Tears',\n",
       "   'Temptations',\n",
       "   'Young Niggaz',\n",
       "   'Heavy In The Game',\n",
       "   'Lord Knows',\n",
       "   'Dear Mama',\n",
       "   \"It Ain't Easy\",\n",
       "   'Can U Get Away',\n",
       "   'Old School',\n",
       "   'Fuck The World',\n",
       "   'Death Around The Corner',\n",
       "   'Outlaw'],\n",
       "  'Strictly 4 My N.I.G.G.A.Z...': [\"Holler If Ya' Hear Me\",\n",
       "   \"Pac's Theme\",\n",
       "   'Point The Finga',\n",
       "   'Something 2 Die 4',\n",
       "   'Last Wordz',\n",
       "   \"Souljah's Revenge\",\n",
       "   'Peep Game',\n",
       "   \"Strugglin'\",\n",
       "   \"Guess Who's Back\",\n",
       "   \"Representin' 93\",\n",
       "   'Keep Ya Head Up',\n",
       "   'Strictly 4 My N.I.G.G.A.Z...',\n",
       "   'The Streetz R Deathrow',\n",
       "   'I Get Around',\n",
       "   \"Papa'z Song\",\n",
       "   '5 Deadly Venomz'],\n",
       "  '2Pacalypse Now': ['Young Black Male',\n",
       "   'Trapped',\n",
       "   \"Soulja's Story\",\n",
       "   \"I Don't Give A Fuck\",\n",
       "   'Violent',\n",
       "   'Words Of Wisdom',\n",
       "   'Something Wicked',\n",
       "   'Crooked Ass Nigga',\n",
       "   'If My Homie Calls',\n",
       "   \"Brenda's Got A Baby\",\n",
       "   \"Tha' Lunatic\",\n",
       "   'Rebel Of The Underground',\n",
       "   'Part Time Mutha']},\n",
       " 'Black Eyed Peas': {'Behind The Front': [\"Fallin' Up\",\n",
       "   'Clap Your Hands',\n",
       "   'Joints & Jam',\n",
       "   'The Way U Make Me Feel',\n",
       "   'Movement',\n",
       "   'Karma',\n",
       "   'Be Free',\n",
       "   'Say Goodbye',\n",
       "   'Duet',\n",
       "   'Communication',\n",
       "   'What It Is',\n",
       "   '?Que Dices?',\n",
       "   'A8',\n",
       "   \"Love Won't Wait\",\n",
       "   'Head Bobs',\n",
       "   'Positivity']},\n",
       " 'Coolio': {'My Soul': ['Intro',\n",
       "   '2 Minutes & 21 Seconds Of Funk',\n",
       "   \"One Mo'\",\n",
       "   'Devil is Dope',\n",
       "   \"Hit 'Em\",\n",
       "   'Knight Fall',\n",
       "   'Ooh La La',\n",
       "   'Can U Dig It',\n",
       "   'Nature of the Business',\n",
       "   'Homeboy',\n",
       "   'Throwdown 2000',\n",
       "   'Can I Get Down 1x',\n",
       "   'Interlude',\n",
       "   'My Soul',\n",
       "   \"Let's Do It\",\n",
       "   'C U When U Get There'],\n",
       "  \"Gangsta's Paradise\": [\"That's How It Is\",\n",
       "   'Geto Highlites',\n",
       "   \"Gangsta's Paradise\",\n",
       "   'Too Hot',\n",
       "   \"Cruisin'\",\n",
       "   'Exercise Yo Game',\n",
       "   \"1-2-3-4 (Sumpin' New)\",\n",
       "   \"Smilin'\",\n",
       "   'Fucc Coolio',\n",
       "   'Kinda High, Kinda Drunk',\n",
       "   'For My Sistas',\n",
       "   'Is This Me?',\n",
       "   'A Thing Going On',\n",
       "   'Bright as the Sun',\n",
       "   'Recoup This',\n",
       "   'The Revolution',\n",
       "   'Get Up Get Down'],\n",
       "  'It Takes a Thief': ['Fantastic Voyage',\n",
       "   'County Line',\n",
       "   \"Mama, I'm in Love Wit a Gangsta\",\n",
       "   'Hand on My NutsAC',\n",
       "   'Ghetto Cartoon',\n",
       "   \"Smokin' Stix\",\n",
       "   'Can-O-Corn',\n",
       "   'U Know Hoo!',\n",
       "   'It Takes a Thief',\n",
       "   'Bring Back Somethin Fo Da Hood',\n",
       "   'N Da Closet',\n",
       "   'On My Way to Harlem',\n",
       "   'Sticky Fingers',\n",
       "   'Thought You Knew',\n",
       "   'Ugly Bitches',\n",
       "   'I Remember']},\n",
       " 'DJ Shadow': {'Pre-Emptive Strike': ['Strike One',\n",
       "   'In / Flux',\n",
       "   'Hindsight',\n",
       "   'Strike Two',\n",
       "   'What Does Your Soul Look Like',\n",
       "   \"Strike Three (And I'm Out)\",\n",
       "   'High Noon',\n",
       "   'Organ Donor'],\n",
       "  'Endtroducing.....': ['Best Foot Forward',\n",
       "   'Building Steam With A Grain Of Salt',\n",
       "   'The Number Song',\n",
       "   'Changeling',\n",
       "   'Transmission 1',\n",
       "   'What Does Your Soul Look Like',\n",
       "   'Untitled',\n",
       "   'Stem / Long Stem',\n",
       "   'Transmission 2',\n",
       "   'Mutual Slump',\n",
       "   'Organ Donor',\n",
       "   \"Why Hip-Hop Sucks In '96\",\n",
       "   'Midnight In A Perfect World',\n",
       "   'Napalm Brain / Scatter Brain',\n",
       "   'Transmission 3']},\n",
       " 'Del the Funky Homosapien': {'Future Development': ['Lyric Licking',\n",
       "   'Stress The World',\n",
       "   'Why You Wanna Get Funky...',\n",
       "   \"Don't Forget The Bass\",\n",
       "   'Faulty',\n",
       "   'X-Files',\n",
       "   'Future Development',\n",
       "   'Corner Story',\n",
       "   'Love Is Worth',\n",
       "   \"Del's Nightmare\",\n",
       "   'Games Begin',\n",
       "   'Town To Town',\n",
       "   'Checkin Out The Rivalry'],\n",
       "  'No Need For Alarm': [\"You're in Shambles\",\n",
       "   'Catch a Bad One',\n",
       "   \"Wack M.C.'s\",\n",
       "   'No Need for Alarm',\n",
       "   'Boo Booheads',\n",
       "   'Treats for the Kiddies',\n",
       "   'Worldwide',\n",
       "   'No More Worries',\n",
       "   'Wrong Place',\n",
       "   'In and Out',\n",
       "   \"Don't Forget\",\n",
       "   'Miles to Go',\n",
       "   'Check It Ooout',\n",
       "   'Thank Youse'],\n",
       "  'I Wish My Brother George Was Here': ['What Is a Booty',\n",
       "   'Mistadobalina',\n",
       "   'The Wacky World of Rapid Transit',\n",
       "   \"Pissin' on Your Steps\",\n",
       "   'Dark Skin Girls',\n",
       "   'Money for Sex',\n",
       "   'Ahonetwo, Ahonetwo',\n",
       "   'Prelude',\n",
       "   'Dr. Bombay',\n",
       "   'Sunny Meadowz',\n",
       "   \"Sleepin' on My Couch\",\n",
       "   'Hoodz Come in Dozens',\n",
       "   \"Same Ol' Thing\",\n",
       "   \"Ya Lil' Crumbsnatchers\"]},\n",
       " 'Digital Underground': {'Who Got the Gravy?': ['I Shall Return',\n",
       "   'Holla Holiday',\n",
       "   'Wind Me Up',\n",
       "   'The Mission',\n",
       "   'The Odd Couple',\n",
       "   'Blind Mice',\n",
       "   'The Gravy',\n",
       "   'Peanut Hakim',\n",
       "   \"Man's Girl\",\n",
       "   'April Showers',\n",
       "   'Cyber Teeth Tigers'],\n",
       "  'Future Rhythm': ['Walk Real Kool',\n",
       "   'Glooty-Us-Maximus',\n",
       "   'Oregano Flow',\n",
       "   'Fool Get a Clue',\n",
       "   'Rumpty Rump',\n",
       "   'Food Fight',\n",
       "   'Future Rhythm',\n",
       "   'Hokis Pokis (A Classic Case)',\n",
       "   'We Got More',\n",
       "   'Hella Bump',\n",
       "   \"Stylin'\",\n",
       "   'Midnite Snack',\n",
       "   'Want It All'],\n",
       "  'The Body-Hat Syndrome': ['The Return of the Crazy One',\n",
       "   'Doo Woo You',\n",
       "   'Holly Wantstaho',\n",
       "   'Bran Nu Swetta',\n",
       "   'The Humpty Dance Awards',\n",
       "   'Body-Hats (Part One)',\n",
       "   'Dope-A-Delic (Do-U-B-Leeve-In-D-Flo?)',\n",
       "   'Intermission',\n",
       "   'Wussup Wit the Luv',\n",
       "   'Digital Lover',\n",
       "   'Carry the Way (Along Time)',\n",
       "   'Body-Hats (Part Two)',\n",
       "   'Circus Entrance',\n",
       "   'Jerkit Circus',\n",
       "   'Circus Exit (The After-Nut)',\n",
       "   'Shake & Bake',\n",
       "   'Body-Hats (Part Three)',\n",
       "   'Do Ya Like It Dirty?',\n",
       "   'Bran Nu Sweat This Beat',\n",
       "   'Wheee!'],\n",
       "  'Sons of the P': ['The DFLO Shuffle',\n",
       "   'Heartbeat Props',\n",
       "   'No Nose Job',\n",
       "   'Sons of the P',\n",
       "   \"Flowin' on the D-Line\",\n",
       "   'Kiss You Back',\n",
       "   'Tales of the Funky',\n",
       "   'The Higher Heights of Spirituality',\n",
       "   'Family of the Underground',\n",
       "   'The D-Flowstrumental',\n",
       "   \"Good Thing We're Rappin'\"],\n",
       "  'Sex Packets': ['The Humpty Dance',\n",
       "   'The Way We Swing',\n",
       "   \"Rhymin' on the Funk\",\n",
       "   'The New Jazz (One)',\n",
       "   'Underwater Rimes',\n",
       "   \"Gutfest '89\",\n",
       "   'The Danger Zone',\n",
       "   'Freaks of the Industry',\n",
       "   'Doowutchyalike',\n",
       "   'Packet Prelude',\n",
       "   'Sex Packets',\n",
       "   'Street Scene',\n",
       "   'Packet Man',\n",
       "   'Packet Reprise']},\n",
       " 'Dr. Dre': {'2001 Instrumental': ['Lolo (Intro)',\n",
       "   'The Watcher',\n",
       "   'Fuck You',\n",
       "   'Still D.R.E.',\n",
       "   \"Big Ego's\",\n",
       "   'Xxplosive',\n",
       "   \"What's The Difference\",\n",
       "   'Bar One',\n",
       "   'Light Speed',\n",
       "   'Forgot About Dre',\n",
       "   'The Next Episode',\n",
       "   \"Let's Get High\",\n",
       "   'Bitch Niggaz',\n",
       "   'Murder Ink',\n",
       "   'Some L.A. Niggaz',\n",
       "   'Pause 4 Porno',\n",
       "   'Housewife',\n",
       "   'Ackrite',\n",
       "   'Bang Bang',\n",
       "   'The Message'],\n",
       "  '2001': ['Lolo',\n",
       "   'The Watcher',\n",
       "   'Fuck You',\n",
       "   'Still D.R.E.',\n",
       "   \"Big Ego's\",\n",
       "   'Xxplosive',\n",
       "   \"What's The Difference\",\n",
       "   'Bar One',\n",
       "   'Light Speed',\n",
       "   'Forgot About Dre',\n",
       "   'The Next Episode',\n",
       "   \"Let's Get High\",\n",
       "   'Bitch Niggaz',\n",
       "   'The Car Bomb',\n",
       "   'Murder Ink',\n",
       "   'Ed-Ucation',\n",
       "   'Some L.A. Niggaz',\n",
       "   'Pause 4 Porno',\n",
       "   'Housewife',\n",
       "   'Ackrite'],\n",
       "  'The Chronic': ['The Chronic',\n",
       "   \"Fuck Wit Dre Day (And Everybody's Celebratin')\",\n",
       "   'Let Me Ride',\n",
       "   'The Day The Niggaz Took Over',\n",
       "   'Nuthin\\' But A \"G\" Thang',\n",
       "   'Deeez Nuuuts',\n",
       "   \"Lil' Ghetto Boy\",\n",
       "   'A Nigga Witta Gun',\n",
       "   'Rat-Tat-Tat-Tat',\n",
       "   'The $20 Sack Pyramid',\n",
       "   'Lyrical Gangbang',\n",
       "   'High Powered',\n",
       "   \"The Doctor's Office\",\n",
       "   'Stranded On Death Row',\n",
       "   'The Roach',\n",
       "   \"Bitches Ain't Shit\"]},\n",
       " 'Eazy-E': {'Str8 off Tha Streetz of Muthaphukkin Compton': ['First Power',\n",
       "   'Ole School Shit (feat. Gangsta Dresta, B.G. Knocc Out & Sylk)',\n",
       "   'Sorry Louie',\n",
       "   'Just Tah Let U Know',\n",
       "   'Sippin on a 40 (feat. Gangsta Dresta & B.G. Knocc Out)',\n",
       "   'Nutz on Ya Chin',\n",
       "   'Tha Muthaphukkin Real (feat. MC Ren)',\n",
       "   'Lickin, Suckin, Phukkin',\n",
       "   'Hit the Hooker',\n",
       "   \"My Baby'z Mama\",\n",
       "   'Creep n Crawl',\n",
       "   'Wut Would You Do (feat. Dirty Red)',\n",
       "   'Gangsta Beat 4tha Street (feat. Gangsta Dresta, Menajahtwa & B.G. Knocc Out)',\n",
       "   'Eternal E'],\n",
       "  'Str8 off Tha Streetz of Muthaphuckin Compton': ['First Power',\n",
       "   'Just Tah Let U Know',\n",
       "   'Sippin on a 40 (feat. Gangsta Dresta & B.G. Knocc Out)',\n",
       "   'Nutz on Ya Chin',\n",
       "   'Tha Real (feat. MC Ren)',\n",
       "   'Hit the Hooker',\n",
       "   'Creep n Crawl',\n",
       "   'Wut Would You Do (feat. Dirty Red)',\n",
       "   'Gangsta Beat 4tha Street (feat. Gangsta Dresta, Menajahtwa & B.G. Knocc Out)',\n",
       "   'Eternal E (feat. Gangsta Dresta, Menajahtwa & B.G. Knocc Out)'],\n",
       "  'Str8 off Tha Streetz of Muthaph**kin Compton': ['First Power',\n",
       "   'Just Tah Let U Know',\n",
       "   'Sippin on a 40 (feat. Gangsta Dresta & B.G. Knocc Out)',\n",
       "   'Nutz on Ya Chin',\n",
       "   'Tha Real (feat. MC Ren)',\n",
       "   'Hit the H**ker',\n",
       "   'Creep n Crawl',\n",
       "   'Wut Would You Do (feat. Dirty Red)',\n",
       "   'Gangsta Beat 4tha Street (Eat. Gangsta Dresta, Menajahtwa & B.G. Knocc Out)',\n",
       "   'Eternal E (feat. Gangsta Dresta, Menajahtwa & B.G. Knocc Out)'],\n",
       "  \"It's On\": ['Exxtra Special Thankz',\n",
       "   \"Real Muthaphuckkin G's\",\n",
       "   'Any Last Werdz',\n",
       "   'Still a Nigga',\n",
       "   'Gimmie That Nutt',\n",
       "   \"It's On\",\n",
       "   'Boyz n Tha Hood (G-Mix)',\n",
       "   'Down 2 Tha Last Roach'],\n",
       "  'Eazy-Duz-It': [\"Still Talkin'\",\n",
       "   'Nobody Move',\n",
       "   'Ruthless Villain',\n",
       "   \"2 Hard Mutha's\",\n",
       "   'Boyz-N-The-Hood',\n",
       "   'Eazy-Duz-It',\n",
       "   'We Want Eazy',\n",
       "   'Eazy-er Said Than Dunn',\n",
       "   'Radio',\n",
       "   \"No More ?'s\",\n",
       "   \"I'mma Break It Down\",\n",
       "   'Eazy']},\n",
       " 'House of Pain': {'Truth Crushed To Earth Shall Rise Again': ['The Have Nots',\n",
       "   'Fed Up',\n",
       "   \"What's That Smell\",\n",
       "   'Heart Full of Sorrow (feat. Sadat X)',\n",
       "   'Earthquake',\n",
       "   'Shut The Door',\n",
       "   'Pass The Jinn',\n",
       "   'No Doubt',\n",
       "   'Choose Your Poison',\n",
       "   'X-Files',\n",
       "   'Fed Up (feat. Guru)',\n",
       "   'Killa Rhyme Klik',\n",
       "   \"While I'm Here\"],\n",
       "  'House of Pain': ['Salutations',\n",
       "   'Jump Around',\n",
       "   'Put Your Head Out',\n",
       "   \"Top O' the Morning to Ya\",\n",
       "   'Commercial 1',\n",
       "   'House and the Rising Son',\n",
       "   'Shamrocks and Shenanigans',\n",
       "   'House of Pain Anthem',\n",
       "   'Danny Boy, Danny Boy',\n",
       "   \"Guess Who's Back\",\n",
       "   'Commercial 2',\n",
       "   'Put on Your Shit Kickers',\n",
       "   'Come and Get Some of This',\n",
       "   'Life Goes On',\n",
       "   'One for the Road',\n",
       "   'Feel It',\n",
       "   'All My Love'],\n",
       "  'Same As It Ever Was': ['Back From The Dead',\n",
       "   \"I'm A Swing It\",\n",
       "   'All That',\n",
       "   'On Point',\n",
       "   \"Runnin' Up On Ya\",\n",
       "   'Over There Shit',\n",
       "   'Word Is Bond',\n",
       "   \"Keep It Comin'\",\n",
       "   'Interlude',\n",
       "   'Same As It Ever Was',\n",
       "   \"It Ain't A Crime\",\n",
       "   \"Where I'm From\",\n",
       "   'Still Got A Lotta Love',\n",
       "   \"Who's The Man\"]},\n",
       " 'Ice Cube': {'War & Peace': ['Ask About Me',\n",
       "   \"Pushin' Weight\",\n",
       "   'Dr. Frankenstein',\n",
       "   'Fuck Dying',\n",
       "   'War And Peace',\n",
       "   'Ghetto Vet',\n",
       "   'Greed',\n",
       "   'MP',\n",
       "   'Cash Over Ass',\n",
       "   'The Curse Of Money',\n",
       "   \"The Peckin' Order\",\n",
       "   'Limos, Demos And Bimbos',\n",
       "   'Once Upon A Time In The Projects 2',\n",
       "   \"If I Was Fuckin' You\",\n",
       "   'X-Bitches',\n",
       "   'Extradition',\n",
       "   '3 Strikes You In',\n",
       "   'Penitentiary'],\n",
       "  'War & Peace Vol. 1': ['Ask About Me',\n",
       "   \"Pushin' Weight\",\n",
       "   'Dr. Frankenstein',\n",
       "   'Fuck Dying',\n",
       "   'War And Peace',\n",
       "   'Ghetto Vet',\n",
       "   'Greed',\n",
       "   'MP',\n",
       "   'Cash Over Ass',\n",
       "   'The Curse Of Money',\n",
       "   \"The Peckin' Order\",\n",
       "   'Limos, Demos And Bimbos',\n",
       "   'Once Upon A Time In The Projects 2',\n",
       "   \"If I Was Fuckin' You\",\n",
       "   'X-Bitches',\n",
       "   'Extradition',\n",
       "   '3 Strikes You In',\n",
       "   'Penitentiary'],\n",
       "  'Lethal Injection': ['The Shot',\n",
       "   'Really Doe',\n",
       "   'Ghetto Bird',\n",
       "   'You Know How We Do It',\n",
       "   'Cave Bitch',\n",
       "   'Bop Gun (One Nation)',\n",
       "   'What Can I Do?',\n",
       "   'Lil Ass Gee',\n",
       "   'Make It Ruff, Make It Smooth',\n",
       "   'Down For Whatever',\n",
       "   'Enemy',\n",
       "   'When I Get To Heaven'],\n",
       "  'The Predator': ['The First Day Of School (Intro)',\n",
       "   'When Will They Shoot?',\n",
       "   \"I'm Scared (Insert)\",\n",
       "   'Wicked',\n",
       "   \"Now I Gotta Wet 'Cha\",\n",
       "   'The Predator',\n",
       "   'It Was A Good Day',\n",
       "   'We Had To Tear This Mothafucka Up',\n",
       "   \"Fuck 'Em (Insert)\",\n",
       "   'Dirty Mack',\n",
       "   \"Don't Trust 'Em\",\n",
       "   \"Gangsta's Fairytale 2\",\n",
       "   'Check Yo Self',\n",
       "   'Who Got The Camera?',\n",
       "   'Integration (Insert)',\n",
       "   'Say Hi To The Bad Guy'],\n",
       "  'Kill At Will': ['Endangered Species (Tales From The Darkside)',\n",
       "   \"Jackin' For Beats\",\n",
       "   'Get Off My Dick And Tell Yo Bitch To Come Here',\n",
       "   'The Product',\n",
       "   'Dead Homiez',\n",
       "   \"JD's Gaffilin'\",\n",
       "   'I Gotta Say What Up!!!'],\n",
       "  \"AmeriKKKa's Most Wanted\": ['The Nigga Ya Love To Hate',\n",
       "   \"AmeriKKKa's Most Wanted\",\n",
       "   \"What They Hittin' Foe?\",\n",
       "   \"You Can't Fade Me\",\n",
       "   'Once Upon A Time In The Projects',\n",
       "   'Endangered Species (Tales From The Darkside)',\n",
       "   \"Gangsta's Fairytale\",\n",
       "   \"Rollin' Wit The Lench Mob\",\n",
       "   \"Who's The Mack?\",\n",
       "   \"It's A Man's World\",\n",
       "   'The Bomb',\n",
       "   \"Jackin' For Beats\",\n",
       "   'The Product',\n",
       "   'Dead Homiez',\n",
       "   'I Gotta Say What Up!!!']},\n",
       " 'Kurupt': {'Kuruption!': [\"This One's For U\",\n",
       "   'Make Some Noize',\n",
       "   'Put That On Something',\n",
       "   'Play My Cards',\n",
       "   'We Can Freak It',\n",
       "   'Fresh',\n",
       "   'C-Walk',\n",
       "   \"Ho's A Housewife\",\n",
       "   \"Can't Let That Slide\",\n",
       "   \"That's Gangsta\",\n",
       "   'Survive Another Day',\n",
       "   'Ask Yourself A Question',\n",
       "   \"It's A Set Up\",\n",
       "   'Light Shit Up',\n",
       "   'Game',\n",
       "   'Gimmewhutchagot',\n",
       "   'If You See Me',\n",
       "   'The Life',\n",
       "   'No Feelings',\n",
       "   \"It's Time\"]},\n",
       " 'Luniz': {'Lunitik Muzik': ['Intro',\n",
       "   'Highest N***az In The Industry',\n",
       "   \"Funkin Over Nuthin'\",\n",
       "   'In My Nature',\n",
       "   'Jus Mee & U',\n",
       "   'Game (Interlude)',\n",
       "   'My Baby Mama',\n",
       "   'Is It Kool?',\n",
       "   '$ad Millionaire',\n",
       "   'Killaz On The Payroll',\n",
       "   'Phillies',\n",
       "   'Mobb Sh..',\n",
       "   'Y Do Thugz Die',\n",
       "   'Hypnotize',\n",
       "   'Handcuff Your Hoes',\n",
       "   '20 Bluntz A Day'],\n",
       "  'Operation Stackola': ['Intro (Operation Stackola)',\n",
       "   'Put The Lead On Ya',\n",
       "   'I Got 5 On It',\n",
       "   'Broke Hos',\n",
       "   'Pimps, Playas & Hustlas',\n",
       "   'Playa Hata',\n",
       "   'Broke Niggaz',\n",
       "   'Operation Stackola',\n",
       "   '5150',\n",
       "   '900 Blame A Nigga',\n",
       "   'Yellow Brick Road',\n",
       "   'So Much Drama',\n",
       "   \"She's Just A Freak\",\n",
       "   'Plead Guilty',\n",
       "   'Outro (Operation Stackola)']},\n",
       " 'MC Eiht': {'Section 8': ['Section 8 (Intro)',\n",
       "   \"Living N' Tha Streetz\",\n",
       "   'My Life',\n",
       "   'Murder At Night',\n",
       "   'Caution',\n",
       "   'The Getaway',\n",
       "   'Automatic',\n",
       "   'Strawberriez -N- Cream',\n",
       "   'Flatline',\n",
       "   \"Dayz Of 89'\",\n",
       "   'Tha Hood Still Got Me Under',\n",
       "   'Me & My Bitch',\n",
       "   'III Tha Hood Way',\n",
       "   'Thicker Than Water',\n",
       "   'Tha Nail Shop'],\n",
       "  'Death Threatz': ['Def Wish IV (Tap That Azz)',\n",
       "   \"Ain't Nuthin' To It\",\n",
       "   'Killin Nigguz',\n",
       "   'Run 4 Your Life',\n",
       "   'Endoness',\n",
       "   'Thuggin It Up',\n",
       "   'Love 4 Tha Hood',\n",
       "   'Fuc Em All',\n",
       "   'Late Night Hype Part 2',\n",
       "   'Set Trippin',\n",
       "   'Collect My Stripez',\n",
       "   'Fuc Your Hood',\n",
       "   \"You Can't See Me\",\n",
       "   'Drugs & Killin',\n",
       "   'Killin Season'],\n",
       "  'We Come Strapped': ['Niggaz That Kill (Endolude) (feat. CMW)',\n",
       "   'Def Wish III (Intro) (feat. CMW)',\n",
       "   'Def Wish III (feat. CMW)',\n",
       "   'Take 2 With Me (feat. CMW)',\n",
       "   'All for the Money (feat. CMW)',\n",
       "   'Compton Cyco (feat. CMW)',\n",
       "   'Niggaz Make The Hood Go Round (feat. CMW)',\n",
       "   \"Nuthin' But High (Endolude) (feat. CMW)\",\n",
       "   'We Come Strapped (feat. CMW)',\n",
       "   'Can I Still Kill It (feat. CMW)',\n",
       "   \"Goin' Out Like Geez (feat. CMW)\",\n",
       "   \"Nuthin' But The Gangsta (Featuring Spice1 and Redman) (feat. CMW)\",\n",
       "   'Hard Times (feat. CMW)',\n",
       "   'Compton Bomb (feat. CMW)',\n",
       "   '2 Tha Westside (Endolude) (feat. CMW)']},\n",
       " 'MC Hammer': {'Inside Out': ['Luv-N-Happiness',\n",
       "   'Sultry Funk',\n",
       "   'Anything Goes on the Dance Floor',\n",
       "   'I Hope Things Change',\n",
       "   'Keep On',\n",
       "   'Everything Is Alright',\n",
       "   'I Need That Number',\n",
       "   \"Bustin' Loose\",\n",
       "   'Nothing but Love',\n",
       "   \"Goin' up Yonder\",\n",
       "   'He Keeps Doing Great Things for Me',\n",
       "   'A Brighter Day'],\n",
       "  'The Funky Headhunter': ['Intro',\n",
       "   'Oaktown',\n",
       "   \"It's All Good\",\n",
       "   \"Somethin' for the O.G.'s\",\n",
       "   \"Don't Stop\",\n",
       "   'Pumps and a Bump',\n",
       "   \"One Mo' Time\",\n",
       "   \"Clap Yo' Hands\",\n",
       "   \"Break 'Em off Somethin' Proper\",\n",
       "   \"Don't Fight the Feelin'\",\n",
       "   \"Somethin' 'Bout the Goldie in Me\",\n",
       "   \"Sleepin' on the Master Plan\",\n",
       "   \"It's All That\",\n",
       "   'The Funky Headhunter',\n",
       "   'Pumps and a Bump (Reprise)',\n",
       "   \"Help Lord (Won't You Come)\"],\n",
       "  'Too Legit To Quit': ['This Is The Way We Roll',\n",
       "   'Brothers Hang On',\n",
       "   '2 Legit 2 Quit',\n",
       "   'Living In A World Like This',\n",
       "   'Tell Me',\n",
       "   'Releasing Some Pressure',\n",
       "   'Find Yourself A Friend',\n",
       "   'Count It Off',\n",
       "   'Good To Go',\n",
       "   'Lovehold',\n",
       "   'Street Soldiers',\n",
       "   'Do Not Pass Me By',\n",
       "   'Gaining Momentum'],\n",
       "  \"Please Hammer Don't Hurt 'Em\": ['Here Comes The Hammer',\n",
       "   \"U Can't Touch This\",\n",
       "   'Have You Seen Her',\n",
       "   'Yo!! Sweetness',\n",
       "   'Help The Children',\n",
       "   'On Your Face',\n",
       "   \"Dancin' Machine\",\n",
       "   'Pray',\n",
       "   'Crime Story',\n",
       "   \"She's Soft And Wet\",\n",
       "   'Black Is Black',\n",
       "   'Lets Go Deeper',\n",
       "   'Work This'],\n",
       "  \"Let's Get It Started\": ['Intro: Turn This Mutha Out',\n",
       "   \"Let's Get It Started\",\n",
       "   \"Ring 'Em\",\n",
       "   'Cold Go M.C. Hammer',\n",
       "   \"You're Being Served\",\n",
       "   \"It's Gone\",\n",
       "   'They Put Me In The Mix',\n",
       "   'Son Of The King',\n",
       "   \"That's What I Said\",\n",
       "   'Feel My Power',\n",
       "   \"Pump It Up (Here's The News)\"]},\n",
       " 'Murs': {'Good Music': ['Whatuptho?',\n",
       "   'Simple',\n",
       "   '24hrs. w/ a G',\n",
       "   \"Zonin'\",\n",
       "   'L.A. Story, Pt. 1 (My Little Brother Is Crazy)',\n",
       "   'Never Eat',\n",
       "   'Regrets?',\n",
       "   \"That's Him\",\n",
       "   'L.A. Story, Pt. 2 (Freestyle / Tagbangerlude)',\n",
       "   'Room 3:16',\n",
       "   'Tomorrow',\n",
       "   'Mystical Way (Freestyle)',\n",
       "   \"Chico's Chicken\",\n",
       "   'Rap Above',\n",
       "   'Angels',\n",
       "   '2 Original',\n",
       "   'L.A. Story, Pt. 3',\n",
       "   'My Story',\n",
       "   'Murs Daywalker Intro'],\n",
       "  \"F'Real\": ['2 Reasons',\n",
       "   '8th Samurai',\n",
       "   '4 the Record',\n",
       "   'BasikMurs',\n",
       "   'Interview with the Dominant',\n",
       "   'Dominant Freestyle',\n",
       "   'M-3 (Anger)',\n",
       "   'Say Anything',\n",
       "   'The Saint',\n",
       "   'Morocco Mike',\n",
       "   'NineFive',\n",
       "   'The Maguire Song',\n",
       "   'Live My Life',\n",
       "   'Nites Like This',\n",
       "   'The Extras',\n",
       "   'Ease Back',\n",
       "   'The Sermon']},\n",
       " 'Nate Dogg': {'G Funk Classics, Vols. 1 & 2': ['Hardest Man in Town',\n",
       "   'Intro to G Funk',\n",
       "   'G Funk',\n",
       "   'First We Pray',\n",
       "   'My World',\n",
       "   'Crazy, Dangerous',\n",
       "   'These Days',\n",
       "   \"Bag O' Weed\",\n",
       "   \"Dirty Hoe's Draws\",\n",
       "   'Scared of Love',\n",
       "   'Me and My Homies',\n",
       "   'Because I Got a Girl',\n",
       "   'My Money',\n",
       "   'Never Leave Me Alone',\n",
       "   'Last Prayer',\n",
       "   'Where Are You Going?',\n",
       "   'Dedication',\n",
       "   \"Who's Playin' Games\",\n",
       "   \"I Don't Wanna Hurt No More\",\n",
       "   'Just Another Day']},\n",
       " 'N.W.A': {'Efil4zaggin': ['Prelude',\n",
       "   \"Real Niggaz Don't Die\",\n",
       "   'Niggaz 4 Life',\n",
       "   'Protest',\n",
       "   'Appetite For Destruction',\n",
       "   \"Don't Drink That Wine\",\n",
       "   \"Alwayz Into Somethin'\",\n",
       "   'Message To B.A.',\n",
       "   'Real Niggaz',\n",
       "   'To Kill A Hooker',\n",
       "   'One Less Bitch',\n",
       "   'Findum, Fuckum And Flee',\n",
       "   'Automobile',\n",
       "   'She Swallowed It',\n",
       "   \"I'd Rather Fuck You\",\n",
       "   'Approach To Danger',\n",
       "   '1-900-2-COMPTON',\n",
       "   'The Dayz Of Wayback'],\n",
       "  'Straight Outta Compton': ['Straight Outta Compton',\n",
       "   'Fuck Tha Police',\n",
       "   'Gangsta Gangsta',\n",
       "   \"If It Ain't Ruff\",\n",
       "   'Parental Discretion Iz Advised',\n",
       "   '8 Ball',\n",
       "   'Something Like That',\n",
       "   'Express Yourself',\n",
       "   \"Compton's N The House\",\n",
       "   \"I Ain't Tha 1\",\n",
       "   'Dopeman',\n",
       "   'Quiet On Tha Set',\n",
       "   'Something 2 Dance 2']},\n",
       " 'People Under The Stairs': {'The Next Step': ['Intro / 4 Everybody',\n",
       "   'Death of A Salesman',\n",
       "   'Hardcore',\n",
       "   'Wannabes',\n",
       "   'Ten Tough Guys',\n",
       "   'Mid-City Fiesta',\n",
       "   'Slow Bullet',\n",
       "   'San Francisco Knights',\n",
       "   'The Turndown (Ft. Assault)',\n",
       "   'Time To Rock Our Shit',\n",
       "   'The Tamburo 5 (Ft. Assault, Naimad, & Shine 5)',\n",
       "   'Los Angeles Daze',\n",
       "   'The Next Step II',\n",
       "   'D.A.R.E.',\n",
       "   'Asshole',\n",
       "   'Play It Again / Outro']},\n",
       " \"Rappin' 4-Tay\": {\"Introduction to Mackin'\": [\"Introduction to Mackin'\",\n",
       "   'Sweet Love',\n",
       "   \"Nothin' From Nothin'\",\n",
       "   'Get High With Me',\n",
       "   'It Only Rains Sometimes',\n",
       "   \"Pimpin' Ain't Easy\",\n",
       "   \"You Really Don't Wanna\",\n",
       "   'Get Ya Swell On',\n",
       "   'Do You Wanna Ride',\n",
       "   'Think It Over',\n",
       "   'Ho Over My Homie',\n",
       "   \"The Game Ain't Made For All Y'all\",\n",
       "   'Loop Holes',\n",
       "   'Bonnie & Clyde 2000',\n",
       "   'Throw it Up',\n",
       "   'Every Third Brother'],\n",
       "  'Bigga Than Da Game': ['What Ya Gonna Do?',\n",
       "   'All Together Row',\n",
       "   'Can Ya Feel Me',\n",
       "   'Hatin Like That',\n",
       "   \"Gangsta's World\",\n",
       "   'Spittin Game',\n",
       "   \"We Won't Stop\",\n",
       "   'Bigger Than Da Game',\n",
       "   'What Cha Know Bout This',\n",
       "   'We Getz Cloudy',\n",
       "   'Keep It Lavi',\n",
       "   'Like A Splif',\n",
       "   'Dirty Work',\n",
       "   'Perpetrating',\n",
       "   'It Takes Game',\n",
       "   'Outro',\n",
       "   'Ghetto Bluz'],\n",
       "  '4 Tha Hard Way': ['Playaz Dedication',\n",
       "   'One Nite',\n",
       "   'Beats 4 Sale',\n",
       "   \"What's Wrong Wit The Game\",\n",
       "   'Money Makes The Man',\n",
       "   \"Where You Playin' At\",\n",
       "   'Cold Blooded',\n",
       "   'Just Came Up',\n",
       "   'Back At Cha',\n",
       "   'Playa 4 Life',\n",
       "   \"What Fo'\",\n",
       "   \"Ain't Nobody Coachin'\",\n",
       "   \"Brin' The Beat Back\",\n",
       "   'Lay Ya Gunz Down',\n",
       "   'The Biggie',\n",
       "   'Shake It',\n",
       "   'Elements Of Surprize',\n",
       "   'Thinking About You',\n",
       "   '4-Tha Hard Way'],\n",
       "  'Off Parole': ['I Paid My Dues',\n",
       "   'New Trump',\n",
       "   \"A Lil' Some'em Some'em\",\n",
       "   'Check Ya Self',\n",
       "   \"Ain't No Playa (Playaz Sh*t)\",\n",
       "   'Never Talk Down',\n",
       "   '25-2-life',\n",
       "   'Boogie Bang Bang',\n",
       "   \"Comin' Back\",\n",
       "   'Hola At A Playa',\n",
       "   'Game On The Shelf',\n",
       "   'Off Parole',\n",
       "   \"Where's The Party?\",\n",
       "   'Phat Like That',\n",
       "   \"Still Ph#@*in' Wit My Folk$\",\n",
       "   \"Ain't No Playa\"],\n",
       "  \"Don't Fight The Feelin'\": ['Back Again',\n",
       "   'Dank Season',\n",
       "   'Keep One In The Chamba',\n",
       "   \"Can U Buckem'\",\n",
       "   'Just Cause I Called You A Bitch',\n",
       "   'Playaz Club',\n",
       "   \"She's A Sell Out\",\n",
       "   \"I'll Be Around\",\n",
       "   'Tear The Roof Off',\n",
       "   'Sucka Free',\n",
       "   'Call It What You Want To',\n",
       "   'I Got Cha Back',\n",
       "   'This Is What I Know',\n",
       "   'The Gift',\n",
       "   'Out 4000',\n",
       "   '[Hidden Track]'],\n",
       "  'Trying To Survive In The Ghetto': ['Intro',\n",
       "   \"Comin' Out The Cuts\",\n",
       "   'I Smell Jealousy',\n",
       "   'Call It What You Want',\n",
       "   'The Banksta',\n",
       "   \"It's Like That\",\n",
       "   'I Got My Nine',\n",
       "   'Back 2 The Shit',\n",
       "   'Kickin Real Shit',\n",
       "   'Cold Day In Hell',\n",
       "   'Outro'],\n",
       "  'Rappen 4 Tay Is Back!': ['The Intro',\n",
       "   '4-Tay Is Back',\n",
       "   \"No Stoppin'\",\n",
       "   'The Frisco Game',\n",
       "   'Only In America',\n",
       "   \"What's Really Goin' On\",\n",
       "   'The Tom & Jerry Show',\n",
       "   \"I'll Always Love Ma! Ma!\",\n",
       "   'Luv Is True',\n",
       "   'Can You Feel Me',\n",
       "   'Paranoia',\n",
       "   \"Ain't Nobody Trippin'\",\n",
       "   'The Streets Of San Francisco'],\n",
       "  \"Rappin' 4-Tay Is Back\": ['Intro',\n",
       "   '4-Tay Is Back',\n",
       "   \"No Stoppin'\",\n",
       "   'The Frisco Game',\n",
       "   'Only In America',\n",
       "   \"What's Really Goin' On\",\n",
       "   'The Tom And Jerry Show',\n",
       "   \"I'll Always Luv Ma!Ma!\",\n",
       "   'Luv Is True',\n",
       "   'Can You Feel Me',\n",
       "   'Paranoia',\n",
       "   \"Ain't Nobody Trippin'\",\n",
       "   'Streets Of San Francisco']},\n",
       " 'Sir Mix-a-Lot': {'Return Of The Bumpasaurus': ['You Can Have Her',\n",
       "   'Da Bomb',\n",
       "   \"Buckin' My Horse\",\n",
       "   'Mob Style',\n",
       "   'Top Ten List',\n",
       "   'Man U Luv Ta Hate',\n",
       "   'Bark Like You Want It',\n",
       "   'Bumpasaurus Cometh',\n",
       "   'Bumpasaurus',\n",
       "   'Denial',\n",
       "   'Aunt Thomasina',\n",
       "   'Jump On It',\n",
       "   'Aintsta',\n",
       "   'Sag',\n",
       "   'Message To A Drag Artist',\n",
       "   'Lead Yo Horse',\n",
       "   'Playthang',\n",
       "   'Funk Fo Da Blvd.',\n",
       "   'Slide'],\n",
       "  'Chief Boot Knocka': [\"Sleepin' Wit My Fonk\",\n",
       "   'Let It Beaounce',\n",
       "   'Ride',\n",
       "   'Take My Stash',\n",
       "   'Brown Shuga',\n",
       "   \"What's Real\",\n",
       "   'Double Da Pleasure',\n",
       "   \"Put 'Em On The Glass\",\n",
       "   'Chief Boot Knocka',\n",
       "   \"Don't Call Me Da Da\",\n",
       "   'Nasty Dog',\n",
       "   \"Monsta' Mack\",\n",
       "   \"Just Da Pimpin' In Me\",\n",
       "   'I Checks My Bank'],\n",
       "  'Mack Daddy': [\"One Time's Got No Case\",\n",
       "   'Mack Daddy',\n",
       "   'Baby Got Back',\n",
       "   'Swap Meet Louie',\n",
       "   \"Seatlle Ain't Bullshittin'\",\n",
       "   'Lockjaw',\n",
       "   'The Boss Is Back',\n",
       "   'Testarossa',\n",
       "   \"A Rapper's Reputation\",\n",
       "   'Sprung On The Cat',\n",
       "   'The Jack Back',\n",
       "   \"I'm Your New God\",\n",
       "   'No Holds Barred'],\n",
       "  'Seminar': ['Seminar',\n",
       "   'Beepers',\n",
       "   'National Anthem',\n",
       "   'My Hooptie',\n",
       "   'Gortex',\n",
       "   'The (Peek-A-Boo) Game',\n",
       "   'I Got Game',\n",
       "   \"I'll Roll You Up\",\n",
       "   'Something About My Benzo',\n",
       "   'My Bad Side'],\n",
       "  'Swass': [\"Buttermilk Biscuits (Keep On Square Dancin')\",\n",
       "   'Posse On Broadway',\n",
       "   'Gold',\n",
       "   'Swass',\n",
       "   \"Rippn'\",\n",
       "   'Attack On The Stars',\n",
       "   'Mall Dropper',\n",
       "   'Hip Hop Soldier',\n",
       "   'Iron Man',\n",
       "   'Bremelo',\n",
       "   'Square Dance Rap',\n",
       "   'Romantic Interlude',\n",
       "   'F The BS']},\n",
       " 'Souls of Mischief': {'Focus': ['Pay Due (feat. Tajai)',\n",
       "   'Shooting Stars (feat. Opio)',\n",
       "   'Way 2 Cold (feat. Phesto)',\n",
       "   'Groove 2 Nite (feat. Opio & Tajai)',\n",
       "   'Make Way (feat. A Plus)',\n",
       "   'We Intersect (feat. A Plus & Tajai)',\n",
       "   'A to the P (feat. A Plus)',\n",
       "   \"Bird's Eye View (feat. Opio)\",\n",
       "   'Stealth Bombing (Shift the Sands) [feat. Phesto]',\n",
       "   'Step Off (feat. A Plus)',\n",
       "   'Holler! (feat. Tajai)',\n",
       "   'Big Shit (feat. Casual, Opio & Tajai)',\n",
       "   'Maximize 3rd Eyes (feat. Phesto & Tajai)'],\n",
       "  \"No Man's Land\": ['So You Wanna Be A ...',\n",
       "   \"No Man's Land\",\n",
       "   'Rock It Like That',\n",
       "   'Secret Service',\n",
       "   'Freshdopedope',\n",
       "   'Where The F*** You At?',\n",
       "   \"'94 Via Satellite (feat. Del The Funkee Homosapien)\",\n",
       "   'Do You Want It?',\n",
       "   'Come Anew',\n",
       "   'Bumps**t',\n",
       "   \"Ya Don't Stop\",\n",
       "   'Yeah It Was You (feat. Pep Love)',\n",
       "   'Hotel, Motel',\n",
       "   'Fa Sho Fo Real',\n",
       "   \"Dirty D's Theme (Hoe Or Die)\",\n",
       "   \"Times Ain't Fair\"],\n",
       "  \"93 'til Infinity\": [\"Let 'Em Know\",\n",
       "   'Live and Let Live',\n",
       "   \"That's When Ya Lost (feat. Pep Love)\",\n",
       "   'A Name I Call Myself',\n",
       "   'Disseshowedo',\n",
       "   'What a Way to Go Out',\n",
       "   'Never No More',\n",
       "   \"93 'Til Infinity\",\n",
       "   'Limitations (feat. Casual & Del Tha Funkeé Homosapien)',\n",
       "   'Anything Can Happen',\n",
       "   'Make Your Mind Up',\n",
       "   'Batting Practice',\n",
       "   'Tell Me Who Profits',\n",
       "   'Outro']},\n",
       " 'The Pharcyde': {'Labcabincalifornia': ['Bullshit',\n",
       "   'Pharcyde',\n",
       "   'Groupie Therapy',\n",
       "   \"Runnin'\",\n",
       "   'She Said',\n",
       "   'Splattitorium',\n",
       "   \"Somethin' That Means Somethin'\",\n",
       "   'All Live',\n",
       "   'Drop',\n",
       "   'Hey You',\n",
       "   'Y?',\n",
       "   \"It's All Good!\",\n",
       "   'Moment In Time',\n",
       "   'The Hustle',\n",
       "   'Little D',\n",
       "   'Devil Music',\n",
       "   'The E.N.D.'],\n",
       "  'Bizarre Ride II The Pharcyde': ['4 Better Or 4 Worse (Interlude)',\n",
       "   'Oh Shit',\n",
       "   \"It's Jiggaboo Time (Skit)\",\n",
       "   '4 Better Or 4 Worse',\n",
       "   \"I'm That Type Of Nigga\",\n",
       "   'If I Were President (Skit)',\n",
       "   'Soul Flower',\n",
       "   'On The DL',\n",
       "   'Pack The Pipe (Interlude)',\n",
       "   'Officer',\n",
       "   'Ya Mama',\n",
       "   \"Passin' Me By\",\n",
       "   'Otha Fish',\n",
       "   \"Quinton's On The Way (Skit)\",\n",
       "   'Pack The Pipe',\n",
       "   'Return Of The B-Boy']},\n",
       " 'Warren G': {'I Want It All': ['Intro',\n",
       "   'Gangsta Love (feat. Kurupt, Nate Dogg & RBX)',\n",
       "   'Why Oh Why (feat. Daz Dillinger & Kurupt)',\n",
       "   'Dollars Make Sense (feat. Kurupt & Crucial Conflict)',\n",
       "   'I Want It All (feat. Mack 10)',\n",
       "   \"Havin' Things (feat. Jermaine Durpri & Nate Dogg)\",\n",
       "   'You Never Know (feat. Snoop Dogg, Phat Bossi & Reel Tight)',\n",
       "   'My Momma (Ola Mae)',\n",
       "   'G-Spot (feat. El Debarge & Val Young)',\n",
       "   'We Got That (feat. Eve, Drag-On & Shadow)',\n",
       "   'Dope Beat',\n",
       "   'World Wide Ryders (feat. Neb Love & K-Bar of 5 Footaz)',\n",
       "   \"Game Don't Wait (feat. Nate Dogg & Snoop Dogg)\",\n",
       "   'If We Give You a Chance (feat. Slick Rick & Phat Bossi)',\n",
       "   'I Want It All (feat. Memphis Bleek, Drag-On & Tikki Diamond)',\n",
       "   'Outro'],\n",
       "  'Take A Look Over Your Shoulder': ['Intro',\n",
       "   'Annie Mae',\n",
       "   \"Smokin' Me Out\",\n",
       "   'Reverend Eazy Dick',\n",
       "   'Reality',\n",
       "   'Interlude',\n",
       "   'Young Fun',\n",
       "   'What We Go Through',\n",
       "   'We Brings Heat',\n",
       "   'Can You Feel It',\n",
       "   'Transformers',\n",
       "   'Reel Tight Intro',\n",
       "   'Relax Ya Mind',\n",
       "   \"To All D.J.'s\",\n",
       "   'Back Up',\n",
       "   \"What's Love Got To Do With It\",\n",
       "   'I Shot The Sheriff'],\n",
       "  'Regulate...G Funk Era': ['Regulate',\n",
       "   'Do You See',\n",
       "   'Gangsta Sermon',\n",
       "   'Recognize',\n",
       "   'Super Soul Sis',\n",
       "   \"'94 Ho Draft\",\n",
       "   'So Many Ways',\n",
       "   'This D.J.',\n",
       "   'This Is The Shack',\n",
       "   \"What's Next\",\n",
       "   \"And Ya Don't Stop\",\n",
       "   \"Runnin' Wit No Breaks\"],\n",
       "  'Regulate G Funk': ['Regulate',\n",
       "   'Do You See',\n",
       "   'Gangsta Sermon',\n",
       "   'Recognize',\n",
       "   'Super Soul Sis',\n",
       "   \"'94 Ho Draft\",\n",
       "   'So Many Ways',\n",
       "   'This DJ',\n",
       "   'This Is The Shack',\n",
       "   \"What's Next\",\n",
       "   \"And Ya Don't Stop\",\n",
       "   \"Runnin' Wit No Breaks\"],\n",
       "  'Regulate… G Funk Era': ['Regulate',\n",
       "   'Do You See',\n",
       "   'Gangsta Sermon',\n",
       "   'Recognize',\n",
       "   'Super Soul Sis',\n",
       "   \"'94 Ho Draft\",\n",
       "   'So Many Ways',\n",
       "   'This D.J.',\n",
       "   'This Is The Shack',\n",
       "   \"What's Next\",\n",
       "   \"And Ya Don't Stop\",\n",
       "   \"Runnin' Wit No Breaks\"]},\n",
       " 'Westside Connection': {'Bow Down': ['World Domination',\n",
       "   'Bow Down',\n",
       "   'Gangstas Make The World Go Round',\n",
       "   'All The Critics In New York',\n",
       "   'Do You Like Criminals?',\n",
       "   \"Gangsta's Don't Dance\",\n",
       "   'The Gangsta, The Killa And The Dope Dealer',\n",
       "   \"Cross 'Em Out And Put A 'K\",\n",
       "   'King Of The Hill',\n",
       "   '3 Time Felons',\n",
       "   'Westward Ho',\n",
       "   'The Pledge',\n",
       "   \"Hoo-Bangin' (WSCG Style)\"]},\n",
       " 'Xzibit': {'40 Dayz & 40 Nightz': ['Intro (The Last Night)',\n",
       "   'Chamber Music',\n",
       "   '3 Card Molly (feat. Ras Kass & Saafir)',\n",
       "   'What U See Is What U Get',\n",
       "   'Handle Your Business (feat. Defari Herut)',\n",
       "   'Nobody Sound Like Me (feat. Montageone)',\n",
       "   'Pu**y Pop (feat. Jayo Felony & Method Man)',\n",
       "   'Chronic Keeping 101 (Interlude)',\n",
       "   'Shroomz',\n",
       "   'Focus',\n",
       "   'Jason (48 Months Interlude)',\n",
       "   'Deeper',\n",
       "   'Los Angeles Times',\n",
       "   'Inside Job',\n",
       "   'Let It Rain (feat. Tha Alkaholiks & King T)',\n",
       "   'Recycled Assassins (feat. Montageone)',\n",
       "   'Outro'],\n",
       "  'At The Speed Of Life': ['Grand Opening (Interlude)',\n",
       "   'At The Speed Of Life',\n",
       "   'Just Maintain',\n",
       "   'Eyes May Shine',\n",
       "   'Positively Negative (feat. King Tee)',\n",
       "   \"Don't Hate Me (Interlude)\",\n",
       "   'Paparazzi',\n",
       "   'The Foundation',\n",
       "   'Mrs. Crabtree (Interlude)',\n",
       "   'Birds Eye View (feat. Catashtraphe & J-Ro)',\n",
       "   'Hit & Run (Part II)',\n",
       "   'Carry The Weight',\n",
       "   'Plastic Surgery (feat. Ras Kass & Saafir)',\n",
       "   'Enemies & Friends',\n",
       "   'Last Words (Interlude)']},\n",
       " 'Mack 10': {'The Recipe': ['Intro / The Recipe / Mack 10',\n",
       "   'The Recipe',\n",
       "   \"You Ain't Seen Nothin'\",\n",
       "   'Made Niggaz',\n",
       "   'Get Yo Ride On',\n",
       "   \"Money's Just A Touch Away\",\n",
       "   'Suck Down',\n",
       "   'Get A Lil Head',\n",
       "   'For The Money',\n",
       "   'Ghetto Horror Show',\n",
       "   'LBC And The ING',\n",
       "   'Radio Insert: Funk Master Flex',\n",
       "   'Let The Games Begin',\n",
       "   '#1 Crew In The Area',\n",
       "   \"Gangsta Shit's Like A Drug\",\n",
       "   'The Letter',\n",
       "   'Should I Stay Or Should I Go',\n",
       "   'Outro / The Recipe / Mack 10'],\n",
       "  'Based On A True Story': ['Mack Manson',\n",
       "   'Chicken Hawk II',\n",
       "   'Mack 10, Mack 10',\n",
       "   'Bangin Gears (Insert)',\n",
       "   'Backyard Boogie',\n",
       "   \"Can't Stop\",\n",
       "   \"Tonight's The Night\",\n",
       "   'Aqua Boogie (Insert)',\n",
       "   'The Guppies',\n",
       "   \"Inglewood Swangin'\",\n",
       "   'Dopeman',\n",
       "   \"What You Need? (Dopeman '97)\",\n",
       "   'Only In California',\n",
       "   'Gangster Poem (Insert)',\n",
       "   'W/S Foe Life',\n",
       "   'Based On A True Story'],\n",
       "  'Mack 10': [\"Mickey D's Lick\",\n",
       "   'Foe Life',\n",
       "   'Wanted Dead',\n",
       "   'On Them Thangs',\n",
       "   'Pigeon Coup',\n",
       "   'Chicken Hawk',\n",
       "   'Here Comes The G',\n",
       "   'Westside Slaughterhouse',\n",
       "   'Niggas Dog Scrapping',\n",
       "   'Armed & Dangerous',\n",
       "   'H-O-E-K',\n",
       "   '10 Million Ways',\n",
       "   'Mozi-Wozi',\n",
       "   \"Mack 10's The Name\"]}}"
      ]
     },
     "execution_count": 40,
     "metadata": {},
     "output_type": "execute_result"
    }
   ],
   "source": [
    "full_song_dict_west"
   ]
  },
  {
   "cell_type": "code",
   "execution_count": 51,
   "metadata": {},
   "outputs": [],
   "source": [
    "with open('full_song_dict_east_HUGE.json', 'w') as fp:\n",
    "    json.dump(full_song_dict_east, fp)"
   ]
  },
  {
   "cell_type": "code",
   "execution_count": 39,
   "metadata": {},
   "outputs": [],
   "source": [
    "with open('full_song_dict_west_HUGE.json', 'w') as fp:\n",
    "    json.dump(full_song_dict_west, fp)"
   ]
  },
  {
   "cell_type": "code",
   "execution_count": null,
   "metadata": {},
   "outputs": [],
   "source": []
  }
 ],
 "metadata": {
  "kernelspec": {
   "display_name": "Python 3",
   "language": "python",
   "name": "python3"
  },
  "language_info": {
   "codemirror_mode": {
    "name": "ipython",
    "version": 3
   },
   "file_extension": ".py",
   "mimetype": "text/x-python",
   "name": "python",
   "nbconvert_exporter": "python",
   "pygments_lexer": "ipython3",
   "version": "3.8.3"
  }
 },
 "nbformat": 4,
 "nbformat_minor": 4
}
