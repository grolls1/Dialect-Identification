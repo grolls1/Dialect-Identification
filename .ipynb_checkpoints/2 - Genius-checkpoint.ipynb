{
 "cells": [
  {
   "cell_type": "code",
   "execution_count": 7,
   "metadata": {},
   "outputs": [],
   "source": [
    "import requests\n",
    "import urllib.request, urllib.parse\n",
    "import json\n",
    "from pprint import pprint\n",
    "from bs4 import BeautifulSoup\n",
    "import re\n",
    "from tqdm import tqdm\n",
    "import numpy as np\n",
    "import pandas as pd\n",
    "from time import time"
   ]
  },
  {
   "cell_type": "markdown",
   "metadata": {},
   "source": [
    "url formats for genius API requests:\n",
    "\n",
    "Song: https://api.genius.com/songs/[song_api_id]  \n",
    "Artist: https://api.genius.com/artists/[artist_api_id]  \n",
    "Search: https://api.genius.com/search?q=[search_term]"
   ]
  },
  {
   "cell_type": "code",
   "execution_count": 8,
   "metadata": {},
   "outputs": [],
   "source": [
    "client_access_token = 'GNQKuuEfZCQ2zcB7axX9IXBr3Q_DQsm08Grhqz9UXx7vKz4yJYYMvLHHVYCALm0x'"
   ]
  },
  {
   "cell_type": "code",
   "execution_count": 9,
   "metadata": {},
   "outputs": [],
   "source": [
    "params = {'access_token':'GNQKuuEfZCQ2zcB7axX9IXBr3Q_DQsm08Grhqz9UXx7vKz4yJYYMvLHHVYCALm0x',\n",
    "         'client_id':'Csa2S0VYHtT1lwuGTMaEmIt-2aa8gKh3386Hy7Ld-GGjhVTRam4wcgUfHJEpFmfb'}"
   ]
  },
  {
   "cell_type": "code",
   "execution_count": null,
   "metadata": {},
   "outputs": [],
   "source": []
  },
  {
   "cell_type": "code",
   "execution_count": 10,
   "metadata": {},
   "outputs": [],
   "source": [
    "full_song_dict_east = json.load(open('full_song_dict_east_HUGE.json'))\n",
    "rappers_east = list(full_song_dict_east.keys())\n",
    "\n",
    "full_song_dict_west = json.load(open('full_song_dict_west_HUGE.json'))\n",
    "rappers_west = list(full_song_dict_west.keys())"
   ]
  },
  {
   "cell_type": "code",
   "execution_count": null,
   "metadata": {},
   "outputs": [],
   "source": []
  },
  {
   "cell_type": "code",
   "execution_count": 11,
   "metadata": {},
   "outputs": [],
   "source": [
    "##### WEST #####"
   ]
  },
  {
   "cell_type": "code",
   "execution_count": 12,
   "metadata": {},
   "outputs": [],
   "source": [
    "# have to explain why there's the counter --- why is it that sometimes the scrape doesn't work first time?"
   ]
  },
  {
   "cell_type": "code",
   "execution_count": 13,
   "metadata": {},
   "outputs": [],
   "source": [
    "lyrics_west = {} # will collect lyrics with rappers as keys\n",
    "errors_west = [] # collect errors- repeat scrape (where the request is valid but doesn't work) and investigate invalid\n",
    "rogue_errors_west = [] # ?\n",
    "\n",
    "# iterating over all (west coast) rapper names\n",
    "for artist in tqdm(rappers_west):    \n",
    "    \n",
    "    # get the artist name in the correct format for genius urls (e.g. ).\n",
    "    artist_search = re.sub(\"[.\\(\\)\\']\", '', artist).lower().capitalize().replace('&','and')\n",
    "    artist_search = artist_search.replace('$','s').replace('-',' ').replace(' ','-')\n",
    "    \n",
    "    if artist == 'Paris':\n",
    "        artist_search = 'Paris-rap' # an irregularity in the genius url formatting, due to common artist name\n",
    "    \n",
    "    try:\n",
    "        art_lyr = []\n",
    "        # iterating over each collection of song titles (album) for this artist\n",
    "        for album in list(full_song_dict_west[artist].values()):\n",
    "\n",
    "            for song in tqdm(album):\n",
    "                \n",
    "                # getting the song title into genius url format\n",
    "                song_search = re.sub(\"[.\\(\\)\\'\\#\\\"\\,\\!\\:\\[\\]]\", '', song).lower().replace('&','and')\n",
    "                while '  ' in song_search: \n",
    "                    song_search = song_search.replace('  ',' ')\n",
    "                song_search = re.sub(\"[\\-\\:]\", \" \", song_search).replace('$','s').replace(' ','-')\n",
    "                song_search = song_search.split('-feat')[0].split('-ft-')[0].split('feat-')[0]\n",
    "\n",
    "                # using the re-formatted rapper and song names to create the url for the Genius lyrics scraping\n",
    "                url = ('https://genius.com/' + artist_search + '-' + song_search + '-lyrics').replace('--','-')\n",
    "\n",
    "                still_going = True # set to false once the lyrics have been successfully scraped\n",
    "                count = 0 # counter for the number of attempts to scrape the lyrics to a particular song\n",
    "                while still_going and (count < 4): \n",
    "                # once the scrape is successful or has been attempted 4 times, this while loop breaks.\n",
    "\n",
    "                    try:\n",
    "                        # pushing the request; using beautiful soup to find the lyrics within the html code\n",
    "                        r = requests.get(url)\n",
    "                        soup = BeautifulSoup(r.text, \"html.parser\")\n",
    "\n",
    "                        lyr = soup.find(\"div\", class_=\"lyrics\").text\n",
    "                        lyr = re.sub('\\[.*?]','', lyr) # [Verse], [Bridge], etc. removed\n",
    "                        lyr = re.sub('\\n{2}','',lyr)  # Remove gaps between verses\n",
    "                        lyr = str(lyr).strip('\\n')\n",
    "                        \n",
    "                        art_lyr.append(lyr) # lyrics appended to a list of lyrics for this artist\n",
    "                        still_going = False\n",
    "\n",
    "                        \n",
    "                    except ConnectionError:\n",
    "                        \n",
    "                        print('ConnectionError')\n",
    "                        start = time()\n",
    "                        while time() - start < 10:\n",
    "                            continue\n",
    "                        \n",
    "                    except AttributeError as a:\n",
    "                        # unsuccessful scrape (not due to my dodgy internet...)\n",
    "                        count += 1\n",
    "\n",
    "                        if count == 4:\n",
    "                            errors_west.append([artist, song, song_search]) # store details of unsuccessful entries\n",
    "                            print(f'attribute error:\\n{a}')\n",
    "                            \n",
    "                    except Exception as e:\n",
    "                        # storing other errors --- to investigate.\n",
    "                        rogue_errors_west.append([artist, song, song_search])\n",
    "                        print(f'Rogue exception: {e}')\n",
    "                            \n",
    "        lyrics_west[artist] = art_lyr  \n",
    "            \n",
    "    except:\n",
    "        continue\n",
    "        \n",
    "        "
   ]
  },
  {
   "cell_type": "code",
   "execution_count": 17,
   "metadata": {},
   "outputs": [
    {
     "name": "stdout",
     "output_type": "stream",
     "text": [
      "2Pac --- 76 --- 84\n",
      "Andre Nickatina --- 28 --- 46\n",
      "Coolio --- 44 --- 49\n",
      "Del the Funky Homosapien --- 35 --- 41\n",
      "Digital Underground --- 50 --- 69\n",
      "Dr. Dre --- 49 --- 56\n",
      "Eazy-E --- 43 --- 54\n",
      "House of Pain --- 43 --- 44\n",
      "Ice Cube --- 66 --- 86\n",
      "Luniz --- 22 --- 31\n",
      "MC Eiht --- 39 --- 45\n",
      "MC Hammer --- 36 --- 65\n",
      "MC Ren --- 18 --- 34\n",
      "N.W.A --- 29 --- 31\n",
      "Paris --- 38 --- 55\n",
      "People Under The Stairs --- 7 --- 16\n",
      "Ras Kass --- 24 --- 31\n",
      "Saafir --- 18 --- 46\n",
      "The Pharcyde --- 30 --- 33\n",
      "Kurupt --- 19 --- 20\n",
      "Sir Mix-a-Lot --- 51 --- 69\n",
      "Skee-Lo --- 10 --- 11\n",
      "Souls of Mischief --- 28 --- 43\n",
      "N.W.A. --- 30 --- 31\n",
      "Too $hort --- 84 --- 93\n",
      "Cypress Hill --- 56 --- 63\n",
      "Kid Frost --- 11 --- 38\n",
      "Warren G --- 63 --- 69\n",
      "Compton's Most Wanted --- 38 --- 57\n",
      "Nate Dogg --- 17 --- 20\n",
      "Ice-T --- 79 --- 95\n",
      "Westside Connection --- 9 --- 13\n",
      "Blackalicious --- 16 --- 18\n",
      "Aceyalone --- 13 --- 36\n",
      "Tha Alkaholiks --- 37 --- 41\n",
      "B-Legit --- 23 --- 42\n",
      "Mack 10 --- 36 --- 48\n",
      "Hieroglyphics --- 18 --- 20\n"
     ]
    }
   ],
   "source": [
    "# check how many lyrics have been successfully scraped for each rapper\n",
    "\n",
    "for artist in lyrics_west:\n",
    "    \n",
    "    songs = []\n",
    "    for album in full_song_dict_west[artist]:\n",
    "        songs.extend(full_song_dict_west[artist][album])\n",
    "    \n",
    "    print(artist, '---', len(lyrics_west[artist]), '---', len(songs))"
   ]
  },
  {
   "cell_type": "code",
   "execution_count": null,
   "metadata": {},
   "outputs": [],
   "source": []
  },
  {
   "cell_type": "code",
   "execution_count": null,
   "metadata": {},
   "outputs": [],
   "source": []
  },
  {
   "cell_type": "code",
   "execution_count": 20,
   "metadata": {},
   "outputs": [],
   "source": [
    "# save the lyrics\n",
    "with open('lyrics_west_HUGE.json', 'w') as fp:\n",
    "    json.dump(lyrics_west, fp)"
   ]
  },
  {
   "cell_type": "code",
   "execution_count": null,
   "metadata": {},
   "outputs": [],
   "source": []
  },
  {
   "cell_type": "code",
   "execution_count": null,
   "metadata": {},
   "outputs": [],
   "source": []
  },
  {
   "cell_type": "code",
   "execution_count": null,
   "metadata": {},
   "outputs": [],
   "source": []
  },
  {
   "cell_type": "code",
   "execution_count": null,
   "metadata": {},
   "outputs": [],
   "source": []
  },
  {
   "cell_type": "code",
   "execution_count": 23,
   "metadata": {},
   "outputs": [],
   "source": [
    "##### EAST ######"
   ]
  },
  {
   "cell_type": "markdown",
   "metadata": {},
   "source": [
    "same code explanation."
   ]
  },
  {
   "cell_type": "code",
   "execution_count": null,
   "metadata": {},
   "outputs": [],
   "source": [
    "lyrics_east = {}\n",
    "errors_east = []\n",
    "rogue_errors_east = []\n",
    "\n",
    "global artist\n",
    "for artist in tqdm(rappers_east):    \n",
    "    \n",
    "    artist_search = re.sub(\"[.\\(\\)\\']\", '', artist).lower().capitalize().replace('&','and')\n",
    "    artist_search = artist_search.replace('$','s').replace('-',' ').replace(' ','-')\n",
    "\n",
    "    \n",
    "    try:\n",
    "        art_lyr = []\n",
    "        for album in list(full_song_dict_east[artist].values()):\n",
    "\n",
    "            global song\n",
    "            for song in tqdm(album):\n",
    "                \n",
    "                song_search = re.sub(\"[.\\(\\)\\'\\#\\\"\\,\\!\\:\\[\\]]\", '', song).lower().replace('&','and')\n",
    "                while '  ' in song_search:\n",
    "                    song_search = song_search.replace('  ',' ')\n",
    "                song_search = re.sub(\"[\\-\\:]\", \" \", song_search).replace('$','s').replace(' ','-')\n",
    "                song_search = song_search.split('-feat')[0].split('-ft-')[0].split('feat-')[0]\n",
    "\n",
    "\n",
    "                url = ('https://genius.com/' + artist_search + '-' + song_search + '-lyrics').replace('--','-')\n",
    "\n",
    "                still_going = True\n",
    "                count = 0\n",
    "                while still_going and (count < 4):\n",
    "\n",
    "                    try:\n",
    "                        r = requests.get(url)\n",
    "                        soup = BeautifulSoup(r.text, \"html.parser\")\n",
    "\n",
    "                        lyr = soup.find(\"div\", class_=\"lyrics\").text\n",
    "                        lyr = re.sub('\\[.*?]','', lyr)\n",
    "                        lyr = re.sub('\\n{2}','',lyr)\n",
    "                        lyr = str(lyr).strip('\\n')\n",
    "                        \n",
    "                        art_lyr.append(lyr)\n",
    "                        still_going = False\n",
    "\n",
    "                        \n",
    "                    except ConnectionError:\n",
    "                        \n",
    "                        print('ConnectionError')\n",
    "                        start = time()\n",
    "                        while time() - start < 10:\n",
    "                            continue\n",
    "                        \n",
    "                    except AttributeError as a:\n",
    "                        count += 1\n",
    "\n",
    "                        if count == 4:\n",
    "                            errors_east.append([artist, song, song_search])\n",
    "                            print(f'attribute error:\\n{a}')\n",
    "                            \n",
    "                    except Exception as e:\n",
    "                        rogue_errors_east.append([artist, song, song_search])\n",
    "                        print(f'Rogue exception: {e}')\n",
    "                            \n",
    "        lyrics_east[artist] = art_lyr       \n",
    "            \n",
    "    except:\n",
    "        continue\n",
    "\n",
    "    "
   ]
  },
  {
   "cell_type": "code",
   "execution_count": 26,
   "metadata": {},
   "outputs": [
    {
     "name": "stdout",
     "output_type": "stream",
     "text": [
      "Cappadonna --- 26 --- 28\n",
      "Grandmaster Caz --- 2 --- 10\n",
      "Ghostface Killah --- 27 --- 29\n",
      "GZA --- 27 --- 31\n",
      "Inspectah Deck --- 16 --- 17\n",
      "Kool Moe Dee --- 31 --- 35\n",
      "KRS-One --- 36 --- 47\n",
      "Big L --- 10 --- 12\n",
      "Craig Mack --- 10 --- 24\n",
      "Method Man --- 58 --- 71\n",
      "Mos Def --- 16 --- 17\n",
      "Nas --- 75 --- 90\n",
      "The Notorious B.I.G. --- 53 --- 57\n",
      "Ol' Dirty Bastard --- 43 --- 44\n",
      "Pete Rock --- 14 --- 37\n",
      "Raekwon --- 32 --- 38\n",
      "Rakim --- 38 --- 47\n",
      "RZA --- 19 --- 20\n",
      "Eric B. & Rakim --- 49 --- 53\n",
      "AZ --- 22 --- 26\n",
      "Lauryn Hill --- 16 --- 16\n",
      "Queen Latifah --- 40 --- 54\n",
      "Wu-Tang Clan --- 26 --- 62\n",
      "A Tribe Called Quest --- 73 --- 78\n",
      "Mobb Deep --- 69 --- 81\n",
      "Redman --- 69 --- 98\n",
      "Gang Starr --- 73 --- 85\n",
      "Shyheim --- 49 --- 72\n",
      "Heltah Skeltah --- 26 --- 36\n",
      "O.G.C. --- 24 --- 32\n",
      "Black Moon --- 23 --- 25\n",
      "Big Daddy Kane --- 85 --- 101\n",
      "Fugees --- 32 --- 37\n",
      "Smif-N-Wessun --- 15 --- 16\n",
      "Brand Nubian --- 53 --- 66\n",
      "Lord Finesse --- 24 --- 32\n",
      "Showbiz and A.G. --- 33 --- 42\n",
      "Das EFX --- 52 --- 57\n",
      "EPMD --- 75 --- 83\n",
      "Bahamadia --- 11 --- 14\n",
      "Jeru the Damaja --- 23 --- 28\n",
      "Grand puba --- 23 --- 26\n",
      "Bush Babees --- 7 --- 14\n",
      "Group Home --- 24 --- 30\n",
      "Slick Rick --- 46 --- 53\n",
      "Pete Rock & C.L. Smooth --- 0 --- 37\n",
      "Keith Murray --- 46 --- 61\n",
      "Digable Planets --- 24 --- 27\n",
      "Masta Ace --- 14 --- 15\n",
      "Jungle brothers --- 39 --- 55\n"
     ]
    }
   ],
   "source": [
    "for artist in lyrics_east:\n",
    "    \n",
    "    songs = []\n",
    "    for album in full_song_dict_east[artist]:\n",
    "        songs.extend(full_song_dict_east[artist][album])\n",
    "    \n",
    "    print(artist, '---', len(lyrics_east[artist]), '---', len(songs))"
   ]
  },
  {
   "cell_type": "code",
   "execution_count": 27,
   "metadata": {},
   "outputs": [],
   "source": [
    "with open('lyrics_east_HUGE.json', 'w') as fp:\n",
    "    json.dump(lyrics_east, fp)"
   ]
  },
  {
   "cell_type": "code",
   "execution_count": null,
   "metadata": {},
   "outputs": [],
   "source": []
  },
  {
   "cell_type": "code",
   "execution_count": null,
   "metadata": {},
   "outputs": [],
   "source": []
  },
  {
   "cell_type": "code",
   "execution_count": null,
   "metadata": {},
   "outputs": [],
   "source": []
  },
  {
   "cell_type": "code",
   "execution_count": 30,
   "metadata": {},
   "outputs": [],
   "source": [
    "pd.DataFrame(errors_east).to_csv('errors_east_HUGE')"
   ]
  },
  {
   "cell_type": "code",
   "execution_count": 31,
   "metadata": {},
   "outputs": [],
   "source": [
    "pd.DataFrame(errors_west).to_csv('errors_west_HUGE')"
   ]
  },
  {
   "cell_type": "code",
   "execution_count": null,
   "metadata": {},
   "outputs": [],
   "source": []
  },
  {
   "cell_type": "code",
   "execution_count": null,
   "metadata": {},
   "outputs": [],
   "source": []
  },
  {
   "cell_type": "code",
   "execution_count": 14,
   "metadata": {},
   "outputs": [],
   "source": [
    "errors_eas = pd.read_csv('errors_east_HUGE').drop('Unnamed: 0', axis=1)\n",
    "errors_wes = pd.read_csv('errors_west_HUGE').drop('Unnamed: 0', axis=1)\n",
    "\n",
    "lyrics_east = json.load(open('lyrics_east_HUGE.json'))\n",
    "lyrics_west = json.load(open('lyrics_west_HUGE.json'))\n",
    "\n",
    "errors_east = [list(errors_eas.iloc[i].values) for i in range(len(errors_eas))]\n",
    "errors_west = [list(errors_wes.iloc[i].values) for i in range(len(errors_wes))]"
   ]
  },
  {
   "cell_type": "code",
   "execution_count": null,
   "metadata": {},
   "outputs": [],
   "source": []
  },
  {
   "cell_type": "code",
   "execution_count": null,
   "metadata": {},
   "outputs": [],
   "source": []
  },
  {
   "cell_type": "code",
   "execution_count": null,
   "metadata": {},
   "outputs": [],
   "source": []
  },
  {
   "cell_type": "code",
   "execution_count": 23,
   "metadata": {},
   "outputs": [
    {
     "name": "stdout",
     "output_type": "stream",
     "text": [
      "Snoop Dogg\n",
      "Tha Dogg Pound\n",
      "mac Dre\n",
      "Outlawz\n",
      "Gift of Gab\n",
      "Jurassic 5\n",
      "Keak da Sneak\n",
      "Big Syke\n",
      "Shock G\n"
     ]
    }
   ],
   "source": [
    "for artist in list(full_song_dict_west.keys()):\n",
    "    \n",
    "    if len(full_song_dict_west[artist]) == 0:\n",
    "        print(artist)\n",
    "        \n",
    "# drop these from the west coast lyrics dictionary"
   ]
  },
  {
   "cell_type": "code",
   "execution_count": 24,
   "metadata": {},
   "outputs": [
    {
     "name": "stdout",
     "output_type": "stream",
     "text": [
      "50 Cent\n",
      "MF DOOM\n",
      "Cormega\n",
      "De La Soul\n"
     ]
    }
   ],
   "source": [
    "for artist in list(full_song_dict_east.keys()):\n",
    "    \n",
    "    if len(full_song_dict_east[artist]) == 0:\n",
    "        print(artist)\n",
    "        \n",
    "# likewise for the east coast lyrics dictionary"
   ]
  },
  {
   "cell_type": "code",
   "execution_count": null,
   "metadata": {},
   "outputs": [],
   "source": []
  }
 ],
 "metadata": {
  "kernelspec": {
   "display_name": "Python 3",
   "language": "python",
   "name": "python3"
  },
  "language_info": {
   "codemirror_mode": {
    "name": "ipython",
    "version": 3
   },
   "file_extension": ".py",
   "mimetype": "text/x-python",
   "name": "python",
   "nbconvert_exporter": "python",
   "pygments_lexer": "ipython3",
   "version": "3.8.3"
  }
 },
 "nbformat": 4,
 "nbformat_minor": 4
}
