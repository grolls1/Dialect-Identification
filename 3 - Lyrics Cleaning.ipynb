{
 "cells": [
  {
   "cell_type": "code",
   "execution_count": 3,
   "metadata": {},
   "outputs": [],
   "source": [
    "import pandas as pd\n",
    "import numpy as np\n",
    "import requests\n",
    "import json\n",
    "import matplotlib.pyplot as plt\n",
    "import seaborn as sns\n",
    "import re\n",
    "import string\n",
    "import nltk\n",
    "from nltk.corpus import stopwords\n",
    "from nltk.stem import PorterStemmer\n",
    "\n",
    "plt.style.use('fivethirtyeight')\n",
    "\n",
    "%config InlineBackend.figure_format = 'retina'\n",
    "%matplotlib inline"
   ]
  },
  {
   "cell_type": "code",
   "execution_count": 27,
   "metadata": {},
   "outputs": [],
   "source": [
    "lyrics_east = json.load(open('lyrics_east_HUGE.json'))\n",
    "lyrics_west = json.load(open('lyrics_west_HUGE.json'))"
   ]
  },
  {
   "cell_type": "code",
   "execution_count": 29,
   "metadata": {},
   "outputs": [],
   "source": [
    "# turning the lyrics dictionaries into dataframes - one for each coast.\n",
    "\n",
    "# max number of song entries belonging to one rapper (over all rappers, east and west)\n",
    "# this is needed to ensure the dataframe has a common dimensionality\n",
    "max_len = max(\n",
    "    [len(lyrics_east[artist]) for artist in list(lyrics_east.keys())] + \n",
    "    [len(lyrics_west[artist]) for artist in list(lyrics_west.keys())]\n",
    ")\n",
    "\n",
    "# the max number of songs is used to fill the remaining entries for each rapper with nulls\n",
    "east_lyrics_frame = pd.DataFrame([\n",
    "    lyrics_east[artist] + [np.nan]*(max_len - len(lyrics_east[artist])) for artist in list(lyrics_east.keys())\n",
    "], index=list(lyrics_east.keys())).T\n",
    "\n",
    "west_lyrics_frame = pd.DataFrame([\n",
    "    lyrics_west[artist] + [np.nan]*(max_len - len(lyrics_west[artist])) for artist in list(lyrics_west.keys())\n",
    "], index=list(lyrics_west.keys())).T"
   ]
  },
  {
   "cell_type": "code",
   "execution_count": null,
   "metadata": {},
   "outputs": [],
   "source": []
  },
  {
   "cell_type": "markdown",
   "metadata": {},
   "source": [
    "creating a new dataframe, with each row entry containing the rapper name, the lyrics, and the relevant coast."
   ]
  },
  {
   "cell_type": "code",
   "execution_count": 32,
   "metadata": {},
   "outputs": [],
   "source": [
    "entries = []\n",
    "\n",
    "for artist in list(east_lyrics_frame.columns):\n",
    "    \n",
    "    for song in east_lyrics_frame[artist].dropna():\n",
    "        \n",
    "        entries.append([artist, song, 'east'])\n",
    "        \n",
    "east_frame = pd.DataFrame(entries, columns=['artist', 'lyrics', 'coast'])"
   ]
  },
  {
   "cell_type": "code",
   "execution_count": 33,
   "metadata": {},
   "outputs": [],
   "source": [
    "entries = []\n",
    "\n",
    "for artist in list(west_lyrics_frame.columns):\n",
    "    \n",
    "    for song in west_lyrics_frame[artist].dropna():\n",
    "        \n",
    "        entries.append([artist, song, 'west'])\n",
    "        \n",
    "west_frame = pd.DataFrame(entries, columns=['artist', 'lyrics', 'coast'])"
   ]
  },
  {
   "cell_type": "code",
   "execution_count": 34,
   "metadata": {},
   "outputs": [],
   "source": [
    "whole_frame = pd.concat([east_frame, west_frame], axis=0, join='outer')\n",
    "whole_frame.reset_index(drop=True, inplace=True)"
   ]
  },
  {
   "cell_type": "code",
   "execution_count": 35,
   "metadata": {},
   "outputs": [
    {
     "data": {
      "text/html": [
       "<div>\n",
       "<style scoped>\n",
       "    .dataframe tbody tr th:only-of-type {\n",
       "        vertical-align: middle;\n",
       "    }\n",
       "\n",
       "    .dataframe tbody tr th {\n",
       "        vertical-align: top;\n",
       "    }\n",
       "\n",
       "    .dataframe thead th {\n",
       "        text-align: right;\n",
       "    }\n",
       "</style>\n",
       "<table border=\"1\" class=\"dataframe\">\n",
       "  <thead>\n",
       "    <tr style=\"text-align: right;\">\n",
       "      <th></th>\n",
       "      <th>artist</th>\n",
       "      <th>lyrics</th>\n",
       "      <th>coast</th>\n",
       "    </tr>\n",
       "  </thead>\n",
       "  <tbody>\n",
       "    <tr>\n",
       "      <th>3017</th>\n",
       "      <td>Hieroglyphics</td>\n",
       "      <td>Yes, yes, yes; yesHa, ha, ha, ha, ha, ha, ha\\n...</td>\n",
       "      <td>west</td>\n",
       "    </tr>\n",
       "    <tr>\n",
       "      <th>3018</th>\n",
       "      <td>Hieroglyphics</td>\n",
       "      <td>Pep Love\\nHieroglyphics y'all, what?\\nThe mic'...</td>\n",
       "      <td>west</td>\n",
       "    </tr>\n",
       "    <tr>\n",
       "      <th>3019</th>\n",
       "      <td>Hieroglyphics</td>\n",
       "      <td>Yeah, yeah\\nWhat's goin downS.O.M., where we a...</td>\n",
       "      <td>west</td>\n",
       "    </tr>\n",
       "    <tr>\n",
       "      <th>3020</th>\n",
       "      <td>Hieroglyphics</td>\n",
       "      <td>Del meister, 'bout to heist ya, hijack ya, com...</td>\n",
       "      <td>west</td>\n",
       "    </tr>\n",
       "    <tr>\n",
       "      <th>3021</th>\n",
       "      <td>Hieroglyphics</td>\n",
       "      <td>Drop some new shit on 'em them\\nLet's drop som...</td>\n",
       "      <td>west</td>\n",
       "    </tr>\n",
       "  </tbody>\n",
       "</table>\n",
       "</div>"
      ],
      "text/plain": [
       "             artist                                             lyrics coast\n",
       "3017  Hieroglyphics  Yes, yes, yes; yesHa, ha, ha, ha, ha, ha, ha\\n...  west\n",
       "3018  Hieroglyphics  Pep Love\\nHieroglyphics y'all, what?\\nThe mic'...  west\n",
       "3019  Hieroglyphics  Yeah, yeah\\nWhat's goin downS.O.M., where we a...  west\n",
       "3020  Hieroglyphics  Del meister, 'bout to heist ya, hijack ya, com...  west\n",
       "3021  Hieroglyphics  Drop some new shit on 'em them\\nLet's drop som...  west"
      ]
     },
     "execution_count": 35,
     "metadata": {},
     "output_type": "execute_result"
    }
   ],
   "source": [
    "whole_frame.tail()"
   ]
  },
  {
   "cell_type": "code",
   "execution_count": null,
   "metadata": {},
   "outputs": [],
   "source": []
  },
  {
   "cell_type": "code",
   "execution_count": null,
   "metadata": {},
   "outputs": [],
   "source": []
  },
  {
   "cell_type": "code",
   "execution_count": null,
   "metadata": {},
   "outputs": [],
   "source": []
  },
  {
   "cell_type": "code",
   "execution_count": null,
   "metadata": {},
   "outputs": [],
   "source": []
  },
  {
   "cell_type": "markdown",
   "metadata": {},
   "source": [
    "**Apply the basic clean function**"
   ]
  },
  {
   "cell_type": "code",
   "execution_count": 6,
   "metadata": {},
   "outputs": [],
   "source": [
    "def basic_clean(lyric):\n",
    "    #A basic lyric cleaning function\n",
    "    \n",
    "    try:\n",
    "        lyric = re.sub('[%s]' % string.punctuation, '', lyric) # remove punctuation\n",
    "        lyric = re.sub('\\w*\\d\\w*', '', lyric) # remove numbers and words with numbers in them\n",
    "        lyric = re.sub('\\\\n', ' ', lyric).lower() # remove new line characters\n",
    "        \n",
    "    except:\n",
    "        pass\n",
    "    \n",
    "    return lyric"
   ]
  },
  {
   "cell_type": "code",
   "execution_count": 36,
   "metadata": {},
   "outputs": [],
   "source": [
    "clean_frame = whole_frame.copy()\n",
    "clean_frame['lyrics'] = whole_frame.lyrics.apply(basic_clean)"
   ]
  },
  {
   "cell_type": "code",
   "execution_count": null,
   "metadata": {},
   "outputs": [],
   "source": []
  },
  {
   "cell_type": "code",
   "execution_count": 37,
   "metadata": {},
   "outputs": [],
   "source": [
    "# collect the indices of those entries where the number of characters in the lyrics is below 400.\n",
    "# these entries will be dropped, since there many undesirable entries here\n",
    "short_index = clean_frame[clean_frame.lyrics.apply(lambda x: len(x)) < 400].index"
   ]
  },
  {
   "cell_type": "code",
   "execution_count": 41,
   "metadata": {},
   "outputs": [
    {
     "data": {
      "text/plain": [
       "array(['lyrics will come up in a bit',\n",
       "       'a gun is made in america every  seconds  of families with children keep loaded guns in the home in the united states more than ten children are killed by handguns every day guns are weapons dont destroy our childrens lifes',\n",
       "       ' do you want to get high man i see em does pinochio have wooden balls man well yo i got a joint ive been saving here for a special occasion ahh niggas bitches welcome a full tank of gas a pound of weed a bird called pinky to the east driver to the east funk doctor and the phino by the way this is protected by the red the track and tical with the key oh shit where the keys at',\n",
       "       'ladies and gentlemen i am your host clark dick we are live from times square in new york city and we are approaching the final seconds of  ladies and gentlemen the millennium is on its way  happy new explosion',\n",
       "       'in order to keep the broad youre gonna have to not do it to her body you got to do it to her mind man',\n",
       "       'whos your favorite group wu tang',\n",
       "       'yo meth im telling you right now man if you dont give me this fucking album these motherfuckers at polygram are gonna fucking fire me this is the check writer im gonna be the check bouncer in a second if you dont give me this fucking album',\n",
       "       'hey method man this is donald trump and um in palm beach and were all waiting for your album lets get going man everybodys waiting for this albumend this message',\n",
       "       'ladies and gentlemen i am your host clark dick we are live from times square in new york city and we are approaching the final seconds of  ladies and gentlemen the millennium is on its way  happy new explosion',\n",
       "       'what are you giving them back umm i think what im givin them back man is umm what they been waitin for yaknahmean  ummskills',\n",
       "       'instrumental',\n",
       "       'what are you giving them back umm i think what im givin them back man is umm what they been waitin for yaknahmean  ummskills',\n",
       "       'it feel good you know what i mean to uhh come back and and get embraced thats thats like the best part yknow bein bein gone for a while yknow walk through the streets yo ra yo when you comin out you gotta come out this and thatyknow so yknow i always want to come back had little setbacks but umm to comeback and get embraced man thats the best part',\n",
       "       'what are you giving them back umm i think what im givin them back man is umm what they been waitin for yaknahmean  ummskills',\n",
       "       'it feel good you know what i mean to uhh come back and and get embraced thats thats like the best part yknow bein bein gone for a while yknow walk through the streets yo ra yo when you comin out you gotta come out this and thatyknow so yknow i always want to come back had little setbacks but umm to comeback and get embraced man thats the best part',\n",
       "       'bobby warum bist du in unser land gekommen warum bist du in mein leben gekommen du hast meine frau gefickt meine kinder sind verrückt nach dir und ich bin so glücklich ha bobby bobby digital wer bist du wer bist du du bist im grunde ein teufel der in die hölle gehört aber eigentlich ein engel der aus dem himmel kommt bobby bobby bobby digital',\n",
       "       'goddam that dj made my dayeric b', '', '', '', '', '', '', '', '',\n",
       "       'please respond when i call your name alright kevin charles here jaris boykins here alicia simmons here phillip valdez here gabrielle salado here latoya bradberry right here antawn mitchell here shaquan sutton here cory thomas here tyron lucas here kennia codwellhere tanika marshall here lauryn hill lauryn hill lauryn hill walton spates heremusic fades',\n",
       "       'gimme the microphone', '', '',\n",
       "       'hello this is your midnight marauder program i am on the front of your cover i will be enhancing your cassettes and cds with certain facts that you may find beneficial the average bounce meter for your midnight marauder program will be in the area of  bpm we hope that you will find our presentation precise bass heavy and just right thanks',\n",
       "       'our goal is to break the power of the mob in america and nothing short of it we mean to end their profits imprison their members and cripple their organization',\n",
       "       'yeah like that thats what im saying thats what i mean about them skits like like guess whos back and all that nah nah fuck all that i aint gonna guess whats up nigga you hear it niggas  you know what im sayin keepin dirt for them niggas fuck everybody',\n",
       "       'our goal is to break the power of the mob in america and nothing short of it we mean to end their profits imprison their members and cripple their organization',\n",
       "       'yeah like that thats what im saying thats what i mean about them skits like like guess whos back and all that nah nah fuck all that i aint gonna guess whats up nigga you hear it niggas  you know what im sayin keepin dirt for them niggas fuck everybody',\n",
       "       'yeah uh is my peoples in the house is my peoples in the house yeah check it well light up your     light up your      light up your   yeah check it out check it out check it out   go dunn dunn    go dunn dunn',\n",
       "       '',\n",
       "       'bagagoombagi chant begins in the background redman wake up wake up redman wake up this is album three can you hear me this is dr trevis can you hear me you must stay focused you must focus your mindbagagoombagi  repeats  times to various junglebird sounds  redman continues to chant trex stomps around and makes noise in jurassic park',\n",
       "       'artist redman album dare iz a darkside song dr trevis signs offyo echoes weird hearbeat like soundsmaniacal laughter bell rings slowly then faster then slows againon the behalf of the knottyheaded nigga and the def squad force wed like to thank you for purchasin the new redman tape and hope you show the same love for us next go roundbell rings short phat beat is looped static',\n",
       "       'in los angeles… in los angeles law enforcement officers and troops are trying to make it a calm weekend in that troubled city as you know there has been now the death toll its up to  and thereve been perhaps  injured out there were gonna begin our coverage with jim hanchek standing by in los angeles jim reggie what the hell you doing here reggie come help me man no',\n",
       "       'laugh in the background okay redman take off your shirt and relax let off all your tensions out just relax just relax relax',\n",
       "       'once again ladies and gentlemen', '',\n",
       "       'the djs name is premier and im the guru the djs name is premier and im the guruwill you please will you please take your seats and clear the aisles',\n",
       "       '',\n",
       "       'heres a little story that must be told dj premier is in deep concentration give the man behind the wheels some credit transform can we hear your funky fresh scratching again clap a hand now people clap your hands dj premier is in deep concentration and we outta here moving on',\n",
       "       'video game noisestalking',\n",
       "       'so barry the fuckin prick bust into my office and he comes in and he storming and hes running around saying hey man i want my fucking royalty check man i want my money right now man i said listen hey we had a fucking contract alright we had a deal so he stole them this morning and i say listen aright whispering voice so i hit him boom boom angry man continues talking',\n",
       "       'the toenail licker nobody can rap slicker and as the record plays my pockets are getting thicker',\n",
       "       'yo tone play me some more pimp shitand you know mister cee when i was leaving my house this morning the young lady i was with she said to me big daddy dont go big daddy please please dont go i said baby i got to go take care of business and you know the romance with no finance is a damn nuisance aint that right ace',\n",
       "       'introducing ladies and gentlemen the young man thats had over thirtyfive soul classics among these classics are tunes that will never die tunes like funky i get raw set it off aint no halfsteppin ill take you there yo word to the mother the wrath of kane mister cee got a master plan this is the house that cee built yall',\n",
       "       'nappy heads ringtonepras hello wyclef yo pras its me pras wyclef whats the deal wyclef im just here at the car pras whats the deal wyclef im here to listenin track number  pras blunted on reality wyclef yeah pras ok man why you calling me wyclef im calling you to do a freestyle pras for real wyclef yeah pras ok man you start wyclef ok yo yo check it outwyclef raps into at the endboth laughs',\n",
       "       'club music crowd backgroundrashad yo yo let me turn out the music onturntables screech onrashad yo whats the deal its the dj rashad muhammad let me take over my gungun cockingrashad and we death bitchesgunshots crowd screamingrashad laughs',\n",
       "       'raise the dead protect your soul now its time for rock and roll',\n",
       "       'raise the dead protect your soul now its time for rock and roll',\n",
       "       'raise the dead protect your soul now its time for rock and roll',\n",
       "       'raise the dead protect your soul now its time for rock and roll',\n",
       "       'stunned remember me the one you got your idea fromblast here niggas still tripping off the shit i said last yearyou got to have style and learn to be originallook what we created and we made it for funbronx and every sucker mc had a responsecant forget new jersey',\n",
       "       ' were baaaaack  epmds back togethergun blast ahhhhhhhhhhhhh splash of body into water',\n",
       "       ' were baaaaack  epmds back togethergun blast ahhhhhhhhhhhhh splash of body into water',\n",
       "       '',\n",
       "       'bahamadia bahamadiabahamadia bahamadiabahamadia bahamadiabahamadia bahamadiabahamadia bahamadia',\n",
       "       'let us now discuss the mental attitude the mental must always stay calm you must let nothing move you be it good or badfor when the mental cannot be moved there is no longer good or bad there just is when there just is you have the power to form and shapeso now witness the wrath of the math tell me when you ready im ready',\n",
       "       '',\n",
       "       'instrumental intro track produced by dj premier  looped sample of yesterday by wes montgomery which is a cover of httpgeniuscomthebeatlesyesterdaylyrics',\n",
       "       'uh check it out walkin through the ghetto and the feelin is fine relaxation no frustration cause its time to get live one hand washes the other in these lonely streets no justice no peace and motherfuckers wont eat so we struggle and strive niggas just to stay alive i sense fear in these pussy rappers rhymin okay yo we speak what we feel and what we feel must be real baby pa you know the deal',\n",
       "       '', '',\n",
       "       'around the corner down the block and up the boulevard the oppressed will be saved from oppression the ghetto will be transafrikanedexpressed to the heavens the righteous playgrounds',\n",
       "       'the jungle brothers manyou see thats basically what jungle brothers are about surviving and helping others to survive',\n",
       "       'here we godont front word up scratching repeat dont front on the jimmy',\n",
       "       'the jungle brothers manyou see thats basically what jungle brothers are about surviving and helping others to survive',\n",
       "       'here we godont front word up scratching repeat dont front on the jimmy',\n",
       "       'i was raised in this society so theres no way you can expect me to be a perfect person cuz im a do what im a do i am still thirsty there is absolutly no reason for a record like this to be published it has no place in our society they gotta understand me withdraw on this record thats how i feel im a do whatever i like i am not a role model',\n",
       "       'funk gluteus maximus dreadlocks there are eight billion stories in the sunny meadowz this is just one of them',\n",
       "       'new truth seekers from all walks of life teachers should be unbiased on race creed sex economic background age and or every other usually opinionated options one might have in the brain free your mind and your ass will follow the kingdom of heaven is within',\n",
       "       '', '', 'its so real  it is real',\n",
       "       'packets man whats up what do you got sex packets brother  you need anything what you got lets see i got two sisters two redheads a strawberry blonde and a chinese girl give me the chinese girl ten dollars all right  man i got me a buddha packets',\n",
       "       '',\n",
       "       'thx sound goddamn hey wassup nigga oh shit wassup hey that motherfucker clean who was that hey thats dre nigga thats the look at that shit hangin that motherfucker goddamn that nigga chromed out up under that motherfucker hangin on the bumper x hey hang that shit what up dr dre',\n",
       "       '',\n",
       "       'the house of pain yo the time has come for everyone to clean up their own backyard before they go knocking on their neighbors door the house of pain is cleaning up sweeping up clocking up check it check yourself before you check another its the house of pain its the house of pain its the house of pain the house of pain',\n",
       "       'he who breaks the law goes back to the house of pain he who breaks the law goes back to the house of pain',\n",
       "       'stopthe law has been broken he who breaks the law shall be punished back to the house of pain back to the house of pain',\n",
       "       '', 'yeah hey yeah hey yeah hey ',\n",
       "       'he has done great things for me great things great things he has done great things for mehe has made a way for me made a way made a way he has made a way for mehe will give you victory victory victory he will give you victoryim gonna be a witness for him witness witness im gonna be a witness for himim gonna let my little light shine shine shine im gonna let my little light shine',\n",
       "       'oaktown', 'please add lyrics',\n",
       "       'brothers and sisters the pride is backblack is black im black and im proud you cant take that dont want to say it loud black is black brothers and sisters so we brought it back',\n",
       "       '                       lyrics for this song have yet to be released please check back once the song has been released                    ',\n",
       "       '                       lyrics for this song have yet to be released please check back once the song has been released                    ',\n",
       "       '                       lyrics for this song have yet to be released please check back once the song has been released                    ',\n",
       "       '                       lyrics for this song have yet to be released please check back once the song has been released                    ',\n",
       "       'instrumental interlude',\n",
       "       'aaaaalllllllllllll liiiiiiiiive  company all the way  baby baby baby baby baby baybay',\n",
       "       'baby baby baby baby its all good welcome back baby baby its all good baby baby its all good baby baby its all good baby baby its all good baby baby its all good baby baby its all good baby its all good its all',\n",
       "       '',\n",
       "       'ooh smooth scoobydoowow scoobydoowow scoobydoowow scoobydoowow ooh ooh scoobydoowow scoobydoowow',\n",
       "       'the big man just dropped this big hammer on the northwest tip and im readin the mail',\n",
       "       'i cant stay away i cant stay away i cant stay away i cant stay away i just cant stay away  i cant stay away i just cant stay away  i cant stay away i just cant stay away  i cant stay away cant stay the wayi cant stay away i cant stay away  cant stay away i cant stay away  aowwwwwwwwwwwww i cant stay away aowwwwooooohohahhhohahh',\n",
       "       'standin on the corner in a white godfather hat he drives a long black gangsta cadillac he can steal a broads mind man in three or four minutes its not how long you talk bruh its what you put in itlook out  for shorty the pimp yeah he walks with a limp cool man shorty the pimp echoes',\n",
       "       'marijuana plant is a hemp plant its used for many other things than just smokin one acre of hemp produces four times as much paper than an acre of treeslegalize it legalize itpot herb marijuanalegalize itevery denomination every color every religionlegalize itgeorge washington grew hemp on his farmlegalize itgenesis  i have given you all the seed bearing plants on earth to use',\n",
       "       'good evening morning afternoon wherever whosenever whatsenever we wouldnt give a damn we want to welcome you back into the house of gfunk hmm thats right since we last left ya we had went international and one thing we noticed about everywhere we went its a whole lotta folk funkin and dont know what the funk they funkin wit huh look out there now we came to bring it',\n",
       "       'the group reel tight in background check this out this is warren g chillin wit my homeboys reel tight thats how we doin it all night so screw your wig on tight smoke a joint take a shit cause we gonna rock this motherfucker tonightlaughs beitch echoes',\n",
       "       'good evenin i must repeat and cheat once again we gon talk about bitches and hoes there is somethin wrong with em especially now aha they want niggas aha to give em chronic aha and all that shit too aha but bitch aha i said bitch aha i aint gonna go for it aha not now aha not ever aha ahaaha aha lets raise the offerin',\n",
       "       'good evenin i must repeat and cheat once again we gon talk about bitches and hoes there is somethin wrong with em especially now aha they want niggas aha to give em chronic aha and all that shit too aha but bitch aha i said bitch aha i aint gonna go for it aha not now aha not ever aha ahaaha aha lets raise the offerin',\n",
       "       'good evenin i must repeat and cheat once again we gon talk about bitches and hoes there is somethin wrong with em especially now aha they want niggas aha to give em chronic aha and all that shit too aha but bitch aha i said bitch aha i aint gonna go for it aha not now aha not ever aha ahaaha aha lets raise the offerin',\n",
       "       'nigga here we go with the slow flow some new shit of the gangstas',\n",
       "       'this is dedicated to the niggas that was really down from day one cell door opens so much for death row',\n",
       "       'attention at this moment you are now listening to an icet lp if you are offended by words like shit  bitch  fuck  dick  ass  whore  cum dirty bitch  low motherfucker  nigga hooker  slut  tramp dirty low slut  tramp  bitch  whore nigga  fuck  shit  whatever take the tape out now this is not a pop album and by the way suck my motherfucking dick',\n",
       "       'i like that boy ok lou where we at sir ohhh this song right here did not make my album but this is my motherfucking theme song check it out rewind we can do that thats right ima get it on queue cuz ooosh we finna go in whenever you ready cuz im ready with it is this it',\n",
       "       '',\n",
       "       ' ay man who the hell is you man  we got a meetin goin on man we got a meetin goin on man we got a meetin man could you be quiet man  man who got the bud man  hold on hold on we got a meetin goin  ay who is you  aiyyo this likwid crew nigga this likwid crew  hey we got a meetin goin on and its started this thing started at  and you walked in here at  nigga whats your name',\n",
       "       'gangster guy ha ha mack  and ice cube  hurry your ass up nigga  dont make a move  yeah ha ha west side shit huh yeah yall dyin today  any last words  ha ha ha ha  before we drop yall ass in this waterice cube yeahmack  hell yeah we got some wordsgangster guy whatmack  nigga fuck you  this dubs west side nigga foelifeice cube yeahgangster guy throw they ass intwo splashesgangster guy laughing',\n",
       "       'whistling ay mack…ayo mack what man stop fuckin’ with them birds and come on we got some work to put in alright here i come…',\n",
       "       'ay man hold your muthafuckin’ dog nigga i got my muthafuckin’ dog i just seen you about to let him go—down nigga quit bitchin’ nigga—hold your muthafuckin’ mutt nigga just saw you about to let him go—just wait ay you put the money down man put your fuckin’ money down nigga my money right there… you better hold that muthafucka he gon’ tear his ass up…'],\n",
       "      dtype=object)"
      ]
     },
     "execution_count": 41,
     "metadata": {},
     "output_type": "execute_result"
    }
   ],
   "source": [
    "clean_frame[clean_frame.lyrics.apply(lambda x: len(x)) < 400].lyrics.values"
   ]
  },
  {
   "cell_type": "code",
   "execution_count": 38,
   "metadata": {},
   "outputs": [],
   "source": [
    "to_drop = short_index"
   ]
  },
  {
   "cell_type": "code",
   "execution_count": 23,
   "metadata": {},
   "outputs": [],
   "source": [
    "for i in to_drop:\n",
    "    clean_frame.drop(i, inplace=True)"
   ]
  },
  {
   "cell_type": "code",
   "execution_count": null,
   "metadata": {},
   "outputs": [],
   "source": []
  },
  {
   "cell_type": "code",
   "execution_count": 25,
   "metadata": {},
   "outputs": [
    {
     "data": {
      "text/plain": [
       "(2904, 2694)"
      ]
     },
     "execution_count": 25,
     "metadata": {},
     "output_type": "execute_result"
    }
   ],
   "source": [
    "len(clean_frame), len(clean_frame.drop_duplicates('lyrics'))"
   ]
  },
  {
   "cell_type": "code",
   "execution_count": 178,
   "metadata": {},
   "outputs": [],
   "source": [
    "# drop the duplicates (repeated song entries)\n",
    "clean_frame.drop_duplicates('lyrics', inplace=True)"
   ]
  },
  {
   "cell_type": "code",
   "execution_count": null,
   "metadata": {},
   "outputs": [],
   "source": []
  },
  {
   "cell_type": "code",
   "execution_count": 179,
   "metadata": {},
   "outputs": [
    {
     "data": {
      "text/plain": [
       "(1512, 1179)"
      ]
     },
     "execution_count": 179,
     "metadata": {},
     "output_type": "execute_result"
    }
   ],
   "source": [
    "len(clean_frame[clean_frame.coast == 'east']), len(clean_frame[clean_frame.coast == 'west'])"
   ]
  },
  {
   "cell_type": "code",
   "execution_count": null,
   "metadata": {},
   "outputs": [],
   "source": []
  },
  {
   "cell_type": "code",
   "execution_count": null,
   "metadata": {},
   "outputs": [],
   "source": []
  },
  {
   "cell_type": "code",
   "execution_count": 183,
   "metadata": {},
   "outputs": [],
   "source": [
    "whole_frame = whole_frame.loc[clean_frame.index]"
   ]
  },
  {
   "cell_type": "code",
   "execution_count": 187,
   "metadata": {},
   "outputs": [],
   "source": [
    "whole_frame.reset_index(drop=True, inplace=True)"
   ]
  },
  {
   "cell_type": "code",
   "execution_count": null,
   "metadata": {},
   "outputs": [],
   "source": []
  },
  {
   "cell_type": "code",
   "execution_count": 7,
   "metadata": {},
   "outputs": [],
   "source": [
    "# apply the basic clean\n",
    "whole_frame['lyrics'] = whole_frame['lyrics'].apply(basic_clean)"
   ]
  },
  {
   "cell_type": "code",
   "execution_count": 8,
   "metadata": {},
   "outputs": [
    {
     "name": "stdout",
     "output_type": "stream",
     "text": [
      "<class 'pandas.core.frame.DataFrame'>\n",
      "Int64Index: 2690 entries, 0 to 2689\n",
      "Data columns (total 3 columns):\n",
      " #   Column  Non-Null Count  Dtype \n",
      "---  ------  --------------  ----- \n",
      " 0   artist  2690 non-null   object\n",
      " 1   lyrics  2690 non-null   object\n",
      " 2   coast   2690 non-null   object\n",
      "dtypes: object(3)\n",
      "memory usage: 84.1+ KB\n"
     ]
    }
   ],
   "source": [
    "whole_frame.info()"
   ]
  },
  {
   "cell_type": "code",
   "execution_count": 9,
   "metadata": {},
   "outputs": [
    {
     "data": {
      "text/html": [
       "<div>\n",
       "<style scoped>\n",
       "    .dataframe tbody tr th:only-of-type {\n",
       "        vertical-align: middle;\n",
       "    }\n",
       "\n",
       "    .dataframe tbody tr th {\n",
       "        vertical-align: top;\n",
       "    }\n",
       "\n",
       "    .dataframe thead th {\n",
       "        text-align: right;\n",
       "    }\n",
       "</style>\n",
       "<table border=\"1\" class=\"dataframe\">\n",
       "  <thead>\n",
       "    <tr style=\"text-align: right;\">\n",
       "      <th></th>\n",
       "      <th>lyrics</th>\n",
       "      <th>coast</th>\n",
       "    </tr>\n",
       "    <tr>\n",
       "      <th>artist</th>\n",
       "      <th></th>\n",
       "      <th></th>\n",
       "    </tr>\n",
       "  </thead>\n",
       "  <tbody>\n",
       "    <tr>\n",
       "      <th>Bush Babees</th>\n",
       "      <td>7</td>\n",
       "      <td>7</td>\n",
       "    </tr>\n",
       "    <tr>\n",
       "      <th>People Under The Stairs</th>\n",
       "      <td>6</td>\n",
       "      <td>6</td>\n",
       "    </tr>\n",
       "    <tr>\n",
       "      <th>Westside Connection</th>\n",
       "      <td>9</td>\n",
       "      <td>9</td>\n",
       "    </tr>\n",
       "  </tbody>\n",
       "</table>\n",
       "</div>"
      ],
      "text/plain": [
       "                         lyrics  coast\n",
       "artist                                \n",
       "Bush Babees                   7      7\n",
       "People Under The Stairs       6      6\n",
       "Westside Connection           9      9"
      ]
     },
     "execution_count": 9,
     "metadata": {},
     "output_type": "execute_result"
    }
   ],
   "source": [
    "whole_frame.groupby('artist').count()[whole_frame.groupby('artist').count().lyrics < 10]"
   ]
  },
  {
   "cell_type": "code",
   "execution_count": 11,
   "metadata": {},
   "outputs": [
    {
     "data": {
      "text/plain": [
       "Series([], Name: lyrics, dtype: object)"
      ]
     },
     "execution_count": 11,
     "metadata": {},
     "output_type": "execute_result"
    }
   ],
   "source": [
    "whole_frame[whole_frame.artist == 'Grandmaster Caz'].lyrics\n",
    "# drop this entry."
   ]
  },
  {
   "cell_type": "code",
   "execution_count": null,
   "metadata": {},
   "outputs": [],
   "source": [
    "to_drop = whole_frame[whole_frame.artist == 'Grandmaster Caz'].index"
   ]
  },
  {
   "cell_type": "code",
   "execution_count": null,
   "metadata": {},
   "outputs": [],
   "source": [
    "whole_frame.drop(to_drop, inplace=True)\n",
    "whole_frame.reset_index(drop=True, inplace=True)"
   ]
  },
  {
   "cell_type": "code",
   "execution_count": null,
   "metadata": {},
   "outputs": [],
   "source": []
  },
  {
   "cell_type": "code",
   "execution_count": null,
   "metadata": {},
   "outputs": [],
   "source": []
  },
  {
   "cell_type": "code",
   "execution_count": null,
   "metadata": {},
   "outputs": [],
   "source": []
  },
  {
   "cell_type": "code",
   "execution_count": null,
   "metadata": {},
   "outputs": [],
   "source": []
  },
  {
   "cell_type": "code",
   "execution_count": null,
   "metadata": {},
   "outputs": [],
   "source": []
  },
  {
   "cell_type": "code",
   "execution_count": null,
   "metadata": {},
   "outputs": [],
   "source": []
  },
  {
   "cell_type": "code",
   "execution_count": 12,
   "metadata": {},
   "outputs": [],
   "source": [
    "whole_frame.to_csv('whole_frame.csv')\n",
    "# no basic clean now for the lyrics dataframe going forward..."
   ]
  },
  {
   "cell_type": "code",
   "execution_count": null,
   "metadata": {},
   "outputs": [],
   "source": []
  },
  {
   "cell_type": "markdown",
   "metadata": {},
   "source": [
    "**^^^^^^^^^^^^^^^^^^^^^^^^^^^^^^^^^^^^^^^^^^^^^^^^^^^^^^^^^^^^^^^^^^^^^^^^^^^^^^^^^^^^^^^^^^^^^^^^^^^^^^^^^^^^^^^^^^^^**"
   ]
  },
  {
   "cell_type": "markdown",
   "metadata": {},
   "source": [
    "**^^^^^^^^^^^^^^^^^^^^^^^^^^^^^^^^^^^^^^^^^^^^^^^^^^^^^^^^^^^^^^^^^^^^^^^^^^^^^^^^^^^^^^^^^^^^^^^^^^^^^^^^^^^^^^^^^^^^**"
   ]
  }
 ],
 "metadata": {
  "kernelspec": {
   "display_name": "Python 3",
   "language": "python",
   "name": "python3"
  },
  "language_info": {
   "codemirror_mode": {
    "name": "ipython",
    "version": 3
   },
   "file_extension": ".py",
   "mimetype": "text/x-python",
   "name": "python",
   "nbconvert_exporter": "python",
   "pygments_lexer": "ipython3",
   "version": "3.8.3"
  }
 },
 "nbformat": 4,
 "nbformat_minor": 4
}
